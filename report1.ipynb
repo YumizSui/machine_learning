{
 "cells": [
  {
   "cell_type": "markdown",
   "metadata": {
    "id": "dMM4Xwcd7zTA"
   },
   "source": [
    "# 演習問題\n",
    "\n",
    "与えられたニュースをカテゴリに仕分けする分類器（カテゴリ分類器）を構築したい．今回は，[livedoor ニュースコーパス](https://www.rondhuit.com/download.html)を用い，記事の本文やタイトルからその情報源を推定する分類器を構築する．\n",
    "\n",
    "+ トピックニュース: http://news.livedoor.com/category/vender/news/\n",
    "+ Sports Watch: http://news.livedoor.com/category/vender/208/\n",
    "+ ITライフハック: http://news.livedoor.com/category/vender/223/\n",
    "+ 家電チャンネル: http://news.livedoor.com/category/vender/kadench/\n",
    "+ MOVIE ENTER: http://news.livedoor.com/category/vender/movie_enter/\n",
    "+ 独女通信: http://news.livedoor.com/category/vender/90/\n",
    "+ エスマックス: http://news.livedoor.com/category/vender/smax/\n",
    "+ livedoor HOMME: http://news.livedoor.com/category/vender/homme/\n",
    "+ Peachy: http://news.livedoor.com/category/vender/ldgirls/\n",
    "\n",
    "\n",
    "なお，ニュースのカテゴリ分類は[ニュース・キュレーションサービスなどで実際に用いられている](https://webtan.impress.co.jp/e/2015/04/14/19666)技術である．今回の演習では，構築する分類器は線形識別器（多クラスロジスティック回帰など）に限定する（多層ニューラルネットワークや非線形サポートベクトルマシンを使ってはいけない）．"
   ]
  },
  {
   "cell_type": "markdown",
   "metadata": {
    "id": "9cJmFQTg7zTG"
   },
   "source": [
    "## 1. データのダウンロードと整形\n",
    "\n",
    "[livedoor ニュースコーパス](https://www.rondhuit.com/download.html)は[クリエイティブ・コモンズライセンス「表示 – 改変禁止」](https://creativecommons.org/licenses/by-nd/2.1/jp/)のライセンスで配布されているため，データを加工したものを再配布することができない．そこで，データのダウンロードから整形まで，各自の環境で実行する必要がある．データの整形を行う手順を以下に示すので，そのまま実行するだけでよい．ただし，この演習では全員が同じ学習データ，検証データ，評価データを用いたいので，以下の手順を改変することなく実行せよ．\n",
    "\n",
    "### 1.1. 訓練データ，検証データ，評価データの準備"
   ]
  },
  {
   "cell_type": "markdown",
   "metadata": {
    "id": "GermHoa77zTH"
   },
   "source": [
    "コーパスをダウンロード．"
   ]
  },
  {
   "cell_type": "code",
   "execution_count": 1,
   "metadata": {
    "colab": {
     "base_uri": "https://localhost:8080/"
    },
    "id": "vhiq2ygv7zTH",
    "outputId": "e1da6c07-4ca0-42f9-fb71-d5e6c7110751"
   },
   "outputs": [
    {
     "name": "stdout",
     "output_type": "stream",
     "text": [
      "--2020-12-26 12:29:57--  https://www.rondhuit.com/download/ldcc-20140209.tar.gz\n",
      "CA証明書 '/etc/ssl/certs/ca-certificates.crt' をロードしました\n",
      "www.rondhuit.com (www.rondhuit.com) をDNSに問いあわせています... 59.106.19.174\n",
      "www.rondhuit.com (www.rondhuit.com)|59.106.19.174|:443 に接続しています... 接続しました。\n",
      "HTTP による接続要求を送信しました、応答を待っています... 200 OK\n",
      "長さ: 8855190 (8.4M) [application/x-gzip]\n",
      "`ldcc-20140209.tar.gz' に保存中\n",
      "\n",
      "ldcc-20140209.tar.g 100%[===================>]   8.44M  32.0MB/s 時間 0.3s       \n",
      "\n",
      "2020-12-26 12:29:57 (32.0 MB/s) - `ldcc-20140209.tar.gz' へ保存完了 [8855190/8855190]\n",
      "\n"
     ]
    }
   ],
   "source": [
    "!wget https://www.rondhuit.com/download/ldcc-20140209.tar.gz"
   ]
  },
  {
   "cell_type": "markdown",
   "metadata": {
    "id": "NN3POqfk7zTJ"
   },
   "source": [
    "ダウンロードしたコーパスを解凍．"
   ]
  },
  {
   "cell_type": "code",
   "execution_count": 2,
   "metadata": {
    "id": "pgKnQku87zTK"
   },
   "outputs": [],
   "source": [
    "!tar -zxvf ldcc-20140209.tar.gz > /dev/null"
   ]
  },
  {
   "cell_type": "markdown",
   "metadata": {
    "id": "IRXVR7L07zTK"
   },
   "source": [
    "解凍したファイルを読み込み，記事のリストとしてデータ`D`を作成する．"
   ]
  },
  {
   "cell_type": "code",
   "execution_count": 3,
   "metadata": {
    "id": "FN3sOJev7zTK"
   },
   "outputs": [],
   "source": [
    "import pathlib\n",
    "\n",
    "D = []\n",
    "p = pathlib.Path('text')\n",
    "for d in p.iterdir():\n",
    "    if not d.is_dir():\n",
    "        continue\n",
    "    source = d.name\n",
    "    for fname in d.glob('*.txt'):\n",
    "        with open(fname) as fi:\n",
    "            url = fi.readline().strip()\n",
    "            timestamp = fi.readline().strip()\n",
    "            title = fi.readline().strip()\n",
    "            text = [line.strip() for line in fi if line.strip()]\n",
    "            D.append(\n",
    "                dict(source=source, url=url, timestamp=timestamp, title=title, text=text)\n",
    "                )"
   ]
  },
  {
   "cell_type": "markdown",
   "metadata": {
    "id": "_y08LPtH7zTL"
   },
   "source": [
    "訓練データ`Dtrain`, 検証データ`Ddev`，評価データ`Dtest`に分ける．"
   ]
  },
  {
   "cell_type": "code",
   "execution_count": 4,
   "metadata": {
    "id": "PYpQ8ulW7zTL"
   },
   "outputs": [],
   "source": [
    "D.sort(key=lambda x: x['url'])\n",
    "\n",
    "Dtrain = []\n",
    "Ddev = []\n",
    "Dtest = []\n",
    "\n",
    "for i, d in enumerate(D):\n",
    "    if i % 10 == 8:\n",
    "        Ddev.append(d)\n",
    "    elif i % 10 == 9:\n",
    "        Dtest.append(d)\n",
    "    else:\n",
    "        Dtrain.append(d)"
   ]
  },
  {
   "cell_type": "markdown",
   "metadata": {
    "id": "2QPxCRxW7zTM"
   },
   "source": [
    "コーパスを訓練データ，検証データ，評価データに正しく分割できたかを，ハッシュ値を用いてチェックする．もし，以下のコードを実行した時に**AssertionError例外が出た場合はそれまでの手順を変更してしまった可能性がある**（正常であれば\"OK\"と表示される）．どうしてもAssertionError例外が出る場合は連絡すること．"
   ]
  },
  {
   "cell_type": "code",
   "execution_count": 35,
   "metadata": {
    "colab": {
     "base_uri": "https://localhost:8080/"
    },
    "id": "wFNbvx1-7zTM",
    "outputId": "ace69405-5814-4f44-88bc-a60f7f73d72c"
   },
   "outputs": [
    {
     "name": "stdout",
     "output_type": "stream",
     "text": [
      "OK\n"
     ]
    }
   ],
   "source": [
    "import hashlib\n",
    "\n",
    "def compute_hash(D):\n",
    "    m = hashlib.sha256()\n",
    "    for d in D:\n",
    "        m.update(d['url'].encode('utf-8'))\n",
    "    return m.hexdigest()\n",
    "\n",
    "assert compute_hash(Dtrain) == 'f1294a19b25952e5b18510e3eb74c21be9d5d18a86c369d2d2639c9e5ea93d6c'\n",
    "assert compute_hash(Ddev) == '64f709e1e739ac880b8b7acc49ce342b60e80b804279bac68c5f27d08b5fb141'\n",
    "assert compute_hash(Dtest) == '4acf6822099a9e4cc5794cade26ae0ddd8df88ccc99690e7b48cdd8aa3bf1bcd'\n",
    "print(\"OK\")"
   ]
  },
  {
   "cell_type": "markdown",
   "metadata": {
    "id": "fQoWcCPT7zTM"
   },
   "source": [
    "### 1.2 日本語の分かち書き"
   ]
  },
  {
   "cell_type": "markdown",
   "metadata": {
    "id": "fZAYAjS77zTN"
   },
   "source": [
    "タイトルと本文の日本語を分かち書きするために，[MeCab](https://taku910.github.io/mecab/)をインストールする（mecab-python3の最新版は環境によってエラーが出るので，v0.996.5を指定してインストールしている）．"
   ]
  },
  {
   "cell_type": "code",
   "execution_count": 7,
   "metadata": {
    "colab": {
     "base_uri": "https://localhost:8080/"
    },
    "id": "AB4Fd0wv7zTN",
    "outputId": "5431d62f-b2e6-43be-9d4f-73f4a388b72c"
   },
   "outputs": [
    {
     "name": "stdout",
     "output_type": "stream",
     "text": [
      "Collecting mecab-python3==0.996.5\n",
      "  Downloading mecab_python3-0.996.5-cp38-cp38-manylinux2010_x86_64.whl (17.1 MB)\n",
      "\u001b[K     |████████████████████████████████| 17.1 MB 10.8 MB/s eta 0:00:01\n",
      "\u001b[?25hInstalling collected packages: mecab-python3\n",
      "Successfully installed mecab-python3-0.996.5\n"
     ]
    }
   ],
   "source": [
    "!pip install mecab-python3==0.996.5"
   ]
  },
  {
   "cell_type": "markdown",
   "metadata": {
    "id": "Qxhiv0Mq7zTN"
   },
   "source": [
    "タイトルと本文を単語（形態素）区切りで分割する．"
   ]
  },
  {
   "cell_type": "code",
   "execution_count": 9,
   "metadata": {
    "id": "g7TW18hI7zTO"
   },
   "outputs": [],
   "source": [
    "import MeCab\n",
    "tagger = MeCab.Tagger('-Owakati')\n",
    "def tokenize(s):\n",
    "    return tagger.parse(s).split()\n",
    "\n",
    "def add_tokenization(D):\n",
    "    for d in D:\n",
    "        d['title.tokenized'] = tokenize(d['title'])\n",
    "        d['text.tokenized'] = [tokenize(s) for s in d['text']]\n",
    "\n",
    "add_tokenization(Dtrain)\n",
    "add_tokenization(Ddev)\n",
    "add_tokenization(Dtest)"
   ]
  },
  {
   "cell_type": "markdown",
   "metadata": {
    "id": "yhURYrE97zTO"
   },
   "source": [
    "### 整形済みのデータをファイルに保存する場合\n",
    "\n",
    "もし，整形済みのデータをファイルに保存しておきたい場合は，以下のコードを実行して\"livedoor.json\"というファイルに保存する．ただし，Google Colaboratory上で実行している場合は，インスタンスが消滅すると保存したファイルも消えてしまうので，以下のいずれかで対応することになる．\n",
    "\n",
    "1. インスタンスを新たに立ち上げた（インスタンスがリセットされた）度に，これまでの処理を再実行する\n",
    "1. \"livedoor.json\"を自分のPCに保存しておき，インスタンスを立ち上げる毎にアップロードする\n",
    "1. \"livedoor.json\"を自分のGoogle Driveに保存しておき，インスタンスを立ち上げたときにマウントして読み込む"
   ]
  },
  {
   "cell_type": "code",
   "execution_count": 176,
   "metadata": {
    "id": "dSiGf7qi7zTO"
   },
   "outputs": [],
   "source": [
    "import json\n",
    "\n",
    "with open('livedoor.json', 'w') as fo:\n",
    "    json.dump(\n",
    "        dict(train=Dtrain, test=Dtest, dev=Ddev),\n",
    "        fo\n",
    "        )"
   ]
  },
  {
   "cell_type": "markdown",
   "metadata": {
    "id": "4nCBrzGJ7zTP"
   },
   "source": [
    "### 保存された整形済みのデータを読み込む"
   ]
  },
  {
   "cell_type": "code",
   "execution_count": 1,
   "metadata": {
    "id": "dhIIhPSI7zTP"
   },
   "outputs": [],
   "source": [
    "import json\n",
    "\n",
    "with open('livedoor.json') as fi:\n",
    "    D = json.load(fi)\n",
    "    \n",
    "Dtrain = D['train']\n",
    "Ddev = D['dev']\n",
    "Dtest = D['test']"
   ]
  },
  {
   "cell_type": "markdown",
   "metadata": {
    "id": "DUNXbkVc7zTP"
   },
   "source": [
    "## 作成されたデータの確認\n",
    "\n",
    "訓練データの先頭の事例を表示してみる．各訓練データは，以下のような辞書で表現される．各フィールドの意味は以下の通りである．\n",
    "\n",
    "+ `source`: 記事のカテゴリ\n",
    "+ `url`: 記事のURL\n",
    "+ `timestamp`: 記事の発行日時\n",
    "+ `title`: 記事のタイトル\n",
    "+ `text`: 記事の本文（段落（文字列）を要素としたリスト形式\n",
    "+ `title.tokenized`: 記事のタイトルをMeCabで分かち書きしたもの\n",
    "+ `text.tokenized`: 記事の本文を分かち書きしたもの．段落が単語のリストとして表現され，その段落のリストを格納している\n",
    "\n",
    "`source`フィールドのクラスを目的変数とみなし，それ以外のフィールドの情報から目的変数を予測する高性能なモデルを構築するのが，今回の演習の趣旨である．"
   ]
  },
  {
   "cell_type": "code",
   "execution_count": 18,
   "metadata": {
    "colab": {
     "base_uri": "https://localhost:8080/"
    },
    "id": "lYKSLHoJ7zTP",
    "outputId": "2b437d7f-d425-402c-90c1-97ed7fd7272d"
   },
   "outputs": [
    {
     "data": {
      "text/plain": [
       "{'source': 'peachy',\n",
       " 'url': 'http://news.livedoor.com/article/detail/6684605/',\n",
       " 'timestamp': '2000-06-25T15:45:00+0900',\n",
       " 'title': 'キーワードは「カワイク＆賢く！」イマドキスマホ女子に人気のスマホグッズ紹介',\n",
       " 'text': ['・カカオチョコレート',\n",
       "  '・ウサギケース ラビットしっぽ',\n",
       "  '・フォンピアス\\u3000イヤホンジャックアクセサリー\\u3000クマ',\n",
       "  '・ブラウンポンポンゴールド スマートフォンアクセ'],\n",
       " 'title.tokenized': ['キーワード',\n",
       "  'は',\n",
       "  '「',\n",
       "  'カワイク',\n",
       "  '＆',\n",
       "  '賢く',\n",
       "  '！',\n",
       "  '」',\n",
       "  'イマドキスマホ',\n",
       "  '女子',\n",
       "  'に',\n",
       "  '人気',\n",
       "  'の',\n",
       "  'スマホグッズ',\n",
       "  '紹介'],\n",
       " 'text.tokenized': [['・', 'カカオ', 'チョコレート'],\n",
       "  ['・', 'ウサギ', 'ケース', 'ラビット', 'しっぽ'],\n",
       "  ['・', 'フォン', 'ピアス', 'イヤホンジャックアクセサリー', 'クマ'],\n",
       "  ['・', 'ブラウンポンポンゴールド', 'スマートフォンアクセ']]}"
      ]
     },
     "execution_count": 18,
     "metadata": {},
     "output_type": "execute_result"
    }
   ],
   "source": [
    "Dtrain[4749]"
   ]
  },
  {
   "cell_type": "markdown",
   "metadata": {
    "id": "RHC2Th5MruNd"
   },
   "source": [
    "## 2. 単語の出現頻度による特徴量ベクトル\n",
    "\n",
    "学習データ`Dtrain`に含まれる任意の事例に対して，分かち書きされたテキスト（`text.tokenized`）に含まれる単語の出現頻度を計測し，単語から頻度への連想配列（辞書）形式のオブジェクトに格納せよ（小レポート1 7-1を参考にせよ）．例として，`Dtrain[3521]`の学習事例のテキストに対して，単語の出現頻度を計測した結果の一部を示す．\n",
    "\n",
    "```\n",
    "{'4': 1,\n",
    " '月': 2,\n",
    " '19': 1,\n",
    " '日': 1,\n",
    " '（': 3,\n",
    " '）': 3,\n",
    " 'より': 1,\n",
    " ...\n",
    " '類': 1,\n",
    " 'と': 1,\n",
    " 'なる': 1}\n",
    "```"
   ]
  },
  {
   "cell_type": "code",
   "execution_count": 3,
   "metadata": {},
   "outputs": [],
   "source": [
    "from collections import defaultdict"
   ]
  },
  {
   "cell_type": "code",
   "execution_count": 4,
   "metadata": {},
   "outputs": [],
   "source": [
    "def token2vec(token):\n",
    "    vec = defaultdict(int)\n",
    "    for sentence in token:\n",
    "        for word in sentence:\n",
    "                vec[word] += 1\n",
    "    return vec"
   ]
  },
  {
   "cell_type": "code",
   "execution_count": 126,
   "metadata": {
    "id": "FfPXZTtzvoij"
   },
   "outputs": [
    {
     "data": {
      "text/plain": [
       "defaultdict(int,\n",
       "            {'4': 1,\n",
       "             '月': 2,\n",
       "             '19': 1,\n",
       "             '日': 1,\n",
       "             '（': 3,\n",
       "             '）': 3,\n",
       "             'より': 1,\n",
       "             '、': 6,\n",
       "             '神戸': 1,\n",
       "             '大丸': 1,\n",
       "             'インテリア': 1,\n",
       "             '専門': 1,\n",
       "             '館': 1,\n",
       "             '「': 2,\n",
       "             'ミュゼエール': 1,\n",
       "             '＠': 1,\n",
       "             '六甲': 1,\n",
       "             'アイランド': 1,\n",
       "             '」': 2,\n",
       "             '2': 1,\n",
       "             '階': 1,\n",
       "             'で': 2,\n",
       "             'は': 3,\n",
       "             'ヨーロッパ': 1,\n",
       "             '最大': 1,\n",
       "             'の': 2,\n",
       "             'フィットネスマシンメーカー': 1,\n",
       "             'テクノ': 1,\n",
       "             'ジム': 1,\n",
       "             '社': 1,\n",
       "             'パートナー': 1,\n",
       "             'ショールーム': 1,\n",
       "             'が': 1,\n",
       "             '関西': 1,\n",
       "             '初めて': 1,\n",
       "             '開設': 1,\n",
       "             'さ': 1,\n",
       "             'れる': 1,\n",
       "             '。': 2,\n",
       "             '展示': 1,\n",
       "             '品': 1,\n",
       "             'キネシス・パーソナル': 1,\n",
       "             'Vision': 1,\n",
       "             'ユニカ': 1,\n",
       "             'Black': 2,\n",
       "             '／': 1,\n",
       "             'Recline': 1,\n",
       "             'Forma': 1,\n",
       "             'アクセサリー': 1,\n",
       "             '類': 1,\n",
       "             'と': 1,\n",
       "             'なる': 1})"
      ]
     },
     "execution_count": 126,
     "metadata": {},
     "output_type": "execute_result"
    }
   ],
   "source": [
    "token = Dtrain[238]['text.tokenized']\n",
    "token2vec(token)"
   ]
  },
  {
   "cell_type": "markdown",
   "metadata": {
    "id": "nutbuifI7zTQ"
   },
   "source": [
    "## 3. 線形分類モデルの学習\n",
    "\n",
    "2.で構築したプログラムを使い，学習データ`Dtrain`の分かち書きされたテキスト（`text.tokenized`）に含まれる単語の頻度を特徴量ベクトル$\\pmb{x}$として，目的変数（情報源である`source`フィールド）を予測する線形識別モデルを学習せよ．\n",
    "\n",
    "ヒント\n",
    "+ 線形分類モデルの実装に[sklearn.linear_model.SGDClassifier](https://scikit-learn.org/stable/modules/generated/sklearn.linear_model.SGDClassifier.html)を使う場合は，単語とクラス名を自然数のID番号に変換し，学習事例を`np.array`に変換する必要がある．この変換には，小レポート1 7-2が参考になるし，[sklearn.feature_extraction.DictVectorizer](https://scikit-learn.org/stable/modules/generated/sklearn.feature_extraction.DictVectorizer.html)および[sklearn.preprocessing.LabelEncoder](https://scikit-learn.org/stable/modules/generated/sklearn.preprocessing.LabelEncoder.html)を使ってもよい．\n",
    "+ 特徴量の空間，すなわち線形分類モデルが扱うことのできる単語集合は訓練データ中に含まれる全ての単語とすればよい．\n",
    "+ 訓練データ中には出現しなかったが，検証データや評価データのみに出現する単語がある．そのような単語（OOV: out-of-vocabulary）は無視すればよい．"
   ]
  },
  {
   "cell_type": "code",
   "execution_count": 5,
   "metadata": {
    "id": "FqQNuhWV7zTQ"
   },
   "outputs": [],
   "source": [
    "from sklearn.linear_model import SGDClassifier\n",
    "from sklearn.feature_extraction import DictVectorizer\n",
    "from sklearn import preprocessing\n",
    "\n",
    "import numpy as np"
   ]
  },
  {
   "cell_type": "code",
   "execution_count": 68,
   "metadata": {},
   "outputs": [],
   "source": [
    "def token2vec(token):\n",
    "    vec = defaultdict(int)\n",
    "    for sentence in token:\n",
    "        for word in sentence:\n",
    "                vec[word] += 1\n",
    "    return vec"
   ]
  },
  {
   "cell_type": "code",
   "execution_count": 87,
   "metadata": {},
   "outputs": [],
   "source": [
    "train_vec = [token2vec(data['text.tokenized']) for data in Dtrain]\n",
    "dev_vec = [token2vec(data['text.tokenized']) for data in Ddev]\n",
    "test_vec = [token2vec(data['text.tokenized']) for data in Dtest]"
   ]
  },
  {
   "cell_type": "code",
   "execution_count": 88,
   "metadata": {},
   "outputs": [],
   "source": [
    "# word to IDVec\n",
    "VX = DictVectorizer()\n",
    "Xtrain = VX.fit_transform(train_vec).toarray()\n",
    "Xdev = VX.transform(dev_vec).toarray()\n",
    "Xtest = VX.transform(test_vec).toarray()"
   ]
  },
  {
   "cell_type": "code",
   "execution_count": 98,
   "metadata": {},
   "outputs": [],
   "source": [
    "# source to ID\n",
    "VY = preprocessing.LabelEncoder()\n",
    "Ytrain = VY.fit_transform([data['source'] for data in Dtrain])\n",
    "Ydev = VY.transform([data['source'] for data in Ddev])\n",
    "Ytest = VY.transform([data['source'] for data in Dtest])"
   ]
  },
  {
   "cell_type": "code",
   "execution_count": 138,
   "metadata": {},
   "outputs": [
    {
     "data": {
      "text/plain": [
       "SGDClassifier(loss='log')"
      ]
     },
     "execution_count": 138,
     "metadata": {},
     "output_type": "execute_result"
    }
   ],
   "source": [
    "model = SGDClassifier(loss='log')\n",
    "model.fit(Xtrain, Ytrain)"
   ]
  },
  {
   "cell_type": "code",
   "execution_count": 139,
   "metadata": {},
   "outputs": [],
   "source": [
    "#model をpickle化\n",
    "import pickle\n",
    "\n",
    "with open('SGD_loss-log_1226.pickle', 'wb') as f:\n",
    "    pickle.dump(model, f)"
   ]
  },
  {
   "cell_type": "code",
   "execution_count": 140,
   "metadata": {},
   "outputs": [
    {
     "data": {
      "text/plain": [
       "0.994747543205693"
      ]
     },
     "execution_count": 140,
     "metadata": {},
     "output_type": "execute_result"
    }
   ],
   "source": [
    "Ytrain_pred=model.predict(Xtrain)\n",
    "model.score(Xtrain, Ytrain)"
   ]
  },
  {
   "cell_type": "markdown",
   "metadata": {
    "id": "QFZWBAY37zTQ"
   },
   "source": [
    "## 4. 検証データ上での正解率\n",
    "\n",
    "3で学習したモデルの検証データ上での正解率を求めよ．"
   ]
  },
  {
   "cell_type": "code",
   "execution_count": 141,
   "metadata": {
    "id": "PswMACjq7zTQ"
   },
   "outputs": [
    {
     "data": {
      "text/plain": [
       "0.937584803256445"
      ]
     },
     "execution_count": 141,
     "metadata": {},
     "output_type": "execute_result"
    }
   ],
   "source": [
    "model.score(Xdev,Ydev)"
   ]
  },
  {
   "cell_type": "markdown",
   "metadata": {
    "id": "fcmjema37zTR"
   },
   "source": [
    "## 5. 検証データ上でのマクロ平均適合率，再現率，F1スコア\n",
    "\n",
    "3で学習したモデルの検証データ上での適合率，再現率，F1スコアを求めよ．ただし，これらの指標を求めるときは，マクロ平均を用いよ．"
   ]
  },
  {
   "cell_type": "code",
   "execution_count": 6,
   "metadata": {
    "id": "N9kXbYOu7zTR"
   },
   "outputs": [],
   "source": [
    "from sklearn.metrics import recall_score, precision_score, f1_score"
   ]
  },
  {
   "cell_type": "code",
   "execution_count": 142,
   "metadata": {},
   "outputs": [],
   "source": [
    "Ydev_pred=model.predict(Xdev)"
   ]
  },
  {
   "cell_type": "code",
   "execution_count": 143,
   "metadata": {},
   "outputs": [
    {
     "data": {
      "text/plain": [
       "0.9360393590673417"
      ]
     },
     "execution_count": 143,
     "metadata": {},
     "output_type": "execute_result"
    }
   ],
   "source": [
    "precision_score(Ydev, Ydev_pred, average='macro')"
   ]
  },
  {
   "cell_type": "code",
   "execution_count": 144,
   "metadata": {},
   "outputs": [
    {
     "data": {
      "text/plain": [
       "0.9283801510999806"
      ]
     },
     "execution_count": 144,
     "metadata": {},
     "output_type": "execute_result"
    }
   ],
   "source": [
    "recall_score(Ydev, Ydev_pred, average='macro')"
   ]
  },
  {
   "cell_type": "code",
   "execution_count": 145,
   "metadata": {},
   "outputs": [
    {
     "data": {
      "text/plain": [
       "0.930737047396014"
      ]
     },
     "execution_count": 145,
     "metadata": {},
     "output_type": "execute_result"
    }
   ],
   "source": [
    "f1_score(Ydev, Ydev_pred, average='macro')"
   ]
  },
  {
   "cell_type": "markdown",
   "metadata": {
    "id": "_9sqUAGs7zTR"
   },
   "source": [
    "## 6. 検証データ上での混同行列\n",
    "\n",
    "3で学習したモデルの検証データ上での混同行列を求めよ．"
   ]
  },
  {
   "cell_type": "code",
   "execution_count": 7,
   "metadata": {
    "id": "CrhjIdsP7zTR"
   },
   "outputs": [],
   "source": [
    "from sklearn.metrics import confusion_matrix"
   ]
  },
  {
   "cell_type": "code",
   "execution_count": 146,
   "metadata": {},
   "outputs": [
    {
     "data": {
      "text/plain": [
       "array([[90,  0,  0,  1,  1,  2,  0,  0,  0],\n",
       "       [ 0, 78,  2,  0,  1,  0,  1,  2,  0],\n",
       "       [ 0,  1, 85,  0,  0,  0,  0,  1,  1],\n",
       "       [ 0,  1,  4, 39,  5,  3,  1,  1,  0],\n",
       "       [ 0,  0,  1,  0, 77,  2,  0,  1,  1],\n",
       "       [ 2,  0,  0,  3,  0, 73,  0,  0,  0],\n",
       "       [ 0,  0,  1,  0,  0,  1, 81,  0,  0],\n",
       "       [ 0,  0,  0,  0,  0,  0,  0, 92,  3],\n",
       "       [ 0,  0,  1,  0,  0,  1,  0,  1, 76]])"
      ]
     },
     "execution_count": 146,
     "metadata": {},
     "output_type": "execute_result"
    }
   ],
   "source": [
    "confusion_matrix(Ydev, Ydev_pred)"
   ]
  },
  {
   "cell_type": "markdown",
   "metadata": {
    "id": "MTsxjdP_7zTS"
   },
   "source": [
    "## 7. 事例の分類 (*)\n",
    "\n",
    "3で学習したモデルを用い，検証データの先頭の事例のクラスを予測し，表示せよ．"
   ]
  },
  {
   "cell_type": "code",
   "execution_count": 147,
   "metadata": {},
   "outputs": [
    {
     "data": {
      "text/plain": [
       "array(['dokujo-tsushin', 'it-life-hack', 'kaden-channel',\n",
       "       'livedoor-homme', 'movie-enter', 'peachy', 'smax', 'sports-watch',\n",
       "       'topic-news'], dtype='<U14')"
      ]
     },
     "execution_count": 147,
     "metadata": {},
     "output_type": "execute_result"
    }
   ],
   "source": [
    "VY.classes_"
   ]
  },
  {
   "cell_type": "code",
   "execution_count": 148,
   "metadata": {
    "id": "xa4I0jGK7zTS"
   },
   "outputs": [
    {
     "name": "stdout",
     "output_type": "stream",
     "text": [
      "pred: 5, peachy\n",
      "true: 5, peachy\n"
     ]
    }
   ],
   "source": [
    "print(f'pred: {Ydev_pred[0]}, {VY.classes_[Ydev_pred[0]]}')\n",
    "print(f'true: {Ydev[0]}, {VY.classes_[Ydev[0]]}')"
   ]
  },
  {
   "cell_type": "markdown",
   "metadata": {
    "id": "nbqCXM0E7zTS"
   },
   "source": [
    "## 8. クラスと確率の表示 (*)\n",
    "\n",
    "3で学習したモデルを用い，検証データの先頭の事例に対して，各クラスに分類される確率（条件付き確率）を求めよ．"
   ]
  },
  {
   "cell_type": "code",
   "execution_count": 149,
   "metadata": {
    "id": "E5Rd41TW7zTT"
   },
   "outputs": [
    {
     "data": {
      "text/plain": [
       "array([[1.32249729e-025, 2.43165634e-186, 5.60295358e-124,\n",
       "        9.06614257e-289, 1.38627054e-226, 1.00000000e+000,\n",
       "        0.00000000e+000, 9.65786427e-278, 1.22413911e-109]])"
      ]
     },
     "execution_count": 149,
     "metadata": {},
     "output_type": "execute_result"
    }
   ],
   "source": [
    "model.predict_proba(Xdev[0:1])"
   ]
  },
  {
   "cell_type": "markdown",
   "metadata": {
    "id": "OPcq1vSN7zTT"
   },
   "source": [
    "## 9. 検証データをターゲットとした性能向上 (**)\n",
    "\n",
    "カテゴリ分類器のハイパーパラメータや記事からの特徴量抽出を工夫し，検証データ上でのF1スコアが最も高くなるカテゴリ分類器を見つけよ．工夫においてどのような方針でモデルを検討・実験し，その中でどのモデルの性能が最も良かったのか，説明せよ（Markdown形式で記述せよ）．さらに，検討した中で性能が最も高いカテゴリ分類器を学習するプログラムと，その分類器の評価データ上での適合率，再現率，F1スコアを報告せよ．\n",
    "\n",
    "+ 識別モデルの学習パラメータ（L2正則化の係数など）に加えて，記事の特徴量などにも工夫する余地がある．\n",
    "+ 必要であれば1.2以降の処理を変更し，単語の分かち書きの方法を変えてもよい\n",
    "+ 学習データ，検証データ，評価データの分け方を変更してはならない（1.1までの手順は変更不可）\n",
    "+ 言うまでもないが，評価データでカテゴリ分類器を学習してはいけない"
   ]
  },
  {
   "cell_type": "markdown",
   "metadata": {},
   "source": [
    "今回は以下のような処理を行って`SGDClassifier`によるカテゴリ分類器を学習した．\n",
    "- 前処理を行う\n",
    "    - 助詞や助動詞などは無視する\n",
    "    - 数値以外は原形にする\n",
    "    - 記事本文だけでなくタイトルも用いている（タイトルを本文の先頭に結合）\n",
    "    - urlは正規表現で除去\n",
    "- TFIDFVectorizerを用いて単語をベクトル化する\n",
    "    - CountVectorizerなど様々な方法を試した中で最も良かった方法がTF-IDFによる方法だった\n",
    "    - `max_df`や`min_df`などを指定して不要な語彙を省く\n",
    "- optunaでパラメータチューニング\n",
    "    - 正則化項に関するパラメータ`alpha`と`L1_ratio`についてチューニングする\n",
    "    - 検証データを用いてチューニングする場合と，訓練データのみを用いて交差検証によるチューニングの両方を試した結果，前者のほうが良いスコアが出たためこちらを採用した\n",
    "- 最適なパラメータでのfittingを100回施行し，最も検証データのf1スコアが高かったモデルを採用する\n",
    "\n",
    "最も検証データが良かった結果は，`params = {'alpha': 4.2842570078130996e-07, 'l1_ratio': 0.0014625643848466556}`のとき\n",
    "\n",
    "|       | accuracy | precision | recall | f1_score |\n",
    "| ----- | -------- | --------- | ------ | ---------- |\n",
    "| train | 1.0      | 1.0       | 1.0    | 1.0        |\n",
    "| dev   | 0.972    | 0.971     | 0.967  | 0.968      |\n",
    "| test  | 0.970    | 0.968     | 0.965  | 0.967      |\n",
    "\n",
    "である．"
   ]
  },
  {
   "cell_type": "markdown",
   "metadata": {},
   "source": [
    "また，混同行列は，"
   ]
  },
  {
   "cell_type": "code",
   "execution_count": 68,
   "metadata": {},
   "outputs": [
    {
     "data": {
      "text/plain": [
       "array([[90,  0,  0,  0,  1,  3,  0,  0,  0],\n",
       "       [ 0, 84,  0,  0,  0,  0,  0,  0,  0],\n",
       "       [ 0,  0, 88,  0,  0,  0,  0,  0,  0],\n",
       "       [ 1,  0,  0, 47,  2,  3,  1,  0,  0],\n",
       "       [ 0,  0,  0,  0, 81,  1,  0,  0,  0],\n",
       "       [ 0,  0,  0,  1,  2, 75,  0,  0,  0],\n",
       "       [ 0,  0,  2,  0,  0,  0, 81,  0,  0],\n",
       "       [ 0,  0,  0,  0,  0,  0,  0, 95,  0],\n",
       "       [ 0,  0,  0,  1,  0,  1,  0,  2, 75]])"
      ]
     },
     "execution_count": 68,
     "metadata": {},
     "output_type": "execute_result"
    }
   ],
   "source": [
    "confusion_matrix(Ydev, Ydev_pred)"
   ]
  },
  {
   "cell_type": "code",
   "execution_count": 107,
   "metadata": {},
   "outputs": [
    {
     "name": "stdout",
     "output_type": "stream",
     "text": [
      "precision:[0.96703297 0.98809524 0.96666667 0.93877551 0.95294118 0.90123457\n",
      " 0.97590361 0.96907216 0.96103896]\n",
      "recall_score:[0.93617021 0.98809524 0.98863636 0.85185185 0.98780488 0.93589744\n",
      " 0.97590361 0.98947368 0.93670886]\n",
      "f1_score:[0.95135135 0.98809524 0.97752809 0.89320388 0.97005988 0.91823899\n",
      " 0.97590361 0.97916667 0.94871795]\n"
     ]
    }
   ],
   "source": [
    "print(f'precision:{precision_score(Ydev, Ydev_pred, average=None)}')\n",
    "print(f'recall_score:{recall_score(Ydev, Ydev_pred, average=None)}')\n",
    "print(f'f1_score:{f1_score(Ydev, Ydev_pred, average=None)}')"
   ]
  },
  {
   "cell_type": "markdown",
   "metadata": {},
   "source": [
    "上のように，3番目（`livedoor-homme`）の再現率が低い．\n",
    "\n",
    "実際訓練データについても`livedoor-homme`の要素数が最も少ないため，学習が進まなかったのだと考えられる．"
   ]
  },
  {
   "cell_type": "code",
   "execution_count": 123,
   "metadata": {},
   "outputs": [
    {
     "name": "stdout",
     "output_type": "stream",
     "text": [
      "0: 685\tdokujo-tsushin\n",
      "1: 694\tit-life-hack\n",
      "2: 697\tkaden-channel\n",
      "3: 405\tlivedoor-homme\n",
      "4: 694\tmovie-enter\n",
      "5: 687\tpeachy\n",
      "6: 712\tsmax\n",
      "7: 714\tsports-watch\n",
      "8: 614\ttopic-news\n"
     ]
    }
   ],
   "source": [
    "for i in range(len(VY.classes_)):\n",
    "    print(f'{i}: {len(np.where(Ytrain == i)[0])}\\t{VY.classes_[i]}')"
   ]
  },
  {
   "cell_type": "markdown",
   "metadata": {},
   "source": [
    "そこで，`class_weight='balanced'`を指定して同じように学習すると性能が上がると考えたが，以下のようにテストデータの性能は下がっている．\n",
    "\n",
    "(`{'alpha': 6.246369486906041e-07, 'l1_ratio': 0.0005504654723293009}`)\n",
    "\n",
    "|       | accuracy | precision | recall | f1_measure |\n",
    "| ----- | -------- | --------- | ------ | ---------- |\n",
    "| train | 1.000      | 1.000       | 1.000    | 1.000        |\n",
    "| dev   | 0.973    | 0.972     | 0.969  | 0.970      |\n",
    "| test  | 0.966    | 0.965     | 0.961  | 0.963      |\n",
    "\n",
    "また，混同行列は，３番め目の分類についてごく僅かに改善の傾向が見られるが，誤差の範囲である．"
   ]
  },
  {
   "cell_type": "code",
   "execution_count": 147,
   "metadata": {},
   "outputs": [
    {
     "data": {
      "text/plain": [
       "array([[91,  0,  0,  1,  0,  2,  0,  0,  0],\n",
       "       [ 0, 84,  0,  0,  0,  0,  0,  0,  0],\n",
       "       [ 0,  0, 88,  0,  0,  0,  0,  0,  0],\n",
       "       [ 0,  2,  0, 48,  2,  2,  0,  0,  0],\n",
       "       [ 0,  0,  0,  0, 81,  1,  0,  0,  0],\n",
       "       [ 1,  0,  0,  1,  2, 74,  0,  0,  0],\n",
       "       [ 0,  0,  2,  0,  0,  0, 81,  0,  0],\n",
       "       [ 0,  0,  0,  0,  0,  0,  0, 94,  1],\n",
       "       [ 0,  0,  0,  0,  0,  1,  0,  2, 76]])"
      ]
     },
     "execution_count": 147,
     "metadata": {},
     "output_type": "execute_result"
    }
   ],
   "source": [
    "confusion_matrix(Ydev, Ydev_pred)"
   ]
  },
  {
   "cell_type": "markdown",
   "metadata": {},
   "source": [
    "## TRIAL"
   ]
  },
  {
   "cell_type": "code",
   "execution_count": 2,
   "metadata": {},
   "outputs": [],
   "source": [
    "#用いたライブラリ．　一部使用していないものもある\n",
    "\n",
    "from sklearn.metrics import recall_score, precision_score, f1_score, confusion_matrix\n",
    "from sklearn.model_selection import cross_validate, StratifiedKFold\n",
    "\n",
    "from sklearn.linear_model import SGDClassifier\n",
    "from sklearn.feature_extraction import DictVectorizer\n",
    "from sklearn.feature_extraction.text import CountVectorizer, TfidfVectorizer\n",
    "from sklearn import preprocessing\n",
    "\n",
    "from sklearn.preprocessing import StandardScaler\n",
    "\n",
    "import optuna\n",
    "from collections import defaultdict\n",
    "import numpy as np\n",
    "import re\n",
    "\n",
    "import neologdn\n",
    "import umap\n",
    "from sklearn.decomposition import TruncatedSVD"
   ]
  },
  {
   "cell_type": "code",
   "execution_count": 69,
   "metadata": {},
   "outputs": [],
   "source": [
    "# データ読込\n",
    "import json\n",
    "\n",
    "with open('livedoor.json') as fi:\n",
    "    D = json.load(fi)\n",
    "    \n",
    "Dtrain = D['train']\n",
    "Ddev = D['dev']\n",
    "Dtest = D['test']"
   ]
  },
  {
   "cell_type": "code",
   "execution_count": 23,
   "metadata": {},
   "outputs": [],
   "source": [
    "# 標準化\n",
    "# 今回はあまり効果が出ないので用いていない\n",
    "ss_X = StandardScaler()\n",
    "Xtrain_ = ss_X.fit_transform(Xtrain)\n",
    "Xdev_ = ss_X.transform(Xdev)\n",
    "Xtest_ = ss_X.transform(Xtest)"
   ]
  },
  {
   "cell_type": "code",
   "execution_count": 3,
   "metadata": {},
   "outputs": [],
   "source": [
    "import MeCab\n",
    "tagger = MeCab.Tagger('-Owakati')\n",
    "\n",
    "# mecab-ipadic-neologdを使っても性能が出なかった\n",
    "# neologd = MeCab.Tagger('-d /usr/lib/mecab/dic/mecab-ipadic-neologd')\n",
    "# neologd.parse('') \n",
    "\n",
    "def tokenize(s):\n",
    "    return tagger.parse(s).split()\n",
    "\n",
    "def token2vec(token):\n",
    "    vec = defaultdict(int)\n",
    "    for sentence in token:\n",
    "        for word in sentence:\n",
    "                vec[word] += 1\n",
    "    return vec"
   ]
  },
  {
   "cell_type": "code",
   "execution_count": 22,
   "metadata": {},
   "outputs": [],
   "source": [
    "urlre=re.compile(r'(http|https)://([-\\w]+\\.)+[-\\w]+(/[-\\w./?%&=]*)?')\n",
    "symbolre = re.compile('[，．、。]')\n",
    "# numre = re.compile(r'\\d+')\n",
    "\n",
    "def mytokenize(d):\n",
    "    s=''.join(d)\n",
    "    token = []\n",
    "    s=s.replace('\\u3000','')\n",
    "    neologdn.normalize(s)\n",
    "    s=urlre.sub(\"\", s)\n",
    "    s=symbolre.sub(\" \", s)\n",
    "#     s=numre.sub('0', s)\n",
    "    node = tagger.parseToNode(s)\n",
    "    while node:\n",
    "        features = node.feature.split(',')\n",
    "        pos = features[0]\n",
    "#         pos_sub1 = features[1]\n",
    "        base = features[6]\n",
    "        if node.surface == '':\n",
    "            node = node.next\n",
    "            continue\n",
    "        if pos in ['名詞', '動詞', '形容詞', '連体詞', '副詞', '感動詞', '記号']: # and pos_sub1 not in  ['非自立', '接尾']:\n",
    "            if base == \"*\":\n",
    "                token.append(node.surface)\n",
    "            else:\n",
    "                token.append(base)\n",
    "\n",
    "        node = node.next\n",
    "\n",
    "    return token"
   ]
  },
  {
   "cell_type": "code",
   "execution_count": 88,
   "metadata": {
    "scrolled": false
   },
   "outputs": [],
   "source": [
    "# vector化 TFIDF:単語の重要度によるベクトル化． 単語の出現頻度と逆文書頻度（単語の希少さ）の積\n",
    "# min_df=3 : 出現数3未満の語彙は除外\n",
    "# max_df=0.7 : 70%の文書で出現する語彙は除外\n",
    "vectorizer = TfidfVectorizer(analyzer=mytokenize,min_df=3, max_df=0.7, norm='l2', sublinear_tf=True)\n",
    "vectorizer.fit([[d['title']]+d['text'] for d in Dtrain])\n",
    "\n",
    "# 用いるデータ\n",
    "# titleとtextを結合してベクトル化\n",
    "Xtrain_tfidf = vectorizer.transform([[d['title']]+ d['text'] for d in Dtrain])\n",
    "Xdev_tfidf =vectorizer.transform([[d['title']]+ d['text'] for d in Ddev])\n",
    "Xtest_tfidf = vectorizer.transform([[d['title']]+ d['text'] for d in Dtest])\n",
    "\n",
    "# 分類\n",
    "VY = preprocessing.LabelEncoder()\n",
    "Ytrain = VY.fit_transform([data['source'] for data in Dtrain])\n",
    "Ydev = VY.transform([data['source'] for data in Ddev])\n",
    "Ytest = VY.transform([data['source'] for data in Dtest])"
   ]
  },
  {
   "cell_type": "code",
   "execution_count": 695,
   "metadata": {},
   "outputs": [],
   "source": [
    "# opt1(不採用)\n",
    "# 訓練データの交差検証によるチューニング\n",
    "Xtrain_opt = Xtrain_tfidf\n",
    "Xdev_opt = Xdev_tfidf\n",
    "\n",
    "def objective(trial):\n",
    "    alpha = trial.suggest_loguniform('alpha', 1e-10, 1e-2)\n",
    "    l1_ratio = trial.suggest_loguniform('l1_ratio', 1e-10, 1e-2)\n",
    "    skf = StratifiedKFold(n_splits=5, shuffle=True)\n",
    "    clf = SGDClassifier(loss='log', alpha=alpha, l1_ratio = l1_ratio)\n",
    "    scores=cross_validate(clf, X=Xtrain_opt,y=Ytrain, scoring='f1_macro',cv=skf)\n",
    "    return scores['test_score'].mean()"
   ]
  },
  {
   "cell_type": "code",
   "execution_count": 24,
   "metadata": {},
   "outputs": [],
   "source": [
    "# opt2\n",
    "# 検証データを用いたパラメータチューニング\n",
    "Xtrain_opt = Xtrain_tfidf\n",
    "Xdev_opt = Xdev_tfidf\n",
    "def objective(trial):\n",
    "    alpha = trial.suggest_loguniform('alpha', 1e-10, 1e-2)\n",
    "    l1_ratio = trial.suggest_loguniform('l1_ratio', 1e-10, 1)\n",
    "    skf = StratifiedKFold(n_splits=5, shuffle=True)\n",
    "    clf = SGDClassifier(loss='log', alpha=alpha, l1_ratio = l1_ratio)\n",
    "    clf.fit(Xtrain_opt, Ytrain)\n",
    "    Ydev_pred = clf.predict(Xdev_opt)\n",
    "    return f1_score(Ydev, Ydev_pred, average=\"macro\")"
   ]
  },
  {
   "cell_type": "code",
   "execution_count": 27,
   "metadata": {
    "scrolled": true
   },
   "outputs": [
    {
     "name": "stderr",
     "output_type": "stream",
     "text": [
      "\u001b[32m[I 2020-12-27 01:47:04,087]\u001b[0m A new study created in memory with name: no-name-124fff66-dac8-4e3b-8d5f-cfa2ab9c0e46\u001b[0m\n",
      "\u001b[32m[I 2020-12-27 01:47:04,478]\u001b[0m Trial 0 finished with value: 0.9341645729816757 and parameters: {'alpha': 0.00016174656759979948, 'l1_ratio': 4.66143678726133e-06}. Best is trial 0 with value: 0.9341645729816757.\u001b[0m\n",
      "\u001b[32m[I 2020-12-27 01:47:04,824]\u001b[0m Trial 1 finished with value: 0.9549495631913903 and parameters: {'alpha': 4.05765377420326e-06, 'l1_ratio': 1.424288322961808e-06}. Best is trial 1 with value: 0.9549495631913903.\u001b[0m\n",
      "\u001b[32m[I 2020-12-27 01:47:05,198]\u001b[0m Trial 2 finished with value: 0.9536654596686677 and parameters: {'alpha': 3.921209246786544e-06, 'l1_ratio': 3.076522524539712e-06}. Best is trial 1 with value: 0.9549495631913903.\u001b[0m\n",
      "\u001b[32m[I 2020-12-27 01:47:05,600]\u001b[0m Trial 3 finished with value: 0.9629073166762476 and parameters: {'alpha': 8.258553326504105e-07, 'l1_ratio': 7.693428924884304e-09}. Best is trial 3 with value: 0.9629073166762476.\u001b[0m\n",
      "\u001b[32m[I 2020-12-27 01:47:06,010]\u001b[0m Trial 4 finished with value: 0.8487776779323594 and parameters: {'alpha': 0.0020079845656212113, 'l1_ratio': 4.62291374520071e-09}. Best is trial 3 with value: 0.9629073166762476.\u001b[0m\n",
      "\u001b[32m[I 2020-12-27 01:47:06,509]\u001b[0m Trial 5 finished with value: 0.9398601827959391 and parameters: {'alpha': 1.1741890427264272e-10, 'l1_ratio': 0.00018278160610094504}. Best is trial 3 with value: 0.9629073166762476.\u001b[0m\n",
      "\u001b[32m[I 2020-12-27 01:47:07,018]\u001b[0m Trial 6 finished with value: 0.9499697339881281 and parameters: {'alpha': 1.275005463131247e-08, 'l1_ratio': 0.019501466408311782}. Best is trial 3 with value: 0.9629073166762476.\u001b[0m\n",
      "\u001b[32m[I 2020-12-27 01:47:07,413]\u001b[0m Trial 7 finished with value: 0.8194298309359639 and parameters: {'alpha': 0.003697175196572084, 'l1_ratio': 6.99380753700609e-05}. Best is trial 3 with value: 0.9629073166762476.\u001b[0m\n",
      "\u001b[32m[I 2020-12-27 01:47:07,786]\u001b[0m Trial 8 finished with value: 0.9595189419229221 and parameters: {'alpha': 9.26130703248666e-07, 'l1_ratio': 0.0010530175739953825}. Best is trial 3 with value: 0.9629073166762476.\u001b[0m\n",
      "\u001b[32m[I 2020-12-27 01:47:08,219]\u001b[0m Trial 9 finished with value: 0.960132140349383 and parameters: {'alpha': 9.427141036137466e-07, 'l1_ratio': 3.3443520964628276e-07}. Best is trial 3 with value: 0.9629073166762476.\u001b[0m\n",
      "\u001b[32m[I 2020-12-27 01:47:08,768]\u001b[0m Trial 10 finished with value: 0.9530254629819164 and parameters: {'alpha': 7.190938941294288e-09, 'l1_ratio': 4.2973187328601425e-10}. Best is trial 3 with value: 0.9629073166762476.\u001b[0m\n",
      "\u001b[32m[I 2020-12-27 01:47:09,307]\u001b[0m Trial 11 finished with value: 0.9486582185556335 and parameters: {'alpha': 1.567445664698496e-07, 'l1_ratio': 2.4042640313877806e-08}. Best is trial 3 with value: 0.9629073166762476.\u001b[0m\n",
      "\u001b[32m[I 2020-12-27 01:47:09,686]\u001b[0m Trial 12 finished with value: 0.9415302668210567 and parameters: {'alpha': 6.791785495501804e-05, 'l1_ratio': 8.287539089315685e-08}. Best is trial 3 with value: 0.9629073166762476.\u001b[0m\n",
      "\u001b[32m[I 2020-12-27 01:47:10,233]\u001b[0m Trial 13 finished with value: 0.9555766064812108 and parameters: {'alpha': 3.112994005231192e-08, 'l1_ratio': 1.280640545841366e-09}. Best is trial 3 with value: 0.9629073166762476.\u001b[0m\n",
      "\u001b[32m[I 2020-12-27 01:47:10,691]\u001b[0m Trial 14 finished with value: 0.9539676014235313 and parameters: {'alpha': 4.3972705482043233e-10, 'l1_ratio': 6.668252271793749e-08}. Best is trial 3 with value: 0.9629073166762476.\u001b[0m\n",
      "\u001b[32m[I 2020-12-27 01:47:11,125]\u001b[0m Trial 15 finished with value: 0.9554866306408621 and parameters: {'alpha': 3.78556690911523e-07, 'l1_ratio': 3.9529365166606907e-07}. Best is trial 3 with value: 0.9629073166762476.\u001b[0m\n",
      "\u001b[32m[I 2020-12-27 01:47:11,506]\u001b[0m Trial 16 finished with value: 0.9479744528390055 and parameters: {'alpha': 2.1108157772373045e-05, 'l1_ratio': 0.7580485903576694}. Best is trial 3 with value: 0.9629073166762476.\u001b[0m\n",
      "\u001b[32m[I 2020-12-27 01:47:11,988]\u001b[0m Trial 17 finished with value: 0.9648780123506495 and parameters: {'alpha': 7.407475552482978e-08, 'l1_ratio': 4.597419907853038e-09}. Best is trial 17 with value: 0.9648780123506495.\u001b[0m\n",
      "\u001b[32m[I 2020-12-27 01:47:12,532]\u001b[0m Trial 18 finished with value: 0.9460810230970093 and parameters: {'alpha': 1.1278106220628285e-09, 'l1_ratio': 1.0963297738848291e-10}. Best is trial 17 with value: 0.9648780123506495.\u001b[0m\n",
      "\u001b[32m[I 2020-12-27 01:47:13,114]\u001b[0m Trial 19 finished with value: 0.9538518938959041 and parameters: {'alpha': 7.276820417194157e-08, 'l1_ratio': 7.515019351529892e-09}. Best is trial 17 with value: 0.9648780123506495.\u001b[0m\n",
      "\u001b[32m[I 2020-12-27 01:47:13,721]\u001b[0m Trial 20 finished with value: 0.9463996329714115 and parameters: {'alpha': 4.535119214907783e-09, 'l1_ratio': 1.2851663161782403e-10}. Best is trial 17 with value: 0.9648780123506495.\u001b[0m\n",
      "\u001b[32m[I 2020-12-27 01:47:14,082]\u001b[0m Trial 21 finished with value: 0.9573675632420877 and parameters: {'alpha': 3.663761581227197e-06, 'l1_ratio': 2.597116467316509e-07}. Best is trial 17 with value: 0.9648780123506495.\u001b[0m\n",
      "\u001b[32m[I 2020-12-27 01:47:14,501]\u001b[0m Trial 22 finished with value: 0.9584684636976945 and parameters: {'alpha': 4.7085205386615503e-07, 'l1_ratio': 2.382606199097475e-09}. Best is trial 17 with value: 0.9648780123506495.\u001b[0m\n",
      "\u001b[32m[I 2020-12-27 01:47:14,917]\u001b[0m Trial 23 finished with value: 0.9519829664976667 and parameters: {'alpha': 9.153699570979577e-08, 'l1_ratio': 1.5124461199916897e-08}. Best is trial 17 with value: 0.9648780123506495.\u001b[0m\n",
      "\u001b[32m[I 2020-12-27 01:47:15,260]\u001b[0m Trial 24 finished with value: 0.9486577853223975 and parameters: {'alpha': 2.485188683177192e-05, 'l1_ratio': 5.363240226595174e-10}. Best is trial 17 with value: 0.9648780123506495.\u001b[0m\n",
      "\u001b[32m[I 2020-12-27 01:47:15,676]\u001b[0m Trial 25 finished with value: 0.9571599620567844 and parameters: {'alpha': 8.193831794437394e-07, 'l1_ratio': 3.8625934482203454e-07}. Best is trial 17 with value: 0.9648780123506495.\u001b[0m\n",
      "\u001b[32m[I 2020-12-27 01:47:16,081]\u001b[0m Trial 26 finished with value: 0.9565769987990992 and parameters: {'alpha': 2.7887186545757387e-06, 'l1_ratio': 3.6793487810173194e-08}. Best is trial 17 with value: 0.9648780123506495.\u001b[0m\n",
      "\u001b[32m[I 2020-12-27 01:47:16,729]\u001b[0m Trial 27 finished with value: 0.9494773622010553 and parameters: {'alpha': 3.183672527470959e-08, 'l1_ratio': 2.4718110685640947e-05}. Best is trial 17 with value: 0.9648780123506495.\u001b[0m\n",
      "\u001b[32m[I 2020-12-27 01:47:17,260]\u001b[0m Trial 28 finished with value: 0.919135704046939 and parameters: {'alpha': 0.00036058750086182353, 'l1_ratio': 1.891802490108986e-07}. Best is trial 17 with value: 0.9648780123506495.\u001b[0m\n",
      "\u001b[32m[I 2020-12-27 01:47:17,655]\u001b[0m Trial 29 finished with value: 0.9523280101690929 and parameters: {'alpha': 1.3395759648208728e-05, 'l1_ratio': 1.9907768669956506e-06}. Best is trial 17 with value: 0.9648780123506495.\u001b[0m\n",
      "\u001b[32m[I 2020-12-27 01:47:18,166]\u001b[0m Trial 30 finished with value: 0.9585001108550846 and parameters: {'alpha': 2.72100809155268e-07, 'l1_ratio': 1.1284408040210524e-05}. Best is trial 17 with value: 0.9648780123506495.\u001b[0m\n",
      "\u001b[32m[I 2020-12-27 01:47:18,665]\u001b[0m Trial 31 finished with value: 0.9537235418480654 and parameters: {'alpha': 1.9167760722285994e-06, 'l1_ratio': 0.0011302760784524617}. Best is trial 17 with value: 0.9648780123506495.\u001b[0m\n",
      "\u001b[32m[I 2020-12-27 01:47:19,191]\u001b[0m Trial 32 finished with value: 0.9598915620947699 and parameters: {'alpha': 1.2282783326713138e-06, 'l1_ratio': 0.006028984121349289}. Best is trial 17 with value: 0.9648780123506495.\u001b[0m\n",
      "\u001b[32m[I 2020-12-27 01:47:19,706]\u001b[0m Trial 33 finished with value: 0.9541476703236751 and parameters: {'alpha': 8.548813513731457e-06, 'l1_ratio': 0.8580778568004702}. Best is trial 17 with value: 0.9648780123506495.\u001b[0m\n",
      "\u001b[32m[I 2020-12-27 01:47:20,248]\u001b[0m Trial 34 finished with value: 0.9548328713454646 and parameters: {'alpha': 1.156970089449619e-06, 'l1_ratio': 0.013318681296887906}. Best is trial 17 with value: 0.9648780123506495.\u001b[0m\n",
      "\u001b[32m[I 2020-12-27 01:47:20,830]\u001b[0m Trial 35 finished with value: 0.9544427416345749 and parameters: {'alpha': 5.338069950565557e-08, 'l1_ratio': 9.678829339956916e-07}. Best is trial 17 with value: 0.9648780123506495.\u001b[0m\n",
      "\u001b[32m[I 2020-12-27 01:47:21,346]\u001b[0m Trial 36 finished with value: 0.9413301336863442 and parameters: {'alpha': 0.00011725240438377249, 'l1_ratio': 0.12957986523692544}. Best is trial 17 with value: 0.9648780123506495.\u001b[0m\n"
     ]
    },
    {
     "name": "stderr",
     "output_type": "stream",
     "text": [
      "\u001b[32m[I 2020-12-27 01:47:21,998]\u001b[0m Trial 37 finished with value: 0.9517440642364056 and parameters: {'alpha': 2.4816955822843077e-07, 'l1_ratio': 9.879270696502463e-09}. Best is trial 17 with value: 0.9648780123506495.\u001b[0m\n",
      "\u001b[32m[I 2020-12-27 01:47:22,626]\u001b[0m Trial 38 finished with value: 0.9448840794725444 and parameters: {'alpha': 1.1220525794198014e-08, 'l1_ratio': 5.466243572632491e-06}. Best is trial 17 with value: 0.9648780123506495.\u001b[0m\n",
      "\u001b[32m[I 2020-12-27 01:47:23,109]\u001b[0m Trial 39 finished with value: 0.9573675632420877 and parameters: {'alpha': 6.916069692258957e-06, 'l1_ratio': 2.6234169333329677e-09}. Best is trial 17 with value: 0.9648780123506495.\u001b[0m\n",
      "\u001b[32m[I 2020-12-27 01:47:23,932]\u001b[0m Trial 40 finished with value: 0.9547293363139823 and parameters: {'alpha': 2.5651893933187358e-09, 'l1_ratio': 0.0005444253926552143}. Best is trial 17 with value: 0.9648780123506495.\u001b[0m\n",
      "\u001b[32m[I 2020-12-27 01:47:24,504]\u001b[0m Trial 41 finished with value: 0.9566712151618274 and parameters: {'alpha': 1.2420915587938778e-06, 'l1_ratio': 0.007060336090139828}. Best is trial 17 with value: 0.9648780123506495.\u001b[0m\n",
      "\u001b[32m[I 2020-12-27 01:47:24,999]\u001b[0m Trial 42 finished with value: 0.9630840426937497 and parameters: {'alpha': 5.957502455882783e-07, 'l1_ratio': 0.0027703473037202987}. Best is trial 17 with value: 0.9648780123506495.\u001b[0m\n",
      "\u001b[32m[I 2020-12-27 01:47:25,698]\u001b[0m Trial 43 finished with value: 0.9486614671478988 and parameters: {'alpha': 1.6540329148916736e-07, 'l1_ratio': 0.0769919744568473}. Best is trial 17 with value: 0.9648780123506495.\u001b[0m\n",
      "\u001b[32m[I 2020-12-27 01:47:26,179]\u001b[0m Trial 44 finished with value: 0.9560369972706773 and parameters: {'alpha': 5.446297866079555e-07, 'l1_ratio': 0.0033371391866931026}. Best is trial 17 with value: 0.9648780123506495.\u001b[0m\n",
      "\u001b[32m[I 2020-12-27 01:47:26,685]\u001b[0m Trial 45 finished with value: 0.9540497418401007 and parameters: {'alpha': 2.692260722124444e-08, 'l1_ratio': 0.04518528597341356}. Best is trial 17 with value: 0.9648780123506495.\u001b[0m\n",
      "\u001b[32m[I 2020-12-27 01:47:27,215]\u001b[0m Trial 46 finished with value: 0.9499439640570215 and parameters: {'alpha': 1.2321322293985822e-07, 'l1_ratio': 0.0001478152770588093}. Best is trial 17 with value: 0.9648780123506495.\u001b[0m\n",
      "\u001b[32m[I 2020-12-27 01:47:27,645]\u001b[0m Trial 47 finished with value: 0.9586334977417403 and parameters: {'alpha': 2.1102652424629334e-06, 'l1_ratio': 4.561716669019463e-10}. Best is trial 17 with value: 0.9648780123506495.\u001b[0m\n",
      "\u001b[32m[I 2020-12-27 01:47:28,058]\u001b[0m Trial 48 finished with value: 0.9479491063223671 and parameters: {'alpha': 4.5258304952425765e-05, 'l1_ratio': 0.36437936594731757}. Best is trial 17 with value: 0.9648780123506495.\u001b[0m\n",
      "\u001b[32m[I 2020-12-27 01:47:28,467]\u001b[0m Trial 49 finished with value: 0.9568356645136085 and parameters: {'alpha': 5.326475887842516e-06, 'l1_ratio': 4.32903462351765e-05}. Best is trial 17 with value: 0.9648780123506495.\u001b[0m\n",
      "\u001b[32m[I 2020-12-27 01:47:28,951]\u001b[0m Trial 50 finished with value: 0.9682699321380732 and parameters: {'alpha': 5.239523622033453e-07, 'l1_ratio': 0.003442105536466043}. Best is trial 50 with value: 0.9682699321380732.\u001b[0m\n",
      "\u001b[32m[I 2020-12-27 01:47:29,404]\u001b[0m Trial 51 finished with value: 0.9543566278937965 and parameters: {'alpha': 4.519131576714373e-07, 'l1_ratio': 0.0027565641032708367}. Best is trial 50 with value: 0.9682699321380732.\u001b[0m\n",
      "\u001b[32m[I 2020-12-27 01:47:29,854]\u001b[0m Trial 52 finished with value: 0.9628749850647308 and parameters: {'alpha': 9.314073797116066e-07, 'l1_ratio': 0.0003296955292270701}. Best is trial 50 with value: 0.9682699321380732.\u001b[0m\n",
      "\u001b[32m[I 2020-12-27 01:47:30,355]\u001b[0m Trial 53 finished with value: 0.9486365421520468 and parameters: {'alpha': 2.1053711585047523e-07, 'l1_ratio': 0.0007273411216035053}. Best is trial 50 with value: 0.9682699321380732.\u001b[0m\n",
      "\u001b[32m[I 2020-12-27 01:47:30,860]\u001b[0m Trial 54 finished with value: 0.9562956963457062 and parameters: {'alpha': 6.974505982097416e-07, 'l1_ratio': 0.000328304584927444}. Best is trial 50 with value: 0.9682699321380732.\u001b[0m\n",
      "\u001b[32m[I 2020-12-27 01:47:31,443]\u001b[0m Trial 55 finished with value: 0.9485748960494189 and parameters: {'alpha': 4.0616448417607607e-08, 'l1_ratio': 0.0001987329949352587}. Best is trial 50 with value: 0.9682699321380732.\u001b[0m\n",
      "\u001b[32m[I 2020-12-27 01:47:32,051]\u001b[0m Trial 56 finished with value: 0.9575333679913507 and parameters: {'alpha': 9.008676607124712e-08, 'l1_ratio': 0.002207161641428576}. Best is trial 50 with value: 0.9682699321380732.\u001b[0m\n",
      "\u001b[32m[I 2020-12-27 01:47:32,479]\u001b[0m Trial 57 finished with value: 0.9570262562055761 and parameters: {'alpha': 4.080252571111242e-06, 'l1_ratio': 1.0537445251761359e-07}. Best is trial 50 with value: 0.9682699321380732.\u001b[0m\n",
      "\u001b[32m[I 2020-12-27 01:47:32,999]\u001b[0m Trial 58 finished with value: 0.9548827435419329 and parameters: {'alpha': 3.322952835135283e-07, 'l1_ratio': 2.789919242430694e-08}. Best is trial 50 with value: 0.9682699321380732.\u001b[0m\n",
      "\u001b[32m[I 2020-12-27 01:47:33,450]\u001b[0m Trial 59 finished with value: 0.9569722059828515 and parameters: {'alpha': 2.275899590950855e-06, 'l1_ratio': 1.1387391610800184e-09}. Best is trial 50 with value: 0.9682699321380732.\u001b[0m\n",
      "\u001b[32m[I 2020-12-27 01:47:34,021]\u001b[0m Trial 60 finished with value: 0.9451807524980372 and parameters: {'alpha': 1.5019074013561557e-08, 'l1_ratio': 9.578119163963352e-07}. Best is trial 50 with value: 0.9682699321380732.\u001b[0m\n",
      "\u001b[32m[I 2020-12-27 01:47:34,478]\u001b[0m Trial 61 finished with value: 0.9616208235330443 and parameters: {'alpha': 7.460838564979282e-07, 'l1_ratio': 0.01918274464009335}. Best is trial 50 with value: 0.9682699321380732.\u001b[0m\n",
      "\u001b[32m[I 2020-12-27 01:47:34,931]\u001b[0m Trial 62 finished with value: 0.9558597772610469 and parameters: {'alpha': 7.08464019201437e-07, 'l1_ratio': 0.022741610485337342}. Best is trial 50 with value: 0.9682699321380732.\u001b[0m\n",
      "\u001b[32m[I 2020-12-27 01:47:35,419]\u001b[0m Trial 63 finished with value: 0.9527708813633213 and parameters: {'alpha': 1.2651234350981983e-07, 'l1_ratio': 0.014505955471442438}. Best is trial 50 with value: 0.9682699321380732.\u001b[0m\n",
      "\u001b[32m[I 2020-12-27 01:47:35,868]\u001b[0m Trial 64 finished with value: 0.9637008017755357 and parameters: {'alpha': 1.6698145576366404e-06, 'l1_ratio': 1.604962212508498e-10}. Best is trial 50 with value: 0.9682699321380732.\u001b[0m\n",
      "\u001b[32m[I 2020-12-27 01:47:36,245]\u001b[0m Trial 65 finished with value: 0.9536429824343124 and parameters: {'alpha': 1.2864771317088705e-05, 'l1_ratio': 0.001690984162126247}. Best is trial 50 with value: 0.9682699321380732.\u001b[0m\n",
      "\u001b[32m[I 2020-12-27 01:47:36,683]\u001b[0m Trial 66 finished with value: 0.9587090146823267 and parameters: {'alpha': 1.5575449752625992e-06, 'l1_ratio': 0.006064945596136234}. Best is trial 50 with value: 0.9682699321380732.\u001b[0m\n",
      "\u001b[32m[I 2020-12-27 01:47:37,303]\u001b[0m Trial 67 finished with value: 0.9592143623211338 and parameters: {'alpha': 3.029377855358819e-07, 'l1_ratio': 2.0078248076724358e-10}. Best is trial 50 with value: 0.9682699321380732.\u001b[0m\n",
      "\u001b[32m[I 2020-12-27 01:47:37,908]\u001b[0m Trial 68 finished with value: 0.947216836937886 and parameters: {'alpha': 6.013256280613968e-08, 'l1_ratio': 0.031703261507195185}. Best is trial 50 with value: 0.9682699321380732.\u001b[0m\n",
      "\u001b[32m[I 2020-12-27 01:47:38,411]\u001b[0m Trial 69 finished with value: 0.9586354186205198 and parameters: {'alpha': 8.321126163204677e-07, 'l1_ratio': 0.2507198386188259}. Best is trial 50 with value: 0.9682699321380732.\u001b[0m\n",
      "\u001b[32m[I 2020-12-27 01:47:38,842]\u001b[0m Trial 70 finished with value: 0.9581184881737828 and parameters: {'alpha': 3.381323416929418e-06, 'l1_ratio': 0.00011481179612833593}. Best is trial 50 with value: 0.9682699321380732.\u001b[0m\n",
      "\u001b[32m[I 2020-12-27 01:47:39,349]\u001b[0m Trial 71 finished with value: 0.9579665910887974 and parameters: {'alpha': 1.3855686039043096e-06, 'l1_ratio': 6.848160175896296e-09}. Best is trial 50 with value: 0.9682699321380732.\u001b[0m\n",
      "\u001b[32m[I 2020-12-27 01:47:39,880]\u001b[0m Trial 72 finished with value: 0.9578720950530015 and parameters: {'alpha': 6.051877870369035e-07, 'l1_ratio': 1.0941808970429055e-09}. Best is trial 50 with value: 0.9682699321380732.\u001b[0m\n",
      "\u001b[32m[I 2020-12-27 01:47:40,299]\u001b[0m Trial 73 finished with value: 0.9523044136602054 and parameters: {'alpha': 8.966485250704351e-06, 'l1_ratio': 1.7958997214000614e-10}. Best is trial 50 with value: 0.9682699321380732.\u001b[0m\n"
     ]
    },
    {
     "name": "stderr",
     "output_type": "stream",
     "text": [
      "\u001b[32m[I 2020-12-27 01:47:40,812]\u001b[0m Trial 74 finished with value: 0.953055373431822 and parameters: {'alpha': 1.7952982775265987e-07, 'l1_ratio': 3.055031849005231e-09}. Best is trial 50 with value: 0.9682699321380732.\u001b[0m\n",
      "\u001b[32m[I 2020-12-27 01:47:41,312]\u001b[0m Trial 75 finished with value: 0.9605413546736915 and parameters: {'alpha': 3.720340309765598e-07, 'l1_ratio': 1.0879059245572077e-05}. Best is trial 50 with value: 0.9682699321380732.\u001b[0m\n",
      "\u001b[32m[I 2020-12-27 01:47:41,846]\u001b[0m Trial 76 finished with value: 0.9622621359915509 and parameters: {'alpha': 3.9548191010171895e-07, 'l1_ratio': 1.9275508780825363e-05}. Best is trial 50 with value: 0.9682699321380732.\u001b[0m\n",
      "\u001b[32m[I 2020-12-27 01:47:42,332]\u001b[0m Trial 77 finished with value: 0.958345098851547 and parameters: {'alpha': 2.209300684537242e-06, 'l1_ratio': 3.108864297826192e-05}. Best is trial 50 with value: 0.9682699321380732.\u001b[0m\n",
      "\u001b[32m[I 2020-12-27 01:47:42,938]\u001b[0m Trial 78 finished with value: 0.939822265399572 and parameters: {'alpha': 1.95976242979485e-08, 'l1_ratio': 0.0004720877500489737}. Best is trial 50 with value: 0.9682699321380732.\u001b[0m\n",
      "\u001b[32m[I 2020-12-27 01:47:43,406]\u001b[0m Trial 79 finished with value: 0.9426803264840902 and parameters: {'alpha': 7.891215554063044e-08, 'l1_ratio': 6.346668714335473e-05}. Best is trial 50 with value: 0.9682699321380732.\u001b[0m\n",
      "\u001b[32m[I 2020-12-27 01:47:43,889]\u001b[0m Trial 80 finished with value: 0.9632722625006651 and parameters: {'alpha': 8.979017570416084e-07, 'l1_ratio': 3.612519635993375e-06}. Best is trial 50 with value: 0.9682699321380732.\u001b[0m\n",
      "\u001b[32m[I 2020-12-27 01:47:44,409]\u001b[0m Trial 81 finished with value: 0.9643313131143761 and parameters: {'alpha': 4.894166006403486e-07, 'l1_ratio': 0.00800655901077985}. Best is trial 50 with value: 0.9682699321380732.\u001b[0m\n",
      "\u001b[32m[I 2020-12-27 01:47:44,858]\u001b[0m Trial 82 finished with value: 0.9527659164258035 and parameters: {'alpha': 1.104347727571854e-06, 'l1_ratio': 4.465865290660703e-06}. Best is trial 50 with value: 0.9682699321380732.\u001b[0m\n",
      "\u001b[32m[I 2020-12-27 01:47:45,317]\u001b[0m Trial 83 finished with value: 0.955216581102722 and parameters: {'alpha': 4.7199364662370813e-07, 'l1_ratio': 0.0010502360246737938}. Best is trial 50 with value: 0.9682699321380732.\u001b[0m\n",
      "\u001b[32m[I 2020-12-27 01:47:45,839]\u001b[0m Trial 84 finished with value: 0.9530201712520862 and parameters: {'alpha': 2.1056366128969257e-07, 'l1_ratio': 1.8775814089802388e-05}. Best is trial 50 with value: 0.9682699321380732.\u001b[0m\n",
      "\u001b[32m[I 2020-12-27 01:47:46,261]\u001b[0m Trial 85 finished with value: 0.955594612351323 and parameters: {'alpha': 3.866358353833788e-06, 'l1_ratio': 0.004445983703420284}. Best is trial 50 with value: 0.9682699321380732.\u001b[0m\n",
      "\u001b[32m[I 2020-12-27 01:47:46,832]\u001b[0m Trial 86 finished with value: 0.9513020219322139 and parameters: {'alpha': 1.3581976798570522e-07, 'l1_ratio': 0.009900663897567864}. Best is trial 50 with value: 0.9682699321380732.\u001b[0m\n",
      "\u001b[32m[I 2020-12-27 01:47:47,402]\u001b[0m Trial 87 finished with value: 0.953304508430535 and parameters: {'alpha': 3.189220545081522e-07, 'l1_ratio': 0.0002750534164515495}. Best is trial 50 with value: 0.9682699321380732.\u001b[0m\n",
      "\u001b[32m[I 2020-12-27 01:47:47,917]\u001b[0m Trial 88 finished with value: 0.9599448015015811 and parameters: {'alpha': 1.6682477986376889e-06, 'l1_ratio': 0.001627048179284462}. Best is trial 50 with value: 0.9682699321380732.\u001b[0m\n",
      "\u001b[32m[I 2020-12-27 01:47:48,386]\u001b[0m Trial 89 finished with value: 0.9549895342721793 and parameters: {'alpha': 5.263970552384485e-06, 'l1_ratio': 5.164337279922774e-08}. Best is trial 50 with value: 0.9682699321380732.\u001b[0m\n",
      "\u001b[32m[I 2020-12-27 01:47:48,978]\u001b[0m Trial 90 finished with value: 0.7958842084006158 and parameters: {'alpha': 0.009910988011317725, 'l1_ratio': 9.20251226688805e-05}. Best is trial 50 with value: 0.9682699321380732.\u001b[0m\n",
      "\u001b[32m[I 2020-12-27 01:47:49,476]\u001b[0m Trial 91 finished with value: 0.9566648000104385 and parameters: {'alpha': 1.0365942424808869e-06, 'l1_ratio': 0.055322299344528605}. Best is trial 50 with value: 0.9682699321380732.\u001b[0m\n",
      "\u001b[32m[I 2020-12-27 01:47:50,023]\u001b[0m Trial 92 finished with value: 0.9566521062142321 and parameters: {'alpha': 6.21055527709605e-07, 'l1_ratio': 0.12344262924042557}. Best is trial 50 with value: 0.9682699321380732.\u001b[0m\n",
      "\u001b[32m[I 2020-12-27 01:47:50,606]\u001b[0m Trial 93 finished with value: 0.960678614018748 and parameters: {'alpha': 4.3355622495961717e-07, 'l1_ratio': 1.9975609642053987e-06}. Best is trial 50 with value: 0.9682699321380732.\u001b[0m\n",
      "\u001b[32m[I 2020-12-27 01:47:51,297]\u001b[0m Trial 94 finished with value: 0.9535992457582982 and parameters: {'alpha': 8.425106941466174e-07, 'l1_ratio': 1.3061162188751304e-08}. Best is trial 50 with value: 0.9682699321380732.\u001b[0m\n",
      "\u001b[32m[I 2020-12-27 01:47:51,948]\u001b[0m Trial 95 finished with value: 0.9489034783906796 and parameters: {'alpha': 1.1483194048457897e-07, 'l1_ratio': 0.008778271304824758}. Best is trial 50 with value: 0.9682699321380732.\u001b[0m\n",
      "\u001b[32m[I 2020-12-27 01:47:52,421]\u001b[0m Trial 96 finished with value: 0.9555475854451184 and parameters: {'alpha': 2.9164043943739686e-06, 'l1_ratio': 0.020411309872901538}. Best is trial 50 with value: 0.9682699321380732.\u001b[0m\n",
      "\u001b[32m[I 2020-12-27 01:47:52,937]\u001b[0m Trial 97 finished with value: 0.9562377633312212 and parameters: {'alpha': 2.52554980410729e-07, 'l1_ratio': 5.967186031214657e-07}. Best is trial 50 with value: 0.9682699321380732.\u001b[0m\n",
      "\u001b[32m[I 2020-12-27 01:47:53,381]\u001b[0m Trial 98 finished with value: 0.9566797928201558 and parameters: {'alpha': 1.900186944213097e-06, 'l1_ratio': 0.0037157396894516035}. Best is trial 50 with value: 0.9682699321380732.\u001b[0m\n",
      "\u001b[32m[I 2020-12-27 01:47:53,926]\u001b[0m Trial 99 finished with value: 0.9572731136190187 and parameters: {'alpha': 5.2394656056906396e-08, 'l1_ratio': 0.0006554553659914249}. Best is trial 50 with value: 0.9682699321380732.\u001b[0m\n",
      "\u001b[32m[I 2020-12-27 01:47:54,357]\u001b[0m Trial 100 finished with value: 0.9595919201840094 and parameters: {'alpha': 9.067546620185507e-07, 'l1_ratio': 1.19962352128445e-07}. Best is trial 50 with value: 0.9682699321380732.\u001b[0m\n",
      "\u001b[32m[I 2020-12-27 01:47:54,920]\u001b[0m Trial 101 finished with value: 0.9613447955902544 and parameters: {'alpha': 5.016937562762205e-07, 'l1_ratio': 4.795725754907868e-06}. Best is trial 50 with value: 0.9682699321380732.\u001b[0m\n",
      "\u001b[32m[I 2020-12-27 01:47:55,516]\u001b[0m Trial 102 finished with value: 0.9612962623383192 and parameters: {'alpha': 4.308415409625752e-07, 'l1_ratio': 2.6677782894826923e-06}. Best is trial 50 with value: 0.9682699321380732.\u001b[0m\n",
      "\u001b[32m[I 2020-12-27 01:47:56,029]\u001b[0m Trial 103 finished with value: 0.9566922630714603 and parameters: {'alpha': 2.0077003079679645e-07, 'l1_ratio': 6.193626227768572e-06}. Best is trial 50 with value: 0.9682699321380732.\u001b[0m\n",
      "\u001b[32m[I 2020-12-27 01:47:56,435]\u001b[0m Trial 104 finished with value: 0.9630719248047043 and parameters: {'alpha': 1.4366571166468422e-06, 'l1_ratio': 1.1343480060043654e-06}. Best is trial 50 with value: 0.9682699321380732.\u001b[0m\n",
      "\u001b[32m[I 2020-12-27 01:47:56,835]\u001b[0m Trial 105 finished with value: 0.9610886096218599 and parameters: {'alpha': 1.4231725719933013e-06, 'l1_ratio': 1.8582249791250658e-05}. Best is trial 50 with value: 0.9682699321380732.\u001b[0m\n",
      "\u001b[32m[I 2020-12-27 01:47:57,250]\u001b[0m Trial 106 finished with value: 0.955538481296017 and parameters: {'alpha': 2.592299132861741e-06, 'l1_ratio': 7.308471996989997e-07}. Best is trial 50 with value: 0.9682699321380732.\u001b[0m\n",
      "\u001b[32m[I 2020-12-27 01:47:57,623]\u001b[0m Trial 107 finished with value: 0.9591451250602011 and parameters: {'alpha': 4.785483479004502e-06, 'l1_ratio': 2.2125476833099857e-07}. Best is trial 50 with value: 0.9682699321380732.\u001b[0m\n",
      "\u001b[32m[I 2020-12-27 01:47:58,045]\u001b[0m Trial 108 finished with value: 0.9565602784624616 and parameters: {'alpha': 6.93337306254535e-07, 'l1_ratio': 0.01203907661079418}. Best is trial 50 with value: 0.9682699321380732.\u001b[0m\n",
      "\u001b[32m[I 2020-12-27 01:47:58,422]\u001b[0m Trial 109 finished with value: 0.9555029354362196 and parameters: {'alpha': 8.984866957582522e-06, 'l1_ratio': 0.029536138559820856}. Best is trial 50 with value: 0.9682699321380732.\u001b[0m\n",
      "\u001b[32m[I 2020-12-27 01:47:58,854]\u001b[0m Trial 110 finished with value: 0.9596731909555083 and parameters: {'alpha': 1.122949199816112e-06, 'l1_ratio': 0.005174004259434975}. Best is trial 50 with value: 0.9682699321380732.\u001b[0m\n"
     ]
    },
    {
     "name": "stderr",
     "output_type": "stream",
     "text": [
      "\u001b[32m[I 2020-12-27 01:47:59,372]\u001b[0m Trial 111 finished with value: 0.9659728490635965 and parameters: {'alpha': 5.220060572219642e-07, 'l1_ratio': 1.3225695024173962e-06}. Best is trial 50 with value: 0.9682699321380732.\u001b[0m\n",
      "\u001b[32m[I 2020-12-27 01:47:59,799]\u001b[0m Trial 112 finished with value: 0.9522495053026583 and parameters: {'alpha': 3.211357913472072e-07, 'l1_ratio': 3.76121660155949e-07}. Best is trial 50 with value: 0.9682699321380732.\u001b[0m\n",
      "\u001b[32m[I 2020-12-27 01:48:00,327]\u001b[0m Trial 113 finished with value: 0.9632182151870319 and parameters: {'alpha': 1.5916007330937159e-06, 'l1_ratio': 1.838575344335788e-06}. Best is trial 50 with value: 0.9682699321380732.\u001b[0m\n",
      "\u001b[32m[I 2020-12-27 01:48:00,718]\u001b[0m Trial 114 finished with value: 0.9599511952612035 and parameters: {'alpha': 1.6749502100577711e-06, 'l1_ratio': 1.206379353141307e-06}. Best is trial 50 with value: 0.9682699321380732.\u001b[0m\n",
      "\u001b[32m[I 2020-12-27 01:48:01,111]\u001b[0m Trial 115 finished with value: 0.9582094662378755 and parameters: {'alpha': 2.732375087868833e-06, 'l1_ratio': 2.026400952869719e-06}. Best is trial 50 with value: 0.9682699321380732.\u001b[0m\n",
      "\u001b[32m[I 2020-12-27 01:48:01,654]\u001b[0m Trial 116 finished with value: 0.9545547754019164 and parameters: {'alpha': 1.5718651765406326e-07, 'l1_ratio': 3.009796496635578e-06}. Best is trial 50 with value: 0.9682699321380732.\u001b[0m\n",
      "\u001b[32m[I 2020-12-27 01:48:02,254]\u001b[0m Trial 117 finished with value: 0.9624866859375873 and parameters: {'alpha': 5.742545377530036e-07, 'l1_ratio': 6.252559037645661e-06}. Best is trial 50 with value: 0.9682699321380732.\u001b[0m\n",
      "\u001b[32m[I 2020-12-27 01:48:02,759]\u001b[0m Trial 118 finished with value: 0.9618063215976856 and parameters: {'alpha': 1.4089800527800776e-06, 'l1_ratio': 6.424834674138414e-07}. Best is trial 50 with value: 0.9682699321380732.\u001b[0m\n",
      "\u001b[32m[I 2020-12-27 01:48:03,166]\u001b[0m Trial 119 finished with value: 0.956835995976594 and parameters: {'alpha': 6.127268218726372e-06, 'l1_ratio': 6.775497775844217e-06}. Best is trial 50 with value: 0.9682699321380732.\u001b[0m\n",
      "\u001b[32m[I 2020-12-27 01:48:03,664]\u001b[0m Trial 120 finished with value: 0.9537252863810272 and parameters: {'alpha': 7.106249537548261e-09, 'l1_ratio': 1.0667140659103984e-05}. Best is trial 50 with value: 0.9682699321380732.\u001b[0m\n",
      "\u001b[32m[I 2020-12-27 01:48:04,204]\u001b[0m Trial 121 finished with value: 0.9641403105482118 and parameters: {'alpha': 5.618626467184035e-07, 'l1_ratio': 5.3137524605544237e-05}. Best is trial 50 with value: 0.9682699321380732.\u001b[0m\n",
      "\u001b[32m[I 2020-12-27 01:48:04,628]\u001b[0m Trial 122 finished with value: 0.968464444980014 and parameters: {'alpha': 8.500917596748325e-07, 'l1_ratio': 4.244665729884029e-05}. Best is trial 122 with value: 0.968464444980014.\u001b[0m\n",
      "\u001b[32m[I 2020-12-27 01:48:05,048]\u001b[0m Trial 123 finished with value: 0.9560599874272191 and parameters: {'alpha': 8.036634213521124e-07, 'l1_ratio': 0.0003736077387884987}. Best is trial 122 with value: 0.968464444980014.\u001b[0m\n",
      "\u001b[32m[I 2020-12-27 01:48:05,465]\u001b[0m Trial 124 finished with value: 0.9587140658537447 and parameters: {'alpha': 1.0426328537233177e-06, 'l1_ratio': 4.6681605364637015e-05}. Best is trial 122 with value: 0.968464444980014.\u001b[0m\n",
      "\u001b[32m[I 2020-12-27 01:48:06,002]\u001b[0m Trial 125 finished with value: 0.9605294535458495 and parameters: {'alpha': 2.498551155168489e-07, 'l1_ratio': 0.0001412701407810464}. Best is trial 122 with value: 0.968464444980014.\u001b[0m\n",
      "\u001b[32m[I 2020-12-27 01:48:06,403]\u001b[0m Trial 126 finished with value: 0.9549892028091939 and parameters: {'alpha': 2.7767399649237103e-06, 'l1_ratio': 0.00020732474720707282}. Best is trial 122 with value: 0.968464444980014.\u001b[0m\n",
      "\u001b[32m[I 2020-12-27 01:48:06,782]\u001b[0m Trial 127 finished with value: 0.9587014757961965 and parameters: {'alpha': 1.8861659388839555e-06, 'l1_ratio': 6.207483823573281e-05}. Best is trial 122 with value: 0.968464444980014.\u001b[0m\n",
      "\u001b[32m[I 2020-12-27 01:48:07,153]\u001b[0m Trial 128 finished with value: 0.9550250801319764 and parameters: {'alpha': 3.823770068138596e-06, 'l1_ratio': 6.39763663050538e-10}. Best is trial 122 with value: 0.968464444980014.\u001b[0m\n",
      "\u001b[32m[I 2020-12-27 01:48:07,700]\u001b[0m Trial 129 finished with value: 0.953332828258216 and parameters: {'alpha': 1.0163489337541842e-10, 'l1_ratio': 0.0009011021081028647}. Best is trial 122 with value: 0.968464444980014.\u001b[0m\n",
      "\u001b[32m[I 2020-12-27 01:48:08,172]\u001b[0m Trial 130 finished with value: 0.9582184816683357 and parameters: {'alpha': 5.305527395007459e-07, 'l1_ratio': 0.0015400084895362187}. Best is trial 122 with value: 0.968464444980014.\u001b[0m\n",
      "\u001b[32m[I 2020-12-27 01:48:08,664]\u001b[0m Trial 131 finished with value: 0.9579493847289111 and parameters: {'alpha': 5.950137609991774e-07, 'l1_ratio': 3.125144075894838e-05}. Best is trial 122 with value: 0.968464444980014.\u001b[0m\n",
      "\u001b[32m[I 2020-12-27 01:48:09,113]\u001b[0m Trial 132 finished with value: 0.9545187256195686 and parameters: {'alpha': 1.1616216740327614e-06, 'l1_ratio': 1.4859534243479333e-06}. Best is trial 122 with value: 0.968464444980014.\u001b[0m\n",
      "\u001b[32m[I 2020-12-27 01:48:09,636]\u001b[0m Trial 133 finished with value: 0.9589044324775151 and parameters: {'alpha': 3.1746641484567543e-07, 'l1_ratio': 1.4249320736442407e-05}. Best is trial 122 with value: 0.968464444980014.\u001b[0m\n",
      "\u001b[32m[I 2020-12-27 01:48:10,066]\u001b[0m Trial 134 finished with value: 0.9552685144336004 and parameters: {'alpha': 8.126277524484059e-07, 'l1_ratio': 3.179301482292108e-06}. Best is trial 122 with value: 0.968464444980014.\u001b[0m\n",
      "\u001b[32m[I 2020-12-27 01:48:10,581]\u001b[0m Trial 135 finished with value: 0.9481301070344406 and parameters: {'alpha': 4.699736873751316e-07, 'l1_ratio': 6.671227319626795e-06}. Best is trial 122 with value: 0.968464444980014.\u001b[0m\n",
      "\u001b[32m[I 2020-12-27 01:48:11,103]\u001b[0m Trial 136 finished with value: 0.952106473899363 and parameters: {'alpha': 1.0213666934352807e-07, 'l1_ratio': 2.1104922184382894e-08}. Best is trial 122 with value: 0.968464444980014.\u001b[0m\n",
      "\u001b[32m[I 2020-12-27 01:48:11,541]\u001b[0m Trial 137 finished with value: 0.9571017731461624 and parameters: {'alpha': 1.9855738693016556e-06, 'l1_ratio': 3.692956368628123e-09}. Best is trial 122 with value: 0.968464444980014.\u001b[0m\n",
      "\u001b[32m[I 2020-12-27 01:48:12,021]\u001b[0m Trial 138 finished with value: 0.9594597963586546 and parameters: {'alpha': 6.076691604866965e-07, 'l1_ratio': 0.002753470269412896}. Best is trial 122 with value: 0.968464444980014.\u001b[0m\n",
      "\u001b[32m[I 2020-12-27 01:48:12,499]\u001b[0m Trial 139 finished with value: 0.9524306572129526 and parameters: {'alpha': 2.0084021820947224e-07, 'l1_ratio': 3.901197329299866e-06}. Best is trial 122 with value: 0.968464444980014.\u001b[0m\n",
      "\u001b[32m[I 2020-12-27 01:48:13,025]\u001b[0m Trial 140 finished with value: 0.9637264928641005 and parameters: {'alpha': 1.1189283767611925e-06, 'l1_ratio': 9.084211114077532e-05}. Best is trial 122 with value: 0.968464444980014.\u001b[0m\n",
      "\u001b[32m[I 2020-12-27 01:48:13,561]\u001b[0m Trial 141 finished with value: 0.9598141549638206 and parameters: {'alpha': 8.436230079493011e-07, 'l1_ratio': 3.434170137844738e-05}. Best is trial 122 with value: 0.968464444980014.\u001b[0m\n",
      "\u001b[32m[I 2020-12-27 01:48:14,045]\u001b[0m Trial 142 finished with value: 0.959798514454558 and parameters: {'alpha': 1.5051606640251065e-06, 'l1_ratio': 1.925883054628389e-09}. Best is trial 122 with value: 0.968464444980014.\u001b[0m\n",
      "\u001b[32m[I 2020-12-27 01:48:14,542]\u001b[0m Trial 143 finished with value: 0.9541733689540643 and parameters: {'alpha': 3.646771343014327e-07, 'l1_ratio': 7.609707999849935e-05}. Best is trial 122 with value: 0.968464444980014.\u001b[0m\n",
      "\u001b[32m[I 2020-12-27 01:48:15,090]\u001b[0m Trial 144 finished with value: 0.9470198416123691 and parameters: {'alpha': 2.405255743075677e-10, 'l1_ratio': 8.321960450975898e-06}. Best is trial 122 with value: 0.968464444980014.\u001b[0m\n",
      "\u001b[32m[I 2020-12-27 01:48:15,556]\u001b[0m Trial 145 finished with value: 0.9568920381910644 and parameters: {'alpha': 1.1506591954307725e-06, 'l1_ratio': 2.7253137984461054e-10}. Best is trial 122 with value: 0.968464444980014.\u001b[0m\n",
      "\u001b[32m[I 2020-12-27 01:48:15,940]\u001b[0m Trial 146 finished with value: 0.9587014757961965 and parameters: {'alpha': 2.1710080913134956e-06, 'l1_ratio': 0.00011393579708483475}. Best is trial 122 with value: 0.968464444980014.\u001b[0m\n",
      "\u001b[32m[I 2020-12-27 01:48:16,354]\u001b[0m Trial 147 finished with value: 0.9637168274661482 and parameters: {'alpha': 6.326410025396619e-07, 'l1_ratio': 2.098738860609249e-05}. Best is trial 122 with value: 0.968464444980014.\u001b[0m\n"
     ]
    },
    {
     "name": "stderr",
     "output_type": "stream",
     "text": [
      "\u001b[32m[I 2020-12-27 01:48:16,961]\u001b[0m Trial 148 finished with value: 0.9543002622459922 and parameters: {'alpha': 1.1399299680981366e-06, 'l1_ratio': 6.124547355163848e-09}. Best is trial 122 with value: 0.968464444980014.\u001b[0m\n",
      "\u001b[32m[I 2020-12-27 01:48:17,606]\u001b[0m Trial 149 finished with value: 0.9517304491422328 and parameters: {'alpha': 2.674566518842881e-07, 'l1_ratio': 1.0782378016010889e-10}. Best is trial 122 with value: 0.968464444980014.\u001b[0m\n",
      "\u001b[32m[I 2020-12-27 01:48:18,107]\u001b[0m Trial 150 finished with value: 0.9572920463015012 and parameters: {'alpha': 3.3271478222760886e-06, 'l1_ratio': 1.95222590910821e-05}. Best is trial 122 with value: 0.968464444980014.\u001b[0m\n",
      "\u001b[32m[I 2020-12-27 01:48:18,637]\u001b[0m Trial 151 finished with value: 0.9533291639462518 and parameters: {'alpha': 5.846548011137138e-07, 'l1_ratio': 1.2721138782575881e-05}. Best is trial 122 with value: 0.968464444980014.\u001b[0m\n",
      "\u001b[32m[I 2020-12-27 01:48:19,041]\u001b[0m Trial 152 finished with value: 0.9538982442187603 and parameters: {'alpha': 7.265439465279778e-07, 'l1_ratio': 0.000226641721278919}. Best is trial 122 with value: 0.968464444980014.\u001b[0m\n",
      "\u001b[32m[I 2020-12-27 01:48:19,535]\u001b[0m Trial 153 finished with value: 0.960416730853994 and parameters: {'alpha': 4.196455802229665e-07, 'l1_ratio': 5.8155683519638155e-05}. Best is trial 122 with value: 0.968464444980014.\u001b[0m\n",
      "\u001b[32m[I 2020-12-27 01:48:19,929]\u001b[0m Trial 154 finished with value: 0.9564680802420376 and parameters: {'alpha': 1.63171687179092e-06, 'l1_ratio': 1.5053680908516072e-06}. Best is trial 122 with value: 0.968464444980014.\u001b[0m\n",
      "\u001b[32m[I 2020-12-27 01:48:20,372]\u001b[0m Trial 155 finished with value: 0.9615666019626836 and parameters: {'alpha': 8.08351885877485e-07, 'l1_ratio': 4.9703033341806944e-05}. Best is trial 122 with value: 0.968464444980014.\u001b[0m\n",
      "\u001b[32m[I 2020-12-27 01:48:20,864]\u001b[0m Trial 156 finished with value: 0.9596563550798511 and parameters: {'alpha': 5.063351162698557e-07, 'l1_ratio': 2.6862421825755696e-05}. Best is trial 122 with value: 0.968464444980014.\u001b[0m\n",
      "\u001b[32m[I 2020-12-27 01:48:21,281]\u001b[0m Trial 157 finished with value: 0.9548709237875072 and parameters: {'alpha': 1.2974313594015656e-06, 'l1_ratio': 0.00013027448185435562}. Best is trial 122 with value: 0.968464444980014.\u001b[0m\n",
      "\u001b[32m[I 2020-12-27 01:48:21,739]\u001b[0m Trial 158 finished with value: 0.9505467479221765 and parameters: {'alpha': 1.5406657437469092e-07, 'l1_ratio': 7.713124663474803e-07}. Best is trial 122 with value: 0.968464444980014.\u001b[0m\n",
      "\u001b[32m[I 2020-12-27 01:48:22,223]\u001b[0m Trial 159 finished with value: 0.9580612434238345 and parameters: {'alpha': 3.359152153507766e-07, 'l1_ratio': 2.040721970432355e-06}. Best is trial 122 with value: 0.968464444980014.\u001b[0m\n",
      "\u001b[32m[I 2020-12-27 01:48:22,611]\u001b[0m Trial 160 finished with value: 0.9615039265178312 and parameters: {'alpha': 9.442148104691962e-07, 'l1_ratio': 0.00046677952301216543}. Best is trial 122 with value: 0.968464444980014.\u001b[0m\n",
      "\u001b[32m[I 2020-12-27 01:48:23,112]\u001b[0m Trial 161 finished with value: 0.9601727145121876 and parameters: {'alpha': 4.266653220466478e-07, 'l1_ratio': 1.4494298869455162e-05}. Best is trial 122 with value: 0.968464444980014.\u001b[0m\n",
      "\u001b[32m[I 2020-12-27 01:48:23,487]\u001b[0m Trial 162 finished with value: 0.9597031615531252 and parameters: {'alpha': 6.366650447554318e-07, 'l1_ratio': 2.0680058553541957e-05}. Best is trial 122 with value: 0.968464444980014.\u001b[0m\n",
      "\u001b[32m[I 2020-12-27 01:48:23,903]\u001b[0m Trial 163 finished with value: 0.9456025462399632 and parameters: {'alpha': 2.552434306392362e-07, 'l1_ratio': 9.621357039735542e-06}. Best is trial 122 with value: 0.968464444980014.\u001b[0m\n",
      "\u001b[32m[I 2020-12-27 01:48:24,328]\u001b[0m Trial 164 finished with value: 0.9540029876912635 and parameters: {'alpha': 2.109492815491091e-06, 'l1_ratio': 3.550487982104634e-05}. Best is trial 122 with value: 0.968464444980014.\u001b[0m\n",
      "\u001b[32m[I 2020-12-27 01:48:24,767]\u001b[0m Trial 165 finished with value: 0.9591014437139614 and parameters: {'alpha': 9.874602744907363e-07, 'l1_ratio': 3.7949775564885512e-06}. Best is trial 122 with value: 0.968464444980014.\u001b[0m\n",
      "\u001b[32m[I 2020-12-27 01:48:25,175]\u001b[0m Trial 166 finished with value: 0.9607933567192022 and parameters: {'alpha': 4.1147461301419407e-07, 'l1_ratio': 8.755252053338113e-05}. Best is trial 122 with value: 0.968464444980014.\u001b[0m\n",
      "\u001b[32m[I 2020-12-27 01:48:25,533]\u001b[0m Trial 167 finished with value: 0.9586334977417403 and parameters: {'alpha': 1.5580003851879852e-06, 'l1_ratio': 5.929095965448982e-06}. Best is trial 122 with value: 0.968464444980014.\u001b[0m\n",
      "\u001b[32m[I 2020-12-27 01:48:25,930]\u001b[0m Trial 168 finished with value: 0.9655680815603288 and parameters: {'alpha': 6.642704663336491e-07, 'l1_ratio': 1.3018301698323725e-07}. Best is trial 122 with value: 0.968464444980014.\u001b[0m\n",
      "\u001b[32m[I 2020-12-27 01:48:26,296]\u001b[0m Trial 169 finished with value: 0.9592742433388661 and parameters: {'alpha': 6.78807000112761e-07, 'l1_ratio': 8.56482017267003e-08}. Best is trial 122 with value: 0.968464444980014.\u001b[0m\n",
      "\u001b[32m[I 2020-12-27 01:48:26,646]\u001b[0m Trial 170 finished with value: 0.955538481296017 and parameters: {'alpha': 2.94888355229193e-06, 'l1_ratio': 1.0793964104607797e-08}. Best is trial 122 with value: 0.968464444980014.\u001b[0m\n",
      "\u001b[32m[I 2020-12-27 01:48:27,035]\u001b[0m Trial 171 finished with value: 0.9584759088236334 and parameters: {'alpha': 5.704683956313496e-07, 'l1_ratio': 2.000638798726445e-07}. Best is trial 122 with value: 0.968464444980014.\u001b[0m\n",
      "\u001b[32m[I 2020-12-27 01:48:27,397]\u001b[0m Trial 172 finished with value: 0.9641550207586597 and parameters: {'alpha': 1.0448790845630218e-06, 'l1_ratio': 4.4890493907072616e-07}. Best is trial 122 with value: 0.968464444980014.\u001b[0m\n",
      "\u001b[32m[I 2020-12-27 01:48:27,765]\u001b[0m Trial 173 finished with value: 0.9533864788384242 and parameters: {'alpha': 1.364689541371826e-06, 'l1_ratio': 1.2207331949174065e-06}. Best is trial 122 with value: 0.968464444980014.\u001b[0m\n",
      "\u001b[32m[I 2020-12-27 01:48:28,152]\u001b[0m Trial 174 finished with value: 0.906380523512056 and parameters: {'alpha': 0.0005529691278428287, 'l1_ratio': 3.4031176977447475e-07}. Best is trial 122 with value: 0.968464444980014.\u001b[0m\n",
      "\u001b[32m[I 2020-12-27 01:48:28,519]\u001b[0m Trial 175 finished with value: 0.9592484254910819 and parameters: {'alpha': 1.0029508122173608e-06, 'l1_ratio': 4.0262987478141027e-08}. Best is trial 122 with value: 0.968464444980014.\u001b[0m\n",
      "\u001b[32m[I 2020-12-27 01:48:28,919]\u001b[0m Trial 176 finished with value: 0.9611981415985947 and parameters: {'alpha': 2.3180187033780912e-06, 'l1_ratio': 5.957990447684103e-07}. Best is trial 122 with value: 0.968464444980014.\u001b[0m\n",
      "\u001b[32m[I 2020-12-27 01:48:29,305]\u001b[0m Trial 177 finished with value: 0.9623507013493577 and parameters: {'alpha': 7.854637207167556e-07, 'l1_ratio': 1.596380541827559e-07}. Best is trial 122 with value: 0.968464444980014.\u001b[0m\n",
      "\u001b[32m[I 2020-12-27 01:48:29,661]\u001b[0m Trial 178 finished with value: 0.9593349227814075 and parameters: {'alpha': 1.4148859627967614e-06, 'l1_ratio': 4.241461710467145e-07}. Best is trial 122 with value: 0.968464444980014.\u001b[0m\n",
      "\u001b[32m[I 2020-12-27 01:48:30,094]\u001b[0m Trial 179 finished with value: 0.9614521928377475 and parameters: {'alpha': 2.344732159058618e-07, 'l1_ratio': 2.13815230753999e-06}. Best is trial 122 with value: 0.968464444980014.\u001b[0m\n",
      "\u001b[32m[I 2020-12-27 01:48:30,437]\u001b[0m Trial 180 finished with value: 0.958665929936399 and parameters: {'alpha': 4.470926187167738e-06, 'l1_ratio': 5.132844725343237e-07}. Best is trial 122 with value: 0.968464444980014.\u001b[0m\n",
      "\u001b[32m[I 2020-12-27 01:48:30,833]\u001b[0m Trial 181 finished with value: 0.960876920984112 and parameters: {'alpha': 7.855509647943947e-07, 'l1_ratio': 1.3029892741003636e-07}. Best is trial 122 with value: 0.968464444980014.\u001b[0m\n",
      "\u001b[32m[I 2020-12-27 01:48:31,229]\u001b[0m Trial 182 finished with value: 0.9570217851158139 and parameters: {'alpha': 9.040504098329099e-07, 'l1_ratio': 1.0544346451083772e-06}. Best is trial 122 with value: 0.968464444980014.\u001b[0m\n",
      "\u001b[32m[I 2020-12-27 01:48:31,634]\u001b[0m Trial 183 finished with value: 0.9622057761499493 and parameters: {'alpha': 5.395371877156499e-07, 'l1_ratio': 1.6010931109808749e-07}. Best is trial 122 with value: 0.968464444980014.\u001b[0m\n",
      "\u001b[32m[I 2020-12-27 01:48:32,063]\u001b[0m Trial 184 finished with value: 0.9634646470520215 and parameters: {'alpha': 3.938726463994268e-07, 'l1_ratio': 2.5899047575758335e-07}. Best is trial 122 with value: 0.968464444980014.\u001b[0m\n"
     ]
    },
    {
     "name": "stderr",
     "output_type": "stream",
     "text": [
      "\u001b[32m[I 2020-12-27 01:48:32,451]\u001b[0m Trial 185 finished with value: 0.9631494177587437 and parameters: {'alpha': 3.1803007797486807e-07, 'l1_ratio': 3.384475447378584e-07}. Best is trial 122 with value: 0.968464444980014.\u001b[0m\n",
      "\u001b[32m[I 2020-12-27 01:48:32,884]\u001b[0m Trial 186 finished with value: 0.9612403194878864 and parameters: {'alpha': 3.286463298267112e-07, 'l1_ratio': 4.606021742467956e-07}. Best is trial 122 with value: 0.968464444980014.\u001b[0m\n",
      "\u001b[32m[I 2020-12-27 01:48:33,303]\u001b[0m Trial 187 finished with value: 0.9650301251783309 and parameters: {'alpha': 2.0305365077803043e-07, 'l1_ratio': 6.396071026992771e-08}. Best is trial 122 with value: 0.968464444980014.\u001b[0m\n",
      "\u001b[32m[I 2020-12-27 01:48:33,704]\u001b[0m Trial 188 finished with value: 0.9569280259336144 and parameters: {'alpha': 1.0242488853982225e-07, 'l1_ratio': 5.730466259117196e-08}. Best is trial 122 with value: 0.968464444980014.\u001b[0m\n",
      "\u001b[32m[I 2020-12-27 01:48:34,118]\u001b[0m Trial 189 finished with value: 0.9560873994562294 and parameters: {'alpha': 7.137407728463971e-08, 'l1_ratio': 3.0735429619834423e-07}. Best is trial 122 with value: 0.968464444980014.\u001b[0m\n",
      "\u001b[32m[I 2020-12-27 01:48:34,534]\u001b[0m Trial 190 finished with value: 0.9473094218617878 and parameters: {'alpha': 3.7699668504471046e-08, 'l1_ratio': 2.6683176977552973e-07}. Best is trial 122 with value: 0.968464444980014.\u001b[0m\n",
      "\u001b[32m[I 2020-12-27 01:48:34,981]\u001b[0m Trial 191 finished with value: 0.9536092194361113 and parameters: {'alpha': 1.688048631901979e-07, 'l1_ratio': 9.46383810464231e-08}. Best is trial 122 with value: 0.968464444980014.\u001b[0m\n",
      "\u001b[32m[I 2020-12-27 01:48:35,379]\u001b[0m Trial 192 finished with value: 0.9499609202163892 and parameters: {'alpha': 2.8427229332008655e-07, 'l1_ratio': 1.1207732238788294e-06}. Best is trial 122 with value: 0.968464444980014.\u001b[0m\n",
      "\u001b[32m[I 2020-12-27 01:48:35,756]\u001b[0m Trial 193 finished with value: 0.965834955860311 and parameters: {'alpha': 4.0149561238614586e-07, 'l1_ratio': 0.007568241045344679}. Best is trial 122 with value: 0.968464444980014.\u001b[0m\n",
      "\u001b[32m[I 2020-12-27 01:48:36,160]\u001b[0m Trial 194 finished with value: 0.957760511219917 and parameters: {'alpha': 3.9578351512496437e-07, 'l1_ratio': 0.007526545065230823}. Best is trial 122 with value: 0.968464444980014.\u001b[0m\n",
      "\u001b[32m[I 2020-12-27 01:48:36,568]\u001b[0m Trial 195 finished with value: 0.9574166416002952 and parameters: {'alpha': 2.062762154186274e-07, 'l1_ratio': 3.0077420787420734e-08}. Best is trial 122 with value: 0.968464444980014.\u001b[0m\n",
      "\u001b[32m[I 2020-12-27 01:48:36,969]\u001b[0m Trial 196 finished with value: 0.9556509601677017 and parameters: {'alpha': 1.3486684512405256e-07, 'l1_ratio': 0.003932558043095045}. Best is trial 122 with value: 0.968464444980014.\u001b[0m\n",
      "\u001b[32m[I 2020-12-27 01:48:37,379]\u001b[0m Trial 197 finished with value: 0.9581906436611562 and parameters: {'alpha': 4.4753841582583766e-07, 'l1_ratio': 0.013971073791054006}. Best is trial 122 with value: 0.968464444980014.\u001b[0m\n",
      "\u001b[32m[I 2020-12-27 01:48:37,764]\u001b[0m Trial 198 finished with value: 0.9532397335596534 and parameters: {'alpha': 3.615252534598091e-07, 'l1_ratio': 2.4985572163749916e-07}. Best is trial 122 with value: 0.968464444980014.\u001b[0m\n",
      "\u001b[32m[I 2020-12-27 01:48:38,162]\u001b[0m Trial 199 finished with value: 0.9642318704691782 and parameters: {'alpha': 6.054118721830416e-07, 'l1_ratio': 1.9457230518230176e-08}. Best is trial 122 with value: 0.968464444980014.\u001b[0m\n",
      "\u001b[32m[I 2020-12-27 01:48:38,588]\u001b[0m Trial 200 finished with value: 0.9508593602742528 and parameters: {'alpha': 2.371594378829524e-07, 'l1_ratio': 1.878834366335482e-08}. Best is trial 122 with value: 0.968464444980014.\u001b[0m\n",
      "\u001b[32m[I 2020-12-27 01:48:38,989]\u001b[0m Trial 201 finished with value: 0.9591008781589905 and parameters: {'alpha': 5.972584264256214e-07, 'l1_ratio': 4.449881262487721e-08}. Best is trial 122 with value: 0.968464444980014.\u001b[0m\n",
      "\u001b[32m[I 2020-12-27 01:48:39,382]\u001b[0m Trial 202 finished with value: 0.959162695389997 and parameters: {'alpha': 1.0538942792638934e-06, 'l1_ratio': 6.883368230745234e-08}. Best is trial 122 with value: 0.968464444980014.\u001b[0m\n",
      "\u001b[32m[I 2020-12-27 01:48:39,763]\u001b[0m Trial 203 finished with value: 0.9606653858277809 and parameters: {'alpha': 6.549181164043016e-07, 'l1_ratio': 7.214790804408685e-09}. Best is trial 122 with value: 0.968464444980014.\u001b[0m\n",
      "\u001b[32m[I 2020-12-27 01:48:40,169]\u001b[0m Trial 204 finished with value: 0.9622648536584413 and parameters: {'alpha': 5.009862158514466e-07, 'l1_ratio': 7.773039040902818e-07}. Best is trial 122 with value: 0.968464444980014.\u001b[0m\n",
      "\u001b[32m[I 2020-12-27 01:48:40,535]\u001b[0m Trial 205 finished with value: 0.9576749005223321 and parameters: {'alpha': 1.3105058955141584e-06, 'l1_ratio': 5.1938815517364104e-09}. Best is trial 122 with value: 0.968464444980014.\u001b[0m\n",
      "\u001b[32m[I 2020-12-27 01:48:40,946]\u001b[0m Trial 206 finished with value: 0.9619620518764476 and parameters: {'alpha': 3.1956903114186635e-07, 'l1_ratio': 0.0064599405172332865}. Best is trial 122 with value: 0.968464444980014.\u001b[0m\n",
      "\u001b[32m[I 2020-12-27 01:48:41,338]\u001b[0m Trial 207 finished with value: 0.9622007802896463 and parameters: {'alpha': 7.638178174328299e-07, 'l1_ratio': 0.0021294482126365485}. Best is trial 122 with value: 0.968464444980014.\u001b[0m\n",
      "\u001b[32m[I 2020-12-27 01:48:41,680]\u001b[0m Trial 208 finished with value: 0.953755974042724 and parameters: {'alpha': 1.8002276841505036e-06, 'l1_ratio': 1.2238710189384308e-08}. Best is trial 122 with value: 0.968464444980014.\u001b[0m\n",
      "\u001b[32m[I 2020-12-27 01:48:42,086]\u001b[0m Trial 209 finished with value: 0.9631639460002958 and parameters: {'alpha': 4.5555893618813e-07, 'l1_ratio': 1.8225806002062338e-09}. Best is trial 122 with value: 0.968464444980014.\u001b[0m\n",
      "\u001b[32m[I 2020-12-27 01:48:42,468]\u001b[0m Trial 210 finished with value: 0.9562429409589276 and parameters: {'alpha': 4.0949447582562295e-07, 'l1_ratio': 6.219047699916615e-10}. Best is trial 122 with value: 0.968464444980014.\u001b[0m\n",
      "\u001b[32m[I 2020-12-27 01:48:42,839]\u001b[0m Trial 211 finished with value: 0.9568654625662558 and parameters: {'alpha': 9.583644458314652e-07, 'l1_ratio': 3.4529229573886326e-09}. Best is trial 122 with value: 0.968464444980014.\u001b[0m\n",
      "\u001b[32m[I 2020-12-27 01:48:43,252]\u001b[0m Trial 212 finished with value: 0.9498864824264737 and parameters: {'alpha': 5.13285446721638e-07, 'l1_ratio': 8.432196171806388e-09}. Best is trial 122 with value: 0.968464444980014.\u001b[0m\n",
      "\u001b[32m[I 2020-12-27 01:48:43,659]\u001b[0m Trial 213 finished with value: 0.9560613283439743 and parameters: {'alpha': 3.339900914167804e-07, 'l1_ratio': 2.1064557174365104e-09}. Best is trial 122 with value: 0.968464444980014.\u001b[0m\n",
      "\u001b[32m[I 2020-12-27 01:48:44,034]\u001b[0m Trial 214 finished with value: 0.9691920683625413 and parameters: {'alpha': 6.431295824046616e-07, 'l1_ratio': 1.4339881799316803e-08}. Best is trial 214 with value: 0.9691920683625413.\u001b[0m\n",
      "\u001b[32m[I 2020-12-27 01:48:44,419]\u001b[0m Trial 215 finished with value: 0.9642700877370629 and parameters: {'alpha': 6.278784612228193e-07, 'l1_ratio': 1.4734725495330982e-08}. Best is trial 214 with value: 0.9691920683625413.\u001b[0m\n",
      "\u001b[32m[I 2020-12-27 01:48:44,835]\u001b[0m Trial 216 finished with value: 0.9538913788887218 and parameters: {'alpha': 1.9010393590153342e-07, 'l1_ratio': 2.3350110198295895e-08}. Best is trial 214 with value: 0.9691920683625413.\u001b[0m\n",
      "\u001b[32m[I 2020-12-27 01:48:45,232]\u001b[0m Trial 217 finished with value: 0.9570228436818127 and parameters: {'alpha': 6.29624075425076e-07, 'l1_ratio': 1.3943422745468989e-09}. Best is trial 214 with value: 0.9691920683625413.\u001b[0m\n",
      "\u001b[32m[I 2020-12-27 01:48:45,667]\u001b[0m Trial 218 finished with value: 0.9613833913854513 and parameters: {'alpha': 2.6103684623233273e-07, 'l1_ratio': 1.7527323687475408e-08}. Best is trial 214 with value: 0.9691920683625413.\u001b[0m\n",
      "\u001b[32m[I 2020-12-27 01:48:46,064]\u001b[0m Trial 219 finished with value: 0.9553862955350295 and parameters: {'alpha': 4.615753032143824e-07, 'l1_ratio': 8.950033633171618e-08}. Best is trial 214 with value: 0.9691920683625413.\u001b[0m\n",
      "\u001b[32m[I 2020-12-27 01:48:46,448]\u001b[0m Trial 220 finished with value: 0.9625279781642878 and parameters: {'alpha': 8.61381568269975e-07, 'l1_ratio': 3.331286380081394e-08}. Best is trial 214 with value: 0.9691920683625413.\u001b[0m\n",
      "\u001b[32m[I 2020-12-27 01:48:46,812]\u001b[0m Trial 221 finished with value: 0.9581143291956291 and parameters: {'alpha': 1.2441163130964487e-06, 'l1_ratio': 1.1481080106076948e-08}. Best is trial 214 with value: 0.9691920683625413.\u001b[0m\n"
     ]
    },
    {
     "name": "stderr",
     "output_type": "stream",
     "text": [
      "\u001b[32m[I 2020-12-27 01:48:47,187]\u001b[0m Trial 222 finished with value: 0.9573295578005268 and parameters: {'alpha': 6.699895937107699e-07, 'l1_ratio': 1.9761557787239824e-07}. Best is trial 214 with value: 0.9691920683625413.\u001b[0m\n",
      "\u001b[32m[I 2020-12-27 01:48:47,543]\u001b[0m Trial 223 finished with value: 0.9671689305373936 and parameters: {'alpha': 1.0705681723999051e-06, 'l1_ratio': 0.00972342160344605}. Best is trial 214 with value: 0.9691920683625413.\u001b[0m\n",
      "\u001b[32m[I 2020-12-27 01:48:47,918]\u001b[0m Trial 224 finished with value: 0.9601849679028999 and parameters: {'alpha': 4.6392612722402934e-07, 'l1_ratio': 0.006996474560807697}. Best is trial 214 with value: 0.9691920683625413.\u001b[0m\n",
      "\u001b[32m[I 2020-12-27 01:48:48,297]\u001b[0m Trial 225 finished with value: 0.9557767227702799 and parameters: {'alpha': 1.008686171092715e-06, 'l1_ratio': 0.03247132179174259}. Best is trial 214 with value: 0.9691920683625413.\u001b[0m\n",
      "\u001b[32m[I 2020-12-27 01:48:48,686]\u001b[0m Trial 226 finished with value: 0.9677108444183169 and parameters: {'alpha': 6.927761042405162e-07, 'l1_ratio': 0.004284188803066085}. Best is trial 214 with value: 0.9691920683625413.\u001b[0m\n",
      "\u001b[32m[I 2020-12-27 01:48:49,068]\u001b[0m Trial 227 finished with value: 0.9606795658311363 and parameters: {'alpha': 7.593031409746151e-07, 'l1_ratio': 0.01154407770181147}. Best is trial 214 with value: 0.9691920683625413.\u001b[0m\n",
      "\u001b[32m[I 2020-12-27 01:48:49,486]\u001b[0m Trial 228 finished with value: 0.9606126456096598 and parameters: {'alpha': 3.197839813410893e-07, 'l1_ratio': 0.004864889840735178}. Best is trial 214 with value: 0.9691920683625413.\u001b[0m\n",
      "\u001b[32m[I 2020-12-27 01:48:49,887]\u001b[0m Trial 229 finished with value: 0.9587564726628034 and parameters: {'alpha': 5.674357049663823e-07, 'l1_ratio': 4.870419402462449e-09}. Best is trial 214 with value: 0.9691920683625413.\u001b[0m\n",
      "\u001b[32m[I 2020-12-27 01:48:50,250]\u001b[0m Trial 230 finished with value: 0.9586655984734137 and parameters: {'alpha': 1.8271994771390305e-06, 'l1_ratio': 0.0029410557862049485}. Best is trial 214 with value: 0.9691920683625413.\u001b[0m\n",
      "\u001b[32m[I 2020-12-27 01:48:50,614]\u001b[0m Trial 231 finished with value: 0.9564049297789603 and parameters: {'alpha': 7.631642982123551e-07, 'l1_ratio': 0.0104252127921022}. Best is trial 214 with value: 0.9691920683625413.\u001b[0m\n",
      "\u001b[32m[I 2020-12-27 01:48:51,017]\u001b[0m Trial 232 finished with value: 0.9535298564935528 and parameters: {'alpha': 4.212915749218403e-07, 'l1_ratio': 0.0028008231981991017}. Best is trial 214 with value: 0.9691920683625413.\u001b[0m\n",
      "\u001b[32m[I 2020-12-27 01:48:51,399]\u001b[0m Trial 233 finished with value: 0.9570285080978232 and parameters: {'alpha': 1.019385527734038e-06, 'l1_ratio': 0.009669448861243098}. Best is trial 214 with value: 0.9691920683625413.\u001b[0m\n",
      "\u001b[32m[I 2020-12-27 01:48:51,838]\u001b[0m Trial 234 finished with value: 0.9636241388491212 and parameters: {'alpha': 5.655672021173807e-07, 'l1_ratio': 0.022383118602878404}. Best is trial 214 with value: 0.9691920683625413.\u001b[0m\n",
      "\u001b[32m[I 2020-12-27 01:48:52,280]\u001b[0m Trial 235 finished with value: 0.9633841619286828 and parameters: {'alpha': 2.5947283426509224e-07, 'l1_ratio': 3.3561244228338923e-10}. Best is trial 214 with value: 0.9691920683625413.\u001b[0m\n",
      "\u001b[32m[I 2020-12-27 01:48:52,729]\u001b[0m Trial 236 finished with value: 0.9565096939424327 and parameters: {'alpha': 1.274044444602317e-06, 'l1_ratio': 0.055507986666655046}. Best is trial 214 with value: 0.9691920683625413.\u001b[0m\n",
      "\u001b[32m[I 2020-12-27 01:48:53,275]\u001b[0m Trial 237 finished with value: 0.9547759740171275 and parameters: {'alpha': 5.680663112262103e-07, 'l1_ratio': 2.865274701215918e-10}. Best is trial 214 with value: 0.9691920683625413.\u001b[0m\n",
      "\u001b[32m[I 2020-12-27 01:48:53,828]\u001b[0m Trial 238 finished with value: 0.9599429348975295 and parameters: {'alpha': 2.1860763026049884e-07, 'l1_ratio': 1.455732259287591e-10}. Best is trial 214 with value: 0.9691920683625413.\u001b[0m\n",
      "\u001b[32m[I 2020-12-27 01:48:54,251]\u001b[0m Trial 239 finished with value: 0.9603771847926902 and parameters: {'alpha': 7.291094410806575e-07, 'l1_ratio': 3.234952006276533e-10}. Best is trial 214 with value: 0.9691920683625413.\u001b[0m\n",
      "\u001b[32m[I 2020-12-27 01:48:54,708]\u001b[0m Trial 240 finished with value: 0.9348534907700612 and parameters: {'alpha': 2.488813009392395e-08, 'l1_ratio': 0.020735973111444875}. Best is trial 214 with value: 0.9691920683625413.\u001b[0m\n",
      "\u001b[32m[I 2020-12-27 01:48:55,097]\u001b[0m Trial 241 finished with value: 0.9663940035957115 and parameters: {'alpha': 2.650196703645291e-07, 'l1_ratio': 8.641802972360433e-10}. Best is trial 214 with value: 0.9691920683625413.\u001b[0m\n",
      "\u001b[32m[I 2020-12-27 01:48:55,471]\u001b[0m Trial 242 finished with value: 0.9526823116378323 and parameters: {'alpha': 3.9761275108212196e-07, 'l1_ratio': 0.018388223568275963}. Best is trial 214 with value: 0.9691920683625413.\u001b[0m\n",
      "\u001b[32m[I 2020-12-27 01:48:55,895]\u001b[0m Trial 243 finished with value: 0.960423411589033 and parameters: {'alpha': 2.649083633370151e-07, 'l1_ratio': 8.633798880855794e-10}. Best is trial 214 with value: 0.9691920683625413.\u001b[0m\n",
      "\u001b[32m[I 2020-12-27 01:48:56,307]\u001b[0m Trial 244 finished with value: 0.9572385497479527 and parameters: {'alpha': 1.4027900812856963e-07, 'l1_ratio': 1.7793189736939167e-10}. Best is trial 214 with value: 0.9691920683625413.\u001b[0m\n",
      "\u001b[32m[I 2020-12-27 01:48:56,734]\u001b[0m Trial 245 finished with value: 0.960218876327168 and parameters: {'alpha': 6.13346295849201e-07, 'l1_ratio': 7.687172959336996e-10}. Best is trial 214 with value: 0.9691920683625413.\u001b[0m\n",
      "\u001b[32m[I 2020-12-27 01:48:57,117]\u001b[0m Trial 246 finished with value: 0.9627184117688886 and parameters: {'alpha': 4.4532362102401796e-07, 'l1_ratio': 1.4725545354374603e-09}. Best is trial 214 with value: 0.9691920683625413.\u001b[0m\n",
      "\u001b[32m[I 2020-12-27 01:48:57,477]\u001b[0m Trial 247 finished with value: 0.9579217811617493 and parameters: {'alpha': 1.095956248456045e-06, 'l1_ratio': 3.6941224160892866e-10}. Best is trial 214 with value: 0.9691920683625413.\u001b[0m\n",
      "\u001b[32m[I 2020-12-27 01:48:57,858]\u001b[0m Trial 248 finished with value: 0.956355082468442 and parameters: {'alpha': 3.4879185061530716e-07, 'l1_ratio': 3.029564254225575e-09}. Best is trial 214 with value: 0.9691920683625413.\u001b[0m\n",
      "\u001b[32m[I 2020-12-27 01:48:58,276]\u001b[0m Trial 249 finished with value: 0.9540518728815608 and parameters: {'alpha': 1.9166292229950343e-07, 'l1_ratio': 5.065112654071711e-10}. Best is trial 214 with value: 0.9691920683625413.\u001b[0m\n",
      "\u001b[32m[I 2020-12-27 01:48:58,673]\u001b[0m Trial 250 finished with value: 0.9587660128132421 and parameters: {'alpha': 8.093325880616973e-07, 'l1_ratio': 1.6188062181273167e-09}. Best is trial 214 with value: 0.9691920683625413.\u001b[0m\n",
      "\u001b[32m[I 2020-12-27 01:48:59,040]\u001b[0m Trial 251 finished with value: 0.9545913763973021 and parameters: {'alpha': 1.561599194219797e-06, 'l1_ratio': 1.0592024748657063e-10}. Best is trial 214 with value: 0.9691920683625413.\u001b[0m\n",
      "\u001b[32m[I 2020-12-27 01:48:59,436]\u001b[0m Trial 252 finished with value: 0.9614301153469645 and parameters: {'alpha': 5.409856418374773e-07, 'l1_ratio': 1.0016650376364575e-09}. Best is trial 214 with value: 0.9691920683625413.\u001b[0m\n",
      "\u001b[32m[I 2020-12-27 01:48:59,810]\u001b[0m Trial 253 finished with value: 0.9616089398110267 and parameters: {'alpha': 1.0147927282976208e-06, 'l1_ratio': 0.005613662469929871}. Best is trial 214 with value: 0.9691920683625413.\u001b[0m\n",
      "\u001b[32m[I 2020-12-27 01:49:00,220]\u001b[0m Trial 254 finished with value: 0.951898281970285 and parameters: {'alpha': 2.5983162311281714e-07, 'l1_ratio': 0.031714091391373746}. Best is trial 214 with value: 0.9691920683625413.\u001b[0m\n",
      "\u001b[32m[I 2020-12-27 01:49:00,663]\u001b[0m Trial 255 finished with value: 0.9476257826645854 and parameters: {'alpha': 8.794959715508127e-08, 'l1_ratio': 0.01593005771173976}. Best is trial 214 with value: 0.9691920683625413.\u001b[0m\n",
      "\u001b[32m[I 2020-12-27 01:49:01,056]\u001b[0m Trial 256 finished with value: 0.9572806081707164 and parameters: {'alpha': 4.6318462432305475e-07, 'l1_ratio': 5.533752453872572e-08}. Best is trial 214 with value: 0.9691920683625413.\u001b[0m\n",
      "\u001b[32m[I 2020-12-27 01:49:01,440]\u001b[0m Trial 257 finished with value: 0.9499877935851475 and parameters: {'alpha': 6.615303192969006e-07, 'l1_ratio': 2.754456266236767e-08}. Best is trial 214 with value: 0.9691920683625413.\u001b[0m\n",
      "\u001b[32m[I 2020-12-27 01:49:01,827]\u001b[0m Trial 258 finished with value: 0.9589866549778938 and parameters: {'alpha': 3.3308488954569967e-07, 'l1_ratio': 1.4110173408195656e-07}. Best is trial 214 with value: 0.9691920683625413.\u001b[0m\n"
     ]
    },
    {
     "name": "stderr",
     "output_type": "stream",
     "text": [
      "\u001b[32m[I 2020-12-27 01:49:02,204]\u001b[0m Trial 259 finished with value: 0.9602756846504216 and parameters: {'alpha': 1.208359003161694e-06, 'l1_ratio': 7.371326225496188e-09}. Best is trial 214 with value: 0.9691920683625413.\u001b[0m\n",
      "\u001b[32m[I 2020-12-27 01:49:02,544]\u001b[0m Trial 260 finished with value: 0.9635744427987579 and parameters: {'alpha': 2.2269422293653257e-06, 'l1_ratio': 3.0448722663248823e-05}. Best is trial 214 with value: 0.9691920683625413.\u001b[0m\n",
      "\u001b[32m[I 2020-12-27 01:49:02,903]\u001b[0m Trial 261 finished with value: 0.9564274010396431 and parameters: {'alpha': 1.9709967088961716e-06, 'l1_ratio': 2.8613385714278102e-05}. Best is trial 214 with value: 0.9691920683625413.\u001b[0m\n",
      "\u001b[32m[I 2020-12-27 01:49:03,259]\u001b[0m Trial 262 finished with value: 0.9586924782446195 and parameters: {'alpha': 2.249587653582013e-06, 'l1_ratio': 1.530310836952946e-08}. Best is trial 214 with value: 0.9691920683625413.\u001b[0m\n",
      "\u001b[32m[I 2020-12-27 01:49:03,676]\u001b[0m Trial 263 finished with value: 0.9565694192657364 and parameters: {'alpha': 5.1783955664744215e-08, 'l1_ratio': 4.77078081127567e-05}. Best is trial 214 with value: 0.9691920683625413.\u001b[0m\n",
      "\u001b[32m[I 2020-12-27 01:49:04,044]\u001b[0m Trial 264 finished with value: 0.9566228699687129 and parameters: {'alpha': 1.521354559308804e-06, 'l1_ratio': 3.0372750235798406e-05}. Best is trial 214 with value: 0.9691920683625413.\u001b[0m\n",
      "\u001b[32m[I 2020-12-27 01:49:04,491]\u001b[0m Trial 265 finished with value: 0.9615318558031483 and parameters: {'alpha': 7.987325411352477e-07, 'l1_ratio': 8.811661023196807e-05}. Best is trial 214 with value: 0.9691920683625413.\u001b[0m\n",
      "\u001b[32m[I 2020-12-27 01:49:04,830]\u001b[0m Trial 266 finished with value: 0.954677215989495 and parameters: {'alpha': 3.267807912771667e-06, 'l1_ratio': 0.007947194489859954}. Best is trial 214 with value: 0.9691920683625413.\u001b[0m\n",
      "\u001b[32m[I 2020-12-27 01:49:05,181]\u001b[0m Trial 267 finished with value: 0.9602951970636846 and parameters: {'alpha': 1.118554208107805e-06, 'l1_ratio': 2.226160637376402e-10}. Best is trial 214 with value: 0.9691920683625413.\u001b[0m\n",
      "\u001b[32m[I 2020-12-27 01:49:05,522]\u001b[0m Trial 268 finished with value: 0.9558106942602874 and parameters: {'alpha': 2.643376751609934e-06, 'l1_ratio': 2.8148547198910584e-06}. Best is trial 214 with value: 0.9691920683625413.\u001b[0m\n",
      "\u001b[32m[I 2020-12-27 01:49:05,909]\u001b[0m Trial 269 finished with value: 0.9652106417524927 and parameters: {'alpha': 8.230603471805989e-07, 'l1_ratio': 1.803049969867445e-05}. Best is trial 214 with value: 0.9691920683625413.\u001b[0m\n",
      "\u001b[32m[I 2020-12-27 01:49:06,275]\u001b[0m Trial 270 finished with value: 0.957965941424875 and parameters: {'alpha': 7.10781505435594e-07, 'l1_ratio': 1.559998647241325e-05}. Best is trial 214 with value: 0.9691920683625413.\u001b[0m\n",
      "\u001b[32m[I 2020-12-27 01:49:06,704]\u001b[0m Trial 271 finished with value: 0.9651117693320024 and parameters: {'alpha': 1.5785476176220018e-07, 'l1_ratio': 9.887826390760502e-06}. Best is trial 214 with value: 0.9691920683625413.\u001b[0m\n",
      "\u001b[32m[I 2020-12-27 01:49:07,113]\u001b[0m Trial 272 finished with value: 0.9499144333355193 and parameters: {'alpha': 1.5299361545722956e-07, 'l1_ratio': 1.7824246583925168e-05}. Best is trial 214 with value: 0.9691920683625413.\u001b[0m\n",
      "\u001b[32m[I 2020-12-27 01:49:07,558]\u001b[0m Trial 273 finished with value: 0.9515432617786463 and parameters: {'alpha': 1.090967452291975e-07, 'l1_ratio': 2.7805611806090716e-05}. Best is trial 214 with value: 0.9691920683625413.\u001b[0m\n",
      "\u001b[32m[I 2020-12-27 01:49:07,950]\u001b[0m Trial 274 finished with value: 0.950851433086422 and parameters: {'alpha': 2.1943450186119735e-07, 'l1_ratio': 4.787232401673887e-05}. Best is trial 214 with value: 0.9691920683625413.\u001b[0m\n",
      "\u001b[32m[I 2020-12-27 01:49:08,355]\u001b[0m Trial 275 finished with value: 0.9507297392444161 and parameters: {'alpha': 1.6434855147105765e-07, 'l1_ratio': 7.134221072953385e-05}. Best is trial 214 with value: 0.9691920683625413.\u001b[0m\n",
      "\u001b[32m[I 2020-12-27 01:49:08,749]\u001b[0m Trial 276 finished with value: 0.9553929944795725 and parameters: {'alpha': 3.0025608910246755e-07, 'l1_ratio': 9.25985533879698e-06}. Best is trial 214 with value: 0.9691920683625413.\u001b[0m\n",
      "\u001b[32m[I 2020-12-27 01:49:09,173]\u001b[0m Trial 277 finished with value: 0.9503969590133671 and parameters: {'alpha': 6.3122174244955e-08, 'l1_ratio': 3.648978146412487e-05}. Best is trial 214 with value: 0.9691920683625413.\u001b[0m\n",
      "\u001b[32m[I 2020-12-27 01:49:09,580]\u001b[0m Trial 278 finished with value: 0.9634892511098675 and parameters: {'alpha': 3.9246601707341396e-07, 'l1_ratio': 0.003930016563293968}. Best is trial 214 with value: 0.9691920683625413.\u001b[0m\n",
      "\u001b[32m[I 2020-12-27 01:49:09,976]\u001b[0m Trial 279 finished with value: 0.9585255435423417 and parameters: {'alpha': 5.322503743935267e-07, 'l1_ratio': 0.01142705442646321}. Best is trial 214 with value: 0.9691920683625413.\u001b[0m\n",
      "\u001b[32m[I 2020-12-27 01:49:10,357]\u001b[0m Trial 280 finished with value: 0.9595694864221969 and parameters: {'alpha': 3.946075871034595e-07, 'l1_ratio': 0.0010965200059006185}. Best is trial 214 with value: 0.9691920683625413.\u001b[0m\n",
      "\u001b[32m[I 2020-12-27 01:49:10,733]\u001b[0m Trial 281 finished with value: 0.9609293523436789 and parameters: {'alpha': 6.974333172731514e-07, 'l1_ratio': 0.004117568950736434}. Best is trial 214 with value: 0.9691920683625413.\u001b[0m\n",
      "\u001b[32m[I 2020-12-27 01:49:11,120]\u001b[0m Trial 282 finished with value: 0.9573073897393345 and parameters: {'alpha': 4.981419766403914e-07, 'l1_ratio': 0.004302411882179278}. Best is trial 214 with value: 0.9691920683625413.\u001b[0m\n",
      "\u001b[32m[I 2020-12-27 01:49:11,496]\u001b[0m Trial 283 finished with value: 0.9671516299010832 and parameters: {'alpha': 9.127985059363269e-07, 'l1_ratio': 0.0021474482383751882}. Best is trial 214 with value: 0.9691920683625413.\u001b[0m\n",
      "\u001b[32m[I 2020-12-27 01:49:11,874]\u001b[0m Trial 284 finished with value: 0.9573823664620765 and parameters: {'alpha': 9.393881299055103e-07, 'l1_ratio': 0.004830554986892628}. Best is trial 214 with value: 0.9691920683625413.\u001b[0m\n",
      "\u001b[32m[I 2020-12-27 01:49:12,244]\u001b[0m Trial 285 finished with value: 0.9552816817485051 and parameters: {'alpha': 1.5089206145398263e-06, 'l1_ratio': 0.00217422409671735}. Best is trial 214 with value: 0.9691920683625413.\u001b[0m\n",
      "\u001b[32m[I 2020-12-27 01:49:12,603]\u001b[0m Trial 286 finished with value: 0.9628658348530669 and parameters: {'alpha': 1.1692198255443309e-06, 'l1_ratio': 0.001776224727954275}. Best is trial 214 with value: 0.9691920683625413.\u001b[0m\n",
      "\u001b[32m[I 2020-12-27 01:49:12,986]\u001b[0m Trial 287 finished with value: 0.9530698462266662 and parameters: {'alpha': 8.302087494143554e-07, 'l1_ratio': 0.09677062428388851}. Best is trial 214 with value: 0.9691920683625413.\u001b[0m\n",
      "\u001b[32m[I 2020-12-27 01:49:13,388]\u001b[0m Trial 288 finished with value: 0.958969346425561 and parameters: {'alpha': 5.605214160288672e-07, 'l1_ratio': 0.00714537784739091}. Best is trial 214 with value: 0.9691920683625413.\u001b[0m\n",
      "\u001b[32m[I 2020-12-27 01:49:13,820]\u001b[0m Trial 289 finished with value: 0.9659763711655935 and parameters: {'alpha': 1.0984653724927173e-07, 'l1_ratio': 2.13295448355803e-05}. Best is trial 214 with value: 0.9691920683625413.\u001b[0m\n",
      "\u001b[32m[I 2020-12-27 01:49:14,234]\u001b[0m Trial 290 finished with value: 0.9493931833638367 and parameters: {'alpha': 1.0373232996023872e-07, 'l1_ratio': 1.9665855058707106e-05}. Best is trial 214 with value: 0.9691920683625413.\u001b[0m\n",
      "\u001b[32m[I 2020-12-27 01:49:14,651]\u001b[0m Trial 291 finished with value: 0.9442405651016555 and parameters: {'alpha': 8.295095765456597e-08, 'l1_ratio': 1.3270402093521485e-05}. Best is trial 214 with value: 0.9691920683625413.\u001b[0m\n",
      "\u001b[32m[I 2020-12-27 01:49:15,104]\u001b[0m Trial 292 finished with value: 0.9516489134899486 and parameters: {'alpha': 1.6843151536581603e-07, 'l1_ratio': 4.0959869854018424e-05}. Best is trial 214 with value: 0.9691920683625413.\u001b[0m\n",
      "\u001b[32m[I 2020-12-27 01:49:15,489]\u001b[0m Trial 293 finished with value: 0.9541932738808939 and parameters: {'alpha': 9.164928087442167e-07, 'l1_ratio': 1.906392025292846e-08}. Best is trial 214 with value: 0.9691920683625413.\u001b[0m\n",
      "\u001b[32m[I 2020-12-27 01:49:15,905]\u001b[0m Trial 294 finished with value: 0.9540258480220525 and parameters: {'alpha': 6.035600826529718e-08, 'l1_ratio': 2.3569852610677587e-05}. Best is trial 214 with value: 0.9691920683625413.\u001b[0m\n",
      "\u001b[32m[I 2020-12-27 01:49:16,265]\u001b[0m Trial 295 finished with value: 0.9578210504566894 and parameters: {'alpha': 1.9451959912820916e-06, 'l1_ratio': 5.584100317709876e-05}. Best is trial 214 with value: 0.9691920683625413.\u001b[0m\n"
     ]
    },
    {
     "name": "stderr",
     "output_type": "stream",
     "text": [
      "\u001b[32m[I 2020-12-27 01:49:16,687]\u001b[0m Trial 296 finished with value: 0.9577533328426375 and parameters: {'alpha': 1.3333883108734458e-07, 'l1_ratio': 1.2082126127754019e-05}. Best is trial 214 with value: 0.9691920683625413.\u001b[0m\n",
      "\u001b[32m[I 2020-12-27 01:49:17,060]\u001b[0m Trial 297 finished with value: 0.9546332700959683 and parameters: {'alpha': 1.135175046527549e-06, 'l1_ratio': 0.016372822670203055}. Best is trial 214 with value: 0.9691920683625413.\u001b[0m\n",
      "\u001b[32m[I 2020-12-27 01:49:17,485]\u001b[0m Trial 298 finished with value: 0.9594576399414458 and parameters: {'alpha': 6.158357121801793e-07, 'l1_ratio': 3.568539177272455e-08}. Best is trial 214 with value: 0.9691920683625413.\u001b[0m\n",
      "\u001b[32m[I 2020-12-27 01:49:17,913]\u001b[0m Trial 299 finished with value: 0.9567756313808301 and parameters: {'alpha': 2.320051715863372e-07, 'l1_ratio': 2.0041587001898983e-05}. Best is trial 214 with value: 0.9691920683625413.\u001b[0m\n",
      "\u001b[32m[I 2020-12-27 01:49:18,282]\u001b[0m Trial 300 finished with value: 0.9598010233497057 and parameters: {'alpha': 1.525809136269464e-06, 'l1_ratio': 1.2583379365062498e-08}. Best is trial 214 with value: 0.9691920683625413.\u001b[0m\n",
      "\u001b[32m[I 2020-12-27 01:49:18,665]\u001b[0m Trial 301 finished with value: 0.9655350231234147 and parameters: {'alpha': 7.519146715512015e-07, 'l1_ratio': 7.856175005246394e-05}. Best is trial 214 with value: 0.9691920683625413.\u001b[0m\n",
      "\u001b[32m[I 2020-12-27 01:49:19,049]\u001b[0m Trial 302 finished with value: 0.9630439344506149 and parameters: {'alpha': 6.919914700676218e-07, 'l1_ratio': 0.00015477483105289292}. Best is trial 214 with value: 0.9691920683625413.\u001b[0m\n",
      "\u001b[32m[I 2020-12-27 01:49:19,461]\u001b[0m Trial 303 finished with value: 0.9552895096937153 and parameters: {'alpha': 3.2223020340457654e-07, 'l1_ratio': 0.00010212272837586008}. Best is trial 214 with value: 0.9691920683625413.\u001b[0m\n",
      "\u001b[32m[I 2020-12-27 01:49:19,822]\u001b[0m Trial 304 finished with value: 0.9548262494884016 and parameters: {'alpha': 8.90267145372128e-07, 'l1_ratio': 6.593756436021831e-08}. Best is trial 214 with value: 0.9691920683625413.\u001b[0m\n",
      "\u001b[32m[I 2020-12-27 01:49:20,199]\u001b[0m Trial 305 finished with value: 0.9577552477918618 and parameters: {'alpha': 5.726607439007393e-07, 'l1_ratio': 0.009536336659116481}. Best is trial 214 with value: 0.9691920683625413.\u001b[0m\n",
      "\u001b[32m[I 2020-12-27 01:49:20,617]\u001b[0m Trial 306 finished with value: 0.9464138545275469 and parameters: {'alpha': 1.0060578058419111e-07, 'l1_ratio': 0.026590950688568583}. Best is trial 214 with value: 0.9691920683625413.\u001b[0m\n",
      "\u001b[32m[I 2020-12-27 01:49:21,018]\u001b[0m Trial 307 finished with value: 0.9584876226092679 and parameters: {'alpha': 4.3084308795720815e-07, 'l1_ratio': 7.824646178094775e-05}. Best is trial 214 with value: 0.9691920683625413.\u001b[0m\n",
      "\u001b[32m[I 2020-12-27 01:49:21,407]\u001b[0m Trial 308 finished with value: 0.9594104945355334 and parameters: {'alpha': 8.679249492347557e-07, 'l1_ratio': 5.411064524503671e-05}. Best is trial 214 with value: 0.9691920683625413.\u001b[0m\n",
      "\u001b[32m[I 2020-12-27 01:49:21,835]\u001b[0m Trial 309 finished with value: 0.9467289959991005 and parameters: {'alpha': 2.463352728783802e-07, 'l1_ratio': 8.265593215798751e-09}. Best is trial 214 with value: 0.9691920683625413.\u001b[0m\n",
      "\u001b[32m[I 2020-12-27 01:49:22,203]\u001b[0m Trial 310 finished with value: 0.9550903143145698 and parameters: {'alpha': 1.2325893626181075e-06, 'l1_ratio': 0.00014365589060803263}. Best is trial 214 with value: 0.9691920683625413.\u001b[0m\n",
      "\u001b[32m[I 2020-12-27 01:49:22,652]\u001b[0m Trial 311 finished with value: 0.9611240665072448 and parameters: {'alpha': 5.802484127292552e-07, 'l1_ratio': 0.0028532340468372876}. Best is trial 214 with value: 0.9691920683625413.\u001b[0m\n",
      "\u001b[32m[I 2020-12-27 01:49:23,067]\u001b[0m Trial 312 finished with value: 0.9549716028898436 and parameters: {'alpha': 1.3243236248403996e-07, 'l1_ratio': 0.04987364488237441}. Best is trial 214 with value: 0.9691920683625413.\u001b[0m\n",
      "\u001b[32m[I 2020-12-27 01:49:23,510]\u001b[0m Trial 313 finished with value: 0.9589619996013473 and parameters: {'alpha': 3.5475331787223804e-07, 'l1_ratio': 0.00027624518283606584}. Best is trial 214 with value: 0.9691920683625413.\u001b[0m\n",
      "\u001b[32m[I 2020-12-27 01:49:23,940]\u001b[0m Trial 314 finished with value: 0.9529480299678139 and parameters: {'alpha': 4.696753301839085e-08, 'l1_ratio': 2.739418714883453e-08}. Best is trial 214 with value: 0.9691920683625413.\u001b[0m\n",
      "\u001b[32m[I 2020-12-27 01:49:24,307]\u001b[0m Trial 315 finished with value: 0.9531444184412058 and parameters: {'alpha': 7.174429712120944e-07, 'l1_ratio': 5.071901383214697e-08}. Best is trial 214 with value: 0.9691920683625413.\u001b[0m\n",
      "\u001b[32m[I 2020-12-27 01:49:24,684]\u001b[0m Trial 316 finished with value: 0.9581392448828301 and parameters: {'alpha': 1.2313828895622423e-06, 'l1_ratio': 5.122403524214332e-09}. Best is trial 214 with value: 0.9691920683625413.\u001b[0m\n",
      "\u001b[32m[I 2020-12-27 01:49:25,120]\u001b[0m Trial 317 finished with value: 0.9623587430239089 and parameters: {'alpha': 2.026291721759185e-07, 'l1_ratio': 7.799182563709036e-06}. Best is trial 214 with value: 0.9691920683625413.\u001b[0m\n",
      "\u001b[32m[I 2020-12-27 01:49:25,515]\u001b[0m Trial 318 finished with value: 0.956426307659393 and parameters: {'alpha': 5.025536169260277e-07, 'l1_ratio': 0.00812090940655043}. Best is trial 214 with value: 0.9691920683625413.\u001b[0m\n",
      "\u001b[32m[I 2020-12-27 01:49:25,882]\u001b[0m Trial 319 finished with value: 0.9618841240531357 and parameters: {'alpha': 8.669308752635641e-07, 'l1_ratio': 0.0013958352460593881}. Best is trial 214 with value: 0.9691920683625413.\u001b[0m\n",
      "\u001b[32m[I 2020-12-27 01:49:26,315]\u001b[0m Trial 320 finished with value: 0.955664598598491 and parameters: {'alpha': 3.406240754763332e-07, 'l1_ratio': 9.677572886874366e-08}. Best is trial 214 with value: 0.9691920683625413.\u001b[0m\n",
      "\u001b[32m[I 2020-12-27 01:49:26,714]\u001b[0m Trial 321 finished with value: 0.958198588507454 and parameters: {'alpha': 5.059562619054765e-07, 'l1_ratio': 0.012709030891767418}. Best is trial 214 with value: 0.9691920683625413.\u001b[0m\n",
      "\u001b[32m[I 2020-12-27 01:49:27,172]\u001b[0m Trial 322 finished with value: 0.954707979847217 and parameters: {'alpha': 7.61378954370076e-08, 'l1_ratio': 1.8953909683948744e-08}. Best is trial 214 with value: 0.9691920683625413.\u001b[0m\n",
      "\u001b[32m[I 2020-12-27 01:49:27,541]\u001b[0m Trial 323 finished with value: 0.9572451180701756 and parameters: {'alpha': 7.206412406124328e-07, 'l1_ratio': 0.24648018644671527}. Best is trial 214 with value: 0.9691920683625413.\u001b[0m\n",
      "\u001b[32m[I 2020-12-27 01:49:27,906]\u001b[0m Trial 324 finished with value: 0.960252814848826 and parameters: {'alpha': 1.3726180549708595e-06, 'l1_ratio': 0.005667350642176883}. Best is trial 214 with value: 0.9691920683625413.\u001b[0m\n",
      "\u001b[32m[I 2020-12-27 01:49:28,314]\u001b[0m Trial 325 finished with value: 0.955009177602193 and parameters: {'alpha': 2.9432900368066413e-07, 'l1_ratio': 3.8980835291424295e-05}. Best is trial 214 with value: 0.9691920683625413.\u001b[0m\n",
      "\u001b[32m[I 2020-12-27 01:49:28,703]\u001b[0m Trial 326 finished with value: 0.963183887621867 and parameters: {'alpha': 1.6699330934397696e-07, 'l1_ratio': 0.02123506847029641}. Best is trial 214 with value: 0.9691920683625413.\u001b[0m\n",
      "\u001b[32m[I 2020-12-27 01:49:29,088]\u001b[0m Trial 327 finished with value: 0.9607807789818636 and parameters: {'alpha': 4.4144891581975595e-07, 'l1_ratio': 6.642600670275022e-05}. Best is trial 214 with value: 0.9691920683625413.\u001b[0m\n",
      "\u001b[32m[I 2020-12-27 01:49:29,471]\u001b[0m Trial 328 finished with value: 0.956873976739278 and parameters: {'alpha': 9.194703269882872e-07, 'l1_ratio': 1.30951096079463e-05}. Best is trial 214 with value: 0.9691920683625413.\u001b[0m\n",
      "\u001b[32m[I 2020-12-27 01:49:29,843]\u001b[0m Trial 329 finished with value: 0.9568790807225215 and parameters: {'alpha': 1.7245534713752537e-06, 'l1_ratio': 2.5557145918698554e-05}. Best is trial 214 with value: 0.9691920683625413.\u001b[0m\n",
      "\u001b[32m[I 2020-12-27 01:49:30,235]\u001b[0m Trial 330 finished with value: 0.9586710292967928 and parameters: {'alpha': 6.814909375772808e-07, 'l1_ratio': 1.1390793041459073e-08}. Best is trial 214 with value: 0.9691920683625413.\u001b[0m\n",
      "\u001b[32m[I 2020-12-27 01:49:30,592]\u001b[0m Trial 331 finished with value: 0.9614989856808478 and parameters: {'alpha': 1.0220219142044386e-06, 'l1_ratio': 4.818406499412961e-06}. Best is trial 214 with value: 0.9691920683625413.\u001b[0m\n",
      "\u001b[32m[I 2020-12-27 01:49:30,964]\u001b[0m Trial 332 finished with value: 0.9623839078729505 and parameters: {'alpha': 5.589668512972683e-07, 'l1_ratio': 0.0007218186053558395}. Best is trial 214 with value: 0.9691920683625413.\u001b[0m\n"
     ]
    },
    {
     "name": "stderr",
     "output_type": "stream",
     "text": [
      "\u001b[32m[I 2020-12-27 01:49:31,380]\u001b[0m Trial 333 finished with value: 0.9601593161747721 and parameters: {'alpha': 2.8656456385361035e-07, 'l1_ratio': 0.0032180791896817586}. Best is trial 214 with value: 0.9691920683625413.\u001b[0m\n",
      "\u001b[32m[I 2020-12-27 01:49:31,752]\u001b[0m Trial 334 finished with value: 0.9613359770692598 and parameters: {'alpha': 3.9509867887237576e-07, 'l1_ratio': 0.006406264831236288}. Best is trial 214 with value: 0.9691920683625413.\u001b[0m\n",
      "\u001b[32m[I 2020-12-27 01:49:32,106]\u001b[0m Trial 335 finished with value: 0.9606638646434287 and parameters: {'alpha': 1.1387344009369466e-06, 'l1_ratio': 0.014167545577942087}. Best is trial 214 with value: 0.9691920683625413.\u001b[0m\n",
      "\u001b[32m[I 2020-12-27 01:49:32,510]\u001b[0m Trial 336 finished with value: 0.9647620280636061 and parameters: {'alpha': 1.877118729471922e-07, 'l1_ratio': 3.765777277425439e-09}. Best is trial 214 with value: 0.9691920683625413.\u001b[0m\n",
      "\u001b[32m[I 2020-12-27 01:49:32,922]\u001b[0m Trial 337 finished with value: 0.9499382761824917 and parameters: {'alpha': 1.9330656307345113e-07, 'l1_ratio': 2.998164953549792e-09}. Best is trial 214 with value: 0.9691920683625413.\u001b[0m\n",
      "\u001b[32m[I 2020-12-27 01:49:33,322]\u001b[0m Trial 338 finished with value: 0.9540324243384786 and parameters: {'alpha': 1.0029870326283096e-07, 'l1_ratio': 3.2702886761002357e-09}. Best is trial 214 with value: 0.9691920683625413.\u001b[0m\n",
      "\u001b[32m[I 2020-12-27 01:49:33,756]\u001b[0m Trial 339 finished with value: 0.949749417231512 and parameters: {'alpha': 1.5294678918208855e-07, 'l1_ratio': 3.2374591954353235e-08}. Best is trial 214 with value: 0.9691920683625413.\u001b[0m\n",
      "\u001b[32m[I 2020-12-27 01:49:34,167]\u001b[0m Trial 340 finished with value: 0.9536240420267943 and parameters: {'alpha': 7.65479022264281e-08, 'l1_ratio': 5.580907030909711e-09}. Best is trial 214 with value: 0.9691920683625413.\u001b[0m\n",
      "\u001b[32m[I 2020-12-27 01:49:34,624]\u001b[0m Trial 341 finished with value: 0.9549212330572333 and parameters: {'alpha': 2.024929296002019e-07, 'l1_ratio': 1.1129824934163338e-08}. Best is trial 214 with value: 0.9691920683625413.\u001b[0m\n",
      "\u001b[32m[I 2020-12-27 01:49:35,077]\u001b[0m Trial 342 finished with value: 0.9480396897637053 and parameters: {'alpha': 3.8408484140801305e-08, 'l1_ratio': 0.0001955585052378129}. Best is trial 214 with value: 0.9691920683625413.\u001b[0m\n",
      "\u001b[32m[I 2020-12-27 01:49:35,462]\u001b[0m Trial 343 finished with value: 0.952543836259313 and parameters: {'alpha': 3.190658663780403e-07, 'l1_ratio': 1.7157384539307204e-08}. Best is trial 214 with value: 0.9691920683625413.\u001b[0m\n",
      "\u001b[32m[I 2020-12-27 01:49:35,908]\u001b[0m Trial 344 finished with value: 0.9487184843974451 and parameters: {'alpha': 1.2354245305933673e-07, 'l1_ratio': 8.183032601353483e-09}. Best is trial 214 with value: 0.9691920683625413.\u001b[0m\n",
      "\u001b[32m[I 2020-12-27 01:49:36,303]\u001b[0m Trial 345 finished with value: 0.9569251470191412 and parameters: {'alpha': 2.3203553580418566e-07, 'l1_ratio': 8.52689794700338e-05}. Best is trial 214 with value: 0.9691920683625413.\u001b[0m\n",
      "\u001b[32m[I 2020-12-27 01:49:36,683]\u001b[0m Trial 346 finished with value: 0.9609882680015885 and parameters: {'alpha': 1.6195428429655738e-06, 'l1_ratio': 4.4000017109472814e-05}. Best is trial 214 with value: 0.9691920683625413.\u001b[0m\n",
      "\u001b[32m[I 2020-12-27 01:49:37,089]\u001b[0m Trial 347 finished with value: 0.9560773192938478 and parameters: {'alpha': 7.588324016352957e-07, 'l1_ratio': 2.067456825478566e-05}. Best is trial 214 with value: 0.9691920683625413.\u001b[0m\n",
      "\u001b[32m[I 2020-12-27 01:49:37,444]\u001b[0m Trial 348 finished with value: 0.9587014757961965 and parameters: {'alpha': 2.531818995705709e-06, 'l1_ratio': 1.0342640679585224e-05}. Best is trial 214 with value: 0.9691920683625413.\u001b[0m\n",
      "\u001b[32m[I 2020-12-27 01:49:37,862]\u001b[0m Trial 349 finished with value: 0.9624366955621978 and parameters: {'alpha': 4.221398358869193e-07, 'l1_ratio': 5.167746327594425e-09}. Best is trial 214 with value: 0.9691920683625413.\u001b[0m\n",
      "\u001b[32m[I 2020-12-27 01:49:38,252]\u001b[0m Trial 350 finished with value: 0.9623485665035384 and parameters: {'alpha': 1.1402388084439425e-06, 'l1_ratio': 2.2490363979899722e-09}. Best is trial 214 with value: 0.9691920683625413.\u001b[0m\n",
      "\u001b[32m[I 2020-12-27 01:49:38,627]\u001b[0m Trial 351 finished with value: 0.9611156421063236 and parameters: {'alpha': 6.47268453369585e-07, 'l1_ratio': 1.523239429976403e-07}. Best is trial 214 with value: 0.9691920683625413.\u001b[0m\n",
      "\u001b[32m[I 2020-12-27 01:49:39,055]\u001b[0m Trial 352 finished with value: 0.9567243188349293 and parameters: {'alpha': 2.8917365526327236e-07, 'l1_ratio': 4.6465213744516124e-08}. Best is trial 214 with value: 0.9691920683625413.\u001b[0m\n",
      "\u001b[32m[I 2020-12-27 01:49:39,433]\u001b[0m Trial 353 finished with value: 0.9587816795607499 and parameters: {'alpha': 8.503717506739258e-07, 'l1_ratio': 0.0020828244395634044}. Best is trial 214 with value: 0.9691920683625413.\u001b[0m\n",
      "\u001b[32m[I 2020-12-27 01:49:39,878]\u001b[0m Trial 354 finished with value: 0.9611623630836422 and parameters: {'alpha': 1.0239218387147206e-09, 'l1_ratio': 2.184380344136514e-08}. Best is trial 214 with value: 0.9691920683625413.\u001b[0m\n",
      "\u001b[32m[I 2020-12-27 01:49:40,281]\u001b[0m Trial 355 finished with value: 0.9534403071761677 and parameters: {'alpha': 4.1846009769680343e-07, 'l1_ratio': 3.136209779611529e-05}. Best is trial 214 with value: 0.9691920683625413.\u001b[0m\n",
      "\u001b[32m[I 2020-12-27 01:49:40,678]\u001b[0m Trial 356 finished with value: 0.9621703410161265 and parameters: {'alpha': 5.660721746809702e-07, 'l1_ratio': 9.128921225749995e-08}. Best is trial 214 with value: 0.9691920683625413.\u001b[0m\n",
      "\u001b[32m[I 2020-12-27 01:49:41,114]\u001b[0m Trial 357 finished with value: 0.9537267385412651 and parameters: {'alpha': 1.329777118955629e-07, 'l1_ratio': 0.0001013854716360507}. Best is trial 214 with value: 0.9691920683625413.\u001b[0m\n",
      "\u001b[32m[I 2020-12-27 01:49:41,477]\u001b[0m Trial 358 finished with value: 0.9594655022598657 and parameters: {'alpha': 1.6520079326811894e-06, 'l1_ratio': 1.568816167754375e-05}. Best is trial 214 with value: 0.9691920683625413.\u001b[0m\n",
      "\u001b[32m[I 2020-12-27 01:49:41,879]\u001b[0m Trial 359 finished with value: 0.9630179551137802 and parameters: {'alpha': 2.2097221297027503e-07, 'l1_ratio': 4.297082917252393e-05}. Best is trial 214 with value: 0.9691920683625413.\u001b[0m\n",
      "\u001b[32m[I 2020-12-27 01:49:42,293]\u001b[0m Trial 360 finished with value: 0.9625676962260545 and parameters: {'alpha': 9.158128910196539e-07, 'l1_ratio': 0.004768266956424427}. Best is trial 214 with value: 0.9691920683625413.\u001b[0m\n",
      "\u001b[32m[I 2020-12-27 01:49:42,647]\u001b[0m Trial 361 finished with value: 0.9589498368640206 and parameters: {'alpha': 1.2627196217009252e-06, 'l1_ratio': 7.371648089240193e-06}. Best is trial 214 with value: 0.9691920683625413.\u001b[0m\n",
      "\u001b[32m[I 2020-12-27 01:49:43,040]\u001b[0m Trial 362 finished with value: 0.9618132733203311 and parameters: {'alpha': 4.567058352259334e-07, 'l1_ratio': 4.991844495814181e-07}. Best is trial 214 with value: 0.9691920683625413.\u001b[0m\n",
      "\u001b[32m[I 2020-12-27 01:49:43,408]\u001b[0m Trial 363 finished with value: 0.962961340598502 and parameters: {'alpha': 7.516103231219544e-07, 'l1_ratio': 1.1791739955179552e-09}. Best is trial 214 with value: 0.9691920683625413.\u001b[0m\n",
      "\u001b[32m[I 2020-12-27 01:49:43,804]\u001b[0m Trial 364 finished with value: 0.952016881723653 and parameters: {'alpha': 6.50153072995333e-08, 'l1_ratio': 2.1341810349904974e-05}. Best is trial 214 with value: 0.9691920683625413.\u001b[0m\n",
      "\u001b[32m[I 2020-12-27 01:49:44,237]\u001b[0m Trial 365 finished with value: 0.9529499261846198 and parameters: {'alpha': 1.6465299536042093e-07, 'l1_ratio': 0.003319626844964198}. Best is trial 214 with value: 0.9691920683625413.\u001b[0m\n",
      "\u001b[32m[I 2020-12-27 01:49:44,621]\u001b[0m Trial 366 finished with value: 0.9558216192784867 and parameters: {'alpha': 3.63728853843971e-07, 'l1_ratio': 5.6317455483077975e-05}. Best is trial 214 with value: 0.9691920683625413.\u001b[0m\n",
      "\u001b[32m[I 2020-12-27 01:49:44,978]\u001b[0m Trial 367 finished with value: 0.9583487194835537 and parameters: {'alpha': 2.052013453743219e-06, 'l1_ratio': 0.007479498720683855}. Best is trial 214 with value: 0.9691920683625413.\u001b[0m\n",
      "\u001b[32m[I 2020-12-27 01:49:45,384]\u001b[0m Trial 368 finished with value: 0.9635556535567567 and parameters: {'alpha': 5.673738010370432e-07, 'l1_ratio': 8.827431471836823e-09}. Best is trial 214 with value: 0.9691920683625413.\u001b[0m\n",
      "\u001b[32m[I 2020-12-27 01:49:45,817]\u001b[0m Trial 369 finished with value: 0.9578028224884645 and parameters: {'alpha': 9.609309821306194e-08, 'l1_ratio': 1.6341163470216427e-08}. Best is trial 214 with value: 0.9691920683625413.\u001b[0m\n"
     ]
    },
    {
     "name": "stderr",
     "output_type": "stream",
     "text": [
      "\u001b[32m[I 2020-12-27 01:49:46,209]\u001b[0m Trial 370 finished with value: 0.9600104975889191 and parameters: {'alpha': 2.5134828752814205e-07, 'l1_ratio': 4.010963651915077e-08}. Best is trial 214 with value: 0.9691920683625413.\u001b[0m\n",
      "\u001b[32m[I 2020-12-27 01:49:46,588]\u001b[0m Trial 371 finished with value: 0.9616825890913003 and parameters: {'alpha': 8.775038771733773e-07, 'l1_ratio': 2.9051473747370977e-05}. Best is trial 214 with value: 0.9691920683625413.\u001b[0m\n",
      "\u001b[32m[I 2020-12-27 01:49:46,956]\u001b[0m Trial 372 finished with value: 0.9596914701551422 and parameters: {'alpha': 1.408610630970264e-06, 'l1_ratio': 0.00013158567454195133}. Best is trial 214 with value: 0.9691920683625413.\u001b[0m\n",
      "\u001b[32m[I 2020-12-27 01:49:47,361]\u001b[0m Trial 373 finished with value: 0.9523731821552421 and parameters: {'alpha': 3.1108533714685697e-07, 'l1_ratio': 3.5121152677185018e-09}. Best is trial 214 with value: 0.9691920683625413.\u001b[0m\n",
      "\u001b[32m[I 2020-12-27 01:49:47,753]\u001b[0m Trial 374 finished with value: 0.9649702778381509 and parameters: {'alpha': 5.705522752077959e-07, 'l1_ratio': 0.0004416435622838757}. Best is trial 214 with value: 0.9691920683625413.\u001b[0m\n",
      "\u001b[32m[I 2020-12-27 01:49:48,149]\u001b[0m Trial 375 finished with value: 0.9567853691569934 and parameters: {'alpha': 4.828304610804229e-07, 'l1_ratio': 0.00033848243475757475}. Best is trial 214 with value: 0.9691920683625413.\u001b[0m\n",
      "\u001b[32m[I 2020-12-27 01:49:48,535]\u001b[0m Trial 376 finished with value: 0.9577331508005302 and parameters: {'alpha': 6.554249326494713e-07, 'l1_ratio': 0.0001769972825603185}. Best is trial 214 with value: 0.9691920683625413.\u001b[0m\n",
      "\u001b[32m[I 2020-12-27 01:49:48,961]\u001b[0m Trial 377 finished with value: 0.9486961787173205 and parameters: {'alpha': 3.6154075472361355e-07, 'l1_ratio': 0.0005791837409036384}. Best is trial 214 with value: 0.9691920683625413.\u001b[0m\n",
      "\u001b[32m[I 2020-12-27 01:49:49,347]\u001b[0m Trial 378 finished with value: 0.9559770977740639 and parameters: {'alpha': 5.402407860910635e-07, 'l1_ratio': 0.0009847601423460467}. Best is trial 214 with value: 0.9691920683625413.\u001b[0m\n",
      "\u001b[32m[I 2020-12-27 01:49:49,787]\u001b[0m Trial 379 finished with value: 0.9583104232177251 and parameters: {'alpha': 1.8496873573982032e-07, 'l1_ratio': 7.633756371429228e-05}. Best is trial 214 with value: 0.9691920683625413.\u001b[0m\n",
      "\u001b[32m[I 2020-12-27 01:49:50,168]\u001b[0m Trial 380 finished with value: 0.9640455128012461 and parameters: {'alpha': 9.336829445968812e-07, 'l1_ratio': 0.0004190416598041582}. Best is trial 214 with value: 0.9691920683625413.\u001b[0m\n",
      "\u001b[32m[I 2020-12-27 01:49:50,545]\u001b[0m Trial 381 finished with value: 0.9534537753606754 and parameters: {'alpha': 1.1125872558232537e-06, 'l1_ratio': 0.00030246706676411274}. Best is trial 214 with value: 0.9691920683625413.\u001b[0m\n",
      "\u001b[32m[I 2020-12-27 01:49:50,956]\u001b[0m Trial 382 finished with value: 0.9600262401403891 and parameters: {'alpha': 7.531095884561889e-07, 'l1_ratio': 0.0014115005052573303}. Best is trial 214 with value: 0.9691920683625413.\u001b[0m\n",
      "\u001b[32m[I 2020-12-27 01:49:51,448]\u001b[0m Trial 383 finished with value: 0.9535264017197466 and parameters: {'alpha': 1.1625875521657675e-07, 'l1_ratio': 0.0007105727487532333}. Best is trial 214 with value: 0.9691920683625413.\u001b[0m\n",
      "\u001b[32m[I 2020-12-27 01:49:51,817]\u001b[0m Trial 384 finished with value: 0.9578269955829357 and parameters: {'alpha': 9.28686471458847e-07, 'l1_ratio': 0.0004346036232063066}. Best is trial 214 with value: 0.9691920683625413.\u001b[0m\n",
      "\u001b[32m[I 2020-12-27 01:49:52,366]\u001b[0m Trial 385 finished with value: 0.9587766261426842 and parameters: {'alpha': 2.5887708331702146e-07, 'l1_ratio': 0.00011493025599261582}. Best is trial 214 with value: 0.9691920683625413.\u001b[0m\n",
      "\u001b[32m[I 2020-12-27 01:49:52,783]\u001b[0m Trial 386 finished with value: 0.9559471102784924 and parameters: {'alpha': 4.128144190505203e-07, 'l1_ratio': 0.0021568334407747166}. Best is trial 214 with value: 0.9691920683625413.\u001b[0m\n",
      "\u001b[32m[I 2020-12-27 01:49:53,163]\u001b[0m Trial 387 finished with value: 0.9585151977292701 and parameters: {'alpha': 1.103854010284045e-06, 'l1_ratio': 0.003541542423066331}. Best is trial 214 with value: 0.9691920683625413.\u001b[0m\n",
      "\u001b[32m[I 2020-12-27 01:49:53,537]\u001b[0m Trial 388 finished with value: 0.9566043942823312 and parameters: {'alpha': 6.809068264026232e-07, 'l1_ratio': 0.0011524381974069686}. Best is trial 214 with value: 0.9691920683625413.\u001b[0m\n",
      "\u001b[32m[I 2020-12-27 01:49:53,922]\u001b[0m Trial 389 finished with value: 0.9640770440513093 and parameters: {'alpha': 5.102608809276892e-07, 'l1_ratio': 0.009260749907784726}. Best is trial 214 with value: 0.9691920683625413.\u001b[0m\n",
      "\u001b[32m[I 2020-12-27 01:49:54,518]\u001b[0m Trial 390 finished with value: 0.9519687480123511 and parameters: {'alpha': 3.0500466299511116e-07, 'l1_ratio': 0.010484285861619784}. Best is trial 214 with value: 0.9691920683625413.\u001b[0m\n",
      "\u001b[32m[I 2020-12-27 01:49:54,990]\u001b[0m Trial 391 finished with value: 0.9627960782397142 and parameters: {'alpha': 4.822532001913321e-07, 'l1_ratio': 0.01088355731488307}. Best is trial 214 with value: 0.9691920683625413.\u001b[0m\n",
      "\u001b[32m[I 2020-12-27 01:49:55,555]\u001b[0m Trial 392 finished with value: 0.9554092064495681 and parameters: {'alpha': 1.6836749000073826e-07, 'l1_ratio': 0.005756826825377235}. Best is trial 214 with value: 0.9691920683625413.\u001b[0m\n",
      "\u001b[32m[I 2020-12-27 01:49:56,251]\u001b[0m Trial 393 finished with value: 0.9540776107245096 and parameters: {'alpha': 3.768402917156292e-07, 'l1_ratio': 0.0021088035856299233}. Best is trial 214 with value: 0.9691920683625413.\u001b[0m\n",
      "\u001b[32m[I 2020-12-27 01:49:56,797]\u001b[0m Trial 394 finished with value: 0.9528424766378334 and parameters: {'alpha': 2.4673996526030607e-07, 'l1_ratio': 0.005848748523313976}. Best is trial 214 with value: 0.9691920683625413.\u001b[0m\n",
      "\u001b[32m[I 2020-12-27 01:49:57,382]\u001b[0m Trial 395 finished with value: 0.9631300287802463 and parameters: {'alpha': 6.203197297924581e-07, 'l1_ratio': 0.0028428931093817398}. Best is trial 214 with value: 0.9691920683625413.\u001b[0m\n",
      "\u001b[32m[I 2020-12-27 01:49:57,859]\u001b[0m Trial 396 finished with value: 0.9530647817488559 and parameters: {'alpha': 4.927075044551059e-07, 'l1_ratio': 0.0078078399691409}. Best is trial 214 with value: 0.9691920683625413.\u001b[0m\n",
      "\u001b[32m[I 2020-12-27 01:49:58,293]\u001b[0m Trial 397 finished with value: 0.9425839188285949 and parameters: {'alpha': 5.0691955433549285e-08, 'l1_ratio': 0.003955302311365744}. Best is trial 214 with value: 0.9691920683625413.\u001b[0m\n",
      "\u001b[32m[I 2020-12-27 01:49:58,763]\u001b[0m Trial 398 finished with value: 0.9586631849693177 and parameters: {'alpha': 1.2565317333644616e-07, 'l1_ratio': 0.016184066455287405}. Best is trial 214 with value: 0.9691920683625413.\u001b[0m\n",
      "\u001b[32m[I 2020-12-27 01:49:59,151]\u001b[0m Trial 399 finished with value: 0.9565065392558074 and parameters: {'alpha': 3.353654802767674e-07, 'l1_ratio': 2.072439259511062e-07}. Best is trial 214 with value: 0.9691920683625413.\u001b[0m\n",
      "\u001b[32m[I 2020-12-27 01:49:59,599]\u001b[0m Trial 400 finished with value: 0.9621945252724251 and parameters: {'alpha': 8.151248418332949e-07, 'l1_ratio': 5.9747631135502536e-09}. Best is trial 214 with value: 0.9691920683625413.\u001b[0m\n",
      "\u001b[32m[I 2020-12-27 01:50:00,092]\u001b[0m Trial 401 finished with value: 0.9552931152213434 and parameters: {'alpha': 1.989120024398402e-07, 'l1_ratio': 2.452422092648341e-08}. Best is trial 214 with value: 0.9691920683625413.\u001b[0m\n",
      "\u001b[32m[I 2020-12-27 01:50:00,514]\u001b[0m Trial 402 finished with value: 0.9510611274670199 and parameters: {'alpha': 3.078474590306542e-08, 'l1_ratio': 6.513049273989348e-08}. Best is trial 214 with value: 0.9691920683625413.\u001b[0m\n",
      "\u001b[32m[I 2020-12-27 01:50:01,025]\u001b[0m Trial 403 finished with value: 0.9551476237780305 and parameters: {'alpha': 8.089163026937585e-08, 'l1_ratio': 0.009809413286374394}. Best is trial 214 with value: 0.9691920683625413.\u001b[0m\n",
      "\u001b[32m[I 2020-12-27 01:50:01,403]\u001b[0m Trial 404 finished with value: 0.9550026595635429 and parameters: {'alpha': 5.086291849758624e-07, 'l1_ratio': 1.213193399343243e-07}. Best is trial 214 with value: 0.9691920683625413.\u001b[0m\n",
      "\u001b[32m[I 2020-12-27 01:50:01,777]\u001b[0m Trial 405 finished with value: 0.961119377182788 and parameters: {'alpha': 7.229496074713873e-07, 'l1_ratio': 0.004938979145209281}. Best is trial 214 with value: 0.9691920683625413.\u001b[0m\n",
      "\u001b[32m[I 2020-12-27 01:50:02,174]\u001b[0m Trial 406 finished with value: 0.9517172344208696 and parameters: {'alpha': 2.885945921218806e-07, 'l1_ratio': 0.0014946800236501846}. Best is trial 214 with value: 0.9691920683625413.\u001b[0m\n"
     ]
    },
    {
     "name": "stderr",
     "output_type": "stream",
     "text": [
      "\u001b[32m[I 2020-12-27 01:50:02,592]\u001b[0m Trial 407 finished with value: 0.806486144583562 and parameters: {'alpha': 0.005372285153192789, 'l1_ratio': 0.00045250594450848875}. Best is trial 214 with value: 0.9691920683625413.\u001b[0m\n",
      "\u001b[32m[I 2020-12-27 01:50:02,973]\u001b[0m Trial 408 finished with value: 0.9586802571294092 and parameters: {'alpha': 1.0446879270534534e-06, 'l1_ratio': 8.168206675903832e-09}. Best is trial 214 with value: 0.9691920683625413.\u001b[0m\n",
      "\u001b[32m[I 2020-12-27 01:50:03,382]\u001b[0m Trial 409 finished with value: 0.9605739113488655 and parameters: {'alpha': 4.1900362185662955e-07, 'l1_ratio': 2.98517388605919e-07}. Best is trial 214 with value: 0.9691920683625413.\u001b[0m\n",
      "\u001b[32m[I 2020-12-27 01:50:03,761]\u001b[0m Trial 410 finished with value: 0.9593478050155626 and parameters: {'alpha': 6.318797497175431e-07, 'l1_ratio': 7.883359281589192e-07}. Best is trial 214 with value: 0.9691920683625413.\u001b[0m\n",
      "\u001b[32m[I 2020-12-27 01:50:04,117]\u001b[0m Trial 411 finished with value: 0.9574315734330605 and parameters: {'alpha': 1.6288303195925882e-06, 'l1_ratio': 2.9504133888607005e-08}. Best is trial 214 with value: 0.9691920683625413.\u001b[0m\n",
      "\u001b[32m[I 2020-12-27 01:50:04,519]\u001b[0m Trial 412 finished with value: 0.9646497525815961 and parameters: {'alpha': 2.3091227237119983e-07, 'l1_ratio': 1.2322206205095352e-08}. Best is trial 214 with value: 0.9691920683625413.\u001b[0m\n",
      "\u001b[32m[I 2020-12-27 01:50:04,926]\u001b[0m Trial 413 finished with value: 0.9516820497921563 and parameters: {'alpha': 1.5215494617390104e-07, 'l1_ratio': 1.245374586925577e-08}. Best is trial 214 with value: 0.9691920683625413.\u001b[0m\n",
      "\u001b[32m[I 2020-12-27 01:50:05,372]\u001b[0m Trial 414 finished with value: 0.9481462489466258 and parameters: {'alpha': 1.9215832139550419e-07, 'l1_ratio': 9.096013065494892e-09}. Best is trial 214 with value: 0.9691920683625413.\u001b[0m\n",
      "\u001b[32m[I 2020-12-27 01:50:05,783]\u001b[0m Trial 415 finished with value: 0.9575495170068449 and parameters: {'alpha': 2.5549622061366116e-07, 'l1_ratio': 1.9469782264583246e-08}. Best is trial 214 with value: 0.9691920683625413.\u001b[0m\n",
      "\u001b[32m[I 2020-12-27 01:50:06,219]\u001b[0m Trial 416 finished with value: 0.9467318537598624 and parameters: {'alpha': 1.0974730803445845e-07, 'l1_ratio': 4.543733697634302e-09}. Best is trial 214 with value: 0.9691920683625413.\u001b[0m\n",
      "\u001b[32m[I 2020-12-27 01:50:06,614]\u001b[0m Trial 417 finished with value: 0.9597239204549629 and parameters: {'alpha': 3.401003777702062e-07, 'l1_ratio': 2.7429625323928086e-09}. Best is trial 214 with value: 0.9691920683625413.\u001b[0m\n",
      "\u001b[32m[I 2020-12-27 01:50:07,023]\u001b[0m Trial 418 finished with value: 0.9608462207908054 and parameters: {'alpha': 1.9394050529875027e-07, 'l1_ratio': 4.1437688194039495e-08}. Best is trial 214 with value: 0.9691920683625413.\u001b[0m\n",
      "\u001b[32m[I 2020-12-27 01:50:07,420]\u001b[0m Trial 419 finished with value: 0.9581518718841723 and parameters: {'alpha': 4.3071788510438404e-07, 'l1_ratio': 1.3486897983270184e-08}. Best is trial 214 with value: 0.9691920683625413.\u001b[0m\n",
      "\u001b[32m[I 2020-12-27 01:50:07,839]\u001b[0m Trial 420 finished with value: 0.9634501875203898 and parameters: {'alpha': 2.456038953866422e-07, 'l1_ratio': 1.2705853429797614e-08}. Best is trial 214 with value: 0.9691920683625413.\u001b[0m\n",
      "\u001b[32m[I 2020-12-27 01:50:08,288]\u001b[0m Trial 421 finished with value: 0.9471735947664234 and parameters: {'alpha': 1.3945990485696264e-07, 'l1_ratio': 6.877411843898209e-09}. Best is trial 214 with value: 0.9691920683625413.\u001b[0m\n",
      "\u001b[32m[I 2020-12-27 01:50:08,704]\u001b[0m Trial 422 finished with value: 0.961675567141846 and parameters: {'alpha': 3.417456913894917e-07, 'l1_ratio': 0.013803230233258164}. Best is trial 214 with value: 0.9691920683625413.\u001b[0m\n",
      "\u001b[32m[I 2020-12-27 01:50:09,232]\u001b[0m Trial 423 finished with value: 0.9532048950822504 and parameters: {'alpha': 7.779819655524708e-08, 'l1_ratio': 2.426405242535823e-08}. Best is trial 214 with value: 0.9691920683625413.\u001b[0m\n",
      "\u001b[32m[I 2020-12-27 01:50:09,710]\u001b[0m Trial 424 finished with value: 0.9565336018663858 and parameters: {'alpha': 5.011998872202535e-07, 'l1_ratio': 0.00767231353796928}. Best is trial 214 with value: 0.9691920683625413.\u001b[0m\n",
      "\u001b[32m[I 2020-12-27 01:50:10,123]\u001b[0m Trial 425 finished with value: 0.9641532511874237 and parameters: {'alpha': 6.737075740957221e-07, 'l1_ratio': 1.5996110369014778e-06}. Best is trial 214 with value: 0.9691920683625413.\u001b[0m\n",
      "\u001b[32m[I 2020-12-27 01:50:10,580]\u001b[0m Trial 426 finished with value: 0.9587019488339545 and parameters: {'alpha': 7.491097488201039e-07, 'l1_ratio': 3.0929383367646135e-06}. Best is trial 214 with value: 0.9691920683625413.\u001b[0m\n",
      "\u001b[32m[I 2020-12-27 01:50:10,963]\u001b[0m Trial 427 finished with value: 0.9657456767375092 and parameters: {'alpha': 1.054205154564949e-06, 'l1_ratio': 1.4633759071714325e-06}. Best is trial 214 with value: 0.9691920683625413.\u001b[0m\n",
      "\u001b[32m[I 2020-12-27 01:50:11,438]\u001b[0m Trial 428 finished with value: 0.9667363287747504 and parameters: {'alpha': 1.1687090663397032e-06, 'l1_ratio': 1.6622602818193654e-06}. Best is trial 214 with value: 0.9691920683625413.\u001b[0m\n",
      "\u001b[32m[I 2020-12-27 01:50:11,834]\u001b[0m Trial 429 finished with value: 0.9576240914264661 and parameters: {'alpha': 1.5118752254798136e-06, 'l1_ratio': 1.0790783970992893e-06}. Best is trial 214 with value: 0.9691920683625413.\u001b[0m\n",
      "\u001b[32m[I 2020-12-27 01:50:12,348]\u001b[0m Trial 430 finished with value: 0.9583847384693505 and parameters: {'alpha': 2.8635675634095054e-06, 'l1_ratio': 1.508546525812807e-06}. Best is trial 214 with value: 0.9691920683625413.\u001b[0m\n",
      "\u001b[32m[I 2020-12-27 01:50:12,718]\u001b[0m Trial 431 finished with value: 0.9541867281020361 and parameters: {'alpha': 1.3660023876818528e-06, 'l1_ratio': 4.097911859105035e-06}. Best is trial 214 with value: 0.9691920683625413.\u001b[0m\n",
      "\u001b[32m[I 2020-12-27 01:50:13,133]\u001b[0m Trial 432 finished with value: 0.958147063997238 and parameters: {'alpha': 2.0940016919212954e-06, 'l1_ratio': 5.370452946579812e-07}. Best is trial 214 with value: 0.9691920683625413.\u001b[0m\n",
      "\u001b[32m[I 2020-12-27 01:50:13,527]\u001b[0m Trial 433 finished with value: 0.9591690639293269 and parameters: {'alpha': 1.184641695197944e-06, 'l1_ratio': 9.083954953205496e-07}. Best is trial 214 with value: 0.9691920683625413.\u001b[0m\n",
      "\u001b[32m[I 2020-12-27 01:50:13,911]\u001b[0m Trial 434 finished with value: 0.9663964062698798 and parameters: {'alpha': 1.0504194263024853e-06, 'l1_ratio': 3.277314941758285e-06}. Best is trial 214 with value: 0.9691920683625413.\u001b[0m\n",
      "\u001b[32m[I 2020-12-27 01:50:14,289]\u001b[0m Trial 435 finished with value: 0.9591929696497444 and parameters: {'alpha': 1.935307992279914e-06, 'l1_ratio': 4.478402758413439e-06}. Best is trial 214 with value: 0.9691920683625413.\u001b[0m\n",
      "\u001b[32m[I 2020-12-27 01:50:14,741]\u001b[0m Trial 436 finished with value: 0.9592274404362349 and parameters: {'alpha': 1.0016568586735348e-06, 'l1_ratio': 2.0137946925449428e-06}. Best is trial 214 with value: 0.9691920683625413.\u001b[0m\n",
      "\u001b[32m[I 2020-12-27 01:50:15,242]\u001b[0m Trial 437 finished with value: 0.9489359323886971 and parameters: {'alpha': 1.2161512601500156e-07, 'l1_ratio': 5.111258291251467e-06}. Best is trial 214 with value: 0.9691920683625413.\u001b[0m\n",
      "\u001b[32m[I 2020-12-27 01:50:15,643]\u001b[0m Trial 438 finished with value: 0.9627204588830405 and parameters: {'alpha': 8.516355259637538e-07, 'l1_ratio': 2.359430053222815e-06}. Best is trial 214 with value: 0.9691920683625413.\u001b[0m\n",
      "\u001b[32m[I 2020-12-27 01:50:16,085]\u001b[0m Trial 439 finished with value: 0.9560791516534451 and parameters: {'alpha': 1.282117571657791e-06, 'l1_ratio': 2.157028736362459e-06}. Best is trial 214 with value: 0.9691920683625413.\u001b[0m\n",
      "\u001b[32m[I 2020-12-27 01:50:16,675]\u001b[0m Trial 440 finished with value: 0.9486924918290174 and parameters: {'alpha': 5.595758311355466e-08, 'l1_ratio': 7.292018469142174e-06}. Best is trial 214 with value: 0.9691920683625413.\u001b[0m\n",
      "\u001b[32m[I 2020-12-27 01:50:17,132]\u001b[0m Trial 441 finished with value: 0.9500912520411199 and parameters: {'alpha': 2.0033719764091211e-07, 'l1_ratio': 1.3079100822584585e-06}. Best is trial 214 with value: 0.9691920683625413.\u001b[0m\n",
      "\u001b[32m[I 2020-12-27 01:50:17,780]\u001b[0m Trial 442 finished with value: 0.9627384942276025 and parameters: {'alpha': 2.8627885389041534e-07, 'l1_ratio': 1.2069932602627562e-05}. Best is trial 214 with value: 0.9691920683625413.\u001b[0m\n",
      "\u001b[32m[I 2020-12-27 01:50:18,339]\u001b[0m Trial 443 finished with value: 0.9592702064978427 and parameters: {'alpha': 6.964701173752395e-07, 'l1_ratio': 6.124526813288183e-06}. Best is trial 214 with value: 0.9691920683625413.\u001b[0m\n"
     ]
    },
    {
     "name": "stderr",
     "output_type": "stream",
     "text": [
      "\u001b[32m[I 2020-12-27 01:50:18,985]\u001b[0m Trial 444 finished with value: 0.9517260709099382 and parameters: {'alpha': 8.754574674298228e-08, 'l1_ratio': 3.1392650806733104e-06}. Best is trial 214 with value: 0.9691920683625413.\u001b[0m\n",
      "\u001b[32m[I 2020-12-27 01:50:19,570]\u001b[0m Trial 445 finished with value: 0.9557325659262433 and parameters: {'alpha': 1.5621158291909428e-06, 'l1_ratio': 9.03606648446171e-06}. Best is trial 214 with value: 0.9691920683625413.\u001b[0m\n",
      "\u001b[32m[I 2020-12-27 01:50:20,037]\u001b[0m Trial 446 finished with value: 0.956432800180238 and parameters: {'alpha': 4.5281806692985887e-07, 'l1_ratio': 1.6732064183813906e-09}. Best is trial 214 with value: 0.9691920683625413.\u001b[0m\n",
      "\u001b[32m[I 2020-12-27 01:50:20,454]\u001b[0m Trial 447 finished with value: 0.9580623417415796 and parameters: {'alpha': 9.206849431185254e-07, 'l1_ratio': 2.6575580582751577e-06}. Best is trial 214 with value: 0.9691920683625413.\u001b[0m\n",
      "\u001b[32m[I 2020-12-27 01:50:20,909]\u001b[0m Trial 448 finished with value: 0.9564270365075921 and parameters: {'alpha': 1.512955421741973e-07, 'l1_ratio': 5.4021734945208045e-09}. Best is trial 214 with value: 0.9691920683625413.\u001b[0m\n",
      "\u001b[32m[I 2020-12-27 01:50:21,325]\u001b[0m Trial 449 finished with value: 0.9610649641142515 and parameters: {'alpha': 5.847071234854058e-07, 'l1_ratio': 1.1648413566223142e-06}. Best is trial 214 with value: 0.9691920683625413.\u001b[0m\n",
      "\u001b[32m[I 2020-12-27 01:50:21,769]\u001b[0m Trial 450 finished with value: 0.9488438120605873 and parameters: {'alpha': 3.502337046264837e-07, 'l1_ratio': 1.584417219633686e-08}. Best is trial 214 with value: 0.9691920683625413.\u001b[0m\n",
      "\u001b[32m[I 2020-12-27 01:50:22,164]\u001b[0m Trial 451 finished with value: 0.9625003958182834 and parameters: {'alpha': 1.1219445880691054e-06, 'l1_ratio': 9.628207106598092e-09}. Best is trial 214 with value: 0.9691920683625413.\u001b[0m\n",
      "\u001b[32m[I 2020-12-27 01:50:22,662]\u001b[0m Trial 452 finished with value: 0.9573491937092792 and parameters: {'alpha': 2.3495720294784424e-07, 'l1_ratio': 3.60024616297609e-09}. Best is trial 214 with value: 0.9691920683625413.\u001b[0m\n",
      "\u001b[32m[I 2020-12-27 01:50:23,062]\u001b[0m Trial 453 finished with value: 0.9630485277542683 and parameters: {'alpha': 8.148393395666619e-07, 'l1_ratio': 7.255251372126947e-07}. Best is trial 214 with value: 0.9691920683625413.\u001b[0m\n",
      "\u001b[32m[I 2020-12-27 01:50:23,439]\u001b[0m Trial 454 finished with value: 0.9586655984734137 and parameters: {'alpha': 2.761175280960977e-06, 'l1_ratio': 7.826593131005618e-10}. Best is trial 214 with value: 0.9691920683625413.\u001b[0m\n",
      "\u001b[32m[I 2020-12-27 01:50:23,915]\u001b[0m Trial 455 finished with value: 0.954342845149059 and parameters: {'alpha': 5.547900963592877e-07, 'l1_ratio': 1.2126980223440723e-05}. Best is trial 214 with value: 0.9691920683625413.\u001b[0m\n",
      "\u001b[32m[I 2020-12-27 01:50:24,496]\u001b[0m Trial 456 finished with value: 0.9629697330618094 and parameters: {'alpha': 3.4143922499444353e-07, 'l1_ratio': 1.5425171132647272e-06}. Best is trial 214 with value: 0.9691920683625413.\u001b[0m\n",
      "\u001b[32m[I 2020-12-27 01:50:25,050]\u001b[0m Trial 457 finished with value: 0.9540996088437095 and parameters: {'alpha': 9.988550638760887e-08, 'l1_ratio': 3.302054076493431e-06}. Best is trial 214 with value: 0.9691920683625413.\u001b[0m\n",
      "\u001b[32m[I 2020-12-27 01:50:25,477]\u001b[0m Trial 458 finished with value: 0.958665929936399 and parameters: {'alpha': 4.342312627902804e-06, 'l1_ratio': 3.048343853530034e-08}. Best is trial 214 with value: 0.9691920683625413.\u001b[0m\n",
      "\u001b[32m[I 2020-12-27 01:50:26,010]\u001b[0m Trial 459 finished with value: 0.9613286843834152 and parameters: {'alpha': 1.8658083384221747e-06, 'l1_ratio': 0.0027950341304237673}. Best is trial 214 with value: 0.9691920683625413.\u001b[0m\n",
      "\u001b[32m[I 2020-12-27 01:50:26,491]\u001b[0m Trial 460 finished with value: 0.8832419596992883 and parameters: {'alpha': 0.0010323281882381264, 'l1_ratio': 6.0266679235569174e-06}. Best is trial 214 with value: 0.9691920683625413.\u001b[0m\n",
      "\u001b[32m[I 2020-12-27 01:50:27,114]\u001b[0m Trial 461 finished with value: 0.9520347718107354 and parameters: {'alpha': 1.6415067450568908e-07, 'l1_ratio': 2.345749752880283e-09}. Best is trial 214 with value: 0.9691920683625413.\u001b[0m\n",
      "\u001b[32m[I 2020-12-27 01:50:27,711]\u001b[0m Trial 462 finished with value: 0.9582194959651018 and parameters: {'alpha': 1.2851185125497223e-06, 'l1_ratio': 7.088780030947833e-09}. Best is trial 214 with value: 0.9691920683625413.\u001b[0m\n",
      "\u001b[32m[I 2020-12-27 01:50:28,302]\u001b[0m Trial 463 finished with value: 0.958718426480652 and parameters: {'alpha': 6.994352410499762e-07, 'l1_ratio': 1.7015810551954274e-08}. Best is trial 214 with value: 0.9691920683625413.\u001b[0m\n",
      "\u001b[32m[I 2020-12-27 01:50:28,939]\u001b[0m Trial 464 finished with value: 0.9577915883286039 and parameters: {'alpha': 4.134480346676736e-07, 'l1_ratio': 1.7898042872498758e-05}. Best is trial 214 with value: 0.9691920683625413.\u001b[0m\n",
      "\u001b[32m[I 2020-12-27 01:50:29,345]\u001b[0m Trial 465 finished with value: 0.9393041291648913 and parameters: {'alpha': 0.00014315300372076648, 'l1_ratio': 5.803687746233612e-08}. Best is trial 214 with value: 0.9691920683625413.\u001b[0m\n",
      "\u001b[32m[I 2020-12-27 01:50:29,739]\u001b[0m Trial 466 finished with value: 0.9434259015410738 and parameters: {'alpha': 4.835628206588166e-05, 'l1_ratio': 1.0936889521690168e-08}. Best is trial 214 with value: 0.9691920683625413.\u001b[0m\n",
      "\u001b[32m[I 2020-12-27 01:50:30,302]\u001b[0m Trial 467 finished with value: 0.9569915578114578 and parameters: {'alpha': 2.2723681712215135e-07, 'l1_ratio': 1.0745935433995192e-05}. Best is trial 214 with value: 0.9691920683625413.\u001b[0m\n",
      "\u001b[32m[I 2020-12-27 01:50:30,715]\u001b[0m Trial 468 finished with value: 0.9577547304305525 and parameters: {'alpha': 9.717281324696418e-07, 'l1_ratio': 0.0036793174586948955}. Best is trial 214 with value: 0.9691920683625413.\u001b[0m\n",
      "\u001b[32m[I 2020-12-27 01:50:31,210]\u001b[0m Trial 469 finished with value: 0.9577231663279435 and parameters: {'alpha': 5.03118379479654e-07, 'l1_ratio': 4.5568909821597034e-09}. Best is trial 214 with value: 0.9691920683625413.\u001b[0m\n",
      "\u001b[32m[I 2020-12-27 01:50:31,628]\u001b[0m Trial 470 finished with value: 0.9639217601142224 and parameters: {'alpha': 3.085621137629614e-07, 'l1_ratio': 1.79616213374056e-06}. Best is trial 214 with value: 0.9691920683625413.\u001b[0m\n",
      "\u001b[32m[I 2020-12-27 01:50:32,157]\u001b[0m Trial 471 finished with value: 0.9482680130343477 and parameters: {'alpha': 4.043070897175415e-08, 'l1_ratio': 0.002066940737684557}. Best is trial 214 with value: 0.9691920683625413.\u001b[0m\n",
      "\u001b[32m[I 2020-12-27 01:50:32,598]\u001b[0m Trial 472 finished with value: 0.955774711960438 and parameters: {'alpha': 8.336339255538425e-07, 'l1_ratio': 0.005397384136266509}. Best is trial 214 with value: 0.9691920683625413.\u001b[0m\n",
      "\u001b[32m[I 2020-12-27 01:50:33,041]\u001b[0m Trial 473 finished with value: 0.9618845896639926 and parameters: {'alpha': 1.597968416648677e-06, 'l1_ratio': 1.6289443743777745e-08}. Best is trial 214 with value: 0.9691920683625413.\u001b[0m\n",
      "\u001b[32m[I 2020-12-27 01:50:33,521]\u001b[0m Trial 474 finished with value: 0.9583660569147878 and parameters: {'alpha': 5.949969810723856e-07, 'l1_ratio': 3.30379602540497e-08}. Best is trial 214 with value: 0.9691920683625413.\u001b[0m\n",
      "\u001b[32m[I 2020-12-27 01:50:33,944]\u001b[0m Trial 475 finished with value: 0.9556041412081915 and parameters: {'alpha': 3.776134533475465e-07, 'l1_ratio': 1.7964280005180134e-05}. Best is trial 214 with value: 0.9691920683625413.\u001b[0m\n",
      "\u001b[32m[I 2020-12-27 01:50:34,365]\u001b[0m Trial 476 finished with value: 0.9378390033108942 and parameters: {'alpha': 6.698997273458044e-08, 'l1_ratio': 2.676119312415647e-06}. Best is trial 214 with value: 0.9691920683625413.\u001b[0m\n",
      "\u001b[32m[I 2020-12-27 01:50:34,788]\u001b[0m Trial 477 finished with value: 0.9546444946452558 and parameters: {'alpha': 1.3261235684932218e-07, 'l1_ratio': 4.403453913842596e-06}. Best is trial 214 with value: 0.9691920683625413.\u001b[0m\n",
      "\u001b[32m[I 2020-12-27 01:50:35,188]\u001b[0m Trial 478 finished with value: 0.9631286587363775 and parameters: {'alpha': 1.1447971767492834e-06, 'l1_ratio': 0.0008605767868336037}. Best is trial 214 with value: 0.9691920683625413.\u001b[0m\n",
      "\u001b[32m[I 2020-12-27 01:50:35,585]\u001b[0m Trial 479 finished with value: 0.9603662721241712 and parameters: {'alpha': 6.68494053841928e-07, 'l1_ratio': 4.773168381532462e-10}. Best is trial 214 with value: 0.9691920683625413.\u001b[0m\n",
      "\u001b[32m[I 2020-12-27 01:50:35,997]\u001b[0m Trial 480 finished with value: 0.9480012766871325 and parameters: {'alpha': 1.9915385709209304e-07, 'l1_ratio': 2.5626983081264566e-08}. Best is trial 214 with value: 0.9691920683625413.\u001b[0m\n"
     ]
    },
    {
     "name": "stderr",
     "output_type": "stream",
     "text": [
      "\u001b[32m[I 2020-12-27 01:50:36,368]\u001b[0m Trial 481 finished with value: 0.9599879696698513 and parameters: {'alpha': 2.472606156858938e-06, 'l1_ratio': 2.9550864041918417e-05}. Best is trial 214 with value: 0.9691920683625413.\u001b[0m\n",
      "\u001b[32m[I 2020-12-27 01:50:36,790]\u001b[0m Trial 482 finished with value: 0.9633714082364436 and parameters: {'alpha': 4.682398044740363e-07, 'l1_ratio': 0.027815636910908517}. Best is trial 214 with value: 0.9691920683625413.\u001b[0m\n",
      "\u001b[32m[I 2020-12-27 01:50:37,183]\u001b[0m Trial 483 finished with value: 0.9522264076330517 and parameters: {'alpha': 2.7499849327235783e-07, 'l1_ratio': 8.47643604657135e-06}. Best is trial 214 with value: 0.9691920683625413.\u001b[0m\n",
      "\u001b[32m[I 2020-12-27 01:50:37,563]\u001b[0m Trial 484 finished with value: 0.9621486040922791 and parameters: {'alpha': 7.827055069379123e-07, 'l1_ratio': 2.151080442257579e-09}. Best is trial 214 with value: 0.9691920683625413.\u001b[0m\n",
      "\u001b[32m[I 2020-12-27 01:50:37,923]\u001b[0m Trial 485 finished with value: 0.9519038432221935 and parameters: {'alpha': 1.3812510398117875e-06, 'l1_ratio': 6.518650140325763e-09}. Best is trial 214 with value: 0.9691920683625413.\u001b[0m\n",
      "\u001b[32m[I 2020-12-27 01:50:38,337]\u001b[0m Trial 486 finished with value: 0.9552403785127146 and parameters: {'alpha': 4.2588019472894476e-07, 'l1_ratio': 1.0910416755704105e-06}. Best is trial 214 with value: 0.9691920683625413.\u001b[0m\n",
      "\u001b[32m[I 2020-12-27 01:50:38,704]\u001b[0m Trial 487 finished with value: 0.9588205877323901 and parameters: {'alpha': 9.370014946682303e-07, 'l1_ratio': 0.005797625244140687}. Best is trial 214 with value: 0.9691920683625413.\u001b[0m\n",
      "\u001b[32m[I 2020-12-27 01:50:39,157]\u001b[0m Trial 488 finished with value: 0.9465418669121524 and parameters: {'alpha': 1.2156128407760334e-07, 'l1_ratio': 7.12841866096595e-07}. Best is trial 214 with value: 0.9691920683625413.\u001b[0m\n",
      "\u001b[32m[I 2020-12-27 01:50:39,547]\u001b[0m Trial 489 finished with value: 0.9499697200990899 and parameters: {'alpha': 2.252657042712092e-08, 'l1_ratio': 9.534155134230629e-09}. Best is trial 214 with value: 0.9691920683625413.\u001b[0m\n",
      "\u001b[32m[I 2020-12-27 01:50:39,959]\u001b[0m Trial 490 finished with value: 0.9509238821967307 and parameters: {'alpha': 2.4578041127112617e-07, 'l1_ratio': 3.6606979613818838e-09}. Best is trial 214 with value: 0.9691920683625413.\u001b[0m\n",
      "\u001b[32m[I 2020-12-27 01:50:40,337]\u001b[0m Trial 491 finished with value: 0.9574657341839158 and parameters: {'alpha': 6.015660494530567e-07, 'l1_ratio': 0.015658517780591307}. Best is trial 214 with value: 0.9691920683625413.\u001b[0m\n",
      "\u001b[32m[I 2020-12-27 01:50:40,688]\u001b[0m Trial 492 finished with value: 0.9547456135722805 and parameters: {'alpha': 1.8852533319043533e-06, 'l1_ratio': 1.2233963109411967e-09}. Best is trial 214 with value: 0.9691920683625413.\u001b[0m\n",
      "\u001b[32m[I 2020-12-27 01:50:41,068]\u001b[0m Trial 493 finished with value: 0.9598012306482997 and parameters: {'alpha': 9.43116254382334e-07, 'l1_ratio': 0.0015941565457191869}. Best is trial 214 with value: 0.9691920683625413.\u001b[0m\n",
      "\u001b[32m[I 2020-12-27 01:50:41,475]\u001b[0m Trial 494 finished with value: 0.952108321683653 and parameters: {'alpha': 3.459284577582767e-07, 'l1_ratio': 7.372740507785881e-08}. Best is trial 214 with value: 0.9691920683625413.\u001b[0m\n",
      "\u001b[32m[I 2020-12-27 01:50:41,891]\u001b[0m Trial 495 finished with value: 0.9587837732683094 and parameters: {'alpha': 1.6040771807730253e-07, 'l1_ratio': 1.40298247342645e-08}. Best is trial 214 with value: 0.9691920683625413.\u001b[0m\n",
      "\u001b[32m[I 2020-12-27 01:50:42,256]\u001b[0m Trial 496 finished with value: 0.9526753356373528 and parameters: {'alpha': 5.804337797434001e-07, 'l1_ratio': 0.0029650235454034006}. Best is trial 214 with value: 0.9691920683625413.\u001b[0m\n",
      "\u001b[32m[I 2020-12-27 01:50:42,642]\u001b[0m Trial 497 finished with value: 0.952943002083091 and parameters: {'alpha': 1.4526999220777782e-06, 'l1_ratio': 4.42848698611211e-08}. Best is trial 214 with value: 0.9691920683625413.\u001b[0m\n",
      "\u001b[32m[I 2020-12-27 01:50:43,046]\u001b[0m Trial 498 finished with value: 0.9488217340532665 and parameters: {'alpha': 9.018492441547028e-08, 'l1_ratio': 3.6622138107131284e-05}. Best is trial 214 with value: 0.9691920683625413.\u001b[0m\n",
      "\u001b[32m[I 2020-12-27 01:50:43,446]\u001b[0m Trial 499 finished with value: 0.9577600412064791 and parameters: {'alpha': 4.7101833721178555e-07, 'l1_ratio': 1.4481824723646157e-05}. Best is trial 214 with value: 0.9691920683625413.\u001b[0m\n",
      "\u001b[32m[I 2020-12-27 01:50:43,823]\u001b[0m Trial 500 finished with value: 0.9577382599241732 and parameters: {'alpha': 7.323131042873153e-07, 'l1_ratio': 1.7089767314354512e-06}. Best is trial 214 with value: 0.9691920683625413.\u001b[0m\n",
      "\u001b[32m[I 2020-12-27 01:50:44,201]\u001b[0m Trial 501 finished with value: 0.9550342586475382 and parameters: {'alpha': 1.1726022550618533e-06, 'l1_ratio': 0.00880934352979684}. Best is trial 214 with value: 0.9691920683625413.\u001b[0m\n",
      "\u001b[32m[I 2020-12-27 01:50:44,599]\u001b[0m Trial 502 finished with value: 0.9565205999377469 and parameters: {'alpha': 2.982754610576694e-07, 'l1_ratio': 0.004455016669806603}. Best is trial 214 with value: 0.9691920683625413.\u001b[0m\n",
      "\u001b[32m[I 2020-12-27 01:50:45,012]\u001b[0m Trial 503 finished with value: 0.9598936038568245 and parameters: {'alpha': 1.8311128719787422e-07, 'l1_ratio': 7.157325051180874e-06}. Best is trial 214 with value: 0.9691920683625413.\u001b[0m\n",
      "\u001b[32m[I 2020-12-27 01:50:45,387]\u001b[0m Trial 504 finished with value: 0.9537303952291469 and parameters: {'alpha': 4.0931571097124685e-07, 'l1_ratio': 2.23316710031006e-08}. Best is trial 214 with value: 0.9691920683625413.\u001b[0m\n",
      "\u001b[32m[I 2020-12-27 01:50:45,788]\u001b[0m Trial 505 finished with value: 0.9571017731461624 and parameters: {'alpha': 6.765543952378902e-07, 'l1_ratio': 3.6963726795906475e-06}. Best is trial 214 with value: 0.9691920683625413.\u001b[0m\n",
      "\u001b[32m[I 2020-12-27 01:50:46,166]\u001b[0m Trial 506 finished with value: 0.9602098834082169 and parameters: {'alpha': 9.33618006559781e-07, 'l1_ratio': 5.554813882994213e-09}. Best is trial 214 with value: 0.9691920683625413.\u001b[0m\n",
      "\u001b[32m[I 2020-12-27 01:50:46,565]\u001b[0m Trial 507 finished with value: 0.95314256768418 and parameters: {'alpha': 2.4940582776975274e-07, 'l1_ratio': 2.08911154057707e-05}. Best is trial 214 with value: 0.9691920683625413.\u001b[0m\n",
      "\u001b[32m[I 2020-12-27 01:50:46,923]\u001b[0m Trial 508 finished with value: 0.9580907308533797 and parameters: {'alpha': 2.0361528312242437e-06, 'l1_ratio': 0.00714178201632176}. Best is trial 214 with value: 0.9691920683625413.\u001b[0m\n",
      "\u001b[32m[I 2020-12-27 01:50:47,332]\u001b[0m Trial 509 finished with value: 0.9586671363186071 and parameters: {'alpha': 5.345630649477683e-07, 'l1_ratio': 0.012274673900332414}. Best is trial 214 with value: 0.9691920683625413.\u001b[0m\n",
      "\u001b[32m[I 2020-12-27 01:50:47,733]\u001b[0m Trial 510 finished with value: 0.954113996237759 and parameters: {'alpha': 7.075574206066088e-08, 'l1_ratio': 1.4113219377010863e-08}. Best is trial 214 with value: 0.9691920683625413.\u001b[0m\n",
      "\u001b[32m[I 2020-12-27 01:50:48,113]\u001b[0m Trial 511 finished with value: 0.9578658802135802 and parameters: {'alpha': 1.1132490755790777e-06, 'l1_ratio': 8.714982710813353e-09}. Best is trial 214 with value: 0.9691920683625413.\u001b[0m\n",
      "\u001b[32m[I 2020-12-27 01:50:48,494]\u001b[0m Trial 512 finished with value: 0.9519379097307338 and parameters: {'alpha': 3.739744637631956e-07, 'l1_ratio': 2.183087639336951e-06}. Best is trial 214 with value: 0.9691920683625413.\u001b[0m\n",
      "\u001b[32m[I 2020-12-27 01:50:48,946]\u001b[0m Trial 513 finished with value: 0.9533034707215806 and parameters: {'alpha': 1.1842267971692558e-07, 'l1_ratio': 5.133777981645958e-05}. Best is trial 214 with value: 0.9691920683625413.\u001b[0m\n",
      "\u001b[32m[I 2020-12-27 01:50:49,349]\u001b[0m Trial 514 finished with value: 0.9636557609804984 and parameters: {'alpha': 8.434393875751772e-07, 'l1_ratio': 3.562728079250668e-07}. Best is trial 214 with value: 0.9691920683625413.\u001b[0m\n",
      "\u001b[32m[I 2020-12-27 01:50:49,742]\u001b[0m Trial 515 finished with value: 0.9500529768699781 and parameters: {'alpha': 2.2647780916362773e-07, 'l1_ratio': 0.0002216492729530556}. Best is trial 214 with value: 0.9691920683625413.\u001b[0m\n",
      "\u001b[32m[I 2020-12-27 01:50:50,129]\u001b[0m Trial 516 finished with value: 0.9600076740373277 and parameters: {'alpha': 5.808120019364337e-07, 'l1_ratio': 0.004382328946267931}. Best is trial 214 with value: 0.9691920683625413.\u001b[0m\n",
      "\u001b[32m[I 2020-12-27 01:50:50,477]\u001b[0m Trial 517 finished with value: 0.9586259588556102 and parameters: {'alpha': 3.5799700539704754e-06, 'l1_ratio': 0.0010455581765364255}. Best is trial 214 with value: 0.9691920683625413.\u001b[0m\n"
     ]
    },
    {
     "name": "stderr",
     "output_type": "stream",
     "text": [
      "\u001b[32m[I 2020-12-27 01:50:50,836]\u001b[0m Trial 518 finished with value: 0.9619491433082294 and parameters: {'alpha': 1.3954790689751097e-06, 'l1_ratio': 1.1972891416564965e-05}. Best is trial 214 with value: 0.9691920683625413.\u001b[0m\n",
      "\u001b[32m[I 2020-12-27 01:50:51,241]\u001b[0m Trial 519 finished with value: 0.956578222636517 and parameters: {'alpha': 3.3187345813966776e-07, 'l1_ratio': 4.026025647530634e-08}. Best is trial 214 with value: 0.9691920683625413.\u001b[0m\n",
      "\u001b[32m[I 2020-12-27 01:50:51,627]\u001b[0m Trial 520 finished with value: 0.9592447237402403 and parameters: {'alpha': 1.704132551951636e-07, 'l1_ratio': 4.560899195612813e-06}. Best is trial 214 with value: 0.9691920683625413.\u001b[0m\n",
      "\u001b[32m[I 2020-12-27 01:50:52,015]\u001b[0m Trial 521 finished with value: 0.9581843545911816 and parameters: {'alpha': 7.11663998582011e-07, 'l1_ratio': 1.2385993559085906e-07}. Best is trial 214 with value: 0.9691920683625413.\u001b[0m\n",
      "\u001b[32m[I 2020-12-27 01:50:52,393]\u001b[0m Trial 522 finished with value: 0.9554712619267344 and parameters: {'alpha': 4.7217122295117127e-07, 'l1_ratio': 0.0025035881038170888}. Best is trial 214 with value: 0.9691920683625413.\u001b[0m\n",
      "\u001b[32m[I 2020-12-27 01:50:52,839]\u001b[0m Trial 523 finished with value: 0.9511190583502768 and parameters: {'alpha': 5.155870127804733e-08, 'l1_ratio': 0.020367365329664777}. Best is trial 214 with value: 0.9691920683625413.\u001b[0m\n",
      "\u001b[32m[I 2020-12-27 01:50:53,224]\u001b[0m Trial 524 finished with value: 0.9624096644609943 and parameters: {'alpha': 1.2095490056514916e-06, 'l1_ratio': 1.138547105836112e-06}. Best is trial 214 with value: 0.9691920683625413.\u001b[0m\n",
      "\u001b[32m[I 2020-12-27 01:50:53,609]\u001b[0m Trial 525 finished with value: 0.9566061363638055 and parameters: {'alpha': 8.511179524422946e-07, 'l1_ratio': 2.6079686821378337e-05}. Best is trial 214 with value: 0.9691920683625413.\u001b[0m\n",
      "\u001b[32m[I 2020-12-27 01:50:53,970]\u001b[0m Trial 526 finished with value: 0.9595963515810411 and parameters: {'alpha': 2.175968868938389e-06, 'l1_ratio': 2.1024633158770258e-08}. Best is trial 214 with value: 0.9691920683625413.\u001b[0m\n",
      "\u001b[32m[I 2020-12-27 01:50:54,388]\u001b[0m Trial 527 finished with value: 0.9518403001305901 and parameters: {'alpha': 3.422928160097591e-07, 'l1_ratio': 5.636435233611879e-07}. Best is trial 214 with value: 0.9691920683625413.\u001b[0m\n",
      "\u001b[32m[I 2020-12-27 01:50:54,767]\u001b[0m Trial 528 finished with value: 0.954603520218003 and parameters: {'alpha': 5.319025358868806e-07, 'l1_ratio': 1.6497939708313437e-09}. Best is trial 214 with value: 0.9691920683625413.\u001b[0m\n",
      "\u001b[32m[I 2020-12-27 01:50:55,214]\u001b[0m Trial 529 finished with value: 0.9568524714330615 and parameters: {'alpha': 9.523554882330856e-08, 'l1_ratio': 3.8928318989567895e-09}. Best is trial 214 with value: 0.9691920683625413.\u001b[0m\n",
      "\u001b[32m[I 2020-12-27 01:50:55,633]\u001b[0m Trial 530 finished with value: 0.9521420488350212 and parameters: {'alpha': 2.4355036656635877e-07, 'l1_ratio': 1.0283888819913222e-08}. Best is trial 214 with value: 0.9691920683625413.\u001b[0m\n",
      "\u001b[32m[I 2020-12-27 01:50:56,024]\u001b[0m Trial 531 finished with value: 0.9589236038457172 and parameters: {'alpha': 7.343390592453288e-07, 'l1_ratio': 0.006195492170551036}. Best is trial 214 with value: 0.9691920683625413.\u001b[0m\n",
      "\u001b[32m[I 2020-12-27 01:50:56,400]\u001b[0m Trial 532 finished with value: 0.9580907308533797 and parameters: {'alpha': 1.4302452831439775e-06, 'l1_ratio': 0.0031511669671806255}. Best is trial 214 with value: 0.9691920683625413.\u001b[0m\n",
      "\u001b[32m[I 2020-12-27 01:50:56,885]\u001b[0m Trial 533 finished with value: 0.9605963054556196 and parameters: {'alpha': 4.391130510516892e-07, 'l1_ratio': 6.969036664053814e-10}. Best is trial 214 with value: 0.9691920683625413.\u001b[0m\n",
      "\u001b[32m[I 2020-12-27 01:50:57,368]\u001b[0m Trial 534 finished with value: 0.9536651613240169 and parameters: {'alpha': 1.3429000325352043e-07, 'l1_ratio': 3.831921542409324e-05}. Best is trial 214 with value: 0.9691920683625413.\u001b[0m\n",
      "\u001b[32m[I 2020-12-27 01:50:57,831]\u001b[0m Trial 535 finished with value: 0.9577144194795526 and parameters: {'alpha': 9.660689741726347e-07, 'l1_ratio': 0.04283827924880254}. Best is trial 214 with value: 0.9691920683625413.\u001b[0m\n",
      "\u001b[32m[I 2020-12-27 01:50:58,512]\u001b[0m Trial 536 finished with value: 0.9495356972364194 and parameters: {'alpha': 2.774970879978286e-07, 'l1_ratio': 6.954045410448108e-08}. Best is trial 214 with value: 0.9691920683625413.\u001b[0m\n",
      "\u001b[32m[I 2020-12-27 01:50:58,973]\u001b[0m Trial 537 finished with value: 0.9625517960250528 and parameters: {'alpha': 6.046725116383679e-07, 'l1_ratio': 6.087602192820147e-06}. Best is trial 214 with value: 0.9691920683625413.\u001b[0m\n",
      "\u001b[32m[I 2020-12-27 01:50:59,387]\u001b[0m Trial 538 finished with value: 0.959625843477737 and parameters: {'alpha': 2.0922883796203532e-07, 'l1_ratio': 0.0018308549660336017}. Best is trial 214 with value: 0.9691920683625413.\u001b[0m\n",
      "\u001b[32m[I 2020-12-27 01:50:59,774]\u001b[0m Trial 539 finished with value: 0.9580637573805608 and parameters: {'alpha': 1.0409962052894567e-06, 'l1_ratio': 2.6402994775499e-06}. Best is trial 214 with value: 0.9691920683625413.\u001b[0m\n",
      "\u001b[32m[I 2020-12-27 01:51:00,194]\u001b[0m Trial 540 finished with value: 0.9644187779798252 and parameters: {'alpha': 4.094221158503638e-07, 'l1_ratio': 1.6087877241759035e-05}. Best is trial 214 with value: 0.9691920683625413.\u001b[0m\n",
      "\u001b[32m[I 2020-12-27 01:51:00,630]\u001b[0m Trial 541 finished with value: 0.9551082666648006 and parameters: {'alpha': 1.6077919512146673e-07, 'l1_ratio': 1.0525519667434908e-05}. Best is trial 214 with value: 0.9691920683625413.\u001b[0m\n",
      "\u001b[32m[I 2020-12-27 01:51:01,059]\u001b[0m Trial 542 finished with value: 0.9524688518259511 and parameters: {'alpha': 3.7626656087851307e-07, 'l1_ratio': 1.4234516625261235e-05}. Best is trial 214 with value: 0.9691920683625413.\u001b[0m\n",
      "\u001b[32m[I 2020-12-27 01:51:01,475]\u001b[0m Trial 543 finished with value: 0.9603923331907053 and parameters: {'alpha': 2.8107469206088694e-07, 'l1_ratio': 2.0373198014867035e-05}. Best is trial 214 with value: 0.9691920683625413.\u001b[0m\n",
      "\u001b[32m[I 2020-12-27 01:51:01,870]\u001b[0m Trial 544 finished with value: 0.9639489076949539 and parameters: {'alpha': 4.5137715286180504e-07, 'l1_ratio': 7.896965360934657e-06}. Best is trial 214 with value: 0.9691920683625413.\u001b[0m\n",
      "\u001b[32m[I 2020-12-27 01:51:02,298]\u001b[0m Trial 545 finished with value: 0.954445785700722 and parameters: {'alpha': 1.8682891889470463e-07, 'l1_ratio': 2.0660264178377428e-05}. Best is trial 214 with value: 0.9691920683625413.\u001b[0m\n",
      "\u001b[32m[I 2020-12-27 01:51:02,733]\u001b[0m Trial 546 finished with value: 0.9481607423608851 and parameters: {'alpha': 9.703323270916194e-08, 'l1_ratio': 2.9640843178643924e-05}. Best is trial 214 with value: 0.9691920683625413.\u001b[0m\n",
      "\u001b[32m[I 2020-12-27 01:51:03,086]\u001b[0m Trial 547 finished with value: 0.9565065728955324 and parameters: {'alpha': 1.718213311125726e-06, 'l1_ratio': 1.2562293968453114e-05}. Best is trial 214 with value: 0.9691920683625413.\u001b[0m\n",
      "\u001b[32m[I 2020-12-27 01:51:03,485]\u001b[0m Trial 548 finished with value: 0.9544774264320499 and parameters: {'alpha': 3.596597598726189e-07, 'l1_ratio': 7.301041162157823e-05}. Best is trial 214 with value: 0.9691920683625413.\u001b[0m\n",
      "\u001b[32m[I 2020-12-27 01:51:03,860]\u001b[0m Trial 549 finished with value: 0.9651506034558229 and parameters: {'alpha': 6.886362905797496e-07, 'l1_ratio': 2.288381942073547e-09}. Best is trial 214 with value: 0.9691920683625413.\u001b[0m\n",
      "\u001b[32m[I 2020-12-27 01:51:04,294]\u001b[0m Trial 550 finished with value: 0.9425829136289623 and parameters: {'alpha': 1.2431703716997678e-08, 'l1_ratio': 1.0728644557867992e-09}. Best is trial 214 with value: 0.9691920683625413.\u001b[0m\n",
      "\u001b[32m[I 2020-12-27 01:51:04,664]\u001b[0m Trial 551 finished with value: 0.960684388232571 and parameters: {'alpha': 7.22571716616983e-07, 'l1_ratio': 1.2518032856764603e-09}. Best is trial 214 with value: 0.9691920683625413.\u001b[0m\n",
      "\u001b[32m[I 2020-12-27 01:51:05,065]\u001b[0m Trial 552 finished with value: 0.9584280811324635 and parameters: {'alpha': 1.2079054248529485e-06, 'l1_ratio': 1.69728600242162e-09}. Best is trial 214 with value: 0.9691920683625413.\u001b[0m\n",
      "\u001b[32m[I 2020-12-27 01:51:05,456]\u001b[0m Trial 553 finished with value: 0.9547434540054253 and parameters: {'alpha': 5.121683925512387e-07, 'l1_ratio': 2.7533471641237997e-09}. Best is trial 214 with value: 0.9691920683625413.\u001b[0m\n",
      "\u001b[32m[I 2020-12-27 01:51:05,819]\u001b[0m Trial 554 finished with value: 0.9549614681279169 and parameters: {'alpha': 2.673674592901889e-06, 'l1_ratio': 2.795665683751587e-09}. Best is trial 214 with value: 0.9691920683625413.\u001b[0m\n"
     ]
    },
    {
     "name": "stderr",
     "output_type": "stream",
     "text": [
      "\u001b[32m[I 2020-12-27 01:51:06,224]\u001b[0m Trial 555 finished with value: 0.952480590387958 and parameters: {'alpha': 2.560625028113753e-07, 'l1_ratio': 6.841827871008456e-10}. Best is trial 214 with value: 0.9691920683625413.\u001b[0m\n",
      "\u001b[32m[I 2020-12-27 01:51:06,612]\u001b[0m Trial 556 finished with value: 0.9576553475089453 and parameters: {'alpha': 8.150219304520064e-07, 'l1_ratio': 4.459956989986585e-10}. Best is trial 214 with value: 0.9691920683625413.\u001b[0m\n",
      "\u001b[32m[I 2020-12-27 01:51:07,064]\u001b[0m Trial 557 finished with value: 0.9429860271830783 and parameters: {'alpha': 6.902604412577363e-08, 'l1_ratio': 9.862842306840238e-10}. Best is trial 214 with value: 0.9691920683625413.\u001b[0m\n",
      "\u001b[32m[I 2020-12-27 01:51:07,487]\u001b[0m Trial 558 finished with value: 0.9553187461910932 and parameters: {'alpha': 1.4705566033417888e-07, 'l1_ratio': 4.231094493573552e-06}. Best is trial 214 with value: 0.9691920683625413.\u001b[0m\n",
      "\u001b[32m[I 2020-12-27 01:51:07,906]\u001b[0m Trial 559 finished with value: 0.9548886433854543 and parameters: {'alpha': 3.690059091776272e-07, 'l1_ratio': 4.1898915823272705e-09}. Best is trial 214 with value: 0.9691920683625413.\u001b[0m\n",
      "\u001b[32m[I 2020-12-27 01:51:08,374]\u001b[0m Trial 560 finished with value: 0.9531912324052052 and parameters: {'alpha': 3.4059399564351364e-08, 'l1_ratio': 0.009751322590650464}. Best is trial 214 with value: 0.9691920683625413.\u001b[0m\n",
      "\u001b[32m[I 2020-12-27 01:51:08,742]\u001b[0m Trial 561 finished with value: 0.9571243229510549 and parameters: {'alpha': 1.7919419447748078e-06, 'l1_ratio': 1.7516541276842513e-09}. Best is trial 214 with value: 0.9691920683625413.\u001b[0m\n",
      "\u001b[32m[I 2020-12-27 01:51:09,121]\u001b[0m Trial 562 finished with value: 0.9656035479362112 and parameters: {'alpha': 6.226170816884152e-07, 'l1_ratio': 8.441749120851413e-07}. Best is trial 214 with value: 0.9691920683625413.\u001b[0m\n",
      "\u001b[32m[I 2020-12-27 01:51:09,527]\u001b[0m Trial 563 finished with value: 0.9601674732008986 and parameters: {'alpha': 9.118712726285451e-07, 'l1_ratio': 6.183438430307984e-07}. Best is trial 214 with value: 0.9691920683625413.\u001b[0m\n",
      "\u001b[32m[I 2020-12-27 01:51:09,900]\u001b[0m Trial 564 finished with value: 0.9589446026824153 and parameters: {'alpha': 1.1283027058545642e-06, 'l1_ratio': 1.4193859541143511e-06}. Best is trial 214 with value: 0.9691920683625413.\u001b[0m\n",
      "\u001b[32m[I 2020-12-27 01:51:10,290]\u001b[0m Trial 565 finished with value: 0.957299646830851 and parameters: {'alpha': 6.491397864153534e-07, 'l1_ratio': 2.5035409402990154e-06}. Best is trial 214 with value: 0.9691920683625413.\u001b[0m\n",
      "\u001b[32m[I 2020-12-27 01:51:10,662]\u001b[0m Trial 566 finished with value: 0.9581743977731156 and parameters: {'alpha': 1.646283868306172e-06, 'l1_ratio': 1.029394095680861e-06}. Best is trial 214 with value: 0.9691920683625413.\u001b[0m\n",
      "\u001b[32m[I 2020-12-27 01:51:11,054]\u001b[0m Trial 567 finished with value: 0.9582594206748694 and parameters: {'alpha': 5.105043943620696e-07, 'l1_ratio': 1.8901262112783628e-06}. Best is trial 214 with value: 0.9691920683625413.\u001b[0m\n",
      "\u001b[32m[I 2020-12-27 01:51:11,470]\u001b[0m Trial 568 finished with value: 0.9657008957618005 and parameters: {'alpha': 8.363081457912454e-07, 'l1_ratio': 4.045600303364883e-07}. Best is trial 214 with value: 0.9691920683625413.\u001b[0m\n",
      "\u001b[32m[I 2020-12-27 01:51:11,856]\u001b[0m Trial 569 finished with value: 0.9622824796039772 and parameters: {'alpha': 1.2532462661909602e-06, 'l1_ratio': 4.1405366492126044e-07}. Best is trial 214 with value: 0.9691920683625413.\u001b[0m\n",
      "\u001b[32m[I 2020-12-27 01:51:12,251]\u001b[0m Trial 570 finished with value: 0.9608651476481145 and parameters: {'alpha': 8.68712725408716e-07, 'l1_ratio': 1.0891446111486808e-06}. Best is trial 214 with value: 0.9691920683625413.\u001b[0m\n",
      "\u001b[32m[I 2020-12-27 01:51:12,638]\u001b[0m Trial 571 finished with value: 0.9558985960295069 and parameters: {'alpha': 1.3282552931644715e-06, 'l1_ratio': 1.013693373617812e-06}. Best is trial 214 with value: 0.9691920683625413.\u001b[0m\n",
      "\u001b[32m[I 2020-12-27 01:51:13,009]\u001b[0m Trial 572 finished with value: 0.9568035637819352 and parameters: {'alpha': 2.446172207538524e-06, 'l1_ratio': 4.000929377313666e-07}. Best is trial 214 with value: 0.9691920683625413.\u001b[0m\n",
      "\u001b[32m[I 2020-12-27 01:51:13,404]\u001b[0m Trial 573 finished with value: 0.9658762465254883 and parameters: {'alpha': 7.74995502841437e-07, 'l1_ratio': 2.171008927828239e-07}. Best is trial 214 with value: 0.9691920683625413.\u001b[0m\n",
      "\u001b[32m[I 2020-12-27 01:51:13,781]\u001b[0m Trial 574 finished with value: 0.9622471009515318 and parameters: {'alpha': 9.161272348548484e-07, 'l1_ratio': 1.855406946285962e-07}. Best is trial 214 with value: 0.9691920683625413.\u001b[0m\n",
      "\u001b[32m[I 2020-12-27 01:51:14,151]\u001b[0m Trial 575 finished with value: 0.9613150193730399 and parameters: {'alpha': 1.8175663489244588e-06, 'l1_ratio': 2.889639784570645e-07}. Best is trial 214 with value: 0.9691920683625413.\u001b[0m\n",
      "\u001b[32m[I 2020-12-27 01:51:14,558]\u001b[0m Trial 576 finished with value: 0.9601651004388825 and parameters: {'alpha': 7.516516121034517e-07, 'l1_ratio': 2.3967910717655865e-07}. Best is trial 214 with value: 0.9691920683625413.\u001b[0m\n",
      "\u001b[32m[I 2020-12-27 01:51:14,937]\u001b[0m Trial 577 finished with value: 0.9586249800126058 and parameters: {'alpha': 1.0858653237983467e-06, 'l1_ratio': 2.5581069620438936e-07}. Best is trial 214 with value: 0.9691920683625413.\u001b[0m\n",
      "\u001b[32m[I 2020-12-27 01:51:15,355]\u001b[0m Trial 578 finished with value: 0.9586253215713452 and parameters: {'alpha': 6.693534076863021e-07, 'l1_ratio': 8.226169602634796e-07}. Best is trial 214 with value: 0.9691920683625413.\u001b[0m\n",
      "\u001b[32m[I 2020-12-27 01:51:15,731]\u001b[0m Trial 579 finished with value: 0.9576749005223321 and parameters: {'alpha': 1.577047460645451e-06, 'l1_ratio': 4.2126867493915235e-07}. Best is trial 214 with value: 0.9691920683625413.\u001b[0m\n",
      "\u001b[32m[I 2020-12-27 01:51:16,112]\u001b[0m Trial 580 finished with value: 0.9607338430406457 and parameters: {'alpha': 1.2341385858355701e-06, 'l1_ratio': 1.4570589858320735e-07}. Best is trial 214 with value: 0.9691920683625413.\u001b[0m\n",
      "\u001b[32m[I 2020-12-27 01:51:16,477]\u001b[0m Trial 581 finished with value: 0.9581656683366226 and parameters: {'alpha': 3.0003348045883477e-06, 'l1_ratio': 1.6739203861956032e-07}. Best is trial 214 with value: 0.9691920683625413.\u001b[0m\n",
      "\u001b[32m[I 2020-12-27 01:51:16,888]\u001b[0m Trial 582 finished with value: 0.9545909081326945 and parameters: {'alpha': 6.993413195853292e-07, 'l1_ratio': 1.0199619702133133e-07}. Best is trial 214 with value: 0.9691920683625413.\u001b[0m\n",
      "\u001b[32m[I 2020-12-27 01:51:17,252]\u001b[0m Trial 583 finished with value: 0.956927987529833 and parameters: {'alpha': 9.866988377729196e-07, 'l1_ratio': 4.806756279488516e-07}. Best is trial 214 with value: 0.9691920683625413.\u001b[0m\n",
      "\u001b[32m[I 2020-12-27 01:51:17,673]\u001b[0m Trial 584 finished with value: 0.9542100588292683 and parameters: {'alpha': 5.53875844271419e-07, 'l1_ratio': 7.035490705693897e-07}. Best is trial 214 with value: 0.9691920683625413.\u001b[0m\n",
      "\u001b[32m[I 2020-12-27 01:51:18,049]\u001b[0m Trial 585 finished with value: 0.9540665858348777 and parameters: {'alpha': 8.656040032543912e-07, 'l1_ratio': 2.451489088127226e-07}. Best is trial 214 with value: 0.9691920683625413.\u001b[0m\n",
      "\u001b[32m[I 2020-12-27 01:51:18,406]\u001b[0m Trial 586 finished with value: 0.9632655500282729 and parameters: {'alpha': 2.0371507335621047e-06, 'l1_ratio': 7.217220780019173e-07}. Best is trial 214 with value: 0.9691920683625413.\u001b[0m\n",
      "\u001b[32m[I 2020-12-27 01:51:18,817]\u001b[0m Trial 587 finished with value: 0.960705847625954 and parameters: {'alpha': 5.748365224571853e-07, 'l1_ratio': 2.2273440813314078e-07}. Best is trial 214 with value: 0.9691920683625413.\u001b[0m\n",
      "\u001b[32m[I 2020-12-27 01:51:19,193]\u001b[0m Trial 588 finished with value: 0.9578663044311408 and parameters: {'alpha': 1.5340743174142482e-06, 'l1_ratio': 7.570898522776075e-07}. Best is trial 214 with value: 0.9691920683625413.\u001b[0m\n",
      "\u001b[32m[I 2020-12-27 01:51:19,571]\u001b[0m Trial 589 finished with value: 0.9589435912098367 and parameters: {'alpha': 1.0369171885836335e-06, 'l1_ratio': 1.5964555376831732e-06}. Best is trial 214 with value: 0.9691920683625413.\u001b[0m\n",
      "\u001b[32m[I 2020-12-27 01:51:19,947]\u001b[0m Trial 590 finished with value: 0.962248672074502 and parameters: {'alpha': 7.176789756350484e-07, 'l1_ratio': 5.771836890829748e-07}. Best is trial 214 with value: 0.9691920683625413.\u001b[0m\n",
      "\u001b[32m[I 2020-12-27 01:51:20,340]\u001b[0m Trial 591 finished with value: 0.9608449894779635 and parameters: {'alpha': 5.244535718506801e-07, 'l1_ratio': 1.4733396396339006e-07}. Best is trial 214 with value: 0.9691920683625413.\u001b[0m\n"
     ]
    },
    {
     "name": "stderr",
     "output_type": "stream",
     "text": [
      "\u001b[32m[I 2020-12-27 01:51:20,734]\u001b[0m Trial 592 finished with value: 0.955171292145911 and parameters: {'alpha': 1.1373211056210178e-06, 'l1_ratio': 3.9964461476427455e-07}. Best is trial 214 with value: 0.9691920683625413.\u001b[0m\n",
      "\u001b[32m[I 2020-12-27 01:51:21,119]\u001b[0m Trial 593 finished with value: 0.9632021789757234 and parameters: {'alpha': 7.628812238661993e-07, 'l1_ratio': 1.5008253787309505e-06}. Best is trial 214 with value: 0.9691920683625413.\u001b[0m\n",
      "\u001b[32m[I 2020-12-27 01:51:21,512]\u001b[0m Trial 594 finished with value: 0.9482669618575628 and parameters: {'alpha': 4.5223586013290005e-07, 'l1_ratio': 2.6924867564650146e-07}. Best is trial 214 with value: 0.9691920683625413.\u001b[0m\n",
      "\u001b[32m[I 2020-12-27 01:51:21,886]\u001b[0m Trial 595 finished with value: 0.9645372730489125 and parameters: {'alpha': 1.4699663319517123e-06, 'l1_ratio': 9.977355095752331e-08}. Best is trial 214 with value: 0.9691920683625413.\u001b[0m\n",
      "\u001b[32m[I 2020-12-27 01:51:22,279]\u001b[0m Trial 596 finished with value: 0.9640246458458341 and parameters: {'alpha': 6.267751914214327e-07, 'l1_ratio': 2.29030091438957e-09}. Best is trial 214 with value: 0.9691920683625413.\u001b[0m\n",
      "\u001b[32m[I 2020-12-27 01:51:22,733]\u001b[0m Trial 597 finished with value: 0.9418500908870155 and parameters: {'alpha': 4.5781544032885035e-08, 'l1_ratio': 9.380549389385615e-07}. Best is trial 214 with value: 0.9691920683625413.\u001b[0m\n",
      "\u001b[32m[I 2020-12-27 01:51:23,136]\u001b[0m Trial 598 finished with value: 0.9544945099284434 and parameters: {'alpha': 3.54834387301254e-07, 'l1_ratio': 4.282015641306522e-07}. Best is trial 214 with value: 0.9691920683625413.\u001b[0m\n",
      "\u001b[32m[I 2020-12-27 01:51:23,524]\u001b[0m Trial 599 finished with value: 0.9601158002208936 and parameters: {'alpha': 9.108318119332914e-07, 'l1_ratio': 1.757943975685126e-07}. Best is trial 214 with value: 0.9691920683625413.\u001b[0m\n",
      "\u001b[32m[I 2020-12-27 01:51:23,930]\u001b[0m Trial 600 finished with value: 0.9576326183686376 and parameters: {'alpha': 5.325496706462172e-07, 'l1_ratio': 2.8107801695577913e-06}. Best is trial 214 with value: 0.9691920683625413.\u001b[0m\n",
      "\u001b[32m[I 2020-12-27 01:51:24,426]\u001b[0m Trial 601 finished with value: 0.9559368083121941 and parameters: {'alpha': 1.5257497769569182e-10, 'l1_ratio': 1.2871219618489503e-06}. Best is trial 214 with value: 0.9691920683625413.\u001b[0m\n",
      "\u001b[32m[I 2020-12-27 01:51:24,789]\u001b[0m Trial 602 finished with value: 0.9581297232861776 and parameters: {'alpha': 2.313154342619764e-06, 'l1_ratio': 6.216124381547061e-07}. Best is trial 214 with value: 0.9691920683625413.\u001b[0m\n",
      "\u001b[32m[I 2020-12-27 01:51:25,166]\u001b[0m Trial 603 finished with value: 0.954739823799517 and parameters: {'alpha': 1.3513251516077177e-06, 'l1_ratio': 1.710228356431847e-06}. Best is trial 214 with value: 0.9691920683625413.\u001b[0m\n",
      "\u001b[32m[I 2020-12-27 01:51:25,542]\u001b[0m Trial 604 finished with value: 0.9566515605850623 and parameters: {'alpha': 8.846972455836312e-07, 'l1_ratio': 1.0229819631218773e-07}. Best is trial 214 with value: 0.9691920683625413.\u001b[0m\n",
      "\u001b[32m[I 2020-12-27 01:51:25,951]\u001b[0m Trial 605 finished with value: 0.9525020121497969 and parameters: {'alpha': 3.7649953169269127e-07, 'l1_ratio': 3.438973484341848e-07}. Best is trial 214 with value: 0.9691920683625413.\u001b[0m\n",
      "\u001b[32m[I 2020-12-27 01:51:26,339]\u001b[0m Trial 606 finished with value: 0.9601796158135174 and parameters: {'alpha': 6.366589362823228e-07, 'l1_ratio': 0.000583741475304996}. Best is trial 214 with value: 0.9691920683625413.\u001b[0m\n",
      "\u001b[32m[I 2020-12-27 01:51:26,824]\u001b[0m Trial 607 finished with value: 0.9564115406936684 and parameters: {'alpha': 1.104750326538431e-07, 'l1_ratio': 0.0014121122250109906}. Best is trial 214 with value: 0.9691920683625413.\u001b[0m\n",
      "\u001b[32m[I 2020-12-27 01:51:27,171]\u001b[0m Trial 608 finished with value: 0.9536342691596347 and parameters: {'alpha': 4.743092858431311e-06, 'l1_ratio': 3.857368193730144e-06}. Best is trial 214 with value: 0.9691920683625413.\u001b[0m\n",
      "\u001b[32m[I 2020-12-27 01:51:27,548]\u001b[0m Trial 609 finished with value: 0.958700906931844 and parameters: {'alpha': 1.1119041467236098e-06, 'l1_ratio': 5.541590506440343e-05}. Best is trial 214 with value: 0.9691920683625413.\u001b[0m\n",
      "\u001b[32m[I 2020-12-27 01:51:27,942]\u001b[0m Trial 610 finished with value: 0.9492887425962768 and parameters: {'alpha': 2.9956379125459757e-07, 'l1_ratio': 2.0468834202571785e-09}. Best is trial 214 with value: 0.9691920683625413.\u001b[0m\n",
      "\u001b[32m[I 2020-12-27 01:51:28,351]\u001b[0m Trial 611 finished with value: 0.9611292073763935 and parameters: {'alpha': 4.2794965772222263e-07, 'l1_ratio': 9.43970681519993e-07}. Best is trial 214 with value: 0.9691920683625413.\u001b[0m\n",
      "\u001b[32m[I 2020-12-27 01:51:28,719]\u001b[0m Trial 612 finished with value: 0.9354821511647238 and parameters: {'alpha': 0.0002462846259711465, 'l1_ratio': 0.0001732842868070593}. Best is trial 214 with value: 0.9691920683625413.\u001b[0m\n",
      "\u001b[32m[I 2020-12-27 01:51:29,161]\u001b[0m Trial 613 finished with value: 0.9469779476627185 and parameters: {'alpha': 6.85175761541029e-08, 'l1_ratio': 1.883438580461246e-06}. Best is trial 214 with value: 0.9691920683625413.\u001b[0m\n",
      "\u001b[32m[I 2020-12-27 01:51:29,534]\u001b[0m Trial 614 finished with value: 0.9591875152704331 and parameters: {'alpha': 7.384898586326028e-07, 'l1_ratio': 9.96481673007453e-10}. Best is trial 214 with value: 0.9691920683625413.\u001b[0m\n",
      "\u001b[32m[I 2020-12-27 01:51:29,888]\u001b[0m Trial 615 finished with value: 0.9565370857145238 and parameters: {'alpha': 1.880844921383955e-06, 'l1_ratio': 1.8950276753993964e-07}. Best is trial 214 with value: 0.9691920683625413.\u001b[0m\n",
      "\u001b[32m[I 2020-12-27 01:51:30,282]\u001b[0m Trial 616 finished with value: 0.9645371385538015 and parameters: {'alpha': 5.341552610783851e-07, 'l1_ratio': 0.003919236672848986}. Best is trial 214 with value: 0.9691920683625413.\u001b[0m\n",
      "\u001b[32m[I 2020-12-27 01:51:30,674]\u001b[0m Trial 617 finished with value: 0.9550686023081801 and parameters: {'alpha': 1.2768383797691686e-06, 'l1_ratio': 3.107628572056025e-07}. Best is trial 214 with value: 0.9691920683625413.\u001b[0m\n",
      "\u001b[32m[I 2020-12-27 01:51:31,084]\u001b[0m Trial 618 finished with value: 0.9504117445653123 and parameters: {'alpha': 2.0871629744451193e-07, 'l1_ratio': 5.337786696014348e-07}. Best is trial 214 with value: 0.9691920683625413.\u001b[0m\n",
      "\u001b[32m[I 2020-12-27 01:51:31,515]\u001b[0m Trial 619 finished with value: 0.9584790036347672 and parameters: {'alpha': 8.34206015118889e-07, 'l1_ratio': 0.0010102974775467665}. Best is trial 214 with value: 0.9691920683625413.\u001b[0m\n",
      "\u001b[32m[I 2020-12-27 01:51:31,930]\u001b[0m Trial 620 finished with value: 0.9535221400872318 and parameters: {'alpha': 3.1889478680140256e-07, 'l1_ratio': 4.155677337722441e-05}. Best is trial 214 with value: 0.9691920683625413.\u001b[0m\n",
      "\u001b[32m[I 2020-12-27 01:51:32,280]\u001b[0m Trial 621 finished with value: 0.9587014757961965 and parameters: {'alpha': 3.703252386948206e-06, 'l1_ratio': 2.5213840517206306e-06}. Best is trial 214 with value: 0.9691920683625413.\u001b[0m\n",
      "\u001b[32m[I 2020-12-27 01:51:32,661]\u001b[0m Trial 622 finished with value: 0.9596855205989817 and parameters: {'alpha': 5.286073026579595e-07, 'l1_ratio': 2.7320758173833576e-09}. Best is trial 214 with value: 0.9691920683625413.\u001b[0m\n",
      "\u001b[32m[I 2020-12-27 01:51:33,086]\u001b[0m Trial 623 finished with value: 0.954159022365406 and parameters: {'alpha': 1.312139517432394e-07, 'l1_ratio': 1.2763336842899586e-06}. Best is trial 214 with value: 0.9691920683625413.\u001b[0m\n",
      "\u001b[32m[I 2020-12-27 01:51:33,481]\u001b[0m Trial 624 finished with value: 0.9602362164473295 and parameters: {'alpha': 9.893356893690336e-07, 'l1_ratio': 0.00010791534811156814}. Best is trial 214 with value: 0.9691920683625413.\u001b[0m\n",
      "\u001b[32m[I 2020-12-27 01:51:33,867]\u001b[0m Trial 625 finished with value: 0.9547645929240313 and parameters: {'alpha': 1.6052688581343132e-06, 'l1_ratio': 0.0002503155932021337}. Best is trial 214 with value: 0.9691920683625413.\u001b[0m\n",
      "\u001b[32m[I 2020-12-27 01:51:34,273]\u001b[0m Trial 626 finished with value: 0.9616259908934448 and parameters: {'alpha': 6.791896702765776e-07, 'l1_ratio': 6.068885815741675e-06}. Best is trial 214 with value: 0.9691920683625413.\u001b[0m\n",
      "\u001b[32m[I 2020-12-27 01:51:34,700]\u001b[0m Trial 627 finished with value: 0.9640474720158845 and parameters: {'alpha': 4.428889828643534e-07, 'l1_ratio': 8.509405619975323e-07}. Best is trial 214 with value: 0.9691920683625413.\u001b[0m\n",
      "\u001b[32m[I 2020-12-27 01:51:35,145]\u001b[0m Trial 628 finished with value: 0.9528451885679703 and parameters: {'alpha': 2.7974764695432247e-07, 'l1_ratio': 0.0020188939849804517}. Best is trial 214 with value: 0.9691920683625413.\u001b[0m\n"
     ]
    },
    {
     "name": "stderr",
     "output_type": "stream",
     "text": [
      "\u001b[32m[I 2020-12-27 01:51:35,521]\u001b[0m Trial 629 finished with value: 0.9640365589499884 and parameters: {'alpha': 9.861829203979364e-07, 'l1_ratio': 6.216512474404294e-10}. Best is trial 214 with value: 0.9691920683625413.\u001b[0m\n",
      "\u001b[32m[I 2020-12-27 01:51:35,881]\u001b[0m Trial 630 finished with value: 0.9604632880909842 and parameters: {'alpha': 2.247753018729187e-06, 'l1_ratio': 1.080397381724308e-07}. Best is trial 214 with value: 0.9691920683625413.\u001b[0m\n",
      "\u001b[32m[I 2020-12-27 01:51:36,294]\u001b[0m Trial 631 finished with value: 0.9590141619188738 and parameters: {'alpha': 9.32264233926365e-08, 'l1_ratio': 3.804076245253861e-09}. Best is trial 214 with value: 0.9691920683625413.\u001b[0m\n",
      "\u001b[32m[I 2020-12-27 01:51:36,740]\u001b[0m Trial 632 finished with value: 0.9552988141738165 and parameters: {'alpha': 2.048513016019897e-07, 'l1_ratio': 1.3047001089233108e-09}. Best is trial 214 with value: 0.9691920683625413.\u001b[0m\n",
      "\u001b[32m[I 2020-12-27 01:51:37,141]\u001b[0m Trial 633 finished with value: 0.9569807066446369 and parameters: {'alpha': 7.330100862150506e-07, 'l1_ratio': 3.0773636545580923e-06}. Best is trial 214 with value: 0.9691920683625413.\u001b[0m\n",
      "\u001b[32m[I 2020-12-27 01:51:37,535]\u001b[0m Trial 634 finished with value: 0.9519937063962995 and parameters: {'alpha': 4.345736724790696e-07, 'l1_ratio': 2.4947324376816098e-05}. Best is trial 214 with value: 0.9691920683625413.\u001b[0m\n",
      "\u001b[32m[I 2020-12-27 01:51:37,938]\u001b[0m Trial 635 finished with value: 0.9564367324882477 and parameters: {'alpha': 1.294187036082653e-06, 'l1_ratio': 0.0069448690847776625}. Best is trial 214 with value: 0.9691920683625413.\u001b[0m\n",
      "\u001b[32m[I 2020-12-27 01:51:38,341]\u001b[0m Trial 636 finished with value: 0.9566442028104336 and parameters: {'alpha': 7.115942632938056e-07, 'l1_ratio': 0.002882937091139995}. Best is trial 214 with value: 0.9691920683625413.\u001b[0m\n",
      "\u001b[32m[I 2020-12-27 01:51:38,784]\u001b[0m Trial 637 finished with value: 0.9486627761950651 and parameters: {'alpha': 2.807439964832167e-07, 'l1_ratio': 6.024539252119516e-07}. Best is trial 214 with value: 0.9691920683625413.\u001b[0m\n",
      "\u001b[32m[I 2020-12-27 01:51:39,189]\u001b[0m Trial 638 finished with value: 0.9558757324736233 and parameters: {'alpha': 1.5826096988136797e-07, 'l1_ratio': 8.678876513074594e-06}. Best is trial 214 with value: 0.9691920683625413.\u001b[0m\n",
      "\u001b[32m[I 2020-12-27 01:51:39,569]\u001b[0m Trial 639 finished with value: 0.954637446288682 and parameters: {'alpha': 5.152394012337574e-07, 'l1_ratio': 3.554070036909481e-07}. Best is trial 214 with value: 0.9691920683625413.\u001b[0m\n",
      "\u001b[32m[I 2020-12-27 01:51:39,951]\u001b[0m Trial 640 finished with value: 0.9618320171344368 and parameters: {'alpha': 1.1663021072045952e-06, 'l1_ratio': 1.352012187924756e-07}. Best is trial 214 with value: 0.9691920683625413.\u001b[0m\n",
      "\u001b[32m[I 2020-12-27 01:51:40,328]\u001b[0m Trial 641 finished with value: 0.955140101636878 and parameters: {'alpha': 1.8412704684670373e-06, 'l1_ratio': 1.9249109815953124e-06}. Best is trial 214 with value: 0.9691920683625413.\u001b[0m\n",
      "\u001b[32m[I 2020-12-27 01:51:40,724]\u001b[0m Trial 642 finished with value: 0.9608227602922942 and parameters: {'alpha': 3.7644436056799344e-07, 'l1_ratio': 7.784721601720635e-08}. Best is trial 214 with value: 0.9691920683625413.\u001b[0m\n",
      "\u001b[32m[I 2020-12-27 01:51:41,096]\u001b[0m Trial 643 finished with value: 0.967018150797138 and parameters: {'alpha': 8.782611016835796e-07, 'l1_ratio': 0.005292524459307925}. Best is trial 214 with value: 0.9691920683625413.\u001b[0m\n",
      "\u001b[32m[I 2020-12-27 01:51:41,450]\u001b[0m Trial 644 finished with value: 0.9585583170133304 and parameters: {'alpha': 9.271993704948078e-07, 'l1_ratio': 0.013822657014430294}. Best is trial 214 with value: 0.9691920683625413.\u001b[0m\n",
      "\u001b[32m[I 2020-12-27 01:51:41,819]\u001b[0m Trial 645 finished with value: 0.9591249177986244 and parameters: {'alpha': 2.90386082049548e-06, 'l1_ratio': 0.004942161953335583}. Best is trial 214 with value: 0.9691920683625413.\u001b[0m\n",
      "\u001b[32m[I 2020-12-27 01:51:42,191]\u001b[0m Trial 646 finished with value: 0.9599872361464828 and parameters: {'alpha': 1.2620533084319404e-06, 'l1_ratio': 0.004544936222074404}. Best is trial 214 with value: 0.9691920683625413.\u001b[0m\n",
      "\u001b[32m[I 2020-12-27 01:51:42,581]\u001b[0m Trial 647 finished with value: 0.9621950636369905 and parameters: {'alpha': 7.052261710056253e-07, 'l1_ratio': 0.007280075496128404}. Best is trial 214 with value: 0.9691920683625413.\u001b[0m\n",
      "\u001b[32m[I 2020-12-27 01:51:42,930]\u001b[0m Trial 648 finished with value: 0.9600118706190509 and parameters: {'alpha': 1.6840107642757257e-06, 'l1_ratio': 0.0035428896226898012}. Best is trial 214 with value: 0.9691920683625413.\u001b[0m\n",
      "\u001b[32m[I 2020-12-27 01:51:43,304]\u001b[0m Trial 649 finished with value: 0.9582025341613978 and parameters: {'alpha': 9.5025615119871e-07, 'l1_ratio': 0.0017437065789382322}. Best is trial 214 with value: 0.9691920683625413.\u001b[0m\n",
      "\u001b[32m[I 2020-12-27 01:51:43,677]\u001b[0m Trial 650 finished with value: 0.9592575006911144 and parameters: {'alpha': 6.00628969028379e-07, 'l1_ratio': 0.008989034137181303}. Best is trial 214 with value: 0.9691920683625413.\u001b[0m\n",
      "\u001b[32m[I 2020-12-27 01:51:44,038]\u001b[0m Trial 651 finished with value: 0.9636159667194101 and parameters: {'alpha': 1.378721432835507e-06, 'l1_ratio': 0.002423585769385525}. Best is trial 214 with value: 0.9691920683625413.\u001b[0m\n",
      "\u001b[32m[I 2020-12-27 01:51:44,410]\u001b[0m Trial 652 finished with value: 0.9604956432177136 and parameters: {'alpha': 8.983835175773059e-07, 'l1_ratio': 0.004724392366450694}. Best is trial 214 with value: 0.9691920683625413.\u001b[0m\n",
      "\u001b[32m[I 2020-12-27 01:51:44,802]\u001b[0m Trial 653 finished with value: 0.9612712119082685 and parameters: {'alpha': 5.667667026481376e-07, 'l1_ratio': 0.01866912153572995}. Best is trial 214 with value: 0.9691920683625413.\u001b[0m\n",
      "\u001b[32m[I 2020-12-27 01:51:45,162]\u001b[0m Trial 654 finished with value: 0.96362615908604 and parameters: {'alpha': 8.542391464078575e-07, 'l1_ratio': 0.0008212978754290776}. Best is trial 214 with value: 0.9691920683625413.\u001b[0m\n",
      "\u001b[32m[I 2020-12-27 01:51:45,515]\u001b[0m Trial 655 finished with value: 0.9568035637819352 and parameters: {'alpha': 2.1392218938577232e-06, 'l1_ratio': 1.2286641083734365e-06}. Best is trial 214 with value: 0.9691920683625413.\u001b[0m\n",
      "\u001b[32m[I 2020-12-27 01:51:45,944]\u001b[0m Trial 656 finished with value: 0.9509034267886339 and parameters: {'alpha': 2.445890422279866e-09, 'l1_ratio': 3.505618891033237e-05}. Best is trial 214 with value: 0.9691920683625413.\u001b[0m\n",
      "\u001b[32m[I 2020-12-27 01:51:46,316]\u001b[0m Trial 657 finished with value: 0.9613810243293417 and parameters: {'alpha': 1.2325218923240577e-06, 'l1_ratio': 0.013017138076260058}. Best is trial 214 with value: 0.9691920683625413.\u001b[0m\n",
      "\u001b[32m[I 2020-12-27 01:51:46,703]\u001b[0m Trial 658 finished with value: 0.9558752807731304 and parameters: {'alpha': 4.792713238576149e-07, 'l1_ratio': 6.627969992467075e-05}. Best is trial 214 with value: 0.9691920683625413.\u001b[0m\n",
      "\u001b[32m[I 2020-12-27 01:51:47,119]\u001b[0m Trial 659 finished with value: 0.9569378625053118 and parameters: {'alpha': 6.805542245585007e-07, 'l1_ratio': 0.006252318482349579}. Best is trial 214 with value: 0.9691920683625413.\u001b[0m\n",
      "\u001b[32m[I 2020-12-27 01:51:47,490]\u001b[0m Trial 660 finished with value: 0.9566645758275141 and parameters: {'alpha': 1.0493306725154974e-06, 'l1_ratio': 4.958624300850499e-06}. Best is trial 214 with value: 0.9691920683625413.\u001b[0m\n",
      "\u001b[32m[I 2020-12-27 01:51:47,814]\u001b[0m Trial 661 finished with value: 0.9522659118463339 and parameters: {'alpha': 1.549568654946824e-05, 'l1_ratio': 0.00253302379692565}. Best is trial 214 with value: 0.9691920683625413.\u001b[0m\n",
      "\u001b[32m[I 2020-12-27 01:51:48,206]\u001b[0m Trial 662 finished with value: 0.9649717340047422 and parameters: {'alpha': 4.328832630966861e-07, 'l1_ratio': 4.7270007877429596e-07}. Best is trial 214 with value: 0.9691920683625413.\u001b[0m\n",
      "\u001b[32m[I 2020-12-27 01:51:48,622]\u001b[0m Trial 663 finished with value: 0.9614813971656448 and parameters: {'alpha': 4.3438917697309754e-07, 'l1_ratio': 2.4347387000741874e-07}. Best is trial 214 with value: 0.9691920683625413.\u001b[0m\n",
      "\u001b[32m[I 2020-12-27 01:51:49,010]\u001b[0m Trial 664 finished with value: 0.9557957946241594 and parameters: {'alpha': 6.317399960384385e-07, 'l1_ratio': 6.050528965227228e-07}. Best is trial 214 with value: 0.9691920683625413.\u001b[0m\n",
      "\u001b[32m[I 2020-12-27 01:51:49,422]\u001b[0m Trial 665 finished with value: 0.9601830447690077 and parameters: {'alpha': 3.5392900660108135e-07, 'l1_ratio': 2.3682916289790708e-07}. Best is trial 214 with value: 0.9691920683625413.\u001b[0m\n"
     ]
    },
    {
     "name": "stderr",
     "output_type": "stream",
     "text": [
      "\u001b[32m[I 2020-12-27 01:51:49,814]\u001b[0m Trial 666 finished with value: 0.9562119152353223 and parameters: {'alpha': 4.620993178220396e-07, 'l1_ratio': 1.0573097481686496e-06}. Best is trial 214 with value: 0.9691920683625413.\u001b[0m\n",
      "\u001b[32m[I 2020-12-27 01:51:50,196]\u001b[0m Trial 667 finished with value: 0.9490082061013775 and parameters: {'alpha': 7.080846438333022e-07, 'l1_ratio': 4.2966303503341396e-07}. Best is trial 214 with value: 0.9691920683625413.\u001b[0m\n",
      "\u001b[32m[I 2020-12-27 01:51:50,514]\u001b[0m Trial 668 finished with value: 0.9549615488040912 and parameters: {'alpha': 7.3980825612012255e-06, 'l1_ratio': 3.6557790317694427e-07}. Best is trial 214 with value: 0.9691920683625413.\u001b[0m\n",
      "\u001b[32m[I 2020-12-27 01:51:50,908]\u001b[0m Trial 669 finished with value: 0.959541268645936 and parameters: {'alpha': 3.381510815425196e-07, 'l1_ratio': 6.5142183927986e-07}. Best is trial 214 with value: 0.9691920683625413.\u001b[0m\n",
      "\u001b[32m[I 2020-12-27 01:51:51,273]\u001b[0m Trial 670 finished with value: 0.9608268648741076 and parameters: {'alpha': 1.5596175564989492e-06, 'l1_ratio': 1.767985093289895e-07}. Best is trial 214 with value: 0.9691920683625413.\u001b[0m\n",
      "\u001b[32m[I 2020-12-27 01:51:51,685]\u001b[0m Trial 671 finished with value: 0.9650644170718602 and parameters: {'alpha': 5.582023053388627e-07, 'l1_ratio': 1.0389001406474692e-06}. Best is trial 214 with value: 0.9691920683625413.\u001b[0m\n",
      "\u001b[32m[I 2020-12-27 01:51:52,074]\u001b[0m Trial 672 finished with value: 0.9614526431045761 and parameters: {'alpha': 9.154608600158098e-07, 'l1_ratio': 8.279858468506504e-07}. Best is trial 214 with value: 0.9691920683625413.\u001b[0m\n",
      "\u001b[32m[I 2020-12-27 01:51:52,505]\u001b[0m Trial 673 finished with value: 0.9575782633417318 and parameters: {'alpha': 4.639837484649216e-07, 'l1_ratio': 1.6444498437592064e-06}. Best is trial 214 with value: 0.9691920683625413.\u001b[0m\n",
      "\u001b[32m[I 2020-12-27 01:51:52,908]\u001b[0m Trial 674 finished with value: 0.9583813188688719 and parameters: {'alpha': 6.857321197424277e-07, 'l1_ratio': 1.4420106485558554e-06}. Best is trial 214 with value: 0.9691920683625413.\u001b[0m\n",
      "\u001b[32m[I 2020-12-27 01:51:53,271]\u001b[0m Trial 675 finished with value: 0.9612952497043897 and parameters: {'alpha': 1.2231935649407185e-06, 'l1_ratio': 4.663736564942457e-07}. Best is trial 214 with value: 0.9691920683625413.\u001b[0m\n",
      "\u001b[32m[I 2020-12-27 01:51:53,664]\u001b[0m Trial 676 finished with value: 0.9514939211831511 and parameters: {'alpha': 2.7628834839088663e-07, 'l1_ratio': 8.896832280325365e-07}. Best is trial 214 with value: 0.9691920683625413.\u001b[0m\n",
      "\u001b[32m[I 2020-12-27 01:51:54,057]\u001b[0m Trial 677 finished with value: 0.959352580089727 and parameters: {'alpha': 8.759292742802534e-07, 'l1_ratio': 6.11516125303592e-07}. Best is trial 214 with value: 0.9691920683625413.\u001b[0m\n",
      "\u001b[32m[I 2020-12-27 01:51:54,505]\u001b[0m Trial 678 finished with value: 0.9559870606311515 and parameters: {'alpha': 3.9357099358269016e-07, 'l1_ratio': 2.506507482766511e-06}. Best is trial 214 with value: 0.9691920683625413.\u001b[0m\n",
      "\u001b[32m[I 2020-12-27 01:51:54,900]\u001b[0m Trial 679 finished with value: 0.9579464065183245 and parameters: {'alpha': 5.765254199830596e-07, 'l1_ratio': 3.379346625561025e-07}. Best is trial 214 with value: 0.9691920683625413.\u001b[0m\n",
      "\u001b[32m[I 2020-12-27 01:51:55,244]\u001b[0m Trial 680 finished with value: 0.9586540571157423 and parameters: {'alpha': 2.6061065839115533e-06, 'l1_ratio': 1.0475250213983932e-06}. Best is trial 214 with value: 0.9691920683625413.\u001b[0m\n",
      "\u001b[32m[I 2020-12-27 01:51:55,591]\u001b[0m Trial 681 finished with value: 0.9600429460046311 and parameters: {'alpha': 1.651420623477585e-06, 'l1_ratio': 3.4364463583706333e-06}. Best is trial 214 with value: 0.9691920683625413.\u001b[0m\n",
      "\u001b[32m[I 2020-12-27 01:51:55,956]\u001b[0m Trial 682 finished with value: 0.9578948608939153 and parameters: {'alpha': 1.0376870524032576e-06, 'l1_ratio': 1.4389833886795015e-06}. Best is trial 214 with value: 0.9691920683625413.\u001b[0m\n",
      "\u001b[32m[I 2020-12-27 01:51:56,374]\u001b[0m Trial 683 finished with value: 0.9561007245361988 and parameters: {'alpha': 5.24514037859536e-07, 'l1_ratio': 2.698616995893262e-10}. Best is trial 214 with value: 0.9691920683625413.\u001b[0m\n",
      "\u001b[32m[I 2020-12-27 01:51:56,784]\u001b[0m Trial 684 finished with value: 0.9575577611077484 and parameters: {'alpha': 2.7500550400835277e-07, 'l1_ratio': 8.705383171926489e-07}. Best is trial 214 with value: 0.9691920683625413.\u001b[0m\n",
      "\u001b[32m[I 2020-12-27 01:51:57,198]\u001b[0m Trial 685 finished with value: 0.9565852108830187 and parameters: {'alpha': 7.64259873916243e-07, 'l1_ratio': 2.937495943902511e-07}. Best is trial 214 with value: 0.9691920683625413.\u001b[0m\n",
      "\u001b[32m[I 2020-12-27 01:51:57,571]\u001b[0m Trial 686 finished with value: 0.9641942654785995 and parameters: {'alpha': 4.2852376611965916e-07, 'l1_ratio': 0.036084029393540294}. Best is trial 214 with value: 0.9691920683625413.\u001b[0m\n",
      "\u001b[32m[I 2020-12-27 01:51:57,936]\u001b[0m Trial 687 finished with value: 0.9634068660384497 and parameters: {'alpha': 1.3452619937957838e-06, 'l1_ratio': 5.257666130923956e-07}. Best is trial 214 with value: 0.9691920683625413.\u001b[0m\n",
      "\u001b[32m[I 2020-12-27 01:51:58,319]\u001b[0m Trial 688 finished with value: 0.9551161087839086 and parameters: {'alpha': 7.368901259637521e-07, 'l1_ratio': 1.821128779395104e-07}. Best is trial 214 with value: 0.9691920683625413.\u001b[0m\n",
      "\u001b[32m[I 2020-12-27 01:51:58,737]\u001b[0m Trial 689 finished with value: 0.9558650421645568 and parameters: {'alpha': 3.1389413320866146e-07, 'l1_ratio': 1.8072989648109285e-06}. Best is trial 214 with value: 0.9691920683625413.\u001b[0m\n",
      "\u001b[32m[I 2020-12-27 01:51:59,167]\u001b[0m Trial 690 finished with value: 0.9618386414724923 and parameters: {'alpha': 2.0264768380572887e-06, 'l1_ratio': 6.803711771887702e-08}. Best is trial 214 with value: 0.9691920683625413.\u001b[0m\n",
      "\u001b[32m[I 2020-12-27 01:51:59,586]\u001b[0m Trial 691 finished with value: 0.9535283371466386 and parameters: {'alpha': 9.919760660058327e-07, 'l1_ratio': 2.5370610648214187e-06}. Best is trial 214 with value: 0.9691920683625413.\u001b[0m\n",
      "\u001b[32m[I 2020-12-27 01:52:00,035]\u001b[0m Trial 692 finished with value: 0.9583576669654226 and parameters: {'alpha': 6.593308338969588e-07, 'l1_ratio': 6.95390670080165e-07}. Best is trial 214 with value: 0.9691920683625413.\u001b[0m\n",
      "\u001b[32m[I 2020-12-27 01:52:00,630]\u001b[0m Trial 693 finished with value: 0.957906531772291 and parameters: {'alpha': 4.21934454123064e-07, 'l1_ratio': 1.165399265212247e-07}. Best is trial 214 with value: 0.9691920683625413.\u001b[0m\n",
      "\u001b[32m[I 2020-12-27 01:52:01,118]\u001b[0m Trial 694 finished with value: 0.9568954802845805 and parameters: {'alpha': 1.2703849083202378e-06, 'l1_ratio': 4.920974970969748e-06}. Best is trial 214 with value: 0.9691920683625413.\u001b[0m\n",
      "\u001b[32m[I 2020-12-27 01:52:01,569]\u001b[0m Trial 695 finished with value: 0.954894669733931 and parameters: {'alpha': 2.5583389778025767e-07, 'l1_ratio': 0.4792314137639904}. Best is trial 214 with value: 0.9691920683625413.\u001b[0m\n",
      "\u001b[32m[I 2020-12-27 01:52:01,952]\u001b[0m Trial 696 finished with value: 0.9564283818013899 and parameters: {'alpha': 5.882109705453535e-07, 'l1_ratio': 3.456052043364495e-07}. Best is trial 214 with value: 0.9691920683625413.\u001b[0m\n",
      "\u001b[32m[I 2020-12-27 01:52:02,320]\u001b[0m Trial 697 finished with value: 0.9606368476170615 and parameters: {'alpha': 8.619194770283149e-07, 'l1_ratio': 0.10843415781224446}. Best is trial 214 with value: 0.9691920683625413.\u001b[0m\n",
      "\u001b[32m[I 2020-12-27 01:52:02,718]\u001b[0m Trial 698 finished with value: 0.9605114236089304 and parameters: {'alpha': 3.657533224490156e-07, 'l1_ratio': 9.390786191840713e-07}. Best is trial 214 with value: 0.9691920683625413.\u001b[0m\n",
      "\u001b[32m[I 2020-12-27 01:52:03,082]\u001b[0m Trial 699 finished with value: 0.9606034251157661 and parameters: {'alpha': 1.686636648134182e-06, 'l1_ratio': 0.02543128858881957}. Best is trial 214 with value: 0.9691920683625413.\u001b[0m\n",
      "\u001b[32m[I 2020-12-27 01:52:03,473]\u001b[0m Trial 700 finished with value: 0.9587774686802302 and parameters: {'alpha': 5.99137923844617e-07, 'l1_ratio': 1.5187989927219662e-05}. Best is trial 214 with value: 0.9691920683625413.\u001b[0m\n",
      "\u001b[32m[I 2020-12-27 01:52:03,870]\u001b[0m Trial 701 finished with value: 0.9624293562599429 and parameters: {'alpha': 1.0386915493247012e-06, 'l1_ratio': 7.27601738267072e-06}. Best is trial 214 with value: 0.9691920683625413.\u001b[0m\n",
      "\u001b[32m[I 2020-12-27 01:52:04,261]\u001b[0m Trial 702 finished with value: 0.9621306804115441 and parameters: {'alpha': 5.13467415648723e-07, 'l1_ratio': 5.172266934896827e-07}. Best is trial 214 with value: 0.9691920683625413.\u001b[0m\n"
     ]
    },
    {
     "name": "stderr",
     "output_type": "stream",
     "text": [
      "\u001b[32m[I 2020-12-27 01:52:04,646]\u001b[0m Trial 703 finished with value: 0.9599454553869937 and parameters: {'alpha': 8.375118912048078e-07, 'l1_ratio': 0.011532030015820078}. Best is trial 214 with value: 0.9691920683625413.\u001b[0m\n",
      "\u001b[32m[I 2020-12-27 01:52:04,993]\u001b[0m Trial 704 finished with value: 0.9535989723867083 and parameters: {'alpha': 3.4562624582347084e-06, 'l1_ratio': 2.145011952690577e-06}. Best is trial 214 with value: 0.9691920683625413.\u001b[0m\n",
      "\u001b[32m[I 2020-12-27 01:52:05,416]\u001b[0m Trial 705 finished with value: 0.9493718334857976 and parameters: {'alpha': 2.092199430663181e-07, 'l1_ratio': 4.422494591765705e-10}. Best is trial 214 with value: 0.9691920683625413.\u001b[0m\n",
      "\u001b[32m[I 2020-12-27 01:52:05,786]\u001b[0m Trial 706 finished with value: 0.9628860563009043 and parameters: {'alpha': 1.4442492255436575e-06, 'l1_ratio': 1.376868182627343e-06}. Best is trial 214 with value: 0.9691920683625413.\u001b[0m\n",
      "\u001b[32m[I 2020-12-27 01:52:06,183]\u001b[0m Trial 707 finished with value: 0.9482345126346723 and parameters: {'alpha': 3.714380085077972e-07, 'l1_ratio': 0.007951193050383085}. Best is trial 214 with value: 0.9691920683625413.\u001b[0m\n",
      "\u001b[32m[I 2020-12-27 01:52:06,567]\u001b[0m Trial 708 finished with value: 0.9564236861136415 and parameters: {'alpha': 5.369105118770891e-07, 'l1_ratio': 2.285430285623082e-07}. Best is trial 214 with value: 0.9691920683625413.\u001b[0m\n",
      "\u001b[32m[I 2020-12-27 01:52:06,950]\u001b[0m Trial 709 finished with value: 0.9569666047682729 and parameters: {'alpha': 7.932384897645034e-07, 'l1_ratio': 0.0687917767081766}. Best is trial 214 with value: 0.9691920683625413.\u001b[0m\n",
      "\u001b[32m[I 2020-12-27 01:52:07,326]\u001b[0m Trial 710 finished with value: 0.9633567248516681 and parameters: {'alpha': 1.1393347299910496e-06, 'l1_ratio': 9.172705838352375e-07}. Best is trial 214 with value: 0.9691920683625413.\u001b[0m\n",
      "\u001b[32m[I 2020-12-27 01:52:07,761]\u001b[0m Trial 711 finished with value: 0.9603687808358079 and parameters: {'alpha': 2.9569225714463136e-07, 'l1_ratio': 1.563015378680905e-10}. Best is trial 214 with value: 0.9691920683625413.\u001b[0m\n",
      "\u001b[32m[I 2020-12-27 01:52:08,122]\u001b[0m Trial 712 finished with value: 0.9587611407202536 and parameters: {'alpha': 1.7953286557549466e-06, 'l1_ratio': 3.186608984674462e-06}. Best is trial 214 with value: 0.9691920683625413.\u001b[0m\n",
      "\u001b[32m[I 2020-12-27 01:52:08,512]\u001b[0m Trial 713 finished with value: 0.9556894342248621 and parameters: {'alpha': 4.617886834675136e-07, 'l1_ratio': 9.179440122794334e-06}. Best is trial 214 with value: 0.9691920683625413.\u001b[0m\n",
      "\u001b[32m[I 2020-12-27 01:52:08,860]\u001b[0m Trial 714 finished with value: 0.9586655984734137 and parameters: {'alpha': 2.6311675194009154e-06, 'l1_ratio': 2.793910418720982e-05}. Best is trial 214 with value: 0.9691920683625413.\u001b[0m\n",
      "\u001b[32m[I 2020-12-27 01:52:09,240]\u001b[0m Trial 715 finished with value: 0.9581225726237805 and parameters: {'alpha': 6.734917872218036e-07, 'l1_ratio': 1.4280867559231535e-07}. Best is trial 214 with value: 0.9691920683625413.\u001b[0m\n",
      "\u001b[32m[I 2020-12-27 01:52:09,609]\u001b[0m Trial 716 finished with value: 0.9565945696686645 and parameters: {'alpha': 1.1220239990114383e-06, 'l1_ratio': 3.5693243911970853e-07}. Best is trial 214 with value: 0.9691920683625413.\u001b[0m\n",
      "\u001b[32m[I 2020-12-27 01:52:10,015]\u001b[0m Trial 717 finished with value: 0.959044958807373 and parameters: {'alpha': 3.212257625871976e-07, 'l1_ratio': 0.004987198698769613}. Best is trial 214 with value: 0.9691920683625413.\u001b[0m\n",
      "\u001b[32m[I 2020-12-27 01:52:10,428]\u001b[0m Trial 718 finished with value: 0.9454304523065543 and parameters: {'alpha': 2.0013004134984416e-07, 'l1_ratio': 5.119116182583669e-07}. Best is trial 214 with value: 0.9691920683625413.\u001b[0m\n",
      "\u001b[32m[I 2020-12-27 01:52:10,808]\u001b[0m Trial 719 finished with value: 0.9544343434079793 and parameters: {'alpha': 7.851351044898426e-07, 'l1_ratio': 1.5953603121626937e-06}. Best is trial 214 with value: 0.9691920683625413.\u001b[0m\n",
      "\u001b[32m[I 2020-12-27 01:52:11,208]\u001b[0m Trial 720 finished with value: 0.9618020710280395 and parameters: {'alpha': 4.351386454668944e-07, 'l1_ratio': 0.003760322098242289}. Best is trial 214 with value: 0.9691920683625413.\u001b[0m\n",
      "\u001b[32m[I 2020-12-27 01:52:11,594]\u001b[0m Trial 721 finished with value: 0.9565393363991497 and parameters: {'alpha': 1.409803375747905e-06, 'l1_ratio': 3.4750115528183166e-06}. Best is trial 214 with value: 0.9691920683625413.\u001b[0m\n",
      "\u001b[32m[I 2020-12-27 01:52:11,975]\u001b[0m Trial 722 finished with value: 0.964684923414882 and parameters: {'alpha': 6.227272186794184e-07, 'l1_ratio': 6.813002097962737e-07}. Best is trial 214 with value: 0.9691920683625413.\u001b[0m\n",
      "\u001b[32m[I 2020-12-27 01:52:12,377]\u001b[0m Trial 723 finished with value: 0.9573272647640702 and parameters: {'alpha': 9.14890005685432e-07, 'l1_ratio': 1.9672174816719237e-05}. Best is trial 214 with value: 0.9691920683625413.\u001b[0m\n",
      "\u001b[32m[I 2020-12-27 01:52:12,770]\u001b[0m Trial 724 finished with value: 0.9531285655119315 and parameters: {'alpha': 2.484478397686696e-07, 'l1_ratio': 6.857537015764258e-08}. Best is trial 214 with value: 0.9691920683625413.\u001b[0m\n",
      "\u001b[32m[I 2020-12-27 01:52:13,179]\u001b[0m Trial 725 finished with value: 0.9600535531519695 and parameters: {'alpha': 5.098387237535106e-07, 'l1_ratio': 0.014861111203474173}. Best is trial 214 with value: 0.9691920683625413.\u001b[0m\n",
      "\u001b[32m[I 2020-12-27 01:52:13,553]\u001b[0m Trial 726 finished with value: 0.9549020781063481 and parameters: {'alpha': 1.0704254799899208e-06, 'l1_ratio': 1.3051859538364418e-05}. Best is trial 214 with value: 0.9691920683625413.\u001b[0m\n",
      "\u001b[32m[I 2020-12-27 01:52:13,909]\u001b[0m Trial 727 finished with value: 0.9584046290828865 and parameters: {'alpha': 1.962108639164032e-06, 'l1_ratio': 2.3446609259141086e-07}. Best is trial 214 with value: 0.9691920683625413.\u001b[0m\n",
      "\u001b[32m[I 2020-12-27 01:52:14,279]\u001b[0m Trial 728 finished with value: 0.9550194148063108 and parameters: {'alpha': 6.714513106792077e-07, 'l1_ratio': 1.9210841312760314e-06}. Best is trial 214 with value: 0.9691920683625413.\u001b[0m\n",
      "\u001b[32m[I 2020-12-27 01:52:14,691]\u001b[0m Trial 729 finished with value: 0.9542917991196168 and parameters: {'alpha': 3.7896825531127575e-07, 'l1_ratio': 1.1399631297920295e-06}. Best is trial 214 with value: 0.9691920683625413.\u001b[0m\n",
      "\u001b[32m[I 2020-12-27 01:52:15,076]\u001b[0m Trial 730 finished with value: 0.9645318171609468 and parameters: {'alpha': 1.3883393543330721e-06, 'l1_ratio': 0.009157741043500837}. Best is trial 214 with value: 0.9691920683625413.\u001b[0m\n",
      "\u001b[32m[I 2020-12-27 01:52:15,473]\u001b[0m Trial 731 finished with value: 0.9635513746763643 and parameters: {'alpha': 9.294013685886913e-07, 'l1_ratio': 4.910289592744581e-06}. Best is trial 214 with value: 0.9691920683625413.\u001b[0m\n",
      "\u001b[32m[I 2020-12-27 01:52:15,885]\u001b[0m Trial 732 finished with value: 0.9529450842408301 and parameters: {'alpha': 1.7370607746069362e-07, 'l1_ratio': 4.503551999182785e-07}. Best is trial 214 with value: 0.9691920683625413.\u001b[0m\n",
      "\u001b[32m[I 2020-12-27 01:52:16,267]\u001b[0m Trial 733 finished with value: 0.9624254067674962 and parameters: {'alpha': 5.372692089451269e-07, 'l1_ratio': 1.7383865151034455e-07}. Best is trial 214 with value: 0.9691920683625413.\u001b[0m\n",
      "\u001b[32m[I 2020-12-27 01:52:16,668]\u001b[0m Trial 734 finished with value: 0.9590770762421192 and parameters: {'alpha': 3.020022838736272e-07, 'l1_ratio': 4.5051050600974785e-05}. Best is trial 214 with value: 0.9691920683625413.\u001b[0m\n",
      "\u001b[32m[I 2020-12-27 01:52:17,053]\u001b[0m Trial 735 finished with value: 0.957853181213811 and parameters: {'alpha': 7.81835114113446e-07, 'l1_ratio': 8.276177914673025e-07}. Best is trial 214 with value: 0.9691920683625413.\u001b[0m\n",
      "\u001b[32m[I 2020-12-27 01:52:17,440]\u001b[0m Trial 736 finished with value: 0.950278519848324 and parameters: {'alpha': 4.6527906574037127e-07, 'l1_ratio': 0.0034302344697073467}. Best is trial 214 with value: 0.9691920683625413.\u001b[0m\n",
      "\u001b[32m[I 2020-12-27 01:52:17,810]\u001b[0m Trial 737 finished with value: 0.9535151795309917 and parameters: {'alpha': 1.3616590333342085e-06, 'l1_ratio': 1.9400713052106277e-06}. Best is trial 214 with value: 0.9691920683625413.\u001b[0m\n",
      "\u001b[32m[I 2020-12-27 01:52:18,191]\u001b[0m Trial 738 finished with value: 0.9550698045073358 and parameters: {'alpha': 2.2549864273907397e-06, 'l1_ratio': 2.476181624250635e-05}. Best is trial 214 with value: 0.9691920683625413.\u001b[0m\n",
      "\u001b[32m[I 2020-12-27 01:52:18,591]\u001b[0m Trial 739 finished with value: 0.968000119367161 and parameters: {'alpha': 6.94829772185274e-07, 'l1_ratio': 0.005377854609821903}. Best is trial 214 with value: 0.9691920683625413.\u001b[0m\n"
     ]
    },
    {
     "name": "stderr",
     "output_type": "stream",
     "text": [
      "\u001b[32m[I 2020-12-27 01:52:18,969]\u001b[0m Trial 740 finished with value: 0.9618248059849441 and parameters: {'alpha': 1.04699373663088e-06, 'l1_ratio': 0.006483925140495018}. Best is trial 214 with value: 0.9691920683625413.\u001b[0m\n",
      "\u001b[32m[I 2020-12-27 01:52:19,360]\u001b[0m Trial 741 finished with value: 0.9504356739668169 and parameters: {'alpha': 7.909524672565416e-07, 'l1_ratio': 0.0050640304257813015}. Best is trial 214 with value: 0.9691920683625413.\u001b[0m\n",
      "\u001b[32m[I 2020-12-27 01:52:19,726]\u001b[0m Trial 742 finished with value: 0.9626575828956313 and parameters: {'alpha': 1.5651020587367506e-06, 'l1_ratio': 0.002679968573918007}. Best is trial 214 with value: 0.9691920683625413.\u001b[0m\n",
      "\u001b[32m[I 2020-12-27 01:52:20,111]\u001b[0m Trial 743 finished with value: 0.9595243128985117 and parameters: {'alpha': 6.897519237079814e-07, 'l1_ratio': 0.010978090409979949}. Best is trial 214 with value: 0.9691920683625413.\u001b[0m\n",
      "\u001b[32m[I 2020-12-27 01:52:20,482]\u001b[0m Trial 744 finished with value: 0.9568519294194426 and parameters: {'alpha': 1.0752871994767914e-06, 'l1_ratio': 0.2376916781957139}. Best is trial 214 with value: 0.9691920683625413.\u001b[0m\n",
      "\u001b[32m[I 2020-12-27 01:52:20,835]\u001b[0m Trial 745 finished with value: 0.9630854494131066 and parameters: {'alpha': 2.1520407356084678e-06, 'l1_ratio': 0.006015256590844188}. Best is trial 214 with value: 0.9691920683625413.\u001b[0m\n",
      "\u001b[32m[I 2020-12-27 01:52:21,229]\u001b[0m Trial 746 finished with value: 0.9578947650304322 and parameters: {'alpha': 6.570964303768924e-07, 'l1_ratio': 0.021762466254473863}. Best is trial 214 with value: 0.9691920683625413.\u001b[0m\n",
      "\u001b[32m[I 2020-12-27 01:52:21,613]\u001b[0m Trial 747 finished with value: 0.961341817828343 and parameters: {'alpha': 1.081926207441933e-06, 'l1_ratio': 0.003606212123938061}. Best is trial 214 with value: 0.9691920683625413.\u001b[0m\n",
      "\u001b[32m[I 2020-12-27 01:52:21,969]\u001b[0m Trial 748 finished with value: 0.9550043844631477 and parameters: {'alpha': 1.5000103759748533e-06, 'l1_ratio': 0.0014142593793581273}. Best is trial 214 with value: 0.9691920683625413.\u001b[0m\n",
      "\u001b[32m[I 2020-12-27 01:52:22,312]\u001b[0m Trial 749 finished with value: 0.9599484221335879 and parameters: {'alpha': 3.614801972024565e-06, 'l1_ratio': 0.012684963234018317}. Best is trial 214 with value: 0.9691920683625413.\u001b[0m\n",
      "\u001b[32m[I 2020-12-27 01:52:22,706]\u001b[0m Trial 750 finished with value: 0.956191633144274 and parameters: {'alpha': 6.149846083151907e-07, 'l1_ratio': 0.007934379112878009}. Best is trial 214 with value: 0.9691920683625413.\u001b[0m\n",
      "\u001b[32m[I 2020-12-27 01:52:23,075]\u001b[0m Trial 751 finished with value: 0.9563655180165475 and parameters: {'alpha': 9.528872235309852e-07, 'l1_ratio': 0.00258737673798739}. Best is trial 214 with value: 0.9691920683625413.\u001b[0m\n",
      "\u001b[32m[I 2020-12-27 01:52:23,498]\u001b[0m Trial 752 finished with value: 0.9512914428645369 and parameters: {'alpha': 3.6785085876977745e-07, 'l1_ratio': 0.0168973148877543}. Best is trial 214 with value: 0.9691920683625413.\u001b[0m\n",
      "\u001b[32m[I 2020-12-27 01:52:23,886]\u001b[0m Trial 753 finished with value: 0.9577670835895307 and parameters: {'alpha': 5.432592116527169e-07, 'l1_ratio': 0.005855330145476369}. Best is trial 214 with value: 0.9691920683625413.\u001b[0m\n",
      "\u001b[32m[I 2020-12-27 01:52:24,274]\u001b[0m Trial 754 finished with value: 0.9554627226152443 and parameters: {'alpha': 7.971262675803646e-07, 'l1_ratio': 0.003615793870698835}. Best is trial 214 with value: 0.9691920683625413.\u001b[0m\n",
      "\u001b[32m[I 2020-12-27 01:52:24,670]\u001b[0m Trial 755 finished with value: 0.9514320574768723 and parameters: {'alpha': 2.2151761003178126e-07, 'l1_ratio': 8.78351449317578e-06}. Best is trial 214 with value: 0.9691920683625413.\u001b[0m\n",
      "\u001b[32m[I 2020-12-27 01:52:25,029]\u001b[0m Trial 756 finished with value: 0.9560456965998915 and parameters: {'alpha': 1.6319246277356334e-06, 'l1_ratio': 0.009291930447851319}. Best is trial 214 with value: 0.9691920683625413.\u001b[0m\n",
      "\u001b[32m[I 2020-12-27 01:52:25,416]\u001b[0m Trial 757 finished with value: 0.9574487978676441 and parameters: {'alpha': 1.1456140729427446e-06, 'l1_ratio': 0.004420992326545102}. Best is trial 214 with value: 0.9691920683625413.\u001b[0m\n",
      "\u001b[32m[I 2020-12-27 01:52:25,815]\u001b[0m Trial 758 finished with value: 0.9598826560297604 and parameters: {'alpha': 3.3189059263088387e-07, 'l1_ratio': 0.0017660669810354507}. Best is trial 214 with value: 0.9691920683625413.\u001b[0m\n",
      "\u001b[32m[I 2020-12-27 01:52:26,203]\u001b[0m Trial 759 finished with value: 0.96152257314252 and parameters: {'alpha': 5.058391650115174e-07, 'l1_ratio': 3.86419923489688e-06}. Best is trial 214 with value: 0.9691920683625413.\u001b[0m\n",
      "\u001b[32m[I 2020-12-27 01:52:26,606]\u001b[0m Trial 760 finished with value: 0.9598014669127449 and parameters: {'alpha': 7.987018062665031e-07, 'l1_ratio': 1.7213750011676882e-05}. Best is trial 214 with value: 0.9691920683625413.\u001b[0m\n",
      "\u001b[32m[I 2020-12-27 01:52:26,962]\u001b[0m Trial 761 finished with value: 0.956481872330974 and parameters: {'alpha': 2.4264588640774775e-06, 'l1_ratio': 0.007280178547583951}. Best is trial 214 with value: 0.9691920683625413.\u001b[0m\n",
      "\u001b[32m[I 2020-12-27 01:52:27,347]\u001b[0m Trial 762 finished with value: 0.9555124531080023 and parameters: {'alpha': 5.9809953116243e-07, 'l1_ratio': 8.727066416626857e-08}. Best is trial 214 with value: 0.9691920683625413.\u001b[0m\n",
      "\u001b[32m[I 2020-12-27 01:52:27,749]\u001b[0m Trial 763 finished with value: 0.9568307439812374 and parameters: {'alpha': 1.262194014695067e-06, 'l1_ratio': 4.1324641704076675e-05}. Best is trial 214 with value: 0.9691920683625413.\u001b[0m\n",
      "\u001b[32m[I 2020-12-27 01:52:28,159]\u001b[0m Trial 764 finished with value: 0.9529621238634518 and parameters: {'alpha': 2.628939653728936e-07, 'l1_ratio': 2.55843602127916e-06}. Best is trial 214 with value: 0.9691920683625413.\u001b[0m\n",
      "\u001b[32m[I 2020-12-27 01:52:28,589]\u001b[0m Trial 765 finished with value: 0.9506929910975541 and parameters: {'alpha': 1.4537565928988776e-07, 'l1_ratio': 0.0025944186590244546}. Best is trial 214 with value: 0.9691920683625413.\u001b[0m\n",
      "\u001b[32m[I 2020-12-27 01:52:28,965]\u001b[0m Trial 766 finished with value: 0.9571622963938498 and parameters: {'alpha': 8.799897240752779e-07, 'l1_ratio': 7.679564299627727e-05}. Best is trial 214 with value: 0.9691920683625413.\u001b[0m\n",
      "\u001b[32m[I 2020-12-27 01:52:29,364]\u001b[0m Trial 767 finished with value: 0.9550233409263815 and parameters: {'alpha': 4.034801039387995e-07, 'l1_ratio': 7.562794915892344e-06}. Best is trial 214 with value: 0.9691920683625413.\u001b[0m\n",
      "\u001b[32m[I 2020-12-27 01:52:29,747]\u001b[0m Trial 768 finished with value: 0.960771016685045 and parameters: {'alpha': 6.77802145721897e-07, 'l1_ratio': 5.0042116483662096e-08}. Best is trial 214 with value: 0.9691920683625413.\u001b[0m\n",
      "\u001b[32m[I 2020-12-27 01:52:30,105]\u001b[0m Trial 769 finished with value: 0.9582342925686681 and parameters: {'alpha': 1.753304983451717e-06, 'l1_ratio': 1.1792626031573074e-06}. Best is trial 214 with value: 0.9691920683625413.\u001b[0m\n",
      "\u001b[32m[I 2020-12-27 01:52:30,484]\u001b[0m Trial 770 finished with value: 0.9602839346816737 and parameters: {'alpha': 9.616610409538012e-07, 'l1_ratio': 1.1733233162649052e-05}. Best is trial 214 with value: 0.9691920683625413.\u001b[0m\n",
      "\u001b[32m[I 2020-12-27 01:52:30,876]\u001b[0m Trial 771 finished with value: 0.9592469513408075 and parameters: {'alpha': 4.853911988921203e-07, 'l1_ratio': 0.004347850845080532}. Best is trial 214 with value: 0.9691920683625413.\u001b[0m\n",
      "\u001b[32m[I 2020-12-27 01:52:31,280]\u001b[0m Trial 772 finished with value: 0.9532846962398056 and parameters: {'alpha': 3.377135167966964e-07, 'l1_ratio': 0.009173426226891995}. Best is trial 214 with value: 0.9691920683625413.\u001b[0m\n",
      "\u001b[32m[I 2020-12-27 01:52:31,663]\u001b[0m Trial 773 finished with value: 0.9547729230074768 and parameters: {'alpha': 1.318658731240781e-06, 'l1_ratio': 5.99874179824785e-06}. Best is trial 214 with value: 0.9691920683625413.\u001b[0m\n",
      "\u001b[32m[I 2020-12-27 01:52:32,051]\u001b[0m Trial 774 finished with value: 0.9613335499621907 and parameters: {'alpha': 6.566033789700769e-07, 'l1_ratio': 2.9576236208510826e-05}. Best is trial 214 with value: 0.9691920683625413.\u001b[0m\n",
      "\u001b[32m[I 2020-12-27 01:52:32,454]\u001b[0m Trial 775 finished with value: 0.9500880064305309 and parameters: {'alpha': 2.062271111356691e-07, 'l1_ratio': 0.01745385426364679}. Best is trial 214 with value: 0.9691920683625413.\u001b[0m\n",
      "\u001b[32m[I 2020-12-27 01:52:32,833]\u001b[0m Trial 776 finished with value: 0.9533807548494495 and parameters: {'alpha': 8.243593008518581e-07, 'l1_ratio': 1.2150484888795912e-07}. Best is trial 214 with value: 0.9691920683625413.\u001b[0m\n"
     ]
    },
    {
     "name": "stderr",
     "output_type": "stream",
     "text": [
      "\u001b[32m[I 2020-12-27 01:52:33,250]\u001b[0m Trial 777 finished with value: 0.9564996704223293 and parameters: {'alpha': 4.778533211448791e-07, 'l1_ratio': 1.5274930708413164e-06}. Best is trial 214 with value: 0.9691920683625413.\u001b[0m\n",
      "\u001b[32m[I 2020-12-27 01:52:33,628]\u001b[0m Trial 778 finished with value: 0.9556283814549251 and parameters: {'alpha': 1.104090602432534e-06, 'l1_ratio': 0.001934713381800173}. Best is trial 214 with value: 0.9691920683625413.\u001b[0m\n",
      "\u001b[32m[I 2020-12-27 01:52:34,042]\u001b[0m Trial 779 finished with value: 0.9523427366406152 and parameters: {'alpha': 1.1428741327073431e-07, 'l1_ratio': 2.8935925371138915e-10}. Best is trial 214 with value: 0.9691920683625413.\u001b[0m\n",
      "\u001b[32m[I 2020-12-27 01:52:34,401]\u001b[0m Trial 780 finished with value: 0.9591249177986244 and parameters: {'alpha': 2.818968039154277e-06, 'l1_ratio': 0.036106721214162696}. Best is trial 214 with value: 0.9691920683625413.\u001b[0m\n",
      "\u001b[32m[I 2020-12-27 01:52:34,827]\u001b[0m Trial 781 finished with value: 0.9637407584354943 and parameters: {'alpha': 2.861392170898657e-07, 'l1_ratio': 1.6847396220895377e-05}. Best is trial 214 with value: 0.9691920683625413.\u001b[0m\n",
      "\u001b[32m[I 2020-12-27 01:52:35,193]\u001b[0m Trial 782 finished with value: 0.9555150783690995 and parameters: {'alpha': 1.7016045235929988e-06, 'l1_ratio': 6.919191664241214e-10}. Best is trial 214 with value: 0.9691920683625413.\u001b[0m\n",
      "\u001b[32m[I 2020-12-27 01:52:35,567]\u001b[0m Trial 783 finished with value: 0.9595001932470062 and parameters: {'alpha': 5.499370934549579e-07, 'l1_ratio': 0.005607040990333718}. Best is trial 214 with value: 0.9691920683625413.\u001b[0m\n",
      "\u001b[32m[I 2020-12-27 01:52:35,951]\u001b[0m Trial 784 finished with value: 0.9565957935704125 and parameters: {'alpha': 8.131325046337212e-07, 'l1_ratio': 2.4696470909925286e-06}. Best is trial 214 with value: 0.9691920683625413.\u001b[0m\n",
      "\u001b[32m[I 2020-12-27 01:52:36,368]\u001b[0m Trial 785 finished with value: 0.9620953509205078 and parameters: {'alpha': 4.2917565210230547e-07, 'l1_ratio': 4.72819451142059e-05}. Best is trial 214 with value: 0.9691920683625413.\u001b[0m\n",
      "\u001b[32m[I 2020-12-27 01:52:36,747]\u001b[0m Trial 786 finished with value: 0.9574470729602109 and parameters: {'alpha': 1.07290175864607e-06, 'l1_ratio': 1.1646433229348472e-06}. Best is trial 214 with value: 0.9691920683625413.\u001b[0m\n",
      "\u001b[32m[I 2020-12-27 01:52:37,161]\u001b[0m Trial 787 finished with value: 0.9616593194323177 and parameters: {'alpha': 1.6815022590088633e-07, 'l1_ratio': 0.011396009176875438}. Best is trial 214 with value: 0.9691920683625413.\u001b[0m\n",
      "\u001b[32m[I 2020-12-27 01:52:37,567]\u001b[0m Trial 788 finished with value: 0.967134759869815 and parameters: {'alpha': 6.515621678974633e-07, 'l1_ratio': 3.2950429498061717e-06}. Best is trial 214 with value: 0.9691920683625413.\u001b[0m\n",
      "\u001b[32m[I 2020-12-27 01:52:37,949]\u001b[0m Trial 789 finished with value: 0.954759163027663 and parameters: {'alpha': 8.609618664621263e-07, 'l1_ratio': 3.719727798346828e-06}. Best is trial 214 with value: 0.9691920683625413.\u001b[0m\n",
      "\u001b[32m[I 2020-12-27 01:52:38,336]\u001b[0m Trial 790 finished with value: 0.9595399627930532 and parameters: {'alpha': 6.606209660696805e-07, 'l1_ratio': 5.239162032619152e-06}. Best is trial 214 with value: 0.9691920683625413.\u001b[0m\n",
      "\u001b[32m[I 2020-12-27 01:52:38,698]\u001b[0m Trial 791 finished with value: 0.9597425534843708 and parameters: {'alpha': 1.3084890328495925e-06, 'l1_ratio': 3.3649730349006503e-06}. Best is trial 214 with value: 0.9691920683625413.\u001b[0m\n",
      "\u001b[32m[I 2020-12-27 01:52:39,067]\u001b[0m Trial 792 finished with value: 0.9568883518860163 and parameters: {'alpha': 1.989524274449626e-06, 'l1_ratio': 2.124701481174046e-06}. Best is trial 214 with value: 0.9691920683625413.\u001b[0m\n",
      "\u001b[32m[I 2020-12-27 01:52:39,445]\u001b[0m Trial 793 finished with value: 0.954748212107568 and parameters: {'alpha': 6.181629474693174e-07, 'l1_ratio': 4.828651819835179e-06}. Best is trial 214 with value: 0.9691920683625413.\u001b[0m\n",
      "\u001b[32m[I 2020-12-27 01:52:39,829]\u001b[0m Trial 794 finished with value: 0.9620981273810583 and parameters: {'alpha': 9.583397523982567e-07, 'l1_ratio': 2.7203676301143324e-06}. Best is trial 214 with value: 0.9691920683625413.\u001b[0m\n",
      "\u001b[32m[I 2020-12-27 01:52:40,203]\u001b[0m Trial 795 finished with value: 0.9613288691710127 and parameters: {'alpha': 1.3243363492173605e-06, 'l1_ratio': 8.853882812901164e-06}. Best is trial 214 with value: 0.9691920683625413.\u001b[0m\n",
      "\u001b[32m[I 2020-12-27 01:52:40,584]\u001b[0m Trial 796 finished with value: 0.9563198527872926 and parameters: {'alpha': 5.635075502710736e-07, 'l1_ratio': 4.98064847229659e-06}. Best is trial 214 with value: 0.9691920683625413.\u001b[0m\n",
      "\u001b[32m[I 2020-12-27 01:52:40,952]\u001b[0m Trial 797 finished with value: 0.9548933658629262 and parameters: {'alpha': 7.46226952617812e-07, 'l1_ratio': 1.5414639368858362e-06}. Best is trial 214 with value: 0.9691920683625413.\u001b[0m\n",
      "\u001b[32m[I 2020-12-27 01:52:41,338]\u001b[0m Trial 798 finished with value: 0.959838342054666 and parameters: {'alpha': 4.502532623467114e-07, 'l1_ratio': 2.101575384624819e-06}. Best is trial 214 with value: 0.9691920683625413.\u001b[0m\n",
      "\u001b[32m[I 2020-12-27 01:52:41,707]\u001b[0m Trial 799 finished with value: 0.9592900240965514 and parameters: {'alpha': 1.5719701226125346e-06, 'l1_ratio': 3.225237299098107e-06}. Best is trial 214 with value: 0.9691920683625413.\u001b[0m\n",
      "\u001b[32m[I 2020-12-27 01:52:42,090]\u001b[0m Trial 800 finished with value: 0.9546837034735542 and parameters: {'alpha': 9.470403608184467e-07, 'l1_ratio': 8.554593957378632e-07}. Best is trial 214 with value: 0.9691920683625413.\u001b[0m\n",
      "\u001b[32m[I 2020-12-27 01:52:42,506]\u001b[0m Trial 801 finished with value: 0.962184764540582 and parameters: {'alpha': 3.87849251271518e-07, 'l1_ratio': 1.1458054808378296e-06}. Best is trial 214 with value: 0.9691920683625413.\u001b[0m\n",
      "\u001b[32m[I 2020-12-27 01:52:42,882]\u001b[0m Trial 802 finished with value: 0.9577576981530752 and parameters: {'alpha': 6.609132077860517e-07, 'l1_ratio': 9.101687177478824e-06}. Best is trial 214 with value: 0.9691920683625413.\u001b[0m\n",
      "\u001b[32m[I 2020-12-27 01:52:43,267]\u001b[0m Trial 803 finished with value: 0.960209163855474 and parameters: {'alpha': 1.1564707671140898e-06, 'l1_ratio': 1.5210004886796e-05}. Best is trial 214 with value: 0.9691920683625413.\u001b[0m\n",
      "\u001b[32m[I 2020-12-27 01:52:43,654]\u001b[0m Trial 804 finished with value: 0.9558409205709046 and parameters: {'alpha': 5.65525960892481e-07, 'l1_ratio': 1.492214381547174e-06}. Best is trial 214 with value: 0.9691920683625413.\u001b[0m\n",
      "\u001b[32m[I 2020-12-27 01:52:44,007]\u001b[0m Trial 805 finished with value: 0.9551907881278106 and parameters: {'alpha': 1.9814802785650796e-06, 'l1_ratio': 0.003434199507382058}. Best is trial 214 with value: 0.9691920683625413.\u001b[0m\n",
      "\u001b[32m[I 2020-12-27 01:52:44,337]\u001b[0m Trial 806 finished with value: 0.9573675632420877 and parameters: {'alpha': 5.6971793221916476e-06, 'l1_ratio': 2.472352802660146e-05}. Best is trial 214 with value: 0.9691920683625413.\u001b[0m\n",
      "\u001b[32m[I 2020-12-27 01:52:44,714]\u001b[0m Trial 807 finished with value: 0.958045197507335 and parameters: {'alpha': 8.951420194278577e-07, 'l1_ratio': 2.1469979228413047e-06}. Best is trial 214 with value: 0.9691920683625413.\u001b[0m\n",
      "\u001b[32m[I 2020-12-27 01:52:45,141]\u001b[0m Trial 808 finished with value: 0.9633637099954586 and parameters: {'alpha': 3.7931514477769483e-07, 'l1_ratio': 0.0058449302069605875}. Best is trial 214 with value: 0.9691920683625413.\u001b[0m\n",
      "\u001b[32m[I 2020-12-27 01:52:45,546]\u001b[0m Trial 809 finished with value: 0.962156420771159 and parameters: {'alpha': 7.22527484298263e-07, 'l1_ratio': 8.624877867801356e-07}. Best is trial 214 with value: 0.9691920683625413.\u001b[0m\n",
      "\u001b[32m[I 2020-12-27 01:52:45,940]\u001b[0m Trial 810 finished with value: 0.9599872361464828 and parameters: {'alpha': 1.3324211707313023e-06, 'l1_ratio': 4.18340408655294e-06}. Best is trial 214 with value: 0.9691920683625413.\u001b[0m\n",
      "\u001b[32m[I 2020-12-27 01:52:46,350]\u001b[0m Trial 811 finished with value: 0.9611776455553755 and parameters: {'alpha': 5.002575332113564e-07, 'l1_ratio': 1.1008635849117923e-05}. Best is trial 214 with value: 0.9691920683625413.\u001b[0m\n",
      "\u001b[32m[I 2020-12-27 01:52:46,836]\u001b[0m Trial 812 finished with value: 0.9561519661632912 and parameters: {'alpha': 8.557020453039121e-07, 'l1_ratio': 0.0014808642592349368}. Best is trial 214 with value: 0.9691920683625413.\u001b[0m\n",
      "\u001b[32m[I 2020-12-27 01:52:47,388]\u001b[0m Trial 813 finished with value: 0.9526429136580311 and parameters: {'alpha': 3.4950684942809624e-07, 'l1_ratio': 0.00846480799064288}. Best is trial 214 with value: 0.9691920683625413.\u001b[0m\n"
     ]
    },
    {
     "name": "stderr",
     "output_type": "stream",
     "text": [
      "\u001b[32m[I 2020-12-27 01:52:47,935]\u001b[0m Trial 814 finished with value: 0.9607997740658855 and parameters: {'alpha': 2.291711737577322e-06, 'l1_ratio': 5.849503599613816e-06}. Best is trial 214 with value: 0.9691920683625413.\u001b[0m\n",
      "\u001b[32m[I 2020-12-27 01:52:48,435]\u001b[0m Trial 815 finished with value: 0.9566340812568165 and parameters: {'alpha': 1.2287076190750484e-06, 'l1_ratio': 2.9945482147709944e-06}. Best is trial 214 with value: 0.9691920683625413.\u001b[0m\n",
      "\u001b[32m[I 2020-12-27 01:52:48,846]\u001b[0m Trial 816 finished with value: 0.9515415550667482 and parameters: {'alpha': 5.889470463318363e-07, 'l1_ratio': 6.632496728428655e-07}. Best is trial 214 with value: 0.9691920683625413.\u001b[0m\n",
      "\u001b[32m[I 2020-12-27 01:52:49,232]\u001b[0m Trial 817 finished with value: 0.9585596875043336 and parameters: {'alpha': 8.388480177896972e-07, 'l1_ratio': 1.5136845877352137e-06}. Best is trial 214 with value: 0.9691920683625413.\u001b[0m\n",
      "\u001b[32m[I 2020-12-27 01:52:49,616]\u001b[0m Trial 818 finished with value: 0.9563279360687008 and parameters: {'alpha': 3.2554644991120134e-06, 'l1_ratio': 0.003800524252394338}. Best is trial 214 with value: 0.9691920683625413.\u001b[0m\n",
      "\u001b[32m[I 2020-12-27 01:52:50,094]\u001b[0m Trial 819 finished with value: 0.9630030768339982 and parameters: {'alpha': 4.550446091399846e-07, 'l1_ratio': 0.019065882901354757}. Best is trial 214 with value: 0.9691920683625413.\u001b[0m\n",
      "\u001b[32m[I 2020-12-27 01:52:50,504]\u001b[0m Trial 820 finished with value: 0.9507249834570567 and parameters: {'alpha': 2.7642672806534667e-07, 'l1_ratio': 6.291064048976797e-05}. Best is trial 214 with value: 0.9691920683625413.\u001b[0m\n",
      "\u001b[32m[I 2020-12-27 01:52:50,861]\u001b[0m Trial 821 finished with value: 0.9563642624705524 and parameters: {'alpha': 1.5117955992262178e-06, 'l1_ratio': 2.4083420610958192e-05}. Best is trial 214 with value: 0.9691920683625413.\u001b[0m\n",
      "\u001b[32m[I 2020-12-27 01:52:51,273]\u001b[0m Trial 822 finished with value: 0.9595195523953682 and parameters: {'alpha': 6.851745542111451e-07, 'l1_ratio': 0.00605041904208567}. Best is trial 214 with value: 0.9691920683625413.\u001b[0m\n",
      "\u001b[32m[I 2020-12-27 01:52:51,657]\u001b[0m Trial 823 finished with value: 0.9567389815867019 and parameters: {'alpha': 1.1033229512967586e-06, 'l1_ratio': 0.002385743273143417}. Best is trial 214 with value: 0.9691920683625413.\u001b[0m\n",
      "\u001b[32m[I 2020-12-27 01:52:52,051]\u001b[0m Trial 824 finished with value: 0.9566406807674528 and parameters: {'alpha': 4.96620392185353e-07, 'l1_ratio': 2.3233535322874763e-06}. Best is trial 214 with value: 0.9691920683625413.\u001b[0m\n",
      "\u001b[32m[I 2020-12-27 01:52:52,426]\u001b[0m Trial 825 finished with value: 0.9595932520748133 and parameters: {'alpha': 3.432383391728927e-07, 'l1_ratio': 3.773592317621842e-10}. Best is trial 214 with value: 0.9691920683625413.\u001b[0m\n",
      "\u001b[32m[I 2020-12-27 01:52:52,813]\u001b[0m Trial 826 finished with value: 0.959837397268632 and parameters: {'alpha': 8.475788974355334e-07, 'l1_ratio': 7.19719562713008e-06}. Best is trial 214 with value: 0.9691920683625413.\u001b[0m\n",
      "\u001b[32m[I 2020-12-27 01:52:53,170]\u001b[0m Trial 827 finished with value: 0.9569103959865376 and parameters: {'alpha': 1.8056798328504184e-06, 'l1_ratio': 8.684401760559516e-10}. Best is trial 214 with value: 0.9691920683625413.\u001b[0m\n",
      "\u001b[32m[I 2020-12-27 01:52:53,556]\u001b[0m Trial 828 finished with value: 0.9575397115897518 and parameters: {'alpha': 5.927595903604605e-07, 'l1_ratio': 0.013067382516814866}. Best is trial 214 with value: 0.9691920683625413.\u001b[0m\n",
      "\u001b[32m[I 2020-12-27 01:52:53,941]\u001b[0m Trial 829 finished with value: 0.9585873692535666 and parameters: {'alpha': 1.0520505321239594e-06, 'l1_ratio': 1.1027284749443215e-06}. Best is trial 214 with value: 0.9691920683625413.\u001b[0m\n",
      "\u001b[32m[I 2020-12-27 01:52:54,329]\u001b[0m Trial 830 finished with value: 0.9632206236418163 and parameters: {'alpha': 6.868830956092318e-07, 'l1_ratio': 1.8529053455845212e-06}. Best is trial 214 with value: 0.9691920683625413.\u001b[0m\n",
      "\u001b[32m[I 2020-12-27 01:52:54,732]\u001b[0m Trial 831 finished with value: 0.9683854205471066 and parameters: {'alpha': 3.969911328180004e-07, 'l1_ratio': 0.00010908986045971131}. Best is trial 214 with value: 0.9691920683625413.\u001b[0m\n",
      "\u001b[32m[I 2020-12-27 01:52:55,191]\u001b[0m Trial 832 finished with value: 0.9549826848574621 and parameters: {'alpha': 2.2762073507661446e-07, 'l1_ratio': 5.097431550137105e-05}. Best is trial 214 with value: 0.9691920683625413.\u001b[0m\n",
      "\u001b[32m[I 2020-12-27 01:52:55,613]\u001b[0m Trial 833 finished with value: 0.9531248464657861 and parameters: {'alpha': 2.98739184993825e-07, 'l1_ratio': 0.000105045464035426}. Best is trial 214 with value: 0.9691920683625413.\u001b[0m\n",
      "\u001b[32m[I 2020-12-27 01:52:56,005]\u001b[0m Trial 834 finished with value: 0.9592187141862316 and parameters: {'alpha': 3.8304579010624737e-07, 'l1_ratio': 0.00010851779889334477}. Best is trial 214 with value: 0.9691920683625413.\u001b[0m\n",
      "\u001b[32m[I 2020-12-27 01:52:56,457]\u001b[0m Trial 835 finished with value: 0.9549377873893895 and parameters: {'alpha': 3.852724127540495e-07, 'l1_ratio': 9.431269764434437e-05}. Best is trial 214 with value: 0.9691920683625413.\u001b[0m\n",
      "\u001b[32m[I 2020-12-27 01:52:56,874]\u001b[0m Trial 836 finished with value: 0.9496050343398763 and parameters: {'alpha': 2.4396527941236704e-07, 'l1_ratio': 0.0001238613523083775}. Best is trial 214 with value: 0.9691920683625413.\u001b[0m\n",
      "\u001b[32m[I 2020-12-27 01:52:57,240]\u001b[0m Trial 837 finished with value: 0.951824984710817 and parameters: {'alpha': 1.4294378916016457e-06, 'l1_ratio': 4.2612722979119265e-05}. Best is trial 214 with value: 0.9691920683625413.\u001b[0m\n",
      "\u001b[32m[I 2020-12-27 01:52:57,633]\u001b[0m Trial 838 finished with value: 0.95104715813159 and parameters: {'alpha': 4.793380892100688e-07, 'l1_ratio': 0.0002503517188164386}. Best is trial 214 with value: 0.9691920683625413.\u001b[0m\n",
      "\u001b[32m[I 2020-12-27 01:52:58,033]\u001b[0m Trial 839 finished with value: 0.9613158362118459 and parameters: {'alpha': 9.613324332688568e-07, 'l1_ratio': 6.435225002375496e-05}. Best is trial 214 with value: 0.9691920683625413.\u001b[0m\n",
      "\u001b[32m[I 2020-12-27 01:52:58,384]\u001b[0m Trial 840 finished with value: 0.955638028560236 and parameters: {'alpha': 2.6517384292204805e-06, 'l1_ratio': 3.3393300166791003e-05}. Best is trial 214 with value: 0.9691920683625413.\u001b[0m\n",
      "\u001b[32m[I 2020-12-27 01:52:58,792]\u001b[0m Trial 841 finished with value: 0.9583980464405167 and parameters: {'alpha': 7.248126521385045e-07, 'l1_ratio': 0.00015248113622565656}. Best is trial 214 with value: 0.9691920683625413.\u001b[0m\n",
      "\u001b[32m[I 2020-12-27 01:52:59,194]\u001b[0m Trial 842 finished with value: 0.9468680431774595 and parameters: {'alpha': 2.925791714628986e-07, 'l1_ratio': 3.969386836301573e-05}. Best is trial 214 with value: 0.9691920683625413.\u001b[0m\n",
      "\u001b[32m[I 2020-12-27 01:52:59,576]\u001b[0m Trial 843 finished with value: 0.960314621791983 and parameters: {'alpha': 1.1739335116731113e-06, 'l1_ratio': 6.641127473816508e-05}. Best is trial 214 with value: 0.9691920683625413.\u001b[0m\n",
      "\u001b[32m[I 2020-12-27 01:52:59,988]\u001b[0m Trial 844 finished with value: 0.954843397123963 and parameters: {'alpha': 4.2568478086603413e-07, 'l1_ratio': 2.0419468661519293e-05}. Best is trial 214 with value: 0.9691920683625413.\u001b[0m\n",
      "\u001b[32m[I 2020-12-27 01:53:00,371]\u001b[0m Trial 845 finished with value: 0.9600394001976807 and parameters: {'alpha': 1.7717654991920798e-06, 'l1_ratio': 7.705804486373047e-05}. Best is trial 214 with value: 0.9691920683625413.\u001b[0m\n",
      "\u001b[32m[I 2020-12-27 01:53:00,792]\u001b[0m Trial 846 finished with value: 0.9578219570803453 and parameters: {'alpha': 7.169386326141367e-07, 'l1_ratio': 1.3323699506292797e-05}. Best is trial 214 with value: 0.9691920683625413.\u001b[0m\n",
      "\u001b[32m[I 2020-12-27 01:53:01,176]\u001b[0m Trial 847 finished with value: 0.957456984168492 and parameters: {'alpha': 5.298357455200846e-07, 'l1_ratio': 0.002902695416597714}. Best is trial 214 with value: 0.9691920683625413.\u001b[0m\n",
      "\u001b[32m[I 2020-12-27 01:53:01,619]\u001b[0m Trial 848 finished with value: 0.96178251403372 and parameters: {'alpha': 1.0067986186324527e-06, 'l1_ratio': 0.025292035008724956}. Best is trial 214 with value: 0.9691920683625413.\u001b[0m\n",
      "\u001b[32m[I 2020-12-27 01:53:02,263]\u001b[0m Trial 849 finished with value: 0.9542867061405546 and parameters: {'alpha': 1.9289032142246547e-07, 'l1_ratio': 0.009864882257028525}. Best is trial 214 with value: 0.9691920683625413.\u001b[0m\n",
      "\u001b[32m[I 2020-12-27 01:53:02,800]\u001b[0m Trial 850 finished with value: 0.9568531862034172 and parameters: {'alpha': 3.3089892647381795e-07, 'l1_ratio': 2.9348131073967714e-05}. Best is trial 214 with value: 0.9691920683625413.\u001b[0m\n"
     ]
    },
    {
     "name": "stderr",
     "output_type": "stream",
     "text": [
      "\u001b[32m[I 2020-12-27 01:53:03,376]\u001b[0m Trial 851 finished with value: 0.9620619758436759 and parameters: {'alpha': 7.751616992139034e-07, 'l1_ratio': 0.004865194191767008}. Best is trial 214 with value: 0.9691920683625413.\u001b[0m\n",
      "\u001b[32m[I 2020-12-27 01:53:03,807]\u001b[0m Trial 852 finished with value: 0.9602808874293451 and parameters: {'alpha': 1.2991682932164096e-06, 'l1_ratio': 2.036817944343516e-10}. Best is trial 214 with value: 0.9691920683625413.\u001b[0m\n",
      "\u001b[32m[I 2020-12-27 01:53:04,200]\u001b[0m Trial 853 finished with value: 0.9609420359719049 and parameters: {'alpha': 5.107184441497404e-07, 'l1_ratio': 0.00017999581868006521}. Best is trial 214 with value: 0.9691920683625413.\u001b[0m\n",
      "\u001b[32m[I 2020-12-27 01:53:04,560]\u001b[0m Trial 854 finished with value: 0.9580583558174968 and parameters: {'alpha': 1.89259938017136e-06, 'l1_ratio': 4.846088199602143e-10}. Best is trial 214 with value: 0.9691920683625413.\u001b[0m\n",
      "\u001b[32m[I 2020-12-27 01:53:04,930]\u001b[0m Trial 855 finished with value: 0.9570757604313975 and parameters: {'alpha': 8.059649140640144e-07, 'l1_ratio': 0.0010000920134727504}. Best is trial 214 with value: 0.9691920683625413.\u001b[0m\n",
      "\u001b[32m[I 2020-12-27 01:53:05,324]\u001b[0m Trial 856 finished with value: 0.9555156822944598 and parameters: {'alpha': 4.374499936469908e-07, 'l1_ratio': 0.001810440677572684}. Best is trial 214 with value: 0.9691920683625413.\u001b[0m\n",
      "\u001b[32m[I 2020-12-27 01:53:05,721]\u001b[0m Trial 857 finished with value: 0.9528264823668184 and parameters: {'alpha': 2.5051735225374177e-07, 'l1_ratio': 0.006058785378863016}. Best is trial 214 with value: 0.9691920683625413.\u001b[0m\n",
      "\u001b[32m[I 2020-12-27 01:53:06,086]\u001b[0m Trial 858 finished with value: 0.9604239476370778 and parameters: {'alpha': 1.0958759362281688e-06, 'l1_ratio': 1.2014607477640845e-05}. Best is trial 214 with value: 0.9691920683625413.\u001b[0m\n",
      "\u001b[32m[I 2020-12-27 01:53:06,464]\u001b[0m Trial 859 finished with value: 0.9568688004389381 and parameters: {'alpha': 6.607529371091595e-07, 'l1_ratio': 2.001451142496551e-05}. Best is trial 214 with value: 0.9691920683625413.\u001b[0m\n",
      "\u001b[32m[I 2020-12-27 01:53:06,854]\u001b[0m Trial 860 finished with value: 0.9632659201469114 and parameters: {'alpha': 1.5381456456056027e-06, 'l1_ratio': 5.462645449635576e-05}. Best is trial 214 with value: 0.9691920683625413.\u001b[0m\n",
      "\u001b[32m[I 2020-12-27 01:53:07,249]\u001b[0m Trial 861 finished with value: 0.9528362236005832 and parameters: {'alpha': 3.361266850650845e-07, 'l1_ratio': 0.0077273515940946445}. Best is trial 214 with value: 0.9691920683625413.\u001b[0m\n",
      "\u001b[32m[I 2020-12-27 01:53:07,642]\u001b[0m Trial 862 finished with value: 0.9661474253734301 and parameters: {'alpha': 5.85895716951043e-07, 'l1_ratio': 0.003534680489507193}. Best is trial 214 with value: 0.9691920683625413.\u001b[0m\n",
      "\u001b[32m[I 2020-12-27 01:53:08,157]\u001b[0m Trial 863 finished with value: 0.9397500666640478 and parameters: {'alpha': 4.692111961202192e-10, 'l1_ratio': 0.0022378945500602255}. Best is trial 214 with value: 0.9691920683625413.\u001b[0m\n",
      "\u001b[32m[I 2020-12-27 01:53:08,575]\u001b[0m Trial 864 finished with value: 0.9556622461826016 and parameters: {'alpha': 5.708153033450852e-07, 'l1_ratio': 0.0013349363713248527}. Best is trial 214 with value: 0.9691920683625413.\u001b[0m\n",
      "\u001b[32m[I 2020-12-27 01:53:08,951]\u001b[0m Trial 865 finished with value: 0.9643208167001115 and parameters: {'alpha': 1.0014869432289378e-06, 'l1_ratio': 0.003997521477820887}. Best is trial 214 with value: 0.9691920683625413.\u001b[0m\n",
      "\u001b[32m[I 2020-12-27 01:53:09,320]\u001b[0m Trial 866 finished with value: 0.9558256225366585 and parameters: {'alpha': 7.311366645789597e-07, 'l1_ratio': 0.0031236915238345704}. Best is trial 214 with value: 0.9691920683625413.\u001b[0m\n",
      "\u001b[32m[I 2020-12-27 01:53:09,710]\u001b[0m Trial 867 finished with value: 0.9612154375513833 and parameters: {'alpha': 5.230269138176577e-07, 'l1_ratio': 0.004001329192678878}. Best is trial 214 with value: 0.9691920683625413.\u001b[0m\n",
      "\u001b[32m[I 2020-12-27 01:53:10,099]\u001b[0m Trial 868 finished with value: 0.9594734021827723 and parameters: {'alpha': 8.956428187189723e-07, 'l1_ratio': 0.0018347216233345238}. Best is trial 214 with value: 0.9691920683625413.\u001b[0m\n",
      "\u001b[32m[I 2020-12-27 01:53:10,471]\u001b[0m Trial 869 finished with value: 0.9613831672442861 and parameters: {'alpha': 1.2925222209332523e-06, 'l1_ratio': 0.01182496043620152}. Best is trial 214 with value: 0.9691920683625413.\u001b[0m\n",
      "\u001b[32m[I 2020-12-27 01:53:10,857]\u001b[0m Trial 870 finished with value: 0.9591543518537669 and parameters: {'alpha': 6.193514931564566e-07, 'l1_ratio': 0.00339926460129369}. Best is trial 214 with value: 0.9691920683625413.\u001b[0m\n",
      "\u001b[32m[I 2020-12-27 01:53:11,241]\u001b[0m Trial 871 finished with value: 0.9489214831837598 and parameters: {'alpha': 8.715838796656434e-07, 'l1_ratio': 0.0008026810718394908}. Best is trial 214 with value: 0.9691920683625413.\u001b[0m\n",
      "\u001b[32m[I 2020-12-27 01:53:11,660]\u001b[0m Trial 872 finished with value: 0.961802222644621 and parameters: {'alpha': 2.0542895804942343e-06, 'l1_ratio': 0.004995070841406042}. Best is trial 214 with value: 0.9691920683625413.\u001b[0m\n",
      "\u001b[32m[I 2020-12-27 01:53:12,058]\u001b[0m Trial 873 finished with value: 0.9591952452013646 and parameters: {'alpha': 4.25659597573869e-07, 'l1_ratio': 0.01014969316389986}. Best is trial 214 with value: 0.9691920683625413.\u001b[0m\n",
      "\u001b[32m[I 2020-12-27 01:53:12,422]\u001b[0m Trial 874 finished with value: 0.9618185847076907 and parameters: {'alpha': 1.2910252694089597e-06, 'l1_ratio': 0.002571954033257823}. Best is trial 214 with value: 0.9691920683625413.\u001b[0m\n",
      "\u001b[32m[I 2020-12-27 01:53:12,805]\u001b[0m Trial 875 finished with value: 0.9662172736190691 and parameters: {'alpha': 6.008863505862247e-07, 'l1_ratio': 0.006763694480217309}. Best is trial 214 with value: 0.9691920683625413.\u001b[0m\n",
      "\u001b[32m[I 2020-12-27 01:53:13,219]\u001b[0m Trial 876 finished with value: 0.956418910144529 and parameters: {'alpha': 4.5917329756458277e-07, 'l1_ratio': 0.006061507855443779}. Best is trial 214 with value: 0.9691920683625413.\u001b[0m\n",
      "\u001b[32m[I 2020-12-27 01:53:13,600]\u001b[0m Trial 877 finished with value: 0.9573489969385132 and parameters: {'alpha': 5.35466962146348e-07, 'l1_ratio': 0.018365586855902744}. Best is trial 214 with value: 0.9691920683625413.\u001b[0m\n",
      "\u001b[32m[I 2020-12-27 01:53:13,980]\u001b[0m Trial 878 finished with value: 0.9567815942740582 and parameters: {'alpha': 8.556478125772348e-07, 'l1_ratio': 0.007700464680955734}. Best is trial 214 with value: 0.9691920683625413.\u001b[0m\n",
      "\u001b[32m[I 2020-12-27 01:53:14,401]\u001b[0m Trial 879 finished with value: 0.9480189885315917 and parameters: {'alpha': 4.058932737962364e-07, 'l1_ratio': 0.006870183936487959}. Best is trial 214 with value: 0.9691920683625413.\u001b[0m\n",
      "\u001b[32m[I 2020-12-27 01:53:14,791]\u001b[0m Trial 880 finished with value: 0.9605347419741133 and parameters: {'alpha': 6.414948912202389e-07, 'l1_ratio': 0.0036748873443830715}. Best is trial 214 with value: 0.9691920683625413.\u001b[0m\n",
      "\u001b[32m[I 2020-12-27 01:53:15,134]\u001b[0m Trial 881 finished with value: 0.9578903908438975 and parameters: {'alpha': 3.57884820813868e-06, 'l1_ratio': 0.005847114556452269}. Best is trial 214 with value: 0.9691920683625413.\u001b[0m\n",
      "\u001b[32m[I 2020-12-27 01:53:15,504]\u001b[0m Trial 882 finished with value: 0.9563475788005079 and parameters: {'alpha': 1.1103059825323353e-06, 'l1_ratio': 0.008588450676729566}. Best is trial 214 with value: 0.9691920683625413.\u001b[0m\n",
      "\u001b[32m[I 2020-12-27 01:53:15,876]\u001b[0m Trial 883 finished with value: 0.9531177802843386 and parameters: {'alpha': 2.5715356503160494e-06, 'l1_ratio': 0.014686368684068654}. Best is trial 214 with value: 0.9691920683625413.\u001b[0m\n",
      "\u001b[32m[I 2020-12-27 01:53:16,280]\u001b[0m Trial 884 finished with value: 0.956388606964235 and parameters: {'alpha': 6.980549909932285e-07, 'l1_ratio': 0.0021002604335367426}. Best is trial 214 with value: 0.9691920683625413.\u001b[0m\n",
      "\u001b[32m[I 2020-12-27 01:53:16,700]\u001b[0m Trial 885 finished with value: 0.9580986277333078 and parameters: {'alpha': 3.655983295554336e-07, 'l1_ratio': 0.013067356376080254}. Best is trial 214 with value: 0.9691920683625413.\u001b[0m\n",
      "\u001b[32m[I 2020-12-27 01:53:17,080]\u001b[0m Trial 886 finished with value: 0.9588271927604709 and parameters: {'alpha': 9.712061557040956e-07, 'l1_ratio': 0.0012665390528009814}. Best is trial 214 with value: 0.9691920683625413.\u001b[0m\n",
      "\u001b[32m[I 2020-12-27 01:53:17,444]\u001b[0m Trial 887 finished with value: 0.9581901487431657 and parameters: {'alpha': 1.8578510777722102e-06, 'l1_ratio': 0.002852554474337054}. Best is trial 214 with value: 0.9691920683625413.\u001b[0m\n"
     ]
    },
    {
     "name": "stderr",
     "output_type": "stream",
     "text": [
      "\u001b[32m[I 2020-12-27 01:53:17,844]\u001b[0m Trial 888 finished with value: 0.9488998806463955 and parameters: {'alpha': 5.318562030479874e-07, 'l1_ratio': 0.029881193028136667}. Best is trial 214 with value: 0.9691920683625413.\u001b[0m\n",
      "\u001b[32m[I 2020-12-27 01:53:18,224]\u001b[0m Trial 889 finished with value: 0.9644141498905527 and parameters: {'alpha': 1.2267104948139495e-06, 'l1_ratio': 0.004511942565723841}. Best is trial 214 with value: 0.9691920683625413.\u001b[0m\n",
      "\u001b[32m[I 2020-12-27 01:53:18,611]\u001b[0m Trial 890 finished with value: 0.9622970763692478 and parameters: {'alpha': 7.552770507972276e-07, 'l1_ratio': 0.005019696310007065}. Best is trial 214 with value: 0.9691920683625413.\u001b[0m\n",
      "\u001b[32m[I 2020-12-27 01:53:19,011]\u001b[0m Trial 891 finished with value: 0.9560746834238615 and parameters: {'alpha': 3.402068219122442e-07, 'l1_ratio': 0.009360564892552301}. Best is trial 214 with value: 0.9691920683625413.\u001b[0m\n",
      "\u001b[32m[I 2020-12-27 01:53:19,386]\u001b[0m Trial 892 finished with value: 0.9545276342141737 and parameters: {'alpha': 1.554334212699356e-06, 'l1_ratio': 0.0031296888595704797}. Best is trial 214 with value: 0.9691920683625413.\u001b[0m\n",
      "\u001b[32m[I 2020-12-27 01:53:19,783]\u001b[0m Trial 893 finished with value: 0.9593970339222948 and parameters: {'alpha': 5.159001011117796e-07, 'l1_ratio': 0.01616370123447112}. Best is trial 214 with value: 0.9691920683625413.\u001b[0m\n",
      "\u001b[32m[I 2020-12-27 01:53:20,170]\u001b[0m Trial 894 finished with value: 0.9632032672105358 and parameters: {'alpha': 9.061151833048979e-07, 'l1_ratio': 0.007443361625396479}. Best is trial 214 with value: 0.9691920683625413.\u001b[0m\n",
      "\u001b[32m[I 2020-12-27 01:53:20,563]\u001b[0m Trial 895 finished with value: 0.9528185841317414 and parameters: {'alpha': 6.334067411663709e-07, 'l1_ratio': 0.0023342830079456835}. Best is trial 214 with value: 0.9691920683625413.\u001b[0m\n",
      "\u001b[32m[I 2020-12-27 01:53:20,964]\u001b[0m Trial 896 finished with value: 0.9552355997149431 and parameters: {'alpha': 3.027344494087297e-07, 'l1_ratio': 0.003908864621322055}. Best is trial 214 with value: 0.9691920683625413.\u001b[0m\n",
      "\u001b[32m[I 2020-12-27 01:53:21,339]\u001b[0m Trial 897 finished with value: 0.9619160374967457 and parameters: {'alpha': 1.5255446160751847e-06, 'l1_ratio': 0.00033944715058340386}. Best is trial 214 with value: 0.9691920683625413.\u001b[0m\n",
      "\u001b[32m[I 2020-12-27 01:53:21,726]\u001b[0m Trial 898 finished with value: 0.9692415780683468 and parameters: {'alpha': 4.2842570078130996e-07, 'l1_ratio': 0.0014625643848466556}. Best is trial 898 with value: 0.9692415780683468.\u001b[0m\n",
      "\u001b[32m[I 2020-12-27 01:53:22,186]\u001b[0m Trial 899 finished with value: 0.9597621130849419 and parameters: {'alpha': 2.8904750591425143e-07, 'l1_ratio': 0.0011162020805121297}. Best is trial 898 with value: 0.9692415780683468.\u001b[0m\n",
      "\u001b[32m[I 2020-12-27 01:53:22,596]\u001b[0m Trial 900 finished with value: 0.9660613944781351 and parameters: {'alpha': 4.1983373186872287e-07, 'l1_ratio': 0.001341294809762978}. Best is trial 898 with value: 0.9692415780683468.\u001b[0m\n",
      "\u001b[32m[I 2020-12-27 01:53:23,009]\u001b[0m Trial 901 finished with value: 0.9474470080136164 and parameters: {'alpha': 2.330454213540903e-07, 'l1_ratio': 0.0016507440416719378}. Best is trial 898 with value: 0.9692415780683468.\u001b[0m\n",
      "\u001b[32m[I 2020-12-27 01:53:23,459]\u001b[0m Trial 902 finished with value: 0.9567872070800445 and parameters: {'alpha': 3.523977358057533e-07, 'l1_ratio': 0.001688634817882119}. Best is trial 898 with value: 0.9692415780683468.\u001b[0m\n",
      "\u001b[32m[I 2020-12-27 01:53:23,910]\u001b[0m Trial 903 finished with value: 0.9526447372415527 and parameters: {'alpha': 2.819250036853593e-07, 'l1_ratio': 0.0007635848772646063}. Best is trial 898 with value: 0.9692415780683468.\u001b[0m\n",
      "\u001b[32m[I 2020-12-27 01:53:24,331]\u001b[0m Trial 904 finished with value: 0.9646603917741235 and parameters: {'alpha': 4.103431592992673e-07, 'l1_ratio': 0.0007528710904217844}. Best is trial 898 with value: 0.9692415780683468.\u001b[0m\n",
      "\u001b[32m[I 2020-12-27 01:53:24,786]\u001b[0m Trial 905 finished with value: 0.9520820797154532 and parameters: {'alpha': 2.4436571359769564e-07, 'l1_ratio': 0.0013951802203370097}. Best is trial 898 with value: 0.9692415780683468.\u001b[0m\n",
      "\u001b[32m[I 2020-12-27 01:53:25,183]\u001b[0m Trial 906 finished with value: 0.9485100491902104 and parameters: {'alpha': 3.9193139693430283e-07, 'l1_ratio': 0.0022092116585024513}. Best is trial 898 with value: 0.9692415780683468.\u001b[0m\n",
      "\u001b[32m[I 2020-12-27 01:53:25,590]\u001b[0m Trial 907 finished with value: 0.9617667496143587 and parameters: {'alpha': 4.430809727762469e-07, 'l1_ratio': 0.001105542487946159}. Best is trial 898 with value: 0.9692415780683468.\u001b[0m\n",
      "\u001b[32m[I 2020-12-27 01:53:25,996]\u001b[0m Trial 908 finished with value: 0.9584144832106425 and parameters: {'alpha': 3.0426348498897384e-07, 'l1_ratio': 0.0011050162024150707}. Best is trial 898 with value: 0.9692415780683468.\u001b[0m\n",
      "\u001b[32m[I 2020-12-27 01:53:26,406]\u001b[0m Trial 909 finished with value: 0.9569838774818571 and parameters: {'alpha': 4.677823109614966e-07, 'l1_ratio': 0.0019019576705596316}. Best is trial 898 with value: 0.9692415780683468.\u001b[0m\n",
      "\u001b[32m[I 2020-12-27 01:53:26,798]\u001b[0m Trial 910 finished with value: 0.9600830837999825 and parameters: {'alpha': 5.289627892476812e-07, 'l1_ratio': 0.000680045779096383}. Best is trial 898 with value: 0.9692415780683468.\u001b[0m\n",
      "\u001b[32m[I 2020-12-27 01:53:27,185]\u001b[0m Trial 911 finished with value: 0.9566607205782167 and parameters: {'alpha': 3.832869657076765e-07, 'l1_ratio': 0.002802341199619544}. Best is trial 898 with value: 0.9692415780683468.\u001b[0m\n",
      "\u001b[32m[I 2020-12-27 01:53:27,566]\u001b[0m Trial 912 finished with value: 0.9629982581958679 and parameters: {'alpha': 2.1386194043596943e-07, 'l1_ratio': 0.0005653643441278369}. Best is trial 898 with value: 0.9692415780683468.\u001b[0m\n",
      "\u001b[32m[I 2020-12-27 01:53:27,962]\u001b[0m Trial 913 finished with value: 0.9554441398373282 and parameters: {'alpha': 5.689962440249074e-07, 'l1_ratio': 0.002346730415789335}. Best is trial 898 with value: 0.9692415780683468.\u001b[0m\n",
      "\u001b[32m[I 2020-12-27 01:53:28,397]\u001b[0m Trial 914 finished with value: 0.9569109484238817 and parameters: {'alpha': 2.891306040692283e-07, 'l1_ratio': 0.00041823958042812363}. Best is trial 898 with value: 0.9692415780683468.\u001b[0m\n",
      "\u001b[32m[I 2020-12-27 01:53:28,850]\u001b[0m Trial 915 finished with value: 0.9433583503339147 and parameters: {'alpha': 7.795514378259554e-09, 'l1_ratio': 0.00115840715861219}. Best is trial 898 with value: 0.9692415780683468.\u001b[0m\n",
      "\u001b[32m[I 2020-12-27 01:53:29,260]\u001b[0m Trial 916 finished with value: 0.957981848466861 and parameters: {'alpha': 5.628536054474141e-07, 'l1_ratio': 0.0048823507609723074}. Best is trial 898 with value: 0.9692415780683468.\u001b[0m\n",
      "\u001b[32m[I 2020-12-27 01:53:29,665]\u001b[0m Trial 917 finished with value: 0.9598888999734965 and parameters: {'alpha': 6.826247813297845e-07, 'l1_ratio': 0.0012608862430813518}. Best is trial 898 with value: 0.9692415780683468.\u001b[0m\n",
      "\u001b[32m[I 2020-12-27 01:53:30,058]\u001b[0m Trial 918 finished with value: 0.9583529360724293 and parameters: {'alpha': 4.0115657537162987e-07, 'l1_ratio': 0.0018511049180615238}. Best is trial 898 with value: 0.9692415780683468.\u001b[0m\n",
      "\u001b[32m[I 2020-12-27 01:53:30,486]\u001b[0m Trial 919 finished with value: 0.954673218804701 and parameters: {'alpha': 2.31873390334384e-07, 'l1_ratio': 0.0030159260926151347}. Best is trial 898 with value: 0.9692415780683468.\u001b[0m\n",
      "\u001b[32m[I 2020-12-27 01:53:30,859]\u001b[0m Trial 920 finished with value: 0.9591079855442748 and parameters: {'alpha': 8.910556925377125e-07, 'l1_ratio': 1.0537026895783305e-10}. Best is trial 898 with value: 0.9692415780683468.\u001b[0m\n",
      "\u001b[32m[I 2020-12-27 01:53:31,250]\u001b[0m Trial 921 finished with value: 0.9649053630178765 and parameters: {'alpha': 5.662335565270564e-07, 'l1_ratio': 0.004163824292099217}. Best is trial 898 with value: 0.9692415780683468.\u001b[0m\n",
      "\u001b[32m[I 2020-12-27 01:53:31,673]\u001b[0m Trial 922 finished with value: 0.9622603951799282 and parameters: {'alpha': 3.5735522192703573e-07, 'l1_ratio': 0.0006084755454404382}. Best is trial 898 with value: 0.9692415780683468.\u001b[0m\n",
      "\u001b[32m[I 2020-12-27 01:53:32,057]\u001b[0m Trial 923 finished with value: 0.9564837715419071 and parameters: {'alpha': 7.407494575505173e-07, 'l1_ratio': 0.005094002146581371}. Best is trial 898 with value: 0.9692415780683468.\u001b[0m\n",
      "\u001b[32m[I 2020-12-27 01:53:32,443]\u001b[0m Trial 924 finished with value: 0.9581638005107188 and parameters: {'alpha': 1.031779377825726e-06, 'l1_ratio': 0.0031997951298572127}. Best is trial 898 with value: 0.9692415780683468.\u001b[0m\n"
     ]
    },
    {
     "name": "stderr",
     "output_type": "stream",
     "text": [
      "\u001b[32m[I 2020-12-27 01:53:32,851]\u001b[0m Trial 925 finished with value: 0.9597000136528524 and parameters: {'alpha': 1.9046436149809141e-07, 'l1_ratio': 0.0016877051477186074}. Best is trial 898 with value: 0.9692415780683468.\u001b[0m\n",
      "\u001b[32m[I 2020-12-27 01:53:33,237]\u001b[0m Trial 926 finished with value: 0.9541325585736808 and parameters: {'alpha': 4.523196296106364e-07, 'l1_ratio': 0.009227479707147384}. Best is trial 898 with value: 0.9692415780683468.\u001b[0m\n",
      "\u001b[32m[I 2020-12-27 01:53:33,643]\u001b[0m Trial 927 finished with value: 0.9614042671375217 and parameters: {'alpha': 6.526779815402007e-07, 'l1_ratio': 0.006051559736345411}. Best is trial 898 with value: 0.9692415780683468.\u001b[0m\n",
      "\u001b[32m[I 2020-12-27 01:53:33,993]\u001b[0m Trial 928 finished with value: 0.9413301336863442 and parameters: {'alpha': 9.757827396683872e-05, 'l1_ratio': 0.0031332367757568942}. Best is trial 898 with value: 0.9692415780683468.\u001b[0m\n",
      "\u001b[32m[I 2020-12-27 01:53:34,392]\u001b[0m Trial 929 finished with value: 0.9546261776045054 and parameters: {'alpha': 3.012011659377348e-07, 'l1_ratio': 0.0009242705978409246}. Best is trial 898 with value: 0.9692415780683468.\u001b[0m\n",
      "\u001b[32m[I 2020-12-27 01:53:34,761]\u001b[0m Trial 930 finished with value: 0.9558592676724541 and parameters: {'alpha': 1.2311068079045024e-06, 'l1_ratio': 0.0025387071284499936}. Best is trial 898 with value: 0.9692415780683468.\u001b[0m\n",
      "\u001b[32m[I 2020-12-27 01:53:35,148]\u001b[0m Trial 931 finished with value: 0.9597887699050549 and parameters: {'alpha': 4.7209239151159734e-07, 'l1_ratio': 0.01019264887439275}. Best is trial 898 with value: 0.9692415780683468.\u001b[0m\n",
      "\u001b[32m[I 2020-12-27 01:53:35,538]\u001b[0m Trial 932 finished with value: 0.9589294361236261 and parameters: {'alpha': 7.697004478925029e-07, 'l1_ratio': 0.0060310652707500235}. Best is trial 898 with value: 0.9692415780683468.\u001b[0m\n",
      "\u001b[32m[I 2020-12-27 01:53:35,915]\u001b[0m Trial 933 finished with value: 0.9534949831622317 and parameters: {'alpha': 1.0821166999942455e-06, 'l1_ratio': 0.0018454015695330394}. Best is trial 898 with value: 0.9692415780683468.\u001b[0m\n",
      "\u001b[32m[I 2020-12-27 01:53:36,353]\u001b[0m Trial 934 finished with value: 0.9534495047829973 and parameters: {'alpha': 1.9159812218009972e-08, 'l1_ratio': 0.0037693736191679234}. Best is trial 898 with value: 0.9692415780683468.\u001b[0m\n",
      "\u001b[32m[I 2020-12-27 01:53:36,734]\u001b[0m Trial 935 finished with value: 0.9555201677864132 and parameters: {'alpha': 5.839094952758223e-07, 'l1_ratio': 0.007174399816004461}. Best is trial 898 with value: 0.9692415780683468.\u001b[0m\n",
      "\u001b[32m[I 2020-12-27 01:53:37,158]\u001b[0m Trial 936 finished with value: 0.9515699039081587 and parameters: {'alpha': 3.56510080025016e-07, 'l1_ratio': 0.01394468486466902}. Best is trial 898 with value: 0.9692415780683468.\u001b[0m\n",
      "\u001b[32m[I 2020-12-27 01:53:37,535]\u001b[0m Trial 937 finished with value: 0.9597507302016063 and parameters: {'alpha': 8.769983702955381e-07, 'l1_ratio': 0.0013517719960691637}. Best is trial 898 with value: 0.9692415780683468.\u001b[0m\n",
      "\u001b[32m[I 2020-12-27 01:53:37,900]\u001b[0m Trial 938 finished with value: 0.9589011795812935 and parameters: {'alpha': 2.5392941290957085e-06, 'l1_ratio': 5.586605034075902e-07}. Best is trial 898 with value: 0.9692415780683468.\u001b[0m\n",
      "\u001b[32m[I 2020-12-27 01:53:38,338]\u001b[0m Trial 939 finished with value: 0.9494589217763285 and parameters: {'alpha': 1.737519979721458e-07, 'l1_ratio': 0.004357477966281392}. Best is trial 898 with value: 0.9692415780683468.\u001b[0m\n",
      "\u001b[32m[I 2020-12-27 01:53:38,698]\u001b[0m Trial 940 finished with value: 0.9583490788532383 and parameters: {'alpha': 1.4553576944333056e-06, 'l1_ratio': 0.02479849604388328}. Best is trial 898 with value: 0.9692415780683468.\u001b[0m\n",
      "\u001b[32m[I 2020-12-27 01:53:39,108]\u001b[0m Trial 941 finished with value: 0.9631107999419499 and parameters: {'alpha': 4.710305859032486e-07, 'l1_ratio': 3.00397873933541e-07}. Best is trial 898 with value: 0.9692415780683468.\u001b[0m\n",
      "\u001b[32m[I 2020-12-27 01:53:39,499]\u001b[0m Trial 942 finished with value: 0.9524029327541288 and parameters: {'alpha': 2.7641778296804376e-07, 'l1_ratio': 0.002423289220917893}. Best is trial 898 with value: 0.9692415780683468.\u001b[0m\n",
      "\u001b[32m[I 2020-12-27 01:53:39,866]\u001b[0m Trial 943 finished with value: 0.9625165164789371 and parameters: {'alpha': 7.336336929584853e-07, 'l1_ratio': 0.007306629666258299}. Best is trial 898 with value: 0.9692415780683468.\u001b[0m\n",
      "\u001b[32m[I 2020-12-27 01:53:40,244]\u001b[0m Trial 944 finished with value: 0.9568592600056706 and parameters: {'alpha': 1.0833967143142615e-06, 'l1_ratio': 0.004724440981113421}. Best is trial 898 with value: 0.9692415780683468.\u001b[0m\n",
      "\u001b[32m[I 2020-12-27 01:53:40,616]\u001b[0m Trial 945 finished with value: 0.9454485804305744 and parameters: {'alpha': 5.770888802606106e-07, 'l1_ratio': 6.900658510924019e-07}. Best is trial 898 with value: 0.9692415780683468.\u001b[0m\n",
      "\u001b[32m[I 2020-12-27 01:53:41,026]\u001b[0m Trial 946 finished with value: 0.958658583084303 and parameters: {'alpha': 3.552236059354964e-07, 'l1_ratio': 0.0024649700176341337}. Best is trial 898 with value: 0.9692415780683468.\u001b[0m\n",
      "\u001b[32m[I 2020-12-27 01:53:41,392]\u001b[0m Trial 947 finished with value: 0.9555259459801752 and parameters: {'alpha': 2.0600154354867364e-06, 'l1_ratio': 0.010611957627037776}. Best is trial 898 with value: 0.9692415780683468.\u001b[0m\n",
      "\u001b[32m[I 2020-12-27 01:53:41,805]\u001b[0m Trial 948 finished with value: 0.9576763162531771 and parameters: {'alpha': 7.970970216346371e-07, 'l1_ratio': 0.0012228058897805608}. Best is trial 898 with value: 0.9692415780683468.\u001b[0m\n",
      "\u001b[32m[I 2020-12-27 01:53:42,240]\u001b[0m Trial 949 finished with value: 0.9607566711692375 and parameters: {'alpha': 4.57947682199613e-07, 'l1_ratio': 3.581958168336894e-07}. Best is trial 898 with value: 0.9692415780683468.\u001b[0m\n",
      "\u001b[32m[I 2020-12-27 01:53:42,616]\u001b[0m Trial 950 finished with value: 0.9565278915095361 and parameters: {'alpha': 2.2439301961269316e-07, 'l1_ratio': 0.04471889148443403}. Best is trial 898 with value: 0.9692415780683468.\u001b[0m\n",
      "\u001b[32m[I 2020-12-27 01:53:42,993]\u001b[0m Trial 951 finished with value: 0.9596563132479236 and parameters: {'alpha': 1.448254789389469e-06, 'l1_ratio': 0.00334809945281957}. Best is trial 898 with value: 0.9692415780683468.\u001b[0m\n",
      "\u001b[32m[I 2020-12-27 01:53:43,387]\u001b[0m Trial 952 finished with value: 0.9609661134715615 and parameters: {'alpha': 6.291288722814982e-07, 'l1_ratio': 0.0006230824041098807}. Best is trial 898 with value: 0.9692415780683468.\u001b[0m\n",
      "\u001b[32m[I 2020-12-27 01:53:43,756]\u001b[0m Trial 953 finished with value: 0.9597527906010408 and parameters: {'alpha': 9.407562880445916e-07, 'l1_ratio': 1.538652399857557e-06}. Best is trial 898 with value: 0.9692415780683468.\u001b[0m\n",
      "\u001b[32m[I 2020-12-27 01:53:44,158]\u001b[0m Trial 954 finished with value: 0.9620886293176851 and parameters: {'alpha': 4.0899918407091564e-07, 'l1_ratio': 0.015523167939578966}. Best is trial 898 with value: 0.9692415780683468.\u001b[0m\n",
      "\u001b[32m[I 2020-12-27 01:53:44,537]\u001b[0m Trial 955 finished with value: 0.9576000303622015 and parameters: {'alpha': 1.0608127615266297e-06, 'l1_ratio': 2.9244556500145046e-06}. Best is trial 898 with value: 0.9692415780683468.\u001b[0m\n",
      "\u001b[32m[I 2020-12-27 01:53:44,983]\u001b[0m Trial 956 finished with value: 0.9631882597484887 and parameters: {'alpha': 5.996274531293414e-07, 'l1_ratio': 0.0058245220498323305}. Best is trial 898 with value: 0.9692415780683468.\u001b[0m\n",
      "\u001b[32m[I 2020-12-27 01:53:45,417]\u001b[0m Trial 957 finished with value: 0.9501732734412831 and parameters: {'alpha': 2.7905359515885946e-07, 'l1_ratio': 0.002156556328398129}. Best is trial 898 with value: 0.9692415780683468.\u001b[0m\n",
      "\u001b[32m[I 2020-12-27 01:53:45,798]\u001b[0m Trial 958 finished with value: 0.9625883438192889 and parameters: {'alpha': 7.425764101827029e-07, 'l1_ratio': 0.004290981850468839}. Best is trial 898 with value: 0.9692415780683468.\u001b[0m\n",
      "\u001b[32m[I 2020-12-27 01:53:46,166]\u001b[0m Trial 959 finished with value: 0.9547312166099415 and parameters: {'alpha': 1.653758688678327e-06, 'l1_ratio': 8.416574017121971e-07}. Best is trial 898 with value: 0.9692415780683468.\u001b[0m\n",
      "\u001b[32m[I 2020-12-27 01:53:46,601]\u001b[0m Trial 960 finished with value: 0.806466092267085 and parameters: {'alpha': 0.006664687173796116, 'l1_ratio': 0.022624568091199868}. Best is trial 898 with value: 0.9692415780683468.\u001b[0m\n",
      "\u001b[32m[I 2020-12-27 01:53:46,944]\u001b[0m Trial 961 finished with value: 0.9536342691596347 and parameters: {'alpha': 4.21023426154714e-06, 'l1_ratio': 0.01009298626968081}. Best is trial 898 with value: 0.9692415780683468.\u001b[0m\n"
     ]
    },
    {
     "name": "stderr",
     "output_type": "stream",
     "text": [
      "\u001b[32m[I 2020-12-27 01:53:47,341]\u001b[0m Trial 962 finished with value: 0.9525211411722653 and parameters: {'alpha': 4.580233512924963e-07, 'l1_ratio': 5.205312735450015e-07}. Best is trial 898 with value: 0.9692415780683468.\u001b[0m\n",
      "\u001b[32m[I 2020-12-27 01:53:47,718]\u001b[0m Trial 963 finished with value: 0.9582956598498922 and parameters: {'alpha': 1.2227950946427216e-06, 'l1_ratio': 2.4500041961282285e-07}. Best is trial 898 with value: 0.9692415780683468.\u001b[0m\n",
      "\u001b[32m[I 2020-12-27 01:53:48,139]\u001b[0m Trial 964 finished with value: 0.9542371716917047 and parameters: {'alpha': 2.932930370786567e-07, 'l1_ratio': 0.001435946318142203}. Best is trial 898 with value: 0.9692415780683468.\u001b[0m\n",
      "\u001b[32m[I 2020-12-27 01:53:48,525]\u001b[0m Trial 965 finished with value: 0.8366619899965516 and parameters: {'alpha': 0.0024228572855517654, 'l1_ratio': 0.006988505770394634}. Best is trial 898 with value: 0.9692415780683468.\u001b[0m\n",
      "\u001b[32m[I 2020-12-27 01:53:48,927]\u001b[0m Trial 966 finished with value: 0.9617835641639461 and parameters: {'alpha': 1.4572523296413566e-07, 'l1_ratio': 1.1958681099653945e-06}. Best is trial 898 with value: 0.9692415780683468.\u001b[0m\n",
      "\u001b[32m[I 2020-12-27 01:53:49,301]\u001b[0m Trial 967 finished with value: 0.9547009627336637 and parameters: {'alpha': 8.64471640670651e-07, 'l1_ratio': 2.3577590448741268e-06}. Best is trial 898 with value: 0.9692415780683468.\u001b[0m\n",
      "\u001b[32m[I 2020-12-27 01:53:49,710]\u001b[0m Trial 968 finished with value: 0.9530508850815159 and parameters: {'alpha': 5.300061329731159e-07, 'l1_ratio': 0.0034148521348040233}. Best is trial 898 with value: 0.9692415780683468.\u001b[0m\n",
      "\u001b[32m[I 2020-12-27 01:53:50,108]\u001b[0m Trial 969 finished with value: 0.9574997729069834 and parameters: {'alpha': 7.074449732870018e-07, 'l1_ratio': 0.0004087434707260708}. Best is trial 898 with value: 0.9692415780683468.\u001b[0m\n",
      "\u001b[32m[I 2020-12-27 01:53:50,517]\u001b[0m Trial 970 finished with value: 0.9525510995145212 and parameters: {'alpha': 3.690640020831365e-07, 'l1_ratio': 0.000808511581719717}. Best is trial 898 with value: 0.9692415780683468.\u001b[0m\n",
      "\u001b[32m[I 2020-12-27 01:53:50,877]\u001b[0m Trial 971 finished with value: 0.9644751180656649 and parameters: {'alpha': 1.3439093314931072e-06, 'l1_ratio': 3.3292599294094856e-06}. Best is trial 898 with value: 0.9692415780683468.\u001b[0m\n",
      "\u001b[32m[I 2020-12-27 01:53:51,240]\u001b[0m Trial 972 finished with value: 0.9605482347622891 and parameters: {'alpha': 2.196466207218662e-06, 'l1_ratio': 0.0018639588912330496}. Best is trial 898 with value: 0.9692415780683468.\u001b[0m\n",
      "\u001b[32m[I 2020-12-27 01:53:51,691]\u001b[0m Trial 973 finished with value: 0.9597068979548585 and parameters: {'alpha': 1.9343354191213493e-07, 'l1_ratio': 0.005285800395372063}. Best is trial 898 with value: 0.9692415780683468.\u001b[0m\n",
      "\u001b[32m[I 2020-12-27 01:53:52,155]\u001b[0m Trial 974 finished with value: 0.95521352165213 and parameters: {'alpha': 5.183967590479647e-07, 'l1_ratio': 0.010157785387724615}. Best is trial 898 with value: 0.9692415780683468.\u001b[0m\n",
      "\u001b[32m[I 2020-12-27 01:53:52,531]\u001b[0m Trial 975 finished with value: 0.9623151622772317 and parameters: {'alpha': 9.981717465782222e-07, 'l1_ratio': 4.492866692096495e-07}. Best is trial 898 with value: 0.9692415780683468.\u001b[0m\n",
      "\u001b[32m[I 2020-12-27 01:53:52,934]\u001b[0m Trial 976 finished with value: 0.9599386100290812 and parameters: {'alpha': 3.5002706205545557e-07, 'l1_ratio': 1.5101428063355894e-06}. Best is trial 898 with value: 0.9692415780683468.\u001b[0m\n",
      "\u001b[32m[I 2020-12-27 01:53:53,313]\u001b[0m Trial 977 finished with value: 0.9607686091857673 and parameters: {'alpha': 7.342055541007987e-07, 'l1_ratio': 0.00273883330588902}. Best is trial 898 with value: 0.9692415780683468.\u001b[0m\n",
      "\u001b[32m[I 2020-12-27 01:53:53,675]\u001b[0m Trial 978 finished with value: 0.9607235322191401 and parameters: {'alpha': 1.6766177676446744e-06, 'l1_ratio': 7.726871845693682e-07}. Best is trial 898 with value: 0.9692415780683468.\u001b[0m\n",
      "\u001b[32m[I 2020-12-27 01:53:54,046]\u001b[0m Trial 979 finished with value: 0.9557368667048638 and parameters: {'alpha': 1.0190947918626435e-06, 'l1_ratio': 0.0038018157788992616}. Best is trial 898 with value: 0.9692415780683468.\u001b[0m\n",
      "\u001b[32m[I 2020-12-27 01:53:54,500]\u001b[0m Trial 980 finished with value: 0.9623411837937016 and parameters: {'alpha': 5.606166902381723e-07, 'l1_ratio': 0.016671954951074767}. Best is trial 898 with value: 0.9692415780683468.\u001b[0m\n",
      "\u001b[32m[I 2020-12-27 01:53:54,893]\u001b[0m Trial 981 finished with value: 0.9685398499314056 and parameters: {'alpha': 2.437383583859966e-07, 'l1_ratio': 0.0009497519597462484}. Best is trial 898 with value: 0.9692415780683468.\u001b[0m\n",
      "\u001b[32m[I 2020-12-27 01:53:55,302]\u001b[0m Trial 982 finished with value: 0.9549910394903729 and parameters: {'alpha': 2.669075316790326e-07, 'l1_ratio': 0.0009563545166887926}. Best is trial 898 with value: 0.9692415780683468.\u001b[0m\n",
      "\u001b[32m[I 2020-12-27 01:53:55,748]\u001b[0m Trial 983 finished with value: 0.9588000452199117 and parameters: {'alpha': 8.766907333071442e-08, 'l1_ratio': 0.0006381697605821625}. Best is trial 898 with value: 0.9692415780683468.\u001b[0m\n",
      "\u001b[32m[I 2020-12-27 01:53:56,173]\u001b[0m Trial 984 finished with value: 0.9531061750875032 and parameters: {'alpha': 1.6788536214318665e-07, 'l1_ratio': 0.0004072608820903435}. Best is trial 898 with value: 0.9692415780683468.\u001b[0m\n",
      "\u001b[32m[I 2020-12-27 01:53:56,582]\u001b[0m Trial 985 finished with value: 0.9471608482503568 and parameters: {'alpha': 1.8281430583350316e-07, 'l1_ratio': 0.000945531324489179}. Best is trial 898 with value: 0.9692415780683468.\u001b[0m\n",
      "\u001b[32m[I 2020-12-27 01:53:57,031]\u001b[0m Trial 986 finished with value: 0.9512722594167733 and parameters: {'alpha': 1.3267597261022124e-07, 'l1_ratio': 0.0016507348108698438}. Best is trial 898 with value: 0.9692415780683468.\u001b[0m\n",
      "\u001b[32m[I 2020-12-27 01:53:57,435]\u001b[0m Trial 987 finished with value: 0.9550465695401184 and parameters: {'alpha': 1.1337014402421914e-07, 'l1_ratio': 0.002157681809795513}. Best is trial 898 with value: 0.9692415780683468.\u001b[0m\n",
      "\u001b[32m[I 2020-12-27 01:53:57,822]\u001b[0m Trial 988 finished with value: 0.9554766021067712 and parameters: {'alpha': 2.464279221774113e-07, 'l1_ratio': 0.0012389136801963208}. Best is trial 898 with value: 0.9692415780683468.\u001b[0m\n",
      "\u001b[32m[I 2020-12-27 01:53:58,251]\u001b[0m Trial 989 finished with value: 0.9522190050874408 and parameters: {'alpha': 2.130178086501516e-07, 'l1_ratio': 0.00031491787495402536}. Best is trial 898 with value: 0.9692415780683468.\u001b[0m\n",
      "\u001b[32m[I 2020-12-27 01:53:58,653]\u001b[0m Trial 990 finished with value: 0.9624259746136813 and parameters: {'alpha': 1.5851310588835664e-07, 'l1_ratio': 0.0006128770499188037}. Best is trial 898 with value: 0.9692415780683468.\u001b[0m\n",
      "\u001b[32m[I 2020-12-27 01:53:59,065]\u001b[0m Trial 991 finished with value: 0.954545986998805 and parameters: {'alpha': 2.3156156817656546e-07, 'l1_ratio': 0.000991292569901334}. Best is trial 898 with value: 0.9692415780683468.\u001b[0m\n",
      "\u001b[32m[I 2020-12-27 01:53:59,457]\u001b[0m Trial 992 finished with value: 0.9603314011775395 and parameters: {'alpha': 3.391578731217977e-07, 'l1_ratio': 0.0015495072683153145}. Best is trial 898 with value: 0.9692415780683468.\u001b[0m\n",
      "\u001b[32m[I 2020-12-27 01:53:59,877]\u001b[0m Trial 993 finished with value: 0.9605664898594934 and parameters: {'alpha': 3.2489516432192555e-07, 'l1_ratio': 0.0023335865008457164}. Best is trial 898 with value: 0.9692415780683468.\u001b[0m\n",
      "\u001b[32m[I 2020-12-27 01:54:00,355]\u001b[0m Trial 994 finished with value: 0.9582036672535443 and parameters: {'alpha': 1.317347152953195e-07, 'l1_ratio': 0.0015329741668696768}. Best is trial 898 with value: 0.9692415780683468.\u001b[0m\n",
      "\u001b[32m[I 2020-12-27 01:54:00,754]\u001b[0m Trial 995 finished with value: 0.9537297799585338 and parameters: {'alpha': 3.6938880762826494e-07, 'l1_ratio': 0.0033485380354904555}. Best is trial 898 with value: 0.9692415780683468.\u001b[0m\n",
      "\u001b[32m[I 2020-12-27 01:54:01,176]\u001b[0m Trial 996 finished with value: 0.9631438535729566 and parameters: {'alpha': 2.2856225660449645e-07, 'l1_ratio': 0.004861084862580077}. Best is trial 898 with value: 0.9692415780683468.\u001b[0m\n",
      "\u001b[32m[I 2020-12-27 01:54:01,586]\u001b[0m Trial 997 finished with value: 0.9566893160752152 and parameters: {'alpha': 3.88144528049401e-07, 'l1_ratio': 0.0009181912826821244}. Best is trial 898 with value: 0.9692415780683468.\u001b[0m\n",
      "\u001b[32m[I 2020-12-27 01:54:02,005]\u001b[0m Trial 998 finished with value: 0.9636009895048859 and parameters: {'alpha': 4.388380645816596e-07, 'l1_ratio': 0.007779027653950899}. Best is trial 898 with value: 0.9692415780683468.\u001b[0m\n"
     ]
    },
    {
     "name": "stderr",
     "output_type": "stream",
     "text": [
      "\u001b[32m[I 2020-12-27 01:54:02,428]\u001b[0m Trial 999 finished with value: 0.9546674131765768 and parameters: {'alpha': 2.820775927017957e-07, 'l1_ratio': 4.6551485496073425e-06}. Best is trial 898 with value: 0.9692415780683468.\u001b[0m\n",
      "\u001b[32m[I 2020-12-27 01:54:02,826]\u001b[0m Trial 1000 finished with value: 0.9581597774454218 and parameters: {'alpha': 4.6863174021725865e-07, 'l1_ratio': 0.0024422693999005406}. Best is trial 898 with value: 0.9692415780683468.\u001b[0m\n",
      "\u001b[32m[I 2020-12-27 01:54:03,218]\u001b[0m Trial 1001 finished with value: 0.9607507143301236 and parameters: {'alpha': 6.003029346982473e-07, 'l1_ratio': 0.00022979025854738612}. Best is trial 898 with value: 0.9692415780683468.\u001b[0m\n",
      "\u001b[32m[I 2020-12-27 01:54:03,643]\u001b[0m Trial 1002 finished with value: 0.9514597749855587 and parameters: {'alpha': 2.04745651630705e-07, 'l1_ratio': 0.0035471969473356664}. Best is trial 898 with value: 0.9692415780683468.\u001b[0m\n",
      "\u001b[32m[I 2020-12-27 01:54:04,057]\u001b[0m Trial 1003 finished with value: 0.9586655984734137 and parameters: {'alpha': 3.073544994668007e-06, 'l1_ratio': 0.006437712594267577}. Best is trial 898 with value: 0.9692415780683468.\u001b[0m\n",
      "\u001b[32m[I 2020-12-27 01:54:04,509]\u001b[0m Trial 1004 finished with value: 0.9565097976757936 and parameters: {'alpha': 1.1024831783260814e-06, 'l1_ratio': 1.6498413848085178e-06}. Best is trial 898 with value: 0.9692415780683468.\u001b[0m\n",
      "\u001b[32m[I 2020-12-27 01:54:05,054]\u001b[0m Trial 1005 finished with value: 0.9603625962505922 and parameters: {'alpha': 7.199518023123445e-07, 'l1_ratio': 2.3614176260220463e-06}. Best is trial 898 with value: 0.9692415780683468.\u001b[0m\n",
      "\u001b[32m[I 2020-12-27 01:54:05,681]\u001b[0m Trial 1006 finished with value: 0.9575604007115549 and parameters: {'alpha': 4.7600432750583294e-07, 'l1_ratio': 0.0014819931498148517}. Best is trial 898 with value: 0.9692415780683468.\u001b[0m\n",
      "\u001b[32m[I 2020-12-27 01:54:06,135]\u001b[0m Trial 1007 finished with value: 0.9526086005870362 and parameters: {'alpha': 2.9111416704543336e-07, 'l1_ratio': 0.01292204617895335}. Best is trial 898 with value: 0.9692415780683468.\u001b[0m\n",
      "\u001b[32m[I 2020-12-27 01:54:06,518]\u001b[0m Trial 1008 finished with value: 0.9530591633514948 and parameters: {'alpha': 1.5168216521230392e-06, 'l1_ratio': 0.004972165464422743}. Best is trial 898 with value: 0.9692415780683468.\u001b[0m\n",
      "\u001b[32m[I 2020-12-27 01:54:06,927]\u001b[0m Trial 1009 finished with value: 0.9592636848073215 and parameters: {'alpha': 7.853165818966289e-07, 'l1_ratio': 0.0006253761647174888}. Best is trial 898 with value: 0.9692415780683468.\u001b[0m\n",
      "\u001b[32m[I 2020-12-27 01:54:07,344]\u001b[0m Trial 1010 finished with value: 0.9503141489495474 and parameters: {'alpha': 1.4072854911282214e-07, 'l1_ratio': 0.0019485772783212824}. Best is trial 898 with value: 0.9692415780683468.\u001b[0m\n",
      "\u001b[32m[I 2020-12-27 01:54:07,726]\u001b[0m Trial 1011 finished with value: 0.9579663365860728 and parameters: {'alpha': 5.808071481364192e-07, 'l1_ratio': 0.0030109540268153986}. Best is trial 898 with value: 0.9692415780683468.\u001b[0m\n",
      "\u001b[32m[I 2020-12-27 01:54:08,107]\u001b[0m Trial 1012 finished with value: 0.9582503013011111 and parameters: {'alpha': 8.926933228331044e-07, 'l1_ratio': 0.007007831453233482}. Best is trial 898 with value: 0.9692415780683468.\u001b[0m\n",
      "\u001b[32m[I 2020-12-27 01:54:08,530]\u001b[0m Trial 1013 finished with value: 0.951185248021531 and parameters: {'alpha': 3.9468679988909293e-07, 'l1_ratio': 4.205585141440523e-06}. Best is trial 898 with value: 0.9692415780683468.\u001b[0m\n",
      "\u001b[32m[I 2020-12-27 01:54:08,905]\u001b[0m Trial 1014 finished with value: 0.9563270577682643 and parameters: {'alpha': 2.3885779641483413e-06, 'l1_ratio': 0.0010048113456181268}. Best is trial 898 with value: 0.9692415780683468.\u001b[0m\n",
      "\u001b[32m[I 2020-12-27 01:54:09,284]\u001b[0m Trial 1015 finished with value: 0.9666871836382058 and parameters: {'alpha': 1.2711444534737256e-06, 'l1_ratio': 1.2136477781108148e-06}. Best is trial 898 with value: 0.9692415780683468.\u001b[0m\n",
      "\u001b[32m[I 2020-12-27 01:54:09,634]\u001b[0m Trial 1016 finished with value: 0.9596730326433244 and parameters: {'alpha': 2.1629910100304065e-06, 'l1_ratio': 2.2283775342700864e-06}. Best is trial 898 with value: 0.9692415780683468.\u001b[0m\n",
      "\u001b[32m[I 2020-12-27 01:54:09,966]\u001b[0m Trial 1017 finished with value: 0.9623151240558901 and parameters: {'alpha': 5.355288302067552e-06, 'l1_ratio': 5.140144066849531e-06}. Best is trial 898 with value: 0.9692415780683468.\u001b[0m\n",
      "\u001b[32m[I 2020-12-27 01:54:10,337]\u001b[0m Trial 1018 finished with value: 0.9532574219223106 and parameters: {'alpha': 1.722992937257972e-06, 'l1_ratio': 3.103526801343971e-06}. Best is trial 898 with value: 0.9692415780683468.\u001b[0m\n",
      "\u001b[32m[I 2020-12-27 01:54:10,698]\u001b[0m Trial 1019 finished with value: 0.9571619036809117 and parameters: {'alpha': 1.4212203567499483e-06, 'l1_ratio': 0.003135380784780348}. Best is trial 898 with value: 0.9692415780683468.\u001b[0m\n",
      "\u001b[32m[I 2020-12-27 01:54:11,053]\u001b[0m Trial 1020 finished with value: 0.958194005114369 and parameters: {'alpha': 2.9761106211707666e-06, 'l1_ratio': 0.0005064222626646458}. Best is trial 898 with value: 0.9692415780683468.\u001b[0m\n",
      "\u001b[32m[I 2020-12-27 01:54:11,426]\u001b[0m Trial 1021 finished with value: 0.957951817986499 and parameters: {'alpha': 1.8717136867605684e-06, 'l1_ratio': 0.008137904153369678}. Best is trial 898 with value: 0.9692415780683468.\u001b[0m\n",
      "\u001b[32m[I 2020-12-27 01:54:11,795]\u001b[0m Trial 1022 finished with value: 0.958226753682538 and parameters: {'alpha': 1.4603452172988498e-06, 'l1_ratio': 1.5713293897903627e-06}. Best is trial 898 with value: 0.9692415780683468.\u001b[0m\n",
      "\u001b[32m[I 2020-12-27 01:54:12,157]\u001b[0m Trial 1023 finished with value: 0.9614245691354607 and parameters: {'alpha': 1.1474997919582098e-06, 'l1_ratio': 3.6856543286537515e-06}. Best is trial 898 with value: 0.9692415780683468.\u001b[0m\n",
      "\u001b[32m[I 2020-12-27 01:54:12,530]\u001b[0m Trial 1024 finished with value: 0.9580429022289003 and parameters: {'alpha': 1.1187412888240917e-06, 'l1_ratio': 0.004706964603190255}. Best is trial 898 with value: 0.9692415780683468.\u001b[0m\n",
      "\u001b[32m[I 2020-12-27 01:54:12,890]\u001b[0m Trial 1025 finished with value: 0.9563642624705524 and parameters: {'alpha': 2.01543885718471e-06, 'l1_ratio': 0.011643984738674213}. Best is trial 898 with value: 0.9692415780683468.\u001b[0m\n",
      "\u001b[32m[I 2020-12-27 01:54:13,248]\u001b[0m Trial 1026 finished with value: 0.961794775840031 and parameters: {'alpha': 3.2633885930762105e-06, 'l1_ratio': 0.0014715869226136808}. Best is trial 898 with value: 0.9692415780683468.\u001b[0m\n",
      "\u001b[32m[I 2020-12-27 01:54:13,607]\u001b[0m Trial 1027 finished with value: 0.9614691923473178 and parameters: {'alpha': 1.0321945250774323e-06, 'l1_ratio': 0.0021770860208931322}. Best is trial 898 with value: 0.9692415780683468.\u001b[0m\n",
      "\u001b[32m[I 2020-12-27 01:54:14,032]\u001b[0m Trial 1028 finished with value: 0.9508001645335865 and parameters: {'alpha': 7.369814080882694e-08, 'l1_ratio': 7.308539262601675e-06}. Best is trial 898 with value: 0.9692415780683468.\u001b[0m\n",
      "\u001b[32m[I 2020-12-27 01:54:14,448]\u001b[0m Trial 1029 finished with value: 0.9583428054401543 and parameters: {'alpha': 7.926675118442837e-07, 'l1_ratio': 0.004868110985590734}. Best is trial 898 with value: 0.9692415780683468.\u001b[0m\n",
      "\u001b[32m[I 2020-12-27 01:54:14,812]\u001b[0m Trial 1030 finished with value: 0.9658038922230452 and parameters: {'alpha': 1.3285706330420789e-06, 'l1_ratio': 2.0144769667064408e-06}. Best is trial 898 with value: 0.9692415780683468.\u001b[0m\n",
      "\u001b[32m[I 2020-12-27 01:54:15,178]\u001b[0m Trial 1031 finished with value: 0.958147063997238 and parameters: {'alpha': 2.7228112458573833e-06, 'l1_ratio': 2.7532824307634003e-06}. Best is trial 898 with value: 0.9692415780683468.\u001b[0m\n",
      "\u001b[32m[I 2020-12-27 01:54:15,533]\u001b[0m Trial 1032 finished with value: 0.9554807308640494 and parameters: {'alpha': 4.236607353341897e-06, 'l1_ratio': 3.1362528030964503e-06}. Best is trial 898 with value: 0.9692415780683468.\u001b[0m\n",
      "\u001b[32m[I 2020-12-27 01:54:15,904]\u001b[0m Trial 1033 finished with value: 0.9553340376579276 and parameters: {'alpha': 1.4401643860208025e-06, 'l1_ratio': 3.898760171924277e-06}. Best is trial 898 with value: 0.9692415780683468.\u001b[0m\n",
      "\u001b[32m[I 2020-12-27 01:54:16,260]\u001b[0m Trial 1034 finished with value: 0.9633523897471056 and parameters: {'alpha': 2.379558255225837e-06, 'l1_ratio': 2.2757265914331427e-06}. Best is trial 898 with value: 0.9692415780683468.\u001b[0m\n",
      "\u001b[32m[I 2020-12-27 01:54:16,652]\u001b[0m Trial 1035 finished with value: 0.9636179799926146 and parameters: {'alpha': 1.4573207321482033e-06, 'l1_ratio': 6.181275959660601e-06}. Best is trial 898 with value: 0.9692415780683468.\u001b[0m\n"
     ]
    },
    {
     "name": "stderr",
     "output_type": "stream",
     "text": [
      "\u001b[32m[I 2020-12-27 01:54:17,012]\u001b[0m Trial 1036 finished with value: 0.9552016070907143 and parameters: {'alpha': 1.9782387753816634e-06, 'l1_ratio': 2.041344554826877e-06}. Best is trial 898 with value: 0.9692415780683468.\u001b[0m\n",
      "\u001b[32m[I 2020-12-27 01:54:17,384]\u001b[0m Trial 1037 finished with value: 0.9646689176278941 and parameters: {'alpha': 1.0469095216504847e-06, 'l1_ratio': 6.476517770799823e-06}. Best is trial 898 with value: 0.9692415780683468.\u001b[0m\n",
      "\u001b[32m[I 2020-12-27 01:54:17,753]\u001b[0m Trial 1038 finished with value: 0.957683112344982 and parameters: {'alpha': 1.48525609652618e-06, 'l1_ratio': 1.4032203624446674e-06}. Best is trial 898 with value: 0.9692415780683468.\u001b[0m\n",
      "\u001b[32m[I 2020-12-27 01:54:18,160]\u001b[0m Trial 1039 finished with value: 0.948967673285946 and parameters: {'alpha': 2.120740253163237e-07, 'l1_ratio': 0.007431235900716517}. Best is trial 898 with value: 0.9692415780683468.\u001b[0m\n",
      "\u001b[32m[I 2020-12-27 01:54:18,529]\u001b[0m Trial 1040 finished with value: 0.953253624224015 and parameters: {'alpha': 1.0130537056222012e-06, 'l1_ratio': 0.023811905829228625}. Best is trial 898 with value: 0.9692415780683468.\u001b[0m\n",
      "\u001b[32m[I 2020-12-27 01:54:18,877]\u001b[0m Trial 1041 finished with value: 0.9588853240364015 and parameters: {'alpha': 2.34903613585242e-06, 'l1_ratio': 3.1654978388044196e-06}. Best is trial 898 with value: 0.9692415780683468.\u001b[0m\n",
      "\u001b[32m[I 2020-12-27 01:54:19,207]\u001b[0m Trial 1042 finished with value: 0.9499972494252551 and parameters: {'alpha': 3.2553284866547145e-05, 'l1_ratio': 0.003379821440009459}. Best is trial 898 with value: 0.9692415780683468.\u001b[0m\n",
      "\u001b[32m[I 2020-12-27 01:54:19,627]\u001b[0m Trial 1043 finished with value: 0.9479202125118553 and parameters: {'alpha': 1.1253314378743482e-07, 'l1_ratio': 1.757103147880779e-06}. Best is trial 898 with value: 0.9692415780683468.\u001b[0m\n",
      "\u001b[32m[I 2020-12-27 01:54:20,011]\u001b[0m Trial 1044 finished with value: 0.9586891767860405 and parameters: {'alpha': 6.596988626650201e-07, 'l1_ratio': 5.2150381355867e-06}. Best is trial 898 with value: 0.9692415780683468.\u001b[0m\n",
      "\u001b[32m[I 2020-12-27 01:54:20,383]\u001b[0m Trial 1045 finished with value: 0.956107604072055 and parameters: {'alpha': 1.2971670393010004e-06, 'l1_ratio': 0.0020717085422674365}. Best is trial 898 with value: 0.9692415780683468.\u001b[0m\n",
      "\u001b[32m[I 2020-12-27 01:54:20,799]\u001b[0m Trial 1046 finished with value: 0.9489389030520736 and parameters: {'alpha': 3.151234848297527e-07, 'l1_ratio': 0.000842176878727023}. Best is trial 898 with value: 0.9692415780683468.\u001b[0m\n",
      "\u001b[32m[I 2020-12-27 01:54:21,183]\u001b[0m Trial 1047 finished with value: 0.9581087973392081 and parameters: {'alpha': 4.954899334623906e-07, 'l1_ratio': 0.010828287790622141}. Best is trial 898 with value: 0.9692415780683468.\u001b[0m\n",
      "\u001b[32m[I 2020-12-27 01:54:21,562]\u001b[0m Trial 1048 finished with value: 0.9639386765445698 and parameters: {'alpha': 8.355342924892403e-07, 'l1_ratio': 0.0038012579010458423}. Best is trial 898 with value: 0.9692415780683468.\u001b[0m\n",
      "\u001b[32m[I 2020-12-27 01:54:21,972]\u001b[0m Trial 1049 finished with value: 0.950085216016461 and parameters: {'alpha': 1.8670404517779357e-07, 'l1_ratio': 2.13985336886464e-06}. Best is trial 898 with value: 0.9692415780683468.\u001b[0m\n",
      "\u001b[32m[I 2020-12-27 01:54:22,325]\u001b[0m Trial 1050 finished with value: 0.9635363143293755 and parameters: {'alpha': 2.0258375068811765e-06, 'l1_ratio': 0.0013384460139826153}. Best is trial 898 with value: 0.9692415780683468.\u001b[0m\n",
      "\u001b[32m[I 2020-12-27 01:54:22,762]\u001b[0m Trial 1051 finished with value: 0.9609193954769082 and parameters: {'alpha': 6.273122597233881e-07, 'l1_ratio': 1.1824385958213454e-06}. Best is trial 898 with value: 0.9692415780683468.\u001b[0m\n",
      "\u001b[32m[I 2020-12-27 01:54:23,205]\u001b[0m Trial 1052 finished with value: 0.9603009589359025 and parameters: {'alpha': 1.1170218451621575e-06, 'l1_ratio': 0.005722277642291404}. Best is trial 898 with value: 0.9692415780683468.\u001b[0m\n",
      "\u001b[32m[I 2020-12-27 01:54:23,626]\u001b[0m Trial 1053 finished with value: 0.9573033004862705 and parameters: {'alpha': 2.7766209906285e-07, 'l1_ratio': 0.00015632464593191638}. Best is trial 898 with value: 0.9692415780683468.\u001b[0m\n",
      "\u001b[32m[I 2020-12-27 01:54:24,073]\u001b[0m Trial 1054 finished with value: 0.9594217148011681 and parameters: {'alpha': 4.396798516008974e-07, 'l1_ratio': 0.002650377753533955}. Best is trial 898 with value: 0.9692415780683468.\u001b[0m\n",
      "\u001b[32m[I 2020-12-27 01:54:24,445]\u001b[0m Trial 1055 finished with value: 0.9582976226154545 and parameters: {'alpha': 8.242123820466298e-07, 'l1_ratio': 0.013347115630041845}. Best is trial 898 with value: 0.9692415780683468.\u001b[0m\n",
      "\u001b[32m[I 2020-12-27 01:54:24,899]\u001b[0m Trial 1056 finished with value: 0.9622095503670338 and parameters: {'alpha': 1.6168396579656564e-06, 'l1_ratio': 0.00437705800521137}. Best is trial 898 with value: 0.9692415780683468.\u001b[0m\n",
      "\u001b[32m[I 2020-12-27 01:54:25,447]\u001b[0m Trial 1057 finished with value: 0.960461910756685 and parameters: {'alpha': 5.492225246714958e-07, 'l1_ratio': 5.0035071761815965e-06}. Best is trial 898 with value: 0.9692415780683468.\u001b[0m\n",
      "\u001b[32m[I 2020-12-27 01:54:26,049]\u001b[0m Trial 1058 finished with value: 0.9507466922192369 and parameters: {'alpha': 5.187410083460102e-08, 'l1_ratio': 1.0814236171215381e-10}. Best is trial 898 with value: 0.9692415780683468.\u001b[0m\n",
      "\u001b[32m[I 2020-12-27 01:54:26,533]\u001b[0m Trial 1059 finished with value: 0.962277300851688 and parameters: {'alpha': 3.731663976113273e-07, 'l1_ratio': 0.0003356258495307714}. Best is trial 898 with value: 0.9692415780683468.\u001b[0m\n",
      "\u001b[32m[I 2020-12-27 01:54:26,985]\u001b[0m Trial 1060 finished with value: 0.9614254337478081 and parameters: {'alpha': 8.615577794487899e-07, 'l1_ratio': 0.007416606171295821}. Best is trial 898 with value: 0.9692415780683468.\u001b[0m\n",
      "\u001b[32m[I 2020-12-27 01:54:27,397]\u001b[0m Trial 1061 finished with value: 0.9553078430704325 and parameters: {'alpha': 1.2471999899666047e-06, 'l1_ratio': 0.0015734658497658593}. Best is trial 898 with value: 0.9692415780683468.\u001b[0m\n",
      "\u001b[32m[I 2020-12-27 01:54:27,925]\u001b[0m Trial 1062 finished with value: 0.9496144201542938 and parameters: {'alpha': 1.5395939638192458e-07, 'l1_ratio': 9.298943024976631e-06}. Best is trial 898 with value: 0.9692415780683468.\u001b[0m\n",
      "\u001b[32m[I 2020-12-27 01:54:28,343]\u001b[0m Trial 1063 finished with value: 0.9548174575160573 and parameters: {'alpha': 6.141552437184142e-07, 'l1_ratio': 3.628279026169568e-06}. Best is trial 898 with value: 0.9692415780683468.\u001b[0m\n",
      "\u001b[32m[I 2020-12-27 01:54:28,784]\u001b[0m Trial 1064 finished with value: 0.9545548938559223 and parameters: {'alpha': 2.3361313037378064e-07, 'l1_ratio': 1.4334604697055445e-06}. Best is trial 898 with value: 0.9692415780683468.\u001b[0m\n",
      "\u001b[32m[I 2020-12-27 01:54:29,242]\u001b[0m Trial 1065 finished with value: 0.9547590346115804 and parameters: {'alpha': 3.9777363316169345e-07, 'l1_ratio': 0.00237409634907}. Best is trial 898 with value: 0.9692415780683468.\u001b[0m\n",
      "\u001b[32m[I 2020-12-27 01:54:29,743]\u001b[0m Trial 1066 finished with value: 0.9586334977417403 and parameters: {'alpha': 3.1652322108818553e-06, 'l1_ratio': 0.02188234432359638}. Best is trial 898 with value: 0.9692415780683468.\u001b[0m\n",
      "\u001b[32m[I 2020-12-27 01:54:30,105]\u001b[0m Trial 1067 finished with value: 0.9612937367894369 and parameters: {'alpha': 1.813345043308253e-06, 'l1_ratio': 2.379582156089903e-06}. Best is trial 898 with value: 0.9692415780683468.\u001b[0m\n",
      "\u001b[32m[I 2020-12-27 01:54:30,567]\u001b[0m Trial 1068 finished with value: 0.963885679017776 and parameters: {'alpha': 9.700080487077678e-07, 'l1_ratio': 0.0010506583679405453}. Best is trial 898 with value: 0.9692415780683468.\u001b[0m\n",
      "\u001b[32m[I 2020-12-27 01:54:30,968]\u001b[0m Trial 1069 finished with value: 0.9610452955031897 and parameters: {'alpha': 6.774846157065512e-07, 'l1_ratio': 0.009445870710957939}. Best is trial 898 with value: 0.9692415780683468.\u001b[0m\n",
      "\u001b[32m[I 2020-12-27 01:54:31,362]\u001b[0m Trial 1070 finished with value: 0.9590212145601262 and parameters: {'alpha': 1.2319120871178828e-06, 'l1_ratio': 0.003974038795874802}. Best is trial 898 with value: 0.9692415780683468.\u001b[0m\n",
      "\u001b[32m[I 2020-12-27 01:54:31,799]\u001b[0m Trial 1071 finished with value: 0.9581890836095995 and parameters: {'alpha': 3.08664039674354e-07, 'l1_ratio': 1.2891153897399255e-06}. Best is trial 898 with value: 0.9692415780683468.\u001b[0m\n",
      "\u001b[32m[I 2020-12-27 01:54:32,187]\u001b[0m Trial 1072 finished with value: 0.952883884615771 and parameters: {'alpha': 4.5096187678466955e-07, 'l1_ratio': 0.0028992513358968583}. Best is trial 898 with value: 0.9692415780683468.\u001b[0m\n"
     ]
    },
    {
     "name": "stderr",
     "output_type": "stream",
     "text": [
      "\u001b[32m[I 2020-12-27 01:54:32,563]\u001b[0m Trial 1073 finished with value: 0.9620000062143063 and parameters: {'alpha': 7.574639537982776e-07, 'l1_ratio': 0.006789857342584852}. Best is trial 898 with value: 0.9692415780683468.\u001b[0m\n",
      "\u001b[32m[I 2020-12-27 01:54:32,957]\u001b[0m Trial 1074 finished with value: 0.9594060597606036 and parameters: {'alpha': 5.403297693725514e-07, 'l1_ratio': 0.0018573449904575653}. Best is trial 898 with value: 0.9692415780683468.\u001b[0m\n",
      "\u001b[32m[I 2020-12-27 01:54:33,404]\u001b[0m Trial 1075 finished with value: 0.883212739065433 and parameters: {'alpha': 0.0008589158745808311, 'l1_ratio': 0.01593865178083446}. Best is trial 898 with value: 0.9692415780683468.\u001b[0m\n",
      "\u001b[32m[I 2020-12-27 01:54:33,851]\u001b[0m Trial 1076 finished with value: 0.9552906214490144 and parameters: {'alpha': 1.6083621313509292e-06, 'l1_ratio': 0.0005359599665017151}. Best is trial 898 with value: 0.9692415780683468.\u001b[0m\n",
      "\u001b[32m[I 2020-12-27 01:54:34,401]\u001b[0m Trial 1077 finished with value: 0.9508925330553455 and parameters: {'alpha': 1.0748568222812954e-07, 'l1_ratio': 0.004638421577575375}. Best is trial 898 with value: 0.9692415780683468.\u001b[0m\n",
      "\u001b[32m[I 2020-12-27 01:54:34,947]\u001b[0m Trial 1078 finished with value: 0.9662289208707061 and parameters: {'alpha': 9.341892769117191e-07, 'l1_ratio': 2.1502191979487216e-06}. Best is trial 898 with value: 0.9692415780683468.\u001b[0m\n",
      "\u001b[32m[I 2020-12-27 01:54:35,352]\u001b[0m Trial 1079 finished with value: 0.9611906127859196 and parameters: {'alpha': 2.900942057357993e-07, 'l1_ratio': 3.7843100350126576e-06}. Best is trial 898 with value: 0.9692415780683468.\u001b[0m\n",
      "\u001b[32m[I 2020-12-27 01:54:35,796]\u001b[0m Trial 1080 finished with value: 0.9646289459802606 and parameters: {'alpha': 4.818082278978979e-07, 'l1_ratio': 6.974175666856459e-06}. Best is trial 898 with value: 0.9692415780683468.\u001b[0m\n",
      "\u001b[32m[I 2020-12-27 01:54:36,175]\u001b[0m Trial 1081 finished with value: 0.9515069052083405 and parameters: {'alpha': 7.936984227426655e-07, 'l1_ratio': 3.3846787675124093e-06}. Best is trial 898 with value: 0.9692415780683468.\u001b[0m\n",
      "\u001b[32m[I 2020-12-27 01:54:36,616]\u001b[0m Trial 1082 finished with value: 0.9529773772108692 and parameters: {'alpha': 2.2002415893005356e-07, 'l1_ratio': 2.3697204732644526e-06}. Best is trial 898 with value: 0.9692415780683468.\u001b[0m\n",
      "\u001b[32m[I 2020-12-27 01:54:37,008]\u001b[0m Trial 1083 finished with value: 0.9534493677430501 and parameters: {'alpha': 6.225637951302615e-07, 'l1_ratio': 1.0117019361271892e-05}. Best is trial 898 with value: 0.9692415780683468.\u001b[0m\n",
      "\u001b[32m[I 2020-12-27 01:54:37,502]\u001b[0m Trial 1084 finished with value: 0.9561794614528907 and parameters: {'alpha': 3.7848044242221644e-07, 'l1_ratio': 0.0009052125982778163}. Best is trial 898 with value: 0.9692415780683468.\u001b[0m\n",
      "\u001b[32m[I 2020-12-27 01:54:37,954]\u001b[0m Trial 1085 finished with value: 0.9644232134595315 and parameters: {'alpha': 1.1121512691914596e-06, 'l1_ratio': 0.002872094268183726}. Best is trial 898 with value: 0.9692415780683468.\u001b[0m\n",
      "\u001b[32m[I 2020-12-27 01:54:38,410]\u001b[0m Trial 1086 finished with value: 0.9526102404679251 and parameters: {'alpha': 1.5681066718722173e-07, 'l1_ratio': 0.009282115547424571}. Best is trial 898 with value: 0.9692415780683468.\u001b[0m\n",
      "\u001b[32m[I 2020-12-27 01:54:38,846]\u001b[0m Trial 1087 finished with value: 0.9609261333924396 and parameters: {'alpha': 8.669814329114204e-07, 'l1_ratio': 4.11723869828225e-06}. Best is trial 898 with value: 0.9692415780683468.\u001b[0m\n",
      "\u001b[32m[I 2020-12-27 01:54:39,248]\u001b[0m Trial 1088 finished with value: 0.9603599828330999 and parameters: {'alpha': 5.529954722111302e-07, 'l1_ratio': 0.0014021020515091612}. Best is trial 898 with value: 0.9692415780683468.\u001b[0m\n",
      "\u001b[32m[I 2020-12-27 01:54:39,711]\u001b[0m Trial 1089 finished with value: 0.9538122235430636 and parameters: {'alpha': 3.359278016455263e-07, 'l1_ratio': 0.005387432136740882}. Best is trial 898 with value: 0.9692415780683468.\u001b[0m\n"
     ]
    }
   ],
   "source": [
    "# 1000回のトライアルで最適なパラメータを採用\n",
    "study = optuna.create_study(direction='maximize')\n",
    "study.optimize(objective, n_trials=1000)\n",
    "params=study.best_params"
   ]
  },
  {
   "cell_type": "code",
   "execution_count": 60,
   "metadata": {},
   "outputs": [
    {
     "name": "stdout",
     "output_type": "stream",
     "text": [
      "0.9684165110263153\n"
     ]
    }
   ],
   "source": [
    "# パラメータは固定して100回の施行で検証データのf1scoreが最大となるモデルを採用\n",
    "best_score=0\n",
    "for i in range(100):\n",
    "    clf = SGDClassifier(loss='log')\n",
    "    clf.set_params(**params)\n",
    "    clf.fit(Xtrain_tfidf, Ytrain)\n",
    "    Ydev_pred=clf.predict(Xdev_tfidf)\n",
    "    if best_score< f1_score(Ydev, Ydev_pred, average=\"macro\"):\n",
    "        best_model = clf\n",
    "        best_score = f1_score(Ydev, Ydev_pred, average=\"macro\")\n",
    "print(best_score)\n",
    "clf = best_model"
   ]
  },
  {
   "cell_type": "code",
   "execution_count": null,
   "metadata": {},
   "outputs": [],
   "source": [
    "#model をpickle化\n",
    "import pickle\n",
    "\n",
    "with open('SGD_best.pickle', 'wb') as f:\n",
    "    pickle.dump(clf, f)"
   ]
  },
  {
   "cell_type": "code",
   "execution_count": 65,
   "metadata": {
    "scrolled": true
   },
   "outputs": [
    {
     "name": "stdout",
     "output_type": "stream",
     "text": [
      "{'alpha': 0.003808901322441786, 'l1_ratio': 5.332697964899795e-08}\n",
      "train: 1.0\n",
      "precision:1.0\n",
      "recall_score:1.0\n",
      "f1_score:1.0\n",
      "dev: 0.9715061058344641\n",
      "precision:0.9709592982837232\n",
      "recall_score:0.9669368023926308\n",
      "f1_score:0.9684165110263153\n",
      "test: 0.9701492537313433\n",
      "test precision:0.968393445978932\n",
      "test recall_score:0.9652803286692152\n",
      "test f1_score:0.9665045737809737\n",
      "\n",
      "train: 1.0\n",
      "dev: 0.9715061058344641\n",
      "test: 0.9701492537313433\n"
     ]
    }
   ],
   "source": [
    "# 結果の出力(検証データ最大)\n",
    "Ytrain_prev=clf.predict(Xtrain_tfidf)\n",
    "Ydev_pred=clf.predict(Xdev_tfidf)\n",
    "Ytest_pred=clf.predict(Xtest_tfidf)\n",
    "print(params)\n",
    "print(f'train: {clf.score(Xtrain_tfidf, Ytrain)}')\n",
    "print(f'precision:{precision_score(Ytrain, Ytrain_prev, average=\"macro\")}')\n",
    "print(f'recall_score:{recall_score(Ytrain, Ytrain_prev, average=\"macro\")}')\n",
    "print(f'f1_score:{f1_score(Ytrain, Ytrain_prev, average=\"macro\")}')\n",
    "print(f'dev: {clf.score(Xdev_tfidf, Ydev)}')\n",
    "print(f'precision:{precision_score(Ydev, Ydev_pred, average=\"macro\")}')\n",
    "print(f'recall_score:{recall_score(Ydev, Ydev_pred, average=\"macro\")}')\n",
    "print(f'f1_score:{f1_score(Ydev, Ydev_pred, average=\"macro\")}')\n",
    "print(f'test: {clf.score(Xtest_tfidf, Ytest)}')\n",
    "print(f'test precision:{precision_score(Ytest, Ytest_pred, average=\"macro\")}')\n",
    "print(f'test recall_score:{recall_score(Ytest, Ytest_pred, average=\"macro\")}')\n",
    "print(f'test f1_score:{f1_score(Ytest, Ytest_pred, average=\"macro\")}')"
   ]
  },
  {
   "cell_type": "code",
   "execution_count": 612,
   "metadata": {},
   "outputs": [],
   "source": [
    "# svdによる次元削減（不採用）\n",
    "svd=TruncatedSVD(n_components=1000)\n",
    "svd.fit(Xtrain_tfidf)\n",
    "\n",
    "Xtrain_svd=svd.transform(Xtrain_tfidf)\n",
    "Xdev_svd=svd.transform(Xdev_tfidf)\n",
    "Xtest_svd=svd.transform(Xtest_tfidf)"
   ]
  },
  {
   "cell_type": "code",
   "execution_count": 62,
   "metadata": {},
   "outputs": [],
   "source": [
    "# umapによる次元削減（不採用）\n",
    "um=umap.UMAP()\n",
    "um.fit(Xtrain_tfidf)\n",
    "\n",
    "Xtrain_um=um.transform(Xtrain_tfidf)\n",
    "Xdev_um=um.transform(Xdev_tfidf)\n",
    "Xtest_um=um.transform(Xtest_tfidf)"
   ]
  },
  {
   "cell_type": "markdown",
   "metadata": {},
   "source": [
    "---"
   ]
  },
  {
   "cell_type": "code",
   "execution_count": 124,
   "metadata": {},
   "outputs": [],
   "source": [
    "# opt2\n",
    "# 検証データを用いたパラメータチューニング\n",
    "Xtrain_opt = Xtrain_tfidf\n",
    "Xdev_opt = Xdev_tfidf\n",
    "def objective(trial):\n",
    "    alpha = trial.suggest_loguniform('alpha', 1e-10, 1e-2)\n",
    "    l1_ratio = trial.suggest_loguniform('l1_ratio', 1e-10, 1)\n",
    "    skf = StratifiedKFold(n_splits=5, shuffle=True)\n",
    "    clf = SGDClassifier(loss='log', alpha=alpha, l1_ratio = l1_ratio, class_weight='balanced')\n",
    "    clf.fit(Xtrain_opt, Ytrain)\n",
    "    Ydev_pred = clf.predict(Xdev_opt)\n",
    "    return f1_score(Ydev, Ydev_pred, average=\"macro\")"
   ]
  },
  {
   "cell_type": "code",
   "execution_count": 125,
   "metadata": {
    "scrolled": true
   },
   "outputs": [
    {
     "name": "stderr",
     "output_type": "stream",
     "text": [
      "\u001b[32m[I 2020-12-27 03:46:39,008]\u001b[0m A new study created in memory with name: no-name-130256c0-6778-4d9e-afaf-7feda2ab9026\u001b[0m\n",
      "\u001b[32m[I 2020-12-27 03:46:39,440]\u001b[0m Trial 0 finished with value: 0.9588744527324197 and parameters: {'alpha': 8.279140196285479e-09, 'l1_ratio': 9.915855115470507e-06}. Best is trial 0 with value: 0.9588744527324197.\u001b[0m\n",
      "\u001b[32m[I 2020-12-27 03:46:39,899]\u001b[0m Trial 1 finished with value: 0.9465959130077801 and parameters: {'alpha': 4.22002398811827e-10, 'l1_ratio': 0.0007274646929666491}. Best is trial 0 with value: 0.9588744527324197.\u001b[0m\n",
      "\u001b[32m[I 2020-12-27 03:46:40,417]\u001b[0m Trial 2 finished with value: 0.9512609071743614 and parameters: {'alpha': 3.0526300755634705e-08, 'l1_ratio': 0.00870163738357796}. Best is trial 0 with value: 0.9588744527324197.\u001b[0m\n",
      "\u001b[32m[I 2020-12-27 03:46:40,994]\u001b[0m Trial 3 finished with value: 0.9565732809719001 and parameters: {'alpha': 4.283831129552136e-09, 'l1_ratio': 1.0045453469452455e-05}. Best is trial 0 with value: 0.9588744527324197.\u001b[0m\n",
      "\u001b[32m[I 2020-12-27 03:46:41,527]\u001b[0m Trial 4 finished with value: 0.9434998105758877 and parameters: {'alpha': 7.31224544985482e-08, 'l1_ratio': 0.033612864418987295}. Best is trial 0 with value: 0.9588744527324197.\u001b[0m\n",
      "\u001b[32m[I 2020-12-27 03:46:42,075]\u001b[0m Trial 5 finished with value: 0.9544301872537506 and parameters: {'alpha': 4.624518976751477e-08, 'l1_ratio': 0.0006473629524664474}. Best is trial 0 with value: 0.9588744527324197.\u001b[0m\n",
      "\u001b[32m[I 2020-12-27 03:46:42,536]\u001b[0m Trial 6 finished with value: 0.9546802002314558 and parameters: {'alpha': 8.014691725758839e-07, 'l1_ratio': 9.844135475840769e-08}. Best is trial 0 with value: 0.9588744527324197.\u001b[0m\n",
      "\u001b[32m[I 2020-12-27 03:46:43,040]\u001b[0m Trial 7 finished with value: 0.9416978333291023 and parameters: {'alpha': 3.77118541591075e-09, 'l1_ratio': 5.12822328035182e-10}. Best is trial 0 with value: 0.9588744527324197.\u001b[0m\n",
      "\u001b[32m[I 2020-12-27 03:46:43,605]\u001b[0m Trial 8 finished with value: 0.9444782586846896 and parameters: {'alpha': 3.0961538356387486e-08, 'l1_ratio': 9.284898401561407e-08}. Best is trial 0 with value: 0.9588744527324197.\u001b[0m\n",
      "\u001b[32m[I 2020-12-27 03:46:44,067]\u001b[0m Trial 9 finished with value: 0.9506848773768473 and parameters: {'alpha': 5.090110009237317e-07, 'l1_ratio': 1.4090891062424373e-09}. Best is trial 0 with value: 0.9588744527324197.\u001b[0m\n",
      "\u001b[32m[I 2020-12-27 03:46:44,586]\u001b[0m Trial 10 finished with value: 0.9226163180131208 and parameters: {'alpha': 0.0005934536352115675, 'l1_ratio': 0.7120739629377038}. Best is trial 0 with value: 0.9588744527324197.\u001b[0m\n",
      "\u001b[32m[I 2020-12-27 03:46:45,275]\u001b[0m Trial 11 finished with value: 0.9408547043534953 and parameters: {'alpha': 1.3037294482799565e-10, 'l1_ratio': 4.335331423726848e-06}. Best is trial 0 with value: 0.9588744527324197.\u001b[0m\n",
      "\u001b[32m[I 2020-12-27 03:46:45,711]\u001b[0m Trial 12 finished with value: 0.9476738460959039 and parameters: {'alpha': 4.590704798849873e-05, 'l1_ratio': 1.9285538092595986e-05}. Best is trial 0 with value: 0.9588744527324197.\u001b[0m\n",
      "\u001b[32m[I 2020-12-27 03:46:46,412]\u001b[0m Trial 13 finished with value: 0.9373483040160936 and parameters: {'alpha': 1.3480203916909862e-09, 'l1_ratio': 1.2216646380308643e-06}. Best is trial 0 with value: 0.9588744527324197.\u001b[0m\n",
      "\u001b[32m[I 2020-12-27 03:46:47,064]\u001b[0m Trial 14 finished with value: 0.9514481598069526 and parameters: {'alpha': 1.0091362901693092e-10, 'l1_ratio': 6.854448797832795e-08}. Best is trial 0 with value: 0.9588744527324197.\u001b[0m\n",
      "\u001b[32m[I 2020-12-27 03:46:47,411]\u001b[0m Trial 15 finished with value: 0.9542708692107971 and parameters: {'alpha': 1.0284599015384221e-05, 'l1_ratio': 0.00010875920706879753}. Best is trial 0 with value: 0.9588744527324197.\u001b[0m\n",
      "\u001b[32m[I 2020-12-27 03:46:47,948]\u001b[0m Trial 16 finished with value: 0.9482675180547788 and parameters: {'alpha': 4.059426934082132e-09, 'l1_ratio': 3.20066666431734e-06}. Best is trial 0 with value: 0.9588744527324197.\u001b[0m\n",
      "\u001b[32m[I 2020-12-27 03:46:48,422]\u001b[0m Trial 17 finished with value: 0.9510951100258692 and parameters: {'alpha': 2.9599041105548186e-09, 'l1_ratio': 5.640776648252153e-05}. Best is trial 0 with value: 0.9588744527324197.\u001b[0m\n",
      "\u001b[32m[I 2020-12-27 03:46:48,837]\u001b[0m Trial 18 finished with value: 0.955538481296017 and parameters: {'alpha': 5.501836978967159e-06, 'l1_ratio': 7.8611654057546e-09}. Best is trial 0 with value: 0.9588744527324197.\u001b[0m\n",
      "\u001b[32m[I 2020-12-27 03:46:49,405]\u001b[0m Trial 19 finished with value: 0.9465770080290051 and parameters: {'alpha': 4.755041189702239e-10, 'l1_ratio': 5.757537999618999e-07}. Best is trial 0 with value: 0.9588744527324197.\u001b[0m\n",
      "\u001b[32m[I 2020-12-27 03:46:49,971]\u001b[0m Trial 20 finished with value: 0.8616612095971191 and parameters: {'alpha': 0.0094876984251188, 'l1_ratio': 0.0006064128590108007}. Best is trial 0 with value: 0.9588744527324197.\u001b[0m\n",
      "\u001b[32m[I 2020-12-27 03:46:50,316]\u001b[0m Trial 21 finished with value: 0.9591249177986244 and parameters: {'alpha': 5.0046244385820584e-06, 'l1_ratio': 4.781389647812354e-09}. Best is trial 21 with value: 0.9591249177986244.\u001b[0m\n",
      "\u001b[32m[I 2020-12-27 03:46:50,688]\u001b[0m Trial 22 finished with value: 0.9384568468867527 and parameters: {'alpha': 0.0001960940940279524, 'l1_ratio': 1.1456188332797332e-10}. Best is trial 21 with value: 0.9591249177986244.\u001b[0m\n",
      "\u001b[32m[I 2020-12-27 03:46:51,137]\u001b[0m Trial 23 finished with value: 0.9537665214994566 and parameters: {'alpha': 1.6135253623871603e-07, 'l1_ratio': 1.5399895061940904e-08}. Best is trial 21 with value: 0.9591249177986244.\u001b[0m\n",
      "\u001b[32m[I 2020-12-27 03:46:51,501]\u001b[0m Trial 24 finished with value: 0.9568356645136085 and parameters: {'alpha': 3.129270101404108e-06, 'l1_ratio': 5.334715687511861e-07}. Best is trial 21 with value: 0.9591249177986244.\u001b[0m\n",
      "\u001b[32m[I 2020-12-27 03:46:51,847]\u001b[0m Trial 25 finished with value: 0.9599879696698513 and parameters: {'alpha': 3.5601840289798387e-06, 'l1_ratio': 4.296975966179933e-07}. Best is trial 25 with value: 0.9599879696698513.\u001b[0m\n",
      "\u001b[32m[I 2020-12-27 03:46:52,170]\u001b[0m Trial 26 finished with value: 0.9541735832702263 and parameters: {'alpha': 1.654337992584785e-05, 'l1_ratio': 3.200286750789357e-09}. Best is trial 25 with value: 0.9599879696698513.\u001b[0m\n",
      "\u001b[32m[I 2020-12-27 03:46:52,505]\u001b[0m Trial 27 finished with value: 0.9455607577651265 and parameters: {'alpha': 5.373567422834463e-05, 'l1_ratio': 1.5329534816358363e-10}. Best is trial 25 with value: 0.9599879696698513.\u001b[0m\n",
      "\u001b[32m[I 2020-12-27 03:46:52,889]\u001b[0m Trial 28 finished with value: 0.9587616063309459 and parameters: {'alpha': 2.440800358394897e-06, 'l1_ratio': 1.9465247281034936e-08}. Best is trial 25 with value: 0.9599879696698513.\u001b[0m\n",
      "\u001b[32m[I 2020-12-27 03:46:53,310]\u001b[0m Trial 29 finished with value: 0.9577340606305612 and parameters: {'alpha': 3.2175157625412797e-07, 'l1_ratio': 1.8664323046297058e-07}. Best is trial 25 with value: 0.9599879696698513.\u001b[0m\n",
      "\u001b[32m[I 2020-12-27 03:46:53,735]\u001b[0m Trial 30 finished with value: 0.9199773799767677 and parameters: {'alpha': 0.0007026846159873203, 'l1_ratio': 8.662831113869303e-05}. Best is trial 25 with value: 0.9599879696698513.\u001b[0m\n",
      "\u001b[32m[I 2020-12-27 03:46:54,113]\u001b[0m Trial 31 finished with value: 0.9586655984734137 and parameters: {'alpha': 1.6834615972153454e-06, 'l1_ratio': 1.4577266153776273e-08}. Best is trial 25 with value: 0.9599879696698513.\u001b[0m\n",
      "\u001b[32m[I 2020-12-27 03:46:54,503]\u001b[0m Trial 32 finished with value: 0.9498941475774796 and parameters: {'alpha': 1.3087327259579793e-06, 'l1_ratio': 2.916696440702799e-08}. Best is trial 25 with value: 0.9599879696698513.\u001b[0m\n",
      "\u001b[32m[I 2020-12-27 03:46:54,919]\u001b[0m Trial 33 finished with value: 0.9537126139150333 and parameters: {'alpha': 3.0201381034803625e-05, 'l1_ratio': 3.2385861963235013e-07}. Best is trial 25 with value: 0.9599879696698513.\u001b[0m\n",
      "\u001b[32m[I 2020-12-27 03:46:55,315]\u001b[0m Trial 34 finished with value: 0.9571017731461624 and parameters: {'alpha': 4.179034229102543e-06, 'l1_ratio': 3.5597873689149196e-09}. Best is trial 25 with value: 0.9599879696698513.\u001b[0m\n",
      "\u001b[32m[I 2020-12-27 03:46:55,775]\u001b[0m Trial 35 finished with value: 0.9533192731708543 and parameters: {'alpha': 2.0013081775550175e-07, 'l1_ratio': 2.182506119801641e-06}. Best is trial 25 with value: 0.9599879696698513.\u001b[0m\n",
      "\u001b[32m[I 2020-12-27 03:46:56,245]\u001b[0m Trial 36 finished with value: 0.9445910615228542 and parameters: {'alpha': 1.1506041814421913e-08, 'l1_ratio': 4.24853602034125e-10}. Best is trial 25 with value: 0.9599879696698513.\u001b[0m\n"
     ]
    },
    {
     "name": "stderr",
     "output_type": "stream",
     "text": [
      "\u001b[32m[I 2020-12-27 03:46:56,689]\u001b[0m Trial 37 finished with value: 0.9491310051638246 and parameters: {'alpha': 1.1391849458135147e-07, 'l1_ratio': 2.0019582300922656e-05}. Best is trial 25 with value: 0.9599879696698513.\u001b[0m\n",
      "\u001b[32m[I 2020-12-27 03:46:57,203]\u001b[0m Trial 38 finished with value: 0.9588662861082857 and parameters: {'alpha': 1.1408618913238915e-06, 'l1_ratio': 3.976882475880406e-08}. Best is trial 25 with value: 0.9599879696698513.\u001b[0m\n",
      "\u001b[32m[I 2020-12-27 03:46:57,715]\u001b[0m Trial 39 finished with value: 0.9507077534962016 and parameters: {'alpha': 1.5346578588374277e-08, 'l1_ratio': 9.28294749357772e-06}. Best is trial 25 with value: 0.9599879696698513.\u001b[0m\n",
      "\u001b[32m[I 2020-12-27 03:46:58,085]\u001b[0m Trial 40 finished with value: 0.9514758125735872 and parameters: {'alpha': 5.115264599959507e-07, 'l1_ratio': 0.007197900814424878}. Best is trial 25 with value: 0.9599879696698513.\u001b[0m\n",
      "\u001b[32m[I 2020-12-27 03:46:58,491]\u001b[0m Trial 41 finished with value: 0.9533274436317049 and parameters: {'alpha': 1.7317264815106595e-06, 'l1_ratio': 4.7889869554082905e-08}. Best is trial 25 with value: 0.9599879696698513.\u001b[0m\n",
      "\u001b[32m[I 2020-12-27 03:46:58,825]\u001b[0m Trial 42 finished with value: 0.9529746421314343 and parameters: {'alpha': 9.793112069944554e-06, 'l1_ratio': 1.608499117954259e-07}. Best is trial 25 with value: 0.9599879696698513.\u001b[0m\n",
      "\u001b[32m[I 2020-12-27 03:46:59,353]\u001b[0m Trial 43 finished with value: 0.9472185405873237 and parameters: {'alpha': 0.00010462869473313569, 'l1_ratio': 1.6579784971609857e-09}. Best is trial 25 with value: 0.9599879696698513.\u001b[0m\n",
      "\u001b[32m[I 2020-12-27 03:46:59,922]\u001b[0m Trial 44 finished with value: 0.9550836907797271 and parameters: {'alpha': 7.216491669503801e-07, 'l1_ratio': 5.932156728620731e-10}. Best is trial 25 with value: 0.9599879696698513.\u001b[0m\n",
      "\u001b[32m[I 2020-12-27 03:47:00,410]\u001b[0m Trial 45 finished with value: 0.9570676489053578 and parameters: {'alpha': 3.694220020787361e-06, 'l1_ratio': 1.0338948836935293e-06}. Best is trial 25 with value: 0.9599879696698513.\u001b[0m\n",
      "\u001b[32m[I 2020-12-27 03:47:00,941]\u001b[0m Trial 46 finished with value: 0.9468637888437357 and parameters: {'alpha': 3.8771786632875155e-08, 'l1_ratio': 6.671069997243072e-09}. Best is trial 25 with value: 0.9599879696698513.\u001b[0m\n",
      "\u001b[32m[I 2020-12-27 03:47:01,308]\u001b[0m Trial 47 finished with value: 0.957309592411862 and parameters: {'alpha': 1.6811612173940553e-05, 'l1_ratio': 3.755569029572958e-08}. Best is trial 25 with value: 0.9599879696698513.\u001b[0m\n",
      "\u001b[32m[I 2020-12-27 03:47:01,780]\u001b[0m Trial 48 finished with value: 0.9610001138923379 and parameters: {'alpha': 3.299496696035559e-07, 'l1_ratio': 1.296760729423429e-07}. Best is trial 48 with value: 0.9610001138923379.\u001b[0m\n",
      "\u001b[32m[I 2020-12-27 03:47:02,234]\u001b[0m Trial 49 finished with value: 0.9522139613201139 and parameters: {'alpha': 7.410261905422569e-08, 'l1_ratio': 5.361847130758668e-06}. Best is trial 48 with value: 0.9610001138923379.\u001b[0m\n",
      "\u001b[32m[I 2020-12-27 03:47:02,699]\u001b[0m Trial 50 finished with value: 0.9388574552855233 and parameters: {'alpha': 1.0707575308404399e-08, 'l1_ratio': 1.3164498062011472e-07}. Best is trial 48 with value: 0.9610001138923379.\u001b[0m\n",
      "\u001b[32m[I 2020-12-27 03:47:03,239]\u001b[0m Trial 51 finished with value: 0.9565919131219631 and parameters: {'alpha': 4.173573677677371e-07, 'l1_ratio': 2.8643309701974528e-08}. Best is trial 48 with value: 0.9610001138923379.\u001b[0m\n",
      "\u001b[32m[I 2020-12-27 03:47:03,642]\u001b[0m Trial 52 finished with value: 0.9541788608327081 and parameters: {'alpha': 7.451914388533205e-06, 'l1_ratio': 1.5488425346038318e-06}. Best is trial 48 with value: 0.9610001138923379.\u001b[0m\n",
      "\u001b[32m[I 2020-12-27 03:47:04,119]\u001b[0m Trial 53 finished with value: 0.959348776594006 and parameters: {'alpha': 1.1888501443571285e-06, 'l1_ratio': 3.854372924974436e-07}. Best is trial 48 with value: 0.9610001138923379.\u001b[0m\n",
      "\u001b[32m[I 2020-12-27 03:47:04,575]\u001b[0m Trial 54 finished with value: 0.9572755969899096 and parameters: {'alpha': 8.99730633456204e-07, 'l1_ratio': 3.7659182094867346e-07}. Best is trial 48 with value: 0.9610001138923379.\u001b[0m\n",
      "\u001b[32m[I 2020-12-27 03:47:05,223]\u001b[0m Trial 55 finished with value: 0.9517789681886968 and parameters: {'alpha': 2.48986582304069e-07, 'l1_ratio': 8.391016248953946e-08}. Best is trial 48 with value: 0.9610001138923379.\u001b[0m\n",
      "\u001b[32m[I 2020-12-27 03:47:05,919]\u001b[0m Trial 56 finished with value: 0.9533035963757988 and parameters: {'alpha': 4.625264374418206e-10, 'l1_ratio': 0.00022235853695989642}. Best is trial 48 with value: 0.9610001138923379.\u001b[0m\n",
      "\u001b[32m[I 2020-12-27 03:47:06,406]\u001b[0m Trial 57 finished with value: 0.9421562876302867 and parameters: {'alpha': 1.4930191538322833e-09, 'l1_ratio': 2.165792848100674e-05}. Best is trial 48 with value: 0.9610001138923379.\u001b[0m\n",
      "\u001b[32m[I 2020-12-27 03:47:07,054]\u001b[0m Trial 58 finished with value: 0.9544013273442771 and parameters: {'alpha': 8.229307512633685e-08, 'l1_ratio': 9.126508648783802e-07}. Best is trial 48 with value: 0.9610001138923379.\u001b[0m\n",
      "\u001b[32m[I 2020-12-27 03:47:07,484]\u001b[0m Trial 59 finished with value: 0.9554211341671459 and parameters: {'alpha': 2.176097165820381e-05, 'l1_ratio': 6.788275460522551e-09}. Best is trial 48 with value: 0.9610001138923379.\u001b[0m\n",
      "\u001b[32m[I 2020-12-27 03:47:07,875]\u001b[0m Trial 60 finished with value: 0.9609440778074555 and parameters: {'alpha': 6.415958186930209e-06, 'l1_ratio': 3.541803259049463e-07}. Best is trial 48 with value: 0.9610001138923379.\u001b[0m\n",
      "\u001b[32m[I 2020-12-27 03:47:08,216]\u001b[0m Trial 61 finished with value: 0.9580164378796603 and parameters: {'alpha': 5.865858018502356e-06, 'l1_ratio': 2.514798237081523e-07}. Best is trial 48 with value: 0.9610001138923379.\u001b[0m\n",
      "\u001b[32m[I 2020-12-27 03:47:08,591]\u001b[0m Trial 62 finished with value: 0.9550287729845834 and parameters: {'alpha': 2.4836037103061337e-06, 'l1_ratio': 1.0121586182377278e-07}. Best is trial 48 with value: 0.9610001138923379.\u001b[0m\n",
      "\u001b[32m[I 2020-12-27 03:47:09,032]\u001b[0m Trial 63 finished with value: 0.9629312452339016 and parameters: {'alpha': 1.0167771373215455e-06, 'l1_ratio': 3.0315816476528302e-06}. Best is trial 63 with value: 0.9629312452339016.\u001b[0m\n",
      "\u001b[32m[I 2020-12-27 03:47:09,478]\u001b[0m Trial 64 finished with value: 0.9503562389402475 and parameters: {'alpha': 4.28143841076885e-05, 'l1_ratio': 5.539016231891423e-06}. Best is trial 63 with value: 0.9629312452339016.\u001b[0m\n",
      "\u001b[32m[I 2020-12-27 03:47:09,927]\u001b[0m Trial 65 finished with value: 0.9591230315527581 and parameters: {'alpha': 1.3482179530333398e-05, 'l1_ratio': 2.7871906319533603e-06}. Best is trial 63 with value: 0.9629312452339016.\u001b[0m\n",
      "\u001b[32m[I 2020-12-27 03:47:10,358]\u001b[0m Trial 66 finished with value: 0.9560079427787787 and parameters: {'alpha': 9.625320116915259e-06, 'l1_ratio': 7.150944918558235e-07}. Best is trial 63 with value: 0.9629312452339016.\u001b[0m\n",
      "\u001b[32m[I 2020-12-27 03:47:10,809]\u001b[0m Trial 67 finished with value: 0.9585224404709477 and parameters: {'alpha': 5.37163749498938e-07, 'l1_ratio': 3.5258001140009563e-06}. Best is trial 63 with value: 0.9629312452339016.\u001b[0m\n",
      "\u001b[32m[I 2020-12-27 03:47:11,162]\u001b[0m Trial 68 finished with value: 0.9458958277030032 and parameters: {'alpha': 8.67525919181914e-05, 'l1_ratio': 2.2943229617396605e-06}. Best is trial 63 with value: 0.9629312452339016.\u001b[0m\n",
      "\u001b[32m[I 2020-12-27 03:47:11,592]\u001b[0m Trial 69 finished with value: 0.9270639502635086 and parameters: {'alpha': 0.00045190828535630244, 'l1_ratio': 1.0785871103037597e-05}. Best is trial 63 with value: 0.9629312452339016.\u001b[0m\n",
      "\u001b[32m[I 2020-12-27 03:47:12,001]\u001b[0m Trial 70 finished with value: 0.9613906101102899 and parameters: {'alpha': 2.142218579005712e-06, 'l1_ratio': 5.033168316700071e-07}. Best is trial 63 with value: 0.9629312452339016.\u001b[0m\n",
      "\u001b[32m[I 2020-12-27 03:47:12,545]\u001b[0m Trial 71 finished with value: 0.9605484320161413 and parameters: {'alpha': 2.086226838637349e-06, 'l1_ratio': 3.663168121717292e-07}. Best is trial 63 with value: 0.9629312452339016.\u001b[0m\n",
      "\u001b[32m[I 2020-12-27 03:47:12,995]\u001b[0m Trial 72 finished with value: 0.9571017731461624 and parameters: {'alpha': 2.062089502709374e-06, 'l1_ratio': 3.622389511140409e-07}. Best is trial 63 with value: 0.9629312452339016.\u001b[0m\n",
      "\u001b[32m[I 2020-12-27 03:47:13,400]\u001b[0m Trial 73 finished with value: 0.9571017731461624 and parameters: {'alpha': 4.52085443178868e-06, 'l1_ratio': 6.650849257601841e-07}. Best is trial 63 with value: 0.9629312452339016.\u001b[0m\n"
     ]
    },
    {
     "name": "stderr",
     "output_type": "stream",
     "text": [
      "\u001b[32m[I 2020-12-27 03:47:13,827]\u001b[0m Trial 74 finished with value: 0.9623937443347685 and parameters: {'alpha': 9.501312727911903e-07, 'l1_ratio': 1.9053080237051481e-07}. Best is trial 63 with value: 0.9629312452339016.\u001b[0m\n",
      "\u001b[32m[I 2020-12-27 03:47:14,233]\u001b[0m Trial 75 finished with value: 0.9539678942601382 and parameters: {'alpha': 9.137989872931339e-07, 'l1_ratio': 1.9134007107048416e-07}. Best is trial 63 with value: 0.9629312452339016.\u001b[0m\n",
      "\u001b[32m[I 2020-12-27 03:47:14,737]\u001b[0m Trial 76 finished with value: 0.9516201485665634 and parameters: {'alpha': 2.735275544803073e-07, 'l1_ratio': 1.3375376667423002e-06}. Best is trial 63 with value: 0.9629312452339016.\u001b[0m\n",
      "\u001b[32m[I 2020-12-27 03:47:15,265]\u001b[0m Trial 77 finished with value: 0.9550429229234124 and parameters: {'alpha': 1.610172031761822e-07, 'l1_ratio': 3.9110062212722565e-07}. Best is trial 63 with value: 0.9629312452339016.\u001b[0m\n",
      "\u001b[32m[I 2020-12-27 03:47:15,659]\u001b[0m Trial 78 finished with value: 0.9640866933254993 and parameters: {'alpha': 1.4452207308273148e-06, 'l1_ratio': 6.473920632743332e-08}. Best is trial 78 with value: 0.9640866933254993.\u001b[0m\n",
      "\u001b[32m[I 2020-12-27 03:47:16,085]\u001b[0m Trial 79 finished with value: 0.9570471884468125 and parameters: {'alpha': 2.7717516691688376e-06, 'l1_ratio': 1.2190469127598377e-07}. Best is trial 78 with value: 0.9640866933254993.\u001b[0m\n",
      "\u001b[32m[I 2020-12-27 03:47:16,523]\u001b[0m Trial 80 finished with value: 0.959394699075108 and parameters: {'alpha': 5.511982561961096e-07, 'l1_ratio': 5.022286626623556e-08}. Best is trial 78 with value: 0.9640866933254993.\u001b[0m\n",
      "\u001b[32m[I 2020-12-27 03:47:17,018]\u001b[0m Trial 81 finished with value: 0.9634762111896163 and parameters: {'alpha': 6.384619920824634e-07, 'l1_ratio': 6.407248412990258e-08}. Best is trial 78 with value: 0.9640866933254993.\u001b[0m\n",
      "\u001b[32m[I 2020-12-27 03:47:17,424]\u001b[0m Trial 82 finished with value: 0.9583793757134367 and parameters: {'alpha': 1.3720661295630281e-06, 'l1_ratio': 2.013005139639524e-08}. Best is trial 78 with value: 0.9640866933254993.\u001b[0m\n",
      "\u001b[32m[I 2020-12-27 03:47:17,916]\u001b[0m Trial 83 finished with value: 0.9573228007004838 and parameters: {'alpha': 3.574414321400258e-07, 'l1_ratio': 1.2405576924865572e-08}. Best is trial 78 with value: 0.9640866933254993.\u001b[0m\n",
      "\u001b[32m[I 2020-12-27 03:47:18,402]\u001b[0m Trial 84 finished with value: 0.9549332933802711 and parameters: {'alpha': 1.325075879079103e-07, 'l1_ratio': 8.30104789099083e-08}. Best is trial 78 with value: 0.9640866933254993.\u001b[0m\n",
      "\u001b[32m[I 2020-12-27 03:47:18,908]\u001b[0m Trial 85 finished with value: 0.95807506545562 and parameters: {'alpha': 7.502876456866414e-07, 'l1_ratio': 5.567866786617462e-08}. Best is trial 78 with value: 0.9640866933254993.\u001b[0m\n",
      "\u001b[32m[I 2020-12-27 03:47:19,305]\u001b[0m Trial 86 finished with value: 0.958755648036572 and parameters: {'alpha': 1.9795613375424974e-06, 'l1_ratio': 2.552528958137083e-07}. Best is trial 78 with value: 0.9640866933254993.\u001b[0m\n",
      "\u001b[32m[I 2020-12-27 03:47:19,690]\u001b[0m Trial 87 finished with value: 0.9604402118303802 and parameters: {'alpha': 3.4007461941586183e-06, 'l1_ratio': 1.6795154604054054e-06}. Best is trial 78 with value: 0.9640866933254993.\u001b[0m\n",
      "\u001b[32m[I 2020-12-27 03:47:20,070]\u001b[0m Trial 88 finished with value: 0.9530429133360224 and parameters: {'alpha': 6.192750283109143e-06, 'l1_ratio': 1.6217260951294118e-06}. Best is trial 78 with value: 0.9640866933254993.\u001b[0m\n",
      "\u001b[32m[I 2020-12-27 03:47:20,459]\u001b[0m Trial 89 finished with value: 0.9578570459917108 and parameters: {'alpha': 3.2582933149371474e-06, 'l1_ratio': 3.2418796049847155e-05}. Best is trial 78 with value: 0.9640866933254993.\u001b[0m\n",
      "\u001b[32m[I 2020-12-27 03:47:20,887]\u001b[0m Trial 90 finished with value: 0.9583999201233043 and parameters: {'alpha': 1.6145554590685161e-06, 'l1_ratio': 6.857551457556743e-06}. Best is trial 78 with value: 0.9640866933254993.\u001b[0m\n",
      "\u001b[32m[I 2020-12-27 03:47:21,363]\u001b[0m Trial 91 finished with value: 0.9644819934909046 and parameters: {'alpha': 6.904315505386966e-07, 'l1_ratio': 5.716579147512323e-07}. Best is trial 91 with value: 0.9644819934909046.\u001b[0m\n",
      "\u001b[32m[I 2020-12-27 03:47:21,790]\u001b[0m Trial 92 finished with value: 0.957402588640691 and parameters: {'alpha': 7.713720710006448e-07, 'l1_ratio': 7.066426742089479e-07}. Best is trial 91 with value: 0.9644819934909046.\u001b[0m\n",
      "\u001b[32m[I 2020-12-27 03:47:22,249]\u001b[0m Trial 93 finished with value: 0.9518217485930874 and parameters: {'alpha': 3.998630536794524e-07, 'l1_ratio': 1.4385248577333075e-06}. Best is trial 91 with value: 0.9644819934909046.\u001b[0m\n",
      "\u001b[32m[I 2020-12-27 03:47:22,732]\u001b[0m Trial 94 finished with value: 0.9584494935902926 and parameters: {'alpha': 6.155919611352778e-07, 'l1_ratio': 1.1763153703488735e-07}. Best is trial 91 with value: 0.9644819934909046.\u001b[0m\n",
      "\u001b[32m[I 2020-12-27 03:47:23,347]\u001b[0m Trial 95 finished with value: 0.9626175344438028 and parameters: {'alpha': 2.2963127253771479e-07, 'l1_ratio': 1.997809610091487e-07}. Best is trial 91 with value: 0.9644819934909046.\u001b[0m\n",
      "\u001b[32m[I 2020-12-27 03:47:23,996]\u001b[0m Trial 96 finished with value: 0.9572291855896066 and parameters: {'alpha': 2.024242091252291e-07, 'l1_ratio': 1.76884128790014e-07}. Best is trial 91 with value: 0.9644819934909046.\u001b[0m\n",
      "\u001b[32m[I 2020-12-27 03:47:24,527]\u001b[0m Trial 97 finished with value: 0.9453351469718392 and parameters: {'alpha': 2.632553173479667e-08, 'l1_ratio': 2.568750246835486e-08}. Best is trial 91 with value: 0.9644819934909046.\u001b[0m\n",
      "\u001b[32m[I 2020-12-27 03:47:25,140]\u001b[0m Trial 98 finished with value: 0.9516510570271985 and parameters: {'alpha': 4.9934408194757194e-08, 'l1_ratio': 7.642242225808427e-08}. Best is trial 91 with value: 0.9644819934909046.\u001b[0m\n",
      "\u001b[32m[I 2020-12-27 03:47:25,692]\u001b[0m Trial 99 finished with value: 0.9530324128735062 and parameters: {'alpha': 3.0141329869119344e-07, 'l1_ratio': 2.2311470012096146e-07}. Best is trial 91 with value: 0.9644819934909046.\u001b[0m\n",
      "\u001b[32m[I 2020-12-27 03:47:26,281]\u001b[0m Trial 100 finished with value: 0.944201646396276 and parameters: {'alpha': 1.1093106300956899e-07, 'l1_ratio': 6.573592643712974e-07}. Best is trial 91 with value: 0.9644819934909046.\u001b[0m\n",
      "\u001b[32m[I 2020-12-27 03:47:26,797]\u001b[0m Trial 101 finished with value: 0.9594761685385165 and parameters: {'alpha': 1.251937966449282e-06, 'l1_ratio': 1.1476300576518314e-08}. Best is trial 91 with value: 0.9644819934909046.\u001b[0m\n",
      "\u001b[32m[I 2020-12-27 03:47:27,327]\u001b[0m Trial 102 finished with value: 0.9598052888771309 and parameters: {'alpha': 1.0303693346528412e-06, 'l1_ratio': 9.83197678759043e-07}. Best is trial 91 with value: 0.9644819934909046.\u001b[0m\n",
      "\u001b[32m[I 2020-12-27 03:47:27,768]\u001b[0m Trial 103 finished with value: 0.9573418553328875 and parameters: {'alpha': 8.636384669702656e-06, 'l1_ratio': 3.9593944835553233e-07}. Best is trial 91 with value: 0.9644819934909046.\u001b[0m\n",
      "\u001b[32m[I 2020-12-27 03:47:28,275]\u001b[0m Trial 104 finished with value: 0.9604801829111689 and parameters: {'alpha': 4.068395670742983e-06, 'l1_ratio': 1.5255986860888853e-07}. Best is trial 91 with value: 0.9644819934909046.\u001b[0m\n",
      "\u001b[32m[I 2020-12-27 03:47:28,762]\u001b[0m Trial 105 finished with value: 0.9620108992325539 and parameters: {'alpha': 2.2912547343658436e-06, 'l1_ratio': 4.1568781669137353e-08}. Best is trial 91 with value: 0.9644819934909046.\u001b[0m\n",
      "\u001b[32m[I 2020-12-27 03:47:29,240]\u001b[0m Trial 106 finished with value: 0.9618115522389554 and parameters: {'alpha': 1.92282112359118e-06, 'l1_ratio': 5.3245411180827274e-08}. Best is trial 91 with value: 0.9644819934909046.\u001b[0m\n",
      "\u001b[32m[I 2020-12-27 03:47:29,681]\u001b[0m Trial 107 finished with value: 0.9578334936543046 and parameters: {'alpha': 5.803916949966512e-07, 'l1_ratio': 4.9515507097180576e-08}. Best is trial 91 with value: 0.9644819934909046.\u001b[0m\n",
      "\u001b[32m[I 2020-12-27 03:47:30,071]\u001b[0m Trial 108 finished with value: 0.9535083782396244 and parameters: {'alpha': 1.1896592488927435e-06, 'l1_ratio': 3.45454547985752e-08}. Best is trial 91 with value: 0.9644819934909046.\u001b[0m\n",
      "\u001b[32m[I 2020-12-27 03:47:30,530]\u001b[0m Trial 109 finished with value: 0.9502468549390843 and parameters: {'alpha': 4.0796161462549004e-07, 'l1_ratio': 7.712793217807325e-08}. Best is trial 91 with value: 0.9644819934909046.\u001b[0m\n",
      "\u001b[32m[I 2020-12-27 03:47:30,989]\u001b[0m Trial 110 finished with value: 0.951285388015275 and parameters: {'alpha': 2.3729629391780937e-07, 'l1_ratio': 1.9251011301480412e-08}. Best is trial 91 with value: 0.9644819934909046.\u001b[0m\n"
     ]
    },
    {
     "name": "stderr",
     "output_type": "stream",
     "text": [
      "\u001b[32m[I 2020-12-27 03:47:31,406]\u001b[0m Trial 111 finished with value: 0.9566453414177682 and parameters: {'alpha': 1.828987594858314e-06, 'l1_ratio': 2.1655133653305747e-07}. Best is trial 91 with value: 0.9644819934909046.\u001b[0m\n",
      "\u001b[32m[I 2020-12-27 03:47:31,887]\u001b[0m Trial 112 finished with value: 0.9653795099535228 and parameters: {'alpha': 2.7803637602534817e-06, 'l1_ratio': 4.739993378772792e-07}. Best is trial 112 with value: 0.9653795099535228.\u001b[0m\n",
      "\u001b[32m[I 2020-12-27 03:47:32,289]\u001b[0m Trial 113 finished with value: 0.9537395994831392 and parameters: {'alpha': 2.8164616990266004e-06, 'l1_ratio': 1.0761559099267666e-07}. Best is trial 112 with value: 0.9653795099535228.\u001b[0m\n",
      "\u001b[32m[I 2020-12-27 03:47:32,634]\u001b[0m Trial 114 finished with value: 0.9560079427787787 and parameters: {'alpha': 1.2781865311744027e-05, 'l1_ratio': 6.082589751582932e-07}. Best is trial 112 with value: 0.9653795099535228.\u001b[0m\n",
      "\u001b[32m[I 2020-12-27 03:47:32,982]\u001b[0m Trial 115 finished with value: 0.9541785293697226 and parameters: {'alpha': 6.797673849783735e-06, 'l1_ratio': 2.7365224105133644e-07}. Best is trial 112 with value: 0.9653795099535228.\u001b[0m\n",
      "\u001b[32m[I 2020-12-27 03:47:33,433]\u001b[0m Trial 116 finished with value: 0.9573106648238545 and parameters: {'alpha': 5.061109690308461e-06, 'l1_ratio': 9.732276198088177e-09}. Best is trial 112 with value: 0.9653795099535228.\u001b[0m\n",
      "\u001b[32m[I 2020-12-27 03:47:33,815]\u001b[0m Trial 117 finished with value: 0.9552536101734632 and parameters: {'alpha': 8.996552609869785e-07, 'l1_ratio': 4.4432800138958216e-09}. Best is trial 112 with value: 0.9653795099535228.\u001b[0m\n",
      "\u001b[32m[I 2020-12-27 03:47:34,201]\u001b[0m Trial 118 finished with value: 0.9573418553328875 and parameters: {'alpha': 2.2322016066442385e-06, 'l1_ratio': 6.06062660284916e-08}. Best is trial 112 with value: 0.9653795099535228.\u001b[0m\n",
      "\u001b[32m[I 2020-12-27 03:47:34,652]\u001b[0m Trial 119 finished with value: 0.95707831865926 and parameters: {'alpha': 4.213361581116094e-07, 'l1_ratio': 3.1780084939762636e-06}. Best is trial 112 with value: 0.9653795099535228.\u001b[0m\n",
      "\u001b[32m[I 2020-12-27 03:47:35,216]\u001b[0m Trial 120 finished with value: 0.9566959197799321 and parameters: {'alpha': 1.475613731852548e-06, 'l1_ratio': 3.232109838305501e-08}. Best is trial 112 with value: 0.9653795099535228.\u001b[0m\n",
      "\u001b[32m[I 2020-12-27 03:47:35,704]\u001b[0m Trial 121 finished with value: 0.9588261364034317 and parameters: {'alpha': 2.2210685304015353e-06, 'l1_ratio': 4.2935159573049723e-07}. Best is trial 112 with value: 0.9653795099535228.\u001b[0m\n",
      "\u001b[32m[I 2020-12-27 03:47:36,107]\u001b[0m Trial 122 finished with value: 0.9550228136440357 and parameters: {'alpha': 8.919474149177241e-07, 'l1_ratio': 1.218660598333584e-07}. Best is trial 112 with value: 0.9653795099535228.\u001b[0m\n",
      "\u001b[32m[I 2020-12-27 03:47:36,529]\u001b[0m Trial 123 finished with value: 0.9587879227197563 and parameters: {'alpha': 5.878050185484639e-07, 'l1_ratio': 2.8034319011324477e-07}. Best is trial 112 with value: 0.9653795099535228.\u001b[0m\n",
      "\u001b[32m[I 2020-12-27 03:47:36,910]\u001b[0m Trial 124 finished with value: 0.9540580773750906 and parameters: {'alpha': 1.5474840733040418e-06, 'l1_ratio': 1.0487123229405748e-06}. Best is trial 112 with value: 0.9653795099535228.\u001b[0m\n",
      "\u001b[32m[I 2020-12-27 03:47:37,307]\u001b[0m Trial 125 finished with value: 0.9558103627973019 and parameters: {'alpha': 3.618197552086466e-06, 'l1_ratio': 1.7852265450850112e-07}. Best is trial 112 with value: 0.9653795099535228.\u001b[0m\n",
      "\u001b[32m[I 2020-12-27 03:47:37,652]\u001b[0m Trial 126 finished with value: 0.9508500481068478 and parameters: {'alpha': 2.7189117937231592e-05, 'l1_ratio': 5.193850589347457e-07}. Best is trial 112 with value: 0.9653795099535228.\u001b[0m\n",
      "\u001b[32m[I 2020-12-27 03:47:38,017]\u001b[0m Trial 127 finished with value: 0.9591557768446722 and parameters: {'alpha': 2.574256706143566e-06, 'l1_ratio': 5.161102130856654e-08}. Best is trial 112 with value: 0.9653795099535228.\u001b[0m\n",
      "\u001b[32m[I 2020-12-27 03:47:38,435]\u001b[0m Trial 128 finished with value: 0.949390013356622 and parameters: {'alpha': 1.574554065458918e-07, 'l1_ratio': 0.1789074224450776}. Best is trial 112 with value: 0.9653795099535228.\u001b[0m\n",
      "\u001b[32m[I 2020-12-27 03:47:38,866]\u001b[0m Trial 129 finished with value: 0.9439036125152701 and parameters: {'alpha': 3.305525656109024e-07, 'l1_ratio': 7.061268679261206e-08}. Best is trial 112 with value: 0.9653795099535228.\u001b[0m\n",
      "\u001b[32m[I 2020-12-27 03:47:39,239]\u001b[0m Trial 130 finished with value: 0.9591917723796934 and parameters: {'alpha': 4.837745606089544e-06, 'l1_ratio': 8.432022495255214e-07}. Best is trial 112 with value: 0.9653795099535228.\u001b[0m\n",
      "\u001b[32m[I 2020-12-27 03:47:39,595]\u001b[0m Trial 131 finished with value: 0.9581184881737828 and parameters: {'alpha': 4.0206157195595034e-06, 'l1_ratio': 1.4704316526896845e-07}. Best is trial 112 with value: 0.9653795099535228.\u001b[0m\n",
      "\u001b[32m[I 2020-12-27 03:47:40,089]\u001b[0m Trial 132 finished with value: 0.9592782137230252 and parameters: {'alpha': 1.0570482240863324e-06, 'l1_ratio': 1.6898633389491637e-07}. Best is trial 112 with value: 0.9653795099535228.\u001b[0m\n",
      "\u001b[32m[I 2020-12-27 03:47:40,569]\u001b[0m Trial 133 finished with value: 0.9573106648238545 and parameters: {'alpha': 8.960151837657675e-06, 'l1_ratio': 2.380247637190775e-08}. Best is trial 112 with value: 0.9653795099535228.\u001b[0m\n",
      "\u001b[32m[I 2020-12-27 03:47:41,033]\u001b[0m Trial 134 finished with value: 0.9546338597750142 and parameters: {'alpha': 6.98714871622838e-07, 'l1_ratio': 3.074715124885926e-07}. Best is trial 112 with value: 0.9653795099535228.\u001b[0m\n",
      "\u001b[32m[I 2020-12-27 03:47:41,547]\u001b[0m Trial 135 finished with value: 0.9552626066578627 and parameters: {'alpha': 1.8110407476537377e-06, 'l1_ratio': 9.989745882144602e-08}. Best is trial 112 with value: 0.9653795099535228.\u001b[0m\n",
      "\u001b[32m[I 2020-12-27 03:47:41,979]\u001b[0m Trial 136 finished with value: 0.9583567943751627 and parameters: {'alpha': 2.8138949259676127e-06, 'l1_ratio': 2.3409990043361153e-06}. Best is trial 112 with value: 0.9653795099535228.\u001b[0m\n",
      "\u001b[32m[I 2020-12-27 03:47:42,465]\u001b[0m Trial 137 finished with value: 0.9586259588556102 and parameters: {'alpha': 6.4204172048175415e-06, 'l1_ratio': 4.984902701302981e-07}. Best is trial 112 with value: 0.9653795099535228.\u001b[0m\n",
      "\u001b[32m[I 2020-12-27 03:47:43,010]\u001b[0m Trial 138 finished with value: 0.9623361541738937 and parameters: {'alpha': 1.4558389701645031e-06, 'l1_ratio': 1.4781549443942782e-07}. Best is trial 112 with value: 0.9653795099535228.\u001b[0m\n",
      "\u001b[32m[I 2020-12-27 03:47:43,567]\u001b[0m Trial 139 finished with value: 0.9618568465646066 and parameters: {'alpha': 1.2224121026985885e-06, 'l1_ratio': 4.1235455873748976e-08}. Best is trial 112 with value: 0.9653795099535228.\u001b[0m\n",
      "\u001b[32m[I 2020-12-27 03:47:44,140]\u001b[0m Trial 140 finished with value: 0.9521427026769875 and parameters: {'alpha': 2.4034378879347667e-07, 'l1_ratio': 3.8567300610211734e-08}. Best is trial 112 with value: 0.9653795099535228.\u001b[0m\n",
      "\u001b[32m[I 2020-12-27 03:47:44,689]\u001b[0m Trial 141 finished with value: 0.9553363976635213 and parameters: {'alpha': 1.1203744510071696e-06, 'l1_ratio': 1.752976311909913e-08}. Best is trial 112 with value: 0.9653795099535228.\u001b[0m\n",
      "\u001b[32m[I 2020-12-27 03:47:45,220]\u001b[0m Trial 142 finished with value: 0.953182595787911 and parameters: {'alpha': 1.4604772223345812e-06, 'l1_ratio': 8.454882582602207e-08}. Best is trial 112 with value: 0.9653795099535228.\u001b[0m\n",
      "\u001b[32m[I 2020-12-27 03:47:45,770]\u001b[0m Trial 143 finished with value: 0.9625562451513656 and parameters: {'alpha': 6.205352688496212e-07, 'l1_ratio': 2.4860305125360864e-07}. Best is trial 112 with value: 0.9653795099535228.\u001b[0m\n",
      "\u001b[32m[I 2020-12-27 03:47:46,331]\u001b[0m Trial 144 finished with value: 0.9548591909716987 and parameters: {'alpha': 5.164430635570056e-07, 'l1_ratio': 2.2952015924741353e-07}. Best is trial 112 with value: 0.9653795099535228.\u001b[0m\n",
      "\u001b[32m[I 2020-12-27 03:47:46,855]\u001b[0m Trial 145 finished with value: 0.9604827453932828 and parameters: {'alpha': 9.043905720760936e-07, 'l1_ratio': 5.0037194826376364e-08}. Best is trial 112 with value: 0.9653795099535228.\u001b[0m\n",
      "\u001b[32m[I 2020-12-27 03:47:47,354]\u001b[0m Trial 146 finished with value: 0.9543489740027936 and parameters: {'alpha': 7.003621806360817e-07, 'l1_ratio': 1.1510409398644993e-07}. Best is trial 112 with value: 0.9653795099535228.\u001b[0m\n",
      "\u001b[32m[I 2020-12-27 03:47:47,789]\u001b[0m Trial 147 finished with value: 0.9559308379514834 and parameters: {'alpha': 4.268977678985666e-07, 'l1_ratio': 2.742781268084239e-08}. Best is trial 112 with value: 0.9653795099535228.\u001b[0m\n"
     ]
    },
    {
     "name": "stderr",
     "output_type": "stream",
     "text": [
      "\u001b[32m[I 2020-12-27 03:47:48,197]\u001b[0m Trial 148 finished with value: 0.9537168642833402 and parameters: {'alpha': 2.17175902478213e-07, 'l1_ratio': 6.581254280166436e-08}. Best is trial 112 with value: 0.9653795099535228.\u001b[0m\n",
      "\u001b[32m[I 2020-12-27 03:47:48,647]\u001b[0m Trial 149 finished with value: 0.9408208157477264 and parameters: {'alpha': 8.629548674306009e-08, 'l1_ratio': 1.0302409992526122e-06}. Best is trial 112 with value: 0.9653795099535228.\u001b[0m\n",
      "\u001b[32m[I 2020-12-27 03:47:49,068]\u001b[0m Trial 150 finished with value: 0.9589040235790647 and parameters: {'alpha': 3.2095317341153773e-07, 'l1_ratio': 3.1102492395227473e-07}. Best is trial 112 with value: 0.9653795099535228.\u001b[0m\n",
      "\u001b[32m[I 2020-12-27 03:47:49,577]\u001b[0m Trial 151 finished with value: 0.9588937708666602 and parameters: {'alpha': 1.9419706699441e-06, 'l1_ratio': 5.233435614349159e-07}. Best is trial 112 with value: 0.9653795099535228.\u001b[0m\n",
      "\u001b[32m[I 2020-12-27 03:47:49,992]\u001b[0m Trial 152 finished with value: 0.9603120479663811 and parameters: {'alpha': 1.3678721256825752e-06, 'l1_ratio': 1.5703132339684127e-07}. Best is trial 112 with value: 0.9653795099535228.\u001b[0m\n",
      "\u001b[32m[I 2020-12-27 03:47:50,395]\u001b[0m Trial 153 finished with value: 0.9548984413623808 and parameters: {'alpha': 6.896901036139604e-07, 'l1_ratio': 2.913101484049115e-07}. Best is trial 112 with value: 0.9653795099535228.\u001b[0m\n",
      "\u001b[32m[I 2020-12-27 03:47:50,872]\u001b[0m Trial 154 finished with value: 0.9553066081582612 and parameters: {'alpha': 2.12468957099018e-06, 'l1_ratio': 1.9678668814229966e-07}. Best is trial 112 with value: 0.9653795099535228.\u001b[0m\n",
      "\u001b[32m[I 2020-12-27 03:47:51,269]\u001b[0m Trial 155 finished with value: 0.9576964305694844 and parameters: {'alpha': 1.0454806088385522e-06, 'l1_ratio': 3.7970011264481864e-08}. Best is trial 112 with value: 0.9653795099535228.\u001b[0m\n",
      "\u001b[32m[I 2020-12-27 03:47:51,644]\u001b[0m Trial 156 finished with value: 0.9586869553400985 and parameters: {'alpha': 3.211472620797205e-06, 'l1_ratio': 1.0433551312522622e-07}. Best is trial 112 with value: 0.9653795099535228.\u001b[0m\n",
      "\u001b[32m[I 2020-12-27 03:47:52,057]\u001b[0m Trial 157 finished with value: 0.9502958771311665 and parameters: {'alpha': 4.94071134532138e-07, 'l1_ratio': 1.6196093126609235e-06}. Best is trial 112 with value: 0.9653795099535228.\u001b[0m\n",
      "\u001b[32m[I 2020-12-27 03:47:52,442]\u001b[0m Trial 158 finished with value: 0.9584445955865023 and parameters: {'alpha': 1.5548741813805664e-06, 'l1_ratio': 4.3850301414370797e-07}. Best is trial 112 with value: 0.9653795099535228.\u001b[0m\n",
      "\u001b[32m[I 2020-12-27 03:47:52,845]\u001b[0m Trial 159 finished with value: 0.9603767063771161 and parameters: {'alpha': 7.965770135101764e-07, 'l1_ratio': 7.014941442631769e-07}. Best is trial 112 with value: 0.9653795099535228.\u001b[0m\n",
      "\u001b[32m[I 2020-12-27 03:47:53,232]\u001b[0m Trial 160 finished with value: 0.9537098525810414 and parameters: {'alpha': 2.7238651469556796e-06, 'l1_ratio': 7.573398207150804e-08}. Best is trial 112 with value: 0.9653795099535228.\u001b[0m\n",
      "\u001b[32m[I 2020-12-27 03:47:53,660]\u001b[0m Trial 161 finished with value: 0.9657451915245068 and parameters: {'alpha': 9.260119754169613e-07, 'l1_ratio': 5.2917722566577515e-08}. Best is trial 161 with value: 0.9657451915245068.\u001b[0m\n",
      "\u001b[32m[I 2020-12-27 03:47:54,073]\u001b[0m Trial 162 finished with value: 0.9629010266097191 and parameters: {'alpha': 1.2841628794609113e-06, 'l1_ratio': 1.494848161973412e-08}. Best is trial 161 with value: 0.9657451915245068.\u001b[0m\n",
      "\u001b[32m[I 2020-12-27 03:47:54,499]\u001b[0m Trial 163 finished with value: 0.9571037864576143 and parameters: {'alpha': 5.640010739499307e-07, 'l1_ratio': 1.749817322351169e-08}. Best is trial 161 with value: 0.9657451915245068.\u001b[0m\n",
      "\u001b[32m[I 2020-12-27 03:47:54,893]\u001b[0m Trial 164 finished with value: 0.956301930813503 and parameters: {'alpha': 1.1518991074107066e-06, 'l1_ratio': 1.4467359806115621e-08}. Best is trial 161 with value: 0.9657451915245068.\u001b[0m\n",
      "\u001b[32m[I 2020-12-27 03:47:55,447]\u001b[0m Trial 165 finished with value: 0.9655556313249031 and parameters: {'alpha': 3.647376651020769e-07, 'l1_ratio': 3.724502341900446e-08}. Best is trial 161 with value: 0.9657451915245068.\u001b[0m\n",
      "\u001b[32m[I 2020-12-27 03:47:56,043]\u001b[0m Trial 166 finished with value: 0.9588255767611721 and parameters: {'alpha': 3.349003541574668e-07, 'l1_ratio': 6.707408157094099e-09}. Best is trial 161 with value: 0.9657451915245068.\u001b[0m\n",
      "\u001b[32m[I 2020-12-27 03:47:56,622]\u001b[0m Trial 167 finished with value: 0.9595910763066576 and parameters: {'alpha': 1.812847734817392e-07, 'l1_ratio': 9.869932110010928e-09}. Best is trial 161 with value: 0.9657451915245068.\u001b[0m\n",
      "\u001b[32m[I 2020-12-27 03:47:57,020]\u001b[0m Trial 168 finished with value: 0.9557809693051821 and parameters: {'alpha': 7.847973922386535e-07, 'l1_ratio': 2.5746052273188348e-09}. Best is trial 161 with value: 0.9657451915245068.\u001b[0m\n",
      "\u001b[32m[I 2020-12-27 03:47:57,553]\u001b[0m Trial 169 finished with value: 0.864094993916887 and parameters: {'alpha': 0.00860991716662561, 'l1_ratio': 3.046719580781568e-08}. Best is trial 161 with value: 0.9657451915245068.\u001b[0m\n",
      "\u001b[32m[I 2020-12-27 03:47:58,163]\u001b[0m Trial 170 finished with value: 0.9488868449177625 and parameters: {'alpha': 1.2946780527139527e-07, 'l1_ratio': 4.4741732782365964e-08}. Best is trial 161 with value: 0.9657451915245068.\u001b[0m\n",
      "\u001b[32m[I 2020-12-27 03:47:58,734]\u001b[0m Trial 171 finished with value: 0.9608320858769382 and parameters: {'alpha': 4.66173251625884e-07, 'l1_ratio': 6.601429357608185e-08}. Best is trial 161 with value: 0.9657451915245068.\u001b[0m\n",
      "\u001b[32m[I 2020-12-27 03:47:59,272]\u001b[0m Trial 172 finished with value: 0.9547958919701516 and parameters: {'alpha': 1.2613939987797357e-06, 'l1_ratio': 2.348813931186062e-08}. Best is trial 161 with value: 0.9657451915245068.\u001b[0m\n",
      "\u001b[32m[I 2020-12-27 03:47:59,674]\u001b[0m Trial 173 finished with value: 0.9613063440928684 and parameters: {'alpha': 2.8730839997397604e-07, 'l1_ratio': 1.2169296292593496e-07}. Best is trial 161 with value: 0.9657451915245068.\u001b[0m\n",
      "\u001b[32m[I 2020-12-27 03:48:00,156]\u001b[0m Trial 174 finished with value: 0.955660301257033 and parameters: {'alpha': 2.716367168454744e-07, 'l1_ratio': 1.2204763636069425e-07}. Best is trial 161 with value: 0.9657451915245068.\u001b[0m\n",
      "\u001b[32m[I 2020-12-27 03:48:00,551]\u001b[0m Trial 175 finished with value: 0.958616376514548 and parameters: {'alpha': 3.6937302256060355e-07, 'l1_ratio': 5.013329383148785e-08}. Best is trial 161 with value: 0.9657451915245068.\u001b[0m\n",
      "\u001b[32m[I 2020-12-27 03:48:00,952]\u001b[0m Trial 176 finished with value: 0.9562365304309053 and parameters: {'alpha': 6.197955384862863e-07, 'l1_ratio': 8.965050476309508e-08}. Best is trial 161 with value: 0.9657451915245068.\u001b[0m\n",
      "\u001b[32m[I 2020-12-27 03:48:01,359]\u001b[0m Trial 177 finished with value: 0.962476193149286 and parameters: {'alpha': 8.620154156179852e-07, 'l1_ratio': 1.6480446905389068e-07}. Best is trial 161 with value: 0.9657451915245068.\u001b[0m\n",
      "\u001b[32m[I 2020-12-27 03:48:01,779]\u001b[0m Trial 178 finished with value: 0.9576761145529152 and parameters: {'alpha': 1.5901498503101289e-06, 'l1_ratio': 2.0654687550224358e-07}. Best is trial 161 with value: 0.9657451915245068.\u001b[0m\n",
      "\u001b[32m[I 2020-12-27 03:48:02,201]\u001b[0m Trial 179 finished with value: 0.9523506400778916 and parameters: {'alpha': 9.316661472135977e-07, 'l1_ratio': 3.021565574580983e-08}. Best is trial 161 with value: 0.9657451915245068.\u001b[0m\n",
      "\u001b[32m[I 2020-12-27 03:48:02,706]\u001b[0m Trial 180 finished with value: 0.9585285966477893 and parameters: {'alpha': 2.0509080812152418e-06, 'l1_ratio': 1.3404884133171207e-07}. Best is trial 161 with value: 0.9657451915245068.\u001b[0m\n",
      "\u001b[32m[I 2020-12-27 03:48:03,217]\u001b[0m Trial 181 finished with value: 0.960804974575618 and parameters: {'alpha': 8.289919494320346e-07, 'l1_ratio': 6.501448012355053e-08}. Best is trial 161 with value: 0.9657451915245068.\u001b[0m\n",
      "\u001b[32m[I 2020-12-27 03:48:03,769]\u001b[0m Trial 182 finished with value: 0.9519611650583824 and parameters: {'alpha': 5.25866962236174e-07, 'l1_ratio': 1.6719534511356535e-07}. Best is trial 161 with value: 0.9657451915245068.\u001b[0m\n",
      "\u001b[32m[I 2020-12-27 03:48:04,335]\u001b[0m Trial 183 finished with value: 0.9548869943830495 and parameters: {'alpha': 2.40149649824696e-07, 'l1_ratio': 4.697535577498952e-08}. Best is trial 161 with value: 0.9657451915245068.\u001b[0m\n",
      "\u001b[32m[I 2020-12-27 03:48:04,848]\u001b[0m Trial 184 finished with value: 0.9635437866663956 and parameters: {'alpha': 1.2458790848168648e-06, 'l1_ratio': 9.002176297684434e-08}. Best is trial 161 with value: 0.9657451915245068.\u001b[0m\n"
     ]
    },
    {
     "name": "stderr",
     "output_type": "stream",
     "text": [
      "\u001b[32m[I 2020-12-27 03:48:05,318]\u001b[0m Trial 185 finished with value: 0.9607200175570113 and parameters: {'alpha': 1.205368192884539e-06, 'l1_ratio': 1.404941505625587e-08}. Best is trial 161 with value: 0.9657451915245068.\u001b[0m\n",
      "\u001b[32m[I 2020-12-27 03:48:05,716]\u001b[0m Trial 186 finished with value: 0.9583882670198172 and parameters: {'alpha': 1.7166195713485288e-06, 'l1_ratio': 8.676175201552179e-08}. Best is trial 161 with value: 0.9657451915245068.\u001b[0m\n",
      "\u001b[32m[I 2020-12-27 03:48:06,158]\u001b[0m Trial 187 finished with value: 0.9570262562055761 and parameters: {'alpha': 2.7148189572559643e-06, 'l1_ratio': 2.5731608357470895e-07}. Best is trial 161 with value: 0.9657451915245068.\u001b[0m\n",
      "\u001b[32m[I 2020-12-27 03:48:06,589]\u001b[0m Trial 188 finished with value: 0.9636239131601201 and parameters: {'alpha': 1.072068171635266e-06, 'l1_ratio': 2.4388818028213604e-08}. Best is trial 161 with value: 0.9657451915245068.\u001b[0m\n",
      "\u001b[32m[I 2020-12-27 03:48:07,101]\u001b[0m Trial 189 finished with value: 0.9593664115675791 and parameters: {'alpha': 1.1675445249093074e-06, 'l1_ratio': 2.2445678924032144e-08}. Best is trial 161 with value: 0.9657451915245068.\u001b[0m\n",
      "\u001b[32m[I 2020-12-27 03:48:07,578]\u001b[0m Trial 190 finished with value: 0.9554556176429038 and parameters: {'alpha': 7.8080342779799e-07, 'l1_ratio': 9.84350559730623e-09}. Best is trial 161 with value: 0.9657451915245068.\u001b[0m\n",
      "\u001b[32m[I 2020-12-27 03:48:08,123]\u001b[0m Trial 191 finished with value: 0.9552906214490144 and parameters: {'alpha': 1.5411780400270387e-06, 'l1_ratio': 3.8762903170534745e-08}. Best is trial 161 with value: 0.9657451915245068.\u001b[0m\n",
      "\u001b[32m[I 2020-12-27 03:48:08,694]\u001b[0m Trial 192 finished with value: 0.9604542367582687 and parameters: {'alpha': 6.826552000461918e-07, 'l1_ratio': 6.403688717272605e-08}. Best is trial 161 with value: 0.9657451915245068.\u001b[0m\n",
      "\u001b[32m[I 2020-12-27 03:48:09,207]\u001b[0m Trial 193 finished with value: 0.9535290359087338 and parameters: {'alpha': 9.706806976230377e-07, 'l1_ratio': 1.1624662065869722e-07}. Best is trial 161 with value: 0.9657451915245068.\u001b[0m\n",
      "\u001b[32m[I 2020-12-27 03:48:09,703]\u001b[0m Trial 194 finished with value: 0.9567960248958052 and parameters: {'alpha': 4.01755493142777e-06, 'l1_ratio': 3.277636219227219e-08}. Best is trial 161 with value: 0.9657451915245068.\u001b[0m\n",
      "\u001b[32m[I 2020-12-27 03:48:10,177]\u001b[0m Trial 195 finished with value: 0.9563511441810211 and parameters: {'alpha': 2.1161354602262487e-06, 'l1_ratio': 1.8789622392498147e-08}. Best is trial 161 with value: 0.9657451915245068.\u001b[0m\n",
      "\u001b[32m[I 2020-12-27 03:48:10,732]\u001b[0m Trial 196 finished with value: 0.959802201890847 and parameters: {'alpha': 5.000629647627155e-07, 'l1_ratio': 2.1927202762168137e-07}. Best is trial 161 with value: 0.9657451915245068.\u001b[0m\n",
      "\u001b[32m[I 2020-12-27 03:48:11,253]\u001b[0m Trial 197 finished with value: 0.9640649170246607 and parameters: {'alpha': 1.294028935058271e-06, 'l1_ratio': 8.918952888645434e-08}. Best is trial 161 with value: 0.9657451915245068.\u001b[0m\n",
      "\u001b[32m[I 2020-12-27 03:48:11,813]\u001b[0m Trial 198 finished with value: 0.9598504013324588 and parameters: {'alpha': 1.4075428578868103e-06, 'l1_ratio': 4.7765250098765516e-08}. Best is trial 161 with value: 0.9657451915245068.\u001b[0m\n",
      "\u001b[32m[I 2020-12-27 03:48:12,397]\u001b[0m Trial 199 finished with value: 0.9588784464212942 and parameters: {'alpha': 2.924254564131592e-06, 'l1_ratio': 1.3266426850937896e-05}. Best is trial 161 with value: 0.9657451915245068.\u001b[0m\n",
      "\u001b[32m[I 2020-12-27 03:48:12,955]\u001b[0m Trial 200 finished with value: 0.9574328101538279 and parameters: {'alpha': 2.057288925830581e-06, 'l1_ratio': 8.118271130816547e-08}. Best is trial 161 with value: 0.9657451915245068.\u001b[0m\n",
      "\u001b[32m[I 2020-12-27 03:48:13,493]\u001b[0m Trial 201 finished with value: 0.9582624488602371 and parameters: {'alpha': 1.0272370922898942e-06, 'l1_ratio': 1.3439215224798734e-07}. Best is trial 161 with value: 0.9657451915245068.\u001b[0m\n",
      "\u001b[32m[I 2020-12-27 03:48:14,080]\u001b[0m Trial 202 finished with value: 0.9563203023828107 and parameters: {'alpha': 6.527161242007367e-07, 'l1_ratio': 3.7409698256235354e-07}. Best is trial 161 with value: 0.9657451915245068.\u001b[0m\n",
      "\u001b[32m[I 2020-12-27 03:48:14,554]\u001b[0m Trial 203 finished with value: 0.952017352670806 and parameters: {'alpha': 4.253098461773841e-07, 'l1_ratio': 1.7487877487373321e-07}. Best is trial 161 with value: 0.9657451915245068.\u001b[0m\n",
      "\u001b[32m[I 2020-12-27 03:48:15,069]\u001b[0m Trial 204 finished with value: 0.9604547456181807 and parameters: {'alpha': 1.2264195659738026e-06, 'l1_ratio': 8.303683172259334e-08}. Best is trial 161 with value: 0.9657451915245068.\u001b[0m\n",
      "\u001b[32m[I 2020-12-27 03:48:15,650]\u001b[0m Trial 205 finished with value: 0.9537069538531158 and parameters: {'alpha': 7.995575900031943e-07, 'l1_ratio': 3.152740082419711e-08}. Best is trial 161 with value: 0.9657451915245068.\u001b[0m\n",
      "\u001b[32m[I 2020-12-27 03:48:16,073]\u001b[0m Trial 206 finished with value: 0.9658632450008527 and parameters: {'alpha': 1.4607978473906353e-06, 'l1_ratio': 1.0959749082608772e-07}. Best is trial 206 with value: 0.9658632450008527.\u001b[0m\n",
      "\u001b[32m[I 2020-12-27 03:48:16,543]\u001b[0m Trial 207 finished with value: 0.9632914650038527 and parameters: {'alpha': 1.8774138414319442e-06, 'l1_ratio': 5.730984672950079e-08}. Best is trial 206 with value: 0.9658632450008527.\u001b[0m\n",
      "\u001b[32m[I 2020-12-27 03:48:16,987]\u001b[0m Trial 208 finished with value: 0.9568356645136085 and parameters: {'alpha': 3.438261857584651e-06, 'l1_ratio': 5.89955358783944e-08}. Best is trial 206 with value: 0.9658632450008527.\u001b[0m\n",
      "\u001b[32m[I 2020-12-27 03:48:17,521]\u001b[0m Trial 209 finished with value: 0.9563785173599244 and parameters: {'alpha': 1.5312837122754319e-06, 'l1_ratio': 2.4221119460400977e-08}. Best is trial 206 with value: 0.9658632450008527.\u001b[0m\n",
      "\u001b[32m[I 2020-12-27 03:48:18,030]\u001b[0m Trial 210 finished with value: 0.960135855000829 and parameters: {'alpha': 9.908231449827297e-07, 'l1_ratio': 4.635290005901278e-08}. Best is trial 206 with value: 0.9658632450008527.\u001b[0m\n",
      "\u001b[32m[I 2020-12-27 03:48:18,412]\u001b[0m Trial 211 finished with value: 0.9534021425587318 and parameters: {'alpha': 2.2537219000592486e-06, 'l1_ratio': 8.822668090934846e-08}. Best is trial 206 with value: 0.9658632450008527.\u001b[0m\n",
      "\u001b[32m[I 2020-12-27 03:48:18,785]\u001b[0m Trial 212 finished with value: 0.9539700573936325 and parameters: {'alpha': 1.70493083165727e-06, 'l1_ratio': 2.539365403567938e-07}. Best is trial 206 with value: 0.9658632450008527.\u001b[0m\n",
      "\u001b[32m[I 2020-12-27 03:48:19,313]\u001b[0m Trial 213 finished with value: 0.9638625342712562 and parameters: {'alpha': 1.330427925962939e-06, 'l1_ratio': 1.3623291384367771e-08}. Best is trial 206 with value: 0.9658632450008527.\u001b[0m\n",
      "\u001b[32m[I 2020-12-27 03:48:19,799]\u001b[0m Trial 214 finished with value: 0.9645567996797363 and parameters: {'alpha': 1.1049658563197075e-06, 'l1_ratio': 1.3639429470665017e-08}. Best is trial 206 with value: 0.9658632450008527.\u001b[0m\n",
      "\u001b[32m[I 2020-12-27 03:48:20,236]\u001b[0m Trial 215 finished with value: 0.9577276717332958 and parameters: {'alpha': 1.120764081563908e-06, 'l1_ratio': 6.108440371314329e-09}. Best is trial 206 with value: 0.9658632450008527.\u001b[0m\n",
      "\u001b[32m[I 2020-12-27 03:48:20,759]\u001b[0m Trial 216 finished with value: 0.9592519217310819 and parameters: {'alpha': 5.443499175091417e-07, 'l1_ratio': 1.2074755212824704e-08}. Best is trial 206 with value: 0.9658632450008527.\u001b[0m\n",
      "\u001b[32m[I 2020-12-27 03:48:21,197]\u001b[0m Trial 217 finished with value: 0.9568298010555512 and parameters: {'alpha': 8.935591650771915e-07, 'l1_ratio': 9.163439758400715e-09}. Best is trial 206 with value: 0.9658632450008527.\u001b[0m\n",
      "\u001b[32m[I 2020-12-27 03:48:21,581]\u001b[0m Trial 218 finished with value: 0.9606668556390134 and parameters: {'alpha': 1.4190654494650059e-06, 'l1_ratio': 2.1840146584957277e-08}. Best is trial 206 with value: 0.9658632450008527.\u001b[0m\n",
      "\u001b[32m[I 2020-12-27 03:48:22,054]\u001b[0m Trial 219 finished with value: 0.9591966348228377 and parameters: {'alpha': 6.905619812320519e-07, 'l1_ratio': 2.1908102157086875e-08}. Best is trial 206 with value: 0.9658632450008527.\u001b[0m\n",
      "\u001b[32m[I 2020-12-27 03:48:22,583]\u001b[0m Trial 220 finished with value: 0.9581743977731156 and parameters: {'alpha': 1.268445841233378e-06, 'l1_ratio': 4.013604026853315e-09}. Best is trial 206 with value: 0.9658632450008527.\u001b[0m\n",
      "\u001b[32m[I 2020-12-27 03:48:23,007]\u001b[0m Trial 221 finished with value: 0.9560076113157933 and parameters: {'alpha': 2.4499567900407186e-06, 'l1_ratio': 3.9132401680066535e-08}. Best is trial 206 with value: 0.9658632450008527.\u001b[0m\n"
     ]
    },
    {
     "name": "stderr",
     "output_type": "stream",
     "text": [
      "\u001b[32m[I 2020-12-27 03:48:23,548]\u001b[0m Trial 222 finished with value: 0.9554287716475566 and parameters: {'alpha': 1.8361990856105154e-06, 'l1_ratio': 1.582640671241746e-08}. Best is trial 206 with value: 0.9658632450008527.\u001b[0m\n",
      "\u001b[32m[I 2020-12-27 03:48:24,009]\u001b[0m Trial 223 finished with value: 0.9571351640243838 and parameters: {'alpha': 8.913724409664681e-07, 'l1_ratio': 3.4840570237194606e-08}. Best is trial 206 with value: 0.9658632450008527.\u001b[0m\n",
      "\u001b[32m[I 2020-12-27 03:48:24,558]\u001b[0m Trial 224 finished with value: 0.9581743977731156 and parameters: {'alpha': 1.6335199972827912e-06, 'l1_ratio': 7.452708731882525e-08}. Best is trial 206 with value: 0.9658632450008527.\u001b[0m\n",
      "\u001b[32m[I 2020-12-27 03:48:25,138]\u001b[0m Trial 225 finished with value: 0.9574649694321299 and parameters: {'alpha': 6.966230275323811e-07, 'l1_ratio': 5.312091109469128e-08}. Best is trial 206 with value: 0.9658632450008527.\u001b[0m\n",
      "\u001b[32m[I 2020-12-27 03:48:25,673]\u001b[0m Trial 226 finished with value: 0.9552385970025775 and parameters: {'alpha': 3.169449187569457e-06, 'l1_ratio': 1.3403014513120933e-07}. Best is trial 206 with value: 0.9658632450008527.\u001b[0m\n",
      "\u001b[32m[I 2020-12-27 03:48:26,268]\u001b[0m Trial 227 finished with value: 0.9586667064977649 and parameters: {'alpha': 1.0652340317570406e-06, 'l1_ratio': 1.1348014896997051e-08}. Best is trial 206 with value: 0.9658632450008527.\u001b[0m\n",
      "\u001b[32m[I 2020-12-27 03:48:26,912]\u001b[0m Trial 228 finished with value: 0.962632432783924 and parameters: {'alpha': 4.0719506351162244e-07, 'l1_ratio': 1.019634435825982e-07}. Best is trial 206 with value: 0.9658632450008527.\u001b[0m\n",
      "\u001b[32m[I 2020-12-27 03:48:27,561]\u001b[0m Trial 229 finished with value: 0.9582849928264905 and parameters: {'alpha': 4.2706194304349315e-07, 'l1_ratio': 1.5920049173715518e-07}. Best is trial 206 with value: 0.9658632450008527.\u001b[0m\n",
      "\u001b[32m[I 2020-12-27 03:48:28,143]\u001b[0m Trial 230 finished with value: 0.9614036942063673 and parameters: {'alpha': 5.604265694415135e-07, 'l1_ratio': 9.754214719746313e-08}. Best is trial 206 with value: 0.9658632450008527.\u001b[0m\n",
      "\u001b[32m[I 2020-12-27 03:48:28,685]\u001b[0m Trial 231 finished with value: 0.9647950930769328 and parameters: {'alpha': 1.1522611405562478e-06, 'l1_ratio': 6.708883902412908e-08}. Best is trial 206 with value: 0.9658632450008527.\u001b[0m\n",
      "\u001b[32m[I 2020-12-27 03:48:29,348]\u001b[0m Trial 232 finished with value: 0.9566095413395641 and parameters: {'alpha': 3.7307315190502203e-07, 'l1_ratio': 6.358363929029713e-08}. Best is trial 206 with value: 0.9658632450008527.\u001b[0m\n",
      "\u001b[32m[I 2020-12-27 03:48:29,917]\u001b[0m Trial 233 finished with value: 0.9596305412275371 and parameters: {'alpha': 7.903094551869932e-07, 'l1_ratio': 2.0286044198427676e-07}. Best is trial 206 with value: 0.9658632450008527.\u001b[0m\n",
      "\u001b[32m[I 2020-12-27 03:48:30,497]\u001b[0m Trial 234 finished with value: 0.9545080528807645 and parameters: {'alpha': 1.2287021639285661e-06, 'l1_ratio': 3.3056072457338206e-08}. Best is trial 206 with value: 0.9658632450008527.\u001b[0m\n",
      "\u001b[32m[I 2020-12-27 03:48:31,075]\u001b[0m Trial 235 finished with value: 0.9596189347968682 and parameters: {'alpha': 9.351662892417174e-07, 'l1_ratio': 1.1355064087048312e-07}. Best is trial 206 with value: 0.9658632450008527.\u001b[0m\n",
      "\u001b[32m[I 2020-12-27 03:48:31,668]\u001b[0m Trial 236 finished with value: 0.9583355789913589 and parameters: {'alpha': 5.488846221229135e-07, 'l1_ratio': 6.416395371120581e-08}. Best is trial 206 with value: 0.9658632450008527.\u001b[0m\n",
      "\u001b[32m[I 2020-12-27 03:48:32,240]\u001b[0m Trial 237 finished with value: 0.9589461668094287 and parameters: {'alpha': 1.6532284203064187e-06, 'l1_ratio': 1.848990882480032e-08}. Best is trial 206 with value: 0.9658632450008527.\u001b[0m\n",
      "\u001b[32m[I 2020-12-27 03:48:32,810]\u001b[0m Trial 238 finished with value: 0.9582057032190175 and parameters: {'alpha': 1.2764125801412572e-06, 'l1_ratio': 2.738802069164404e-07}. Best is trial 206 with value: 0.9658632450008527.\u001b[0m\n",
      "\u001b[32m[I 2020-12-27 03:48:33,366]\u001b[0m Trial 239 finished with value: 0.952878449743094 and parameters: {'alpha': 6.948498151497068e-07, 'l1_ratio': 3.771258847038925e-08}. Best is trial 206 with value: 0.9658632450008527.\u001b[0m\n",
      "\u001b[32m[I 2020-12-27 03:48:33,912]\u001b[0m Trial 240 finished with value: 0.9632933914297426 and parameters: {'alpha': 2.3781191340309433e-06, 'l1_ratio': 1.565818945662228e-07}. Best is trial 206 with value: 0.9658632450008527.\u001b[0m\n",
      "\u001b[32m[I 2020-12-27 03:48:34,551]\u001b[0m Trial 241 finished with value: 0.956835995976594 and parameters: {'alpha': 2.137503187808982e-06, 'l1_ratio': 1.0882845057527482e-07}. Best is trial 206 with value: 0.9658632450008527.\u001b[0m\n",
      "\u001b[32m[I 2020-12-27 03:48:35,102]\u001b[0m Trial 242 finished with value: 0.9581580357100461 and parameters: {'alpha': 2.6952569179224893e-06, 'l1_ratio': 1.679906242049387e-07}. Best is trial 206 with value: 0.9658632450008527.\u001b[0m\n",
      "\u001b[32m[I 2020-12-27 03:48:35,711]\u001b[0m Trial 243 finished with value: 0.9522501671268502 and parameters: {'alpha': 1.2750474237154759e-06, 'l1_ratio': 8.176626139815623e-08}. Best is trial 206 with value: 0.9658632450008527.\u001b[0m\n",
      "\u001b[32m[I 2020-12-27 03:48:36,313]\u001b[0m Trial 244 finished with value: 0.9576210164103723 and parameters: {'alpha': 9.70715096938618e-07, 'l1_ratio': 3.4260004456462354e-07}. Best is trial 206 with value: 0.9658632450008527.\u001b[0m\n",
      "\u001b[32m[I 2020-12-27 03:48:36,787]\u001b[0m Trial 245 finished with value: 0.9604402118303802 and parameters: {'alpha': 3.8365709384679705e-06, 'l1_ratio': 4.987782772625999e-08}. Best is trial 206 with value: 0.9658632450008527.\u001b[0m\n",
      "\u001b[32m[I 2020-12-27 03:48:37,394]\u001b[0m Trial 246 finished with value: 0.9613810243293417 and parameters: {'alpha': 1.8615551706805604e-06, 'l1_ratio': 1.713236665649298e-07}. Best is trial 206 with value: 0.9658632450008527.\u001b[0m\n",
      "\u001b[32m[I 2020-12-27 03:48:38,011]\u001b[0m Trial 247 finished with value: 0.9602247150213474 and parameters: {'alpha': 3.776808589429879e-07, 'l1_ratio': 1.0113134872119388e-07}. Best is trial 206 with value: 0.9658632450008527.\u001b[0m\n",
      "\u001b[32m[I 2020-12-27 03:48:38,618]\u001b[0m Trial 248 finished with value: 0.9538476952855621 and parameters: {'alpha': 6.681169433693749e-07, 'l1_ratio': 2.7485551528115723e-08}. Best is trial 206 with value: 0.9658632450008527.\u001b[0m\n",
      "\u001b[32m[I 2020-12-27 03:48:39,067]\u001b[0m Trial 249 finished with value: 0.9547569797543846 and parameters: {'alpha': 1.4682296776327706e-06, 'l1_ratio': 2.496322039762111e-07}. Best is trial 206 with value: 0.9658632450008527.\u001b[0m\n",
      "\u001b[32m[I 2020-12-27 03:48:39,589]\u001b[0m Trial 250 finished with value: 0.9644739155687991 and parameters: {'alpha': 1.008428731781995e-06, 'l1_ratio': 6.125908556705708e-08}. Best is trial 206 with value: 0.9658632450008527.\u001b[0m\n",
      "\u001b[32m[I 2020-12-27 03:48:40,118]\u001b[0m Trial 251 finished with value: 0.9560946127769517 and parameters: {'alpha': 8.55724043067867e-07, 'l1_ratio': 7.17740098793637e-08}. Best is trial 206 with value: 0.9658632450008527.\u001b[0m\n",
      "\u001b[32m[I 2020-12-27 03:48:40,540]\u001b[0m Trial 252 finished with value: 0.9587014757961965 and parameters: {'alpha': 5.020846192504006e-06, 'l1_ratio': 5.33586046011315e-07}. Best is trial 206 with value: 0.9658632450008527.\u001b[0m\n",
      "\u001b[32m[I 2020-12-27 03:48:40,986]\u001b[0m Trial 253 finished with value: 0.9617745146788521 and parameters: {'alpha': 2.3820023317940687e-06, 'l1_ratio': 1.8062088702691108e-07}. Best is trial 206 with value: 0.9658632450008527.\u001b[0m\n",
      "\u001b[32m[I 2020-12-27 03:48:41,454]\u001b[0m Trial 254 finished with value: 0.9578340256456674 and parameters: {'alpha': 5.070903131837329e-07, 'l1_ratio': 1.1148046803873447e-07}. Best is trial 206 with value: 0.9658632450008527.\u001b[0m\n",
      "\u001b[32m[I 2020-12-27 03:48:41,932]\u001b[0m Trial 255 finished with value: 0.954741375504406 and parameters: {'alpha': 2.0853582131760162e-07, 'l1_ratio': 6.504204527265427e-08}. Best is trial 206 with value: 0.9658632450008527.\u001b[0m\n",
      "\u001b[32m[I 2020-12-27 03:48:42,385]\u001b[0m Trial 256 finished with value: 0.9581401327306031 and parameters: {'alpha': 9.796575369434863e-07, 'l1_ratio': 5.959662863888074e-09}. Best is trial 206 with value: 0.9658632450008527.\u001b[0m\n",
      "\u001b[32m[I 2020-12-27 03:48:42,847]\u001b[0m Trial 257 finished with value: 0.9515377694928822 and parameters: {'alpha': 3.19443347327842e-07, 'l1_ratio': 1.4762258528483222e-07}. Best is trial 206 with value: 0.9658632450008527.\u001b[0m\n",
      "\u001b[32m[I 2020-12-27 03:48:43,306]\u001b[0m Trial 258 finished with value: 0.9684776104190888 and parameters: {'alpha': 1.663149652586689e-06, 'l1_ratio': 0.004004259348338239}. Best is trial 258 with value: 0.9684776104190888.\u001b[0m\n"
     ]
    },
    {
     "name": "stderr",
     "output_type": "stream",
     "text": [
      "\u001b[32m[I 2020-12-27 03:48:43,765]\u001b[0m Trial 259 finished with value: 0.9601609386184828 and parameters: {'alpha': 1.576876684235112e-06, 'l1_ratio': 2.9092205355860393e-07}. Best is trial 258 with value: 0.9684776104190888.\u001b[0m\n",
      "\u001b[32m[I 2020-12-27 03:48:44,227]\u001b[0m Trial 260 finished with value: 0.9572137782424862 and parameters: {'alpha': 7.448745845327644e-07, 'l1_ratio': 1.6354634367270256e-08}. Best is trial 258 with value: 0.9684776104190888.\u001b[0m\n",
      "\u001b[32m[I 2020-12-27 03:48:44,687]\u001b[0m Trial 261 finished with value: 0.954269479068119 and parameters: {'alpha': 5.180486755764038e-07, 'l1_ratio': 0.0010992506284771418}. Best is trial 258 with value: 0.9684776104190888.\u001b[0m\n",
      "\u001b[32m[I 2020-12-27 03:48:45,130]\u001b[0m Trial 262 finished with value: 0.9581819366592457 and parameters: {'alpha': 1.208520692185047e-06, 'l1_ratio': 4.134976969670472e-07}. Best is trial 258 with value: 0.9684776104190888.\u001b[0m\n",
      "\u001b[32m[I 2020-12-27 03:48:45,576]\u001b[0m Trial 263 finished with value: 0.9591802747298797 and parameters: {'alpha': 1.6029911318847815e-06, 'l1_ratio': 0.00020098894411011838}. Best is trial 258 with value: 0.9684776104190888.\u001b[0m\n",
      "\u001b[32m[I 2020-12-27 03:48:46,033]\u001b[0m Trial 264 finished with value: 0.9624704277983945 and parameters: {'alpha': 8.696070424240379e-07, 'l1_ratio': 0.040119012117109026}. Best is trial 258 with value: 0.9684776104190888.\u001b[0m\n",
      "\u001b[32m[I 2020-12-27 03:48:46,481]\u001b[0m Trial 265 finished with value: 0.9581194102300606 and parameters: {'alpha': 6.909720637046476e-07, 'l1_ratio': 0.14621102887628143}. Best is trial 258 with value: 0.9684776104190888.\u001b[0m\n",
      "\u001b[32m[I 2020-12-27 03:48:47,064]\u001b[0m Trial 266 finished with value: 0.9623779468140332 and parameters: {'alpha': 4.2924737150377226e-07, 'l1_ratio': 0.4105099526549494}. Best is trial 258 with value: 0.9684776104190888.\u001b[0m\n",
      "\u001b[32m[I 2020-12-27 03:48:47,642]\u001b[0m Trial 267 finished with value: 0.9575843681600342 and parameters: {'alpha': 8.963247993633945e-07, 'l1_ratio': 0.02152098929843672}. Best is trial 258 with value: 0.9684776104190888.\u001b[0m\n",
      "\u001b[32m[I 2020-12-27 03:48:48,148]\u001b[0m Trial 268 finished with value: 0.9595197811811266 and parameters: {'alpha': 1.0823547561866185e-06, 'l1_ratio': 9.065612673788642e-09}. Best is trial 258 with value: 0.9684776104190888.\u001b[0m\n",
      "\u001b[32m[I 2020-12-27 03:48:48,599]\u001b[0m Trial 269 finished with value: 0.9594881047211086 and parameters: {'alpha': 6.446143893678799e-07, 'l1_ratio': 5.2167988738014725e-05}. Best is trial 258 with value: 0.9684776104190888.\u001b[0m\n",
      "\u001b[32m[I 2020-12-27 03:48:49,069]\u001b[0m Trial 270 finished with value: 0.9553998149048561 and parameters: {'alpha': 3.0837578210772275e-07, 'l1_ratio': 0.0014786884252141032}. Best is trial 258 with value: 0.9684776104190888.\u001b[0m\n",
      "\u001b[32m[I 2020-12-27 03:48:49,567]\u001b[0m Trial 271 finished with value: 0.9592237245894933 and parameters: {'alpha': 2.727573597145522e-06, 'l1_ratio': 2.7397089982085736e-08}. Best is trial 258 with value: 0.9684776104190888.\u001b[0m\n",
      "\u001b[32m[I 2020-12-27 03:48:50,048]\u001b[0m Trial 272 finished with value: 0.9587176526963178 and parameters: {'alpha': 9.775768725406464e-07, 'l1_ratio': 0.2623907711692796}. Best is trial 258 with value: 0.9684776104190888.\u001b[0m\n",
      "\u001b[32m[I 2020-12-27 03:48:50,439]\u001b[0m Trial 273 finished with value: 0.9574296310686837 and parameters: {'alpha': 1.9228962288495877e-06, 'l1_ratio': 9.212277169572989e-07}. Best is trial 258 with value: 0.9684776104190888.\u001b[0m\n",
      "\u001b[32m[I 2020-12-27 03:48:50,969]\u001b[0m Trial 274 finished with value: 0.9492248726535016 and parameters: {'alpha': 2.5180036805307346e-10, 'l1_ratio': 0.04318568242683553}. Best is trial 258 with value: 0.9684776104190888.\u001b[0m\n",
      "\u001b[32m[I 2020-12-27 03:48:51,466]\u001b[0m Trial 275 finished with value: 0.9576363328498831 and parameters: {'alpha': 6.105502972845251e-07, 'l1_ratio': 9.548362816795018e-08}. Best is trial 258 with value: 0.9684776104190888.\u001b[0m\n",
      "\u001b[32m[I 2020-12-27 03:48:51,933]\u001b[0m Trial 276 finished with value: 0.9568645901738422 and parameters: {'alpha': 1.6127714638717598e-07, 'l1_ratio': 0.022492267545509162}. Best is trial 258 with value: 0.9684776104190888.\u001b[0m\n",
      "\u001b[32m[I 2020-12-27 03:48:52,432]\u001b[0m Trial 277 finished with value: 0.9625826713740562 and parameters: {'alpha': 4.1551822633382614e-07, 'l1_ratio': 0.0024569028782809046}. Best is trial 258 with value: 0.9684776104190888.\u001b[0m\n",
      "\u001b[32m[I 2020-12-27 03:48:52,957]\u001b[0m Trial 278 finished with value: 0.9605572563923107 and parameters: {'alpha': 4.2641293531303963e-07, 'l1_ratio': 0.044504534947118764}. Best is trial 258 with value: 0.9684776104190888.\u001b[0m\n",
      "\u001b[32m[I 2020-12-27 03:48:53,455]\u001b[0m Trial 279 finished with value: 0.9598399536584363 and parameters: {'alpha': 4.6091934480278837e-07, 'l1_ratio': 0.0004081275072727855}. Best is trial 258 with value: 0.9684776104190888.\u001b[0m\n",
      "\u001b[32m[I 2020-12-27 03:48:54,048]\u001b[0m Trial 280 finished with value: 0.9516865534220204 and parameters: {'alpha': 2.6519329234277685e-07, 'l1_ratio': 0.004087664957539982}. Best is trial 258 with value: 0.9684776104190888.\u001b[0m\n",
      "\u001b[32m[I 2020-12-27 03:48:54,515]\u001b[0m Trial 281 finished with value: 0.9564126744022767 and parameters: {'alpha': 2.2645168601771648e-07, 'l1_ratio': 1.4193829603215435e-08}. Best is trial 258 with value: 0.9684776104190888.\u001b[0m\n",
      "\u001b[32m[I 2020-12-27 03:48:54,924]\u001b[0m Trial 282 finished with value: 0.9641303718114421 and parameters: {'alpha': 1.2192146729845273e-06, 'l1_ratio': 0.003604837670464973}. Best is trial 258 with value: 0.9684776104190888.\u001b[0m\n",
      "\u001b[32m[I 2020-12-27 03:48:55,309]\u001b[0m Trial 283 finished with value: 0.9531984514248941 and parameters: {'alpha': 2.6817626603251056e-06, 'l1_ratio': 0.008166338682707672}. Best is trial 258 with value: 0.9684776104190888.\u001b[0m\n",
      "\u001b[32m[I 2020-12-27 03:48:55,797]\u001b[0m Trial 284 finished with value: 0.9619654447503455 and parameters: {'alpha': 1.352092555047947e-06, 'l1_ratio': 0.0033033056774916312}. Best is trial 258 with value: 0.9684776104190888.\u001b[0m\n",
      "\u001b[32m[I 2020-12-27 03:48:56,157]\u001b[0m Trial 285 finished with value: 0.9567731803623403 and parameters: {'alpha': 3.5159051108219428e-06, 'l1_ratio': 0.001375623602099426}. Best is trial 258 with value: 0.9684776104190888.\u001b[0m\n",
      "\u001b[32m[I 2020-12-27 03:48:56,539]\u001b[0m Trial 286 finished with value: 0.9547614879011176 and parameters: {'alpha': 1.9847704038955225e-06, 'l1_ratio': 5.378714387921356e-08}. Best is trial 258 with value: 0.9684776104190888.\u001b[0m\n",
      "\u001b[32m[I 2020-12-27 03:48:57,088]\u001b[0m Trial 287 finished with value: 0.9582029448148783 and parameters: {'alpha': 1.2913686984989469e-06, 'l1_ratio': 4.554259816601575e-06}. Best is trial 258 with value: 0.9684776104190888.\u001b[0m\n",
      "\u001b[32m[I 2020-12-27 03:48:57,580]\u001b[0m Trial 288 finished with value: 0.9602860675686536 and parameters: {'alpha': 6.23846850626914e-07, 'l1_ratio': 0.0030128494617345093}. Best is trial 258 with value: 0.9684776104190888.\u001b[0m\n",
      "\u001b[32m[I 2020-12-27 03:48:58,019]\u001b[0m Trial 289 finished with value: 0.9575760664409656 and parameters: {'alpha': 3.3534598127789015e-07, 'l1_ratio': 0.0041947773038501284}. Best is trial 258 with value: 0.9684776104190888.\u001b[0m\n",
      "\u001b[32m[I 2020-12-27 03:48:58,415]\u001b[0m Trial 290 finished with value: 0.9578342041152285 and parameters: {'alpha': 1.6631634599660387e-06, 'l1_ratio': 0.006814034029399527}. Best is trial 258 with value: 0.9684776104190888.\u001b[0m\n",
      "\u001b[32m[I 2020-12-27 03:48:58,817]\u001b[0m Trial 291 finished with value: 0.9645058504618004 and parameters: {'alpha': 1.0153558690906117e-06, 'l1_ratio': 3.5082990824095805e-08}. Best is trial 258 with value: 0.9684776104190888.\u001b[0m\n",
      "\u001b[32m[I 2020-12-27 03:48:59,192]\u001b[0m Trial 292 finished with value: 0.9618918023073891 and parameters: {'alpha': 2.3818153342989295e-06, 'l1_ratio': 0.005098699790146521}. Best is trial 258 with value: 0.9684776104190888.\u001b[0m\n",
      "\u001b[32m[I 2020-12-27 03:48:59,607]\u001b[0m Trial 293 finished with value: 0.9608303126839045 and parameters: {'alpha': 1.1391393830864019e-06, 'l1_ratio': 2.528263739086263e-08}. Best is trial 258 with value: 0.9684776104190888.\u001b[0m\n",
      "\u001b[32m[I 2020-12-27 03:49:00,080]\u001b[0m Trial 294 finished with value: 0.9572717934627116 and parameters: {'alpha': 5.253597097888852e-07, 'l1_ratio': 0.010128870604105347}. Best is trial 258 with value: 0.9684776104190888.\u001b[0m\n",
      "\u001b[32m[I 2020-12-27 03:49:00,470]\u001b[0m Trial 295 finished with value: 0.9632516054687448 and parameters: {'alpha': 1.646639864367556e-06, 'l1_ratio': 0.0031088155479349934}. Best is trial 258 with value: 0.9684776104190888.\u001b[0m\n"
     ]
    },
    {
     "name": "stderr",
     "output_type": "stream",
     "text": [
      "\u001b[32m[I 2020-12-27 03:49:00,883]\u001b[0m Trial 296 finished with value: 0.958665929936399 and parameters: {'alpha': 3.595104130522809e-06, 'l1_ratio': 0.0028150412462927556}. Best is trial 258 with value: 0.9684776104190888.\u001b[0m\n",
      "\u001b[32m[I 2020-12-27 03:49:01,313]\u001b[0m Trial 297 finished with value: 0.9539054857849121 and parameters: {'alpha': 2.101838033085326e-06, 'l1_ratio': 0.001825159374129318}. Best is trial 258 with value: 0.9684776104190888.\u001b[0m\n",
      "\u001b[32m[I 2020-12-27 03:49:01,715]\u001b[0m Trial 298 finished with value: 0.960699084753873 and parameters: {'alpha': 1.5783727520710288e-06, 'l1_ratio': 0.002362505388027155}. Best is trial 258 with value: 0.9684776104190888.\u001b[0m\n",
      "\u001b[32m[I 2020-12-27 03:49:02,069]\u001b[0m Trial 299 finished with value: 0.955511589910097 and parameters: {'alpha': 5.741664077313661e-06, 'l1_ratio': 3.938514380906948e-08}. Best is trial 258 with value: 0.9684776104190888.\u001b[0m\n",
      "\u001b[32m[I 2020-12-27 03:49:02,537]\u001b[0m Trial 300 finished with value: 0.959867229565806 and parameters: {'alpha': 1.1295450154915936e-07, 'l1_ratio': 0.00210821920776562}. Best is trial 258 with value: 0.9684776104190888.\u001b[0m\n",
      "\u001b[32m[I 2020-12-27 03:49:03,018]\u001b[0m Trial 301 finished with value: 0.9648779174754714 and parameters: {'alpha': 1.161665740428493e-06, 'l1_ratio': 0.0006723341472220279}. Best is trial 258 with value: 0.9684776104190888.\u001b[0m\n",
      "\u001b[32m[I 2020-12-27 03:49:03,421]\u001b[0m Trial 302 finished with value: 0.9570408482532291 and parameters: {'alpha': 1.3131437605484387e-06, 'l1_ratio': 0.00076480412300653}. Best is trial 258 with value: 0.9684776104190888.\u001b[0m\n",
      "\u001b[32m[I 2020-12-27 03:49:03,868]\u001b[0m Trial 303 finished with value: 0.9538287523450499 and parameters: {'alpha': 2.2409599706195666e-06, 'l1_ratio': 0.006841260990568932}. Best is trial 258 with value: 0.9684776104190888.\u001b[0m\n",
      "\u001b[32m[I 2020-12-27 03:49:04,280]\u001b[0m Trial 304 finished with value: 0.9549591167957322 and parameters: {'alpha': 1.066161043479153e-06, 'l1_ratio': 1.478223471986856e-08}. Best is trial 258 with value: 0.9684776104190888.\u001b[0m\n",
      "\u001b[32m[I 2020-12-27 03:49:04,659]\u001b[0m Trial 305 finished with value: 0.9587260604711483 and parameters: {'alpha': 3.1418911479911354e-06, 'l1_ratio': 2.470675931220059e-09}. Best is trial 258 with value: 0.9684776104190888.\u001b[0m\n",
      "\u001b[32m[I 2020-12-27 03:49:05,055]\u001b[0m Trial 306 finished with value: 0.9533985532101664 and parameters: {'alpha': 1.7704331450522368e-06, 'l1_ratio': 0.010083301088089296}. Best is trial 258 with value: 0.9684776104190888.\u001b[0m\n",
      "\u001b[32m[I 2020-12-27 03:49:05,470]\u001b[0m Trial 307 finished with value: 0.9640206608979501 and parameters: {'alpha': 8.863640973977092e-07, 'l1_ratio': 2.4303545385630537e-08}. Best is trial 258 with value: 0.9684776104190888.\u001b[0m\n",
      "\u001b[32m[I 2020-12-27 03:49:05,922]\u001b[0m Trial 308 finished with value: 0.9611687749071258 and parameters: {'alpha': 8.930682694555621e-07, 'l1_ratio': 7.736754642803367e-09}. Best is trial 258 with value: 0.9684776104190888.\u001b[0m\n",
      "\u001b[32m[I 2020-12-27 03:49:06,331]\u001b[0m Trial 309 finished with value: 0.9567535347497772 and parameters: {'alpha': 1.3244601400433279e-06, 'l1_ratio': 6.8821390687793935e-06}. Best is trial 258 with value: 0.9684776104190888.\u001b[0m\n",
      "\u001b[32m[I 2020-12-27 03:49:06,749]\u001b[0m Trial 310 finished with value: 0.9597314359571614 and parameters: {'alpha': 7.880959822669807e-07, 'l1_ratio': 2.396007290251922e-08}. Best is trial 258 with value: 0.9684776104190888.\u001b[0m\n",
      "\u001b[32m[I 2020-12-27 03:49:07,144]\u001b[0m Trial 311 finished with value: 0.9612993655112321 and parameters: {'alpha': 1.7335060118188031e-06, 'l1_ratio': 3.683105656658623e-08}. Best is trial 258 with value: 0.9684776104190888.\u001b[0m\n",
      "\u001b[32m[I 2020-12-27 03:49:07,526]\u001b[0m Trial 312 finished with value: 0.9623061265043131 and parameters: {'alpha': 4.203251664145305e-06, 'l1_ratio': 1.662970984501387e-08}. Best is trial 258 with value: 0.9684776104190888.\u001b[0m\n",
      "\u001b[32m[I 2020-12-27 03:49:07,946]\u001b[0m Trial 313 finished with value: 0.9573878038554291 and parameters: {'alpha': 1.0374053319562923e-06, 'l1_ratio': 5.3031861578505305e-08}. Best is trial 258 with value: 0.9684776104190888.\u001b[0m\n",
      "\u001b[32m[I 2020-12-27 03:49:08,329]\u001b[0m Trial 314 finished with value: 0.9569314366319439 and parameters: {'alpha': 2.4454352279149446e-06, 'l1_ratio': 2.326408524626085e-08}. Best is trial 258 with value: 0.9684776104190888.\u001b[0m\n",
      "\u001b[32m[I 2020-12-27 03:49:08,778]\u001b[0m Trial 315 finished with value: 0.9532738518999856 and parameters: {'alpha': 1.3526404817741527e-06, 'l1_ratio': 3.815532549949299e-08}. Best is trial 258 with value: 0.9684776104190888.\u001b[0m\n",
      "\u001b[32m[I 2020-12-27 03:49:09,254]\u001b[0m Trial 316 finished with value: 0.9617083574610591 and parameters: {'alpha': 7.668938820321426e-07, 'l1_ratio': 1.1483012890246123e-08}. Best is trial 258 with value: 0.9684776104190888.\u001b[0m\n",
      "\u001b[32m[I 2020-12-27 03:49:09,737]\u001b[0m Trial 317 finished with value: 0.9598964519036856 and parameters: {'alpha': 1.8209475550752888e-06, 'l1_ratio': 6.656204904785613e-08}. Best is trial 258 with value: 0.9684776104190888.\u001b[0m\n",
      "\u001b[32m[I 2020-12-27 03:49:10,282]\u001b[0m Trial 318 finished with value: 0.9597417428806987 and parameters: {'alpha': 1.0360596459730538e-06, 'l1_ratio': 2.863295146892299e-08}. Best is trial 258 with value: 0.9684776104190888.\u001b[0m\n",
      "\u001b[32m[I 2020-12-27 03:49:10,782]\u001b[0m Trial 319 finished with value: 0.9568883518860163 and parameters: {'alpha': 2.944979651581408e-06, 'l1_ratio': 2.4069912647839807e-06}. Best is trial 258 with value: 0.9684776104190888.\u001b[0m\n",
      "\u001b[32m[I 2020-12-27 03:49:11,210]\u001b[0m Trial 320 finished with value: 0.9537591736273782 and parameters: {'alpha': 7.199057242979975e-07, 'l1_ratio': 0.013436989659822679}. Best is trial 258 with value: 0.9684776104190888.\u001b[0m\n",
      "\u001b[32m[I 2020-12-27 03:49:11,589]\u001b[0m Trial 321 finished with value: 0.9612020021979369 and parameters: {'alpha': 1.4029544330359728e-06, 'l1_ratio': 6.198885073758222e-08}. Best is trial 258 with value: 0.9684776104190888.\u001b[0m\n",
      "\u001b[32m[I 2020-12-27 03:49:12,042]\u001b[0m Trial 322 finished with value: 0.9537685364699939 and parameters: {'alpha': 2.081182313451001e-06, 'l1_ratio': 4.590769826784284e-08}. Best is trial 258 with value: 0.9684776104190888.\u001b[0m\n",
      "\u001b[32m[I 2020-12-27 03:49:12,425]\u001b[0m Trial 323 finished with value: 0.9604798902941304 and parameters: {'alpha': 8.760822336499287e-07, 'l1_ratio': 1.9909430932189075e-08}. Best is trial 258 with value: 0.9684776104190888.\u001b[0m\n",
      "\u001b[32m[I 2020-12-27 03:49:12,812]\u001b[0m Trial 324 finished with value: 0.9547590400967378 and parameters: {'alpha': 1.1736911900080332e-06, 'l1_ratio': 8.92722476098812e-09}. Best is trial 258 with value: 0.9684776104190888.\u001b[0m\n",
      "\u001b[32m[I 2020-12-27 03:49:13,255]\u001b[0m Trial 325 finished with value: 0.9634901256614872 and parameters: {'alpha': 6.086741434863292e-07, 'l1_ratio': 8.9862585488984e-08}. Best is trial 258 with value: 0.9684776104190888.\u001b[0m\n",
      "\u001b[32m[I 2020-12-27 03:49:13,650]\u001b[0m Trial 326 finished with value: 0.9496591624386076 and parameters: {'alpha': 6.316150283206146e-07, 'l1_ratio': 4.150456987565247e-08}. Best is trial 258 with value: 0.9684776104190888.\u001b[0m\n",
      "\u001b[32m[I 2020-12-27 03:49:14,018]\u001b[0m Trial 327 finished with value: 0.958665929936399 and parameters: {'alpha': 4.7912513750871915e-06, 'l1_ratio': 7.701228136513804e-08}. Best is trial 258 with value: 0.9684776104190888.\u001b[0m\n",
      "\u001b[32m[I 2020-12-27 03:49:14,396]\u001b[0m Trial 328 finished with value: 0.962630017743119 and parameters: {'alpha': 1.6104926266748598e-06, 'l1_ratio': 2.989275609075826e-08}. Best is trial 258 with value: 0.9684776104190888.\u001b[0m\n",
      "\u001b[32m[I 2020-12-27 03:49:14,777]\u001b[0m Trial 329 finished with value: 0.959996717821132 and parameters: {'alpha': 2.772688250355936e-06, 'l1_ratio': 5.0348774307686e-09}. Best is trial 258 with value: 0.9684776104190888.\u001b[0m\n",
      "\u001b[32m[I 2020-12-27 03:49:15,182]\u001b[0m Trial 330 finished with value: 0.9569581915941616 and parameters: {'alpha': 9.939433570856937e-07, 'l1_ratio': 2.2268005430423375e-05}. Best is trial 258 with value: 0.9684776104190888.\u001b[0m\n",
      "\u001b[32m[I 2020-12-27 03:49:15,557]\u001b[0m Trial 331 finished with value: 0.9566308209616702 and parameters: {'alpha': 1.3699822793851141e-06, 'l1_ratio': 0.005098698066372254}. Best is trial 258 with value: 0.9684776104190888.\u001b[0m\n",
      "\u001b[32m[I 2020-12-27 03:49:16,059]\u001b[0m Trial 332 finished with value: 0.9714564177069506 and parameters: {'alpha': 6.246369486906041e-07, 'l1_ratio': 0.0005504654723293009}. Best is trial 332 with value: 0.9714564177069506.\u001b[0m\n"
     ]
    },
    {
     "name": "stderr",
     "output_type": "stream",
     "text": [
      "\u001b[32m[I 2020-12-27 03:49:16,474]\u001b[0m Trial 333 finished with value: 0.9586822908538795 and parameters: {'alpha': 5.717485552207598e-07, 'l1_ratio': 0.0011910053178792494}. Best is trial 332 with value: 0.9714564177069506.\u001b[0m\n",
      "\u001b[32m[I 2020-12-27 03:49:16,997]\u001b[0m Trial 334 finished with value: 0.9574319269006308 and parameters: {'alpha': 7.505038866340179e-07, 'l1_ratio': 0.0004970156713597926}. Best is trial 332 with value: 0.9714564177069506.\u001b[0m\n",
      "\u001b[32m[I 2020-12-27 03:49:17,453]\u001b[0m Trial 335 finished with value: 0.9565345857655451 and parameters: {'alpha': 5.487553341202902e-07, 'l1_ratio': 7.501693419088837e-08}. Best is trial 332 with value: 0.9714564177069506.\u001b[0m\n",
      "\u001b[32m[I 2020-12-27 03:49:17,870]\u001b[0m Trial 336 finished with value: 0.9597707430381672 and parameters: {'alpha': 9.28158859532132e-07, 'l1_ratio': 0.0008047725049297985}. Best is trial 332 with value: 0.9714564177069506.\u001b[0m\n",
      "\u001b[32m[I 2020-12-27 03:49:18,264]\u001b[0m Trial 337 finished with value: 0.95767307484854 and parameters: {'alpha': 2.0305934456863456e-06, 'l1_ratio': 8.309872739403228e-05}. Best is trial 332 with value: 0.9714564177069506.\u001b[0m\n",
      "\u001b[32m[I 2020-12-27 03:49:18,677]\u001b[0m Trial 338 finished with value: 0.9632067366094302 and parameters: {'alpha': 6.774116280696114e-07, 'l1_ratio': 5.540361734032595e-08}. Best is trial 332 with value: 0.9714564177069506.\u001b[0m\n",
      "\u001b[32m[I 2020-12-27 03:49:19,091]\u001b[0m Trial 339 finished with value: 0.9604883065219963 and parameters: {'alpha': 4.7582582941059907e-07, 'l1_ratio': 0.0004341661853253526}. Best is trial 332 with value: 0.9714564177069506.\u001b[0m\n",
      "\u001b[32m[I 2020-12-27 03:49:19,501]\u001b[0m Trial 340 finished with value: 0.9622595224974684 and parameters: {'alpha': 6.672471352529704e-07, 'l1_ratio': 5.514717942907448e-08}. Best is trial 332 with value: 0.9714564177069506.\u001b[0m\n",
      "\u001b[32m[I 2020-12-27 03:49:19,899]\u001b[0m Trial 341 finished with value: 0.9628757491987547 and parameters: {'alpha': 1.0565061782612107e-06, 'l1_ratio': 9.945219061801558e-08}. Best is trial 332 with value: 0.9714564177069506.\u001b[0m\n",
      "\u001b[32m[I 2020-12-27 03:49:20,286]\u001b[0m Trial 342 finished with value: 0.9521594761796782 and parameters: {'alpha': 1.6454660283428035e-06, 'l1_ratio': 3.6327644341624255e-08}. Best is trial 332 with value: 0.9714564177069506.\u001b[0m\n",
      "\u001b[32m[I 2020-12-27 03:49:20,832]\u001b[0m Trial 343 finished with value: 0.9548577883198485 and parameters: {'alpha': 7.108098269418097e-07, 'l1_ratio': 5.503729421161293e-08}. Best is trial 332 with value: 0.9714564177069506.\u001b[0m\n",
      "\u001b[32m[I 2020-12-27 03:49:21,391]\u001b[0m Trial 344 finished with value: 0.9552214293094641 and parameters: {'alpha': 3.6037996089062207e-07, 'l1_ratio': 0.0044098873491149404}. Best is trial 332 with value: 0.9714564177069506.\u001b[0m\n",
      "\u001b[32m[I 2020-12-27 03:49:21,882]\u001b[0m Trial 345 finished with value: 0.9524213442530652 and parameters: {'alpha': 3.191397655969874e-06, 'l1_ratio': 2.3709456273794024e-08}. Best is trial 332 with value: 0.9714564177069506.\u001b[0m\n",
      "\u001b[32m[I 2020-12-27 03:49:22,302]\u001b[0m Trial 346 finished with value: 0.9589585232231284 and parameters: {'alpha': 1.300149522184352e-06, 'l1_ratio': 1.1688566393059542e-07}. Best is trial 332 with value: 0.9714564177069506.\u001b[0m\n",
      "\u001b[32m[I 2020-12-27 03:49:22,715]\u001b[0m Trial 347 finished with value: 0.9582103916194684 and parameters: {'alpha': 2.2909044607562747e-06, 'l1_ratio': 0.00024386108930756086}. Best is trial 332 with value: 0.9714564177069506.\u001b[0m\n",
      "\u001b[32m[I 2020-12-27 03:49:23,269]\u001b[0m Trial 348 finished with value: 0.9653906611065916 and parameters: {'alpha': 7.815184968458413e-07, 'l1_ratio': 8.154226951343896e-08}. Best is trial 332 with value: 0.9714564177069506.\u001b[0m\n",
      "\u001b[32m[I 2020-12-27 03:49:23,843]\u001b[0m Trial 349 finished with value: 0.9620118066626 and parameters: {'alpha': 1.147404363748445e-06, 'l1_ratio': 0.0001353541500208595}. Best is trial 332 with value: 0.9714564177069506.\u001b[0m\n",
      "\u001b[32m[I 2020-12-27 03:49:24,403]\u001b[0m Trial 350 finished with value: 0.964472581382419 and parameters: {'alpha': 9.199353501538667e-07, 'l1_ratio': 8.144828469767985e-08}. Best is trial 332 with value: 0.9714564177069506.\u001b[0m\n",
      "\u001b[32m[I 2020-12-27 03:49:24,916]\u001b[0m Trial 351 finished with value: 0.9659702348619261 and parameters: {'alpha': 4.795244288050774e-07, 'l1_ratio': 8.602238597644966e-08}. Best is trial 332 with value: 0.9714564177069506.\u001b[0m\n",
      "\u001b[32m[I 2020-12-27 03:49:25,402]\u001b[0m Trial 352 finished with value: 0.9555715337370978 and parameters: {'alpha': 3.4448977906284357e-07, 'l1_ratio': 9.406574087027978e-08}. Best is trial 332 with value: 0.9714564177069506.\u001b[0m\n",
      "\u001b[32m[I 2020-12-27 03:49:25,833]\u001b[0m Trial 353 finished with value: 0.9541507551978756 and parameters: {'alpha': 5.49271174176816e-07, 'l1_ratio': 1.1867451273002174e-07}. Best is trial 332 with value: 0.9714564177069506.\u001b[0m\n",
      "\u001b[32m[I 2020-12-27 03:49:26,313]\u001b[0m Trial 354 finished with value: 0.9625632388305946 and parameters: {'alpha': 4.086581082820429e-07, 'l1_ratio': 8.20759440405573e-08}. Best is trial 332 with value: 0.9714564177069506.\u001b[0m\n",
      "\u001b[32m[I 2020-12-27 03:49:26,859]\u001b[0m Trial 355 finished with value: 0.9625919755994118 and parameters: {'alpha': 7.796750478714834e-07, 'l1_ratio': 1.3082674590824348e-07}. Best is trial 332 with value: 0.9714564177069506.\u001b[0m\n",
      "\u001b[32m[I 2020-12-27 03:49:27,293]\u001b[0m Trial 356 finished with value: 0.9523595326648676 and parameters: {'alpha': 5.099139069090378e-07, 'l1_ratio': 3.469543658258584e-08}. Best is trial 332 with value: 0.9714564177069506.\u001b[0m\n",
      "\u001b[32m[I 2020-12-27 03:49:27,782]\u001b[0m Trial 357 finished with value: 0.9557451698188488 and parameters: {'alpha': 2.8630666813593133e-07, 'l1_ratio': 7.19073781364132e-08}. Best is trial 332 with value: 0.9714564177069506.\u001b[0m\n",
      "\u001b[32m[I 2020-12-27 03:49:28,214]\u001b[0m Trial 358 finished with value: 0.9638270839016168 and parameters: {'alpha': 8.670604463061371e-07, 'l1_ratio': 1.6001049067786192e-08}. Best is trial 332 with value: 0.9714564177069506.\u001b[0m\n",
      "\u001b[32m[I 2020-12-27 03:49:28,674]\u001b[0m Trial 359 finished with value: 0.9577078109513965 and parameters: {'alpha': 8.254052010869261e-07, 'l1_ratio': 1.6030295929648915e-08}. Best is trial 332 with value: 0.9714564177069506.\u001b[0m\n",
      "\u001b[32m[I 2020-12-27 03:49:29,139]\u001b[0m Trial 360 finished with value: 0.9556125461369128 and parameters: {'alpha': 4.6930215774001197e-07, 'l1_ratio': 1.237876741841738e-08}. Best is trial 332 with value: 0.9714564177069506.\u001b[0m\n",
      "\u001b[32m[I 2020-12-27 03:49:29,562]\u001b[0m Trial 361 finished with value: 0.957001030989146 and parameters: {'alpha': 8.89256894203999e-07, 'l1_ratio': 2.7373716280159555e-08}. Best is trial 332 with value: 0.9714564177069506.\u001b[0m\n",
      "\u001b[32m[I 2020-12-27 03:49:30,112]\u001b[0m Trial 362 finished with value: 0.9549230228046386 and parameters: {'alpha': 4.996679178051147e-07, 'l1_ratio': 2.2001931989549273e-08}. Best is trial 332 with value: 0.9714564177069506.\u001b[0m\n",
      "\u001b[32m[I 2020-12-27 03:49:30,538]\u001b[0m Trial 363 finished with value: 0.9651040860562158 and parameters: {'alpha': 7.101781075688215e-07, 'l1_ratio': 6.781084806679306e-09}. Best is trial 332 with value: 0.9714564177069506.\u001b[0m\n",
      "\u001b[32m[I 2020-12-27 03:49:31,085]\u001b[0m Trial 364 finished with value: 0.9574449139473545 and parameters: {'alpha': 7.750676364064059e-07, 'l1_ratio': 2.8007684381792792e-09}. Best is trial 332 with value: 0.9714564177069506.\u001b[0m\n",
      "\u001b[32m[I 2020-12-27 03:49:31,682]\u001b[0m Trial 365 finished with value: 0.8716867816914053 and parameters: {'alpha': 0.00569742620949813, 'l1_ratio': 6.19629684491808e-09}. Best is trial 332 with value: 0.9714564177069506.\u001b[0m\n",
      "\u001b[32m[I 2020-12-27 03:49:32,197]\u001b[0m Trial 366 finished with value: 0.9613679176426358 and parameters: {'alpha': 1.0825344095945068e-06, 'l1_ratio': 1.4023574974998598e-09}. Best is trial 332 with value: 0.9714564177069506.\u001b[0m\n",
      "\u001b[32m[I 2020-12-27 03:49:32,627]\u001b[0m Trial 367 finished with value: 0.9595838408094034 and parameters: {'alpha': 6.280928639652889e-07, 'l1_ratio': 8.501832589976727e-09}. Best is trial 332 with value: 0.9714564177069506.\u001b[0m\n",
      "\u001b[32m[I 2020-12-27 03:49:33,049]\u001b[0m Trial 368 finished with value: 0.9566605968416096 and parameters: {'alpha': 1.0291122708284125e-06, 'l1_ratio': 1.169221391597623e-08}. Best is trial 332 with value: 0.9714564177069506.\u001b[0m\n",
      "\u001b[32m[I 2020-12-27 03:49:33,526]\u001b[0m Trial 369 finished with value: 0.9562148881812769 and parameters: {'alpha': 2.681193091370831e-07, 'l1_ratio': 1.7906476599305924e-08}. Best is trial 332 with value: 0.9714564177069506.\u001b[0m\n"
     ]
    },
    {
     "name": "stderr",
     "output_type": "stream",
     "text": [
      "\u001b[32m[I 2020-12-27 03:49:33,957]\u001b[0m Trial 370 finished with value: 0.9566620330655284 and parameters: {'alpha': 4.458674469789401e-07, 'l1_ratio': 4.07121652776738e-09}. Best is trial 332 with value: 0.9714564177069506.\u001b[0m\n",
      "\u001b[32m[I 2020-12-27 03:49:34,493]\u001b[0m Trial 371 finished with value: 0.9628040334504147 and parameters: {'alpha': 8.15696356872492e-07, 'l1_ratio': 5.667217360633619e-09}. Best is trial 332 with value: 0.9714564177069506.\u001b[0m\n",
      "\u001b[32m[I 2020-12-27 03:49:34,967]\u001b[0m Trial 372 finished with value: 0.9570662272863648 and parameters: {'alpha': 1.3540186587893057e-06, 'l1_ratio': 1.0805330905851606e-08}. Best is trial 332 with value: 0.9714564177069506.\u001b[0m\n",
      "\u001b[32m[I 2020-12-27 03:49:35,381]\u001b[0m Trial 373 finished with value: 0.9562385140941956 and parameters: {'alpha': 6.255960103942196e-07, 'l1_ratio': 3.1424499685922795e-08}. Best is trial 332 with value: 0.9714564177069506.\u001b[0m\n",
      "\u001b[32m[I 2020-12-27 03:49:35,778]\u001b[0m Trial 374 finished with value: 0.9562139323382114 and parameters: {'alpha': 1.107739071051957e-06, 'l1_ratio': 4.168554669217463e-08}. Best is trial 332 with value: 0.9714564177069506.\u001b[0m\n",
      "\u001b[32m[I 2020-12-27 03:49:36,351]\u001b[0m Trial 375 finished with value: 0.9471040494744801 and parameters: {'alpha': 3.691986865333776e-07, 'l1_ratio': 2.2840844040651092e-08}. Best is trial 332 with value: 0.9714564177069506.\u001b[0m\n",
      "\u001b[32m[I 2020-12-27 03:49:36,805]\u001b[0m Trial 376 finished with value: 0.952381539356058 and parameters: {'alpha': 1.4053289764837517e-06, 'l1_ratio': 7.867934611753496e-09}. Best is trial 332 with value: 0.9714564177069506.\u001b[0m\n",
      "\u001b[32m[I 2020-12-27 03:49:37,200]\u001b[0m Trial 377 finished with value: 0.9551616444039629 and parameters: {'alpha': 8.785520188317022e-07, 'l1_ratio': 1.5075217081855706e-08}. Best is trial 332 with value: 0.9714564177069506.\u001b[0m\n",
      "\u001b[32m[I 2020-12-27 03:49:37,625]\u001b[0m Trial 378 finished with value: 0.9566570092676723 and parameters: {'alpha': 6.087509742587723e-07, 'l1_ratio': 4.300402721098282e-08}. Best is trial 332 with value: 0.9714564177069506.\u001b[0m\n",
      "\u001b[32m[I 2020-12-27 03:49:38,088]\u001b[0m Trial 379 finished with value: 0.9575785764084128 and parameters: {'alpha': 1.0502472142474106e-06, 'l1_ratio': 0.0002622948752532888}. Best is trial 332 with value: 0.9714564177069506.\u001b[0m\n",
      "\u001b[32m[I 2020-12-27 03:49:38,467]\u001b[0m Trial 380 finished with value: 0.9640464325295484 and parameters: {'alpha': 1.5380417595855862e-06, 'l1_ratio': 0.016371627121513188}. Best is trial 332 with value: 0.9714564177069506.\u001b[0m\n",
      "\u001b[32m[I 2020-12-27 03:49:38,862]\u001b[0m Trial 381 finished with value: 0.9582546856305467 and parameters: {'alpha': 1.791655190322952e-06, 'l1_ratio': 0.09211592022446265}. Best is trial 332 with value: 0.9714564177069506.\u001b[0m\n",
      "\u001b[32m[I 2020-12-27 03:49:39,259]\u001b[0m Trial 382 finished with value: 0.9571211529438541 and parameters: {'alpha': 1.5510198374120063e-06, 'l1_ratio': 0.020098942859307675}. Best is trial 332 with value: 0.9714564177069506.\u001b[0m\n",
      "\u001b[32m[I 2020-12-27 03:49:39,779]\u001b[0m Trial 383 finished with value: 0.965032461881556 and parameters: {'alpha': 1.1686716454857159e-06, 'l1_ratio': 0.01327116203445757}. Best is trial 332 with value: 0.9714564177069506.\u001b[0m\n",
      "\u001b[32m[I 2020-12-27 03:49:40,286]\u001b[0m Trial 384 finished with value: 0.9613427817201452 and parameters: {'alpha': 2.034627716210149e-06, 'l1_ratio': 0.017935509743239028}. Best is trial 332 with value: 0.9714564177069506.\u001b[0m\n",
      "\u001b[32m[I 2020-12-27 03:49:40,804]\u001b[0m Trial 385 finished with value: 0.9571971407024193 and parameters: {'alpha': 9.766130816402654e-07, 'l1_ratio': 0.030025133842378912}. Best is trial 332 with value: 0.9714564177069506.\u001b[0m\n",
      "\u001b[32m[I 2020-12-27 03:49:41,215]\u001b[0m Trial 386 finished with value: 0.9605613684334825 and parameters: {'alpha': 1.3635665406213056e-06, 'l1_ratio': 0.01467516349569395}. Best is trial 332 with value: 0.9714564177069506.\u001b[0m\n",
      "\u001b[32m[I 2020-12-27 03:49:41,651]\u001b[0m Trial 387 finished with value: 0.9594415444549228 and parameters: {'alpha': 8.108457613747295e-07, 'l1_ratio': 0.007180918290790813}. Best is trial 332 with value: 0.9714564177069506.\u001b[0m\n",
      "\u001b[32m[I 2020-12-27 03:49:42,141]\u001b[0m Trial 388 finished with value: 0.9581580357100461 and parameters: {'alpha': 2.8906780475644935e-06, 'l1_ratio': 0.04840014399089127}. Best is trial 332 with value: 0.9714564177069506.\u001b[0m\n",
      "\u001b[32m[I 2020-12-27 03:49:42,536]\u001b[0m Trial 389 finished with value: 0.955757002873822 and parameters: {'alpha': 1.692594692788815e-06, 'l1_ratio': 0.010209473307157014}. Best is trial 332 with value: 0.9714564177069506.\u001b[0m\n",
      "\u001b[32m[I 2020-12-27 03:49:42,994]\u001b[0m Trial 390 finished with value: 0.9665742213706944 and parameters: {'alpha': 1.1503347907974472e-06, 'l1_ratio': 0.028644801426504083}. Best is trial 332 with value: 0.9714564177069506.\u001b[0m\n",
      "\u001b[32m[I 2020-12-27 03:49:43,384]\u001b[0m Trial 391 finished with value: 0.9499557731374476 and parameters: {'alpha': 1.1236336755410817e-06, 'l1_ratio': 0.029252245303823757}. Best is trial 332 with value: 0.9714564177069506.\u001b[0m\n",
      "\u001b[32m[I 2020-12-27 03:49:43,784]\u001b[0m Trial 392 finished with value: 0.9568035637819352 and parameters: {'alpha': 2.3009697316842528e-06, 'l1_ratio': 0.08942641849273035}. Best is trial 332 with value: 0.9714564177069506.\u001b[0m\n",
      "\u001b[32m[I 2020-12-27 03:49:44,182]\u001b[0m Trial 393 finished with value: 0.9579265657114296 and parameters: {'alpha': 7.466564735877284e-07, 'l1_ratio': 0.01594474839288412}. Best is trial 332 with value: 0.9714564177069506.\u001b[0m\n",
      "\u001b[32m[I 2020-12-27 03:49:44,534]\u001b[0m Trial 394 finished with value: 0.9600239390741743 and parameters: {'alpha': 4.088963818147762e-06, 'l1_ratio': 0.012572792176346404}. Best is trial 332 with value: 0.9714564177069506.\u001b[0m\n",
      "\u001b[32m[I 2020-12-27 03:49:44,921]\u001b[0m Trial 395 finished with value: 0.962193334589272 and parameters: {'alpha': 4.6751295645924343e-07, 'l1_ratio': 0.06571327437377648}. Best is trial 332 with value: 0.9714564177069506.\u001b[0m\n",
      "\u001b[32m[I 2020-12-27 03:49:45,479]\u001b[0m Trial 396 finished with value: 0.9474235057626961 and parameters: {'alpha': 1.8973301076258964e-07, 'l1_ratio': 0.026798642826522865}. Best is trial 332 with value: 0.9714564177069506.\u001b[0m\n",
      "\u001b[32m[I 2020-12-27 03:49:45,940]\u001b[0m Trial 397 finished with value: 0.958930465951527 and parameters: {'alpha': 1.3165788214908289e-06, 'l1_ratio': 0.007247833537864951}. Best is trial 332 with value: 0.9714564177069506.\u001b[0m\n",
      "\u001b[32m[I 2020-12-27 03:49:46,514]\u001b[0m Trial 398 finished with value: 0.9573802300616795 and parameters: {'alpha': 3.24369931676561e-07, 'l1_ratio': 0.021130687651787702}. Best is trial 332 with value: 0.9714564177069506.\u001b[0m\n",
      "\u001b[32m[I 2020-12-27 03:49:46,993]\u001b[0m Trial 399 finished with value: 0.9582817300173178 and parameters: {'alpha': 1.7520936835524717e-06, 'l1_ratio': 0.013528189466374657}. Best is trial 332 with value: 0.9714564177069506.\u001b[0m\n",
      "\u001b[32m[I 2020-12-27 03:49:47,409]\u001b[0m Trial 400 finished with value: 0.963677231678196 and parameters: {'alpha': 7.843866444418283e-07, 'l1_ratio': 0.0006550976126662065}. Best is trial 332 with value: 0.9714564177069506.\u001b[0m\n",
      "\u001b[32m[I 2020-12-27 03:49:47,831]\u001b[0m Trial 401 finished with value: 0.960330736779168 and parameters: {'alpha': 6.148618453182861e-07, 'l1_ratio': 0.001308829992516001}. Best is trial 332 with value: 0.9714564177069506.\u001b[0m\n",
      "\u001b[32m[I 2020-12-27 03:49:48,244]\u001b[0m Trial 402 finished with value: 0.9513410151588558 and parameters: {'alpha': 1.1214634888575513e-06, 'l1_ratio': 0.03536938708963486}. Best is trial 332 with value: 0.9714564177069506.\u001b[0m\n",
      "\u001b[32m[I 2020-12-27 03:49:48,619]\u001b[0m Trial 403 finished with value: 0.9570262562055761 and parameters: {'alpha': 2.869305829633475e-06, 'l1_ratio': 0.059499606224744164}. Best is trial 332 with value: 0.9714564177069506.\u001b[0m\n",
      "\u001b[32m[I 2020-12-27 03:49:48,994]\u001b[0m Trial 404 finished with value: 0.9599514997122705 and parameters: {'alpha': 1.6362668600767329e-06, 'l1_ratio': 0.005938709684338326}. Best is trial 332 with value: 0.9714564177069506.\u001b[0m\n",
      "\u001b[32m[I 2020-12-27 03:49:49,399]\u001b[0m Trial 405 finished with value: 0.9549218030950356 and parameters: {'alpha': 5.074139997966477e-07, 'l1_ratio': 1.5160559299527355e-08}. Best is trial 332 with value: 0.9714564177069506.\u001b[0m\n",
      "\u001b[32m[I 2020-12-27 03:49:49,800]\u001b[0m Trial 406 finished with value: 0.9558755317127692 and parameters: {'alpha': 9.367184382630515e-07, 'l1_ratio': 0.02429014331331932}. Best is trial 332 with value: 0.9714564177069506.\u001b[0m\n"
     ]
    },
    {
     "name": "stderr",
     "output_type": "stream",
     "text": [
      "\u001b[32m[I 2020-12-27 03:49:50,194]\u001b[0m Trial 407 finished with value: 0.9582463610237915 and parameters: {'alpha': 2.0361980194963323e-06, 'l1_ratio': 7.102580164305053e-09}. Best is trial 332 with value: 0.9714564177069506.\u001b[0m\n",
      "\u001b[32m[I 2020-12-27 03:49:50,614]\u001b[0m Trial 408 finished with value: 0.9594180204825477 and parameters: {'alpha': 1.2912535441271999e-06, 'l1_ratio': 0.010562609388441615}. Best is trial 332 with value: 0.9714564177069506.\u001b[0m\n",
      "\u001b[32m[I 2020-12-27 03:49:51,082]\u001b[0m Trial 409 finished with value: 0.9632188525588852 and parameters: {'alpha': 7.245176195214796e-07, 'l1_ratio': 4.7734963432577654e-05}. Best is trial 332 with value: 0.9714564177069506.\u001b[0m\n",
      "\u001b[32m[I 2020-12-27 03:49:51,536]\u001b[0m Trial 410 finished with value: 0.9611669330054146 and parameters: {'alpha': 3.8189813749067694e-07, 'l1_ratio': 5.224923350368098e-08}. Best is trial 332 with value: 0.9714564177069506.\u001b[0m\n",
      "\u001b[32m[I 2020-12-27 03:49:51,979]\u001b[0m Trial 411 finished with value: 0.9585338362229449 and parameters: {'alpha': 9.101816300255622e-07, 'l1_ratio': 2.9350204815550136e-08}. Best is trial 332 with value: 0.9714564177069506.\u001b[0m\n",
      "\u001b[32m[I 2020-12-27 03:49:52,396]\u001b[0m Trial 412 finished with value: 0.9586376227917912 and parameters: {'alpha': 1.4374421093672523e-06, 'l1_ratio': 1.2168689811328447e-08}. Best is trial 332 with value: 0.9714564177069506.\u001b[0m\n",
      "\u001b[32m[I 2020-12-27 03:49:52,779]\u001b[0m Trial 413 finished with value: 0.9562697790065423 and parameters: {'alpha': 2.350715906048532e-06, 'l1_ratio': 4.3099976713373525e-09}. Best is trial 332 with value: 0.9714564177069506.\u001b[0m\n",
      "\u001b[32m[I 2020-12-27 03:49:53,212]\u001b[0m Trial 414 finished with value: 0.9602205013040321 and parameters: {'alpha': 5.280883654524054e-07, 'l1_ratio': 0.00010185046307647968}. Best is trial 332 with value: 0.9714564177069506.\u001b[0m\n",
      "\u001b[32m[I 2020-12-27 03:49:53,591]\u001b[0m Trial 415 finished with value: 0.9573884841083609 and parameters: {'alpha': 3.821339327319986e-06, 'l1_ratio': 0.0020133616866764444}. Best is trial 332 with value: 0.9714564177069506.\u001b[0m\n",
      "\u001b[32m[I 2020-12-27 03:49:54,020]\u001b[0m Trial 416 finished with value: 0.961970380987399 and parameters: {'alpha': 1.0485315454291856e-06, 'l1_ratio': 2.016797623226649e-09}. Best is trial 332 with value: 0.9714564177069506.\u001b[0m\n",
      "\u001b[32m[I 2020-12-27 03:49:54,451]\u001b[0m Trial 417 finished with value: 0.9601936717002053 and parameters: {'alpha': 7.378201132394005e-07, 'l1_ratio': 4.1821198676433945e-08}. Best is trial 332 with value: 0.9714564177069506.\u001b[0m\n",
      "\u001b[32m[I 2020-12-27 03:49:54,924]\u001b[0m Trial 418 finished with value: 0.955313384569749 and parameters: {'alpha': 3.0405343247560194e-07, 'l1_ratio': 1.1803721376135702e-09}. Best is trial 332 with value: 0.9714564177069506.\u001b[0m\n",
      "\u001b[32m[I 2020-12-27 03:49:55,339]\u001b[0m Trial 419 finished with value: 0.9601783719191381 and parameters: {'alpha': 1.5347619858422415e-06, 'l1_ratio': 2.0474080259119347e-08}. Best is trial 332 with value: 0.9714564177069506.\u001b[0m\n",
      "\u001b[32m[I 2020-12-27 03:49:55,783]\u001b[0m Trial 420 finished with value: 0.9626706270061314 and parameters: {'alpha': 5.771015978650855e-07, 'l1_ratio': 5.1905138587181475e-08}. Best is trial 332 with value: 0.9714564177069506.\u001b[0m\n",
      "\u001b[32m[I 2020-12-27 03:49:56,190]\u001b[0m Trial 421 finished with value: 0.956835995976594 and parameters: {'alpha': 2.3969287796755085e-06, 'l1_ratio': 8.067332597076438e-08}. Best is trial 332 with value: 0.9714564177069506.\u001b[0m\n",
      "\u001b[32m[I 2020-12-27 03:49:56,610]\u001b[0m Trial 422 finished with value: 0.9580136573581401 and parameters: {'alpha': 1.0677857490749163e-06, 'l1_ratio': 3.2077645300874435e-08}. Best is trial 332 with value: 0.9714564177069506.\u001b[0m\n",
      "\u001b[32m[I 2020-12-27 03:49:57,040]\u001b[0m Trial 423 finished with value: 0.9613445190143273 and parameters: {'alpha': 8.246073631582583e-07, 'l1_ratio': 0.0003565566394851723}. Best is trial 332 with value: 0.9714564177069506.\u001b[0m\n",
      "\u001b[32m[I 2020-12-27 03:49:57,486]\u001b[0m Trial 424 finished with value: 0.9613968576828564 and parameters: {'alpha': 4.1587793752948784e-07, 'l1_ratio': 0.01654014666048982}. Best is trial 332 with value: 0.9714564177069506.\u001b[0m\n",
      "\u001b[32m[I 2020-12-27 03:49:57,877]\u001b[0m Trial 425 finished with value: 0.9607797913708092 and parameters: {'alpha': 1.7290284505664996e-06, 'l1_ratio': 0.0008283198982336083}. Best is trial 332 with value: 0.9714564177069506.\u001b[0m\n",
      "\u001b[32m[I 2020-12-27 03:49:58,392]\u001b[0m Trial 426 finished with value: 0.9612582443816611 and parameters: {'alpha': 1.275362738573172e-06, 'l1_ratio': 9.578123357450466e-09}. Best is trial 332 with value: 0.9714564177069506.\u001b[0m\n",
      "\u001b[32m[I 2020-12-27 03:49:58,779]\u001b[0m Trial 427 finished with value: 0.9604781480411098 and parameters: {'alpha': 5.616154247382958e-06, 'l1_ratio': 1.877408209905437e-08}. Best is trial 332 with value: 0.9714564177069506.\u001b[0m\n",
      "\u001b[32m[I 2020-12-27 03:49:59,203]\u001b[0m Trial 428 finished with value: 0.9564449814927232 and parameters: {'alpha': 6.592816071307243e-07, 'l1_ratio': 1.4053733311212897e-06}. Best is trial 332 with value: 0.9714564177069506.\u001b[0m\n",
      "\u001b[32m[I 2020-12-27 03:49:59,573]\u001b[0m Trial 429 finished with value: 0.9552889180419406 and parameters: {'alpha': 2.7790737533599756e-06, 'l1_ratio': 2.3467093146865203e-10}. Best is trial 332 with value: 0.9714564177069506.\u001b[0m\n",
      "\u001b[32m[I 2020-12-27 03:50:00,019]\u001b[0m Trial 430 finished with value: 0.9616753864767814 and parameters: {'alpha': 1.0313905412760358e-06, 'l1_ratio': 1.3115401947527326e-07}. Best is trial 332 with value: 0.9714564177069506.\u001b[0m\n",
      "\u001b[32m[I 2020-12-27 03:50:00,529]\u001b[0m Trial 431 finished with value: 0.9546247489357227 and parameters: {'alpha': 2.5862032902738203e-07, 'l1_ratio': 6.637609984775511e-08}. Best is trial 332 with value: 0.9714564177069506.\u001b[0m\n",
      "\u001b[32m[I 2020-12-27 03:50:00,925]\u001b[0m Trial 432 finished with value: 0.9571017731461624 and parameters: {'alpha': 1.840945891334692e-06, 'l1_ratio': 0.010489005165710592}. Best is trial 332 with value: 0.9714564177069506.\u001b[0m\n",
      "\u001b[32m[I 2020-12-27 03:50:01,356]\u001b[0m Trial 433 finished with value: 0.9595583232366288 and parameters: {'alpha': 5.724610269752168e-07, 'l1_ratio': 0.03280412021317336}. Best is trial 332 with value: 0.9714564177069506.\u001b[0m\n",
      "\u001b[32m[I 2020-12-27 03:50:01,760]\u001b[0m Trial 434 finished with value: 0.9590821482663006 and parameters: {'alpha': 1.2877104574266517e-06, 'l1_ratio': 1.9584682831208233e-07}. Best is trial 332 with value: 0.9714564177069506.\u001b[0m\n",
      "\u001b[32m[I 2020-12-27 03:50:02,175]\u001b[0m Trial 435 finished with value: 0.9536520782418965 and parameters: {'alpha': 8.307464007903974e-07, 'l1_ratio': 0.003852048074932275}. Best is trial 332 with value: 0.9714564177069506.\u001b[0m\n",
      "\u001b[32m[I 2020-12-27 03:50:02,634]\u001b[0m Trial 436 finished with value: 0.9556686987011904 and parameters: {'alpha': 3.9130802860320564e-07, 'l1_ratio': 4.2080623968102715e-08}. Best is trial 332 with value: 0.9714564177069506.\u001b[0m\n",
      "\u001b[32m[I 2020-12-27 03:50:03,016]\u001b[0m Trial 437 finished with value: 0.9614035345505508 and parameters: {'alpha': 1.8927712551402017e-06, 'l1_ratio': 0.0001642060143691612}. Best is trial 332 with value: 0.9714564177069506.\u001b[0m\n",
      "\u001b[32m[I 2020-12-27 03:50:03,431]\u001b[0m Trial 438 finished with value: 0.9583526377376772 and parameters: {'alpha': 8.822186614736933e-07, 'l1_ratio': 3.675677718802767e-09}. Best is trial 332 with value: 0.9714564177069506.\u001b[0m\n",
      "\u001b[32m[I 2020-12-27 03:50:03,785]\u001b[0m Trial 439 finished with value: 0.956835995976594 and parameters: {'alpha': 3.4644180941303605e-06, 'l1_ratio': 7.419395275629724e-08}. Best is trial 332 with value: 0.9714564177069506.\u001b[0m\n",
      "\u001b[32m[I 2020-12-27 03:50:04,221]\u001b[0m Trial 440 finished with value: 0.9564189025971869 and parameters: {'alpha': 4.7114872161517144e-07, 'l1_ratio': 2.5317278459117973e-08}. Best is trial 332 with value: 0.9714564177069506.\u001b[0m\n",
      "\u001b[32m[I 2020-12-27 03:50:04,632]\u001b[0m Trial 441 finished with value: 0.9541674062739831 and parameters: {'alpha': 1.0656347407182014e-06, 'l1_ratio': 1.227247440207039e-07}. Best is trial 332 with value: 0.9714564177069506.\u001b[0m\n",
      "\u001b[32m[I 2020-12-27 03:50:05,069]\u001b[0m Trial 442 finished with value: 0.959564678084022 and parameters: {'alpha': 1.3945986308432514e-06, 'l1_ratio': 0.8079970983399709}. Best is trial 332 with value: 0.9714564177069506.\u001b[0m\n",
      "\u001b[32m[I 2020-12-27 03:50:05,515]\u001b[0m Trial 443 finished with value: 0.9526325317460985 and parameters: {'alpha': 6.776588091374369e-07, 'l1_ratio': 1.041069956510325e-05}. Best is trial 332 with value: 0.9714564177069506.\u001b[0m\n"
     ]
    },
    {
     "name": "stderr",
     "output_type": "stream",
     "text": [
      "\u001b[32m[I 2020-12-27 03:50:05,905]\u001b[0m Trial 444 finished with value: 0.9561288357085748 and parameters: {'alpha': 2.2528596827058924e-06, 'l1_ratio': 1.4228710475777994e-08}. Best is trial 332 with value: 0.9714564177069506.\u001b[0m\n",
      "\u001b[32m[I 2020-12-27 03:50:06,317]\u001b[0m Trial 445 finished with value: 0.9617449948539867 and parameters: {'alpha': 1.438379193185054e-06, 'l1_ratio': 0.06932812036810986}. Best is trial 332 with value: 0.9714564177069506.\u001b[0m\n",
      "\u001b[32m[I 2020-12-27 03:50:06,751]\u001b[0m Trial 446 finished with value: 0.9614830976672688 and parameters: {'alpha': 7.512758045203961e-07, 'l1_ratio': 3.6555585545957505e-08}. Best is trial 332 with value: 0.9714564177069506.\u001b[0m\n",
      "\u001b[32m[I 2020-12-27 03:50:07,211]\u001b[0m Trial 447 finished with value: 0.9481248676926669 and parameters: {'alpha': 2.21615730652001e-07, 'l1_ratio': 5.59046686137136e-09}. Best is trial 332 with value: 0.9714564177069506.\u001b[0m\n",
      "\u001b[32m[I 2020-12-27 03:50:07,684]\u001b[0m Trial 448 finished with value: 0.9600657557750645 and parameters: {'alpha': 5.289913073238167e-07, 'l1_ratio': 8.850014834303626e-09}. Best is trial 332 with value: 0.9714564177069506.\u001b[0m\n",
      "\u001b[32m[I 2020-12-27 03:50:08,115]\u001b[0m Trial 449 finished with value: 0.9478968786603355 and parameters: {'alpha': 1.0658160705735746e-06, 'l1_ratio': 5.30660942994102e-08}. Best is trial 332 with value: 0.9714564177069506.\u001b[0m\n",
      "\u001b[32m[I 2020-12-27 03:50:08,508]\u001b[0m Trial 450 finished with value: 0.963601617929545 and parameters: {'alpha': 1.809145557317257e-06, 'l1_ratio': 0.0070807553780638}. Best is trial 332 with value: 0.9714564177069506.\u001b[0m\n",
      "\u001b[32m[I 2020-12-27 03:50:08,955]\u001b[0m Trial 451 finished with value: 0.9512263429816176 and parameters: {'alpha': 3.95241224285021e-07, 'l1_ratio': 2.6945964053664368e-08}. Best is trial 332 with value: 0.9714564177069506.\u001b[0m\n",
      "\u001b[32m[I 2020-12-27 03:50:09,351]\u001b[0m Trial 452 finished with value: 0.9599805228652613 and parameters: {'alpha': 3.0602346456737285e-06, 'l1_ratio': 8.067817764721477e-08}. Best is trial 332 with value: 0.9714564177069506.\u001b[0m\n",
      "\u001b[32m[I 2020-12-27 03:50:09,780]\u001b[0m Trial 453 finished with value: 0.9642814837624832 and parameters: {'alpha': 8.807584587720979e-07, 'l1_ratio': 1.92739476467283e-07}. Best is trial 332 with value: 0.9714564177069506.\u001b[0m\n",
      "\u001b[32m[I 2020-12-27 03:50:10,195]\u001b[0m Trial 454 finished with value: 0.9534448016328173 and parameters: {'alpha': 1.378033605907987e-06, 'l1_ratio': 1.9659436321740706e-07}. Best is trial 332 with value: 0.9714564177069506.\u001b[0m\n",
      "\u001b[32m[I 2020-12-27 03:50:10,612]\u001b[0m Trial 455 finished with value: 0.9533939365801989 and parameters: {'alpha': 6.036645741447674e-07, 'l1_ratio': 6.951269550275163e-07}. Best is trial 332 with value: 0.9714564177069506.\u001b[0m\n",
      "\u001b[32m[I 2020-12-27 03:50:11,235]\u001b[0m Trial 456 finished with value: 0.9553808659844599 and parameters: {'alpha': 1.2930145479047336e-09, 'l1_ratio': 3.7596598794926966e-07}. Best is trial 332 with value: 0.9714564177069506.\u001b[0m\n",
      "\u001b[32m[I 2020-12-27 03:50:11,678]\u001b[0m Trial 457 finished with value: 0.9635744427987579 and parameters: {'alpha': 2.1763473720976203e-06, 'l1_ratio': 2.648815220329368e-07}. Best is trial 332 with value: 0.9714564177069506.\u001b[0m\n",
      "\u001b[32m[I 2020-12-27 03:50:12,255]\u001b[0m Trial 458 finished with value: 0.9583907374591606 and parameters: {'alpha': 1.0667622723447134e-06, 'l1_ratio': 1.3157409360853023e-07}. Best is trial 332 with value: 0.9714564177069506.\u001b[0m\n",
      "\u001b[32m[I 2020-12-27 03:50:12,867]\u001b[0m Trial 459 finished with value: 0.96399224458682 and parameters: {'alpha': 7.540688730030716e-07, 'l1_ratio': 2.0711013903171814e-07}. Best is trial 332 with value: 0.9714564177069506.\u001b[0m\n",
      "\u001b[32m[I 2020-12-27 03:50:13,454]\u001b[0m Trial 460 finished with value: 0.9560010041703558 and parameters: {'alpha': 3.336675002385376e-07, 'l1_ratio': 4.2470424324605473e-07}. Best is trial 332 with value: 0.9714564177069506.\u001b[0m\n",
      "\u001b[32m[I 2020-12-27 03:50:13,910]\u001b[0m Trial 461 finished with value: 0.9569586781200307 and parameters: {'alpha': 6.662815319812021e-07, 'l1_ratio': 2.3536633560583996e-07}. Best is trial 332 with value: 0.9714564177069506.\u001b[0m\n",
      "\u001b[32m[I 2020-12-27 03:50:14,322]\u001b[0m Trial 462 finished with value: 0.9533717861204529 and parameters: {'alpha': 4.94404471435608e-07, 'l1_ratio': 1.5044288353014148e-07}. Best is trial 332 with value: 0.9714564177069506.\u001b[0m\n",
      "\u001b[32m[I 2020-12-27 03:50:14,760]\u001b[0m Trial 463 finished with value: 0.9531343139836239 and parameters: {'alpha': 1.5270196813676086e-07, 'l1_ratio': 5.467199291628862e-07}. Best is trial 332 with value: 0.9714564177069506.\u001b[0m\n",
      "\u001b[32m[I 2020-12-27 03:50:15,172]\u001b[0m Trial 464 finished with value: 0.953420437484369 and parameters: {'alpha': 8.670573463089472e-07, 'l1_ratio': 3.2413593245892785e-07}. Best is trial 332 with value: 0.9714564177069506.\u001b[0m\n",
      "\u001b[32m[I 2020-12-27 03:50:15,603]\u001b[0m Trial 465 finished with value: 0.9554266006361583 and parameters: {'alpha': 2.801226148449942e-07, 'l1_ratio': 1.4699930314418144e-07}. Best is trial 332 with value: 0.9714564177069506.\u001b[0m\n",
      "\u001b[32m[I 2020-12-27 03:50:16,001]\u001b[0m Trial 466 finished with value: 0.9572184665167163 and parameters: {'alpha': 6.975281815964919e-07, 'l1_ratio': 1.8739734137923702e-07}. Best is trial 332 with value: 0.9714564177069506.\u001b[0m\n",
      "\u001b[32m[I 2020-12-27 03:50:16,449]\u001b[0m Trial 467 finished with value: 0.9571771455507956 and parameters: {'alpha': 4.555508525375135e-07, 'l1_ratio': 9.274010855614266e-08}. Best is trial 332 with value: 0.9714564177069506.\u001b[0m\n",
      "\u001b[32m[I 2020-12-27 03:50:16,907]\u001b[0m Trial 468 finished with value: 0.9586141775270269 and parameters: {'alpha': 1.1682719906357905e-06, 'l1_ratio': 3.308225843771114e-07}. Best is trial 332 with value: 0.9714564177069506.\u001b[0m\n",
      "\u001b[32m[I 2020-12-27 03:50:17,301]\u001b[0m Trial 469 finished with value: 0.9573159059557224 and parameters: {'alpha': 1.6108885052507624e-06, 'l1_ratio': 1.149110490472353e-07}. Best is trial 332 with value: 0.9714564177069506.\u001b[0m\n",
      "\u001b[32m[I 2020-12-27 03:50:17,743]\u001b[0m Trial 470 finished with value: 0.95983836359157 and parameters: {'alpha': 8.38160731539306e-07, 'l1_ratio': 2.3436243649389455e-07}. Best is trial 332 with value: 0.9714564177069506.\u001b[0m\n",
      "\u001b[32m[I 2020-12-27 03:50:18,124]\u001b[0m Trial 471 finished with value: 0.9622396071153039 and parameters: {'alpha': 4.748132607129609e-06, 'l1_ratio': 9.366440564854476e-07}. Best is trial 332 with value: 0.9714564177069506.\u001b[0m\n",
      "\u001b[32m[I 2020-12-27 03:50:18,548]\u001b[0m Trial 472 finished with value: 0.9592756783388326 and parameters: {'alpha': 5.734886290824563e-07, 'l1_ratio': 1.361224212340988e-07}. Best is trial 332 with value: 0.9714564177069506.\u001b[0m\n",
      "\u001b[32m[I 2020-12-27 03:50:18,935]\u001b[0m Trial 473 finished with value: 0.955005765295806 and parameters: {'alpha': 2.4243740824607324e-06, 'l1_ratio': 7.577942321917396e-08}. Best is trial 332 with value: 0.9714564177069506.\u001b[0m\n",
      "\u001b[32m[I 2020-12-27 03:50:19,305]\u001b[0m Trial 474 finished with value: 0.9589139922810914 and parameters: {'alpha': 7.82598704300456e-06, 'l1_ratio': 9.054122402850152e-08}. Best is trial 332 with value: 0.9714564177069506.\u001b[0m\n",
      "\u001b[32m[I 2020-12-27 03:50:19,803]\u001b[0m Trial 475 finished with value: 0.9592217363142809 and parameters: {'alpha': 1.0388664485177751e-06, 'l1_ratio': 5.68100287565769e-08}. Best is trial 332 with value: 0.9714564177069506.\u001b[0m\n",
      "\u001b[32m[I 2020-12-27 03:50:20,248]\u001b[0m Trial 476 finished with value: 0.9593284857633128 and parameters: {'alpha': 1.3688497448062472e-06, 'l1_ratio': 0.03969599435307132}. Best is trial 332 with value: 0.9714564177069506.\u001b[0m\n",
      "\u001b[32m[I 2020-12-27 03:50:20,665]\u001b[0m Trial 477 finished with value: 0.963743295193549 and parameters: {'alpha': 4.2996888348947816e-07, 'l1_ratio': 5.516588720979736e-07}. Best is trial 332 with value: 0.9714564177069506.\u001b[0m\n",
      "\u001b[32m[I 2020-12-27 03:50:21,063]\u001b[0m Trial 478 finished with value: 0.9582147015570648 and parameters: {'alpha': 8.064248624272844e-07, 'l1_ratio': 0.01660997027549072}. Best is trial 332 with value: 0.9714564177069506.\u001b[0m\n",
      "\u001b[32m[I 2020-12-27 03:50:21,467]\u001b[0m Trial 479 finished with value: 0.9587691452170759 and parameters: {'alpha': 1.9252275509275066e-06, 'l1_ratio': 9.396655517451144e-08}. Best is trial 332 with value: 0.9714564177069506.\u001b[0m\n",
      "\u001b[32m[I 2020-12-27 03:50:21,877]\u001b[0m Trial 480 finished with value: 0.9584787290737735 and parameters: {'alpha': 3.107543546912467e-07, 'l1_ratio': 0.0009556757572558661}. Best is trial 332 with value: 0.9714564177069506.\u001b[0m\n"
     ]
    },
    {
     "name": "stderr",
     "output_type": "stream",
     "text": [
      "\u001b[32m[I 2020-12-27 03:50:22,330]\u001b[0m Trial 481 finished with value: 0.9629419779401426 and parameters: {'alpha': 6.456424723299003e-07, 'l1_ratio': 2.278429320266155e-07}. Best is trial 332 with value: 0.9714564177069506.\u001b[0m\n",
      "\u001b[32m[I 2020-12-27 03:50:22,735]\u001b[0m Trial 482 finished with value: 0.9586432826780613 and parameters: {'alpha': 1.1970780132348796e-06, 'l1_ratio': 5.365495414766894e-08}. Best is trial 332 with value: 0.9714564177069506.\u001b[0m\n",
      "\u001b[32m[I 2020-12-27 03:50:23,121]\u001b[0m Trial 483 finished with value: 0.9563475434099542 and parameters: {'alpha': 3.398444860865301e-06, 'l1_ratio': 0.11520397902071976}. Best is trial 332 with value: 0.9714564177069506.\u001b[0m\n",
      "\u001b[32m[I 2020-12-27 03:50:23,523]\u001b[0m Trial 484 finished with value: 0.9649904007740481 and parameters: {'alpha': 1.5579985070148925e-06, 'l1_ratio': 0.0023926053616261465}. Best is trial 332 with value: 0.9714564177069506.\u001b[0m\n",
      "\u001b[32m[I 2020-12-27 03:50:23,904]\u001b[0m Trial 485 finished with value: 0.9565254326110365 and parameters: {'alpha': 2.505065968885795e-06, 'l1_ratio': 0.0017326945454275782}. Best is trial 332 with value: 0.9714564177069506.\u001b[0m\n",
      "\u001b[32m[I 2020-12-27 03:50:24,336]\u001b[0m Trial 486 finished with value: 0.9566644231732815 and parameters: {'alpha': 1.3704615559301887e-06, 'l1_ratio': 0.0033026759177274697}. Best is trial 332 with value: 0.9714564177069506.\u001b[0m\n",
      "\u001b[32m[I 2020-12-27 03:50:24,731]\u001b[0m Trial 487 finished with value: 0.9574169147770648 and parameters: {'alpha': 1.8206414599708566e-06, 'l1_ratio': 0.0022530299341629975}. Best is trial 332 with value: 0.9714564177069506.\u001b[0m\n",
      "\u001b[32m[I 2020-12-27 03:50:25,144]\u001b[0m Trial 488 finished with value: 0.9567960248958052 and parameters: {'alpha': 3.8509315635799085e-06, 'l1_ratio': 0.0037407777908158354}. Best is trial 332 with value: 0.9714564177069506.\u001b[0m\n",
      "\u001b[32m[I 2020-12-27 03:50:25,540]\u001b[0m Trial 489 finished with value: 0.958968661211283 and parameters: {'alpha': 1.7381104229646412e-06, 'l1_ratio': 0.0059687501253140735}. Best is trial 332 with value: 0.9714564177069506.\u001b[0m\n",
      "\u001b[32m[I 2020-12-27 03:50:25,921]\u001b[0m Trial 490 finished with value: 0.9600110299436098 and parameters: {'alpha': 2.551901451114634e-06, 'l1_ratio': 0.009307197211434153}. Best is trial 332 with value: 0.9714564177069506.\u001b[0m\n",
      "\u001b[32m[I 2020-12-27 03:50:26,341]\u001b[0m Trial 491 finished with value: 0.9600938277898441 and parameters: {'alpha': 1.022278337719777e-06, 'l1_ratio': 0.005882549902997124}. Best is trial 332 with value: 0.9714564177069506.\u001b[0m\n",
      "\u001b[32m[I 2020-12-27 03:50:26,759]\u001b[0m Trial 492 finished with value: 0.9625956601640545 and parameters: {'alpha': 1.5114940801777134e-06, 'l1_ratio': 0.0013349142351040113}. Best is trial 332 with value: 0.9714564177069506.\u001b[0m\n",
      "\u001b[32m[I 2020-12-27 03:50:27,354]\u001b[0m Trial 493 finished with value: 0.9595292342654393 and parameters: {'alpha': 1.0281320246191953e-06, 'l1_ratio': 0.0031732365780064303}. Best is trial 332 with value: 0.9714564177069506.\u001b[0m\n",
      "\u001b[32m[I 2020-12-27 03:50:27,782]\u001b[0m Trial 494 finished with value: 0.956100238154624 and parameters: {'alpha': 2.0363946472989805e-06, 'l1_ratio': 0.000515829762696482}. Best is trial 332 with value: 0.9714564177069506.\u001b[0m\n",
      "\u001b[32m[I 2020-12-27 03:50:28,227]\u001b[0m Trial 495 finished with value: 0.9553614202789136 and parameters: {'alpha': 5.843990335685153e-07, 'l1_ratio': 0.004002830688402881}. Best is trial 332 with value: 0.9714564177069506.\u001b[0m\n",
      "\u001b[32m[I 2020-12-27 03:50:28,626]\u001b[0m Trial 496 finished with value: 0.9592237374316812 and parameters: {'alpha': 1.286035975143631e-06, 'l1_ratio': 0.001260574505037977}. Best is trial 332 with value: 0.9714564177069506.\u001b[0m\n",
      "\u001b[32m[I 2020-12-27 03:50:29,044]\u001b[0m Trial 497 finished with value: 0.961841166942199 and parameters: {'alpha': 8.736314139980415e-07, 'l1_ratio': 0.002246040569112396}. Best is trial 332 with value: 0.9714564177069506.\u001b[0m\n",
      "\u001b[32m[I 2020-12-27 03:50:29,504]\u001b[0m Trial 498 finished with value: 0.9574556766213002 and parameters: {'alpha': 4.1799336830407105e-07, 'l1_ratio': 0.022452190572912655}. Best is trial 332 with value: 0.9714564177069506.\u001b[0m\n",
      "\u001b[32m[I 2020-12-27 03:50:29,925]\u001b[0m Trial 499 finished with value: 0.9568265143019445 and parameters: {'alpha': 1.777465286022638e-06, 'l1_ratio': 0.013007099213477442}. Best is trial 332 with value: 0.9714564177069506.\u001b[0m\n",
      "\u001b[32m[I 2020-12-27 03:50:30,322]\u001b[0m Trial 500 finished with value: 0.9587014757961965 and parameters: {'alpha': 3.3855715208485714e-06, 'l1_ratio': 4.589859313438211e-08}. Best is trial 332 with value: 0.9714564177069506.\u001b[0m\n",
      "\u001b[32m[I 2020-12-27 03:50:30,739]\u001b[0m Trial 501 finished with value: 0.9538293167697243 and parameters: {'alpha': 8.823297168832383e-07, 'l1_ratio': 6.557024318768922e-08}. Best is trial 332 with value: 0.9714564177069506.\u001b[0m\n",
      "\u001b[32m[I 2020-12-27 03:50:31,165]\u001b[0m Trial 502 finished with value: 0.9631410479856682 and parameters: {'alpha': 1.3700848741810635e-06, 'l1_ratio': 0.0002737152547564529}. Best is trial 332 with value: 0.9714564177069506.\u001b[0m\n",
      "\u001b[32m[I 2020-12-27 03:50:31,648]\u001b[0m Trial 503 finished with value: 0.951967641148403 and parameters: {'alpha': 2.142389902913725e-07, 'l1_ratio': 0.0007455117031532252}. Best is trial 332 with value: 0.9714564177069506.\u001b[0m\n",
      "\u001b[32m[I 2020-12-27 03:50:32,065]\u001b[0m Trial 504 finished with value: 0.9333337404387358 and parameters: {'alpha': 0.0002537646041589563, 'l1_ratio': 0.005075462913536328}. Best is trial 332 with value: 0.9714564177069506.\u001b[0m\n",
      "\u001b[32m[I 2020-12-27 03:50:32,555]\u001b[0m Trial 505 finished with value: 0.9586259588556102 and parameters: {'alpha': 2.3867616360680565e-06, 'l1_ratio': 3.5009624941206685e-08}. Best is trial 332 with value: 0.9714564177069506.\u001b[0m\n",
      "\u001b[32m[I 2020-12-27 03:50:33,029]\u001b[0m Trial 506 finished with value: 0.9498180633513985 and parameters: {'alpha': 5.555804830551788e-07, 'l1_ratio': 1.0596240273345113e-07}. Best is trial 332 with value: 0.9714564177069506.\u001b[0m\n",
      "\u001b[32m[I 2020-12-27 03:50:33,470]\u001b[0m Trial 507 finished with value: 0.9617132687270799 and parameters: {'alpha': 1.0092807157891194e-06, 'l1_ratio': 6.264428826018163e-08}. Best is trial 332 with value: 0.9714564177069506.\u001b[0m\n",
      "\u001b[32m[I 2020-12-27 03:50:33,915]\u001b[0m Trial 508 finished with value: 0.9564211146592846 and parameters: {'alpha': 6.376987309093887e-07, 'l1_ratio': 3.796046145276431e-08}. Best is trial 332 with value: 0.9714564177069506.\u001b[0m\n",
      "\u001b[32m[I 2020-12-27 03:50:34,291]\u001b[0m Trial 509 finished with value: 0.9573418553328875 and parameters: {'alpha': 5.753521543615552e-06, 'l1_ratio': 0.009975365427298362}. Best is trial 332 with value: 0.9714564177069506.\u001b[0m\n",
      "\u001b[32m[I 2020-12-27 03:50:34,780]\u001b[0m Trial 510 finished with value: 0.9503336478051843 and parameters: {'alpha': 1.4555310093146808e-06, 'l1_ratio': 1.1457255829588615e-07}. Best is trial 332 with value: 0.9714564177069506.\u001b[0m\n",
      "\u001b[32m[I 2020-12-27 03:50:35,261]\u001b[0m Trial 511 finished with value: 0.9567953848126621 and parameters: {'alpha': 3.3964035424109295e-07, 'l1_ratio': 0.00207884517784531}. Best is trial 332 with value: 0.9714564177069506.\u001b[0m\n",
      "\u001b[32m[I 2020-12-27 03:50:35,934]\u001b[0m Trial 512 finished with value: 0.9580771997492433 and parameters: {'alpha': 8.063019431310065e-07, 'l1_ratio': 7.053628394287851e-08}. Best is trial 332 with value: 0.9714564177069506.\u001b[0m\n",
      "\u001b[32m[I 2020-12-27 03:50:36,403]\u001b[0m Trial 513 finished with value: 0.9552057951680106 and parameters: {'alpha': 2.968903734720991e-06, 'l1_ratio': 0.03284505569317476}. Best is trial 332 with value: 0.9714564177069506.\u001b[0m\n",
      "\u001b[32m[I 2020-12-27 03:50:36,892]\u001b[0m Trial 514 finished with value: 0.9535920462493783 and parameters: {'alpha': 1.209189568347777e-06, 'l1_ratio': 1.5582478281470748e-07}. Best is trial 332 with value: 0.9714564177069506.\u001b[0m\n",
      "\u001b[32m[I 2020-12-27 03:50:37,329]\u001b[0m Trial 515 finished with value: 0.9568700831709445 and parameters: {'alpha': 2.0253387491550745e-06, 'l1_ratio': 4.834402154214116e-08}. Best is trial 332 with value: 0.9714564177069506.\u001b[0m\n",
      "\u001b[32m[I 2020-12-27 03:50:37,908]\u001b[0m Trial 516 finished with value: 0.9666952137712411 and parameters: {'alpha': 4.908162062623339e-07, 'l1_ratio': 2.8740628961627872e-08}. Best is trial 332 with value: 0.9714564177069506.\u001b[0m\n",
      "\u001b[32m[I 2020-12-27 03:50:38,451]\u001b[0m Trial 517 finished with value: 0.9488894599999738 and parameters: {'alpha': 2.1475914429913854e-07, 'l1_ratio': 8.763286015029087e-08}. Best is trial 332 with value: 0.9714564177069506.\u001b[0m\n"
     ]
    },
    {
     "name": "stderr",
     "output_type": "stream",
     "text": [
      "\u001b[32m[I 2020-12-27 03:50:38,945]\u001b[0m Trial 518 finished with value: 0.9544592302457213 and parameters: {'alpha': 4.46284033524597e-07, 'l1_ratio': 4.0683522713222436e-08}. Best is trial 332 with value: 0.9714564177069506.\u001b[0m\n",
      "\u001b[32m[I 2020-12-27 03:50:39,464]\u001b[0m Trial 519 finished with value: 0.9586241754512097 and parameters: {'alpha': 2.641915382799293e-07, 'l1_ratio': 0.006962839083935995}. Best is trial 332 with value: 0.9714564177069506.\u001b[0m\n",
      "\u001b[32m[I 2020-12-27 03:50:39,883]\u001b[0m Trial 520 finished with value: 0.958253324646498 and parameters: {'alpha': 3.692345330918693e-07, 'l1_ratio': 0.019329363050046115}. Best is trial 332 with value: 0.9714564177069506.\u001b[0m\n",
      "\u001b[32m[I 2020-12-27 03:50:40,394]\u001b[0m Trial 521 finished with value: 0.9635718839591509 and parameters: {'alpha': 5.59267937780064e-07, 'l1_ratio': 7.490073101644888e-08}. Best is trial 332 with value: 0.9714564177069506.\u001b[0m\n",
      "\u001b[32m[I 2020-12-27 03:50:40,957]\u001b[0m Trial 522 finished with value: 0.9605163698714164 and parameters: {'alpha': 6.415882105803446e-07, 'l1_ratio': 1.5130698204677118e-07}. Best is trial 332 with value: 0.9714564177069506.\u001b[0m\n",
      "\u001b[32m[I 2020-12-27 03:50:41,515]\u001b[0m Trial 523 finished with value: 0.9564560753570563 and parameters: {'alpha': 4.654764948999534e-07, 'l1_ratio': 3.465089096483638e-08}. Best is trial 332 with value: 0.9714564177069506.\u001b[0m\n",
      "\u001b[32m[I 2020-12-27 03:50:41,924]\u001b[0m Trial 524 finished with value: 0.957929486407352 and parameters: {'alpha': 9.595521350086762e-07, 'l1_ratio': 0.05085374550484517}. Best is trial 332 with value: 0.9714564177069506.\u001b[0m\n",
      "\u001b[32m[I 2020-12-27 03:50:42,433]\u001b[0m Trial 525 finished with value: 0.9515201082386393 and parameters: {'alpha': 1.415336131700041e-07, 'l1_ratio': 5.336085375941731e-08}. Best is trial 332 with value: 0.9714564177069506.\u001b[0m\n",
      "\u001b[32m[I 2020-12-27 03:50:42,832]\u001b[0m Trial 526 finished with value: 0.9648943091127228 and parameters: {'alpha': 1.7116173080497161e-06, 'l1_ratio': 1.1743892017824307e-07}. Best is trial 332 with value: 0.9714564177069506.\u001b[0m\n",
      "\u001b[32m[I 2020-12-27 03:50:43,267]\u001b[0m Trial 527 finished with value: 0.9555119213730825 and parameters: {'alpha': 4.446329470135971e-06, 'l1_ratio': 3.1412668584971874e-07}. Best is trial 332 with value: 0.9714564177069506.\u001b[0m\n",
      "\u001b[32m[I 2020-12-27 03:50:43,653]\u001b[0m Trial 528 finished with value: 0.9602610912012762 and parameters: {'alpha': 2.7049664100012043e-06, 'l1_ratio': 1.1864892350385075e-07}. Best is trial 332 with value: 0.9714564177069506.\u001b[0m\n",
      "\u001b[32m[I 2020-12-27 03:50:44,048]\u001b[0m Trial 529 finished with value: 0.956181191617997 and parameters: {'alpha': 1.8241117433094668e-06, 'l1_ratio': 1.805354422118909e-07}. Best is trial 332 with value: 0.9714564177069506.\u001b[0m\n",
      "\u001b[32m[I 2020-12-27 03:50:44,518]\u001b[0m Trial 530 finished with value: 0.9583289207030035 and parameters: {'alpha': 8.196648144893804e-07, 'l1_ratio': 1.0259754522905613e-07}. Best is trial 332 with value: 0.9714564177069506.\u001b[0m\n",
      "\u001b[32m[I 2020-12-27 03:50:44,977]\u001b[0m Trial 531 finished with value: 0.9571818278222222 and parameters: {'alpha': 1.0366714147201271e-06, 'l1_ratio': 2.2498695501313534e-05}. Best is trial 332 with value: 0.9714564177069506.\u001b[0m\n",
      "\u001b[32m[I 2020-12-27 03:50:45,454]\u001b[0m Trial 532 finished with value: 0.956487038709861 and parameters: {'alpha': 3.2693592261983215e-07, 'l1_ratio': 5.7928451690073794e-08}. Best is trial 332 with value: 0.9714564177069506.\u001b[0m\n",
      "\u001b[32m[I 2020-12-27 03:50:46,073]\u001b[0m Trial 533 finished with value: 0.9618169733821568 and parameters: {'alpha': 1.3762562547181164e-06, 'l1_ratio': 2.0601111096753517e-07}. Best is trial 332 with value: 0.9714564177069506.\u001b[0m\n",
      "\u001b[32m[I 2020-12-27 03:50:46,568]\u001b[0m Trial 534 finished with value: 0.9634823405283548 and parameters: {'alpha': 5.565169773649023e-07, 'l1_ratio': 8.788802639945814e-08}. Best is trial 332 with value: 0.9714564177069506.\u001b[0m\n",
      "\u001b[32m[I 2020-12-27 03:50:47,000]\u001b[0m Trial 535 finished with value: 0.9628208626043205 and parameters: {'alpha': 7.150156338348059e-07, 'l1_ratio': 2.9456175640401045e-08}. Best is trial 332 with value: 0.9714564177069506.\u001b[0m\n",
      "\u001b[32m[I 2020-12-27 03:50:47,435]\u001b[0m Trial 536 finished with value: 0.96006446226767 and parameters: {'alpha': 2.1081086231923246e-06, 'l1_ratio': 1.4328876527862053e-07}. Best is trial 332 with value: 0.9714564177069506.\u001b[0m\n",
      "\u001b[32m[I 2020-12-27 03:50:47,833]\u001b[0m Trial 537 finished with value: 0.9501257307421768 and parameters: {'alpha': 1.067174609196142e-06, 'l1_ratio': 6.764492069727815e-07}. Best is trial 332 with value: 0.9714564177069506.\u001b[0m\n",
      "\u001b[32m[I 2020-12-27 03:50:48,254]\u001b[0m Trial 538 finished with value: 0.9081660771828451 and parameters: {'alpha': 0.0015752864540298152, 'l1_ratio': 0.001641184612648886}. Best is trial 332 with value: 0.9714564177069506.\u001b[0m\n",
      "\u001b[32m[I 2020-12-27 03:50:48,820]\u001b[0m Trial 539 finished with value: 0.9537043387689444 and parameters: {'alpha': 6.313658385454664e-09, 'l1_ratio': 3.671484633920491e-07}. Best is trial 332 with value: 0.9714564177069506.\u001b[0m\n",
      "\u001b[32m[I 2020-12-27 03:50:49,236]\u001b[0m Trial 540 finished with value: 0.9597909074602557 and parameters: {'alpha': 1.388337703753449e-06, 'l1_ratio': 2.2098380575980875e-08}. Best is trial 332 with value: 0.9714564177069506.\u001b[0m\n",
      "\u001b[32m[I 2020-12-27 03:50:49,702]\u001b[0m Trial 541 finished with value: 0.9594549727748473 and parameters: {'alpha': 4.21685116810276e-07, 'l1_ratio': 6.388485898430131e-08}. Best is trial 332 with value: 0.9714564177069506.\u001b[0m\n",
      "\u001b[32m[I 2020-12-27 03:50:50,109]\u001b[0m Trial 542 finished with value: 0.9594616569261001 and parameters: {'alpha': 3.1489284003084087e-06, 'l1_ratio': 1.0914654550590502e-07}. Best is trial 332 with value: 0.9714564177069506.\u001b[0m\n",
      "\u001b[32m[I 2020-12-27 03:50:50,532]\u001b[0m Trial 543 finished with value: 0.9584121679690168 and parameters: {'alpha': 1.6511541605357832e-06, 'l1_ratio': 0.0009318735080358994}. Best is trial 332 with value: 0.9714564177069506.\u001b[0m\n",
      "\u001b[32m[I 2020-12-27 03:50:50,993]\u001b[0m Trial 544 finished with value: 0.9547882971761934 and parameters: {'alpha': 7.924879646908477e-07, 'l1_ratio': 2.6259870971628956e-07}. Best is trial 332 with value: 0.9714564177069506.\u001b[0m\n",
      "\u001b[32m[I 2020-12-27 03:50:51,453]\u001b[0m Trial 545 finished with value: 0.9593341904285233 and parameters: {'alpha': 5.884645577585749e-07, 'l1_ratio': 3.9220540884263066e-08}. Best is trial 332 with value: 0.9714564177069506.\u001b[0m\n",
      "\u001b[32m[I 2020-12-27 03:50:51,949]\u001b[0m Trial 546 finished with value: 0.9586655984734137 and parameters: {'alpha': 2.324671531150275e-06, 'l1_ratio': 7.371140560431071e-08}. Best is trial 332 with value: 0.9714564177069506.\u001b[0m\n",
      "\u001b[32m[I 2020-12-27 03:50:52,482]\u001b[0m Trial 547 finished with value: 0.9558576403497729 and parameters: {'alpha': 1.158330232832166e-06, 'l1_ratio': 2.8188291733043764e-08}. Best is trial 332 with value: 0.9714564177069506.\u001b[0m\n",
      "\u001b[32m[I 2020-12-27 03:50:53,035]\u001b[0m Trial 548 finished with value: 0.9580714653644874 and parameters: {'alpha': 3.282502887826862e-07, 'l1_ratio': 0.0005069948194499582}. Best is trial 332 with value: 0.9714564177069506.\u001b[0m\n",
      "\u001b[32m[I 2020-12-27 03:50:53,580]\u001b[0m Trial 549 finished with value: 0.9603132513406142 and parameters: {'alpha': 7.687948646283455e-07, 'l1_ratio': 1.8119230989593556e-06}. Best is trial 332 with value: 0.9714564177069506.\u001b[0m\n",
      "\u001b[32m[I 2020-12-27 03:50:54,071]\u001b[0m Trial 550 finished with value: 0.9602044242900519 and parameters: {'alpha': 1.6613637243122314e-06, 'l1_ratio': 1.5001389621324415e-07}. Best is trial 332 with value: 0.9714564177069506.\u001b[0m\n",
      "\u001b[32m[I 2020-12-27 03:50:54,667]\u001b[0m Trial 551 finished with value: 0.9630190714424359 and parameters: {'alpha': 4.6637689202724696e-07, 'l1_ratio': 5.045762544448554e-08}. Best is trial 332 with value: 0.9714564177069506.\u001b[0m\n",
      "\u001b[32m[I 2020-12-27 03:50:55,254]\u001b[0m Trial 552 finished with value: 0.9546129646218124 and parameters: {'alpha': 2.2159117397800018e-07, 'l1_ratio': 7.745731873288577e-08}. Best is trial 332 with value: 0.9714564177069506.\u001b[0m\n",
      "\u001b[32m[I 2020-12-27 03:50:55,691]\u001b[0m Trial 553 finished with value: 0.9601599999163614 and parameters: {'alpha': 1.128231030691973e-06, 'l1_ratio': 0.002614162504241987}. Best is trial 332 with value: 0.9714564177069506.\u001b[0m\n",
      "\u001b[32m[I 2020-12-27 03:50:56,143]\u001b[0m Trial 554 finished with value: 0.9523007966487403 and parameters: {'alpha': 7.003228134641502e-07, 'l1_ratio': 2.1433884385066695e-08}. Best is trial 332 with value: 0.9714564177069506.\u001b[0m\n"
     ]
    },
    {
     "name": "stderr",
     "output_type": "stream",
     "text": [
      "\u001b[32m[I 2020-12-27 03:50:56,540]\u001b[0m Trial 555 finished with value: 0.954995456078183 and parameters: {'alpha': 2.5756196500747704e-06, 'l1_ratio': 1.1387309196176373e-07}. Best is trial 332 with value: 0.9714564177069506.\u001b[0m\n",
      "\u001b[32m[I 2020-12-27 03:50:56,960]\u001b[0m Trial 556 finished with value: 0.9613906101102899 and parameters: {'alpha': 1.1832790206338446e-06, 'l1_ratio': 1.9360787357437734e-07}. Best is trial 332 with value: 0.9714564177069506.\u001b[0m\n",
      "\u001b[32m[I 2020-12-27 03:50:57,435]\u001b[0m Trial 557 finished with value: 0.9622396071153039 and parameters: {'alpha': 4.6060838202721856e-06, 'l1_ratio': 4.7168208593314104e-08}. Best is trial 332 with value: 0.9714564177069506.\u001b[0m\n",
      "\u001b[32m[I 2020-12-27 03:50:57,945]\u001b[0m Trial 558 finished with value: 0.9532021442775009 and parameters: {'alpha': 1.7802067497868722e-06, 'l1_ratio': 9.277695301563987e-08}. Best is trial 332 with value: 0.9714564177069506.\u001b[0m\n",
      "\u001b[32m[I 2020-12-27 03:50:58,407]\u001b[0m Trial 559 finished with value: 0.9528069241060518 and parameters: {'alpha': 4.982068742373981e-07, 'l1_ratio': 4.526385061906509e-07}. Best is trial 332 with value: 0.9714564177069506.\u001b[0m\n",
      "\u001b[32m[I 2020-12-27 03:50:58,825]\u001b[0m Trial 560 finished with value: 0.9559225948165234 and parameters: {'alpha': 8.179478354139396e-07, 'l1_ratio': 7.114615655857001e-05}. Best is trial 332 with value: 0.9714564177069506.\u001b[0m\n",
      "\u001b[32m[I 2020-12-27 03:50:59,245]\u001b[0m Trial 561 finished with value: 0.9613134080475061 and parameters: {'alpha': 1.323114580039245e-06, 'l1_ratio': 3.1841320910427325e-08}. Best is trial 332 with value: 0.9714564177069506.\u001b[0m\n",
      "\u001b[32m[I 2020-12-27 03:50:59,701]\u001b[0m Trial 562 finished with value: 0.9504807819443316 and parameters: {'alpha': 2.999355874791413e-07, 'l1_ratio': 5.6794540380046484e-08}. Best is trial 332 with value: 0.9714564177069506.\u001b[0m\n",
      "\u001b[32m[I 2020-12-27 03:51:00,143]\u001b[0m Trial 563 finished with value: 0.9591832108656426 and parameters: {'alpha': 9.125995466328814e-07, 'l1_ratio': 0.0046337101316754024}. Best is trial 332 with value: 0.9714564177069506.\u001b[0m\n",
      "\u001b[32m[I 2020-12-27 03:51:00,525]\u001b[0m Trial 564 finished with value: 0.9586603665158732 and parameters: {'alpha': 3.564344064581154e-06, 'l1_ratio': 1.5380662941805868e-08}. Best is trial 332 with value: 0.9714564177069506.\u001b[0m\n",
      "\u001b[32m[I 2020-12-27 03:51:00,930]\u001b[0m Trial 565 finished with value: 0.9582133667191456 and parameters: {'alpha': 2.1451126361366286e-06, 'l1_ratio': 1.024453045177253e-06}. Best is trial 332 with value: 0.9714564177069506.\u001b[0m\n",
      "\u001b[32m[I 2020-12-27 03:51:01,362]\u001b[0m Trial 566 finished with value: 0.9508120546585643 and parameters: {'alpha': 6.318200819667242e-07, 'l1_ratio': 1.7481162598756702e-07}. Best is trial 332 with value: 0.9714564177069506.\u001b[0m\n",
      "\u001b[32m[I 2020-12-27 03:51:01,773]\u001b[0m Trial 567 finished with value: 0.9560611458975665 and parameters: {'alpha': 1.5615179150397346e-06, 'l1_ratio': 8.162673741228568e-08}. Best is trial 332 with value: 0.9714564177069506.\u001b[0m\n",
      "\u001b[32m[I 2020-12-27 03:51:02,198]\u001b[0m Trial 568 finished with value: 0.9539303353219163 and parameters: {'alpha': 1.0098785748963e-06, 'l1_ratio': 2.9088172754176e-07}. Best is trial 332 with value: 0.9714564177069506.\u001b[0m\n",
      "\u001b[32m[I 2020-12-27 03:51:02,629]\u001b[0m Trial 569 finished with value: 0.9598550627306186 and parameters: {'alpha': 4.57405265716799e-07, 'l1_ratio': 4.404819186862116e-08}. Best is trial 332 with value: 0.9714564177069506.\u001b[0m\n",
      "\u001b[32m[I 2020-12-27 03:51:03,147]\u001b[0m Trial 570 finished with value: 0.9564743224358607 and parameters: {'alpha': 6.550362714478143e-07, 'l1_ratio': 0.001380917566468152}. Best is trial 332 with value: 0.9714564177069506.\u001b[0m\n",
      "\u001b[32m[I 2020-12-27 03:51:03,565]\u001b[0m Trial 571 finished with value: 0.9565715557366716 and parameters: {'alpha': 1.115973350982059e-06, 'l1_ratio': 2.1653788427770923e-08}. Best is trial 332 with value: 0.9714564177069506.\u001b[0m\n",
      "\u001b[32m[I 2020-12-27 03:51:03,980]\u001b[0m Trial 572 finished with value: 0.9569541888477615 and parameters: {'alpha': 2.5502233270275614e-06, 'l1_ratio': 1.002409233323031e-07}. Best is trial 332 with value: 0.9714564177069506.\u001b[0m\n",
      "\u001b[32m[I 2020-12-27 03:51:04,443]\u001b[0m Trial 573 finished with value: 0.9569333456108302 and parameters: {'alpha': 1.6586322579156976e-06, 'l1_ratio': 1.4160131644040153e-07}. Best is trial 332 with value: 0.9714564177069506.\u001b[0m\n",
      "\u001b[32m[I 2020-12-27 03:51:04,868]\u001b[0m Trial 574 finished with value: 0.9618306266959823 and parameters: {'alpha': 8.309766264199085e-07, 'l1_ratio': 0.0029252585122740726}. Best is trial 332 with value: 0.9714564177069506.\u001b[0m\n",
      "\u001b[32m[I 2020-12-27 03:51:05,339]\u001b[0m Trial 575 finished with value: 0.9531477246752235 and parameters: {'alpha': 3.3630252300338353e-07, 'l1_ratio': 3.684555053789784e-08}. Best is trial 332 with value: 0.9714564177069506.\u001b[0m\n",
      "\u001b[32m[I 2020-12-27 03:51:05,811]\u001b[0m Trial 576 finished with value: 0.962833933235594 and parameters: {'alpha': 1.3578433082346757e-06, 'l1_ratio': 0.21645100120112484}. Best is trial 332 with value: 0.9714564177069506.\u001b[0m\n",
      "\u001b[32m[I 2020-12-27 03:51:06,305]\u001b[0m Trial 577 finished with value: 0.9596801081352768 and parameters: {'alpha': 1.7383530704642246e-07, 'l1_ratio': 6.314537006582823e-08}. Best is trial 332 with value: 0.9714564177069506.\u001b[0m\n",
      "\u001b[32m[I 2020-12-27 03:51:06,840]\u001b[0m Trial 578 finished with value: 0.9501001728114998 and parameters: {'alpha': 5.335931151848444e-07, 'l1_ratio': 0.00028498645862789297}. Best is trial 332 with value: 0.9714564177069506.\u001b[0m\n",
      "\u001b[32m[I 2020-12-27 03:51:07,374]\u001b[0m Trial 579 finished with value: 0.9528258019801688 and parameters: {'alpha': 2.0282780908082935e-06, 'l1_ratio': 2.647768000230139e-07}. Best is trial 332 with value: 0.9714564177069506.\u001b[0m\n",
      "\u001b[32m[I 2020-12-27 03:51:07,888]\u001b[0m Trial 580 finished with value: 0.9577901914106418 and parameters: {'alpha': 8.178678558542274e-06, 'l1_ratio': 8.43184428762553e-09}. Best is trial 332 with value: 0.9714564177069506.\u001b[0m\n",
      "\u001b[32m[I 2020-12-27 03:51:08,435]\u001b[0m Trial 581 finished with value: 0.9567168991719023 and parameters: {'alpha': 9.060619796923421e-07, 'l1_ratio': 0.00017554867696189898}. Best is trial 332 with value: 0.9714564177069506.\u001b[0m\n",
      "\u001b[32m[I 2020-12-27 03:51:08,926]\u001b[0m Trial 582 finished with value: 0.9571220663127753 and parameters: {'alpha': 2.938376150283914e-06, 'l1_ratio': 2.733280120830403e-08}. Best is trial 332 with value: 0.9714564177069506.\u001b[0m\n",
      "\u001b[32m[I 2020-12-27 03:51:09,483]\u001b[0m Trial 583 finished with value: 0.9534971942656222 and parameters: {'alpha': 6.789586015752381e-07, 'l1_ratio': 0.000637914436455981}. Best is trial 332 with value: 0.9714564177069506.\u001b[0m\n",
      "\u001b[32m[I 2020-12-27 03:51:10,045]\u001b[0m Trial 584 finished with value: 0.9614250485218153 and parameters: {'alpha': 1.2958922774379696e-06, 'l1_ratio': 6.827750230878637e-08}. Best is trial 332 with value: 0.9714564177069506.\u001b[0m\n",
      "\u001b[32m[I 2020-12-27 03:51:10,612]\u001b[0m Trial 585 finished with value: 0.9589527241415454 and parameters: {'alpha': 1.0602653458878502e-06, 'l1_ratio': 1.1463988095752333e-07}. Best is trial 332 with value: 0.9714564177069506.\u001b[0m\n",
      "\u001b[32m[I 2020-12-27 03:51:11,278]\u001b[0m Trial 586 finished with value: 0.9556857513189448 and parameters: {'alpha': 8.96476718274207e-08, 'l1_ratio': 4.7461163189243135e-07}. Best is trial 332 with value: 0.9714564177069506.\u001b[0m\n",
      "\u001b[32m[I 2020-12-27 03:51:11,846]\u001b[0m Trial 587 finished with value: 0.9617140109861997 and parameters: {'alpha': 4.5401905604059845e-07, 'l1_ratio': 1.714227944259136e-08}. Best is trial 332 with value: 0.9714564177069506.\u001b[0m\n",
      "\u001b[32m[I 2020-12-27 03:51:12,347]\u001b[0m Trial 588 finished with value: 0.958716578796499 and parameters: {'alpha': 1.8309362127947028e-06, 'l1_ratio': 6.562275508064808e-06}. Best is trial 332 with value: 0.9714564177069506.\u001b[0m\n",
      "\u001b[32m[I 2020-12-27 03:51:12,799]\u001b[0m Trial 589 finished with value: 0.9565241633986518 and parameters: {'alpha': 7.116108503182366e-07, 'l1_ratio': 1.9132174268381167e-07}. Best is trial 332 with value: 0.9714564177069506.\u001b[0m\n",
      "\u001b[32m[I 2020-12-27 03:51:13,199]\u001b[0m Trial 590 finished with value: 0.958665929936399 and parameters: {'alpha': 3.99991973843382e-06, 'l1_ratio': 0.0017619003358810305}. Best is trial 332 with value: 0.9714564177069506.\u001b[0m\n",
      "\u001b[32m[I 2020-12-27 03:51:13,835]\u001b[0m Trial 591 finished with value: 0.9555196556101646 and parameters: {'alpha': 3.3963526819904345e-07, 'l1_ratio': 4.359902091019513e-08}. Best is trial 332 with value: 0.9714564177069506.\u001b[0m\n"
     ]
    },
    {
     "name": "stderr",
     "output_type": "stream",
     "text": [
      "\u001b[32m[I 2020-12-27 03:51:14,455]\u001b[0m Trial 592 finished with value: 0.9605818084449379 and parameters: {'alpha': 1.460620138545715e-06, 'l1_ratio': 7.239539885853753e-08}. Best is trial 332 with value: 0.9714564177069506.\u001b[0m\n",
      "\u001b[32m[I 2020-12-27 03:51:15,070]\u001b[0m Trial 593 finished with value: 0.9561039909916589 and parameters: {'alpha': 9.516555870789981e-07, 'l1_ratio': 1.3824924876742152e-07}. Best is trial 332 with value: 0.9714564177069506.\u001b[0m\n",
      "\u001b[32m[I 2020-12-27 03:51:15,827]\u001b[0m Trial 594 finished with value: 0.9549168065262644 and parameters: {'alpha': 5.261893672403603e-07, 'l1_ratio': 0.005032711853118277}. Best is trial 332 with value: 0.9714564177069506.\u001b[0m\n",
      "\u001b[32m[I 2020-12-27 03:51:16,624]\u001b[0m Trial 595 finished with value: 0.9574375049954705 and parameters: {'alpha': 2.4692318533900297e-07, 'l1_ratio': 3.314244685438128e-08}. Best is trial 332 with value: 0.9714564177069506.\u001b[0m\n",
      "\u001b[32m[I 2020-12-27 03:51:17,209]\u001b[0m Trial 596 finished with value: 0.9587014757961965 and parameters: {'alpha': 2.1702384617031996e-06, 'l1_ratio': 5.472536839370187e-09}. Best is trial 332 with value: 0.9714564177069506.\u001b[0m\n",
      "\u001b[32m[I 2020-12-27 03:51:17,868]\u001b[0m Trial 597 finished with value: 0.9609907949879951 and parameters: {'alpha': 1.1372475438880358e-06, 'l1_ratio': 3.117514167374217e-06}. Best is trial 332 with value: 0.9714564177069506.\u001b[0m\n",
      "\u001b[32m[I 2020-12-27 03:51:18,482]\u001b[0m Trial 598 finished with value: 0.955684050025048 and parameters: {'alpha': 7.327929653260066e-07, 'l1_ratio': 9.235902966431913e-08}. Best is trial 332 with value: 0.9714564177069506.\u001b[0m\n",
      "\u001b[32m[I 2020-12-27 03:51:19,062]\u001b[0m Trial 599 finished with value: 0.9550683458418887 and parameters: {'alpha': 1.6966693012635546e-06, 'l1_ratio': 1.0533249008106728e-08}. Best is trial 332 with value: 0.9714564177069506.\u001b[0m\n",
      "\u001b[32m[I 2020-12-27 03:51:19,634]\u001b[0m Trial 600 finished with value: 0.9566077606879114 and parameters: {'alpha': 3.0580414545946248e-06, 'l1_ratio': 4.167939936057638e-05}. Best is trial 332 with value: 0.9714564177069506.\u001b[0m\n",
      "\u001b[32m[I 2020-12-27 03:51:20,256]\u001b[0m Trial 601 finished with value: 0.9642242820204362 and parameters: {'alpha': 4.798637739522047e-07, 'l1_ratio': 3.403795348037632e-09}. Best is trial 332 with value: 0.9714564177069506.\u001b[0m\n",
      "\u001b[32m[I 2020-12-27 03:51:20,946]\u001b[0m Trial 602 finished with value: 0.9528939779589294 and parameters: {'alpha': 2.68936279074091e-07, 'l1_ratio': 9.785455102914312e-10}. Best is trial 332 with value: 0.9714564177069506.\u001b[0m\n",
      "\u001b[32m[I 2020-12-27 03:51:21,545]\u001b[0m Trial 603 finished with value: 0.9596427175681232 and parameters: {'alpha': 1.8332534561802924e-07, 'l1_ratio': 2.2475672562389786e-09}. Best is trial 332 with value: 0.9714564177069506.\u001b[0m\n",
      "\u001b[32m[I 2020-12-27 03:51:22,148]\u001b[0m Trial 604 finished with value: 0.963231275804529 and parameters: {'alpha': 4.279534247431831e-07, 'l1_ratio': 0.0032218447085020415}. Best is trial 332 with value: 0.9714564177069506.\u001b[0m\n",
      "\u001b[32m[I 2020-12-27 03:51:22,715]\u001b[0m Trial 605 finished with value: 0.9440476221544416 and parameters: {'alpha': 3.542914791168335e-07, 'l1_ratio': 6.212327385381949e-09}. Best is trial 332 with value: 0.9714564177069506.\u001b[0m\n",
      "\u001b[32m[I 2020-12-27 03:51:23,362]\u001b[0m Trial 606 finished with value: 0.9569140183633625 and parameters: {'alpha': 4.952792960636703e-07, 'l1_ratio': 1.4058251117248858e-09}. Best is trial 332 with value: 0.9714564177069506.\u001b[0m\n",
      "\u001b[32m[I 2020-12-27 03:51:23,948]\u001b[0m Trial 607 finished with value: 0.9633856945934064 and parameters: {'alpha': 6.385402184765001e-07, 'l1_ratio': 2.309325386803479e-09}. Best is trial 332 with value: 0.9714564177069506.\u001b[0m\n",
      "\u001b[32m[I 2020-12-27 03:51:24,667]\u001b[0m Trial 608 finished with value: 0.9600682076519773 and parameters: {'alpha': 3.440931915363101e-07, 'l1_ratio': 6.5178990474006835e-09}. Best is trial 332 with value: 0.9714564177069506.\u001b[0m\n",
      "\u001b[32m[I 2020-12-27 03:51:25,294]\u001b[0m Trial 609 finished with value: 0.9571721089133026 and parameters: {'alpha': 6.023594680521081e-07, 'l1_ratio': 2.827402890732538e-09}. Best is trial 332 with value: 0.9714564177069506.\u001b[0m\n",
      "\u001b[32m[I 2020-12-27 03:51:25,946]\u001b[0m Trial 610 finished with value: 0.9595321864219409 and parameters: {'alpha': 8.764567417743161e-07, 'l1_ratio': 3.4365373609664998e-09}. Best is trial 332 with value: 0.9714564177069506.\u001b[0m\n",
      "\u001b[32m[I 2020-12-27 03:51:26,598]\u001b[0m Trial 611 finished with value: 0.952753146315323 and parameters: {'alpha': 4.681919690536048e-07, 'l1_ratio': 1.9665780502189464e-08}. Best is trial 332 with value: 0.9714564177069506.\u001b[0m\n",
      "\u001b[32m[I 2020-12-27 03:51:27,241]\u001b[0m Trial 612 finished with value: 0.9571653685187967 and parameters: {'alpha': 7.482062298764016e-07, 'l1_ratio': 1.1754298408470558e-08}. Best is trial 332 with value: 0.9714564177069506.\u001b[0m\n",
      "\u001b[32m[I 2020-12-27 03:51:27,857]\u001b[0m Trial 613 finished with value: 0.9587488933464753 and parameters: {'alpha': 1.0272887704348572e-06, 'l1_ratio': 3.886134759873987e-09}. Best is trial 332 with value: 0.9714564177069506.\u001b[0m\n",
      "\u001b[32m[I 2020-12-27 03:51:28,506]\u001b[0m Trial 614 finished with value: 0.9599263786315154 and parameters: {'alpha': 2.4245145392639425e-07, 'l1_ratio': 4.343214109192833e-09}. Best is trial 332 with value: 0.9714564177069506.\u001b[0m\n",
      "\u001b[32m[I 2020-12-27 03:51:29,126]\u001b[0m Trial 615 finished with value: 0.9539559400811447 and parameters: {'alpha': 3.9795085800501494e-07, 'l1_ratio': 6.797236308748529e-10}. Best is trial 332 with value: 0.9714564177069506.\u001b[0m\n",
      "\u001b[32m[I 2020-12-27 03:51:29,518]\u001b[0m Trial 616 finished with value: 0.9543260586321648 and parameters: {'alpha': 6.173583326029754e-07, 'l1_ratio': 1.8654477669351103e-09}. Best is trial 332 with value: 0.9714564177069506.\u001b[0m\n",
      "\u001b[32m[I 2020-12-27 03:51:29,931]\u001b[0m Trial 617 finished with value: 0.958720906271179 and parameters: {'alpha': 1.2598652354291782e-06, 'l1_ratio': 5.00594521131005e-08}. Best is trial 332 with value: 0.9714564177069506.\u001b[0m\n",
      "\u001b[32m[I 2020-12-27 03:51:30,365]\u001b[0m Trial 618 finished with value: 0.9607170292400161 and parameters: {'alpha': 8.015205844801472e-07, 'l1_ratio': 0.006798632003636998}. Best is trial 332 with value: 0.9714564177069506.\u001b[0m\n",
      "\u001b[32m[I 2020-12-27 03:51:30,753]\u001b[0m Trial 619 finished with value: 0.9640823329357011 and parameters: {'alpha': 1.7653995254694912e-06, 'l1_ratio': 7.980724253727837e-07}. Best is trial 332 with value: 0.9714564177069506.\u001b[0m\n",
      "\u001b[32m[I 2020-12-27 03:51:31,133]\u001b[0m Trial 620 finished with value: 0.9571017731461624 and parameters: {'alpha': 5.42283969456483e-06, 'l1_ratio': 0.009278525192566285}. Best is trial 332 with value: 0.9714564177069506.\u001b[0m\n",
      "\u001b[32m[I 2020-12-27 03:51:31,554]\u001b[0m Trial 621 finished with value: 0.9594358150157635 and parameters: {'alpha': 1.0436011164843873e-06, 'l1_ratio': 2.950818000319998e-08}. Best is trial 332 with value: 0.9714564177069506.\u001b[0m\n",
      "\u001b[32m[I 2020-12-27 03:51:32,025]\u001b[0m Trial 622 finished with value: 0.9539542374120438 and parameters: {'alpha': 5.064224187856305e-07, 'l1_ratio': 0.0009760788054910781}. Best is trial 332 with value: 0.9714564177069506.\u001b[0m\n",
      "\u001b[32m[I 2020-12-27 03:51:32,748]\u001b[0m Trial 623 finished with value: 0.9511532032485994 and parameters: {'alpha': 2.161917288585488e-08, 'l1_ratio': 1.2336281695848974e-08}. Best is trial 332 with value: 0.9714564177069506.\u001b[0m\n",
      "\u001b[32m[I 2020-12-27 03:51:33,314]\u001b[0m Trial 624 finished with value: 0.9582096580960999 and parameters: {'alpha': 2.4795656830544876e-06, 'l1_ratio': 3.0059174783405503e-07}. Best is trial 332 with value: 0.9714564177069506.\u001b[0m\n",
      "\u001b[32m[I 2020-12-27 03:51:33,840]\u001b[0m Trial 625 finished with value: 0.9564805620782388 and parameters: {'alpha': 1.3011390599849643e-06, 'l1_ratio': 2.011232957743543e-08}. Best is trial 332 with value: 0.9714564177069506.\u001b[0m\n",
      "\u001b[32m[I 2020-12-27 03:51:34,326]\u001b[0m Trial 626 finished with value: 0.9541228729747425 and parameters: {'alpha': 2.797114098853042e-07, 'l1_ratio': 5.057316540807182e-08}. Best is trial 332 with value: 0.9714564177069506.\u001b[0m\n",
      "\u001b[32m[I 2020-12-27 03:51:34,771]\u001b[0m Trial 627 finished with value: 0.958129741555791 and parameters: {'alpha': 7.483414987169138e-07, 'l1_ratio': 0.0698958373217438}. Best is trial 332 with value: 0.9714564177069506.\u001b[0m\n",
      "\u001b[32m[I 2020-12-27 03:51:35,170]\u001b[0m Trial 628 finished with value: 0.9595604413322937 and parameters: {'alpha': 1.497843315189211e-06, 'l1_ratio': 0.0004173476440802928}. Best is trial 332 with value: 0.9714564177069506.\u001b[0m\n"
     ]
    },
    {
     "name": "stderr",
     "output_type": "stream",
     "text": [
      "\u001b[32m[I 2020-12-27 03:51:35,634]\u001b[0m Trial 629 finished with value: 0.9619382652782529 and parameters: {'alpha': 4.099699564773921e-07, 'l1_ratio': 0.002177700122972292}. Best is trial 332 with value: 0.9714564177069506.\u001b[0m\n",
      "\u001b[32m[I 2020-12-27 03:51:36,097]\u001b[0m Trial 630 finished with value: 0.9603162374477551 and parameters: {'alpha': 9.650754489513867e-07, 'l1_ratio': 9.04466783655712e-09}. Best is trial 332 with value: 0.9714564177069506.\u001b[0m\n",
      "\u001b[32m[I 2020-12-27 03:51:36,565]\u001b[0m Trial 631 finished with value: 0.9604801829111689 and parameters: {'alpha': 2.1664047023591462e-06, 'l1_ratio': 2.0078567745355068e-07}. Best is trial 332 with value: 0.9714564177069506.\u001b[0m\n",
      "\u001b[32m[I 2020-12-27 03:51:36,972]\u001b[0m Trial 632 finished with value: 0.9596529217820683 and parameters: {'alpha': 6.485747473208413e-07, 'l1_ratio': 0.003792970043554905}. Best is trial 332 with value: 0.9714564177069506.\u001b[0m\n",
      "\u001b[32m[I 2020-12-27 03:51:37,452]\u001b[0m Trial 633 finished with value: 0.9571295155176315 and parameters: {'alpha': 1.4341313626996632e-07, 'l1_ratio': 3.3381979167028045e-08}. Best is trial 332 with value: 0.9714564177069506.\u001b[0m\n",
      "\u001b[32m[I 2020-12-27 03:51:37,868]\u001b[0m Trial 634 finished with value: 0.9574527920998478 and parameters: {'alpha': 3.561735539963757e-06, 'l1_ratio': 1.182070775394283e-07}. Best is trial 332 with value: 0.9714564177069506.\u001b[0m\n",
      "\u001b[32m[I 2020-12-27 03:51:38,284]\u001b[0m Trial 635 finished with value: 0.9581743926974203 and parameters: {'alpha': 1.4862088159595777e-06, 'l1_ratio': 3.2497656935182937e-09}. Best is trial 332 with value: 0.9714564177069506.\u001b[0m\n",
      "\u001b[32m[I 2020-12-27 03:51:38,714]\u001b[0m Trial 636 finished with value: 0.9620362962990012 and parameters: {'alpha': 9.13279821425021e-07, 'l1_ratio': 6.187267820581947e-08}. Best is trial 332 with value: 0.9714564177069506.\u001b[0m\n",
      "\u001b[32m[I 2020-12-27 03:51:39,075]\u001b[0m Trial 637 finished with value: 0.9559767522697454 and parameters: {'alpha': 1.1869837791652114e-05, 'l1_ratio': 0.02736504911676217}. Best is trial 332 with value: 0.9714564177069506.\u001b[0m\n",
      "\u001b[32m[I 2020-12-27 03:51:39,498]\u001b[0m Trial 638 finished with value: 0.9619970205540161 and parameters: {'alpha': 5.453423919135461e-07, 'l1_ratio': 5.758870515248066e-07}. Best is trial 332 with value: 0.9714564177069506.\u001b[0m\n",
      "\u001b[32m[I 2020-12-27 03:51:39,967]\u001b[0m Trial 639 finished with value: 0.9454382392438733 and parameters: {'alpha': 5.4491330712390205e-08, 'l1_ratio': 8.253745351018967e-08}. Best is trial 332 with value: 0.9714564177069506.\u001b[0m\n",
      "\u001b[32m[I 2020-12-27 03:51:40,389]\u001b[0m Trial 640 finished with value: 0.9600721518371722 and parameters: {'alpha': 1.079122858434078e-06, 'l1_ratio': 1.9903574331308487e-08}. Best is trial 332 with value: 0.9714564177069506.\u001b[0m\n",
      "\u001b[32m[I 2020-12-27 03:51:40,894]\u001b[0m Trial 641 finished with value: 0.9586540571157423 and parameters: {'alpha': 2.3164465019729524e-06, 'l1_ratio': 1.4407883642821045e-06}. Best is trial 332 with value: 0.9714564177069506.\u001b[0m\n",
      "\u001b[32m[I 2020-12-27 03:51:41,502]\u001b[0m Trial 642 finished with value: 0.9576735919543005 and parameters: {'alpha': 3.471480125888337e-07, 'l1_ratio': 0.011975709597524253}. Best is trial 332 with value: 0.9714564177069506.\u001b[0m\n",
      "\u001b[32m[I 2020-12-27 03:51:42,014]\u001b[0m Trial 643 finished with value: 0.9564399380134626 and parameters: {'alpha': 6.261521488565108e-07, 'l1_ratio': 0.0013318286049090453}. Best is trial 332 with value: 0.9714564177069506.\u001b[0m\n",
      "\u001b[32m[I 2020-12-27 03:51:42,446]\u001b[0m Trial 644 finished with value: 0.9515284897549502 and parameters: {'alpha': 1.5521713153578777e-06, 'l1_ratio': 3.6021879479646436e-08}. Best is trial 332 with value: 0.9714564177069506.\u001b[0m\n",
      "\u001b[32m[I 2020-12-27 03:51:43,020]\u001b[0m Trial 645 finished with value: 0.9552435612537297 and parameters: {'alpha': 7.883159187111047e-07, 'l1_ratio': 0.00011562183833755577}. Best is trial 332 with value: 0.9714564177069506.\u001b[0m\n",
      "\u001b[32m[I 2020-12-27 03:51:43,489]\u001b[0m Trial 646 finished with value: 0.9557713100220402 and parameters: {'alpha': 1.1817293779357927e-06, 'l1_ratio': 1.6579239507588858e-07}. Best is trial 332 with value: 0.9714564177069506.\u001b[0m\n",
      "\u001b[32m[I 2020-12-27 03:51:44,001]\u001b[0m Trial 647 finished with value: 0.9618820344225413 and parameters: {'alpha': 4.817489130066648e-07, 'l1_ratio': 5.735429399919027e-09}. Best is trial 332 with value: 0.9714564177069506.\u001b[0m\n",
      "\u001b[32m[I 2020-12-27 03:51:44,509]\u001b[0m Trial 648 finished with value: 0.9557783626668434 and parameters: {'alpha': 2.0034091918463328e-07, 'l1_ratio': 4.864652635439219e-08}. Best is trial 332 with value: 0.9714564177069506.\u001b[0m\n",
      "\u001b[32m[I 2020-12-27 03:51:44,979]\u001b[0m Trial 649 finished with value: 0.9613869255456476 and parameters: {'alpha': 1.9800904817108372e-06, 'l1_ratio': 3.329108968383557e-07}. Best is trial 332 with value: 0.9714564177069506.\u001b[0m\n",
      "\u001b[32m[I 2020-12-27 03:51:45,558]\u001b[0m Trial 650 finished with value: 0.9610101962473685 and parameters: {'alpha': 8.293109058683059e-07, 'l1_ratio': 1.0113144613469985e-07}. Best is trial 332 with value: 0.9714564177069506.\u001b[0m\n",
      "\u001b[32m[I 2020-12-27 03:51:46,156]\u001b[0m Trial 651 finished with value: 0.9611705145883782 and parameters: {'alpha': 1.1968252716023251e-06, 'l1_ratio': 0.004568237535234116}. Best is trial 332 with value: 0.9714564177069506.\u001b[0m\n",
      "\u001b[32m[I 2020-12-27 03:51:46,661]\u001b[0m Trial 652 finished with value: 0.9604442244699707 and parameters: {'alpha': 3.2253677184835466e-06, 'l1_ratio': 6.372039840905902e-08}. Best is trial 332 with value: 0.9714564177069506.\u001b[0m\n",
      "\u001b[32m[I 2020-12-27 03:51:47,104]\u001b[0m Trial 653 finished with value: 0.9553916067946842 and parameters: {'alpha': 3.6230125063843874e-07, 'l1_ratio': 1.2582420928040466e-08}. Best is trial 332 with value: 0.9714564177069506.\u001b[0m\n",
      "\u001b[32m[I 2020-12-27 03:51:47,571]\u001b[0m Trial 654 finished with value: 0.9511138023872091 and parameters: {'alpha': 5.914477930092705e-07, 'l1_ratio': 2.745713051274449e-08}. Best is trial 332 with value: 0.9714564177069506.\u001b[0m\n",
      "\u001b[32m[I 2020-12-27 03:51:48,058]\u001b[0m Trial 655 finished with value: 0.9614041071904603 and parameters: {'alpha': 1.5966917342224838e-06, 'l1_ratio': 0.0006861137595209989}. Best is trial 332 with value: 0.9714564177069506.\u001b[0m\n",
      "\u001b[32m[I 2020-12-27 03:51:48,638]\u001b[0m Trial 656 finished with value: 0.956156976054234 and parameters: {'alpha': 8.871388826922536e-07, 'l1_ratio': 1.2969022622155424e-07}. Best is trial 332 with value: 0.9714564177069506.\u001b[0m\n",
      "\u001b[32m[I 2020-12-27 03:51:49,153]\u001b[0m Trial 657 finished with value: 0.9538525105684652 and parameters: {'alpha': 1.8795492643304715e-06, 'l1_ratio': 0.4598571021972503}. Best is trial 332 with value: 0.9714564177069506.\u001b[0m\n",
      "\u001b[32m[I 2020-12-27 03:51:49,640]\u001b[0m Trial 658 finished with value: 0.9552085430950868 and parameters: {'alpha': 2.7155075299561766e-07, 'l1_ratio': 0.002779681268156842}. Best is trial 332 with value: 0.9714564177069506.\u001b[0m\n",
      "\u001b[32m[I 2020-12-27 03:51:50,151]\u001b[0m Trial 659 finished with value: 0.9595531422910568 and parameters: {'alpha': 2.684952114446079e-06, 'l1_ratio': 7.310604927082421e-08}. Best is trial 332 with value: 0.9714564177069506.\u001b[0m\n",
      "\u001b[32m[I 2020-12-27 03:51:50,698]\u001b[0m Trial 660 finished with value: 0.9581137134816223 and parameters: {'alpha': 4.902646008760447e-07, 'l1_ratio': 2.0078794073844656e-07}. Best is trial 332 with value: 0.9714564177069506.\u001b[0m\n",
      "\u001b[32m[I 2020-12-27 03:51:51,226]\u001b[0m Trial 661 finished with value: 0.9636941320276813 and parameters: {'alpha': 1.174465138739189e-06, 'l1_ratio': 0.00755311689358148}. Best is trial 332 with value: 0.9714564177069506.\u001b[0m\n",
      "\u001b[32m[I 2020-12-27 03:51:51,762]\u001b[0m Trial 662 finished with value: 0.9632744201126611 and parameters: {'alpha': 7.415287186248454e-07, 'l1_ratio': 3.890571472661209e-08}. Best is trial 332 with value: 0.9714564177069506.\u001b[0m\n",
      "\u001b[32m[I 2020-12-27 03:51:52,172]\u001b[0m Trial 663 finished with value: 0.9600628509421362 and parameters: {'alpha': 1.3367164791495109e-06, 'l1_ratio': 4.247690781412641e-07}. Best is trial 332 with value: 0.9714564177069506.\u001b[0m\n",
      "\u001b[32m[I 2020-12-27 03:51:52,633]\u001b[0m Trial 664 finished with value: 0.9555714640876762 and parameters: {'alpha': 9.001220745406993e-07, 'l1_ratio': 8.369836981749281e-09}. Best is trial 332 with value: 0.9714564177069506.\u001b[0m\n",
      "\u001b[32m[I 2020-12-27 03:51:53,053]\u001b[0m Trial 665 finished with value: 0.9599415386621184 and parameters: {'alpha': 5.726905558755417e-07, 'l1_ratio': 1.61949609386532e-08}. Best is trial 332 with value: 0.9714564177069506.\u001b[0m\n"
     ]
    },
    {
     "name": "stderr",
     "output_type": "stream",
     "text": [
      "\u001b[32m[I 2020-12-27 03:51:53,616]\u001b[0m Trial 666 finished with value: 0.9550773433934658 and parameters: {'alpha': 1.8178551314728642e-06, 'l1_ratio': 2.5707121801445888e-08}. Best is trial 332 with value: 0.9714564177069506.\u001b[0m\n",
      "\u001b[32m[I 2020-12-27 03:51:54,232]\u001b[0m Trial 667 finished with value: 0.960993546159025 and parameters: {'alpha': 1.1046996552863097e-06, 'l1_ratio': 1.093322661724056e-07}. Best is trial 332 with value: 0.9714564177069506.\u001b[0m\n",
      "\u001b[32m[I 2020-12-27 03:51:54,930]\u001b[0m Trial 668 finished with value: 0.955538552752857 and parameters: {'alpha': 3.854348862810837e-07, 'l1_ratio': 5.454184351132483e-08}. Best is trial 332 with value: 0.9714564177069506.\u001b[0m\n",
      "\u001b[32m[I 2020-12-27 03:51:55,367]\u001b[0m Trial 669 finished with value: 0.9574172462400503 and parameters: {'alpha': 2.643323411766192e-06, 'l1_ratio': 2.463870315528602e-07}. Best is trial 332 with value: 0.9714564177069506.\u001b[0m\n",
      "\u001b[32m[I 2020-12-27 03:51:55,869]\u001b[0m Trial 670 finished with value: 0.9604801829111689 and parameters: {'alpha': 4.974010942846674e-06, 'l1_ratio': 0.001652639052543254}. Best is trial 332 with value: 0.9714564177069506.\u001b[0m\n",
      "\u001b[32m[I 2020-12-27 03:51:56,341]\u001b[0m Trial 671 finished with value: 0.9529117726810763 and parameters: {'alpha': 7.347239167693051e-07, 'l1_ratio': 8.151254529103618e-08}. Best is trial 332 with value: 0.9714564177069506.\u001b[0m\n",
      "\u001b[32m[I 2020-12-27 03:51:56,874]\u001b[0m Trial 672 finished with value: 0.9618548425488529 and parameters: {'alpha': 1.4264722189573008e-06, 'l1_ratio': 0.015134564533029228}. Best is trial 332 with value: 0.9714564177069506.\u001b[0m\n",
      "\u001b[32m[I 2020-12-27 03:51:57,455]\u001b[0m Trial 673 finished with value: 0.95307294744353 and parameters: {'alpha': 5.122607845537192e-07, 'l1_ratio': 1.4216753889836677e-07}. Best is trial 332 with value: 0.9714564177069506.\u001b[0m\n",
      "\u001b[32m[I 2020-12-27 03:51:57,876]\u001b[0m Trial 674 finished with value: 0.9562744517895921 and parameters: {'alpha': 9.3432632451623e-07, 'l1_ratio': 4.110610276255129e-08}. Best is trial 332 with value: 0.9714564177069506.\u001b[0m\n",
      "\u001b[32m[I 2020-12-27 03:51:58,304]\u001b[0m Trial 675 finished with value: 0.9508200055057946 and parameters: {'alpha': 2.0585749268974237e-06, 'l1_ratio': 0.03169164640560578}. Best is trial 332 with value: 0.9714564177069506.\u001b[0m\n",
      "\u001b[32m[I 2020-12-27 03:51:58,777]\u001b[0m Trial 676 finished with value: 0.9607389568286734 and parameters: {'alpha': 3.29909293776154e-07, 'l1_ratio': 4.103671915188038e-09}. Best is trial 332 with value: 0.9714564177069506.\u001b[0m\n",
      "\u001b[32m[I 2020-12-27 03:51:59,182]\u001b[0m Trial 677 finished with value: 0.9583967654559515 and parameters: {'alpha': 3.833573072291258e-06, 'l1_ratio': 2.5059125288055705e-08}. Best is trial 332 with value: 0.9714564177069506.\u001b[0m\n",
      "\u001b[32m[I 2020-12-27 03:51:59,629]\u001b[0m Trial 678 finished with value: 0.9647693444094282 and parameters: {'alpha': 6.308644322176701e-07, 'l1_ratio': 0.04483308879115159}. Best is trial 332 with value: 0.9714564177069506.\u001b[0m\n",
      "\u001b[32m[I 2020-12-27 03:52:00,177]\u001b[0m Trial 679 finished with value: 0.962610016192394 and parameters: {'alpha': 4.8577175286592e-07, 'l1_ratio': 0.07921277024249543}. Best is trial 332 with value: 0.9714564177069506.\u001b[0m\n",
      "\u001b[32m[I 2020-12-27 03:52:00,736]\u001b[0m Trial 680 finished with value: 0.9564327652193355 and parameters: {'alpha': 2.5036646847686995e-07, 'l1_ratio': 0.05265305220647807}. Best is trial 332 with value: 0.9714564177069506.\u001b[0m\n",
      "\u001b[32m[I 2020-12-27 03:52:01,254]\u001b[0m Trial 681 finished with value: 0.9608173026069513 and parameters: {'alpha': 3.8008594681004225e-07, 'l1_ratio': 0.09860218506910717}. Best is trial 332 with value: 0.9714564177069506.\u001b[0m\n",
      "\u001b[32m[I 2020-12-27 03:52:01,874]\u001b[0m Trial 682 finished with value: 0.9600637561945256 and parameters: {'alpha': 1.8411912786986516e-07, 'l1_ratio': 0.011716540435869777}. Best is trial 332 with value: 0.9714564177069506.\u001b[0m\n",
      "\u001b[32m[I 2020-12-27 03:52:02,411]\u001b[0m Trial 683 finished with value: 0.9622654918249329 and parameters: {'alpha': 6.393789945228007e-07, 'l1_ratio': 0.019104645992533576}. Best is trial 332 with value: 0.9714564177069506.\u001b[0m\n",
      "\u001b[32m[I 2020-12-27 03:52:02,910]\u001b[0m Trial 684 finished with value: 0.9591192733182956 and parameters: {'alpha': 6.77517851579934e-07, 'l1_ratio': 0.15638962389978564}. Best is trial 332 with value: 0.9714564177069506.\u001b[0m\n",
      "\u001b[32m[I 2020-12-27 03:52:03,401]\u001b[0m Trial 685 finished with value: 0.957220586914479 and parameters: {'alpha': 3.916986661166853e-07, 'l1_ratio': 0.0321485006815649}. Best is trial 332 with value: 0.9714564177069506.\u001b[0m\n",
      "\u001b[32m[I 2020-12-27 03:52:03,823]\u001b[0m Trial 686 finished with value: 0.9591765676122319 and parameters: {'alpha': 7.710735098412962e-07, 'l1_ratio': 0.042643174501502644}. Best is trial 332 with value: 0.9714564177069506.\u001b[0m\n",
      "\u001b[32m[I 2020-12-27 03:52:04,223]\u001b[0m Trial 687 finished with value: 0.9555273213762869 and parameters: {'alpha': 2.60096111156466e-07, 'l1_ratio': 0.0399233911645866}. Best is trial 332 with value: 0.9714564177069506.\u001b[0m\n",
      "\u001b[32m[I 2020-12-27 03:52:04,631]\u001b[0m Trial 688 finished with value: 0.9566907652838709 and parameters: {'alpha': 5.372975827958109e-07, 'l1_ratio': 0.08811826545933304}. Best is trial 332 with value: 0.9714564177069506.\u001b[0m\n",
      "\u001b[32m[I 2020-12-27 03:52:05,051]\u001b[0m Trial 689 finished with value: 0.9617443756182422 and parameters: {'alpha': 1.003541788175795e-06, 'l1_ratio': 0.02266156740674714}. Best is trial 332 with value: 0.9714564177069506.\u001b[0m\n",
      "\u001b[32m[I 2020-12-27 03:52:05,482]\u001b[0m Trial 690 finished with value: 0.9600274485129514 and parameters: {'alpha': 8.769765195483414e-07, 'l1_ratio': 0.06125514530644464}. Best is trial 332 with value: 0.9714564177069506.\u001b[0m\n",
      "\u001b[32m[I 2020-12-27 03:52:05,960]\u001b[0m Trial 691 finished with value: 0.9478016062842995 and parameters: {'alpha': 1.2169911856185473e-10, 'l1_ratio': 0.022194175590624168}. Best is trial 332 with value: 0.9714564177069506.\u001b[0m\n",
      "\u001b[32m[I 2020-12-27 03:52:06,411]\u001b[0m Trial 692 finished with value: 0.9619301190777588 and parameters: {'alpha': 4.365530350029685e-07, 'l1_ratio': 1.394430525872737e-05}. Best is trial 332 with value: 0.9714564177069506.\u001b[0m\n",
      "\u001b[32m[I 2020-12-27 03:52:06,826]\u001b[0m Trial 693 finished with value: 0.951322256500608 and parameters: {'alpha': 1.2448789984718714e-06, 'l1_ratio': 0.00678106218539239}. Best is trial 332 with value: 0.9714564177069506.\u001b[0m\n",
      "\u001b[32m[I 2020-12-27 03:52:07,279]\u001b[0m Trial 694 finished with value: 0.9637666566033727 and parameters: {'alpha': 6.226434235489875e-07, 'l1_ratio': 0.00040822889517867837}. Best is trial 332 with value: 0.9714564177069506.\u001b[0m\n",
      "\u001b[32m[I 2020-12-27 03:52:07,698]\u001b[0m Trial 695 finished with value: 0.9615668072578516 and parameters: {'alpha': 1.3409461196121912e-06, 'l1_ratio': 0.04924131377340782}. Best is trial 332 with value: 0.9714564177069506.\u001b[0m\n",
      "\u001b[32m[I 2020-12-27 03:52:08,132]\u001b[0m Trial 696 finished with value: 0.9615841162324654 and parameters: {'alpha': 8.027598471742055e-07, 'l1_ratio': 0.0023586042275423732}. Best is trial 332 with value: 0.9714564177069506.\u001b[0m\n",
      "\u001b[32m[I 2020-12-27 03:52:08,599]\u001b[0m Trial 697 finished with value: 0.9579508993661003 and parameters: {'alpha': 5.309481587267049e-07, 'l1_ratio': 0.0009011815053002165}. Best is trial 332 with value: 0.9714564177069506.\u001b[0m\n",
      "\u001b[32m[I 2020-12-27 03:52:09,033]\u001b[0m Trial 698 finished with value: 0.9610037291250949 and parameters: {'alpha': 1.073836584736997e-06, 'l1_ratio': 4.432202293012326e-06}. Best is trial 332 with value: 0.9714564177069506.\u001b[0m\n",
      "\u001b[32m[I 2020-12-27 03:52:09,548]\u001b[0m Trial 699 finished with value: 0.9452415576405697 and parameters: {'alpha': 1.1004148847466488e-07, 'l1_ratio': 6.80345180685586e-07}. Best is trial 332 with value: 0.9714564177069506.\u001b[0m\n",
      "\u001b[32m[I 2020-12-27 03:52:10,062]\u001b[0m Trial 700 finished with value: 0.9579906179205983 and parameters: {'alpha': 3.1064676884782145e-07, 'l1_ratio': 1.946251558464525e-09}. Best is trial 332 with value: 0.9714564177069506.\u001b[0m\n",
      "\u001b[32m[I 2020-12-27 03:52:10,682]\u001b[0m Trial 701 finished with value: 0.9544849452985488 and parameters: {'alpha': 1.684019249520061e-06, 'l1_ratio': 1.538942419525262e-08}. Best is trial 332 with value: 0.9714564177069506.\u001b[0m\n",
      "\u001b[32m[I 2020-12-27 03:52:11,220]\u001b[0m Trial 702 finished with value: 0.9580411422754592 and parameters: {'alpha': 7.97495007417713e-07, 'l1_ratio': 0.003141365673169385}. Best is trial 332 with value: 0.9714564177069506.\u001b[0m\n"
     ]
    },
    {
     "name": "stderr",
     "output_type": "stream",
     "text": [
      "\u001b[32m[I 2020-12-27 03:52:11,692]\u001b[0m Trial 703 finished with value: 0.9622639121493466 and parameters: {'alpha': 4.255523728862125e-07, 'l1_ratio': 3.2757257958411567e-07}. Best is trial 332 with value: 0.9714564177069506.\u001b[0m\n",
      "\u001b[32m[I 2020-12-27 03:52:12,082]\u001b[0m Trial 704 finished with value: 0.9587493432209406 and parameters: {'alpha': 2.379668867488198e-06, 'l1_ratio': 7.327364718953162e-09}. Best is trial 332 with value: 0.9714564177069506.\u001b[0m\n",
      "\u001b[32m[I 2020-12-27 03:52:12,508]\u001b[0m Trial 705 finished with value: 0.957009846319828 and parameters: {'alpha': 6.438834078463873e-07, 'l1_ratio': 0.03006014764623839}. Best is trial 332 with value: 0.9714564177069506.\u001b[0m\n",
      "\u001b[32m[I 2020-12-27 03:52:12,972]\u001b[0m Trial 706 finished with value: 0.9566862964033488 and parameters: {'alpha': 1.1570228497307538e-06, 'l1_ratio': 0.009059149387814273}. Best is trial 332 with value: 0.9714564177069506.\u001b[0m\n",
      "\u001b[32m[I 2020-12-27 03:52:13,376]\u001b[0m Trial 707 finished with value: 0.96006446226767 and parameters: {'alpha': 1.5810536224295866e-06, 'l1_ratio': 2.0495728111650797e-07}. Best is trial 332 with value: 0.9714564177069506.\u001b[0m\n",
      "\u001b[32m[I 2020-12-27 03:52:13,864]\u001b[0m Trial 708 finished with value: 0.9484132529656265 and parameters: {'alpha': 2.284126901903378e-07, 'l1_ratio': 9.608949566928737e-08}. Best is trial 332 with value: 0.9714564177069506.\u001b[0m\n",
      "\u001b[32m[I 2020-12-27 03:52:14,278]\u001b[0m Trial 709 finished with value: 0.9640858813120438 and parameters: {'alpha': 9.437783493858774e-07, 'l1_ratio': 0.005779730593497307}. Best is trial 332 with value: 0.9714564177069506.\u001b[0m\n",
      "\u001b[32m[I 2020-12-27 03:52:14,862]\u001b[0m Trial 710 finished with value: 0.9590238528798292 and parameters: {'alpha': 5.853031628106358e-07, 'l1_ratio': 5.156889182449147e-09}. Best is trial 332 with value: 0.9714564177069506.\u001b[0m\n",
      "\u001b[32m[I 2020-12-27 03:52:15,279]\u001b[0m Trial 711 finished with value: 0.961794775840031 and parameters: {'alpha': 1.7007511570352019e-06, 'l1_ratio': 0.13514554073145466}. Best is trial 332 with value: 0.9714564177069506.\u001b[0m\n",
      "\u001b[32m[I 2020-12-27 03:52:15,791]\u001b[0m Trial 712 finished with value: 0.9588884302486499 and parameters: {'alpha': 3.620023806297136e-07, 'l1_ratio': 1.0168908335965853e-06}. Best is trial 332 with value: 0.9714564177069506.\u001b[0m\n",
      "\u001b[32m[I 2020-12-27 03:52:16,293]\u001b[0m Trial 713 finished with value: 0.9583882670198172 and parameters: {'alpha': 9.908943462458758e-07, 'l1_ratio': 5.4054193659338805e-08}. Best is trial 332 with value: 0.9714564177069506.\u001b[0m\n",
      "\u001b[32m[I 2020-12-27 03:52:16,843]\u001b[0m Trial 714 finished with value: 0.9591557768446722 and parameters: {'alpha': 2.6183599953842248e-06, 'l1_ratio': 1.1490626035953543e-08}. Best is trial 332 with value: 0.9714564177069506.\u001b[0m\n",
      "\u001b[32m[I 2020-12-27 03:52:17,493]\u001b[0m Trial 715 finished with value: 0.9606529470173086 and parameters: {'alpha': 7.139874060930812e-07, 'l1_ratio': 2.8102380626621063e-09}. Best is trial 332 with value: 0.9714564177069506.\u001b[0m\n",
      "\u001b[32m[I 2020-12-27 03:52:18,002]\u001b[0m Trial 716 finished with value: 0.9550280566493952 and parameters: {'alpha': 1.3429511745021097e-06, 'l1_ratio': 0.0011997648769248533}. Best is trial 332 with value: 0.9714564177069506.\u001b[0m\n",
      "\u001b[32m[I 2020-12-27 03:52:18,693]\u001b[0m Trial 717 finished with value: 0.956233116157494 and parameters: {'alpha': 4.6254814237131733e-07, 'l1_ratio': 0.00415043282303343}. Best is trial 332 with value: 0.9714564177069506.\u001b[0m\n",
      "\u001b[32m[I 2020-12-27 03:52:19,219]\u001b[0m Trial 718 finished with value: 0.9528395078938152 and parameters: {'alpha': 9.230874834288368e-07, 'l1_ratio': 1.9768367495550422e-08}. Best is trial 332 with value: 0.9714564177069506.\u001b[0m\n",
      "\u001b[32m[I 2020-12-27 03:52:19,632]\u001b[0m Trial 719 finished with value: 0.9605347741071041 and parameters: {'alpha': 2.2326056108628897e-06, 'l1_ratio': 0.012988098149917483}. Best is trial 332 with value: 0.9714564177069506.\u001b[0m\n",
      "\u001b[32m[I 2020-12-27 03:52:20,060]\u001b[0m Trial 720 finished with value: 0.961365087862095 and parameters: {'alpha': 6.10451521195175e-07, 'l1_ratio': 3.756125120844481e-08}. Best is trial 332 with value: 0.9714564177069506.\u001b[0m\n",
      "\u001b[32m[I 2020-12-27 03:52:20,685]\u001b[0m Trial 721 finished with value: 0.9554807308640494 and parameters: {'alpha': 5.937287438524724e-06, 'l1_ratio': 1.7931597933950371e-07}. Best is trial 332 with value: 0.9714564177069506.\u001b[0m\n",
      "\u001b[32m[I 2020-12-27 03:52:21,084]\u001b[0m Trial 722 finished with value: 0.9586807801273677 and parameters: {'alpha': 1.2923949610008618e-06, 'l1_ratio': 7.154384755447705e-08}. Best is trial 332 with value: 0.9714564177069506.\u001b[0m\n",
      "\u001b[32m[I 2020-12-27 03:52:21,504]\u001b[0m Trial 723 finished with value: 0.9589418936872731 and parameters: {'alpha': 2.89877412229889e-07, 'l1_ratio': 1.3817055532230633e-07}. Best is trial 332 with value: 0.9714564177069506.\u001b[0m\n",
      "\u001b[32m[I 2020-12-27 03:52:21,899]\u001b[0m Trial 724 finished with value: 0.9559767522697454 and parameters: {'alpha': 3.6447025384664552e-06, 'l1_ratio': 2.3256323934771783e-08}. Best is trial 332 with value: 0.9714564177069506.\u001b[0m\n",
      "\u001b[32m[I 2020-12-27 03:52:22,367]\u001b[0m Trial 725 finished with value: 0.9594617220892252 and parameters: {'alpha': 1.735032816096081e-07, 'l1_ratio': 0.05518671108851477}. Best is trial 332 with value: 0.9714564177069506.\u001b[0m\n",
      "\u001b[32m[I 2020-12-27 03:52:22,779]\u001b[0m Trial 726 finished with value: 0.9601818700229587 and parameters: {'alpha': 1.689439100326377e-06, 'l1_ratio': 0.0002129559755468474}. Best is trial 332 with value: 0.9714564177069506.\u001b[0m\n",
      "\u001b[32m[I 2020-12-27 03:52:23,345]\u001b[0m Trial 727 finished with value: 0.9590633745948097 and parameters: {'alpha': 7.792342257110884e-07, 'l1_ratio': 9.780156761128073e-10}. Best is trial 332 with value: 0.9714564177069506.\u001b[0m\n",
      "\u001b[32m[I 2020-12-27 03:52:24,018]\u001b[0m Trial 728 finished with value: 0.955850080531162 and parameters: {'alpha': 4.326187788079194e-07, 'l1_ratio': 4.497024551044521e-07}. Best is trial 332 with value: 0.9714564177069506.\u001b[0m\n",
      "\u001b[32m[I 2020-12-27 03:52:24,624]\u001b[0m Trial 729 finished with value: 0.9567056798635571 and parameters: {'alpha': 1.121807263135227e-06, 'l1_ratio': 4.47342924021418e-08}. Best is trial 332 with value: 0.9714564177069506.\u001b[0m\n",
      "\u001b[32m[I 2020-12-27 03:52:25,190]\u001b[0m Trial 730 finished with value: 0.9531573920942302 and parameters: {'alpha': 5.85133243262187e-07, 'l1_ratio': 9.856557378553942e-08}. Best is trial 332 with value: 0.9714564177069506.\u001b[0m\n",
      "\u001b[32m[I 2020-12-27 03:52:25,729]\u001b[0m Trial 731 finished with value: 0.9555460201821471 and parameters: {'alpha': 1.9397806084705853e-06, 'l1_ratio': 6.770839542515349e-08}. Best is trial 332 with value: 0.9714564177069506.\u001b[0m\n",
      "\u001b[32m[I 2020-12-27 03:52:26,169]\u001b[0m Trial 732 finished with value: 0.9602316831489495 and parameters: {'alpha': 8.863285579697358e-07, 'l1_ratio': 2.4560317811960165e-07}. Best is trial 332 with value: 0.9714564177069506.\u001b[0m\n",
      "\u001b[32m[I 2020-12-27 03:52:26,599]\u001b[0m Trial 733 finished with value: 0.9572992155477232 and parameters: {'alpha': 1.3611467436355742e-06, 'l1_ratio': 0.001909447475298685}. Best is trial 332 with value: 0.9714564177069506.\u001b[0m\n",
      "\u001b[32m[I 2020-12-27 03:52:27,137]\u001b[0m Trial 734 finished with value: 0.9658463533850866 and parameters: {'alpha': 3.9743219648211056e-07, 'l1_ratio': 3.092463721589749e-05}. Best is trial 332 with value: 0.9714564177069506.\u001b[0m\n",
      "\u001b[32m[I 2020-12-27 03:52:27,723]\u001b[0m Trial 735 finished with value: 0.9543874504866819 and parameters: {'alpha': 2.5507290170615264e-07, 'l1_ratio': 8.906671118704684e-09}. Best is trial 332 with value: 0.9714564177069506.\u001b[0m\n",
      "\u001b[32m[I 2020-12-27 03:52:28,267]\u001b[0m Trial 736 finished with value: 0.9556199996686231 and parameters: {'alpha': 3.233943923414013e-07, 'l1_ratio': 0.0002578154393892246}. Best is trial 332 with value: 0.9714564177069506.\u001b[0m\n",
      "\u001b[32m[I 2020-12-27 03:52:28,743]\u001b[0m Trial 737 finished with value: 0.9532391646130888 and parameters: {'alpha': 2.33620975146475e-07, 'l1_ratio': 3.471360383350925e-05}. Best is trial 332 with value: 0.9714564177069506.\u001b[0m\n",
      "\u001b[32m[I 2020-12-27 03:52:29,291]\u001b[0m Trial 738 finished with value: 0.9486657604047765 and parameters: {'alpha': 3.829332219867839e-07, 'l1_ratio': 4.342701738970323e-06}. Best is trial 332 with value: 0.9714564177069506.\u001b[0m\n",
      "\u001b[32m[I 2020-12-27 03:52:29,766]\u001b[0m Trial 739 finished with value: 0.9511349069350281 and parameters: {'alpha': 4.011973743575188e-07, 'l1_ratio': 0.0005364917269249313}. Best is trial 332 with value: 0.9714564177069506.\u001b[0m\n"
     ]
    },
    {
     "name": "stderr",
     "output_type": "stream",
     "text": [
      "\u001b[32m[I 2020-12-27 03:52:30,236]\u001b[0m Trial 740 finished with value: 0.9440222188204179 and parameters: {'alpha': 1.402656719293848e-07, 'l1_ratio': 3.0647697632168915e-08}. Best is trial 332 with value: 0.9714564177069506.\u001b[0m\n",
      "\u001b[32m[I 2020-12-27 03:52:30,688]\u001b[0m Trial 741 finished with value: 0.9536217069314807 and parameters: {'alpha': 5.206220650192598e-07, 'l1_ratio': 1.2290852615763315e-05}. Best is trial 332 with value: 0.9714564177069506.\u001b[0m\n",
      "\u001b[32m[I 2020-12-27 03:52:31,131]\u001b[0m Trial 742 finished with value: 0.9510484280758938 and parameters: {'alpha': 3.20196581051973e-07, 'l1_ratio': 0.0003670750241064495}. Best is trial 332 with value: 0.9714564177069506.\u001b[0m\n",
      "\u001b[32m[I 2020-12-27 03:52:31,567]\u001b[0m Trial 743 finished with value: 0.9645499153317465 and parameters: {'alpha': 5.589981788698317e-07, 'l1_ratio': 1.532293588082099e-08}. Best is trial 332 with value: 0.9714564177069506.\u001b[0m\n",
      "\u001b[32m[I 2020-12-27 03:52:32,030]\u001b[0m Trial 744 finished with value: 0.9631878576060733 and parameters: {'alpha': 7.530228485510664e-07, 'l1_ratio': 0.00011294973366069538}. Best is trial 332 with value: 0.9714564177069506.\u001b[0m\n",
      "\u001b[32m[I 2020-12-27 03:52:32,554]\u001b[0m Trial 745 finished with value: 0.9651036784737923 and parameters: {'alpha': 5.926756433831783e-07, 'l1_ratio': 2.0400594233812857e-05}. Best is trial 332 with value: 0.9714564177069506.\u001b[0m\n",
      "\u001b[32m[I 2020-12-27 03:52:33,013]\u001b[0m Trial 746 finished with value: 0.9543097126517421 and parameters: {'alpha': 2.0638418916131023e-07, 'l1_ratio': 5.32731905444179e-05}. Best is trial 332 with value: 0.9714564177069506.\u001b[0m\n",
      "\u001b[32m[I 2020-12-27 03:52:33,435]\u001b[0m Trial 747 finished with value: 0.9511110510816658 and parameters: {'alpha': 5.217924393629432e-07, 'l1_ratio': 1.078678175320501e-05}. Best is trial 332 with value: 0.9714564177069506.\u001b[0m\n",
      "\u001b[32m[I 2020-12-27 03:52:33,866]\u001b[0m Trial 748 finished with value: 0.9515484062265782 and parameters: {'alpha': 4.287380202003314e-07, 'l1_ratio': 4.276217321436399e-05}. Best is trial 332 with value: 0.9714564177069506.\u001b[0m\n",
      "\u001b[32m[I 2020-12-27 03:52:34,355]\u001b[0m Trial 749 finished with value: 0.9556290300645602 and parameters: {'alpha': 2.699908680390937e-07, 'l1_ratio': 1.2976174591110513e-05}. Best is trial 332 with value: 0.9714564177069506.\u001b[0m\n",
      "\u001b[32m[I 2020-12-27 03:52:34,759]\u001b[0m Trial 750 finished with value: 0.9551788412235541 and parameters: {'alpha': 6.144596766889115e-07, 'l1_ratio': 1.8174507224954005e-08}. Best is trial 332 with value: 0.9714564177069506.\u001b[0m\n",
      "\u001b[32m[I 2020-12-27 03:52:35,182]\u001b[0m Trial 751 finished with value: 0.9539846860409958 and parameters: {'alpha': 3.4944103602376243e-07, 'l1_ratio': 2.6414567272668592e-05}. Best is trial 332 with value: 0.9714564177069506.\u001b[0m\n",
      "\u001b[32m[I 2020-12-27 03:52:35,616]\u001b[0m Trial 752 finished with value: 0.9529106693511782 and parameters: {'alpha': 6.420162966454086e-07, 'l1_ratio': 2.0651449834822785e-05}. Best is trial 332 with value: 0.9714564177069506.\u001b[0m\n",
      "\u001b[32m[I 2020-12-27 03:52:36,055]\u001b[0m Trial 753 finished with value: 0.9579085486795224 and parameters: {'alpha': 7.8247265278766e-07, 'l1_ratio': 2.3992221135966336e-05}. Best is trial 332 with value: 0.9714564177069506.\u001b[0m\n",
      "\u001b[32m[I 2020-12-27 03:52:36,517]\u001b[0m Trial 754 finished with value: 0.9613676048005433 and parameters: {'alpha': 5.021069942365677e-07, 'l1_ratio': 1.0692420514739502e-05}. Best is trial 332 with value: 0.9714564177069506.\u001b[0m\n",
      "\u001b[32m[I 2020-12-27 03:52:37,117]\u001b[0m Trial 755 finished with value: 0.9484412112443885 and parameters: {'alpha': 1.6776323751371244e-07, 'l1_ratio': 1.956644378584221e-06}. Best is trial 332 with value: 0.9714564177069506.\u001b[0m\n",
      "\u001b[32m[I 2020-12-27 03:52:37,679]\u001b[0m Trial 756 finished with value: 0.956329259824535 and parameters: {'alpha': 3.365864633237154e-07, 'l1_ratio': 7.569124641461195e-06}. Best is trial 332 with value: 0.9714564177069506.\u001b[0m\n",
      "\u001b[32m[I 2020-12-27 03:52:38,095]\u001b[0m Trial 757 finished with value: 0.9579231685752365 and parameters: {'alpha': 9.986905529859784e-07, 'l1_ratio': 3.0663338111813706e-06}. Best is trial 332 with value: 0.9714564177069506.\u001b[0m\n",
      "\u001b[32m[I 2020-12-27 03:52:38,562]\u001b[0m Trial 758 finished with value: 0.955450582270867 and parameters: {'alpha': 6.740000741187269e-07, 'l1_ratio': 8.785933065629773e-05}. Best is trial 332 with value: 0.9714564177069506.\u001b[0m\n",
      "\u001b[32m[I 2020-12-27 03:52:39,133]\u001b[0m Trial 759 finished with value: 0.9539237522127046 and parameters: {'alpha': 4.49182436466132e-07, 'l1_ratio': 7.89369351291054e-06}. Best is trial 332 with value: 0.9714564177069506.\u001b[0m\n",
      "\u001b[32m[I 2020-12-27 03:52:39,605]\u001b[0m Trial 760 finished with value: 0.955502603973234 and parameters: {'alpha': 3.0006478975898396e-06, 'l1_ratio': 1.366826789178902e-08}. Best is trial 332 with value: 0.9714564177069506.\u001b[0m\n",
      "\u001b[32m[I 2020-12-27 03:52:40,024]\u001b[0m Trial 761 finished with value: 0.9596068455824093 and parameters: {'alpha': 1.1012728220411087e-06, 'l1_ratio': 7.51700483351618e-05}. Best is trial 332 with value: 0.9714564177069506.\u001b[0m\n",
      "\u001b[32m[I 2020-12-27 03:52:40,633]\u001b[0m Trial 762 finished with value: 0.9585563080532687 and parameters: {'alpha': 6.546004283146468e-07, 'l1_ratio': 3.5694590783605034e-05}. Best is trial 332 with value: 0.9714564177069506.\u001b[0m\n",
      "\u001b[32m[I 2020-12-27 03:52:41,192]\u001b[0m Trial 763 finished with value: 0.9588746317059934 and parameters: {'alpha': 8.918845684910744e-07, 'l1_ratio': 2.710033741268156e-05}. Best is trial 332 with value: 0.9714564177069506.\u001b[0m\n",
      "\u001b[32m[I 2020-12-27 03:52:41,614]\u001b[0m Trial 764 finished with value: 0.9549900615556377 and parameters: {'alpha': 1.4619083518302243e-06, 'l1_ratio': 1.847266845984092e-08}. Best is trial 332 with value: 0.9714564177069506.\u001b[0m\n",
      "\u001b[32m[I 2020-12-27 03:52:42,005]\u001b[0m Trial 765 finished with value: 0.9575540403547973 and parameters: {'alpha': 2.107338986550931e-06, 'l1_ratio': 1.5274792960575834e-08}. Best is trial 332 with value: 0.9714564177069506.\u001b[0m\n",
      "\u001b[32m[I 2020-12-27 03:52:42,400]\u001b[0m Trial 766 finished with value: 0.9474505738464879 and parameters: {'alpha': 5.58466648132823e-05, 'l1_ratio': 2.745976641506615e-08}. Best is trial 332 with value: 0.9714564177069506.\u001b[0m\n",
      "\u001b[32m[I 2020-12-27 03:52:42,881]\u001b[0m Trial 767 finished with value: 0.9590126355194043 and parameters: {'alpha': 2.6962947937891985e-07, 'l1_ratio': 2.1794090005132367e-05}. Best is trial 332 with value: 0.9714564177069506.\u001b[0m\n",
      "\u001b[32m[I 2020-12-27 03:52:43,510]\u001b[0m Trial 768 finished with value: 0.9636606130499223 and parameters: {'alpha': 5.108249060383635e-07, 'l1_ratio': 1.3718386063510883e-05}. Best is trial 332 with value: 0.9714564177069506.\u001b[0m\n",
      "\u001b[32m[I 2020-12-27 03:52:44,093]\u001b[0m Trial 769 finished with value: 0.9663600573660148 and parameters: {'alpha': 1.1298862195314948e-06, 'l1_ratio': 2.998157376855074e-08}. Best is trial 332 with value: 0.9714564177069506.\u001b[0m\n",
      "\u001b[32m[I 2020-12-27 03:52:44,697]\u001b[0m Trial 770 finished with value: 0.9530526342493566 and parameters: {'alpha': 1.6576139855361046e-06, 'l1_ratio': 1.648734280470082e-05}. Best is trial 332 with value: 0.9714564177069506.\u001b[0m\n",
      "\u001b[32m[I 2020-12-27 03:52:45,098]\u001b[0m Trial 771 finished with value: 0.9568883518860163 and parameters: {'alpha': 3.03328048707205e-06, 'l1_ratio': 2.672654460451571e-08}. Best is trial 332 with value: 0.9714564177069506.\u001b[0m\n",
      "\u001b[32m[I 2020-12-27 03:52:45,626]\u001b[0m Trial 772 finished with value: 0.9537160029619353 and parameters: {'alpha': 4.361729853649927e-06, 'l1_ratio': 1.132572853739262e-08}. Best is trial 332 with value: 0.9714564177069506.\u001b[0m\n",
      "\u001b[32m[I 2020-12-27 03:52:46,144]\u001b[0m Trial 773 finished with value: 0.9647901289778721 and parameters: {'alpha': 1.1765265537687412e-06, 'l1_ratio': 1.2622588845062508e-08}. Best is trial 332 with value: 0.9714564177069506.\u001b[0m\n",
      "\u001b[32m[I 2020-12-27 03:52:46,599]\u001b[0m Trial 774 finished with value: 0.955358725494723 and parameters: {'alpha': 1.8623567476114336e-06, 'l1_ratio': 1.177384299572146e-08}. Best is trial 332 with value: 0.9714564177069506.\u001b[0m\n",
      "\u001b[32m[I 2020-12-27 03:52:47,033]\u001b[0m Trial 775 finished with value: 0.9622090099410675 and parameters: {'alpha': 1.3591383065064523e-06, 'l1_ratio': 7.282441740703688e-09}. Best is trial 332 with value: 0.9714564177069506.\u001b[0m\n",
      "\u001b[32m[I 2020-12-27 03:52:47,552]\u001b[0m Trial 776 finished with value: 0.9573707953586036 and parameters: {'alpha': 2.337985693595776e-06, 'l1_ratio': 1.400513730552033e-08}. Best is trial 332 with value: 0.9714564177069506.\u001b[0m\n"
     ]
    },
    {
     "name": "stderr",
     "output_type": "stream",
     "text": [
      "\u001b[32m[I 2020-12-27 03:52:47,979]\u001b[0m Trial 777 finished with value: 0.9613972489575819 and parameters: {'alpha': 1.0862399302772088e-06, 'l1_ratio': 7.212619565707621e-09}. Best is trial 332 with value: 0.9714564177069506.\u001b[0m\n",
      "\u001b[32m[I 2020-12-27 03:52:48,357]\u001b[0m Trial 778 finished with value: 0.9577901914106418 and parameters: {'alpha': 7.190480006465787e-06, 'l1_ratio': 1.0609730370452176e-08}. Best is trial 332 with value: 0.9714564177069506.\u001b[0m\n",
      "\u001b[32m[I 2020-12-27 03:52:48,934]\u001b[0m Trial 779 finished with value: 0.9607324950275703 and parameters: {'alpha': 7.134974236574777e-07, 'l1_ratio': 1.7230115777122887e-08}. Best is trial 332 with value: 0.9714564177069506.\u001b[0m\n",
      "\u001b[32m[I 2020-12-27 03:52:49,443]\u001b[0m Trial 780 finished with value: 0.9597677147123179 and parameters: {'alpha': 1.2277271008043374e-06, 'l1_ratio': 1.9969869619072496e-08}. Best is trial 332 with value: 0.9714564177069506.\u001b[0m\n",
      "\u001b[32m[I 2020-12-27 03:52:49,920]\u001b[0m Trial 781 finished with value: 0.9550592752066369 and parameters: {'alpha': 3.6480055700422727e-07, 'l1_ratio': 0.00017135483834412413}. Best is trial 332 with value: 0.9714564177069506.\u001b[0m\n",
      "\u001b[32m[I 2020-12-27 03:52:50,406]\u001b[0m Trial 782 finished with value: 0.9634518799415831 and parameters: {'alpha': 7.42539164338476e-07, 'l1_ratio': 8.739592239821403e-09}. Best is trial 332 with value: 0.9714564177069506.\u001b[0m\n",
      "\u001b[32m[I 2020-12-27 03:52:50,890]\u001b[0m Trial 783 finished with value: 0.9618405024009417 and parameters: {'alpha': 1.7044871082394572e-06, 'l1_ratio': 5.853264052682796e-06}. Best is trial 332 with value: 0.9714564177069506.\u001b[0m\n",
      "\u001b[32m[I 2020-12-27 03:52:51,307]\u001b[0m Trial 784 finished with value: 0.9617626751083578 and parameters: {'alpha': 2.9871446027590266e-06, 'l1_ratio': 2.1248204562592218e-08}. Best is trial 332 with value: 0.9714564177069506.\u001b[0m\n",
      "\u001b[32m[I 2020-12-27 03:52:51,811]\u001b[0m Trial 785 finished with value: 0.9559257518347324 and parameters: {'alpha': 5.051357392988064e-07, 'l1_ratio': 1.1850168199848754e-08}. Best is trial 332 with value: 0.9714564177069506.\u001b[0m\n",
      "\u001b[32m[I 2020-12-27 03:52:52,329]\u001b[0m Trial 786 finished with value: 0.9480666378309793 and parameters: {'alpha': 1.1952749727344628e-07, 'l1_ratio': 2.2248552074175706e-06}. Best is trial 332 with value: 0.9714564177069506.\u001b[0m\n",
      "\u001b[32m[I 2020-12-27 03:52:52,898]\u001b[0m Trial 787 finished with value: 0.9511930745226643 and parameters: {'alpha': 9.232097374797589e-07, 'l1_ratio': 2.9443430632559668e-08}. Best is trial 332 with value: 0.9714564177069506.\u001b[0m\n",
      "\u001b[32m[I 2020-12-27 03:52:53,379]\u001b[0m Trial 788 finished with value: 0.9580183832377754 and parameters: {'alpha': 2.2583166002325917e-07, 'l1_ratio': 5.51028888463096e-05}. Best is trial 332 with value: 0.9714564177069506.\u001b[0m\n",
      "\u001b[32m[I 2020-12-27 03:52:53,823]\u001b[0m Trial 789 finished with value: 0.9617604812526562 and parameters: {'alpha': 1.2715866476395437e-06, 'l1_ratio': 1.5657596161613265e-08}. Best is trial 332 with value: 0.9714564177069506.\u001b[0m\n",
      "\u001b[32m[I 2020-12-27 03:52:54,295]\u001b[0m Trial 790 finished with value: 0.9586698377514321 and parameters: {'alpha': 2.0784216656960205e-06, 'l1_ratio': 2.7822742189395344e-08}. Best is trial 332 with value: 0.9714564177069506.\u001b[0m\n",
      "\u001b[32m[I 2020-12-27 03:52:54,729]\u001b[0m Trial 791 finished with value: 0.9584932778857179 and parameters: {'alpha': 6.528098933375088e-07, 'l1_ratio': 3.337714818748774e-08}. Best is trial 332 with value: 0.9714564177069506.\u001b[0m\n",
      "\u001b[32m[I 2020-12-27 03:52:55,322]\u001b[0m Trial 792 finished with value: 0.9590443167021773 and parameters: {'alpha': 3.783611474834006e-07, 'l1_ratio': 7.754662020182036e-09}. Best is trial 332 with value: 0.9714564177069506.\u001b[0m\n",
      "\u001b[32m[I 2020-12-27 03:52:55,848]\u001b[0m Trial 793 finished with value: 0.9632234804505813 and parameters: {'alpha': 9.313505306529332e-07, 'l1_ratio': 5.826297709950319e-09}. Best is trial 332 with value: 0.9714564177069506.\u001b[0m\n",
      "\u001b[32m[I 2020-12-27 03:52:56,240]\u001b[0m Trial 794 finished with value: 0.9595449001158963 and parameters: {'alpha': 1.4584449223895572e-06, 'l1_ratio': 2.1629274819412145e-08}. Best is trial 332 with value: 0.9714564177069506.\u001b[0m\n",
      "\u001b[32m[I 2020-12-27 03:52:56,669]\u001b[0m Trial 795 finished with value: 0.9582308005262961 and parameters: {'alpha': 5.891007881284874e-07, 'l1_ratio': 0.019801843678910934}. Best is trial 332 with value: 0.9714564177069506.\u001b[0m\n",
      "\u001b[32m[I 2020-12-27 03:52:57,106]\u001b[0m Trial 796 finished with value: 0.9649878841408284 and parameters: {'alpha': 2.205013521783759e-06, 'l1_ratio': 0.037457888231192296}. Best is trial 332 with value: 0.9714564177069506.\u001b[0m\n",
      "\u001b[32m[I 2020-12-27 03:52:57,645]\u001b[0m Trial 797 finished with value: 0.9577901914106418 and parameters: {'alpha': 4.861127594618232e-06, 'l1_ratio': 0.09542841608704196}. Best is trial 332 with value: 0.9714564177069506.\u001b[0m\n",
      "\u001b[32m[I 2020-12-27 03:52:58,134]\u001b[0m Trial 798 finished with value: 0.9591054854423976 and parameters: {'alpha': 3.329611058610286e-06, 'l1_ratio': 0.04071134785537296}. Best is trial 332 with value: 0.9714564177069506.\u001b[0m\n",
      "\u001b[32m[I 2020-12-27 03:52:58,634]\u001b[0m Trial 799 finished with value: 0.9617745146788521 and parameters: {'alpha': 2.6777539614987522e-06, 'l1_ratio': 0.0007926053228098319}. Best is trial 332 with value: 0.9714564177069506.\u001b[0m\n",
      "\u001b[32m[I 2020-12-27 03:52:59,029]\u001b[0m Trial 800 finished with value: 0.9586771173895011 and parameters: {'alpha': 3.97966489006225e-06, 'l1_ratio': 0.028827829610377075}. Best is trial 332 with value: 0.9714564177069506.\u001b[0m\n",
      "\u001b[32m[I 2020-12-27 03:52:59,487]\u001b[0m Trial 801 finished with value: 0.9564936625171625 and parameters: {'alpha': 2.151238961391544e-06, 'l1_ratio': 0.042576129714891504}. Best is trial 332 with value: 0.9714564177069506.\u001b[0m\n",
      "\u001b[32m[I 2020-12-27 03:52:59,926]\u001b[0m Trial 802 finished with value: 0.9575436693560206 and parameters: {'alpha': 2.396205113909336e-06, 'l1_ratio': 0.057968814396483624}. Best is trial 332 with value: 0.9714564177069506.\u001b[0m\n",
      "\u001b[32m[I 2020-12-27 03:53:00,326]\u001b[0m Trial 803 finished with value: 0.9555029354362196 and parameters: {'alpha': 4.01972002270864e-06, 'l1_ratio': 0.022916296175034403}. Best is trial 332 with value: 0.9714564177069506.\u001b[0m\n",
      "\u001b[32m[I 2020-12-27 03:53:00,740]\u001b[0m Trial 804 finished with value: 0.9577678835235981 and parameters: {'alpha': 1.6377233118594405e-06, 'l1_ratio': 0.11248556312158976}. Best is trial 332 with value: 0.9714564177069506.\u001b[0m\n",
      "\u001b[32m[I 2020-12-27 03:53:01,157]\u001b[0m Trial 805 finished with value: 0.958665929936399 and parameters: {'alpha': 2.729287979415278e-06, 'l1_ratio': 0.04144573811449818}. Best is trial 332 with value: 0.9714564177069506.\u001b[0m\n",
      "\u001b[32m[I 2020-12-27 03:53:01,545]\u001b[0m Trial 806 finished with value: 0.959588812694911 and parameters: {'alpha': 6.084061176270423e-06, 'l1_ratio': 0.01191322510953835}. Best is trial 332 with value: 0.9714564177069506.\u001b[0m\n",
      "\u001b[32m[I 2020-12-27 03:53:01,983]\u001b[0m Trial 807 finished with value: 0.9540350884229368 and parameters: {'alpha': 1.5731321027987563e-06, 'l1_ratio': 0.06007484799821304}. Best is trial 332 with value: 0.9714564177069506.\u001b[0m\n",
      "\u001b[32m[I 2020-12-27 03:53:02,392]\u001b[0m Trial 808 finished with value: 0.958665929936399 and parameters: {'alpha': 2.133952254588307e-06, 'l1_ratio': 0.018400197982495606}. Best is trial 332 with value: 0.9714564177069506.\u001b[0m\n",
      "\u001b[32m[I 2020-12-27 03:53:02,838]\u001b[0m Trial 809 finished with value: 0.9592284302583138 and parameters: {'alpha': 1.1862286819627113e-06, 'l1_ratio': 0.02903310881324049}. Best is trial 332 with value: 0.9714564177069506.\u001b[0m\n",
      "\u001b[32m[I 2020-12-27 03:53:03,253]\u001b[0m Trial 810 finished with value: 0.9579686629183158 and parameters: {'alpha': 1.8186116799689766e-06, 'l1_ratio': 1.2810919822684931e-08}. Best is trial 332 with value: 0.9714564177069506.\u001b[0m\n",
      "\u001b[32m[I 2020-12-27 03:53:03,796]\u001b[0m Trial 811 finished with value: 0.9643247459865355 and parameters: {'alpha': 1.1737205322241974e-06, 'l1_ratio': 0.02795362448860044}. Best is trial 332 with value: 0.9714564177069506.\u001b[0m\n",
      "\u001b[32m[I 2020-12-27 03:53:04,221]\u001b[0m Trial 812 finished with value: 0.9537101840440267 and parameters: {'alpha': 2.840939031207468e-06, 'l1_ratio': 0.01585366478106665}. Best is trial 332 with value: 0.9714564177069506.\u001b[0m\n",
      "\u001b[32m[I 2020-12-27 03:53:04,682]\u001b[0m Trial 813 finished with value: 0.9557752429091404 and parameters: {'alpha': 9.228172187801383e-07, 'l1_ratio': 0.088952782648769}. Best is trial 332 with value: 0.9714564177069506.\u001b[0m\n"
     ]
    },
    {
     "name": "stderr",
     "output_type": "stream",
     "text": [
      "\u001b[32m[I 2020-12-27 03:53:05,118]\u001b[0m Trial 814 finished with value: 0.9549138967785556 and parameters: {'alpha': 1.404561643774008e-06, 'l1_ratio': 4.07084204833897e-08}. Best is trial 332 with value: 0.9714564177069506.\u001b[0m\n",
      "\u001b[32m[I 2020-12-27 03:53:05,513]\u001b[0m Trial 815 finished with value: 0.953394723792306 and parameters: {'alpha': 4.068857100739254e-06, 'l1_ratio': 2.0106791587852035e-08}. Best is trial 332 with value: 0.9714564177069506.\u001b[0m\n",
      "\u001b[32m[I 2020-12-27 03:53:05,951]\u001b[0m Trial 816 finished with value: 0.9551869426196813 and parameters: {'alpha': 2.213688300929763e-06, 'l1_ratio': 1.0646362910348084e-08}. Best is trial 332 with value: 0.9714564177069506.\u001b[0m\n",
      "\u001b[32m[I 2020-12-27 03:53:06,395]\u001b[0m Trial 817 finished with value: 0.9581296183317681 and parameters: {'alpha': 9.003586300401129e-07, 'l1_ratio': 3.002997444485092e-05}. Best is trial 332 with value: 0.9714564177069506.\u001b[0m\n",
      "\u001b[32m[I 2020-12-27 03:53:06,889]\u001b[0m Trial 818 finished with value: 0.9624813526377154 and parameters: {'alpha': 1.9127667195938652e-07, 'l1_ratio': 0.07044163083762853}. Best is trial 332 with value: 0.9714564177069506.\u001b[0m\n",
      "\u001b[32m[I 2020-12-27 03:53:07,386]\u001b[0m Trial 819 finished with value: 0.9616073633469134 and parameters: {'alpha': 1.5823187778632567e-06, 'l1_ratio': 3.4096431409168276e-08}. Best is trial 332 with value: 0.9714564177069506.\u001b[0m\n",
      "\u001b[32m[I 2020-12-27 03:53:07,868]\u001b[0m Trial 820 finished with value: 0.956798136060067 and parameters: {'alpha': 6.916488083389603e-07, 'l1_ratio': 0.0001531790814637905}. Best is trial 332 with value: 0.9714564177069506.\u001b[0m\n",
      "\u001b[32m[I 2020-12-27 03:53:08,347]\u001b[0m Trial 821 finished with value: 0.9591713102283611 and parameters: {'alpha': 4.43989809851533e-07, 'l1_ratio': 1.866200420620505e-08}. Best is trial 332 with value: 0.9714564177069506.\u001b[0m\n",
      "\u001b[32m[I 2020-12-27 03:53:08,835]\u001b[0m Trial 822 finished with value: 0.9607868750468173 and parameters: {'alpha': 1.1640374083862434e-06, 'l1_ratio': 3.720883541863773e-08}. Best is trial 332 with value: 0.9714564177069506.\u001b[0m\n",
      "\u001b[32m[I 2020-12-27 03:53:09,331]\u001b[0m Trial 823 finished with value: 0.9550698045073358 and parameters: {'alpha': 1.8549069341667649e-06, 'l1_ratio': 0.04214352299411809}. Best is trial 332 with value: 0.9714564177069506.\u001b[0m\n",
      "\u001b[32m[I 2020-12-27 03:53:09,808]\u001b[0m Trial 824 finished with value: 0.9615027447391135 and parameters: {'alpha': 3.1400287354839086e-07, 'l1_ratio': 8.082476065816899e-09}. Best is trial 332 with value: 0.9714564177069506.\u001b[0m\n",
      "\u001b[32m[I 2020-12-27 03:53:10,286]\u001b[0m Trial 825 finished with value: 0.9544930971517362 and parameters: {'alpha': 7.935505245884083e-07, 'l1_ratio': 1.4826743354129899e-08}. Best is trial 332 with value: 0.9714564177069506.\u001b[0m\n",
      "\u001b[32m[I 2020-12-27 03:53:10,760]\u001b[0m Trial 826 finished with value: 0.9600203184421675 and parameters: {'alpha': 2.9458469099092357e-06, 'l1_ratio': 1.8474868436427113e-05}. Best is trial 332 with value: 0.9714564177069506.\u001b[0m\n",
      "\u001b[32m[I 2020-12-27 03:53:11,214]\u001b[0m Trial 827 finished with value: 0.959556649047524 and parameters: {'alpha': 5.378921923974663e-07, 'l1_ratio': 4.7925031287391305e-09}. Best is trial 332 with value: 0.9714564177069506.\u001b[0m\n",
      "\u001b[32m[I 2020-12-27 03:53:11,643]\u001b[0m Trial 828 finished with value: 0.9564533159201962 and parameters: {'alpha': 1.1584532464203888e-06, 'l1_ratio': 2.5026018924893352e-08}. Best is trial 332 with value: 0.9714564177069506.\u001b[0m\n",
      "\u001b[32m[I 2020-12-27 03:53:12,237]\u001b[0m Trial 829 finished with value: 0.9570795832955 and parameters: {'alpha': 8.26963942589697e-07, 'l1_ratio': 4.564069429556534e-08}. Best is trial 332 with value: 0.9714564177069506.\u001b[0m\n",
      "\u001b[32m[I 2020-12-27 03:53:12,755]\u001b[0m Trial 830 finished with value: 0.9577901914106418 and parameters: {'alpha': 9.838345443859186e-06, 'l1_ratio': 6.711984684060057e-05}. Best is trial 332 with value: 0.9714564177069506.\u001b[0m\n",
      "\u001b[32m[I 2020-12-27 03:53:13,272]\u001b[0m Trial 831 finished with value: 0.9594958413770587 and parameters: {'alpha': 1.44756209944986e-06, 'l1_ratio': 0.02388996690983347}. Best is trial 332 with value: 0.9714564177069506.\u001b[0m\n",
      "\u001b[32m[I 2020-12-27 03:53:13,781]\u001b[0m Trial 832 finished with value: 0.9567407679717248 and parameters: {'alpha': 4.62358456148542e-07, 'l1_ratio': 0.2036947178764368}. Best is trial 332 with value: 0.9714564177069506.\u001b[0m\n",
      "\u001b[32m[I 2020-12-27 03:53:14,257]\u001b[0m Trial 833 finished with value: 0.9573340200075128 and parameters: {'alpha': 2.798957148026869e-07, 'l1_ratio': 0.00029568285309021405}. Best is trial 332 with value: 0.9714564177069506.\u001b[0m\n",
      "\u001b[32m[I 2020-12-27 03:53:14,701]\u001b[0m Trial 834 finished with value: 0.9599837012525261 and parameters: {'alpha': 1.8395804128777311e-06, 'l1_ratio': 0.0010744184050758157}. Best is trial 332 with value: 0.9714564177069506.\u001b[0m\n",
      "\u001b[32m[I 2020-12-27 03:53:15,240]\u001b[0m Trial 835 finished with value: 0.9628134665753036 and parameters: {'alpha': 1.080532376039817e-06, 'l1_ratio': 4.471432669740085e-08}. Best is trial 332 with value: 0.9714564177069506.\u001b[0m\n",
      "\u001b[32m[I 2020-12-27 03:53:15,775]\u001b[0m Trial 836 finished with value: 0.9607078495665706 and parameters: {'alpha': 7.048871467172851e-07, 'l1_ratio': 0.0005887472034801925}. Best is trial 332 with value: 0.9714564177069506.\u001b[0m\n",
      "\u001b[32m[I 2020-12-27 03:53:16,236]\u001b[0m Trial 837 finished with value: 0.9567960248958052 and parameters: {'alpha': 3.0922663995274506e-06, 'l1_ratio': 0.014258065732064371}. Best is trial 332 with value: 0.9714564177069506.\u001b[0m\n",
      "\u001b[32m[I 2020-12-27 03:53:16,749]\u001b[0m Trial 838 finished with value: 0.960511268315013 and parameters: {'alpha': 5.696576588353672e-07, 'l1_ratio': 2.291864430623345e-08}. Best is trial 332 with value: 0.9714564177069506.\u001b[0m\n",
      "\u001b[32m[I 2020-12-27 03:53:17,189]\u001b[0m Trial 839 finished with value: 0.9531625741021111 and parameters: {'alpha': 2.2454756388997047e-06, 'l1_ratio': 9.553803636061913e-09}. Best is trial 332 with value: 0.9714564177069506.\u001b[0m\n",
      "\u001b[32m[I 2020-12-27 03:53:17,669]\u001b[0m Trial 840 finished with value: 0.9576451533978987 and parameters: {'alpha': 1.239313412108785e-06, 'l1_ratio': 3.351036414522065e-08}. Best is trial 332 with value: 0.9714564177069506.\u001b[0m\n",
      "\u001b[32m[I 2020-12-27 03:53:18,138]\u001b[0m Trial 841 finished with value: 0.9632327074951418 and parameters: {'alpha': 3.640390589081316e-07, 'l1_ratio': 0.051392520930670184}. Best is trial 332 with value: 0.9714564177069506.\u001b[0m\n",
      "\u001b[32m[I 2020-12-27 03:53:18,750]\u001b[0m Trial 842 finished with value: 0.9636796699375085 and parameters: {'alpha': 8.691389375208724e-07, 'l1_ratio': 5.626974970503414e-08}. Best is trial 332 with value: 0.9714564177069506.\u001b[0m\n",
      "\u001b[32m[I 2020-12-27 03:53:19,221]\u001b[0m Trial 843 finished with value: 0.9552538465022307 and parameters: {'alpha': 1.5023336598474626e-06, 'l1_ratio': 5.770996121062577e-09}. Best is trial 332 with value: 0.9714564177069506.\u001b[0m\n",
      "\u001b[32m[I 2020-12-27 03:53:19,754]\u001b[0m Trial 844 finished with value: 0.96406373162894 and parameters: {'alpha': 5.997002239839637e-07, 'l1_ratio': 1.4263397312086294e-08}. Best is trial 332 with value: 0.9714564177069506.\u001b[0m\n",
      "\u001b[32m[I 2020-12-27 03:53:20,398]\u001b[0m Trial 845 finished with value: 0.9660429052871381 and parameters: {'alpha': 8.718019050601485e-07, 'l1_ratio': 0.03427075542781788}. Best is trial 332 with value: 0.9714564177069506.\u001b[0m\n",
      "\u001b[32m[I 2020-12-27 03:53:21,143]\u001b[0m Trial 846 finished with value: 0.9501309467563641 and parameters: {'alpha': 1.9767223680093914e-07, 'l1_ratio': 0.03800378160095341}. Best is trial 332 with value: 0.9714564177069506.\u001b[0m\n",
      "\u001b[32m[I 2020-12-27 03:53:22,178]\u001b[0m Trial 847 finished with value: 0.9547683029406429 and parameters: {'alpha': 2.451001085306087e-10, 'l1_ratio': 0.021228340740464636}. Best is trial 332 with value: 0.9714564177069506.\u001b[0m\n",
      "\u001b[32m[I 2020-12-27 03:53:22,818]\u001b[0m Trial 848 finished with value: 0.9542412539293765 and parameters: {'alpha': 4.350683995516255e-07, 'l1_ratio': 0.06622188672826979}. Best is trial 332 with value: 0.9714564177069506.\u001b[0m\n",
      "\u001b[32m[I 2020-12-27 03:53:23,452]\u001b[0m Trial 849 finished with value: 0.9549812912699261 and parameters: {'alpha': 2.910501999665991e-07, 'l1_ratio': 0.01587458338308482}. Best is trial 332 with value: 0.9714564177069506.\u001b[0m\n",
      "\u001b[32m[I 2020-12-27 03:53:24,038]\u001b[0m Trial 850 finished with value: 0.9539093122474337 and parameters: {'alpha': 7.639991369663165e-07, 'l1_ratio': 0.007700957726399844}. Best is trial 332 with value: 0.9714564177069506.\u001b[0m\n"
     ]
    },
    {
     "name": "stderr",
     "output_type": "stream",
     "text": [
      "\u001b[32m[I 2020-12-27 03:53:24,696]\u001b[0m Trial 851 finished with value: 0.9575982432206706 and parameters: {'alpha': 9.751885981852297e-07, 'l1_ratio': 0.026427720471411578}. Best is trial 332 with value: 0.9714564177069506.\u001b[0m\n",
      "\u001b[32m[I 2020-12-27 03:53:25,141]\u001b[0m Trial 852 finished with value: 0.9594295561944267 and parameters: {'alpha': 4.346917064735131e-06, 'l1_ratio': 0.03739299574651865}. Best is trial 332 with value: 0.9714564177069506.\u001b[0m\n",
      "\u001b[32m[I 2020-12-27 03:53:25,757]\u001b[0m Trial 853 finished with value: 0.9488416388050731 and parameters: {'alpha': 1.650892996054099e-09, 'l1_ratio': 0.11309140768655357}. Best is trial 332 with value: 0.9714564177069506.\u001b[0m\n",
      "\u001b[32m[I 2020-12-27 03:53:26,398]\u001b[0m Trial 854 finished with value: 0.9601530957218719 and parameters: {'alpha': 5.176857493631945e-07, 'l1_ratio': 0.05291350945334005}. Best is trial 332 with value: 0.9714564177069506.\u001b[0m\n",
      "\u001b[32m[I 2020-12-27 03:53:26,926]\u001b[0m Trial 855 finished with value: 0.9567960248958052 and parameters: {'alpha': 2.0548641099711865e-06, 'l1_ratio': 0.07204608499607888}. Best is trial 332 with value: 0.9714564177069506.\u001b[0m\n",
      "\u001b[32m[I 2020-12-27 03:53:27,402]\u001b[0m Trial 856 finished with value: 0.9094445661986433 and parameters: {'alpha': 0.0011589304190832363, 'l1_ratio': 0.029035686529353694}. Best is trial 332 with value: 0.9714564177069506.\u001b[0m\n",
      "\u001b[32m[I 2020-12-27 03:53:27,823]\u001b[0m Trial 857 finished with value: 0.9595946617936512 and parameters: {'alpha': 1.3198336331172306e-06, 'l1_ratio': 0.009958420136365416}. Best is trial 332 with value: 0.9714564177069506.\u001b[0m\n",
      "\u001b[32m[I 2020-12-27 03:53:28,299]\u001b[0m Trial 858 finished with value: 0.9607006545277188 and parameters: {'alpha': 6.973521773358999e-07, 'l1_ratio': 0.012994902714023739}. Best is trial 332 with value: 0.9714564177069506.\u001b[0m\n",
      "\u001b[32m[I 2020-12-27 03:53:28,784]\u001b[0m Trial 859 finished with value: 0.9522561976107105 and parameters: {'alpha': 3.5322921315389127e-07, 'l1_ratio': 0.3376147236362244}. Best is trial 332 with value: 0.9714564177069506.\u001b[0m\n",
      "\u001b[32m[I 2020-12-27 03:53:29,253]\u001b[0m Trial 860 finished with value: 0.9655350231234147 and parameters: {'alpha': 9.30212862213769e-07, 'l1_ratio': 0.014949754941491821}. Best is trial 332 with value: 0.9714564177069506.\u001b[0m\n",
      "\u001b[32m[I 2020-12-27 03:53:29,717]\u001b[0m Trial 861 finished with value: 0.9555119213730825 and parameters: {'alpha': 1.6728982422601413e-06, 'l1_ratio': 0.018602433049867063}. Best is trial 332 with value: 0.9714564177069506.\u001b[0m\n",
      "\u001b[32m[I 2020-12-27 03:53:30,187]\u001b[0m Trial 862 finished with value: 0.9546335122724494 and parameters: {'alpha': 1.1732454480520855e-06, 'l1_ratio': 0.011385172948789522}. Best is trial 332 with value: 0.9714564177069506.\u001b[0m\n",
      "\u001b[32m[I 2020-12-27 03:53:30,634]\u001b[0m Trial 863 finished with value: 0.9591249177986244 and parameters: {'alpha': 2.7448665798679434e-06, 'l1_ratio': 0.031558179225252364}. Best is trial 332 with value: 0.9714564177069506.\u001b[0m\n",
      "\u001b[32m[I 2020-12-27 03:53:31,095]\u001b[0m Trial 864 finished with value: 0.9617840020755423 and parameters: {'alpha': 1.9009999698580182e-06, 'l1_ratio': 0.008875667705633557}. Best is trial 332 with value: 0.9714564177069506.\u001b[0m\n",
      "\u001b[32m[I 2020-12-27 03:53:31,695]\u001b[0m Trial 865 finished with value: 0.9579199144483361 and parameters: {'alpha': 1.0188421474920637e-06, 'l1_ratio': 0.019858955979853}. Best is trial 332 with value: 0.9714564177069506.\u001b[0m\n",
      "\u001b[32m[I 2020-12-27 03:53:32,269]\u001b[0m Trial 866 finished with value: 0.9613830712241599 and parameters: {'alpha': 1.3497646039742226e-06, 'l1_ratio': 0.017856601962851458}. Best is trial 332 with value: 0.9714564177069506.\u001b[0m\n",
      "\u001b[32m[I 2020-12-27 03:53:32,779]\u001b[0m Trial 867 finished with value: 0.9587014757961965 and parameters: {'alpha': 6.073270346623982e-06, 'l1_ratio': 0.006089602600928006}. Best is trial 332 with value: 0.9714564177069506.\u001b[0m\n",
      "\u001b[32m[I 2020-12-27 03:53:33,312]\u001b[0m Trial 868 finished with value: 0.9587392859735024 and parameters: {'alpha': 3.5735031842349113e-06, 'l1_ratio': 0.028907983831149873}. Best is trial 332 with value: 0.9714564177069506.\u001b[0m\n",
      "\u001b[32m[I 2020-12-27 03:53:33,886]\u001b[0m Trial 869 finished with value: 0.9628217352936352 and parameters: {'alpha': 9.132711034500998e-07, 'l1_ratio': 0.03624599056623094}. Best is trial 332 with value: 0.9714564177069506.\u001b[0m\n",
      "\u001b[32m[I 2020-12-27 03:53:34,439]\u001b[0m Trial 870 finished with value: 0.9587260604711483 and parameters: {'alpha': 2.253123147996234e-06, 'l1_ratio': 0.14080978890876658}. Best is trial 332 with value: 0.9714564177069506.\u001b[0m\n",
      "\u001b[32m[I 2020-12-27 03:53:34,977]\u001b[0m Trial 871 finished with value: 0.9582025365396603 and parameters: {'alpha': 1.5322588491125544e-06, 'l1_ratio': 0.01713163934224036}. Best is trial 332 with value: 0.9714564177069506.\u001b[0m\n",
      "\u001b[32m[I 2020-12-27 03:53:35,577]\u001b[0m Trial 872 finished with value: 0.9558862424140524 and parameters: {'alpha': 7.582569582136679e-07, 'l1_ratio': 0.07167244214065005}. Best is trial 332 with value: 0.9714564177069506.\u001b[0m\n",
      "\u001b[32m[I 2020-12-27 03:53:35,986]\u001b[0m Trial 873 finished with value: 0.9637389729021781 and parameters: {'alpha': 1.1744435761236992e-06, 'l1_ratio': 0.011085420947582376}. Best is trial 332 with value: 0.9714564177069506.\u001b[0m\n",
      "\u001b[32m[I 2020-12-27 03:53:36,422]\u001b[0m Trial 874 finished with value: 0.9584167765509578 and parameters: {'alpha': 8.705474791216955e-07, 'l1_ratio': 0.04617479452667622}. Best is trial 332 with value: 0.9714564177069506.\u001b[0m\n",
      "\u001b[32m[I 2020-12-27 03:53:36,834]\u001b[0m Trial 875 finished with value: 0.9569080140038019 and parameters: {'alpha': 1.8656973699815186e-06, 'l1_ratio': 0.007839101705626312}. Best is trial 332 with value: 0.9714564177069506.\u001b[0m\n",
      "\u001b[32m[I 2020-12-27 03:53:37,301]\u001b[0m Trial 876 finished with value: 0.9586606979788586 and parameters: {'alpha': 2.6477291876243194e-06, 'l1_ratio': 0.02395878567127323}. Best is trial 332 with value: 0.9714564177069506.\u001b[0m\n",
      "\u001b[32m[I 2020-12-27 03:53:37,898]\u001b[0m Trial 877 finished with value: 0.9545270697657693 and parameters: {'alpha': 6.377698486682522e-07, 'l1_ratio': 0.010733686047491916}. Best is trial 332 with value: 0.9714564177069506.\u001b[0m\n",
      "\u001b[32m[I 2020-12-27 03:53:38,460]\u001b[0m Trial 878 finished with value: 0.9552604630817179 and parameters: {'alpha': 1.0587499360256331e-06, 'l1_ratio': 0.05095558057640905}. Best is trial 332 with value: 0.9714564177069506.\u001b[0m\n",
      "\u001b[32m[I 2020-12-27 03:53:39,009]\u001b[0m Trial 879 finished with value: 0.9604017500949519 and parameters: {'alpha': 1.4001043587733897e-06, 'l1_ratio': 0.001643395113718224}. Best is trial 332 with value: 0.9714564177069506.\u001b[0m\n",
      "\u001b[32m[I 2020-12-27 03:53:39,513]\u001b[0m Trial 880 finished with value: 0.9551303364414522 and parameters: {'alpha': 4.762856131632389e-07, 'l1_ratio': 0.004802588666222182}. Best is trial 332 with value: 0.9714564177069506.\u001b[0m\n",
      "\u001b[32m[I 2020-12-27 03:53:39,942]\u001b[0m Trial 881 finished with value: 0.9588126747932679 and parameters: {'alpha': 7.732333320499043e-07, 'l1_ratio': 8.31221516705406e-06}. Best is trial 332 with value: 0.9714564177069506.\u001b[0m\n",
      "\u001b[32m[I 2020-12-27 03:53:40,372]\u001b[0m Trial 882 finished with value: 0.9512450607611989 and parameters: {'alpha': 1.8138154076514687e-06, 'l1_ratio': 0.015260919676442697}. Best is trial 332 with value: 0.9714564177069506.\u001b[0m\n",
      "\u001b[32m[I 2020-12-27 03:53:40,801]\u001b[0m Trial 883 finished with value: 0.9598946871373334 and parameters: {'alpha': 1.0405103886119362e-06, 'l1_ratio': 3.5687448790495224e-05}. Best is trial 332 with value: 0.9714564177069506.\u001b[0m\n",
      "\u001b[32m[I 2020-12-27 03:53:41,200]\u001b[0m Trial 884 finished with value: 0.9602279999184683 and parameters: {'alpha': 3.402350713024402e-06, 'l1_ratio': 0.03120921929320466}. Best is trial 332 with value: 0.9714564177069506.\u001b[0m\n",
      "\u001b[32m[I 2020-12-27 03:53:41,659]\u001b[0m Trial 885 finished with value: 0.963800354737536 and parameters: {'alpha': 5.802636832048731e-07, 'l1_ratio': 0.0004830092930908131}. Best is trial 332 with value: 0.9714564177069506.\u001b[0m\n",
      "\u001b[32m[I 2020-12-27 03:53:42,083]\u001b[0m Trial 886 finished with value: 0.9575231813087495 and parameters: {'alpha': 1.60907426728123e-06, 'l1_ratio': 0.021734375172404893}. Best is trial 332 with value: 0.9714564177069506.\u001b[0m\n",
      "\u001b[32m[I 2020-12-27 03:53:42,588]\u001b[0m Trial 887 finished with value: 0.9631114358808264 and parameters: {'alpha': 4.033283106282598e-07, 'l1_ratio': 1.598945412191452e-05}. Best is trial 332 with value: 0.9714564177069506.\u001b[0m\n"
     ]
    },
    {
     "name": "stderr",
     "output_type": "stream",
     "text": [
      "\u001b[32m[I 2020-12-27 03:53:43,157]\u001b[0m Trial 888 finished with value: 0.958665929936399 and parameters: {'alpha': 2.4249922989215395e-06, 'l1_ratio': 0.04352580131196756}. Best is trial 332 with value: 0.9714564177069506.\u001b[0m\n",
      "\u001b[32m[I 2020-12-27 03:53:43,730]\u001b[0m Trial 889 finished with value: 0.9649390020939982 and parameters: {'alpha': 7.845104952333479e-07, 'l1_ratio': 0.1005982319790811}. Best is trial 332 with value: 0.9714564177069506.\u001b[0m\n",
      "\u001b[32m[I 2020-12-27 03:53:44,346]\u001b[0m Trial 890 finished with value: 0.9507819757770799 and parameters: {'alpha': 4.3391328319055557e-07, 'l1_ratio': 0.05381084692905791}. Best is trial 332 with value: 0.9714564177069506.\u001b[0m\n",
      "\u001b[32m[I 2020-12-27 03:53:45,013]\u001b[0m Trial 891 finished with value: 0.9492572883809929 and parameters: {'alpha': 2.505611486729317e-07, 'l1_ratio': 0.064487614135821}. Best is trial 332 with value: 0.9714564177069506.\u001b[0m\n",
      "\u001b[32m[I 2020-12-27 03:53:45,545]\u001b[0m Trial 892 finished with value: 0.9603716424096496 and parameters: {'alpha': 6.773788689457468e-07, 'l1_ratio': 0.18466550075102958}. Best is trial 332 with value: 0.9714564177069506.\u001b[0m\n",
      "\u001b[32m[I 2020-12-27 03:53:46,031]\u001b[0m Trial 893 finished with value: 0.9531942969494617 and parameters: {'alpha': 1.4702590939097026e-07, 'l1_ratio': 0.03605045585142636}. Best is trial 332 with value: 0.9714564177069506.\u001b[0m\n",
      "\u001b[32m[I 2020-12-27 03:53:46,564]\u001b[0m Trial 894 finished with value: 0.9628291044468263 and parameters: {'alpha': 8.336597124105353e-07, 'l1_ratio': 0.22611334858226254}. Best is trial 332 with value: 0.9714564177069506.\u001b[0m\n",
      "\u001b[32m[I 2020-12-27 03:53:47,061]\u001b[0m Trial 895 finished with value: 0.9544089960444805 and parameters: {'alpha': 3.1414096841339654e-07, 'l1_ratio': 0.2763704796478197}. Best is trial 332 with value: 0.9714564177069506.\u001b[0m\n",
      "\u001b[32m[I 2020-12-27 03:53:47,576]\u001b[0m Trial 896 finished with value: 0.9598320850770575 and parameters: {'alpha': 5.509554760354658e-07, 'l1_ratio': 0.08371988685049393}. Best is trial 332 with value: 0.9714564177069506.\u001b[0m\n",
      "\u001b[32m[I 2020-12-27 03:53:48,020]\u001b[0m Trial 897 finished with value: 0.9642075673178899 and parameters: {'alpha': 9.76724171045148e-07, 'l1_ratio': 0.07022582128325809}. Best is trial 332 with value: 0.9714564177069506.\u001b[0m\n",
      "\u001b[32m[I 2020-12-27 03:53:48,494]\u001b[0m Trial 898 finished with value: 0.9601981887645645 and parameters: {'alpha': 7.015981803521174e-07, 'l1_ratio': 0.14434776398907867}. Best is trial 332 with value: 0.9714564177069506.\u001b[0m\n",
      "\u001b[32m[I 2020-12-27 03:53:48,958]\u001b[0m Trial 899 finished with value: 0.9544412812654977 and parameters: {'alpha': 1.2566753921652312e-06, 'l1_ratio': 0.09249478700504932}. Best is trial 332 with value: 0.9714564177069506.\u001b[0m\n",
      "\u001b[32m[I 2020-12-27 03:53:49,489]\u001b[0m Trial 900 finished with value: 0.9512185432073994 and parameters: {'alpha': 4.5840226021078957e-07, 'l1_ratio': 0.11360545663823242}. Best is trial 332 with value: 0.9714564177069506.\u001b[0m\n",
      "\u001b[32m[I 2020-12-27 03:53:50,108]\u001b[0m Trial 901 finished with value: 0.958558945002724 and parameters: {'alpha': 6.85685032718175e-07, 'l1_ratio': 0.08896514162518505}. Best is trial 332 with value: 0.9714564177069506.\u001b[0m\n",
      "\u001b[32m[I 2020-12-27 03:53:50,652]\u001b[0m Trial 902 finished with value: 0.9524243967672632 and parameters: {'alpha': 1.3055467072054868e-06, 'l1_ratio': 0.02442707687873178}. Best is trial 332 with value: 0.9714564177069506.\u001b[0m\n",
      "\u001b[32m[I 2020-12-27 03:53:51,133]\u001b[0m Trial 903 finished with value: 0.9604925531066311 and parameters: {'alpha': 3.7213232199531833e-07, 'l1_ratio': 0.005647052123456011}. Best is trial 332 with value: 0.9714564177069506.\u001b[0m\n",
      "\u001b[32m[I 2020-12-27 03:53:51,587]\u001b[0m Trial 904 finished with value: 0.9595803207271197 and parameters: {'alpha': 9.371477934139138e-07, 'l1_ratio': 0.03464654520068536}. Best is trial 332 with value: 0.9714564177069506.\u001b[0m\n",
      "\u001b[32m[I 2020-12-27 03:53:52,275]\u001b[0m Trial 905 finished with value: 0.9596303051716699 and parameters: {'alpha': 2.2094279355376824e-07, 'l1_ratio': 0.045023938580191235}. Best is trial 332 with value: 0.9714564177069506.\u001b[0m\n",
      "\u001b[32m[I 2020-12-27 03:53:52,813]\u001b[0m Trial 906 finished with value: 0.9649866817517021 and parameters: {'alpha': 2.0253255306269644e-06, 'l1_ratio': 0.0010167782490110514}. Best is trial 332 with value: 0.9714564177069506.\u001b[0m\n",
      "\u001b[32m[I 2020-12-27 03:53:53,292]\u001b[0m Trial 907 finished with value: 0.9561887357064615 and parameters: {'alpha': 5.7425766467860195e-06, 'l1_ratio': 0.0009950235537365705}. Best is trial 332 with value: 0.9714564177069506.\u001b[0m\n",
      "\u001b[32m[I 2020-12-27 03:53:53,828]\u001b[0m Trial 908 finished with value: 0.9573418553328875 and parameters: {'alpha': 4.194324356088627e-06, 'l1_ratio': 0.0031334479562990063}. Best is trial 332 with value: 0.9714564177069506.\u001b[0m\n",
      "\u001b[32m[I 2020-12-27 03:53:54,353]\u001b[0m Trial 909 finished with value: 0.9593283373226854 and parameters: {'alpha': 3.0983520887632268e-06, 'l1_ratio': 0.0006257112454391727}. Best is trial 332 with value: 0.9714564177069506.\u001b[0m\n",
      "\u001b[32m[I 2020-12-27 03:53:54,830]\u001b[0m Trial 910 finished with value: 0.9586726432176208 and parameters: {'alpha': 2.1659084312596555e-06, 'l1_ratio': 0.0011586202489455818}. Best is trial 332 with value: 0.9714564177069506.\u001b[0m\n",
      "\u001b[32m[I 2020-12-27 03:53:55,315]\u001b[0m Trial 911 finished with value: 0.9557418212198682 and parameters: {'alpha': 2.6919245489425627e-06, 'l1_ratio': 0.0017393519679631292}. Best is trial 332 with value: 0.9714564177069506.\u001b[0m\n",
      "\u001b[32m[I 2020-12-27 03:53:55,782]\u001b[0m Trial 912 finished with value: 0.9604402118303802 and parameters: {'alpha': 4.544832440825184e-06, 'l1_ratio': 0.0006848802161202066}. Best is trial 332 with value: 0.9714564177069506.\u001b[0m\n",
      "\u001b[32m[I 2020-12-27 03:53:56,324]\u001b[0m Trial 913 finished with value: 0.9600085526683372 and parameters: {'alpha': 1.9231709102453043e-06, 'l1_ratio': 0.0019834573280689666}. Best is trial 332 with value: 0.9714564177069506.\u001b[0m\n",
      "\u001b[32m[I 2020-12-27 03:53:56,800]\u001b[0m Trial 914 finished with value: 0.9587623462472613 and parameters: {'alpha': 2.875773931688579e-06, 'l1_ratio': 0.0009728335352540337}. Best is trial 332 with value: 0.9714564177069506.\u001b[0m\n",
      "\u001b[32m[I 2020-12-27 03:53:57,400]\u001b[0m Trial 915 finished with value: 0.9587065338403244 and parameters: {'alpha': 1.8512496390168508e-06, 'l1_ratio': 0.001138698991609217}. Best is trial 332 with value: 0.9714564177069506.\u001b[0m\n",
      "\u001b[32m[I 2020-12-27 03:53:57,962]\u001b[0m Trial 916 finished with value: 0.9606164838672613 and parameters: {'alpha': 1.6506579489886885e-06, 'l1_ratio': 0.00041793083787056514}. Best is trial 332 with value: 0.9714564177069506.\u001b[0m\n",
      "\u001b[32m[I 2020-12-27 03:53:58,605]\u001b[0m Trial 917 finished with value: 0.9586259588556102 and parameters: {'alpha': 3.7248165863169493e-06, 'l1_ratio': 0.001403152379602012}. Best is trial 332 with value: 0.9714564177069506.\u001b[0m\n",
      "\u001b[32m[I 2020-12-27 03:53:59,153]\u001b[0m Trial 918 finished with value: 0.9569224046325184 and parameters: {'alpha': 2.4016794062511485e-06, 'l1_ratio': 0.0030247679821402943}. Best is trial 332 with value: 0.9714564177069506.\u001b[0m\n",
      "\u001b[32m[I 2020-12-27 03:53:59,729]\u001b[0m Trial 919 finished with value: 0.9623372972797257 and parameters: {'alpha': 1.4024899953125945e-06, 'l1_ratio': 0.0006035895745379406}. Best is trial 332 with value: 0.9714564177069506.\u001b[0m\n",
      "\u001b[32m[I 2020-12-27 03:54:00,275]\u001b[0m Trial 920 finished with value: 0.9609615840139399 and parameters: {'alpha': 1.436981893789696e-06, 'l1_ratio': 0.0008731614478140161}. Best is trial 332 with value: 0.9714564177069506.\u001b[0m\n",
      "\u001b[32m[I 2020-12-27 03:54:00,813]\u001b[0m Trial 921 finished with value: 0.9589464982724141 and parameters: {'alpha': 2.077323593572915e-06, 'l1_ratio': 0.0003780554876548726}. Best is trial 332 with value: 0.9714564177069506.\u001b[0m\n",
      "\u001b[32m[I 2020-12-27 03:54:01,330]\u001b[0m Trial 922 finished with value: 0.9562365206099565 and parameters: {'alpha': 1.1026551619168773e-06, 'l1_ratio': 0.46005381013927366}. Best is trial 332 with value: 0.9714564177069506.\u001b[0m\n",
      "\u001b[32m[I 2020-12-27 03:54:01,905]\u001b[0m Trial 923 finished with value: 0.9550795442339945 and parameters: {'alpha': 1.484128624318605e-06, 'l1_ratio': 0.002102739218671271}. Best is trial 332 with value: 0.9714564177069506.\u001b[0m\n",
      "\u001b[32m[I 2020-12-27 03:54:02,488]\u001b[0m Trial 924 finished with value: 0.9587137600669497 and parameters: {'alpha': 2.856618361586837e-06, 'l1_ratio': 0.00420435707461751}. Best is trial 332 with value: 0.9714564177069506.\u001b[0m\n"
     ]
    },
    {
     "name": "stderr",
     "output_type": "stream",
     "text": [
      "\u001b[32m[I 2020-12-27 03:54:02,928]\u001b[0m Trial 925 finished with value: 0.9577901914106418 and parameters: {'alpha': 8.584987904000447e-06, 'l1_ratio': 0.0006167495145664192}. Best is trial 332 with value: 0.9714564177069506.\u001b[0m\n",
      "\u001b[32m[I 2020-12-27 03:54:03,463]\u001b[0m Trial 926 finished with value: 0.9591004448854696 and parameters: {'alpha': 9.590875677285794e-07, 'l1_ratio': 0.0013667284084714678}. Best is trial 332 with value: 0.9714564177069506.\u001b[0m\n",
      "\u001b[32m[I 2020-12-27 03:54:03,961]\u001b[0m Trial 927 finished with value: 0.958248389648014 and parameters: {'alpha': 1.910633917296141e-06, 'l1_ratio': 0.00026680471416254306}. Best is trial 332 with value: 0.9714564177069506.\u001b[0m\n",
      "\u001b[32m[I 2020-12-27 03:54:04,519]\u001b[0m Trial 928 finished with value: 0.9622396071153039 and parameters: {'alpha': 4.9819866352613374e-06, 'l1_ratio': 0.002281369462365549}. Best is trial 332 with value: 0.9714564177069506.\u001b[0m\n",
      "\u001b[32m[I 2020-12-27 03:54:05,064]\u001b[0m Trial 929 finished with value: 0.957781060352311 and parameters: {'alpha': 1.1550081917160744e-06, 'l1_ratio': 0.0015765944381383196}. Best is trial 332 with value: 0.9714564177069506.\u001b[0m\n",
      "\u001b[32m[I 2020-12-27 03:54:05,530]\u001b[0m Trial 930 finished with value: 0.960110393864682 and parameters: {'alpha': 8.740091463362299e-07, 'l1_ratio': 4.771091580294146e-06}. Best is trial 332 with value: 0.9714564177069506.\u001b[0m\n",
      "\u001b[32m[I 2020-12-27 03:54:06,011]\u001b[0m Trial 931 finished with value: 0.9549942875667493 and parameters: {'alpha': 3.3887692879890445e-06, 'l1_ratio': 0.0008313065328651031}. Best is trial 332 with value: 0.9714564177069506.\u001b[0m\n",
      "\u001b[32m[I 2020-12-27 03:54:06,489]\u001b[0m Trial 932 finished with value: 0.9574026491559642 and parameters: {'alpha': 1.3294764210791763e-06, 'l1_ratio': 0.009358207810743792}. Best is trial 332 with value: 0.9714564177069506.\u001b[0m\n",
      "\u001b[32m[I 2020-12-27 03:54:06,990]\u001b[0m Trial 933 finished with value: 0.9592668093354209 and parameters: {'alpha': 2.092722310256685e-06, 'l1_ratio': 0.0024495138200561306}. Best is trial 332 with value: 0.9714564177069506.\u001b[0m\n",
      "\u001b[32m[I 2020-12-27 03:54:07,489]\u001b[0m Trial 934 finished with value: 0.8767930111301214 and parameters: {'alpha': 0.004567885627313307, 'l1_ratio': 6.394661837701378e-08}. Best is trial 332 with value: 0.9714564177069506.\u001b[0m\n",
      "\u001b[32m[I 2020-12-27 03:54:07,938]\u001b[0m Trial 935 finished with value: 0.9617919448977018 and parameters: {'alpha': 7.021811170157497e-07, 'l1_ratio': 0.00036467663288443765}. Best is trial 332 with value: 0.9714564177069506.\u001b[0m\n",
      "\u001b[32m[I 2020-12-27 03:54:08,370]\u001b[0m Trial 936 finished with value: 0.9589061170978843 and parameters: {'alpha': 1.0840959087458552e-06, 'l1_ratio': 0.004357769473826575}. Best is trial 332 with value: 0.9714564177069506.\u001b[0m\n",
      "\u001b[32m[I 2020-12-27 03:54:08,956]\u001b[0m Trial 937 finished with value: 0.9596294096531884 and parameters: {'alpha': 5.407048258815962e-07, 'l1_ratio': 2.1894362991936477e-05}. Best is trial 332 with value: 0.9714564177069506.\u001b[0m\n",
      "\u001b[32m[I 2020-12-27 03:54:09,612]\u001b[0m Trial 938 finished with value: 0.9475116668548663 and parameters: {'alpha': 7.673406824966579e-08, 'l1_ratio': 0.0008370375208306599}. Best is trial 332 with value: 0.9714564177069506.\u001b[0m\n",
      "\u001b[32m[I 2020-12-27 03:54:10,033]\u001b[0m Trial 939 finished with value: 0.9649828618879179 and parameters: {'alpha': 1.6674047745451763e-06, 'l1_ratio': 0.0063464209151286085}. Best is trial 332 with value: 0.9714564177069506.\u001b[0m\n",
      "\u001b[32m[I 2020-12-27 03:54:10,615]\u001b[0m Trial 940 finished with value: 0.9586900265200653 and parameters: {'alpha': 3.424391094791988e-06, 'l1_ratio': 0.0069864053074116155}. Best is trial 332 with value: 0.9714564177069506.\u001b[0m\n",
      "\u001b[32m[I 2020-12-27 03:54:11,170]\u001b[0m Trial 941 finished with value: 0.9554705032415609 and parameters: {'alpha': 2.499143375849356e-06, 'l1_ratio': 0.006413374185815524}. Best is trial 332 with value: 0.9714564177069506.\u001b[0m\n",
      "\u001b[32m[I 2020-12-27 03:54:11,733]\u001b[0m Trial 942 finished with value: 0.9584576415027186 and parameters: {'alpha': 1.7218152000660402e-06, 'l1_ratio': 0.0016567146038395464}. Best is trial 332 with value: 0.9714564177069506.\u001b[0m\n",
      "\u001b[32m[I 2020-12-27 03:54:12,226]\u001b[0m Trial 943 finished with value: 0.9586259588556102 and parameters: {'alpha': 5.712505183453759e-06, 'l1_ratio': 0.0055154436087094146}. Best is trial 332 with value: 0.9714564177069506.\u001b[0m\n",
      "\u001b[32m[I 2020-12-27 03:54:12,771]\u001b[0m Trial 944 finished with value: 0.9554882697501795 and parameters: {'alpha': 2.404230798660609e-06, 'l1_ratio': 0.003953426638504615}. Best is trial 332 with value: 0.9714564177069506.\u001b[0m\n",
      "\u001b[32m[I 2020-12-27 03:54:13,298]\u001b[0m Trial 945 finished with value: 0.9582701698914509 and parameters: {'alpha': 1.921447164042828e-06, 'l1_ratio': 0.008444584228160055}. Best is trial 332 with value: 0.9714564177069506.\u001b[0m\n",
      "\u001b[32m[I 2020-12-27 03:54:13,869]\u001b[0m Trial 946 finished with value: 0.9581210255622017 and parameters: {'alpha': 1.4953543193474672e-06, 'l1_ratio': 0.010262769762140567}. Best is trial 332 with value: 0.9714564177069506.\u001b[0m\n",
      "\u001b[32m[I 2020-12-27 03:54:14,412]\u001b[0m Trial 947 finished with value: 0.9586807801273677 and parameters: {'alpha': 4.313340511653312e-06, 'l1_ratio': 0.0033537648644023257}. Best is trial 332 with value: 0.9714564177069506.\u001b[0m\n",
      "\u001b[32m[I 2020-12-27 03:54:15,039]\u001b[0m Trial 948 finished with value: 0.9586142279945629 and parameters: {'alpha': 8.874800148256588e-07, 'l1_ratio': 0.014229029390735821}. Best is trial 332 with value: 0.9714564177069506.\u001b[0m\n",
      "\u001b[32m[I 2020-12-27 03:54:15,608]\u001b[0m Trial 949 finished with value: 0.956870048723096 and parameters: {'alpha': 3.1313497175963534e-06, 'l1_ratio': 5.628729157428382e-10}. Best is trial 332 with value: 0.9714564177069506.\u001b[0m\n",
      "\u001b[32m[I 2020-12-27 03:54:16,264]\u001b[0m Trial 950 finished with value: 0.960075398655566 and parameters: {'alpha': 3.961947408620937e-07, 'l1_ratio': 0.004960069113538987}. Best is trial 332 with value: 0.9714564177069506.\u001b[0m\n",
      "\u001b[32m[I 2020-12-27 03:54:16,854]\u001b[0m Trial 951 finished with value: 0.9552969485465819 and parameters: {'alpha': 1.5987898132200457e-06, 'l1_ratio': 0.007022484656115568}. Best is trial 332 with value: 0.9714564177069506.\u001b[0m\n",
      "\u001b[32m[I 2020-12-27 03:54:17,465]\u001b[0m Trial 952 finished with value: 0.9553947525346675 and parameters: {'alpha': 8.448752305775874e-07, 'l1_ratio': 0.011531197418297185}. Best is trial 332 with value: 0.9714564177069506.\u001b[0m\n",
      "\u001b[32m[I 2020-12-27 03:54:18,093]\u001b[0m Trial 953 finished with value: 0.9567328779565842 and parameters: {'alpha': 5.489504749227989e-07, 'l1_ratio': 0.014280733197860175}. Best is trial 332 with value: 0.9714564177069506.\u001b[0m\n",
      "\u001b[32m[I 2020-12-27 03:54:18,746]\u001b[0m Trial 954 finished with value: 0.9506793791810471 and parameters: {'alpha': 3.0091626430629704e-07, 'l1_ratio': 0.010098668035627992}. Best is trial 332 with value: 0.9714564177069506.\u001b[0m\n",
      "\u001b[32m[I 2020-12-27 03:54:19,348]\u001b[0m Trial 955 finished with value: 0.9586259588556102 and parameters: {'alpha': 2.309549703627273e-06, 'l1_ratio': 0.005091957811046243}. Best is trial 332 with value: 0.9714564177069506.\u001b[0m\n",
      "\u001b[32m[I 2020-12-27 03:54:19,815]\u001b[0m Trial 956 finished with value: 0.9584126035383012 and parameters: {'alpha': 1.4835370287896074e-06, 'l1_ratio': 0.0024753938271716565}. Best is trial 332 with value: 0.9714564177069506.\u001b[0m\n",
      "\u001b[32m[I 2020-12-27 03:54:20,328]\u001b[0m Trial 957 finished with value: 0.9649411400235878 and parameters: {'alpha': 1.1718099547469438e-06, 'l1_ratio': 1.0752707172449967e-07}. Best is trial 332 with value: 0.9714564177069506.\u001b[0m\n",
      "\u001b[32m[I 2020-12-27 03:54:20,794]\u001b[0m Trial 958 finished with value: 0.9563556572378269 and parameters: {'alpha': 7.461011093817098e-07, 'l1_ratio': 0.002689560545595355}. Best is trial 332 with value: 0.9714564177069506.\u001b[0m\n",
      "\u001b[32m[I 2020-12-27 03:54:21,315]\u001b[0m Trial 959 finished with value: 0.9559577110886325 and parameters: {'alpha': 1.1807825263745551e-06, 'l1_ratio': 2.444696317231205e-10}. Best is trial 332 with value: 0.9714564177069506.\u001b[0m\n",
      "\u001b[32m[I 2020-12-27 03:54:21,747]\u001b[0m Trial 960 finished with value: 0.9612792100183208 and parameters: {'alpha': 2.30310162831198e-06, 'l1_ratio': 1.0796888454495297e-07}. Best is trial 332 with value: 0.9714564177069506.\u001b[0m\n",
      "\u001b[32m[I 2020-12-27 03:54:22,287]\u001b[0m Trial 961 finished with value: 0.9616988518393741 and parameters: {'alpha': 6.094899570609303e-07, 'l1_ratio': 0.004161880023873384}. Best is trial 332 with value: 0.9714564177069506.\u001b[0m\n"
     ]
    },
    {
     "name": "stderr",
     "output_type": "stream",
     "text": [
      "\u001b[32m[I 2020-12-27 03:54:22,905]\u001b[0m Trial 962 finished with value: 0.958298808939909 and parameters: {'alpha': 1.0268387669707223e-06, 'l1_ratio': 0.00719615428024436}. Best is trial 332 with value: 0.9714564177069506.\u001b[0m\n",
      "\u001b[32m[I 2020-12-27 03:54:23,553]\u001b[0m Trial 963 finished with value: 0.9555826195385809 and parameters: {'alpha': 1.904004824251437e-07, 'l1_ratio': 1.305133067565599e-07}. Best is trial 332 with value: 0.9714564177069506.\u001b[0m\n",
      "\u001b[32m[I 2020-12-27 03:54:24,349]\u001b[0m Trial 964 finished with value: 0.9545573339588098 and parameters: {'alpha': 4.447521838223859e-07, 'l1_ratio': 0.00010924270238148436}. Best is trial 332 with value: 0.9714564177069506.\u001b[0m\n",
      "\u001b[32m[I 2020-12-27 03:54:24,992]\u001b[0m Trial 965 finished with value: 0.9557418212198682 and parameters: {'alpha': 1.5683438472606547e-06, 'l1_ratio': 0.014866810461976599}. Best is trial 332 with value: 0.9714564177069506.\u001b[0m\n",
      "\u001b[32m[I 2020-12-27 03:54:25,555]\u001b[0m Trial 966 finished with value: 0.958665929936399 and parameters: {'alpha': 3.482873604838074e-06, 'l1_ratio': 0.003236448556637685}. Best is trial 332 with value: 0.9714564177069506.\u001b[0m\n",
      "\u001b[32m[I 2020-12-27 03:54:26,086]\u001b[0m Trial 967 finished with value: 0.9560564523765377 and parameters: {'alpha': 8.116699060684857e-07, 'l1_ratio': 3.783747942328683e-05}. Best is trial 332 with value: 0.9714564177069506.\u001b[0m\n",
      "\u001b[32m[I 2020-12-27 03:54:26,686]\u001b[0m Trial 968 finished with value: 0.9622288858055078 and parameters: {'alpha': 2.7428920121787007e-07, 'l1_ratio': 9.271274162559273e-08}. Best is trial 332 with value: 0.9714564177069506.\u001b[0m\n",
      "\u001b[32m[I 2020-12-27 03:54:27,163]\u001b[0m Trial 969 finished with value: 0.9542396787017638 and parameters: {'alpha': 7.678168019876554e-06, 'l1_ratio': 9.20277182711689e-06}. Best is trial 332 with value: 0.9714564177069506.\u001b[0m\n",
      "\u001b[32m[I 2020-12-27 03:54:27,663]\u001b[0m Trial 970 finished with value: 0.9621559955286139 and parameters: {'alpha': 1.2239871876093395e-06, 'l1_ratio': 1.5131797251444155e-07}. Best is trial 332 with value: 0.9714564177069506.\u001b[0m\n",
      "\u001b[32m[I 2020-12-27 03:54:28,187]\u001b[0m Trial 971 finished with value: 0.9565845376852293 and parameters: {'alpha': 1.865476941860424e-06, 'l1_ratio': 0.008748216524861765}. Best is trial 332 with value: 0.9714564177069506.\u001b[0m\n",
      "\u001b[32m[I 2020-12-27 03:54:28,782]\u001b[0m Trial 972 finished with value: 0.9672994570613983 and parameters: {'alpha': 5.25080324199776e-07, 'l1_ratio': 0.01311898122163965}. Best is trial 332 with value: 0.9714564177069506.\u001b[0m\n",
      "\u001b[32m[I 2020-12-27 03:54:29,412]\u001b[0m Trial 973 finished with value: 0.954108338763482 and parameters: {'alpha': 3.089949767341632e-07, 'l1_ratio': 0.013398483491943683}. Best is trial 332 with value: 0.9714564177069506.\u001b[0m\n",
      "\u001b[32m[I 2020-12-27 03:54:30,006]\u001b[0m Trial 974 finished with value: 0.9546049475083511 and parameters: {'alpha': 2.2485575750508554e-07, 'l1_ratio': 0.018559611115992646}. Best is trial 332 with value: 0.9714564177069506.\u001b[0m\n",
      "\u001b[32m[I 2020-12-27 03:54:30,511]\u001b[0m Trial 975 finished with value: 0.9554370129023503 and parameters: {'alpha': 4.041478307577275e-07, 'l1_ratio': 0.02149955869845297}. Best is trial 332 with value: 0.9714564177069506.\u001b[0m\n",
      "\u001b[32m[I 2020-12-27 03:54:31,016]\u001b[0m Trial 976 finished with value: 0.9532487376502061 and parameters: {'alpha': 4.56013260338383e-07, 'l1_ratio': 0.007765812012418219}. Best is trial 332 with value: 0.9714564177069506.\u001b[0m\n",
      "\u001b[32m[I 2020-12-27 03:54:31,551]\u001b[0m Trial 977 finished with value: 0.9431561120059945 and parameters: {'alpha': 1.4440042603705749e-07, 'l1_ratio': 0.013232555304617151}. Best is trial 332 with value: 0.9714564177069506.\u001b[0m\n",
      "\u001b[32m[I 2020-12-27 03:54:32,009]\u001b[0m Trial 978 finished with value: 0.9532752521930128 and parameters: {'alpha': 5.428001598700655e-07, 'l1_ratio': 0.005394775936770351}. Best is trial 332 with value: 0.9714564177069506.\u001b[0m\n",
      "\u001b[32m[I 2020-12-27 03:54:32,672]\u001b[0m Trial 979 finished with value: 0.9587108384983595 and parameters: {'alpha': 2.855936404868761e-07, 'l1_ratio': 0.017951809537322363}. Best is trial 332 with value: 0.9714564177069506.\u001b[0m\n",
      "\u001b[32m[I 2020-12-27 03:54:33,286]\u001b[0m Trial 980 finished with value: 0.955863415360214 and parameters: {'alpha': 3.857283948606069e-07, 'l1_ratio': 0.00982505688310551}. Best is trial 332 with value: 0.9714564177069506.\u001b[0m\n",
      "\u001b[32m[I 2020-12-27 03:54:33,779]\u001b[0m Trial 981 finished with value: 0.952714667710416 and parameters: {'alpha': 5.836070398970106e-07, 'l1_ratio': 0.01788918222100943}. Best is trial 332 with value: 0.9714564177069506.\u001b[0m\n",
      "\u001b[32m[I 2020-12-27 03:54:34,232]\u001b[0m Trial 982 finished with value: 0.9579641209373145 and parameters: {'alpha': 6.875707077043092e-07, 'l1_ratio': 0.006341560532460112}. Best is trial 332 with value: 0.9714564177069506.\u001b[0m\n",
      "\u001b[32m[I 2020-12-27 03:54:34,799]\u001b[0m Trial 983 finished with value: 0.9714223884527003 and parameters: {'alpha': 4.1447416770787783e-07, 'l1_ratio': 0.02211302309271142}. Best is trial 332 with value: 0.9714564177069506.\u001b[0m\n",
      "\u001b[32m[I 2020-12-27 03:54:35,348]\u001b[0m Trial 984 finished with value: 0.9598144495210494 and parameters: {'alpha': 2.2760464074707946e-07, 'l1_ratio': 0.023742196010627496}. Best is trial 332 with value: 0.9714564177069506.\u001b[0m\n",
      "\u001b[32m[I 2020-12-27 03:54:36,045]\u001b[0m Trial 985 finished with value: 0.9471269563184682 and parameters: {'alpha': 1.571250421337343e-07, 'l1_ratio': 0.025951832070435474}. Best is trial 332 with value: 0.9714564177069506.\u001b[0m\n",
      "\u001b[32m[I 2020-12-27 03:54:36,708]\u001b[0m Trial 986 finished with value: 0.9585105239294582 and parameters: {'alpha': 2.9981589043955426e-07, 'l1_ratio': 0.014460344878512757}. Best is trial 332 with value: 0.9714564177069506.\u001b[0m\n",
      "\u001b[32m[I 2020-12-27 03:54:37,322]\u001b[0m Trial 987 finished with value: 0.9557087806581664 and parameters: {'alpha': 3.5370412269276704e-07, 'l1_ratio': 0.011008546495398529}. Best is trial 332 with value: 0.9714564177069506.\u001b[0m\n",
      "\u001b[32m[I 2020-12-27 03:54:37,966]\u001b[0m Trial 988 finished with value: 0.9609230325177016 and parameters: {'alpha': 4.4058478958279027e-07, 'l1_ratio': 0.029792266880310787}. Best is trial 332 with value: 0.9714564177069506.\u001b[0m\n",
      "\u001b[32m[I 2020-12-27 03:54:38,583]\u001b[0m Trial 989 finished with value: 0.9552381182079466 and parameters: {'alpha': 2.755093483580672e-07, 'l1_ratio': 0.021432363477213754}. Best is trial 332 with value: 0.9714564177069506.\u001b[0m\n",
      "\u001b[32m[I 2020-12-27 03:54:39,083]\u001b[0m Trial 990 finished with value: 0.9541735832702263 and parameters: {'alpha': 2.3185217344323815e-05, 'l1_ratio': 0.009062537733852315}. Best is trial 332 with value: 0.9714564177069506.\u001b[0m\n",
      "\u001b[32m[I 2020-12-27 03:54:39,713]\u001b[0m Trial 991 finished with value: 0.9565027694980236 and parameters: {'alpha': 1.0644119584018274e-07, 'l1_ratio': 0.014023403958624572}. Best is trial 332 with value: 0.9714564177069506.\u001b[0m\n",
      "\u001b[32m[I 2020-12-27 03:54:40,269]\u001b[0m Trial 992 finished with value: 0.961082554635492 and parameters: {'alpha': 4.417265477759115e-07, 'l1_ratio': 0.030373777776950623}. Best is trial 332 with value: 0.9714564177069506.\u001b[0m\n",
      "\u001b[32m[I 2020-12-27 03:54:40,822]\u001b[0m Trial 993 finished with value: 0.9372308228734961 and parameters: {'alpha': 1.8073867299188198e-07, 'l1_ratio': 0.01597696091409433}. Best is trial 332 with value: 0.9714564177069506.\u001b[0m\n",
      "\u001b[32m[I 2020-12-27 03:54:41,445]\u001b[0m Trial 994 finished with value: 0.9629388863994335 and parameters: {'alpha': 5.50947628215941e-07, 'l1_ratio': 0.14127980199752083}. Best is trial 332 with value: 0.9714564177069506.\u001b[0m\n",
      "\u001b[32m[I 2020-12-27 03:54:41,921]\u001b[0m Trial 995 finished with value: 0.9581681504205167 and parameters: {'alpha': 3.3520202594691065e-07, 'l1_ratio': 0.007759578740545192}. Best is trial 332 with value: 0.9714564177069506.\u001b[0m\n",
      "\u001b[32m[I 2020-12-27 03:54:42,435]\u001b[0m Trial 996 finished with value: 0.9581979713859741 and parameters: {'alpha': 5.414208716137173e-07, 'l1_ratio': 0.003913633347042071}. Best is trial 332 with value: 0.9714564177069506.\u001b[0m\n",
      "\u001b[32m[I 2020-12-27 03:54:42,950]\u001b[0m Trial 997 finished with value: 0.9556563078429262 and parameters: {'alpha': 2.603020649612283e-07, 'l1_ratio': 0.0199421064268713}. Best is trial 332 with value: 0.9714564177069506.\u001b[0m\n",
      "\u001b[32m[I 2020-12-27 03:54:43,567]\u001b[0m Trial 998 finished with value: 0.9526669032987795 and parameters: {'alpha': 4.261650951901322e-07, 'l1_ratio': 0.032405631990870216}. Best is trial 332 with value: 0.9714564177069506.\u001b[0m\n"
     ]
    },
    {
     "name": "stderr",
     "output_type": "stream",
     "text": [
      "\u001b[32m[I 2020-12-27 03:54:44,093]\u001b[0m Trial 999 finished with value: 0.9609059878607291 and parameters: {'alpha': 6.749940774743254e-07, 'l1_ratio': 0.010355739078595693}. Best is trial 332 with value: 0.9714564177069506.\u001b[0m\n"
     ]
    }
   ],
   "source": [
    "# 1000回のトライアルで最適なパラメータを採用\n",
    "study = optuna.create_study(direction='maximize')\n",
    "study.optimize(objective, n_trials=1000)\n",
    "params=study.best_params"
   ]
  },
  {
   "cell_type": "code",
   "execution_count": 126,
   "metadata": {},
   "outputs": [
    {
     "name": "stdout",
     "output_type": "stream",
     "text": [
      "{'alpha': 6.246369486906041e-07, 'l1_ratio': 0.0005504654723293009}\n"
     ]
    }
   ],
   "source": [
    "print(params)"
   ]
  },
  {
   "cell_type": "code",
   "execution_count": 142,
   "metadata": {},
   "outputs": [
    {
     "name": "stdout",
     "output_type": "stream",
     "text": [
      "0.9701996303242613\n"
     ]
    }
   ],
   "source": [
    "# パラメータは固定して100回の施行で検証データのf1scoreが最大となるモデルを採用\n",
    "best_score=0\n",
    "for i in range(100):\n",
    "    clf = SGDClassifier(loss='log', class_weight='balanced')\n",
    "    clf.set_params(**params)\n",
    "    clf.fit(Xtrain_tfidf, Ytrain)\n",
    "    Ydev_pred=clf.predict(Xdev_tfidf)\n",
    "    if best_score< f1_score(Ydev, Ydev_pred, average=\"macro\"):\n",
    "        best_model = clf\n",
    "        best_score = f1_score(Ydev, Ydev_pred, average=\"macro\")\n",
    "print(best_score)\n",
    "clf = best_model"
   ]
  },
  {
   "cell_type": "code",
   "execution_count": 143,
   "metadata": {},
   "outputs": [],
   "source": [
    "#model をpickle化\n",
    "import pickle\n",
    "\n",
    "with open('SGD_best_balanced.pickle', 'wb') as f:\n",
    "    pickle.dump(clf, f)"
   ]
  },
  {
   "cell_type": "code",
   "execution_count": 146,
   "metadata": {},
   "outputs": [
    {
     "name": "stdout",
     "output_type": "stream",
     "text": [
      "{'alpha': 6.246369486906041e-07, 'l1_ratio': 0.0005504654723293009}\n",
      "train: 0.9998305659098611\n",
      "precision:0.9998193315266486\n",
      "recall_score:0.9998439450686641\n",
      "f1_score:0.9998315099623546\n",
      "dev: 0.9728629579375848\n",
      "precision:0.9719748031952378\n",
      "recall_score:0.9689888263514056\n",
      "f1_score:0.9701996303242613\n",
      "test: 0.966078697421981\n",
      "test precision:0.9647403127029965\n",
      "test recall_score:0.9610233444545434\n",
      "test f1_score:0.9626538472838951\n"
     ]
    }
   ],
   "source": [
    "# 結果の出力(検証データ最大)\n",
    "Ytrain_prev=clf.predict(Xtrain_tfidf)\n",
    "Ydev_pred=clf.predict(Xdev_tfidf)\n",
    "Ytest_pred=clf.predict(Xtest_tfidf)\n",
    "print(params)\n",
    "print(f'train: {clf.score(Xtrain_tfidf, Ytrain)}')\n",
    "print(f'precision:{precision_score(Ytrain, Ytrain_prev, average=\"macro\")}')\n",
    "print(f'recall_score:{recall_score(Ytrain, Ytrain_prev, average=\"macro\")}')\n",
    "print(f'f1_score:{f1_score(Ytrain, Ytrain_prev, average=\"macro\")}')\n",
    "print(f'dev: {clf.score(Xdev_tfidf, Ydev)}')\n",
    "print(f'precision:{precision_score(Ydev, Ydev_pred, average=\"macro\")}')\n",
    "print(f'recall_score:{recall_score(Ydev, Ydev_pred, average=\"macro\")}')\n",
    "print(f'f1_score:{f1_score(Ydev, Ydev_pred, average=\"macro\")}')\n",
    "print(f'test: {clf.score(Xtest_tfidf, Ytest)}')\n",
    "print(f'test precision:{precision_score(Ytest, Ytest_pred, average=\"macro\")}')\n",
    "print(f'test recall_score:{recall_score(Ytest, Ytest_pred, average=\"macro\")}')\n",
    "print(f'test f1_score:{f1_score(Ytest, Ytest_pred, average=\"macro\")}')"
   ]
  }
 ],
 "metadata": {
  "colab": {
   "collapsed_sections": [],
   "name": "report1.ipynb",
   "provenance": []
  },
  "kernelspec": {
   "display_name": "Python 3",
   "language": "python",
   "name": "python3"
  },
  "language_info": {
   "codemirror_mode": {
    "name": "ipython",
    "version": 3
   },
   "file_extension": ".py",
   "mimetype": "text/x-python",
   "name": "python",
   "nbconvert_exporter": "python",
   "pygments_lexer": "ipython3",
   "version": "3.8.3"
  }
 },
 "nbformat": 4,
 "nbformat_minor": 1
}
