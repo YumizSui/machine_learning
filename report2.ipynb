{
 "cells": [
  {
   "cell_type": "markdown",
   "metadata": {
    "id": "xTqspt3ZIcUH"
   },
   "source": [
    "# 機械学習レポート課題2"
   ]
  },
  {
   "cell_type": "markdown",
   "metadata": {
    "id": "VId-I3nMIitn"
   },
   "source": [
    "## 1. 勾配の計算\n",
    "\n",
    "3次元の入力$\\pmb{x} \\in \\mathbb{R}^{1 \\times 3}$を受け取り，2次元の中間層$\\pmb{h} \\in \\mathbb{R}^{1 \\times 2}$を介して，$\\hat{y} \\in \\mathbb{R}$を出力することで二値分類を行う2層のニューラルネットワークを次式で定義する．\n",
    "\n",
    "$$\n",
    "\\hat{y} = \\sigma(\\pmb{h}Q+b), \\; \\pmb{h}=\\mathrm{ReLU}(\\pmb{x}W)\n",
    "$$\n",
    "\n",
    "ただし，$\\sigma(.)$はシグモイド関数であり，$\\mathrm{ReLU}(a) = \\max(a, 0)$である．また，$W \\in \\mathbb{R}^{3 \\times 2}, Q \\in \\mathbb{R}^{2 \\times 1}, b \\in \\mathbb{R}$はパラメータであり，以下に示す値に設定されているとする．\n",
    "\n",
    "$$\n",
    "W = \\begin{pmatrix}1 & -1 \\\\ 1 & -1 \\\\ -0.5 & 1.5\\end{pmatrix}, \\; Q = \\begin{pmatrix}1 \\\\ 1\\end{pmatrix}, \\; b = -1.5\n",
    "$$\n",
    "\n",
    "以下の問に答えよ．ただし，答えをプログラムで求めた場合は，その実装と答えを示せ．答えを手計算等で求めた場合は，その求め方をMarkdown形式で記述するか，紙に書いた解答を撮影やスキャンするなどして，Jupyter Notebookの中に貼り付けよ．"
   ]
  },
  {
   "cell_type": "markdown",
   "metadata": {
    "id": "1RUSVnMHMZup"
   },
   "source": [
    "### (1)\n",
    "\n",
    "このモデルに入力$x=\\begin{pmatrix}1 & -1 & 1\\end{pmatrix}$が与えられたとき，中間層の値$\\pmb{h}$と出力値$\\hat{y}$を求めよ．"
   ]
  },
  {
   "cell_type": "code",
   "execution_count": 1,
   "metadata": {},
   "outputs": [],
   "source": [
    "import torch\n",
    "import torch.nn as nn"
   ]
  },
  {
   "cell_type": "code",
   "execution_count": 2,
   "metadata": {},
   "outputs": [],
   "source": [
    "ReLU=nn.ReLU()\n",
    "Sigmoid=nn.Sigmoid()"
   ]
  },
  {
   "cell_type": "code",
   "execution_count": 3,
   "metadata": {},
   "outputs": [
    {
     "name": "stdout",
     "output_type": "stream",
     "text": [
      "h:tensor([[0.0000, 1.5000]])\n",
      "y_hat:tensor([[0.5000]])\n"
     ]
    }
   ],
   "source": [
    "dtype = torch.float\n",
    "\n",
    "x = torch.tensor([[1,-1,1]], dtype=dtype)\n",
    "w=torch.tensor([[1,-1], [1, -1], [-0.5, 1.5]], dtype=dtype)\n",
    "Q= torch.tensor([[1],[1]], dtype=dtype)\n",
    "b=torch.tensor([[-1.5]], dtype=dtype)\n",
    "\n",
    "h = ReLU(x.mm(w))\n",
    "y_hat = Sigmoid(h.mm(Q).add(b))\n",
    "print(f'h:{h}')\n",
    "print(f'y_hat:{y_hat}')"
   ]
  },
  {
   "cell_type": "markdown",
   "metadata": {
    "id": "JBq9ffZJM4YF"
   },
   "source": [
    "\n",
    "学習事例$(\\pmb{x}, y) = \\left(\\begin{pmatrix}1 & -1 & 1\\end{pmatrix}, 0\\right)$が与えられたとき，このニューラルネットワークをクロスエントロピー誤差関数で訓練したい．以下の問に答えよ．\n",
    "\n",
    "### (2)\n",
    "\n",
    "損失関数の計算式を示せ．"
   ]
  },
  {
   "cell_type": "markdown",
   "metadata": {
    "id": "tcaRa69mNJVH"
   },
   "source": [
    "\\begin{align}\n",
    "    H(p,q) &= -\\sum_k p(k) log q(k)\\\\\n",
    "    &=-y\\log\\hat{y}-(1-y)log(1-\\hat{y})\n",
    "\\end{align}"
   ]
  },
  {
   "cell_type": "markdown",
   "metadata": {
    "id": "HylU-420NKeC"
   },
   "source": [
    "### (3)\n",
    "\n",
    "損失関数の値を計算せよ．ただし，$\\log$は自然対数（底は$e$）とせよ．"
   ]
  },
  {
   "cell_type": "code",
   "execution_count": 4,
   "metadata": {},
   "outputs": [],
   "source": [
    "x = torch.tensor([[1,-1,1]], dtype=dtype)\n",
    "w=torch.tensor([[1,-1], [1, -1], [-0.5, 1.5]], dtype=dtype, requires_grad=True)\n",
    "Q= torch.tensor([[1],[1]], dtype=dtype, requires_grad=True)\n",
    "b=torch.tensor([[-1.5]], dtype=dtype, requires_grad=True)\n",
    "\n",
    "h = ReLU(x.mm(w))\n",
    "y_pred =h.mm(Q).add(b)\n",
    "y= torch.tensor([[0]], dtype=dtype)"
   ]
  },
  {
   "cell_type": "code",
   "execution_count": 6,
   "metadata": {},
   "outputs": [
    {
     "name": "stdout",
     "output_type": "stream",
     "text": [
      "loss:0.6931471824645996\n"
     ]
    }
   ],
   "source": [
    "loss_fn = torch.nn.BCEWithLogitsLoss(reduction='sum')\n",
    "loss=loss_fn(y_pred, y)\n",
    "print(f'loss:{loss}')"
   ]
  },
  {
   "cell_type": "markdown",
   "metadata": {
    "id": "dMnmpE3aNRfQ"
   },
   "source": [
    "### (4)\n",
    "\n",
    "損失関数の$W$,$Q$,$b$に関する勾配の値を計算せよ．"
   ]
  },
  {
   "cell_type": "code",
   "execution_count": null,
   "metadata": {},
   "outputs": [],
   "source": [
    "loss.backward()"
   ]
  },
  {
   "cell_type": "code",
   "execution_count": 28,
   "metadata": {
    "id": "9vB8UZ5dNX7O"
   },
   "outputs": [
    {
     "name": "stdout",
     "output_type": "stream",
     "text": [
      "0.6931471824645996\n",
      "w:tensor([[ 0.0000,  0.5000],\n",
      "        [-0.0000, -0.5000],\n",
      "        [ 0.0000,  0.5000]])\n",
      "Q:tensor([[0.0000],\n",
      "        [0.7500]])\n",
      "b:tensor([[0.5000]])\n"
     ]
    }
   ],
   "source": [
    "print(loss.item())\n",
    "print(f'w:{w.grad}')\n",
    "print(f'Q:{Q.grad}')\n",
    "print(f'b:{b.grad}')"
   ]
  },
  {
   "cell_type": "markdown",
   "metadata": {
    "id": "fE_2SxFiI7LJ"
   },
   "source": [
    "## 2. 深いニューラルネットワークの学習\n",
    "\n",
    "深い（層が多い）ニューラルネットワークの学習は，浅い（層が少ない）ニューラルネットワークよりも難しいとされる．なぜ深いニューラルネットワークの学習は難しいのか説明せよ．また，深いニューラルネットワークを学習するために効果的と言われている工夫を3つ説明せよ．それぞれ，その工夫を端的に表すキーワードと，その工夫が深いニューラルネットワークの学習にどのように役立つ（とされている）のかを説明せよ．\n",
    "\n",
    "### なぜ深いニューラルネットワークの学習は難しいのか"
   ]
  },
  {
   "cell_type": "markdown",
   "metadata": {
    "id": "mbCTWNJ4yhsE"
   },
   "source": [
    "様々であるが以下が代表的問題である\n",
    "- シグモイド関数のような活性化関数は絶対値の大きい入力に対して勾配が0になるため，何度も通すと，勾配消失する（勾配消失すると学習が進まなくなる）\n",
    "- 次元数が増えて過学習する危険がある\n",
    "- (次元数が増えると計算量が増える)"
   ]
  },
  {
   "cell_type": "markdown",
   "metadata": {
    "id": "UjOeFTOOPV_f"
   },
   "source": [
    "### 深いニューラルネットワークを学習するための工夫３つ"
   ]
  },
  {
   "cell_type": "markdown",
   "metadata": {
    "id": "FspkjqpOyjbL"
   },
   "source": [
    ">  勾配消失する\n",
    "\n",
    "ReLU関数を活性化関数として用いれば，$x>0$について勾配が存在するので勾配消失が起こらない\n",
    "\n",
    "活性化関数のあとの出力データをアクティベーションというが，これが各層で適度にバラついていてほしい\n",
    "バッチ正規化（ミニバッチごとに正規化を行う）をすることで，学習が安定化する"
   ]
  },
  {
   "cell_type": "markdown",
   "metadata": {
    "id": "_uUR0DYOykb0"
   },
   "source": [
    "> 次元数が増えて過学習する危険がある\n",
    "\n",
    "正則化をする．\n",
    "例えば重みのL2ノルムを取ってペナルティを加えることで，大きい重みを持つことを抑制する．"
   ]
  },
  {
   "cell_type": "markdown",
   "metadata": {
    "id": "SgLlz_hhylA3"
   },
   "source": [
    "また，ドロップアウトも有効である\n",
    "\n",
    "ドロップアウトとは，訓練毎にニューラルネットワークからランダムにニューロンを消去して学習させ，最後に間引いたニューラルネットを平均したモデルで予測を行うという手法である．ニューロン同士の過適合を抑制することで汎化性能を向上させる．\n",
    "\n",
    "ドロップアウトはアンサンブル学習の一種である"
   ]
  },
  {
   "cell_type": "markdown",
   "metadata": {},
   "source": [
    "また，工夫以前に深層学習が発展した理由として以下の２つが挙げられる\n",
    "- 自動微分によって深い層になっても勾配計算の計算量を削減し，正確な計算，精度の維持が可能になった．\n",
    "- GPUを用いて浮動小数点演算などを並列に処理することで，深層学習で多用する行列計算を容易に高速化できるようになった"
   ]
  },
  {
   "cell_type": "markdown",
   "metadata": {
    "id": "jgvseZmIO8jQ"
   },
   "source": [
    "## 3. カテゴリ分類器の構築\n",
    "\n",
    "[レポート１](https://colab.research.google.com/drive/1uZdsY20K4Mj8W50SFGKCVKihgwtpKBoP?usp=sharing)で用いた学習データ，検証データ，評価データを用いて，高性能なカテゴリ分類器を２層以上のニューラルネットワークで構築したい．検証データ上での性能ができるだけ高くなるようなニューラルネットワークのモデルを探求したうえで，\n",
    "\n",
    "+ モデルの簡単な説明\n",
    "+ モデルを学習するプログラムと実行結果\n",
    "+ 検証データ上での適合率，再現率，F1スコア\n",
    "+ 評価データ上での適合率，再現率，F1スコア\n",
    "\n",
    "をまとめよ．ただし，\n",
    "\n",
    "+ レポート１の学習データ，検証データ，評価データの分け方を変更してはならない\n",
    "+ 言うまでもないが，評価データでカテゴリ分類器を学習してはいけない"
   ]
  },
  {
   "cell_type": "code",
   "execution_count": 1,
   "metadata": {
    "id": "uHV99E9hO-Cq"
   },
   "outputs": [],
   "source": [
    "import json\n",
    "\n",
    "with open('livedoor.json') as fi:\n",
    "    D = json.load(fi)\n",
    "    \n",
    "Dtrain = D['train']\n",
    "Ddev = D['dev']\n",
    "Dtest = D['test']"
   ]
  },
  {
   "cell_type": "code",
   "execution_count": 2,
   "metadata": {
    "scrolled": true
   },
   "outputs": [
    {
     "name": "stdout",
     "output_type": "stream",
     "text": [
      "OK\n"
     ]
    }
   ],
   "source": [
    "import hashlib\n",
    "\n",
    "def compute_hash(D):\n",
    "    m = hashlib.sha256()\n",
    "    for d in D:\n",
    "        m.update(d['url'].encode('utf-8'))\n",
    "    return m.hexdigest()\n",
    "\n",
    "assert compute_hash(Dtrain) == 'f1294a19b25952e5b18510e3eb74c21be9d5d18a86c369d2d2639c9e5ea93d6c'\n",
    "assert compute_hash(Ddev) == '64f709e1e739ac880b8b7acc49ce342b60e80b804279bac68c5f27d08b5fb141'\n",
    "assert compute_hash(Dtest) == '4acf6822099a9e4cc5794cade26ae0ddd8df88ccc99690e7b48cdd8aa3bf1bcd'\n",
    "print(\"OK\")"
   ]
  },
  {
   "cell_type": "code",
   "execution_count": 3,
   "metadata": {},
   "outputs": [],
   "source": [
    "import MeCab\n",
    "tagger = MeCab.Tagger('-Owakati')\n",
    "\n",
    "# mecab-ipadic-neologdを使っても性能が出なかった\n",
    "# neologd = MeCab.Tagger('-d /usr/lib/mecab/dic/mecab-ipadic-neologd')\n",
    "# neologd.parse('') \n",
    "\n",
    "def tokenize(s):\n",
    "    return tagger.parse(s).split()\n",
    "\n",
    "def token2vec(token):\n",
    "    vec = defaultdict(int)\n",
    "    for sentence in token:\n",
    "        for word in sentence:\n",
    "                vec[word] += 1\n",
    "    return vec"
   ]
  },
  {
   "cell_type": "code",
   "execution_count": 4,
   "metadata": {},
   "outputs": [],
   "source": [
    "#用いたライブラリ\n",
    "\n",
    "from collections import defaultdict\n",
    "import numpy as np\n",
    "import re\n",
    "\n",
    "import neologdn\n",
    "\n",
    "from sklearn.feature_extraction.text import TfidfVectorizer\n",
    "from sklearn import preprocessing\n",
    "from torch.utils.tensorboard import SummaryWriter\n",
    "from torch.utils.data import TensorDataset, DataLoader\n",
    "import datetime\n",
    "import torch.optim as optim\n",
    "from sklearn.metrics import recall_score, precision_score, f1_score, confusion_matrix\n",
    "\n",
    "import torch\n",
    "import torch.nn as nn"
   ]
  },
  {
   "cell_type": "markdown",
   "metadata": {},
   "source": [
    "# 方針1 無難にNNs"
   ]
  },
  {
   "cell_type": "markdown",
   "metadata": {},
   "source": [
    "まずは，前回評価データでf1_score:0.97を出した手法を再利用することにした．\n",
    "\n",
    "mytokenize関数による前処理を行っており，\n",
    "例えばneologdnによる正規化や，urlの削除，品詞の原形の利用，品詞の選択などを行った．\n",
    "\n",
    "また，TFIDFによるベクトル化を行い，`min_df=3, max_df=0.7`とした（出現数3未満の語彙は除外，全体の7割で出現する語彙は除外）\n",
    "\n",
    "また，タイトルをテキストと結合させている"
   ]
  },
  {
   "cell_type": "code",
   "execution_count": 5,
   "metadata": {},
   "outputs": [],
   "source": [
    "# 前回の流用\n",
    "urlre=re.compile(r'(http|https)://([-\\w]+\\.)+[-\\w]+(/[-\\w./?%&=]*)?')\n",
    "symbolre = re.compile('[，．、。]')\n",
    "# numre = re.compile(r'\\d+')\n",
    "\n",
    "def mytokenize(d):\n",
    "    s=''.join(d)\n",
    "    token = []\n",
    "    s=s.replace('\\u3000','')\n",
    "    neologdn.normalize(s)\n",
    "    s=urlre.sub(\"\", s)\n",
    "    s=symbolre.sub(\" \", s)\n",
    "#     s=numre.sub('0', s)\n",
    "    node = tagger.parseToNode(s)\n",
    "    while node:\n",
    "        features = node.feature.split(',')\n",
    "        pos = features[0]\n",
    "#         pos_sub1 = features[1]\n",
    "        base = features[6]\n",
    "        if node.surface == '':\n",
    "            node = node.next\n",
    "            continue\n",
    "        if pos in ['名詞', '動詞', '形容詞', '連体詞', '副詞', '感動詞', '記号']: # and pos_sub1 not in  ['非自立', '接尾']:\n",
    "            if base == \"*\":\n",
    "                token.append(node.surface)\n",
    "            else:\n",
    "                token.append(base)\n",
    "\n",
    "        node = node.next\n",
    "\n",
    "    return token"
   ]
  },
  {
   "cell_type": "code",
   "execution_count": 6,
   "metadata": {},
   "outputs": [],
   "source": [
    "# vector化 TFIDF:単語の重要度によるベクトル化． 単語の出現頻度と逆文書頻度（単語の希少さ）の積\n",
    "# min_df=3 : 出現数3未満の語彙は除外\n",
    "# max_df=0.7 : 70%の文書で出現する語彙は除外\n",
    "vectorizer = TfidfVectorizer(analyzer=mytokenize,min_df=3, max_df=0.7, norm='l2', sublinear_tf=True)\n",
    "vectorizer.fit([[d['title']]+d['text'] for d in Dtrain])\n",
    "\n",
    "# 用いるデータ\n",
    "# titleとtextを結合してベクトル化\n",
    "Xtrain_tfidf = vectorizer.transform([[d['title']]+ d['text'] for d in Dtrain])\n",
    "Xdev_tfidf =vectorizer.transform([[d['title']]+ d['text'] for d in Ddev])\n",
    "Xtest_tfidf = vectorizer.transform([[d['title']]+ d['text'] for d in Dtest])\n",
    "\n",
    "# 分類\n",
    "VY = preprocessing.LabelEncoder()\n",
    "Ytrain = VY.fit_transform([data['source'] for data in Dtrain])\n",
    "Ydev = VY.transform([data['source'] for data in Ddev])\n",
    "Ytest = VY.transform([data['source'] for data in Dtest])"
   ]
  },
  {
   "cell_type": "code",
   "execution_count": 7,
   "metadata": {},
   "outputs": [],
   "source": [
    "dtype = torch.float\n",
    "train_X=torch.tensor(Xtrain_tfidf.toarray(),dtype=dtype)\n",
    "train_y=torch.tensor(Ytrain,dtype=torch.int64)\n",
    "valid_X=torch.tensor(Xdev_tfidf.toarray(),dtype=dtype)\n",
    "valid_y=torch.tensor(Ydev,dtype=torch.int64)\n",
    "test_X=torch.tensor(Xtest_tfidf.toarray(),dtype=dtype)\n",
    "test_y=torch.tensor(Ytest,dtype=torch.int64)\n"
   ]
  },
  {
   "cell_type": "code",
   "execution_count": 9,
   "metadata": {},
   "outputs": [],
   "source": [
    "def train_step(train_X, train_y,model):\n",
    "    model.train()\n",
    "    pred_y = model(train_X)\n",
    "    \n",
    "    optimizer.zero_grad()\n",
    "    loss = criterion(pred_y, train_y)\n",
    "    loss.backward()\n",
    "    optimizer.step()\n",
    "    \n",
    "    n=len(train_y)\n",
    "    \n",
    "    acc = is_equal_pred(pred_y, train_y).sum()\n",
    "    \n",
    "    return (loss.item(), acc.item()/n)\n",
    "\n",
    "def valid_step(valid_X, valid_y,model):\n",
    "    model.eval()\n",
    "    pred_y = model(valid_X)\n",
    "    \n",
    "    loss = criterion(pred_y, valid_y)\n",
    "    \n",
    "    n=len(valid_y)\n",
    "    acc = is_equal_pred(pred_y, valid_y).sum()\n",
    "\n",
    "    return (loss.item(), acc.item()/n)"
   ]
  },
  {
   "cell_type": "code",
   "execution_count": 10,
   "metadata": {},
   "outputs": [],
   "source": [
    "def is_equal_pred(pred_y, true_y):\n",
    "    return Softmax(pred_y).argmax(axis=1) == true_y"
   ]
  },
  {
   "cell_type": "markdown",
   "metadata": {},
   "source": [
    "Layerは3つで，\n",
    "1. INPUT x 1024\n",
    "2. 1024 x 32\n",
    "3. 32 x OUTPUT\n",
    "\n",
    "Adadeltaによる最適化をし，間にDropdownとバッチ正規化を挟んでる\n",
    "\n",
    "パラメータ探索は行っていない"
   ]
  },
  {
   "cell_type": "code",
   "execution_count": 8,
   "metadata": {},
   "outputs": [],
   "source": [
    "INPUT_SIZE=train_X.shape[1]\n",
    "MIDDLE1_SIZE=1024\n",
    "MIDDLE2_SIZE=32\n",
    "OUTPUT_SIZE=len(train_y.unique())\n",
    "\n",
    "model = torch.nn.Sequential(\n",
    "    nn.Linear(INPUT_SIZE, MIDDLE1_SIZE),\n",
    "    nn.BatchNorm1d(MIDDLE1_SIZE),\n",
    "        torch.nn.ReLU(),\n",
    "    torch.nn.Dropout(),\n",
    "    nn.Linear(MIDDLE1_SIZE, MIDDLE2_SIZE),\n",
    "    nn.BatchNorm1d(MIDDLE2_SIZE),\n",
    "    torch.nn.ReLU(),\n",
    "    torch.nn.Dropout(),\n",
    "    torch.nn.Linear(MIDDLE2_SIZE, OUTPUT_SIZE),\n",
    ")"
   ]
  },
  {
   "cell_type": "code",
   "execution_count": null,
   "metadata": {},
   "outputs": [],
   "source": [
    "def show_result(true_y, pred_y):\n",
    "    print(f'accuracy\\t: {(pred_y==true_y).sum().item()/len(pred_y)}')\n",
    "    print(f'f1_score\\t: {f1_score(true_y, pred_y_label,  average=\"macro\")}')\n",
    "    print(f'recall_score\\t: {recall_score(true_y, pred_y_label,  average=\"macro\")}')\n",
    "    print(f'precision_score\\t: {precision_score(true_y, pred_y_label,  average=\"macro\")}')\n",
    "    print(\"\")"
   ]
  },
  {
   "cell_type": "code",
   "execution_count": 17,
   "metadata": {},
   "outputs": [],
   "source": [
    "\n",
    "Softmax=nn.Softmax(dim=1)\n",
    "\n",
    "REGULARIZATION = 0.0001\n",
    "optimizer = optim.Adadelta(\n",
    "    model.parameters(),weight_decay=REGULARIZATION)\n",
    "EPOCHS=20\n",
    "device = torch.device(\"cpu\")\n",
    "\n",
    "criterion=nn.CrossEntropyLoss()\n",
    "\n",
    "ds_train = TensorDataset(train_X.to(device), train_y.to(device))\n",
    "ds_valid = TensorDataset(valid_X.to(device), valid_y.to(device))\n",
    "\n",
    "nowstr=datetime.datetime.now().strftime('%Y%m%d_%H%M')\n",
    "writer = SummaryWriter(log_dir=f\"./logs_{nowstr}\")\n",
    "\n",
    "batchsize=128\n",
    "# batchsizes=np.logspace(0, 10, 11, base=2,dtype=int)\n",
    "\n",
    "loader_train = DataLoader(ds_train, batch_size=batchsize, shuffle=True)\n",
    "loader_valid = DataLoader(ds_valid, batch_size=batchsize, shuffle=True)"
   ]
  },
  {
   "cell_type": "code",
   "execution_count": null,
   "metadata": {},
   "outputs": [],
   "source": [
    "for epoch in range(EPOCHS):\n",
    "    train_loss_mean=[]\n",
    "    train_acc_mean=[]\n",
    "    for x,y in loader_train:\n",
    "        train_loss, train_acc=train_step(train_X,train_y,model)\n",
    "        train_loss_mean.append(train_loss)\n",
    "        train_acc_mean.append(train_acc)\n",
    "\n",
    "    with torch.no_grad():\n",
    "        valid_loss_mean=[]\n",
    "        valid_acc_mean=[]\n",
    "        for x,y in loader_valid:\n",
    "            valid_loss, valid_acc=valid_step(valid_X, valid_y,model)\n",
    "            valid_loss_mean.append(valid_loss)\n",
    "            valid_acc_mean.append(valid_acc)\n",
    "\n",
    "        train_loss_mean=np.mean(train_loss_mean)\n",
    "        train_acc_mean=np.mean(train_acc_mean)\n",
    "        valid_loss_mean=np.mean(valid_loss_mean)\n",
    "        valid_acc_mean=np.mean(valid_acc_mean)\n",
    "\n",
    "        writer.add_scalar(\"Loss/train\", train_loss_mean, epoch)\n",
    "        writer.add_scalar(\"Acc/train\", train_acc_mean, epoch)\n",
    "        writer.add_scalar(\"Loss/valid\", valid_loss_mean, epoch)\n",
    "        writer.add_scalar(\"Acc/valid\", valid_acc_mean, epoch)\n",
    "\n",
    "#         torch.save(neuralModel.state_dict(), f\"output/date{nowstr}_batch{b}_epoch{epoch}.model\")\n",
    "#         torch.save(optimizer.state_dict(), f\"output/date{nowstr}_batch{b}_epoch{epoch}.param\")\n",
    "\n",
    "writer.close()"
   ]
  },
  {
   "attachments": {
    "image.png": {
     "image/png": "[encoded data removed]"
    }
   },
   "cell_type": "markdown",
   "metadata": {},
   "source": [
    "![image.png](attachment:image.png)"
   ]
  },
  {
   "cell_type": "code",
   "execution_count": 149,
   "metadata": {
    "scrolled": false
   },
   "outputs": [
    {
     "name": "stdout",
     "output_type": "stream",
     "text": [
      "train\n",
      "accuracy\t: 1.0\n",
      "f1_score\t: 1.0\n",
      "recall_score\t: 1.0\n",
      "precision_score\t: 1.0\n",
      "\n",
      "valid\n",
      "accuracy\t: 0.9633649932157394\n",
      "f1_score\t: 0.9602277972373384\n",
      "recall_score\t: 0.9593833675726402\n",
      "precision_score\t: 0.9615807500067459\n",
      "\n",
      "test\n",
      "accuracy\t: 0.9701492537313433\n",
      "f1_score\t: 0.9667242440482728\n",
      "recall_score\t: 0.9653098350664199\n",
      "precision_score\t: 0.9685535107358475\n",
      "\n"
     ]
    }
   ],
   "source": [
    "model.eval()\n",
    "pred_y = model(train_X)\n",
    "pred_y_label = activation(pred_y).argmax(axis=1)\n",
    "print(\"train\")\n",
    "show_result(train_y, pred_y_label)\n",
    "\n",
    "pred_y = model(valid_X)\n",
    "pred_y_label = activation(pred_y).argmax(axis=1)\n",
    "print(\"valid\")\n",
    "show_result(valid_y, pred_y_label)\n",
    "\n",
    "pred_y = model(test_X)\n",
    "pred_y_label = activation(pred_y).argmax(axis=1)\n",
    "print(\"test\")\n",
    "show_result(test_y, pred_y_label)\n"
   ]
  },
  {
   "cell_type": "markdown",
   "metadata": {},
   "source": [
    "それなりに高いスコアがでた"
   ]
  },
  {
   "cell_type": "markdown",
   "metadata": {},
   "source": [
    "   # 方針2: embeddeingにおける事前学習(ダメだった)"
   ]
  },
  {
   "cell_type": "markdown",
   "metadata": {},
   "source": [
    "embeddeingを使って重みを事前学習する方針を考えた\n",
    "\n",
    "結果を残していないがacc0.7程度だったので辞めたが，記録として残しておく\n",
    "\n",
    "うまく行かなかった理由は，分類が語彙だけではなく記号の使い方などの表現も関係しているからか，単にチューニングができていないかのいずれかだと考えられる"
   ]
  },
  {
   "cell_type": "code",
   "execution_count": 1,
   "metadata": {},
   "outputs": [],
   "source": [
    "#用いたライブラリ．　一部使用していないものもある\n",
    "\n",
    "from collections import defaultdict\n",
    "import numpy as np\n",
    "import re\n",
    "\n",
    "import neologdn\n",
    "\n",
    "from sklearn.feature_extraction.text import TfidfVectorizer\n",
    "from sklearn import preprocessing\n",
    "from torch.utils.tensorboard import SummaryWriter\n",
    "from torch.utils.data import TensorDataset, DataLoader\n",
    "import datetime\n",
    "import torch.optim as optim\n",
    "from sklearn.metrics import recall_score, precision_score, f1_score, confusion_matrix\n",
    "\n",
    "import torch\n",
    "import torch.nn as nn"
   ]
  },
  {
   "cell_type": "code",
   "execution_count": 190,
   "metadata": {},
   "outputs": [],
   "source": [
    "import torch.nn.functional as F\n",
    "from sklearn.feature_extraction import DictVectorizer"
   ]
  },
  {
   "cell_type": "code",
   "execution_count": 33,
   "metadata": {},
   "outputs": [],
   "source": [
    "from torchtext import data\n",
    "from torchtext import datasets\n",
    "from torch.utils.data import TensorDataset, DataLoader\n",
    "import pandas as pd"
   ]
  },
  {
   "cell_type": "markdown",
   "metadata": {},
   "source": [
    "「日本語 Wikipedia エンティティベクトル」を用いて埋め込み層を事前学習\n",
    "\n",
    "http://www.cl.ecei.tohoku.ac.jp/~m-suzuki/jawiki_vector/"
   ]
  },
  {
   "cell_type": "code",
   "execution_count": 39,
   "metadata": {},
   "outputs": [],
   "source": [
    "# 前回の流用\n",
    "urlre=re.compile(r'(http|https)://([-\\w]+\\.)+[-\\w]+(/[-\\w./?%&=]*)?')\n",
    "symbolre = re.compile('[，．、。]')\n",
    "# numre = re.compile(r'\\d+')\n",
    "\n",
    "def normalize_text(s):\n",
    "    token = []\n",
    "    s=s.replace('\\u3000','')\n",
    "    neologdn.normalize(s)\n",
    "    s=urlre.sub(\"\", s)\n",
    "    s=symbolre.sub(\" \", s)\n",
    "#     s=numre.sub('0', s)\n",
    "    node = tagger.parseToNode(s)\n",
    "    while node:\n",
    "        features = node.feature.split(',')\n",
    "        pos = features[0]\n",
    "        pos_sub1 = features[1]\n",
    "        base = features[6]\n",
    "        if node.surface == '':\n",
    "            node = node.next\n",
    "            continue\n",
    "        if pos in ['名詞', '動詞', '形容詞', '連体詞', '副詞', '感動詞'] and pos_sub1 not in  ['非自立', '接尾']:\n",
    "            if base == \"*\":\n",
    "                token.append(node.surface)\n",
    "            else:\n",
    "                token.append(base)\n",
    "\n",
    "        node = node.next\n",
    "\n",
    "    return \" \".join(token)"
   ]
  },
  {
   "cell_type": "code",
   "execution_count": 49,
   "metadata": {},
   "outputs": [],
   "source": [
    "import MeCab\n",
    "tagger = MeCab.Tagger('-Owakati')\n",
    "def add_tokenization(D):\n",
    "    for d in D:\n",
    "        d['text.mytokenized'] = [mytokenize2(s) for s in d['text']]\n",
    "\n",
    "add_tokenization(Dtrain)\n",
    "add_tokenization(Ddev)\n",
    "add_tokenization(Dtest)"
   ]
  },
  {
   "cell_type": "code",
   "execution_count": null,
   "metadata": {},
   "outputs": [],
   "source": [
    "def tokenizer(text):\n",
    "    text = normalize_text(text)\n",
    "    return text.split()"
   ]
  },
  {
   "cell_type": "code",
   "execution_count": 43,
   "metadata": {},
   "outputs": [],
   "source": [
    "#事前学習用の日本語word2vecモデル\n",
    "from gensim.models import KeyedVectors\n",
    "w2vModel = KeyedVectors.load_word2vec_format('entity_vector/entity_vector.model.bin', binary=True)"
   ]
  },
  {
   "cell_type": "code",
   "execution_count": 103,
   "metadata": {},
   "outputs": [],
   "source": [
    "train_text = [\" \".join([d['title']]) for d in Dtrain]\n",
    "dev_text = [\" \".join([d['title']]) for d in Ddev]\n",
    "test_text = [\" \".join([d['title']]) for d in Dtest]\n",
    "\n",
    "train_text = [t.replace('\\t', ' ')for t in train_text]\n",
    "dev_text = [t.replace('\\t', ' ')for t in dev_text]\n",
    "test_text = [t.replace('\\t', ' ')for t in test_text]"
   ]
  },
  {
   "cell_type": "code",
   "execution_count": 104,
   "metadata": {},
   "outputs": [],
   "source": [
    "VY = preprocessing.LabelEncoder()\n",
    "Ytrain = VY.fit_transform([d['source'] for d in Dtrain])\n",
    "Ydev = VY.transform([d['source'] for d in Ddev])\n",
    "Ytest = VY.transform([d['source'] for d in Dtest])\n",
    "\n",
    "train_y=torch.tensor(Ytrain,dtype=torch.int64)\n",
    "valid_y=torch.tensor(Ydev,dtype=torch.int64)\n",
    "test_y=torch.tensor(Ytest,dtype=torch.int64)"
   ]
  },
  {
   "cell_type": "code",
   "execution_count": 160,
   "metadata": {},
   "outputs": [],
   "source": [
    "pd.DataFrame([train_text, Ytrain]).T.to_csv('train.csv',sep = '\\t', header=None, index=None)\n",
    "pd.DataFrame([dev_text, Ydev]).T.to_csv('dev.csv',sep = '\\t', header=None, index=None)\n",
    "pd.DataFrame([test_text, Ytest]).T.to_csv('test.csv',sep = '\\t', header=None, index=None)"
   ]
  },
  {
   "cell_type": "code",
   "execution_count": 209,
   "metadata": {},
   "outputs": [
    {
     "name": "stderr",
     "output_type": "stream",
     "text": [
      "/home/yumizsui/anaconda3/lib/python3.8/site-packages/torchtext/data/field.py:150: UserWarning: Field class will be retired soon and moved to torchtext.legacy. Please see the most recent release notes for further information.\n",
      "  warnings.warn('{} class will be retired soon and moved to torchtext.legacy. Please see the most recent release notes for further information.'.format(self.__class__.__name__), UserWarning)\n",
      "/home/yumizsui/anaconda3/lib/python3.8/site-packages/torchtext/data/example.py:68: UserWarning: Example class will be retired soon and moved to torchtext.legacy. Please see the most recent release notes for further information.\n",
      "  warnings.warn('Example class will be retired soon and moved to torchtext.legacy. Please see the most recent release notes for further information.', UserWarning)\n",
      "/home/yumizsui/anaconda3/lib/python3.8/site-packages/torchtext/data/example.py:78: UserWarning: Example class will be retired soon and moved to torchtext.legacy. Please see the most recent release notes for further information.\n",
      "  warnings.warn('Example class will be retired soon and moved to torchtext.legacy. Please see the most recent release notes for further information.', UserWarning)\n"
     ]
    }
   ],
   "source": [
    "\n",
    "TEXT = data.Field(sequential=True, tokenize=tokenizer, batch_first=True)\n",
    "LABEL = data.Field(sequential=False, batch_first=True, use_vocab=False)\n",
    "train, dev, test = data.TabularDataset.splits(\n",
    "        path='.', train='train.csv',\n",
    "        validation='dev.csv', test='test.csv', format='tsv',\n",
    "        fields=[('Text', TEXT),('Label', LABEL)])\n",
    "\n",
    "TEXT.build_vocab(train, min_freq=2)\n",
    "LABEL.build_vocab(train)"
   ]
  },
  {
   "cell_type": "code",
   "execution_count": 210,
   "metadata": {},
   "outputs": [],
   "source": [
    "BATCH_SIZE=128\n",
    "train_iter, dev_iter, test_iter = data.BucketIterator.splits(\n",
    "    (train, dev, test), batch_sizes=(BATCH_SIZE, BATCH_SIZE, 64), repeat=False, sort=False)"
   ]
  },
  {
   "cell_type": "code",
   "execution_count": 211,
   "metadata": {},
   "outputs": [],
   "source": [
    "VOCAB_SIZE=len(TEXT.vocab.itos)\n",
    "# WikiEntVecで固定\n",
    "EMB_SIZE=200\n",
    "weights = np.zeros((VOCAB_SIZE, EMB_SIZE))\n",
    "for word in TEXT.vocab.itos:\n",
    "    idx = TEXT.vocab.stoi[word]\n",
    "    if word in w2vModel.vocab:\n",
    "        weights[idx] = w2vModel[word]\n",
    "weights=torch.FloatTensor(weights)"
   ]
  },
  {
   "cell_type": "code",
   "execution_count": 212,
   "metadata": {},
   "outputs": [],
   "source": [
    "HIDDEN_SIZE = 64\n",
    "OUTPUT_SIZE=len(train_y.unique())\n",
    "dropout=0.5\n",
    "class CNNs(nn.Module):\n",
    "    def __init__(self):\n",
    "        super().__init__()\n",
    "        self.emb = nn.Embedding.from_pretrained(weights)\n",
    "        self.conv = nn.Conv1d(EMB_SIZE, HIDDEN_SIZE, 3,stride=1, padding=1)\n",
    "        self.linear = nn.Linear(HIDDEN_SIZE,OUTPUT_SIZE)\n",
    "        self.dropout = nn.Dropout(dropout)\n",
    "        \n",
    "        # initialize\n",
    "        nn.init.kaiming_normal_(self.conv.weight)\n",
    "        nn.init.constant_(self.conv.bias, 0)\n",
    "        nn.init.kaiming_normal_(self.linear.weight)\n",
    "        nn.init.constant_(self.linear.bias, 0)\n",
    "        \n",
    "    def forward(self,x):\n",
    "        h=self.emb(x)\n",
    "        h=self.conv(h.transpose(1,2))\n",
    "        h=F.relu(h)\n",
    "        h = self.dropout(h)\n",
    "        h=F.max_pool1d(h,h.size(2)).squeeze(2)\n",
    "        y=self.linear(h)\n",
    "        return y"
   ]
  },
  {
   "cell_type": "code",
   "execution_count": 216,
   "metadata": {},
   "outputs": [],
   "source": [
    "def is_equal_pred(pred_y,true_y):\n",
    "    return Softmax(pred_y).argmax(axis=1) == true_y\n",
    "\n",
    "def train_step(train_X, train_y,model):\n",
    "    model.train()\n",
    "    pred_y = model(train_X)\n",
    "    \n",
    "    optimizer.zero_grad()\n",
    "    loss = criterion(pred_y, train_y)\n",
    "    loss.backward()\n",
    "    optimizer.step()\n",
    "    \n",
    "    with torch.no_grad():\n",
    "        n=len(train_y)\n",
    "        acc = is_equal_pred(pred_y,train_y).sum()\n",
    "    \n",
    "    return (loss.item(), acc.item()/n)\n",
    "\n",
    "def dev_step(dev_X, dev_y,model):\n",
    "    with torch.no_grad():\n",
    "        model.eval()\n",
    "        pred_y = model(dev_X)\n",
    "\n",
    "        loss = criterion(pred_y, dev_y)\n",
    "    \n",
    "        n=len(dev_y)\n",
    "        acc = is_equal_pred(pred_y,dev_y).sum()\n",
    "\n",
    "    return (loss.item(), acc.item()/n)"
   ]
  },
  {
   "cell_type": "code",
   "execution_count": 213,
   "metadata": {},
   "outputs": [],
   "source": [
    "\n",
    "device = torch.device(\"cpu\")\n",
    "\n",
    "model=CNNs()\n",
    "model=model.to(device)\n",
    "\n",
    "REGULARIZATION = 0.0001\n",
    "optimizer = optim.Adadelta(\n",
    "    model.parameters(),weight_decay=REGULARIZATION)\n",
    "criterion=nn.CrossEntropyLoss()"
   ]
  },
  {
   "cell_type": "code",
   "execution_count": 99,
   "metadata": {},
   "outputs": [],
   "source": [
    "from tqdm import tqdm"
   ]
  },
  {
   "cell_type": "code",
   "execution_count": 217,
   "metadata": {},
   "outputs": [
    {
     "name": "stderr",
     "output_type": "stream",
     "text": [
      "100%|██████████| 100/100 [00:45<00:00,  2.20it/s]\n"
     ]
    }
   ],
   "source": [
    "for epoch in tqdm(range(EPOCHS)):\n",
    "    train_loss_mean=[]\n",
    "    train_acc_mean=[]\n",
    "    for d in train_iter:\n",
    "        train_loss, train_acc = train_step(d.Text, d.Label,model)\n",
    "        train_loss_mean.append(train_loss)\n",
    "        train_acc_mean.append(train_acc)\n",
    "    \n",
    "    with torch.no_grad():\n",
    "        dev_loss_mean=[]\n",
    "        dev_acc_mean=[]\n",
    "        for d in dev_iter:\n",
    "            dev_loss, dev_acc=dev_step(d.Text, d.Label,model)\n",
    "            dev_loss_mean.append(dev_loss)\n",
    "            dev_acc_mean.append(dev_acc)\n",
    "\n",
    "        train_loss_mean=np.mean(train_loss_mean)\n",
    "        train_acc_mean=np.mean(train_acc_mean)\n",
    "        dev_loss_mean=np.mean(dev_loss_mean)\n",
    "        dev_acc_mean=np.mean(dev_acc_mean)\n",
    "    \n",
    "        writer.add_scalar(\"Loss/train\", train_loss_mean, epoch)\n",
    "        writer.add_scalar(\"Acc/train\", train_acc_mean, epoch)\n",
    "        writer.add_scalar(\"Loss/dev\", dev_loss_mean, epoch)\n",
    "        writer.add_scalar(\"Acc/dev\", dev_acc_mean, epoch)\n",
    "\n",
    "writer.close()\n"
   ]
  },
  {
   "cell_type": "markdown",
   "metadata": {},
   "source": [
    "# 方針3 パラメータチューニング"
   ]
  },
  {
   "cell_type": "markdown",
   "metadata": {},
   "source": [
    "方針1である程度の値が出たので，この方向でパラメータチューニングをしてみる．\n",
    "以下では最も性能が出た方法のみ解説する．\n",
    "\n",
    "まず，今回はデータ数が十分にあるので，ニューラルネットに任せて学習させる方向で考え，方針1で用いていたtokenizerを辞め，簡素なものに変更した\n",
    "\n",
    "optunaによってパラメータチューニングを行い，以下のパラメータを探索することにした\n",
    "\n",
    "1. 中間層の次元1\n",
    "2. 中間層の次元2\n",
    "3. dropoutの割合\n",
    "4. 学習率\n",
    "5. weight decay\n",
    "\n",
    "なお，パラメータチューニングは膨大な計算リソースが必要であることを考え，Google Colaboratory ProでTesla V100用いた\n",
    "（レポートをまとめたのは手元のPCである）"
   ]
  },
  {
   "cell_type": "code",
   "execution_count": null,
   "metadata": {},
   "outputs": [],
   "source": [
    "def tokenize(s):\n",
    "    s=' '.join(s)\n",
    "    return tagger.parse(s).split()"
   ]
  },
  {
   "cell_type": "code",
   "execution_count": 20,
   "metadata": {},
   "outputs": [],
   "source": [
    "def is_equal_pred(pred_y, true_y):\n",
    "    return Softmax(pred_y).argmax(axis=1) == true_y"
   ]
  },
  {
   "cell_type": "code",
   "execution_count": 78,
   "metadata": {},
   "outputs": [],
   "source": [
    "def show_result(true_y, pred_y):\n",
    "    print(f'accuracy\\t: {(pred_y==true_y).sum().item()/len(pred_y)}')\n",
    "    print(f'f1_score\\t: {f1_score(true_y, pred_y_label,  average=\"macro\")}')\n",
    "    print(f'recall_score\\t: {recall_score(true_y, pred_y_label,  average=\"macro\")}')\n",
    "    print(f'precision_score\\t: {precision_score(true_y, pred_y_label,  average=\"macro\")}')\n",
    "    print(\"\")"
   ]
  },
  {
   "cell_type": "code",
   "execution_count": 21,
   "metadata": {},
   "outputs": [],
   "source": [
    "# vector化 TFIDF:単語の重要度によるベクトル化． 単語の出現頻度と逆文書頻度（単語の希少さ）の積\n",
    "# min_df=3 : 出現数3未満の語彙は除外\n",
    "# max_df=0.7 : 70%の文書で出現する語彙は除外\n",
    "vectorizer = TfidfVectorizer(analyzer=mytokenize,min_df=3, max_df=0.7, norm='l2', sublinear_tf=True)\n",
    "vectorizer.fit([[d['title']]+d['text'] for d in Dtrain])\n",
    "\n",
    "# 用いるデータ\n",
    "# titleとtextを結合してベクトル化\n",
    "Xtrain_tfidf = vectorizer.transform([[d['title']]+ d['text'] for d in Dtrain])\n",
    "Xdev_tfidf =vectorizer.transform([[d['title']]+ d['text'] for d in Ddev])\n",
    "Xtest_tfidf = vectorizer.transform([[d['title']]+ d['text'] for d in Dtest])\n",
    "\n",
    "# 分類\n",
    "VY = preprocessing.LabelEncoder()\n",
    "Ytrain = VY.fit_transform([data['source'] for data in Dtrain])\n",
    "Ydev = VY.transform([data['source'] for data in Ddev])\n",
    "Ytest = VY.transform([data['source'] for data in Dtest])"
   ]
  },
  {
   "cell_type": "code",
   "execution_count": 22,
   "metadata": {},
   "outputs": [],
   "source": [
    "dtype = torch.float\n",
    "train_X=torch.tensor(Xtrain_tfidf.toarray(),dtype=dtype)\n",
    "train_y=torch.tensor(Ytrain,dtype=torch.int64)\n",
    "valid_X=torch.tensor(Xdev_tfidf.toarray(),dtype=dtype)\n",
    "valid_y=torch.tensor(Ydev,dtype=torch.int64)\n",
    "test_X=torch.tensor(Xtest_tfidf.toarray(),dtype=dtype)\n",
    "test_y=torch.tensor(Ytest,dtype=torch.int64)\n"
   ]
  },
  {
   "cell_type": "code",
   "execution_count": 38,
   "metadata": {},
   "outputs": [],
   "source": [
    "def learningNNs(model, optimizer):\n",
    "    max_f1=-1\n",
    "    best_model=model\n",
    "    for epoch in range(EPOCHS):\n",
    "        for x,y in loader_train:\n",
    "            train_step(train_X.to(device),train_y.to(device),model, optimizer)\n",
    "\n",
    "        with torch.no_grad():\n",
    "            valid_f1s=[]\n",
    "            for x,y in loader_valid:\n",
    "                valid_f1=valid_step(valid_X.to(device), valid_y.to(device),model, optimizer)\n",
    "                valid_f1s.append(valid_f1)\n",
    "\n",
    "            valid_f1_mean=np.mean(valid_f1s)\n",
    "            print(f'{epoch}', end=' ')\n",
    "            \n",
    "            if max_f1 < valid_f1_mean:\n",
    "                max_f1=valid_f1_mean\n",
    "                best_model=model\n",
    "    print(f'best is {max_f1}')\n",
    "    return max_f1"
   ]
  },
  {
   "cell_type": "code",
   "execution_count": 23,
   "metadata": {},
   "outputs": [],
   "source": [
    "import optuna"
   ]
  },
  {
   "cell_type": "code",
   "execution_count": 39,
   "metadata": {},
   "outputs": [],
   "source": [
    "import optuna\n",
    "\n",
    "EPOCHS=20\n",
    "INPUT_SIZE=train_X.shape[1]\n",
    "OUTPUT_SIZE=len(train_y.unique())\n",
    "\n",
    "device = torch.device(\"cuda:0\" if torch.cuda.is_available() else \"cpu\")\n",
    "\n",
    "Softmax=nn.Softmax(dim=1)\n",
    "criterion=nn.CrossEntropyLoss()\n",
    "\n",
    "ds_train = TensorDataset(train_X.to(device), train_y.to(device))\n",
    "ds_valid = TensorDataset(valid_X.to(device), valid_y.to(device))\n",
    "\n",
    "batchsize=128\n",
    "loader_train = DataLoader(ds_train, batch_size=batchsize, shuffle=False)\n",
    "loader_valid = DataLoader(ds_valid, batch_size=batchsize, shuffle=False)\n",
    "\n",
    "ops={'Adadelta': torch.optim.Adadelta, 'Adam': torch.optim.Adam}\n",
    "def objective(trial):\n",
    "    MIDDLE1_SIZE = int(trial.suggest_loguniform('MIDDLE1_SIZE', 16, 1024))\n",
    "    MIDDLE2_SIZE = int(trial.suggest_loguniform('MIDDLE2_SIZE', 16, 1024))\n",
    "    DROP_RATE = trial.suggest_uniform('DROP_RATE', 0.0, 1.0)\n",
    "    LEARNING_RATE = trial.suggest_loguniform('LEARNING_RATE', 1e-4, 1e-2)\n",
    "    WEIGHT_DECAY = trial.suggest_uniform('WEIGHT_DECAY', 0.0, 1.0)\n",
    "    OPTIMIZER = trial.suggest_categorical('OPTIMIZER', ['Adadelta', 'Adam'])\n",
    "\n",
    "    model = torch.nn.Sequential(\n",
    "        nn.Linear(INPUT_SIZE, MIDDLE1_SIZE),\n",
    "        nn.BatchNorm1d(MIDDLE1_SIZE),\n",
    "            torch.nn.ReLU(),\n",
    "        torch.nn.Dropout(DROP_RATE),\n",
    "        nn.Linear(MIDDLE1_SIZE, MIDDLE2_SIZE),\n",
    "        nn.BatchNorm1d(MIDDLE2_SIZE),\n",
    "        torch.nn.ReLU(),\n",
    "        torch.nn.Dropout(DROP_RATE),\n",
    "        torch.nn.Linear(MIDDLE2_SIZE, OUTPUT_SIZE),\n",
    "    )\n",
    "    model = model.to(device)\n",
    "\n",
    "\n",
    "    optimizer = ops[OPTIMIZER](model.parameters(), lr=LEARNING_RATE, weight_decay=WEIGHT_DECAY)\n",
    "\n",
    "\n",
    "    max_f1 = learningNNs(model, optimizer)\n",
    "\n",
    "    return max_f1 "
   ]
  },
  {
   "cell_type": "code",
   "execution_count": 54,
   "metadata": {},
   "outputs": [],
   "source": [
    "def train_step(train_X, train_y,model, optimizer):\n",
    "    model.train()\n",
    "    pred_y = model(train_X)\n",
    "    \n",
    "    optimizer.zero_grad()\n",
    "    loss = criterion(pred_y, train_y)\n",
    "    loss.backward()\n",
    "    optimizer.step()\n",
    "    \n",
    "    n=len(train_y)\n",
    "    \n",
    "    acc = is_equal_pred(pred_y, train_y).sum()\n",
    "    \n",
    "    return (loss.item(), acc.item()/n)\n",
    "\n",
    "def valid_step(valid_X, valid_y,model, optimizer):\n",
    "    model.eval()\n",
    "    pred_y = model(valid_X)\n",
    "    \n",
    "    loss = criterion(pred_y, valid_y)\n",
    "    \n",
    "    n=len(valid_y)\n",
    "    acc = is_equal_pred(pred_y, valid_y).sum()\n",
    "\n",
    "    return (loss.item(), acc.item()/n)"
   ]
  },
  {
   "cell_type": "code",
   "execution_count": null,
   "metadata": {},
   "outputs": [],
   "source": [
    "TRIAL_SIZE = 10\n",
    "study = optuna.create_study()\n",
    "study.optimize(objective, n_trials=TRIAL_SIZE)"
   ]
  },
  {
   "cell_type": "code",
   "execution_count": 72,
   "metadata": {},
   "outputs": [],
   "source": [
    "\n",
    "nowstr=datetime.datetime.now().strftime('%Y%m%d_%H%M')\n",
    "writer = SummaryWriter(log_dir=f\"./logs_{nowstr}\")"
   ]
  },
  {
   "cell_type": "markdown",
   "metadata": {},
   "source": [
    "## 試行回数を増やして最良のモデルを選択\n",
    "\n",
    "optunaで探索した結果はoptuna_paramsの通りである．"
   ]
  },
  {
   "cell_type": "code",
   "execution_count": 1,
   "metadata": {},
   "outputs": [],
   "source": [
    "optuna_params= {'MIDDLE1_SIZE': 358.69541493607227, 'MIDDLE2_SIZE': 90.47641111152377, 'DROP_RATE': 0.24154744447309268, 'LEARNING_RATE': 0.00010036553741117424, 'WEIGHT_DECAY': 0.0038296188353909577}"
   ]
  },
  {
   "cell_type": "code",
   "execution_count": 2,
   "metadata": {},
   "outputs": [],
   "source": [
    "MIDDLE1_SIZE=int(optuna_params['MIDDLE1_SIZE'])\n",
    "MIDDLE2_SIZE=int(optuna_params['MIDDLE2_SIZE'])\n",
    "DROP_RATE=optuna_params['DROP_RATE']\n",
    "LEARNING_RATE=optuna_params['LEARNING_RATE']\n",
    "WEIGHT_DECAY=optuna_params['WEIGHT_DECAY']"
   ]
  },
  {
   "cell_type": "code",
   "execution_count": 5,
   "metadata": {},
   "outputs": [
    {
     "name": "stdout",
     "output_type": "stream",
     "text": [
      "MIDDLE1_SIZE:358\n",
      "MIDDLE2_SIZE:90\n",
      "DROP_RATE:0.24154744447309268\n",
      "LEARNING_RATE:0.00010036553741117424\n",
      "WEIGHT_DECAY:0.0038296188353909577\n"
     ]
    }
   ],
   "source": [
    "print(f'MIDDLE1_SIZE:{MIDDLE1_SIZE}')\n",
    "print(f'MIDDLE2_SIZE:{MIDDLE2_SIZE}')\n",
    "print(f'DROP_RATE:{DROP_RATE}')\n",
    "print(f'LEARNING_RATE:{LEARNING_RATE}')\n",
    "print(f'WEIGHT_DECAY:{WEIGHT_DECAY}')"
   ]
  },
  {
   "cell_type": "code",
   "execution_count": 75,
   "metadata": {},
   "outputs": [],
   "source": [
    "model = torch.nn.Sequential(\n",
    "    nn.Linear(INPUT_SIZE, MIDDLE1_SIZE),\n",
    "    nn.BatchNorm1d(MIDDLE1_SIZE),\n",
    "        torch.nn.ReLU(),\n",
    "    torch.nn.Dropout(DROP_RATE),\n",
    "    nn.Linear(MIDDLE1_SIZE, MIDDLE2_SIZE),\n",
    "    nn.BatchNorm1d(MIDDLE2_SIZE),\n",
    "    torch.nn.ReLU(),\n",
    "    torch.nn.Dropout(DROP_RATE),\n",
    "    torch.nn.Linear(MIDDLE2_SIZE, OUTPUT_SIZE),\n",
    ")\n",
    "model.to(device)\n",
    "optimizer = torch.optim.Adam(model.parameters(), lr=LEARNING_RATE, weight_decay=WEIGHT_DECAY)"
   ]
  },
  {
   "cell_type": "code",
   "execution_count": 63,
   "metadata": {},
   "outputs": [],
   "source": [
    "EPOCHS=100"
   ]
  },
  {
   "cell_type": "code",
   "execution_count": null,
   "metadata": {},
   "outputs": [],
   "source": [
    "for epoch in range(EPOCHS):\n",
    "    train_loss_mean=[]\n",
    "    train_acc_mean=[]\n",
    "    for x,y in loader_train:\n",
    "        train_loss, train_acc=train_step(train_X,train_y,model, optimizer)\n",
    "        train_loss_mean.append(train_loss)\n",
    "        train_acc_mean.append(train_acc)\n",
    "\n",
    "    with torch.no_grad():\n",
    "        valid_loss_mean=[]\n",
    "        valid_acc_mean=[]\n",
    "        for x,y in loader_valid:\n",
    "            valid_loss, valid_acc=valid_step(valid_X, valid_y,model, optimizer)\n",
    "            valid_loss_mean.append(valid_loss)\n",
    "            valid_acc_mean.append(valid_acc)\n",
    "\n",
    "        train_loss_mean=np.mean(train_loss_mean)\n",
    "        train_acc_mean=np.mean(train_acc_mean)\n",
    "        valid_loss_mean=np.mean(valid_loss_mean)\n",
    "        valid_acc_mean=np.mean(valid_acc_mean)\n",
    "\n",
    "        writer.add_scalar(\"Loss/train\", train_loss_mean, epoch)\n",
    "        writer.add_scalar(\"Acc/train\", train_acc_mean, epoch)\n",
    "        writer.add_scalar(\"Loss/valid\", valid_loss_mean, epoch)\n",
    "        writer.add_scalar(\"Acc/valid\", valid_acc_mean, epoch)\n",
    "\n",
    "        torch.save(model.state_dict(), f\"output/date{nowstr}_epoch{epoch}.model\")\n",
    "        torch.save(optimizer.state_dict(), f\"output/date{nowstr}_epoch{epoch}.param\")\n"
   ]
  },
  {
   "cell_type": "code",
   "execution_count": null,
   "metadata": {},
   "outputs": [],
   "source": [
    "model.eval()\n",
    "pred_y = model(train_X)\n",
    "pred_y_label = Softmax(pred_y).argmax(axis=1)\n",
    "print(\"train\")\n",
    "show_result(train_y, pred_y_label)\n",
    "\n",
    "pred_y = model(valid_X)\n",
    "pred_y_label = Softmax(pred_y).argmax(axis=1)\n",
    "print(\"valid\")\n",
    "show_result(valid_y, pred_y_label)\n",
    "\n",
    "pred_y = model(test_X)\n",
    "pred_y_label = Softmax(pred_y).argmax(axis=1)\n",
    "print(\"test\")\n",
    "show_result(test_y, pred_y_label)"
   ]
  },
  {
   "attachments": {
    "image.png": {
     "image/png": "[encoded data removed]"
    }
   },
   "cell_type": "markdown",
   "metadata": {},
   "source": [
    "Google Colaboratoryの結果をスクショしたものです\n",
    "\n",
    "![image.png](attachment:image.png)"
   ]
  },
  {
   "cell_type": "code",
   "execution_count": null,
   "metadata": {},
   "outputs": [],
   "source": [
    "さらに手動でパラメータを調節したところ，少しだけ検証スコアが高くなる場合も確認できた"
   ]
  },
  {
   "attachments": {
    "image.png": {
     "image/png": "[encoded data removed]"
    }
   },
   "cell_type": "markdown",
   "metadata": {},
   "source": [
    "![image.png](attachment:image.png)"
   ]
  }
 ],
 "metadata": {
  "colab": {
   "collapsed_sections": [],
   "name": "report2.ipynb",
   "provenance": []
  },
  "kernelspec": {
   "display_name": "Python 3",
   "language": "python",
   "name": "python3"
  },
  "language_info": {
   "codemirror_mode": {
    "name": "ipython",
    "version": 3
   },
   "file_extension": ".py",
   "mimetype": "text/x-python",
   "name": "python",
   "nbconvert_exporter": "python",
   "pygments_lexer": "ipython3",
   "version": "3.8.5"
  }
 },
 "nbformat": 4,
 "nbformat_minor": 4
}
