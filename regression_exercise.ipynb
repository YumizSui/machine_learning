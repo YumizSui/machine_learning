{
 "cells": [
  {
   "cell_type": "code",
   "execution_count": 1,
   "metadata": {},
   "outputs": [],
   "source": [
    "import numpy as np\n",
    "import matplotlib.pyplot as plt\n",
    "from sklearn.base import BaseEstimator, RegressorMixin\n",
    "from sklearn.linear_model import LinearRegression"
   ]
  },
  {
   "cell_type": "markdown",
   "metadata": {
    "id": "L1teYqNYHYGz"
   },
   "source": [
    "# 確認問題"
   ]
  },
  {
   "cell_type": "markdown",
   "metadata": {
    "id": "zNwg0BOzHYG4"
   },
   "source": [
    "## 1. 単回帰"
   ]
  },
  {
   "cell_type": "markdown",
   "metadata": {
    "id": "oBMfMUFnHYG4"
   },
   "source": [
    "以下のデータ$\\mathcal{D}_s$に対して単回帰分析を行うプログラムを実装せよ．"
   ]
  },
  {
   "cell_type": "code",
   "execution_count": 2,
   "metadata": {
    "id": "QQU3cx9DHYG5"
   },
   "outputs": [],
   "source": [
    "D = np.array([[1, 3], [3, 6], [6, 5], [8, 7]])\n",
    "X = D[:,0]\n",
    "Y = D[:,1]"
   ]
  },
  {
   "cell_type": "markdown",
   "metadata": {
    "id": "ryR0X1I0HYG5"
   },
   "source": [
    "なお，NumPy, SciPy, scikit-learnには回帰分析を行う便利な関数として以下のようなものがあるが，ここでは使わずに講義中で説明した式をプログラムとして表現すること．\n",
    "\n",
    "+ [np.polyfit](https://numpy.org/doc/stable/reference/generated/numpy.polyfit.html), [np.polynomial.polynomial.Polynomial.fit](https://numpy.org/doc/stable/reference/generated/numpy.polynomial.polynomial.Polynomial.fit.html#numpy.polynomial.polynomial.Polynomial.fit)\n",
    "+ [scipy.linalg.lstsq](https://docs.scipy.org/doc/scipy/reference/generated/scipy.linalg.lstsq.html), [scipy.optimize.curve_fit](https://docs.scipy.org/doc/scipy/reference/generated/scipy.optimize.curve_fit.html), [scipy.stats.linregress](https://docs.scipy.org/doc/scipy/reference/generated/scipy.stats.linregress.html)\n",
    "+ [sklearn.linear_model.LinearRegression](https://scikit-learn.org/stable/modules/generated/sklearn.linear_model.LinearRegression.html)"
   ]
  },
  {
   "cell_type": "markdown",
   "metadata": {
    "id": "GPZTw2oVHYG5"
   },
   "source": [
    "### 1. (1) 単回帰の実装\n",
    "\n",
    "$\\mathcal{D}_s$に対して単回帰を行い，回帰直線の係数$a$と$b$の値を求めよ"
   ]
  },
  {
   "cell_type": "code",
   "execution_count": 3,
   "metadata": {},
   "outputs": [],
   "source": [
    "# sklearn準拠モデルによる自作単回帰\n",
    "class myLinerRegression(BaseEstimator, RegressorMixin):\n",
    "    def fit(self, X, Y):\n",
    "        X_ = X.mean()\n",
    "        Y_ = Y.mean()\n",
    "        CovXY = ((X-X_)*(Y-Y_)).mean()\n",
    "        VarX = ((X-X_)**2).mean() \n",
    "        self.coef_ = CovXY/VarX\n",
    "        self.intercept_ = Y_-self.coef_*X_\n",
    "        return self\n",
    "    def predict(self, X):\n",
    "        return X*self.coef_+self.intercept_"
   ]
  },
  {
   "cell_type": "code",
   "execution_count": 4,
   "metadata": {},
   "outputs": [
    {
     "name": "stdout",
     "output_type": "stream",
     "text": [
      "a: 0.431\n",
      "b: 3.310\n"
     ]
    }
   ],
   "source": [
    "myreg = myLinerRegression()\n",
    "myreg.fit(X,Y)\n",
    "pred_Y = myreg.predict(X)\n",
    "print(f'a: {myreg.coef_:1.3f}')\n",
    "print(f'b: {myreg.intercept_:1.3f}')"
   ]
  },
  {
   "cell_type": "markdown",
   "metadata": {
    "id": "ZDfZy9DJHYG6"
   },
   "source": [
    "### 1. (2) 回帰直線の描画\n",
    "\n",
    "単回帰で求めた回帰直線をデータ点とともにグラフに描け"
   ]
  },
  {
   "cell_type": "code",
   "execution_count": 5,
   "metadata": {},
   "outputs": [
    {
     "data": {
      "image/png": "[encoded data removed]",
      "text/plain": [
       "<Figure size 432x288 with 1 Axes>"
      ]
     },
     "metadata": {
      "needs_background": "light"
     },
     "output_type": "display_data"
    }
   ],
   "source": [
    "plt.plot(X, pred_Y, label='pred_Y')\n",
    "plt.scatter(X, Y, label='Y', c='C1')\n",
    "plt.xlabel('X')\n",
    "plt.ylabel('Y')\n",
    "plt.legend()\n",
    "plt.show()"
   ]
  },
  {
   "cell_type": "markdown",
   "metadata": {
    "id": "3w2EhXPAHYG6"
   },
   "source": [
    "### 1. (3) 残差の計算\n",
    "\n",
    "\n",
    "各事例$(x_i, y_i)$に対して残差$\\hat{\\epsilon}_i$を求めよ"
   ]
  },
  {
   "cell_type": "code",
   "execution_count": 6,
   "metadata": {},
   "outputs": [
    {
     "name": "stdout",
     "output_type": "stream",
     "text": [
      "ε0 = -0.741\n",
      "ε1 = 1.397\n",
      "ε2 = -0.897\n",
      "ε3 = 0.241\n"
     ]
    }
   ],
   "source": [
    "err = Y-pred_Y\n",
    "for i, err in enumerate(err):\n",
    "    print(f'ε{i} = {err:1.3f}')"
   ]
  },
  {
   "cell_type": "markdown",
   "metadata": {
    "id": "U8M6cA80HYG7"
   },
   "source": [
    "### 1. (4) 説明変数と残差の共分散\n",
    "\n",
    "説明変数と残差の共分散を求めよ"
   ]
  },
  {
   "cell_type": "code",
   "execution_count": 7,
   "metadata": {
    "id": "1HEbMsPCHYG7"
   },
   "outputs": [
    {
     "data": {
      "text/plain": [
       "0.0"
      ]
     },
     "execution_count": 7,
     "metadata": {},
     "output_type": "execute_result"
    }
   ],
   "source": [
    "Cov=lambda x,y: ((x-x.mean())*(y-y.mean())).mean()\n",
    "Cov(X, err)"
   ]
  },
  {
   "cell_type": "markdown",
   "metadata": {
    "id": "WbbQu0A4HYG7"
   },
   "source": [
    "### 1. (5) 目的変数の推定値と残差の共分散\n",
    "\n",
    "目的変数の推定値と残差の共分散を求めよ"
   ]
  },
  {
   "cell_type": "code",
   "execution_count": 8,
   "metadata": {
    "id": "cPf5tgKLHYG7"
   },
   "outputs": [
    {
     "data": {
      "text/plain": [
       "0.0"
      ]
     },
     "execution_count": 8,
     "metadata": {},
     "output_type": "execute_result"
    }
   ],
   "source": [
    "Cov(pred_Y, err)"
   ]
  },
  {
   "cell_type": "markdown",
   "metadata": {
    "id": "voJ4gR3kHYG7"
   },
   "source": [
    "### 1. (6) 決定係数\n",
    "\n",
    "決定係数（$R^2$）を求めよ"
   ]
  },
  {
   "cell_type": "code",
   "execution_count": 9,
   "metadata": {
    "id": "e7_K9VJnHYG8"
   },
   "outputs": [
    {
     "data": {
      "text/plain": [
       "0.6157635467980295"
      ]
     },
     "execution_count": 9,
     "metadata": {},
     "output_type": "execute_result"
    }
   ],
   "source": [
    "Var = lambda x: ((x-x.mean())**2).mean() \n",
    "calc_R2 = lambda pred_y,y: Var(pred_y)/Var(y)\n",
    "calc_R2(pred_Y, Y)"
   ]
  },
  {
   "cell_type": "code",
   "execution_count": 10,
   "metadata": {},
   "outputs": [
    {
     "data": {
      "text/plain": [
       "0.6157635467980296"
      ]
     },
     "execution_count": 10,
     "metadata": {},
     "output_type": "execute_result"
    }
   ],
   "source": [
    "# myLinerRegression.scoreによる確認\n",
    "myreg.score(X, Y)"
   ]
  },
  {
   "cell_type": "markdown",
   "metadata": {
    "id": "qgew5N8CHYG8"
   },
   "source": [
    "## 2. 重回帰"
   ]
  },
  {
   "cell_type": "markdown",
   "metadata": {
    "id": "JqHBx1KlHYG8"
   },
   "source": [
    "データ$\\mathcal{D}_s$に対して多項式のフィッティングを行いたい．以下の処理を行うプログラムを作成せよ．"
   ]
  },
  {
   "cell_type": "code",
   "execution_count": 11,
   "metadata": {
    "id": "Mhm7DRftHYG8"
   },
   "outputs": [],
   "source": [
    "D = np.array([[1, 3], [3, 6], [6, 5], [8, 7]])"
   ]
  },
  {
   "cell_type": "markdown",
   "metadata": {
    "id": "Iy3dj_YTHYG8"
   },
   "source": [
    "なお，NumPy, SciPy, scikit-learnには回帰分析を行う便利な関数として以下のようなものがあるが，ここでは使わずに講義中で説明した式をプログラムとして表現すること．\n",
    "\n",
    "+ [np.polyfit](https://numpy.org/doc/stable/reference/generated/numpy.polyfit.html), [np.polynomial.polynomial.Polynomial.fit](https://numpy.org/doc/stable/reference/generated/numpy.polynomial.polynomial.Polynomial.fit.html#numpy.polynomial.polynomial.Polynomial.fit)\n",
    "+ [scipy.linalg.lstsq](https://docs.scipy.org/doc/scipy/reference/generated/scipy.linalg.lstsq.html), [scipy.optimize.curve_fit](https://docs.scipy.org/doc/scipy/reference/generated/scipy.optimize.curve_fit.html), [scipy.stats.linregress](https://docs.scipy.org/doc/scipy/reference/generated/scipy.stats.linregress.html)\n",
    "+ [sklearn.linear_model.LinearRegression](https://scikit-learn.org/stable/modules/generated/sklearn.linear_model.LinearRegression.html)"
   ]
  },
  {
   "cell_type": "markdown",
   "metadata": {
    "id": "W1DQGyNdHYG8"
   },
   "source": [
    "### 2. (1) ２次関数による重回帰\n",
    "\n",
    "$y = w_0 + w_1 x + w_2 x^2$とおき，重回帰により平均二乗残差を最小にする$\\pmb{w} = \\begin{pmatrix}\n",
    "w_0 \\\\\n",
    "w_1 \\\\\n",
    "w_2\n",
    "\\end{pmatrix}$を求めよ．"
   ]
  },
  {
   "cell_type": "code",
   "execution_count": 12,
   "metadata": {},
   "outputs": [],
   "source": [
    "def make_ndim_design_matrix(x,n):\n",
    "    X  = np.ones_like(x)\n",
    "    for i in range(1,n+1):\n",
    "        X = np.vstack([X, x**i])\n",
    "    return X.T"
   ]
  },
  {
   "cell_type": "code",
   "execution_count": 13,
   "metadata": {},
   "outputs": [],
   "source": [
    "x = D[:,0]\n",
    "X = make_ndim_design_matrix(x,2)\n",
    "Y = D[:,1]"
   ]
  },
  {
   "cell_type": "code",
   "execution_count": 14,
   "metadata": {
    "id": "yKOpdzymHYG9"
   },
   "outputs": [],
   "source": [
    "# sklearn準拠モデルによる自作単回帰\n",
    "class myMultiLinerRegression(BaseEstimator, RegressorMixin):\n",
    "    def fit(self, X, y):\n",
    "        self.w_ = np.linalg.inv(X.T @ X) @ X.T @ y\n",
    "        return self\n",
    "    def predict(self, X):\n",
    "        return X @ self.w_"
   ]
  },
  {
   "cell_type": "code",
   "execution_count": 15,
   "metadata": {},
   "outputs": [
    {
     "name": "stdout",
     "output_type": "stream",
     "text": [
      "w: [ 2.66034483  0.88103448 -0.05      ]\n"
     ]
    }
   ],
   "source": [
    "mymultireg = myMultiLinerRegression()\n",
    "mymultireg.fit(X,Y)\n",
    "pred_Y = mymultireg.predict(X)\n",
    "print(f'w: {mymultireg.w_}')"
   ]
  },
  {
   "cell_type": "code",
   "execution_count": 16,
   "metadata": {},
   "outputs": [
    {
     "data": {
      "text/plain": [
       "array([ 2.66034483,  0.88103448, -0.05      ])"
      ]
     },
     "execution_count": 16,
     "metadata": {},
     "output_type": "execute_result"
    }
   ],
   "source": [
    "# sklearnの値による確認\n",
    "LinearRegression(fit_intercept=False).fit(X, Y).coef_"
   ]
  },
  {
   "cell_type": "markdown",
   "metadata": {
    "id": "PHwNjW96HYG9"
   },
   "source": [
    "### 2. (2) 回帰曲線の描画\n",
    "\n",
    "回帰で求めた2次関数をデータ点とともにグラフに描け．"
   ]
  },
  {
   "cell_type": "code",
   "execution_count": 17,
   "metadata": {
    "id": "JOCj-1X0HYG9"
   },
   "outputs": [
    {
     "data": {
      "image/png": "[encoded data removed]",
      "text/plain": [
       "<Figure size 432x288 with 1 Axes>"
      ]
     },
     "metadata": {
      "needs_background": "light"
     },
     "output_type": "display_data"
    }
   ],
   "source": [
    "x_pl = np.linspace(0,10,100)\n",
    "X_pl = make_ndim_design_matrix(x_pl,2)\n",
    "\n",
    "plt.plot(x_pl, mymultireg.predict(X_pl), label='pred_Y')\n",
    "plt.scatter(x, Y, label='Y', c='C1')\n",
    "plt.xlabel('X')\n",
    "plt.ylabel('Y')\n",
    "plt.legend()\n",
    "plt.show()"
   ]
  },
  {
   "cell_type": "markdown",
   "metadata": {
    "id": "FIpCGaVrHYG9"
   },
   "source": [
    "### 2. (3) 決定係数\n",
    "\n",
    "回帰で得られた2次関数の決定係数（$R^2$）を求めよ．"
   ]
  },
  {
   "cell_type": "code",
   "execution_count": 18,
   "metadata": {
    "id": "iMv7Cl3DHYG9"
   },
   "outputs": [
    {
     "data": {
      "text/plain": [
       "0.6443349753694654"
      ]
     },
     "execution_count": 18,
     "metadata": {},
     "output_type": "execute_result"
    }
   ],
   "source": [
    "calc_R2(pred_Y, Y)"
   ]
  },
  {
   "cell_type": "code",
   "execution_count": 19,
   "metadata": {},
   "outputs": [
    {
     "data": {
      "text/plain": [
       "0.6443349753694585"
      ]
     },
     "execution_count": 19,
     "metadata": {},
     "output_type": "execute_result"
    }
   ],
   "source": [
    "# myMultiLinerRegression.scoreによる確認\n",
    "mymultireg.score(X, Y)"
   ]
  },
  {
   "cell_type": "markdown",
   "metadata": {
    "id": "V_IA7SQgHYG9"
   },
   "source": [
    "### 2. (4) 3次関数による重回帰\n",
    "\n",
    "$y = w_0 + w_1 x + w_2 x^2 + w_3 x^3$とおき，重回帰により平均二乗残差を最小にする$\\pmb{w} = \\begin{pmatrix}\n",
    "w_0 \\\\\n",
    "w_1 \\\\\n",
    "w_2 \\\\\n",
    "w_3\n",
    "\\end{pmatrix}$を求めよ．"
   ]
  },
  {
   "cell_type": "code",
   "execution_count": 20,
   "metadata": {},
   "outputs": [],
   "source": [
    "x = D[:,0]\n",
    "X = make_ndim_design_matrix(x,3)\n",
    "Y = D[:,1]"
   ]
  },
  {
   "cell_type": "code",
   "execution_count": 21,
   "metadata": {},
   "outputs": [
    {
     "name": "stdout",
     "output_type": "stream",
     "text": [
      "w: [-1.22857143  5.40952381 -1.27142857  0.09047619]\n"
     ]
    }
   ],
   "source": [
    "mymultireg = myMultiLinerRegression()\n",
    "mymultireg.fit(X,Y)\n",
    "pred_Y = mymultireg.predict(X)\n",
    "print(f'w: {mymultireg.w_}')"
   ]
  },
  {
   "cell_type": "code",
   "execution_count": 22,
   "metadata": {},
   "outputs": [
    {
     "data": {
      "text/plain": [
       "array([-1.22857143,  5.40952381, -1.27142857,  0.09047619])"
      ]
     },
     "execution_count": 22,
     "metadata": {},
     "output_type": "execute_result"
    }
   ],
   "source": [
    "# sklearnの値による確認\n",
    "LinearRegression(fit_intercept=False).fit(X, Y).coef_"
   ]
  },
  {
   "cell_type": "markdown",
   "metadata": {
    "id": "HWuq0rQnHYG-"
   },
   "source": [
    "### 2. (5) 回帰曲線の描画\n",
    "\n",
    "回帰で求めた3次関数をデータ点とともにグラフに描け"
   ]
  },
  {
   "cell_type": "code",
   "execution_count": 23,
   "metadata": {
    "id": "Nwqgq_39HYG-"
   },
   "outputs": [
    {
     "data": {
      "image/png": "[encoded data removed]",
      "text/plain": [
       "<Figure size 432x288 with 1 Axes>"
      ]
     },
     "metadata": {
      "needs_background": "light"
     },
     "output_type": "display_data"
    }
   ],
   "source": [
    "x_pl = np.linspace(0,10,100)\n",
    "X_pl = make_ndim_design_matrix(x_pl,3)\n",
    "\n",
    "plt.plot(x_pl, mymultireg.predict(X_pl), label='pred_Y')\n",
    "plt.scatter(x, Y, label='Y', c='C1')\n",
    "plt.xlabel('X')\n",
    "plt.ylabel('Y')\n",
    "plt.legend()\n",
    "plt.show()"
   ]
  },
  {
   "cell_type": "markdown",
   "metadata": {
    "id": "Vxr5liLUHYG-"
   },
   "source": [
    "### 2. (6) 決定係数\n",
    "\n",
    "回帰で求めた3次関数の決定係数（$R^2$）を求めよ"
   ]
  },
  {
   "cell_type": "code",
   "execution_count": 24,
   "metadata": {
    "id": "BNe1OUs2HYG-"
   },
   "outputs": [
    {
     "data": {
      "text/plain": [
       "1.000000000000119"
      ]
     },
     "execution_count": 24,
     "metadata": {},
     "output_type": "execute_result"
    }
   ],
   "source": [
    "# 誤差が乗ってる\n",
    "calc_R2(pred_Y, Y)"
   ]
  },
  {
   "cell_type": "markdown",
   "metadata": {
    "id": "Z3B-So8YHYG-"
   },
   "source": [
    "## 3. モデル選択と正則化"
   ]
  },
  {
   "cell_type": "markdown",
   "metadata": {
    "id": "TDYv3-SNHYG-"
   },
   "source": [
    "### 3. (1) 9次関数によるリッジ回帰\n",
    "\n",
    "例として用いてきた以下の学習データ`X`, `Y`に対してリッジ回帰を行い，回帰曲線をプロットせよ．\n",
    "ただし，正則化のハイパーパラメータは$\\alpha = 10^{-9}, 10^{-6}, 10^{-3}, 1$の4通りを試し，すべての回帰曲線と学習データの各点を一つのグラフ上にプロットせよ．"
   ]
  },
  {
   "cell_type": "code",
   "execution_count": 25,
   "metadata": {
    "id": "u0ClOTweHYG-"
   },
   "outputs": [],
   "source": [
    "x = np.array([ 0.  ,  0.11,  0.25,  0.29,  0.41,  0.42,  0.43,  0.8 ,  0.81, 1.  ])\n",
    "X = make_ndim_design_matrix(x,9)\n",
    "Y = np.array([ 0.04,  0.75,  1.  ,  0.99,  0.31,  0.52,  0.38, -0.99, -1.05, 0.  ])"
   ]
  },
  {
   "cell_type": "markdown",
   "metadata": {
    "id": "Sj1JPQNQHYG-"
   },
   "source": [
    "なお，scikit-learnにはリッジ回帰を行う便利なクラス[sklearn.linear_model.Ridge](https://scikit-learn.org/stable/modules/generated/sklearn.linear_model.Ridge.html)があるが，ここでは使わずに講義中で説明した式をプログラムとして表現すること．"
   ]
  },
  {
   "cell_type": "code",
   "execution_count": 26,
   "metadata": {
    "id": "QY2wIX1LHYG_"
   },
   "outputs": [],
   "source": [
    "# sklearn準拠モデルによる自作単回帰\n",
    "class myRidgeRegression(BaseEstimator, RegressorMixin):\n",
    "    def __init__(self, alpha = 1.0):\n",
    "        self.alpha = alpha\n",
    "    def fit(self, X, y):\n",
    "        self.w_ = np.linalg.inv(X.T @ X + self.alpha*np.eye(X.shape[0])) @ X.T @ y\n",
    "        return self\n",
    "    def predict(self, X):\n",
    "        return X @ self.w_"
   ]
  },
  {
   "cell_type": "code",
   "execution_count": 27,
   "metadata": {
    "scrolled": true
   },
   "outputs": [
    {
     "data": {
      "text/plain": [
       "myRidgeRegression(alpha=1e-09)"
      ]
     },
     "execution_count": 27,
     "metadata": {},
     "output_type": "execute_result"
    }
   ],
   "source": [
    "myridge=myRidgeRegression(alpha=1e-9)\n",
    "myridge.fit(X,Y)"
   ]
  },
  {
   "cell_type": "code",
   "execution_count": 28,
   "metadata": {},
   "outputs": [
    {
     "data": {
      "image/png": "[encoded data removed]",
      "text/plain": [
       "<Figure size 432x288 with 1 Axes>"
      ]
     },
     "metadata": {
      "needs_background": "light"
     },
     "output_type": "display_data"
    }
   ],
   "source": [
    "x_pl = np.linspace(-0.1,1.1,100)\n",
    "X_pl = make_ndim_design_matrix(x_pl,9)\n",
    "\n",
    "alphas=[1e-9, 1e-6, 1e-3, 1]\n",
    "models={}\n",
    "for alpha in alphas:\n",
    "    myridge=myRidgeRegression(alpha=alpha)\n",
    "    myridge.fit(X,Y)\n",
    "    models[alpha]=myridge\n",
    "    plt.plot(x_pl, myridge.predict(X_pl), label=f'alpha={alpha:}', linewidth=1)\n",
    "plt.scatter(x, Y, label='Y', marker='x', c='C4')\n",
    "plt.xlabel('X')\n",
    "plt.ylabel('Y')\n",
    "plt.legend()\n",
    "plt.show()"
   ]
  },
  {
   "cell_type": "markdown",
   "metadata": {
    "id": "AaZ8_9WpHYG_"
   },
   "source": [
    "### 3. (2) パラメータの$L_2$ノルム"
   ]
  },
  {
   "cell_type": "markdown",
   "metadata": {
    "id": "mGcZtPhvHYG_"
   },
   "source": [
    "学習した4つのモデルのパラメータの$L_2$ノルムを計算し，表示せよ．"
   ]
  },
  {
   "cell_type": "code",
   "execution_count": 29,
   "metadata": {
    "id": "UG2BVzStHYG_"
   },
   "outputs": [
    {
     "name": "stdout",
     "output_type": "stream",
     "text": [
      "alpha = 1e-09: |W|_2^2 = 255564.745\n",
      "alpha = 1e-06: |W|_2^2 = 1332.359\n",
      "alpha = 1e-03: |W|_2^2 = 126.332\n",
      "alpha = 1e+00: |W|_2^2 = 0.697\n"
     ]
    }
   ],
   "source": [
    "cal_L2 =  lambda w: w @ w\n",
    "\n",
    "for alpha in alphas:\n",
    "    myridge=models[alpha]\n",
    "    w = myridge.w_\n",
    "    print(f'alpha = {alpha:1.0e}: |W|_2^2 = {cal_L2(w):.3f}')"
   ]
  },
  {
   "cell_type": "markdown",
   "metadata": {
    "id": "jFcXe3YHHYG_"
   },
   "source": [
    "### 3. (3) 検証データに基づく$\\alpha$の選択"
   ]
  },
  {
   "cell_type": "markdown",
   "metadata": {
    "id": "SVsfVtWcHYG_"
   },
   "source": [
    "例として用いてきた以下の検証データ`X_valid`, `Y_valid`に対して，これまでに学習した4つのモデルの平均二乗残差（MSR）を計算し，正則化のハイパーパラメータとして最も汎化性能が高いと考えられるものがどれか，報告せよ．計算結果を示した上で「○○なので$\\alpha = \\dots$のモデルがよい」と回答すれば十分である．"
   ]
  },
  {
   "cell_type": "code",
   "execution_count": 30,
   "metadata": {
    "id": "0iRLfz8FHYG_"
   },
   "outputs": [],
   "source": [
    "x_valid = np.array([ 0.05,  0.08,  0.12,  0.16,  0.28,  0.44,  0.47,  0.55,  0.63,  0.99])\n",
    "X_valid = make_ndim_design_matrix(x_valid,9)\n",
    "Y_valid = np.array([ 0.35,  0.58,  0.68,  0.87,  0.83,  0.45,  0.01, -0.36, -0.83, -0.06])"
   ]
  },
  {
   "cell_type": "code",
   "execution_count": 31,
   "metadata": {
    "id": "vx92Aa6YHYG_"
   },
   "outputs": [
    {
     "name": "stdout",
     "output_type": "stream",
     "text": [
      "alpha = 1e-09: MSE = 0.073\n",
      "alpha = 1e-06: MSE = 0.010\n",
      "alpha = 1e-03: MSE = 0.040\n",
      "alpha = 1e+00: MSE = 0.170\n"
     ]
    }
   ],
   "source": [
    "cal_MSE =  lambda pred_y, y: np.mean((pred_y-y)**2)\n",
    "for alpha in alphas:\n",
    "    myridge = models[alpha]\n",
    "    pred_Y = myridge.predict(X_valid)\n",
    "    print(f'alpha = {alpha:1.0e}: MSE = {cal_MSE(pred_Y, Y_valid):.3f}')"
   ]
  },
  {
   "cell_type": "markdown",
   "metadata": {},
   "source": [
    "ここで，検証データについて$\\mathrm{MSE}=0.01$が最小なので$\\alpha=10^{-6}$のときのモデルが良い"
   ]
  },
  {
   "cell_type": "markdown",
   "metadata": {
    "id": "cdqFSXYiHYG_"
   },
   "source": [
    "## 4. 勾配法"
   ]
  },
  {
   "cell_type": "markdown",
   "metadata": {
    "id": "pAmBodK1HYHA"
   },
   "source": [
    "以下のデータ$\\mathcal{D}_s$について，確率的勾配降下法で単回帰を行い，パラメータを推定せよ．ここでも、便利なモジュール等は使わずに、講義中で説明した式・アルゴリズムをプログラムとして表現すること．"
   ]
  },
  {
   "cell_type": "code",
   "execution_count": 32,
   "metadata": {
    "id": "68IUZqN9HYHA"
   },
   "outputs": [],
   "source": [
    "D = np.array([[1, 3], [3, 6], [6, 5], [8, 7]])\n",
    "x = D[:,0]\n",
    "X = make_ndim_design_matrix(x,1)\n",
    "Y = D[:,1]"
   ]
  },
  {
   "cell_type": "code",
   "execution_count": 33,
   "metadata": {},
   "outputs": [],
   "source": [
    "# sklearn準拠モデルによる自作単回帰\n",
    "class mySGDRegression(BaseEstimator, RegressorMixin):\n",
    "    def __init__(self, eta = 1.0, max_iter = 1000):\n",
    "        self.eta = eta\n",
    "        self.max_iter = max_iter\n",
    "    def fit(self, X, y):\n",
    "        delta_l = lambda x,y,w: 2 * (x @ w - y) * x.T\n",
    "        s,n = X.shape\n",
    "        w = np.ones(n)\n",
    "        for i in range(self.max_iter):\n",
    "            idx_rand = np.random.randint(s)\n",
    "            x_rand = X[idx_rand]\n",
    "            y_rand = Y[idx_rand]\n",
    "            w = w - self.eta * delta_l(x_rand, y_rand, w)\n",
    "        self.w_ = w\n",
    "        return self\n",
    "    def predict(self, X):\n",
    "        return X @ self.w_"
   ]
  },
  {
   "cell_type": "code",
   "execution_count": 34,
   "metadata": {
    "scrolled": false
   },
   "outputs": [
    {
     "name": "stdout",
     "output_type": "stream",
     "text": [
      "w: [3.3119723  0.47712324]\n"
     ]
    }
   ],
   "source": [
    "mysgdreg=mySGDRegression(eta = 1e-3, max_iter=10000)\n",
    "mysgdreg.fit(X,Y)\n",
    "pred_Y = mysgdreg.predict(X)\n",
    "print(f'w: {mysgdreg.w_}')"
   ]
  },
  {
   "cell_type": "code",
   "execution_count": 35,
   "metadata": {},
   "outputs": [
    {
     "data": {
      "image/png": "[encoded data removed]",
      "text/plain": [
       "<Figure size 432x288 with 1 Axes>"
      ]
     },
     "metadata": {
      "needs_background": "light"
     },
     "output_type": "display_data"
    }
   ],
   "source": [
    "x_pl = np.linspace(0,10,100)\n",
    "X_pl = make_ndim_design_matrix(x_pl,1)\n",
    "\n",
    "plt.plot(x_pl, mysgdreg.predict(X_pl), label='pred_Y')\n",
    "plt.scatter(x, Y, label='Y', marker='x', c='C1')\n",
    "plt.xlabel('X')\n",
    "plt.ylabel('Y')\n",
    "plt.legend()\n",
    "plt.show()"
   ]
  }
 ],
 "metadata": {
  "colab": {
   "collapsed_sections": [],
   "name": "regression_exercise.ipynb",
   "provenance": []
  },
  "kernelspec": {
   "display_name": "Python 3",
   "language": "python",
   "name": "python3"
  },
  "language_info": {
   "codemirror_mode": {
    "name": "ipython",
    "version": 3
   },
   "file_extension": ".py",
   "mimetype": "text/x-python",
   "name": "python",
   "nbconvert_exporter": "python",
   "pygments_lexer": "ipython3",
   "version": "3.8.3"
  }
 },
 "nbformat": 4,
 "nbformat_minor": 1
}
